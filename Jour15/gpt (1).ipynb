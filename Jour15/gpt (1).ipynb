{
 "cells": [
  {
   "cell_type": "markdown",
   "id": "b076bd1a-b236-4fbc-953d-8295b25122ae",
   "metadata": {},
   "source": [
    "# Créer son propre modèle ChatGPT"
   ]
  },
  {
   "cell_type": "markdown",
   "id": "4dca6836-0007-43f3-af65-d12ae1922c02",
   "metadata": {
    "tags": []
   },
   "source": [
    "Ce code est disponible dans le repo du livre Generative Deep Learning de David Foster disponible [ici](https://github.com/davidADSP/Generative_Deep_Learning_2nd_Edition/blob/main/notebooks/09_transformer/gpt/gpt.ipynb)\n",
    "\n",
    "\n",
    "Vous pouvez également avoir un code disponible [ici](https://keras.io/examples/generative/text_generation_with_miniature_gpt/)"
   ]
  },
  {
   "cell_type": "markdown",
   "id": "eea03ee7",
   "metadata": {},
   "source": [
    "# Générateur de Descriptions de Vin 🍷\n",
    "\n",
    "\n",
    "\n",
    "## Objectif 🎯\n",
    "\n",
    "- Concevoir et entraîner un modèle d'intelligence artificielle pour générer des descriptions de vin qui capturent l'essence, les arômes, les saveurs et le caractère unique de chaque bouteille.\n",
    "\n",
    "## Données 📊\n",
    "\n",
    "- Source : - Source : [winemag-data-130k-v2.json sur Kaggle](https://www.kaggle.com/zynicide/wine-reviews)\n",
    "\n",
    "- Plus de 130 000 avis sur les vins collectés par *Wine Magazine*.\n",
    "- Chaque entrée contient des informations telles que le pays, la désignation, le prix, la variété et, le plus important pour notre projet, une description détaillée du vin.\n",
    "\n",
    "## Méthodologie ⚙️\n",
    "\n",
    "1. **Nettoyage des données** : Élimination des doublons, traitement des valeurs manquantes, et préparation des descriptions pour l'entraînement.\n",
    "2. **Entraînement du modèle Transformer** : Utilisation d'une architecture Transformer pour apprendre les nuances des descriptions de vin et générer de nouvelles descriptions.\n",
    "\n"
   ]
  },
  {
   "cell_type": "code",
   "execution_count": 41,
   "id": "73350761-bef2-4e96-b3ac-a158eabd2b65",
   "metadata": {
    "tags": []
   },
   "outputs": [
    {
     "name": "stdout",
     "output_type": "stream",
     "text": [
      "The autoreload extension is already loaded. To reload it, use:\n",
      "  %reload_ext autoreload\n"
     ]
    }
   ],
   "source": [
    "%load_ext autoreload\n",
    "%autoreload 2\n",
    "import numpy as np\n",
    "import json\n",
    "import re\n",
    "import string\n",
    "from IPython.display import display, HTML\n",
    "\n",
    "import tensorflow as tf\n",
    "from tensorflow.keras import layers, models, losses, callbacks"
   ]
  },
  {
   "cell_type": "markdown",
   "id": "339e6268-ebd7-4feb-86db-1fe7abccdbe5",
   "metadata": {},
   "source": [
    "## 0. Paramètres du projet <a name=\"parameters\"></a>"
   ]
  },
  {
   "cell_type": "code",
   "execution_count": 2,
   "id": "2d8352af-343e-4c2e-8c91-95f8bac1c8a1",
   "metadata": {},
   "outputs": [],
   "source": [
    "# Taille du vocabulaire utilisé pour le modèle (nombre de mots uniques pris en compte)\n",
    "VOCAB_SIZE = 10000\n",
    "\n",
    "# Longueur maximale des séquences traitées par le modèle\n",
    "MAX_LEN = 80\n",
    "\n",
    "# Dimension de l'embedding des mots (représentation vectorielle des mots)\n",
    "EMBEDDING_DIM = 256\n",
    "\n",
    "# Dimension des clés pour l'attention multi-têtes\n",
    "KEY_DIM = 256\n",
    "\n",
    "# Nombre de \"têtes\" dans l'attention multi-têtes\n",
    "N_HEADS = 2\n",
    "\n",
    "# Dimension du réseau feed-forward dans le Transformer\n",
    "FEED_FORWARD_DIM = 256\n",
    "\n",
    "# Fraction des données utilisée pour la validation pendant l'entraînement\n",
    "VALIDATION_SPLIT = 0.2\n",
    "\n",
    "# Graine aléatoire pour la reproductibilité\n",
    "SEED = 42\n",
    "\n",
    "# Si True, charge un modèle pré-entraîné au lieu de former un nouveau modèle\n",
    "LOAD_MODEL = True\n",
    "\n",
    "# Taille des lots utilisés pendant l'entraînement\n",
    "BATCH_SIZE = 32\n",
    "\n",
    "# Nombre de cycles complets de passage sur l'ensemble de données pendant l'entraînement\n",
    "EPOCHS = 5\n"
   ]
  },
  {
   "cell_type": "markdown",
   "id": "b7716fac-0010-49b0-b98e-53be2259edde",
   "metadata": {},
   "source": [
    "## 1. Load the data <a name=\"load\"></a>"
   ]
  },
  {
   "cell_type": "code",
   "execution_count": 42,
   "id": "93cf6b0f-9667-4146-8911-763a8a2925d3",
   "metadata": {
    "tags": []
   },
   "outputs": [],
   "source": [
    "# Charger l'ensemble de données complet\n",
    "with open(\"winemag-data-130k-v2.json\") as json_data:\n",
    "    wine_data = json.load(json_data)\n"
   ]
  },
  {
   "cell_type": "code",
   "execution_count": 44,
   "id": "2db5c0fc-0d5f-42ab-ade1-57e594c416ec",
   "metadata": {
    "tags": []
   },
   "outputs": [
    {
     "data": {
      "text/plain": [
       "{'points': '87',\n",
       " 'title': 'Kirkland Signature 2011 Mountain Cuvée Cabernet Sauvignon (Napa Valley)',\n",
       " 'description': 'Soft, supple plum envelopes an oaky structure in this Cabernet, supported by 15% Merlot. Coffee and chocolate complete the picture, finishing strong at the end, resulting in a value-priced wine of attractive flavor and immediate accessibility.',\n",
       " 'taster_name': 'Virginie Boone',\n",
       " 'taster_twitter_handle': '@vboone',\n",
       " 'price': 19,\n",
       " 'designation': 'Mountain Cuvée',\n",
       " 'variety': 'Cabernet Sauvignon',\n",
       " 'region_1': 'Napa Valley',\n",
       " 'region_2': 'Napa',\n",
       " 'province': 'California',\n",
       " 'country': 'US',\n",
       " 'winery': 'Kirkland Signature'}"
      ]
     },
     "execution_count": 44,
     "metadata": {},
     "output_type": "execute_result"
    }
   ],
   "source": [
    "wine_data[10]"
   ]
  },
  {
   "cell_type": "code",
   "execution_count": 45,
   "id": "23a74eca-f1b7-4a46-9a1f-b5806a4ed361",
   "metadata": {
    "tags": []
   },
   "outputs": [],
   "source": [
    "# Filtrer l'ensemble de données\n",
    "filtered_data = [\n",
    "    \"wine review : \"\n",
    "    + x[\"country\"]\n",
    "    + \" : \"\n",
    "    + x[\"province\"]\n",
    "    + \" : \"\n",
    "    + x[\"variety\"]\n",
    "    + \" : \"\n",
    "    + x[\"description\"]\n",
    "    for x in wine_data\n",
    "    if x[\"country\"] is not None\n",
    "    and x[\"province\"] is not None\n",
    "    and x[\"variety\"] is not None\n",
    "    and x[\"description\"] is not None\n",
    "]"
   ]
  },
  {
   "cell_type": "code",
   "execution_count": 6,
   "id": "c819f285",
   "metadata": {},
   "outputs": [
    {
     "data": {
      "text/plain": [
       "[\"wine review : Italy : Sicily & Sardinia : White Blend : Aromas include tropical fruit, broom, brimstone and dried herb. The palate isn't overly expressive, offering unripened apple, citrus and dried sage alongside brisk acidity.\",\n",
       " \"wine review : Portugal : Douro : Portuguese Red : This is ripe and fruity, a wine that is smooth while still structured. Firm tannins are filled out with juicy red berry fruits and freshened with acidity. It's  already drinkable, although it will certainly be better from 2016.\",\n",
       " 'wine review : US : Oregon : Pinot Gris : Tart and snappy, the flavors of lime flesh and rind dominate. Some green pineapple pokes through, with crisp acidity underscoring the flavors. The wine was all stainless-steel fermented.',\n",
       " 'wine review : US : Michigan : Riesling : Pineapple rind, lemon pith and orange blossom start off the aromas. The palate is a bit more opulent, with notes of honey-drizzled guava and mango giving way to a slightly astringent, semidry finish.',\n",
       " \"wine review : US : Oregon : Pinot Noir : Much like the regular bottling from 2012, this comes across as rather rough and tannic, with rustic, earthy, herbal characteristics. Nonetheless, if you think of it as a pleasantly unfussy country wine, it's a good companion to a hearty winter stew.\",\n",
       " 'wine review : Spain : Northern Spain : Tempranillo-Merlot : Blackberry and raspberry aromas show a typical Navarran whiff of green herbs and, in this case, horseradish. In the mouth, this is fairly full bodied, with tomatoey acidity. Spicy, herbal flavors complement dark plum fruit, while the finish is fresh but grabby.',\n",
       " \"wine review : Italy : Sicily & Sardinia : Frappato : Here's a bright, informal red that opens with aromas of candied berry, white pepper and savory herb that carry over to the palate. It's balanced with fresh acidity and soft tannins.\",\n",
       " \"wine review : France : Alsace : Gewürztraminer : This dry and restrained wine offers spice in profusion. Balanced with acidity and a firm texture, it's very much for food.\",\n",
       " \"wine review : Germany : Rheinhessen : Gewürztraminer : Savory dried thyme notes accent sunnier flavors of preserved peach in this brisk, off-dry wine. It's fruity and fresh, with an elegant, sprightly footprint.\",\n",
       " \"wine review : France : Alsace : Pinot Gris : This has great depth of flavor with its fresh apple and pear fruits and touch of spice. It's off dry while balanced with acidity and a crisp texture. Drink now.\",\n",
       " 'wine review : US : California : Cabernet Sauvignon : Soft, supple plum envelopes an oaky structure in this Cabernet, supported by 15% Merlot. Coffee and chocolate complete the picture, finishing strong at the end, resulting in a value-priced wine of attractive flavor and immediate accessibility.',\n",
       " \"wine review : France : Alsace : Gewürztraminer : This is a dry wine, very spicy, with a tight, taut texture and strongly mineral character layered with citrus as well as pepper. It's a food wine with its almost crisp aftertaste.\",\n",
       " 'wine review : US : California : Cabernet Sauvignon : Slightly reduced, this wine offers a chalky, tannic backbone to an otherwise juicy explosion of rich black cherry, the whole accented throughout by firm oak and cigar box.',\n",
       " 'wine review : Italy : Sicily & Sardinia : Nerello Mascalese : This is dominated by oak and oak-driven aromas that include roasted coffee bean, espresso, coconut and vanilla that carry over to the palate, together with plum and chocolate. Astringent, drying tannins give it a rather abrupt finish.',\n",
       " 'wine review : US : California : Chardonnay : Building on 150 years and six generations of winemaking tradition, the winery trends toward a leaner style, with the classic California buttercream aroma cut by tart green apple. In this good everyday sipping wine, flavors that range from pear to barely ripe pineapple prove approachable but not distinctive.',\n",
       " \"wine review : Germany : Mosel : Riesling : Zesty orange peels and apple notes abound in this sprightly, mineral-toned Riesling. Off dry on the palate, yet racy and lean, it's a refreshing, easy quaffer with wide appeal.\",\n",
       " \"wine review : Argentina : Other : Malbec : Baked plum, molasses, balsamic vinegar and cheesy oak aromas feed into a palate that's braced by a bolt of acidity. A compact set of saucy red-berry and plum flavors features tobacco and peppery accents, while the finish is mildly green in flavor, with respectable weight and balance.\",\n",
       " 'wine review : Argentina : Mendoza Province : Malbec : Raw black-cherry aromas are direct and simple but good. This has a juicy feel that thickens over time, with oak character and extract becoming more apparent. A flavor profile driven by dark-berry fruits and smoldering oak finishes meaty but hot.',\n",
       " 'wine review : Spain : Northern Spain : Tempranillo Blend : Desiccated blackberry, leather, charred wood and mint aromas carry the nose on this full-bodied, tannic, heavily oaked Tinto Fino. Flavors of clove and woodspice sit on top of blackberry fruit, then hickory and other forceful oak-based aromas rise up and dominate the finish.',\n",
       " 'wine review : US : Virginia : Meritage : Red fruit aromas pervade on the nose, with cigar box and menthol notes riding in the back. The palate is slightly restrained on entry, but opens up to riper notes of cherry and plum specked with crushed pepper. This blend of Merlot, Cabernet Sauvignon and Cabernet Franc is approachable now and ready to be enjoyed.',\n",
       " 'wine review : US : Virginia : Red Blend : Ripe aromas of dark berries mingle with ample notes of black pepper, toasted vanilla and dusty tobacco. The palate is oak-driven in nature, but notes of tart red currant shine through, offering a bit of levity.',\n",
       " 'wine review : US : Oregon : Pinot Noir : A sleek mix of tart berry, stem and herb, along with a hint of oak and chocolate, this is a fair value in a widely available, drink-now Oregon Pinot. The wine oak-aged for six months, whether in neutral or re-staved is not indicated.',\n",
       " 'wine review : Italy : Sicily & Sardinia : White Blend : Delicate aromas recall white flower and citrus. The palate offers passion fruit, lime and white peach with a hint of mineral alongside bright acidity.',\n",
       " 'wine review : US : California : Merlot : This wine from the Geneseo district offers aromas of sour plums and just enough cigar box to tempt the nose. The flavors are a bit flat at first, then the acidity and tension of sour cherries emerges in the midpalate, bolstered by some black licorice.',\n",
       " \"wine review : Italy : Sicily & Sardinia : Nero d'Avola : Aromas of prune, blackcurrant, toast and oak carry through to the extracted palate, along with flavors of black cherry and roasted coffee beans. Firm but drying tannins provide the framework.\",\n",
       " 'wine review : US : California : Pinot Noir : Oak and earth intermingle around robust aromas of wet forest floor in this vineyard-designated Pinot that hails from a high-elevation site. Small in production, it offers intense, full-bodied raspberry and blackberry steeped in smoky spice and smooth texture.',\n",
       " 'wine review : Italy : Sicily & Sardinia : White Blend : Pretty aromas of yellow flower and stone fruit lead the nose. The bright palate offers yellow apple, apricot, vanilla and delicate notes of lightly toasted oak alongside crisp acidity.',\n",
       " \"wine review : Italy : Sicily & Sardinia : Nero d'Avola : Aromas recall ripe dark berry, toast and a whiff of cake spice. The soft, informal palate offers sour cherry, vanilla and a hint of espresso alongside round tannins. Drink soon.\",\n",
       " 'wine review : Italy : Sicily & Sardinia : Red Blend : Aromas suggest mature berry, scorched earth, animal, toast and anise. The palate offers ripe black berry, oak, espresso, cocoa and vanilla alongside dusty tannins.',\n",
       " 'wine review : US : California : Chenin Blanc : Clarksburg is becoming a haven for Chenin Blanc in California. This bottling, using fruit sourced from several vineyards in the area, is balanced with just a trace of sweetness in the background (1% residual sugar). This is crisp, straightforward and blessed with notes of pear and lime. Drink it cold.',\n",
       " 'wine review : France : Beaujolais : Gamay : Red cherry fruit comes laced with light tannins, giving this bright wine an open, juicy character.',\n",
       " \"wine review : Italy : Sicily & Sardinia : Red Blend : Merlot and Nero d'Avola form the base for this easy red wine that would pair with fettuccine and meat sauce or pork roast. The quality of the fruit is clean, bright and sharp.\",\n",
       " 'wine review : Italy : Sicily & Sardinia : White Blend : Part of the extended Calanìca series, this Grillo-Viognier blend shows aromas of honeysuckle and jasmine, backed by touches of cut grass and wild sage. In the mouth, it shows ripe yellow-fruit flavors.',\n",
       " 'wine review : US : California : Red Blend : Rustic and dry, this has flavors of berries, currants, licorice and spices. Made from Cabernet Franc and Cabernet Sauvignon.',\n",
       " 'wine review : US : California : Sauvignon Blanc : This shows a tart, green gooseberry flavor that is similar to New Zealand Sauvignon Blanc. Other notes include tropical fruit, orange and honey. Unoaked, with a splash of Muscat, this has commendable dryness and acidity.',\n",
       " 'wine review : US : Oregon : Pinot Noir : As with many of the Erath 2010 vineyard designates, this is strongly herbal. The notes of leaf and herb create somewhat unripe flavor impressions, with a touch of bitterness on the finish. The fruit just passes the ripeness of sweet tomatoes.',\n",
       " 'wine review : Chile : Colchagua Valley : Viognier-Chardonnay : White flower, lychee and apple aromas carry the mellow bouquet. The chunky-feeling palate bears powdery, sweet flavors of peach and melon, mixed with greener notes of grass and lime. The 80% Viognier component is typical of the warm climate: plump and oily, with a short finish. Chardonnay fills out the blend.',\n",
       " 'wine review : Italy : Sicily & Sardinia : Cabernet Sauvignon : This concentrated Cabernet offers aromas of cured meat, dried fruit and rosemary. Barbecue spice and teriyaki sauce flavors give the wine a bold, chewy feel.',\n",
       " 'wine review : Italy : Southern Italy : Primitivo : Inky in color, this wine has plump aromas of ripe fruit, blackberry jam and rum cake. On the palate, it is soft and smooth.',\n",
       " \"wine review : Italy : Sicily & Sardinia : Nero d'Avola : Part of the natural wine movement, this wine is made from organic grapes, and the label is printed with vegetable ink on recycled paper. The quality of fruit is very nice, with a juicy palate and a bright berry flavor on the finish.\",\n",
       " \"wine review : Italy : Sicily & Sardinia : Catarratto : Catarratto is one of Sicily's most widely farmed white grape varieties. This expression shows a mineral note, backed by citrus and almond blossom touches.\",\n",
       " \"wine review : US : Oregon : Pinot Noir : A stiff, tannic wine, this slowly opens and brings brambly berry flavors into play, along with notes of earthy herbs. There's a touch of bitterness to the tannins.\",\n",
       " 'wine review : France : Beaujolais : Gamay : This is a festive wine, with soft, ripe fruit and acidity, plus a red berry flavor.',\n",
       " \"wine review : US : California : Sauvignon Blanc : The clean, brisk mouthfeel gives this slightly oaked Sauvignon Blanc instant likeability. It's dry with a rich streak of honey that sweetens the citrus, pear and tropical fruit flavors. Pair this with Asian fare, ham or a green salad with grapefruit sections.\",\n",
       " 'wine review : Chile : Maule Valley : Merlot : A berry aroma comes with cola and herb notes. The palate is tangy and racy, and it delivers raspberry and plum flavors, with a modest finish.',\n",
       " 'wine review : US : Virginia : Red Blend : Right out of the starting blocks this is an oaky wine, dripping with caramel and vanilla notes. The texture on the midpalate is finessed and graceful, with drying tannins that latch onto the oak-driven finish. An eccentric blend of 50% Tannat, 35% Petit Verdot and 15% Pinotage.',\n",
       " 'wine review : Italy : Sicily & Sardinia : Inzolia : Spicy, fresh and clean, this would pair with fried seafood or spaghetti con vongole. It offers pretty citrus tones followed by a drying mineral nuance.',\n",
       " 'wine review : US : California : Riesling : This is a sweet wine with flavors of white sugar, orange, honey and vanilla, all brightened by crisp acidity.',\n",
       " 'wine review : US : Virginia : Sauvignon Blanc : This bottling resembles the New Zealand paradigm of Sauvignon Blanc, bearing aromas of grapefruit, passion fruit and kiwi; a sprinkling of graham cracker adds interest. The wine hits the palate like a fleshy fist, with an intense, grassy gooseberry flavor that provides plenty of punch. Pair with apricot-glazed roasted chicken.',\n",
       " \"wine review : France : Beaujolais : Gamay : Soft and fruity, this is a generous, ripe wine that's full of juicy red-cherry fruits and gentle tannins. It has some richness, giving a sweet character to this open, ready-to-drink wine.\",\n",
       " \"wine review : Italy : Sicily & Sardinia : Red Blend : This blend of Nero d'Avola and Syrah opens with savory aromas of cured meat, dried berry, cassis, tobacco and wet earth. There's a touch of almond bitterness on the finish.\",\n",
       " \"wine review : Chile : Colchagua Valley : Petit Verdot : This is much different than Casa Silva's 2009 Petit Verdot, which was tasted in the same flight. The '08 is more hard, spicy and tarry, with a leafy, herbal aroma, plus some grittiness. The palate feels snappy, with a can't-miss saltiness. The finish is long in length but short on fruit, with a raw feel.\",\n",
       " 'wine review : Italy : Sicily & Sardinia : Monica : The Monica grape often shows a rustic or raw quality, with aromas of cherry cola, black pepper and sour fruit. This expression does just that, with an added touch of bright acidity on the finish.',\n",
       " 'wine review : France : Bordeaux : Bordeaux-style White Blend : Fruity and lightly herbaceous, this has fine textured acidity along with a pink grapefruit flavor. The wine is bright and easy, and it will be ready to drink in a few months.',\n",
       " \"wine review : Italy : Sicily & Sardinia : Red Blend : A blend of Nero d'Avola and Nerello Mascalese, this delivers forest berry and cola, with blue flower and dusty mineral accents. The palate is easy, bright and lean.\",\n",
       " \"wine review : US : California : Chardonnay : This shows jelly-like flavors of orange and pear, with some earthy tones. The mouthfeel is soft and there's a bounty of oak in the form of buttered toast and caramel notes.\",\n",
       " 'wine review : US : California : Chardonnay : This is weighty, creamy and medium to full in body. It has plenty of lime and pear flavors, plus slight brown sugar and vanilla notes.',\n",
       " \"wine review : Italy : Sicily & Sardinia : Grillo : There's a touch of toasted almond at the start, but then this Grillo revs up in the glass to deliver notes of citrus, stone fruit, crushed stone and lemon tart. The mouthfeel is crisp and simple.\",\n",
       " 'wine review : Chile : Maipo Valley : Pinot Noir : Lightly herbal strawberry and raspberry aromas are authentic and fresh. On the palate, this is light and juicy, with snappy, lean flavors of red fruit and dry spice. The finish is dry and oaky.',\n",
       " 'wine review : US : Washington : Malbec : Aromas of cranberry, barrel spice and herb are followed by tart cranberry flavors with grainy tannins. It falls a bit flat and the variety seems hard to discern.',\n",
       " 'wine review : US : California : Cabernet Sauvignon : Syrupy and dense, this wine is jammy in plum and vanilla, with indeterminate structure and plenty of oak. Ripe and full-bodied, it has accents of graphite and leather.',\n",
       " 'wine review : Italy : Central Italy : Sangiovese : This densely hued wine has aromas of black plum and vanilla that carry over to the simple palate along with a touch of cedar. Pliant tannins give it an easygoing nature. Drink soon.',\n",
       " 'wine review : US : Washington : Cabernet Franc : The aromas are brooding, with notes of barrel spice and cherry. The flavors are tart and elegant in style, with lightly gritty tannins backing them up. Best suited to the dinner table.',\n",
       " \"wine review : France : Champagne : Champagne Blend : This fat, yeasty Champagne is comprised predominantly of Pinot Noir. It has ripe red berry fruit, light acidity and a soft, creamy aftertaste. It's ready to drink.\",\n",
       " 'wine review : US : California : Sauvignon Blanc : There are intriguing touches to the nose of this bottling, with jasmine, sea salt, wet hay, quinine and rainy sidewalk. The structure on the sip is quite delicate, with golden apple and honey flavors.',\n",
       " \"wine review : France : Burgundy : Chardonnay : From the warm 2015 vintage, this is a soft and fruity wine. It's open with broad white fruit flavors, the acidity lighter than usual for Chablis, giving it a particularly ripe character. Drink now.\",\n",
       " \"wine review : France : Burgundy : Chardonnay : This soft, rounded wine is ripe with generous pear and melon flavors. It's easy and ready to drink young for its smooth, attractively ripe character.\",\n",
       " 'wine review : US : Washington : Bordeaux-style Red Blend : A blend of Merlot and Cabernet Franc, this wine brings disjointed lightly volatile aromas of wood spice, vanilla and cherry. The plump cherry flavors are rounded out by woody barrel notes.',\n",
       " \"wine review : US : California : Red Blend : Very deep in color and spicy-smoky in flavor, this full-bodied wine is packed with dark-fruit flavors like blackberry and blueberry. Aromas like grilled beef and spicy flavors like cardamom and smoke give it a bold character that's hard to deny.\",\n",
       " 'wine review : France : Champagne : Champagne Blend : This cooperative, based in Aÿ, has benefited from the fine Pinot Noir in the village to produce a ripe red fruited wine. With balanced acidity and a soft aftertaste, it is ready to drink.',\n",
       " 'wine review : US : Washington : Chardonnay : Aromas of vanilla, char and toast lead to light creamy stone fruit and canned-corn flavors. It provides appeal but the oak seems overweighted.',\n",
       " \"wine review : US : California : Cabernet Sauvignon : Big oak defines this robustly dense and extracted red, swimming in vanilla and cherry flavor. Full-bodied and gravelly in texture, it's a rustically pleasant wine for pizza nights and crowds.\",\n",
       " 'wine review : Italy : Southern Italy : Aglianico : Aromas of black-skinned fruit, leather, underbrush, game and a briny note all carry over to the lean, somewhat disjointed palate along with suggestions of licorice and raw red cherry. Grainy tannins leave a drying finish.',\n",
       " \"wine review : US : California : Cabernet Sauvignon : Juicy plum, raspberry and pencil lead lead the way in this vineyard designate, a site that's 2,000 feet high. Tobacco and cedar meet a full-bodied hit of oak and puckering tannin, the wine still youthfully wrapped in its full-bodied boldness.\",\n",
       " \"wine review : US : California : Petite Sirah : This is the producer's first release of this wine. Fruity aromas of plum and tart cranberry add to its overall sense of lightness and understatement.\",\n",
       " 'wine review : US : California : Bordeaux-style Red Blend : This is made from equal parts Cabernet Franc and Merlot, with small additions of Malbec. Juicy, it reveals a raisiny quality of ripeness around integrated oak and generous tannin.',\n",
       " \"wine review : Germany : Rheinhessen : Riesling : Earthy pollen and mineral notes lend a savory tone to this medium-sweet Riesling. It's soft and slightly pulpy, intensified by overripe tangerine and stone fruit flavors. Drink now through 2018.\",\n",
       " 'wine review : Australia : South Australia : Chardonnay : This medium-bodied Chardonnay features aromas of pineapple and roasted cashew. Similar notes of ripe pineapple and nuts mark the palate, then ease to a rather soft, easy finish. Drink now.',\n",
       " \"wine review : US : Oregon : Pinot Noir : Some rosés are made simply by bleeding the juice from the fermenter, to concentrate the remaining wine. Whether or not that is the case here, the wine has the simple pleasant lightly candied strawberry flavors one might expect from such a technique. It's fruity and undemanding. Drink up.\",\n",
       " 'wine review : Portugal : Tejo : Touriga Nacional : Grown on the sandy soil of Tejo, the wine is typically soft and open. It is very accessible—with black fruits and light tannins for this grape. It is ready to drink.',\n",
       " 'wine review : Chile : Rapel Valley : Carmenère : Caramelized oak and vanilla aromas are front and center on a barrel-heavy nose. This feels a bit choppy, with astringent tannins. Herbal salty plum flavors wear a lot of oaky makeup, while this finishes with a forced woody flavor.',\n",
       " 'wine review : Spain : Galicia : Albariño : Bland, mature aromas of white fruits are on the weak side for Albariño. This feels round and oily, while briny leesy flavors lack pop and precision. A grabby aged finish is short on the free flow that this grape and region are known for. Drink immediately or wait for a newer vintage.',\n",
       " \"wine review : France : France Other : Petit Manseng : This fruity, sweet wine is immediately attractive and ripe. With its great apricot and pineapple fruit, hints of spicy wood and balancing acidity, it's perfect as an apéritif—light and refreshing. Drink now.\",\n",
       " \"wine review : Australia : South Australia : Rosé : Pale copper in hue, this wine exudes passion fruit on the nose, while the palate delivers nuances of muskmelon as well. It's crisp, racy and medium in body, perfectly suited to summertime refreshment. Drink now.\",\n",
       " 'wine review : US : California : Zinfandel : A healthy addition of 13% Petite Sirah provides added weight and intensity to this wine, a soft, supple and richly conceived combination of smoky black fruit and mocha.',\n",
       " 'wine review : Germany : Rheinhessen : Riesling : Pronounced dust, pollen and earth tones lend savoriness to this otherwise citrusy wine. Racy acidity and fresh tangerine and lemon flavors turn herbal on the finish. Drink now.',\n",
       " 'wine review : US : Washington : Albariño : Vibrant aromas of ripe pear, white flowers and melon are followed by a just off-dry palate, with lean fruit flavors.',\n",
       " 'wine review : US : California : Merlot : Softened tannins surround a light-bodied, lean and herbal approach to this vineyard-designate, dotted in black pepper, leather and baked cherry.',\n",
       " \"wine review : Italy : Tuscany : Vernaccia : Subdued aromas of French oak, toast and acacia waft out of the glass. The rather lean palate offers oak-driven spice, chopped herb and a hint of citrus set against racy acidity. It's rather shy on fruit richness.\",\n",
       " 'wine review : Italy : Tuscany : Rosato : Made primarily from Sangiovese, with some Malvasia and other white grapes, this offers aromas of red berry and a yeasty whiff of bread dough. The bright, enjoyable palate offers ripe cherry and hint of pastry cream while a note of honeydew melon marks the close.',\n",
       " \"wine review : US : California : Red Blend : This blend of Sangiovese, Malbec, Cabernet Sauvignon, Petite Sirah and other varieties plays well to type. It shows a wealth of ripe, dusty black fruit that's richly round and soft on the palate, approachable and lightly oaked.\",\n",
       " 'wine review : US : California : Pinot Gris : This wine has a touch of perceptible sweetness on its tropical nose, yet tastes dry, showing a straightforward approach to this crisp, coastal-grown variety. Apricot, melon and guava wrap around a lightness of body and texture.',\n",
       " \"wine review : US : California : Meritage : All red Bordeaux varieties are represented in this blend, except for Petit Verdot. Together, they offer a simple tannic structure that strengthens a chewiness of leather, tobacco and a touch of cedar. Full bodied, it's a ripe, bold and brawny wine.\",\n",
       " 'wine review : Austria : Burgenland : Grüner Veltliner : Freshness characterizes the nose: green pear, ivy leaves and citrus notes play on nose and palate. This is light footed, easy drinking and charming. Drink soon while flavors are fresh.',\n",
       " 'wine review : US : Washington : Viognier : Barrel notes are prominent, with aromas of Creamsicle and baking spice. The palate is broad and dry with stone-fruit and barrel flavors. It provides intrigue but the wood seems to get in the way at times.',\n",
       " 'wine review : France : Beaujolais : Gamay : This is a dense wine, packed with both tannins and acidity. It brings out the ageworthiness of this appellation with its rich potential and dark mineral texture. Drink this concentrated cru wine from 2018.',\n",
       " 'wine review : France : Beaujolais : Gamay : The wine comes from one of the cru estates followed by this negociant house. It is a light, ripe and fruity wine. With its attractive red-berry flavors, finished with crisp acidity, it is accessible and ready to drink.',\n",
       " 'wine review : US : New York : Riesling : A wisp of bramble extends a savory tone from nose to finish on this otherwise bright bristling wine. Delicate honey tones register as off dry on the palate but balance neatly alongside flavors of freshly pressed apples and pears. The finish is marked by a touch of pencil lead. Drink now through 2020.',\n",
       " 'wine review : Italy : Tuscany : Sangiovese : Forest floor, menthol, espresso, cranberry and pressed violet aromas take shape in the glass. The lean linear palate shows dried sour cherry, licorice and coffee bean alongside assertive close-grained tannins. Even though the tannins are still firm, drink sooner rather than later to capture the remaining fruit.',\n",
       " \"wine review : US : California : Bordeaux-style Red Blend : This blends 20% each of all five red-Bordeaux varieties, showing grapy, plummy flavor that's juicy and soft on the palate. With a core of tobacco, tar and graphite, it complements the fruity with the savory, ending simply and elegantly.\",\n",
       " \"wine review : US : New York : Pinot Gris : Fresh apple, lemon and pear flavors are accented by a hint of smoked nuts in this bold, full-bodied Pinot Gris. Rich and a bit creamy in mouthfeel yet balanced briskly, it's a satisfying white with wide pairing appeal. Drink now through 2019.\",\n",
       " 'wine review : US : New York : Riesling : Dusty mineral, smoke and struck flint lend a savory tone to this lean light-bodied Riesling. Off dry in style, the palate offers delicately concentrated flavors of red apple and nectarine off set by tangerine acidity. Drink now through 2021.',\n",
       " 'wine review : US : New York : Riesling : Intensely smoky tones of struck flint and ash extend throughout this otherwise bright nimble Riesling. The palate boasts freshly pressed apple and pear flavors accentuated by zippy lemon-lime acidity. Drink now through 2021.',\n",
       " 'wine review : Chile : Leyda Valley : Chardonnay : A bright nose with green apple and citric aromas comes with mild oak. This is acidic and racy in composition, with roundness along the edges of the palate. Apple and nectarine flavors are lightly oaked and salty, while this holds form on a high-acid finish.',\n",
       " 'wine review : Italy : Tuscany : Red Blend : Made with 65% Sangiovese, 20% Merlot and 15% Cabernet Sauvignon, this has subtle aromas of black-skinned fruit and thyme. The easygoing palate delivers black cherry and cinnamon alongside smooth tannins.',\n",
       " 'wine review : Italy : Tuscany : White Blend : Made predominantly with Trebbiano and Malvasia, along with Pinot Bianco, Pinot Grigio and Riesling Renano, this has inviting aromas of ripe orchard fruit and citrus. The round fruity palate doles out ripe apricot, orange zest and juicy pineapple.',\n",
       " 'wine review : Italy : Tuscany : Red Blend : A blend of Cabernet Sauvignon, Merlot, Cabernet Franc and Sangiovese, this pleasant red has aromas of dark-skinned fruit, toast and a whiff of espresso. The light-bodied, straightforward palate offers cherry, red currant and a hint of light spice alongside zesty acidity and polished tannins.',\n",
       " 'wine review : Italy : Tuscany : Vermentino : Aromas of yellow stone fruit, white spring flower and a whiff of citrus lift out of the glass. The soft round palate offers ripe apricot, yellow peach and a hint of candied nectarine zest.',\n",
       " 'wine review : US : California : Zinfandel : Lots of spearmint, coyote mint, hot licorice, ginger snaps and Dr Pepper spice up the strawberry fruit of this wine that provides a very herbal take on the grape. Oregano, marjoram, thyme and dill all make a showing on the sip, against a backbone of sweet cherry and blackberry fruit, finishing on cedar.',\n",
       " 'wine review : Italy : Tuscany : Red Blend : An easy-drinking blend of Merlot, Sangiovese and Cabernet Sauvignon, this opens with aromas of red berry, toast, herb and roasted coffee bean. The soft palate offers black cherry, mocha and a hint of coffee alongside bright acidity and silky tannins. Drink now.',\n",
       " 'wine review : France : Beaujolais : Gamay : Produced from cru vines at the base of Mount Brouilly, the wine has structure as well as ripe black-plum fruits. It is generous and its fruit is well balanced by acidity and solid tannins. The wines is ready to drink.',\n",
       " 'wine review : US : California : Cabernet Sauvignon : This 100% varietal wine opens in a heady aroma of leather pouch, clove and marshmallow. Both herbaceous and tannic, it begs for more time in the bottle or substantial swirling in the glass.',\n",
       " 'wine review : Italy : Tuscany : Red Blend : Made with 90% Merlot and 10% Alicante, this easygoing red opens with delicate aromas suggesting red currant and baking spice. The straightforward palate delivers red plum and clove alongside soft tannins. Enjoy soon.',\n",
       " 'wine review : Italy : Tuscany : White Blend : Made with Vermentino, Malvasia di Candia Aromatica and Petit Manseng, this easy-drinking white has aromas of fragrant white wild flower, citrus and white stone fruit. The ripe round palate offers apricot, lime and a hint of saline.',\n",
       " 'wine review : US : California : Bordeaux-style Red Blend : Tar, dried meat, olallieberry and sharp cedar aromas show on this blend of 51% Cabernet Sauvignon and 49% Merlot. Dried strawberries and plums mix with thyme and dried rose petals on the palate.',\n",
       " \"wine review : US : California : Chardonnay : Poached pears, yellow apples and a touch of butter show on the classic nose of this Chardonnay that holds to steely frame. Very sharp acidity kicks off the sip, where Pink Lady apples and warm vanilla surround a tight minerality. It's both sharp and slightly sweet.\",\n",
       " 'wine review : US : California : Grenache Blanc : The distinctive nose on this bottling is tight yet tropical, with mango, pineapple, pear skins, orange rinds, dried lime peels and a gin-like juniper all converging. The palate offers a balance between tightly woven texture and ripe tropicality, with lime rinds, mango and petrol touches.',\n",
       " 'wine review : US : California : Syrah : Baked red cherry, crushed clove, iron and rose petals make for standard aromas on this bottling, although they are fairly light and simple here. There is a sizzle of acitity on the palate, where juicy strawberry and olallieberry flavors are easy to enjoy, made more complex by graphite and cedar touches.',\n",
       " 'wine review : Italy : Tuscany : Red Blend : A blend of 50% Cabernet Sauvignon, 30% Merlot and 20% Sangiovese, this offers aromas of black currant, caramel and mocha. The dense palate delivers toast, leather and cedar alongside teeth-coating tannins that grip the finish.',\n",
       " \"wine review : France : Alsace : Riesling : Medium-gold in color. Complex and inviting nose layered with a strong earthy minerality, vibrant bright fruit and intriguing notes of petrol and honey. On the palate it is racy, taut and focused full of well defined ripe succulent citrus and stone fruit. Rich, viscous texture perfectly balanced by the wine's crispness and almost steely minerality. Very long, juicy, lingering finish.\",\n",
       " 'wine review : Italy : Piedmont : Nebbiolo : Slightly backward, particularly given the vintage, the wine has a complex nose with plenty of dark fruit, Turkish delight, smoked meat and earth. A full rich palate, slightly soft, it begins to run out of steam a little in mid palate, but returns with a flourish, and the finish is long and nuanced. Will repay 5+ years of cellaring.',\n",
       " 'wine review : US : California : Chardonnay : The vineyard is one of the better Chardonnay sources in Alexander Valley, and in this fine vintage it lends ripe pineapple, pear, Key lime pie and Mandarin orange flavors to the wine. Lots of toasty new oak adds buttered toast and vanilla, but the wood influence is in balance. Classic Burgundian-style California Chardonnay, rich and opulent.',\n",
       " \"wine review : US : California : Zinfandel : Defines Rockpile Zinfandel in intensity of fruit and high alcohol which is in keeping with the volume. There are few red wines in the world like this. It's fully dry, with potent flavors of baked blackberries, blackcurrants, cola and peppery spices, and the tannins are huge, but negotiable. Demands the richest grilled meats and cheeses.\",\n",
       " 'wine review : Australia : South Australia : Shiraz-Cabernet Sauvignon : The blend is roughly two-thirds Shiraz and one-third Cabernet, and the result combines berries with cassis and generosity with structure, all framed by toasty oak. Savory in character, long and dusty on the finish. Drink now-2018.',\n",
       " 'wine review : US : California : Cabernet Sauvignon : This sophisticated wine is mostly Cabernet Sauvignon, which accounts for the firm tannins and dense structure as well as most of the blackberries and blackcurrants. Smaller amounts of Merlot and Cabernet Franc add cherries and violets, while oak contributes smoky complexities. Rich and elegant, the wine provides lovely drinking now.',\n",
       " 'wine review : South Africa : Stellenbosch : Cabernet Sauvignon : Etienne Le Riche is a total Cabernet specialist. With a tiny production of 5,000 cases across all his wines, this is boutique in the best sense. The Reserve Cabernets are, of course, the stars. This 2003 is fruit and wood driven, a powerful but still elegant wine, with black plums, tannins and super-ripe fruits.',\n",
       " 'wine review : France : Alsace : Gewürztraminer : Mid-gold color. Pronounced and enticing aromas of ripe citrus and stone fruit, layered with honey and floral notes with a touch of sweet spice. Rich and creamy texture packed with sweet ripe juicy fruit, honey, spice and a twist of sage. Off-dry, deliciously smooth with fresh acidity and medium-body. An elegant wine with a long, creamy, spicy finish.',\n",
       " 'wine review : France : Alsace : White Blend : Attractive mid-gold color with intense aromas of ripe citrus and stone fruit, strong minerality and hints of spice. Racy with crisp acidity, juicy, rich and smooth texture with lots of concentrated, bright flavors of blood orange, peach, apricot, mango and spice. Strong minerality follows through to a long, precise, juicy finish.',\n",
       " 'wine review : France : Alsace : Pinot Blanc : Compelling minerality on the nose, Refined and focused floral aromas with ample ripe stone fruit and a hint of petrol. Racy acidity and lovely taut palate with generous layers of juicy ripe peach, apricot and nectarine.  Strong minerality prevails across the palate leading to a lingering finish. Very balanced.',\n",
       " 'wine review : South Africa : Stellenbosch : Bordeaux-style Red Blend : A big, black bruiser of a wine that has black olive flavors and aromas and plenty beyond. Raspberry, mulberry, vanilla and spice all vie on the nose, while the palate is so dark it´s tough to discern the plum and leather flavors. Give it three years and reap the benefits.',\n",
       " 'wine review : Italy : Piedmont : Nebbiolo : At the first it was quite muted and subdued, but over a ten minute period it developed beautifully in the glass. The dark fruit is still dominant, but it is beginning to show some interesting tertiary aromas of earth, mushrooms and leather. Well balanced with a medium finish. Needs a few more years, but can be enjoyed now with a good deal of pleasure.',\n",
       " 'wine review : France : Alsace : Alsace white blend : Attractive mid-gold color. Compelling layers of tangy citrus and stone fruit aromas with notes of honey and earthy minerality. Intense flavors of honey, tangy orange citrus, sweet peach and apricot that are both rich and juicy.  Crisp acidity provides a perfect balance for the slight sweetness on the finish. Taut and focused.',\n",
       " 'wine review : South Africa : Simonsberg-Stellenbosch : Cabernet Sauvignon : A Cabernet-dominated (98%) wine, which boasts a dense, concentrated tannic structure. Flavors of cassis underly this, while the wood spices contribute their ribbon of flavor. This is an impressive wine, the flagship red from this estate founded by Spatz Sperling over 30 years ago.',\n",
       " \"wine review : Italy : Piedmont : Nebbiolo : Einaudi's wines have been improving lately, and this Barolo was very impressive, given the trying conditions of the vintage. Big rich, fat with smoked meat and a good dose of oak, the wine was one of the few that didn't peter out early but stayed on the palate to the end, culminating in an nice easy finish.\",\n",
       " \"wine review : US : California : Cabernet Sauvignon : Give this young Cab time in the cellar to come around. Right now, it's fresh and tannic, with primary fruit blackberry and cherry flavors, and the sweet smoky oak hasn't been integrated. Should knit together over the next 4-6 years, at least.\",\n",
       " 'wine review : Italy : Piedmont : Nebbiolo : The color is just beginning to show signs of browning at the edge, but the wine is still fresh and vibrant. The nose is complex, showing licorice, summer fruits, caramel and roses. On the palate, it is soft and pleasant, but lacks some concentration.  At its peak, but will drink well for a few years.',\n",
       " \"wine review : France : Bordeaux : Bordeaux-style Red Blend : This wine's black cherry and plum flavors veer dangerously toward prune—no doubt a product of the exceedingly hot summer. It's creamy and supple in texture, adding just enough tobacco, vanilla and smoke for complexity. But for all the fruit and ripeness, it finishes with great elegance and precision. Drink now–2020. Imported by Acadia Imports.\",\n",
       " 'wine review : South Africa : Walker Bay : Chenin Blanc : This is great Chenin Blanc, wood fermented but still leaving all the varietal character. Rich, creamy, almond flavors and silky smooth, which keeps all the essential acidity of the grape, with added spice and vanilla.',\n",
       " 'wine review : France : Alsace : Alsace white blend : Mid-gold color. Very mineral driven with subtle aromas of bruised apple and stone fruit compote. Crisp, fairly taut palate showing strong minerality and ripe flavors of red apple, cantaloupe, sweet nectarine and spice. Taut and precise texture with a long, slightly austere finish.',\n",
       " 'wine review : France : Alsace : Pinot Gris : Beautiful deep gold color. Intense, concentrated nose with vibrant aromas of honey, citrus marmalade and savory botrytis notes. Deliciously sweet and succulent, yet balanced by good acidity.  Packed with flavors of sweet ultra-ripe stone and tropical fruit, with honey and botrytis notes following through. Strong minerality prevails to a long, complex finish.',\n",
       " 'wine review : Italy : Piedmont : Barbera : A big, fat, luscious wine with plenty of toasty oak, dark jammy fruit and spices. The palate showed the same lushness; with the fruit front and center with surprising length.  A delicious, rather hefty effort short on finesse but long on flavor.',\n",
       " 'wine review : Italy : Piedmont : Nebbiolo : This is one of the more complex wines from the 2003 vintage. The nose has aromas of blackberry liquer, smoked meat, truffle and road tar. On the palate the fruit seems a little heavier and more roasted, but still melds well with its earthy, mushroomy flavors. Medium finish.',\n",
       " 'wine review : US : California : Riesling : A beautiful wine, sleek, crisp and ultra-dry, with the most refined flavors of petrol, white peach, kaffir lime, apricot skin and minerals. The acidity is very high and palate-cleansing. The wine was half fermented in barrels, half in stainless steel. Sommeliers, buy this by the case, if you can find it.',\n",
       " 'wine review : France : Alsace : Pinot Gris : Rich gold in color. Broad, layered aromas of very ripe fruit with hints of sweet smoke, brown sugar, honey and a savory earthy minerality. Full-bodied, bone dry, but richly textured with crisp acidity and a wide palette of flavors, ripe stone fruit, a creamy savory earthiness, sage and a balsamic kick on the finish. Very long length, slightly warm but with a lingering savory, mineral finish.',\n",
       " 'wine review : US : California : Cabernet Sauvignon : Thick and brooding, this dark, sweetly tannic wine also offers higher-toned elements of cedar, dried herb and graphite. It finds its balance amid a full-bodied density of fruit concentration and girth of structure. Drink now through 2023.',\n",
       " 'wine review : US : California : Pinot Noir : Cooked cranberry is spiced with anise, peppercorn and roasted beef slices on this bottling from a vineyard planted by three brothers who are longtime Salinas Valley farmers. The palate shows dark cranberry and raspberry, spiced up by chopped sage, thyme and bay leaf.',\n",
       " \"wine review : US : California : Cabernet Sauvignon : There's a touch of hot asphalt, pencil lead and miso on the nose of this first vintage from a promising, well-funded project, with dark elderberry fruit and dried dill rounding out the aromas. The palate blends a gamy beef quality with oregano, marjoram, cooked strawberry, baked blackberry and a sesame-oil character.\",\n",
       " \"wine review : US : California : Cabernet Sauvignon : Black cherry, black plum and black currant are integrated well into the fresh dill and smoke scents on the nose of this wine from one of the region's newest properties. It discloses a rich dark-chocolate sauce character on the palate as well as black-currant-jelly flavors, but most impressive is the lush, sexy and soft mouthfeel.\",\n",
       " 'wine review : Germany : Rheinhessen : Riesling : Crisp, pristine peach and apricot notes resonate through the nose and palate of this fresh, blossomy dry Riesling. While zesty and lithe in body, ripe grapefruit and melon flavors feel supple and silky on the palate. Drink now through 2019.',\n",
       " \"wine review : US : California : Rhône-style Red Blend : Smashed blackberry and blueberry fruit are enhanced by burned caramel, heavy slate and touches of soy and smoke on the nose. There's great depth in both body and flavors once sipped, with a layer of fine-grained tannins revealing teriyaki, black plum, boysenberry and touches of lavender.\",\n",
       " 'wine review : US : California : Cabernet Sauvignon : This wine shows off Yountville fruit at its finest, starting with a floral component to the nose. Spicy, bright and lifted, it coats the palate in ripe berry and cherry, ending with a snap of vanilla.',\n",
       " 'wine review : Portugal : Alentejano : Portuguese White : This bottling shows a rich, wood-aged wine, full of ripe yellow and tropical fruits as well as rich toasty flavors. The wine is warm, rounded, spicy and with its impressive structure still developing, it has the potential to age well. The wine is named to celebrate the second Lança generation in charge at the estate. Drink from 2017.',\n",
       " 'wine review : US : California : Pinot Noir : From a promising new project, the nose of this wine is linear and focused, with black raspberry, black licorice, cola, wet sagebrush and rain-on-slate scents. The tactile acidity once sipped creates a fascinating soft buzz on the tongue, with flavors of dried mint, brisk raspberry and cherry tomato. Camphor and eucalyptus add intrigue on the finish.',\n",
       " 'wine review : US : California : Syrah : Dark and thick in the glass, this wine shows strong but not bitter tar notes on the nose plus charred beef in a blueberry glaze, wet campfire, bourbon barrel and vanilla. The structure is massive now, gooey with thick tannins and flavors of espresso bean and condensed purple flowers. Judicious acidity ensures strong cellaring potential. Drink 2018–2027.',\n",
       " 'wine review : Spain : Central Spain : Graciano : Ripe aromas of raisin, black plum and horsehide are pointy and peppery. On the palate, this Graciano is bold and energetic, with lifting acidity. Loud berry flavors come with strong accents of dark chocolate and bitter espresso, while the finish is long but just moderate in complexity. Drink through 2020.',\n",
       " \"wine review : US : California : Syrah : Bradley Brown's appellation blend is a nice entry point to this exciting winery. This wine shows lavish smoked black currant and plum flavors, with aromatically lifting spices of anise and black pepper and a savory roast-beef element. The palate packs lots of pepper and relies on plump black cherry, boysenberry and a dark-chocolate syrup richness.\",\n",
       " \"wine review : Germany : Mosel : Riesling : Approachably fruity yet nuanced and electrifying, there's exceptional value here. High-intensity flavors of tangerine and stone fruit sweeten the palate, balanced by nerve-tingling acidity and deep ripples of slate, salt and honeycomb. It's an intensely zesty wine, but the finish has length and power.\",\n",
       " 'wine review : Portugal : Alentejano : Portuguese Red : From an estate in the south of the Alentejo, this is a rich, hot-country wine. It is firm, densely structured and with solid, dark tannins. There is a juicy black fruit background to this dense wine that gives a lift. Still young, this dark and very concentrated wine will be better from 2018.',\n",
       " 'wine review : Italy : Tuscany : Sangiovese : Baked plum, Asian spice, vanilla and menthol aromas carry the nose. The elegantly structured palate offers fleshy black cherry, licorice, mint and well-integrated French oak alongside fine-grained tannins that lend firm, polished support. A coffee note marks the finish.',\n",
       " 'wine review : Italy : Tuscany : Sangiovese : Intense aromas of ripe red berry, menthol, espresso and star anise lead the nose. The concentrated palate offers cranberry, dried Morello cherry, sage and licorice alongside close-grained tannins that grip the finish. Drink from 2018 through 2025.',\n",
       " 'wine review : France : Southwest France : Malbec : Low-yield vines on the best parcels of the Vincens estate are the source of this wine. It is super-rich and concentrated, maybe too much in its opulent excess. The wine does have great plum and berry flavors that are generous and full in the mouth. The wine even now is still young and will be better from 2018.',\n",
       " 'wine review : US : California : Red Blend : A hearty blend of 76% Zinfandel and 24% Petite Sirah, this bottling packs a wallop of cinnamon-stick on the nose as well as strawberry puree, licorice and black pepper. Clove, allspice, and nutmeg arise immediately on the sip, backed by baked plum and bay leaf notes.',\n",
       " \"wine review : US : California : Riesling : More complex than the winery's appellation blend, yet also requiring time to reach full potential, this shows delicate lemon slices, honeysuckle, surf wax, pink grapefruit and a touch of coconut on the nose. The palate is grippy in texture and sizzling with mouthwatering acidity, offering lemon rind, grapefruit spritz and petrol flavors. Expect inviting nut and honey-dust flavors to emerge. Drink 2018–2034.\",\n",
       " 'wine review : France : Beaujolais : Gamay : Produced from vineyards donated to a charitable hospital in the 19th century, this wine is rich and now perfectly mature. It has smoky tannins that lie under the fine, elegant cherry and red plum fruits and acidity. The wine still has freshness although the attraction here is the ripe structure. The ornate label dates back to 1926.',\n",
       " 'wine review : Chile : Aconcagua Valley : Red Blend : This blend of Cabernet Sauvignon, Syrah and Merlot opens with blackened aromas of charred oak and creosote, but it quickly sheds that oak-heavy character to display toasty flavors of olives, herbs and berry fruits. All together, this is a classic Chilean red blend, with fine tannins and patented lightly herbal, balsamic flavors. Drink through 2020.',\n",
       " 'wine review : Chile : Maipo Valley : Cabernet Sauvignon : Dry, briary aromas of field brush, black olive, herbs, berry fruits and saucy tomato are textbook Maipo. This is fresh, a touch choppy, and not overly heavy. Flavors of cassis, plum and vanilla carry over to the finish, which is fresh and bolstered by fine natural acidity. Drink through 2022.',\n",
       " \"wine review : France : Southwest France : Tannat-Cabernet : Of course, this 90% Tannat wine is still very young. But it's impressive, rich and concentrated and promises to age well. It is dense with both tannins and fruit, black plum and berry flavors dominating, cut by acidity. It will be ready to drink from 2019.\",\n",
       " \"wine review : US : California : Cabernet Franc : The addition of 15% Petite Sirah takes this bottling to a compelling place, showing barely ripe blackberries, animal fat, smoke, black pepper and a wild clove element on the nose. It's rich and layered on the palate, where chalky tannins support black cherry, grilled beef and mint flavors. This has the bones to last awhile.\",\n",
       " 'wine review : US : California : Merlot : A fairly elegant expression of the variety, this wine is bright in cherry kirsch and pretty aromas of rose petal and lavender, structured to age and enjoy with food. Rector Creek Vineyard is just north of Yountville and planted in rocky alluvial soils. Drink now through 2022.',\n",
       " \"wine review : US : California : Pinot Noir : This wine is put together from multiple vineyard sources, including the well-known Morelli Lane and Widdoes, all farmed by the Duttons. Larger in production than many of the vineyard-designates, it offers baked bread and juicy overtones of cranberry-raspberry layered atop luxuriously toasted oak. It'll show well at the table.\",\n",
       " \"wine review : Germany : Mosel : Riesling : Fresh and fragrant of blossoms, tart yellow peach and apricot, this off-dry Riesling maintains a crystalline fruit purity that persists throughout Fritz Haag's wines. It's invigorating and irresistably quaffable. The long, melon-rind finish is lip smacking.\",\n",
       " 'wine review : Germany : Mosel : Riesling : Just a touch of honey-lemon sweetness is enough to make this zesty, citrus-focused Riesling lip smackingly delicious. Fresh, green herb and lime notes reverberate through a strong finish. Drinks well now but should meld nicely over the next five years.',\n",
       " 'wine review : Chile : Loncomilla Valley : Cabernet Sauvignon : Dry, spicy aromas of tobacco, cedar, vanilla and berry fruits come together nicely. This Maule Valley Cab is fresh and harmonious across the palate, with nothing too pushy. Complex, balsamic flavors of olives, herbs, dried berries, turned earth and cocoa finish dry, peppery and elegant. Drink through 2019.',\n",
       " 'wine review : US : Oregon : Pinot Noir : This wine is bursting with gorgeous cherry fruit, forward and luscious. The tannins are ripe and the acids in perfect proportion, keeping the fruit flavors buoyed upon a textural ride into a lingering finish.',\n",
       " \"wine review : New Zealand : Marlborough : Sauvignon Blanc : The Stoneleigh style traditionally favors ripeness over herbaceousness, and the 2008 holds true to form, offering up grapefruit and nectarine aromas and an appealing blend of citrus and stone-fruit flavors. It's plump and round, yet finishes fresh. Good as an apéritif or with light dishes.\",\n",
       " 'wine review : Italy : Northeastern Italy : Sauvignon : Crisp and fresh with enduring aromas of tomato leaf, citrus, pink grapefruit and white stone, this is textbook Sauvignon from the mountainous Alto Adige region of Italy. Pair it with appetizers or lightly spicy foods.',\n",
       " \"wine review : Chile : Maipo Valley : Red Blend : Haven't seen this unusual combination of grapes in quite some time, and you know what, it's much better now than when we last saw it in 2001. This vintage has a nice, almost magnetic nose, while the palate is firm and well structured, with cassis, black cherry, coffee and licorice flavors. It's a bit boring on the finish, but the mouthfeel and length are just fine. Fruity, rich and balanced. 325 cases made.\",\n",
       " 'wine review : Italy : Tuscany : Sangiovese : This Chianti Classico strikes a beautiful balance between elegance and intensity. It has both and its pretty aromas of wild berry, rose, ginger, anise and spice come forth in a continuous, steady manner. It feels bright and lively in the mouth and ends with a touch of piquant spice.',\n",
       " \"wine review : US : California : Syrah : Black as a moonless night, dense in structure, tannic, bone dry and super-peppery, this Syrah isn't offering much relief right now. In all likelihood it will emerge from its cocoon in a few years to offer a wealth of ripe blackberry, currant and carob fruit.\",\n",
       " 'wine review : France : Burgundy : Chardonnay : The impact of 50-year old vines is seen in the concentrated fruit, ripe and full,  in this wine. The flavors are of fresh apricots, edged with green apples and pink grapefruit, a combination that shows both richness and great freshness. The finish is a reminder of the fine acidity in 2006.',\n",
       " \"wine review : US : California : Chardonnay : This is a strong, oaky Chardonnay. It's crisp in acidity and forward in pineapple jam, lemon custard and vanilla meringue flavors. If you like the ripe, California style, it's for you.\",\n",
       " \"wine review : US : California : Pinot Noir : Crisp, coastal acidity dominates this wine, making it mouth-wateringly tart. May be too much for some folks, but it's quite elegant, with good cherry, black raspberry and cola flavors enriched with a touch of smoky oak.\",\n",
       " 'wine review : Italy : Tuscany : Sangiovese Grosso : Loaded with bold, ripe fruit, exotic spice and leather, this is a simple but genuine expression of Brunello di Montalcino. The wine tastes thick and a bit chunky in the mouth because of its chewy, succulent tannins.',\n",
       " \"wine review : Argentina : Other : Torrontés : With attractive melon and other tropical aromas, this is a Torrontés that rises above the masses. It smells great and tastes like a pure blend of lychee fruit, tangerine and honeydew melon. The palate feel is smooth and round, and the finish is dry, clean and healthy. It's everything that Torrontés should be. Drink now.\",\n",
       " 'wine review : US : California : Chardonnay : This is a typical Sonoma Coast Chard in the bright acidity that firms up the ripe, long hangtime flavors. Pineapples, pears, peaches, nectarines and subtle papaya notes are joined with buttercream and cinnamon spices. Drink now.',\n",
       " \"wine review : Chile : Colchagua Valley : Carmenère : Composed and structured, with its fair share of richness manifested as raisin and molasses. Interestingly, the palate rings with acidity, resulting in a feel that's borderline sharp. But there's enough fruit and heft to balance things out, and the flavors of cherry, blackberry and cola are nice. A good example of elevated Carmenère (with 10% Cabernet Sauvignon) that doesn't cost an arm and a leg.\",\n",
       " \"wine review : US : California : Pinot Noir : This is a very rich Pinot whose primary virtue is fruit. It just explodes with delicious cherry jam, red currant, licorice and mocha flavors. Dry and crisply acidic, it's a beautiful wine for early drinking.\",\n",
       " \"wine review : Italy : Sicily & Sardinia : Red Blend : This is a luminous, mature red wine with thick concentration and huge—almost too much—emphasis on toasted oak. Aromas recall vanilla, spice and coffee, although you will find blueberry and cherry on the finish: It is a blend of Nero d'Avola, Cabernet Sauvignon and Merlot.\",\n",
       " 'wine review : Chile : Colchagua Valley : Merlot : Bisquertt usually does well with its value-priced Merlots, and seeing that 2007 was an excellent vintage in Chile, this wine excels in the value price range. The nose is dark and saturated, but pure and inviting. And the palate is ripe and smooth, with spice, plum, blackberry and herb notes, particularly anise. Finishes clean, smooth and peppery. Drink now.',\n",
       " 'wine review : Chile : Casablanca Valley : Chardonnay : Clean and honest up front, with moderate richness and modest telltale Casablanca pineapple aromas. The plate is creamier than many wines in this price range, with flavors of apple cider, citrus and some pith. Overall this is a good value wine with enough citrus and acidity to qualify it as fresh.',\n",
       " 'wine review : Italy : Southern Italy : Red Blend : Chocolate, espresso, plum and black currant are backed by smoky nuances and natural rubber. This muscular wine offers polished tannins and firm structure to the end. A bit of wine from the 2005 and 2006 vintages is blended in.',\n",
       " \"wine review : Australia : South Australia : Cabernet Sauvignon : From the little-known region of Padthaway, this Cabernet starts off with some very promising, perfumed aromas of mint and cassis, but then shows touches of chocolate and raisined fruit on the palate. It's soft and mouthfilling—an easy-drinking Cab to consume on the young side.\",\n",
       " \"wine review : Italy : Veneto : Red Blend : Here's an interesting blend of Corvina, Cabernet Sauvignon and Rondinella that reflects the aromas and power of each grape variety. The wine offers mature notes of cherry, clove, blackberry and cola: It tastes slightly sweet and very succulent.\",\n",
       " 'wine review : France : Burgundy : Chardonnay : A citrus-dominated wine, lime and lemon giving a crisp intensity. There is a somewhat bitter toast element, but the acidity, the fresh fruits and the soft structure act as a counter-balance. Give it six months to a year. Screwcap.',\n",
       " \"wine review : Italy : Tuscany : Sangiovese : Here's a traditional Chianti Classico with pretty aromas of cherry cola, mesquite, almonds and violets. The wine is compact and elegant in the mouth and offers crisp berry flavors on the close.\",\n",
       " \"wine review : Italy : Tuscany : Prugnolo Gentile : This is a mature, jammy wine with thick layers of plum, prune and raisin. The wine's appearance is dark and concentrated and that same sensation of heaviness carries over the palate in the form of black currant and spice. The tannins are firm and tart.\",\n",
       " \"wine review : Italy : Tuscany : Vernaccia : Pancole is a pretty expression of Tuscany's popular Vernaccia di San Gimignano with a luminous, bright appearance and pristine aromas of stone and passion fruits. The wine is lean and tonic with spicy notes on the finish.\",\n",
       " 'wine review : South Africa : Western Cape : Chenin Blanc : This is a concentrated, fairly full and lush Chenin, rich in toasty oak and vanilla cream as well as notes of baked apple pie and sweet orange. The medium-weight palate is mouthfilling and satisfying, with ample acidity to lift the decadent flavors. Notes of clove, anise and toasted nuts mingle on the lingering finish. Drink now–2019.',\n",
       " \"wine review : US : California : Cabernet Sauvignon : This is a soft, well-crafted wine from the eastern side of St. Helena that's both classic in its dried herb, tobacco and tea aromas and fruity with red currant and cranberry notes.\",\n",
       " 'wine review : US : California : Cabernet Franc : This is a beatifully balanced, not-too-full-bodied wine from vines grown at 2,400 feet in the Sierra range. It has classic black cherry, black olive and anise aromas, harmonious fruit flavors accented with light oak spiciness and a firm, fine-grained tannic structure.',\n",
       " 'wine review : Italy : Tuscany : Sangiovese : Aromas of mature black-skinned berry, tobacco and dark spice lead the way. The rounded palate offers dried cherry, raspberry, coffee and a licorice note alongside velvety if not very persistent tannins. Showing the heat of the vintage, this is evolving quickly so enjoy over the next several years.',\n",
       " 'wine review : Italy : Northeastern Italy : White Blend : Made with 60% Pinot Bianco, 30% Chardonnay and 10% Sauvignon Blanc, this boasts appealing aromas of acacia flower, nectarine and Alpine herb. The elegant palate delivers juicy Gala apple, yellow peach and a touch of ginger alongside fresh acidity.',\n",
       " 'wine review : Israel : Judean Hills : Syrah : This wine features pleasing aromas of raspberry, jumper berry and black pepper. There is a nice mélange of fruit and spice flavors, notably black cherry, dark plums, anise, and cardamom. Smooth tannins ply the palate right into a bright finish that bears a touch of salinity.',\n",
       " 'wine review : Portugal : Alentejo : Portuguese Red : A year in wood and 30 months in bottle before release have allowed this attractive wine to fully develop its solid yet smooth texture. It has concentration, layers of bright black currant fruit and vibrant acidity. Ready to drink.',\n",
       " 'wine review : US : California : G-S-M : This bottling belongs to a series of wines from the legendary Jerry Lohr emphasizing Rhône varieties. It shows candied blackberry, violets and potpourri on the fruity, flowery and inviting nose. The palate leads with savory black pepper, which accents its core of black plum, blackberry and purple flower flavors.',\n",
       " 'wine review : US : California : Chardonnay : Rich honeysuckle, marzipan and oak aromas meet bright lemongrass on the nose of this bottling, showing both the fresh and oxidative sides of the grape. Smoked chicken and brioche notes are prominent on the palate, leading to a tangy, botanical, juniper-laced finish.',\n",
       " 'wine review : US : California : Cabernet Sauvignon : This is an extraordiary deal for a solidly built, high-level wine. It offers succulent cherry, raspberry and vanilla flavors, wrapped in approachable, mellowed tannin and oak.',\n",
       " 'wine review : US : California : Zinfandel : Juicy and austere in understated waves of cranberry and cherry fruit, this wine delivers subtle power and intensity in a leathery-textured package. True to its old vine heritage, it shows a dry dustiness of peppery spice.',\n",
       " 'wine review : South Africa : Coastal Region : White Blend : A stony, flinty character leads the nose of this blend of 54% Sauvignon Blanc and 46% Sémillon, followed by scents of ripe peach, nectarine, freshly dried grass and herbs. The medium-weight palate offers more clean fruit flavors that result in a smooth, slightly creamy mouthfeel. Ample acidity lends freshness to the finish, alongside a lingering yellow flower character. Drink now–2019.',\n",
       " \"wine review : France : Rhône Valley : Rhône-style Red Blend : Intriguing, thought provoking and complex, this wine starts off with perfumed aromas of thyme, bay leaf and lavender. It's supple in the mouth and silky in feel, imbued with black cherry and blueberry fruit, then shows a hint of adhesive bandage on the finish. Drink now.\",\n",
       " \"wine review : South Africa : Western Cape : Chardonnay : This leads with clean yet soft scents of ripe apple, Anjoy pear and orange blossom. Those notes carry through to the medium-weight palate, well integrated with soft toasted-oak tones. It's harmonious and balanced, with ample acidity lending good lift through the close. Drink now.\",\n",
       " 'wine review : France : Rhône Valley : Rhône-style Red Blend : This is taut and sinewy in profile, but shows off a fine range of aromas, from thyme and lavender to cocoa, red plum and ripe cherry. The raspberry and herb flavors finish in a storm of firm tannins. Drink 2020–2025.',\n",
       " 'wine review : Spain : Northern Spain : Verdejo : Mellow white-fruit aromas are nonspecific and oaky, but not overly so. This barrel-fermented Verdejo feels plump and chunky, with balancing acidity. Salty melon, apricot and apple flavors end steady and long. For barrel-fermented Verdejo, this is at the top of the pile.',\n",
       " 'wine review : US : California : Red Blend : This blend of 60% Petite Sirah, 21% Syrah, 7% Grenache, 6% Petit Verdot, 5% Tannat and 1% Viognier is tightly wound but likely to improve with time. Opened now, it offers elderberry, black currant, pencil lead and loam on the nose, with lava rock, crème de cassis and kirsch flavors slowing emerging on the palate.',\n",
       " 'wine review : US : California : Rhône-style Red Blend : This is a big, brawny expression of Grenache, Mourvèdre, Syrah and Counoise, the Grenache playing the dominant role in the blend. It coats the palate in dense raspberry and blueberry fruit, seasoned with pepper and nutmeg. A leathery touch to the texture and lifted acidity keeps it from feeling heavy or overdone.',\n",
       " 'wine review : Israel : Galilee : Bordeaux-style Red Blend : Aromas of blackberry, fennel bulb and smoke set the scene for flavors of cherry, raspberry, chocolate and tobacco leaf. Mellow but ever-apparent tannins ply the palate alongside a strong bolt of acidity that tapers off into a pomegranate-imbued finish.',\n",
       " 'wine review : Italy : Tuscany : Sangiovese : Black-skinned berry, pipe tobacco and Mediterranean herb aromas waft out of the glass and carry over to the firm linear palate along with morello cherry, licorice and a hint of clove. Taut fine-grained tannins and fresh acidity provide the backbone while orange peel marks the finish. Drink 2019–2025.',\n",
       " \"wine review : Portugal : Beira Atlantico : Portuguese Red : Wood aging gives this ripe blend of Baga and Touriga Nacional its richness and density. It's full of black fruit, toast and a touch of pepper. With ripe tannins and crisp acidity, it can easily age another year. Drink from 2018.\",\n",
       " \"wine review : US : California : Fumé Blanc : Pithy, with grapefruit and lemon peel flavors, this wine is deceptively crisp and light on the nose, offering a wealth of body and lushness on the palate, accented with nutmeg and peach. It includes 4% Sémillon, partly from the winery's beloved To Kalon vineyard.\",\n",
       " 'wine review : Hungary : Tokaj : Furmint : From a vineyard in Northern Tokaj this dry Furmint has aromas of citrus pith and freshly cut pineapple. In the mouth, there are delightful flavors of grapefruit juice and white peach before the pleasantly acidic finish.',\n",
       " \"wine review : US : California : Chardonnay : Briny green olive notes underlie a tropically ripe, full-bodied expression of the variety. The wine's apple, pineapple and mango fruit is wrapped in toasted oak and moderate acidity.\",\n",
       " 'wine review : Italy : Northeastern Italy : Pinot Bianco : This opens with enticing aromas of chamomile flower, white peach and a whiff of Alpine herb. The elegant palate offers McIntosh apple, candied lemon and a vein of energizing mineral. Fresh acidity lends balance.',\n",
       " 'wine review : Italy : Tuscany : Sangiovese : Chopped herb, forest floor, leather, espresso and a balsamic note are some of the aromas that waft out of the glass. The powerfully structured palate delivers prune, dried cherry, tobacco, and roasted coffee bean framed in firm fine-grained tannins. Give the tannins a few more years to unwind then drink to capture the fruit richness. Drink 2018–2023.',\n",
       " 'wine review : Italy : Northeastern Italy : Pinot Bianco : Bright and creamy, this savory white offers aromas and flavors of ripe apple, Bartlett pear, Alpine herb and a citrus note. Fresh acidity and a mineral vein energize the finish.',\n",
       " \"wine review : Argentina : Mendoza Province : Malbec : Blackberry and road-tar aromas are dark and stout. This is moderately tannic and a bit rough and jagged on the palate. Flavors of stewed black plum and prune are ripe almost to an extreme, and that's how it finishes as well.\",\n",
       " \"wine review : South Africa : Stellenbosch : Chardonnay : There's a pleasant, toasty seam throughout the nose and mouth of this well-balanced wine, expressed in notes of sweet spice and honeycomb that frame the yellow melon and apple fruit core. It's plush and mouthfilling, but not flabby or overdone, thanks to balancing acidity and an assertive spicy tone that dominates the finish. Drink now.\",\n",
       " \"wine review : South Africa : Stellenbosch : Chenin Blanc : This is a round and rich wine, with notes of wood-grilled apple, guava and toasted challah. Smooth and lush in feel, ripe peach and tropical tones drive the palate, while hints of honeysuckle and baking spice unfold on the finish. Ample acidity keeps the wine's weight in check. Drink now.\",\n",
       " 'wine review : US : New York : Pinot Noir : The deep ruby color belies this wines cool-climate origins. The nose shows more black fruit aromas than is typical for Pinot Noir. The palate is all Pinot, though, with cherry pie filling flavors made more complex by vanilla from toasty new oak. It finishes with some nice mineral and earth notes. Silky tannins allow for immediate consumption but the wine will gain in complexity after a year or two in the cellar.',\n",
       " 'wine review : US : New York : Riesling : A thoroughly honest effort, opening with lovely quince, apple and lemon fruit. The palate has a crisp lime edge and finishes with a kick of refreshing acidity. Drink now.',\n",
       " \"wine review : US : California : Red Blend : Not clear what the varietal blend is, but it's like a nice, easy southern Rhône wine. Soft and fruity, it's rich in jammy blackberry, cherry, Mandarin orange, chocolate and anise spice flavors.\",\n",
       " 'wine review : US : New York : Gewürztraminer : Orange blossom and flowers lead on this Gewürtz, and on the palate, a citric, lemon edge outweighs the sweet and floral components that would give this wine a prettier edge. Nonetheless, the wine has an attractive, crisp and clean character and will pair well with grilled seafood and poultry.',\n",
       " \"wine review : Argentina : Mendoza Province : Bonarda : Meaty and rubbery, but that's young Bonarda. This is a sound wine with dark berry flavors, raisin and pulsing acidity. Still, there's modest roundness to the palate and length to the finish. Overall, it's tasty, full and borderline raisiny. Drink now.\",\n",
       " 'wine review : Australia : South Australia : Shiraz : Lifted cedar and pine notes interspersed with appealing woodsy scents give way to a surprisingly intense palate that shows some nice peppery notes but ultimately falls short on the finish. Nearly imperceptible tannins suggest early consumption.',\n",
       " \"wine review : US : Oregon : Pinot Noir : There is an odd, piercing edge to the aromas, a mix of acetic acid and pungent herb, with a hint of diesel. Somehow it's not off-putting, just atypical. The light, tart fruit is a mix of rhubarb and cranberry, very earthy and tasting of dirt and bark in the finish. This could be quite pleasant with a hearty, rustic dish such as beef Bourgogne.\",\n",
       " 'wine review : Italy : Central Italy : Montepulciano : Neutral and unassuming on first impact, this luminous rosé eventually delivers notes of mineral, ash, stone fruit and small berry. The wine offers more in the mouth, however, where it exhibits fresh flavors of raspberry and blueberry.',\n",
       " \"wine review : US : California : Syrah : Overly sweet and simple, and something of a disappointment given the winery's past performance, this Syrah tastes like melted cherry jam, stirred with chocolate pie filling and sprinkled with fennel and pepper.\",\n",
       " 'wine review : US : California : Cabernet Sauvignon : Shows rich, firm mountain tannins and well-ripened, concentrated flavors of blackberries, cherries, currants and cocoa, and is thoroughly dry. But the wine loses a few points for hot caramelization, which may be partly over-charred oak and partly shriveled, overripe berries, if not both.',\n",
       " 'wine review : Italy : Central Italy : Moscato : The wine boasts a beautiful appearance thanks to its saturated golden color and faint amber highlights. It has a very fragrant nose and offers honey, peach and soapy floral notes. In the mouth, the wine delivers sweet fruit and a soft, silky texture.',\n",
       " 'wine review : Australia : South Australia : Grenache : The sort of wine one imagines early Australian settlers gulped down—big and burly in the mouth and a bit warm, rough and dusty on the finish. Hints of mint-accented cherry fruit and earthy notes.',\n",
       " \"wine review : US : California : Cabernet Sauvignon : A little rough and rugged, with jangly tannins and blackberry fruit so ripe it veers into raisins. Very dry, it's probably at its best now.\",\n",
       " 'wine review : France : Southwest France : Ugni Blanc-Colombard : Dominated by Ugni Blanc, the grape also used in the local Armagnac brandy, this is a tight, crisp wine, green but not unpleasantly so. Its acidity comes from fresh apple flavors, touched with some good juiciness and a fine refreshing finish. Screwcap.',\n",
       " 'wine review : US : California : Sangiovese : Sweetly rich in cherry, red currant and chocolate flavors, with a peppery edge, this Sangiovese is soft in structure. The bright acidity can cut through tomato sauce with cheese.',\n",
       " 'wine review : US : California : Chardonnay : Made in the modern California style, with very ripe, rather sweet pineapple jam, green apple butter and smoky oak flavors that are wrapped into a creamy texture.',\n",
       " 'wine review : US : New York : Chardonnay : This sparkling wine starts with a toasty but soft nose, leading into clean but fruity flavors and a refreshing finish. Though an earlier release might have allowed more primary fruit to show through, the wine offers easygoing but elegant enjoyment.',\n",
       " \"wine review : Spain : Northern Spain : Red Blend : Simple but well-maded wine with aromas of chewing gum, cherry and blackberry. It's a plump, sort of grabby red with sweet raspberry and chocolate flavors followed by a creamy, soft finish. Not much complexity but good fruit and depth. Not the least bit hard to drink. Good mass wine.\",\n",
       " 'wine review : Argentina : Other : Chardonnay : Not exactly a world-class white wine but at least it smells and tastes like Chardonnay. The nose offers some butter and lemon curd, while the palate is jumpy and tastes like a mix of pear, apple and spice. A fresh, young wine that should be drunk soon.',\n",
       " 'wine review : Australia : South Australia : Sauvignon Blanc : Juicy and well balanced, this is an admirable effort at the price. Boxwood, grapefruit, lemon and quince notes make for a sophisticated first impression. The palate is straightforward citrus while gooseberry notes pop up on the dry finish. Drink now.',\n",
       " 'wine review : US : California : Merlot : Tasty, with pie-filling cherries, blackberries and currants accented with smoky oak, but a little on the soft side. Fully developed, so drink now.',\n",
       " \"wine review : US : Oregon : Pinot Noir : This seems as if it was assembled from lesser barrels. It's pleasant, very light, simple and tart; the dominant flavor is cranberry juice.\",\n",
       " 'wine review : US : Virginia : Bordeaux-style Red Blend : Cherry pie-filling and boysenberry notes open this impressive blend of Merlot and Petit Verdot. Abundant but velvety tannins give a lift to blueberry and   chocolate tones in the mouth, while the slightly grippy finish shows appealing mixed berry flavors.',\n",
       " 'wine review : US : California : Cabernet Sauvignon : Ripe, soft and a little sweet, with jellied flavors of blackberries, cherries, chocolate and anise. Drink now.',\n",
       " \"wine review : US : Oregon : Pinot Noir : Spicy and tannic, this inexpensive Pinot from Cherry Hill opens with earthy fruit and leaf flavors—tomato and herb dominate, with just a suggestion of berry. There isn't much in the way of ripeness here, to either fruit or tannins.\",\n",
       " 'wine review : US : California : Zinfandel : Shows the briary, brambly character of Foothills Zin, with an array of wild berry, tobacco, mocha and Asian spice flavors wrapped into finely ground tannins. But the wine is too sweet and candied in the finish. Drink now.',\n",
       " \"wine review : Argentina : Mendoza Province : Malbec : Huge in color and extract, but also a little childish. The nose has gumball, berry jam and a touch of volatility, but after things settle it rests on bold black fruit. It's not overly rich or sweet, and the feel is sort of sinewy. Seems more about size and color than refinement and polish.\",\n",
       " \"wine review : US : California : Petite Sirah : The winery has a good track record with this bottling, which shows how well Petite Sirah does in the warmer St. Helena appellation of Napa Valley. This '08 is dryish to moderately sweet in jammy blackberries and blueberries, with a smoked meat, bacon edge. But it's also firmly tannic, which provides a framework for the sweetness.\",\n",
       " \"wine review : US : California : Pinot Noir : Esterlina's Pinot is very perfumey, light in body and soul at first, as it gathers steam with a tasty backbone of lush red fruit, spice and plenty of staying power over a meal.\",\n",
       " 'wine review : South Africa : Coastal Region : Syrah-Viognier : A good value, this is an easy-pleasing Syrah with vibrant notes of red plum, cherry and blueberry. Fine, dusty tannins reminiscent of cocoa powder and dried crushed berries stay after swallow alongside a hint of sweet smoke flavor.',\n",
       " \"wine review : South Africa : Coastal Region : Red Blend : This approachable Cabernet-based blend, which also has 18% Pinotage, 11% Cab Franc and 2% Shiraz, is a spicy and balanced red with notes of menthol, purple florals, black cherry and berry. With a mouthfeel like crushed velvet, a black pepper finish and an attractive price tag, it's a shame only 100 cases were produced.\",\n",
       " 'wine review : South Africa : Stellenbosch : Cabernet Sauvignon : This wine strikes a superb balance between herbaceous, green notes and ripe black fruit, all graced with a kiss of sweet vanilla. Rich blackberry and cassis flavors flood the palate, but then transition to sweet smoke and oak flavors on the finish.',\n",
       " 'wine review : France : Southwest France : Malbec : Tannic yet balanced wine with a great swathe of perfumed fruit as well as dense black flavors. There is a herbal character as well as dark plum and sweet fruit flavors. Age for 2–3 years, the wine will always be firm.',\n",
       " \"wine review : US : Oregon : Pinot Noir : Young, tart and wrapped up tight as a drum, this offers sharp flavors of cranberry and a bit of Campari. It has the heft and polish to open up further with some additional bottle age, but it isn't budging at the moment.\",\n",
       " \"wine review : Argentina : Mendoza Province : Red Blend : A blend of 50% Malbec with Cabernet, Syrah and Merlot that's lightly minty and full of tobacco, pepper and spicy aromas. Feels a bit clampy and tannic, with oaky, herbal flavors of plum and sweet berry. Shows a hint of green and drying tannins on the finish.\",\n",
       " \"wine review : US : California : Red Blend : Beaver Creek makes a variation of Fairytale every vintage and this one, sourced from Napa Valley, is 41% Merlot, 36% Zinfandel and 23% Syrah, a mix that seems to work very nicely here. The wine's Zin almost tastes as if it has mountain tannins; the wine is overall herbal and earthy, ripe and sturdy with balanced fruit.\",\n",
       " \"wine review : US : California : Pinot Noir : A very good Pinot Noir, rich in cherry, licorice, cola and spice flavors that are wrapped into firm tannins. It's on the forward side, trading complexity and nuance in favor of immediate gratification. Drink now–2014.\",\n",
       " 'wine review : South Africa : Stellenbosch : Syrah : A good amount of earthy spice, tea leaves and forrest floor lead the way on the nose, but the black cherry and berry fruit aromas follow shortly after with an additional accent of sweet cured meat. Medium weight and lush, the creamy mouth transitions into a finish loaded with sweet spice and bittersweet cocoa.',\n",
       " 'wine review : South Africa : Stellenbosch : Chardonnay : Fairly intense and flavorful, this Chard expresses assertive aromas and flavors of wood-grilled peaches, buttercream frosting, lemon custard and toasted brioche. Medium weight in the mouth with good balance and a touch of baking spice on the close.',\n",
       " \"wine review : Argentina : Mendoza Province : Red Blend : For an under-$15 red blend, Corte has it going on. It's rich and full, almost syrupy on the nose, with lots of oak, ink and vanilla. Shows power and packs a punch, with dark berry, chocolate and spicy flavors. A little tannic and scratchy, but with structure and framework to spare. Malbec (80%), with Bonarda and Petit Verdot.\",\n",
       " \"wine review : Italy : Central Italy : White Blend : This vineyard-designate blend of Trebbiano and Grechetto opens with a luminous golden color and elegant aromas of stone fruit, citrus, Golden Delicious apple and mature pear. There's a pretty hint of vanilla and almond butter at the back.\",\n",
       " \"wine review : Italy : Veneto : White Blend : This sophisticated white wine from the homeland of Italy's most robust reds (Ripasso and Amarone) shows a full, generous appearance with a golden-amber color. Stone fruit, toasted almond and candied lemon give it heft and consistency.\",\n",
       " 'wine review : Austria : Leithaberg : Blaufränkisch : Smooth and ripe, this is a rich black-fruited wine, its tannins comfortably ensconsed in a rich cushion. There is acidity to balance and spice which, along with the full-bodied fruit character, makes the wine ready to drink now.',\n",
       " 'wine review : Italy : Northeastern Italy : Friulano : A gorgeous expression of Friulano, this wine (in a screwcap bottle) makes an elegant addition to chicken, pasta or seafood dinners. Layers of peach, almond and pineapple are wrapped tightly together.',\n",
       " 'wine review : Greece : Santorini : Assyrtico : Lively aromas of lemon, grapefruit and melon start this white from Greece. Flavors of grapefruit and lemon rind are fresh and crisp but still offer dimension. The finish is spicy and clean. A great food wine: pair with grilled fish or clams.',\n",
       " 'wine review : Italy : Northeastern Italy : Pinot Bianco : This partially oak-aged expression of Pinot Bianco from cool-climate Alto Adige (in the far north of Italy) offers a lovely texture that is creamy and smooth at the same time. Measured aromas include melon, apricot, grapefruit and a touch of vanilla spice.',\n",
       " 'wine review : Argentina : Mendoza Province : Red Blend : Leather, berry, earth, raisin and roasted qualities define the nose on this Tempranillo-led blend of four grapes. Feels good in the mouth, with active raspberry, plum and coffee flavors that comes with a roasted accent. Mildly leafy, baked and woody on the thorough finish.',\n",
       " \"wine review : Italy : Piedmont : White Blend : This is a gorgeous Italian white from northern Italy that boasts fragrant tones of spring flower and chopped herb backed by peach, honey and white almond. It's crisp, intense and would be perfect with basil Thai curry.\",\n",
       " 'wine review : Argentina : Mendoza Province : Cabernet Sauvignon : A medium-weight Cabernet with plum, prune, tobacco and herb aromas. Features average weight and body, with a creamy texture and layered flavors of black fruit, raspberry and spice. Finishes with herb and plum notes as well as a pinch of tobacco.',\n",
       " \"wine review : US : California : Zinfandel : A huge, kick butt Zinfandel, packed with sweet berry, bacon, black pepper and smoky cedar flavors. There's absolutely nothing shy about it. Packs a real punch all the way through to the spicy finish. Good price for a Sonoma Zin this classic.\",\n",
       " 'wine review : US : California : Cabernet Sauvignon : Quite a good Cabernet, showing the elegance and ripe fruitiness you expect from Napa, in a style for drinking now. Drily tannic, it shows classic blackberry and blueberry flavors.',\n",
       " 'wine review : US : Oregon : Pinot Noir : Fruity, forward and quite refreshing, this has appealing black cherry fruit with a light candy flavor. The balancing tannins add sufficient depth and weight to allow this a few more years in the cellar.',\n",
       " \"wine review : Italy : Northeastern Italy : Sauvignon : This oak-fermented Sauvignon (in an artsy, screwcap bottle) delivers a rich, spicy finish and thick layers of peach, citrus, tomato leaf and honey-like aromas. It's a gorgeous wine that is an absolute pleasure to drink.\",\n",
       " \"wine review : Austria : Kremstal : Grüner Veltliner : A strongly spicy, rich wine, this has great concentration and an intense, dense texture.There is weight with plenty of ripe tropical fruits to contrast pronounced black pepper and bitter almond character. It's still young, so don't drink before 2015. Screwcap.\",\n",
       " \"wine review : US : California : Pinot Noir : This is another fine Pinot from Cambria, showing the winery's great price-quality ratio. Words like opulent and elegant come to mind to describe intense flavors of black cherries, licorice, cola, herb tea and Indian spices. It's bone dry, and also quite tannic, but you can enjoy it now with big, rich lamb and beef dishes, or a wild mushroom risotto. Otherwise, it will continue to improve for at least eight years.\",\n",
       " \"wine review : Italy : Tuscany : Red Blend : This delicious blend of Cabernet Sauvignon, Merlot and Petit Verdot opens with an intense, brooding fragrance of dark fruit, spice and leather. The palate delivers a concentrated black-cherry flavor that's framed by big, chewy tannins and  punctuated by spicy accents of white and black pepper, licorice and pipe. Drink 2015–2024.\",\n",
       " 'wine review : US : Oregon : Pinot Noir : Bella Vida replaces the Abbey Ridge bottling and does so with pizzazz. The best of the 2011 releases, this is a beautiful expression of grapes grown on red clay soils, with refined, deeply penetrating flavors of ripe raspberries. Smooth, supple and long, with uncommon purity, it finishes with a kiss of chocolate from 18 months in one-quarter new oak barrels.',\n",
       " \"wine review : Argentina : Mendoza Province : Malbec : This huge Malbec defines jammy and concentrated. The bouquet is ripe, soft and minty, while the palate echoes the nose with thickness and density. Flavors of prune, raisin, tea and blackberry are borderline syrupy, while the finish is smooth and pure but doesn't offer much spine or foundation. Drink this modern Malbec sooner rather than later.\",\n",
       " \"wine review : Austria : Kremstal : Riesling : This is a very aromatic wine that's rich, spicy and with just a touch of ripeness. It has spiced pear, lychee and honey notes all balanced by a wonderful fresh acidity. Drink now and until 2020. Screwcap.\",\n",
       " 'wine review : US : California : Pinot Noir : While delicious now with flavors of raspberries, cherries, cola and oak, all showered with tart, citrusy acidity, this wine also has a great future. Give it 6–8 years to evolve in the bottle for further complexity.',\n",
       " 'wine review : Spain : Catalonia : Carignan-Grenache : This is the stud in the Acústic stable. A blend of 70% Carignan and 30% Garnacha, Braó is lively and bright on the nose, with ripe blackberry and cassis aromas. The palate is concentrated and juicy, with fine balance and bold flavors of blueberry, blackberry and coffee. A toasty, dark finish features chocolate, toast and minerality. Drink through 2019.',\n",
       " \"wine review : Austria : Kremstal : Grüner Veltliner : While it feels rich and round, this is also a wine with a crisp side to it. Acidity cuts through ripe pear, apricot and lychee flavors, giving a decidedly crisp balance. It's a wine that is already ready to drink. Screwcap.\",\n",
       " \"wine review : US : California : Cabernet Sauvignon : This 100% Cabernet Sauvignon is so rich and decadent, with milk chocolate, blackberry and new French oak flavors. Made by celebrity winemaker Philippe Melka, it's soft and approacheable on the palate and widely appealing. Your best bet is to drink up now.\",\n",
       " 'wine review : France : Bordeaux : Bordeaux-style Red Blend : This is a wine that has great potential—you can tell from the firm tannins, tight acidity and closed texture. Initially, black currant flavors are touched with dark, dusty notes, but they finish with more juicy character on the afterntaste. Drink from 2017.',\n",
       " \"wine review : Italy : Central Italy : Sagrantino : This powerful Sagrantino opens with aromas of meat juice, truffle and black fruit. The palate offers blackberry, black cherry, cinnamon and black pepper, along with tobacco notes. It also has Sagrantino's trademark tannic backbone, but the tannins are ripe and are balanced by bright acidity.\",\n",
       " 'wine review : France : France Other : Savagnin : Rich almonds, ripe peaches and a smoky, oxidized character all come together in this ripe, complex, fascinating wine. There is a great tang of apple acidity on the finish. Drink now.',\n",
       " \"wine review : Australia : South Australia : Shiraz : This wine displays ample concentration in its inky color and potent aromas of dark berry fruit. There's a hint of raisining as well. In the mouth, it's mouthfilling but lacks a bit of texture; the flavors include dark plums, vanilla and hints of dried fruits, like figs and dates. With a finish that calls to mind chocolate fudge (minus the sugar), opt for drinking this wine over the relatively near term, now to 2020.\",\n",
       " \"wine review : Argentina : Mendoza Province : Malbec : Deep, lush aromas of black fruits, graphite and coconut are welcoming and friendly. The mouthfeel is pure and smooth, with elegance and power. Flavors of cassis, blackberry, hard spices and licorice filter into a long, mellow, classy finish. This is a pushy, full-bodied wine that doesn't throw punches; drink through 2020.\",\n",
       " \"wine review : US : California : Cabernet Sauvignon-Syrah : This blend showcases the soft lusciousness and ripe fruit of Paso Robles. It's rich and sweet in jammy blackberries, cherries, chocolate and spicy sandalwood. Drink now.\",\n",
       " 'wine review : Chile : Maipo Valley : Cabernet Sauvignon : Rooty and leafy on the nose, with red berry aromas peeking through some obvious oak. The palate offers cherry and raspberry flavors along with sweetness, and things are backed by vanilla and chocolate. Good, tasty and oaky, with proper layering.',\n",
       " \"wine review : US : California : Cabernet Sauvignon : This is a soft, gentle Cabernet for drinking now. It's pleasantly rich, offering blackberry, cherry, chocolate and cedar flavors, wrapped into easy tannins.\",\n",
       " 'wine review : Chile : Aconcagua Valley : Cabernet Sauvignon : Foresty and dark on the bouquet, with aromas of licorice, prune, forest and foxiness. The palate is full and tannic, while flavors run sweet, creamy and slightly syrupy, with chocolate and spiced fig notes. Finishes rich and rough, with dry herbs and true Chilean Cab flavors of olive and oregano.',\n",
       " \"wine review : Italy : Piedmont : Red Blend : Pinay is a tight and defined red blend from northern Italy with bright accents of cherry cola, forest berry, licorice and dark mineral. There's a sharp, sour note on the close that would pair with smoked cheese.\",\n",
       " \"wine review : US : California : Sangiovese : Soft, light in body and easy to drink, this Sangiovese, from the Napa estate vineyard, is delicious in raspberry, red currant, licorice, bacon and spice flavors. It's somewhat ephemeral, an instantly pleasant wine to drink especially with cured meats, olives, hard cheeses.\",\n",
       " 'wine review : US : Washington : Chardonnay : A good, clean, tart and lightly spicy all-stainless style. Cool climate fruit puts the accent on lime and lemon flavors, keeps the alcohol low (13.3%), and makes this a fine match to shellfish, white fish and light pasta dishes.',\n",
       " \"wine review : Italy : Piedmont : Nebbiolo : This fresh Nebbiolo-based Roero from Cantina dei Nebbiolo offers pretty intensity with aromas of tar, licorice and a touch of sweet cherry liqueur. There isn't much pulp or meat here but the finish is both crisp and tart.\",\n",
       " 'wine review : Italy : Piedmont : Nebbiolo : Slightly disjointed at first, this Barolo with fruit sourced from four vineyard sites, needs a few minutes to open in the glass. The wine offers tertiary aromas of cured beef, smoked bacon and white mushroom. Drink now.',\n",
       " \"wine review : Italy : Piedmont : Barbera : This aged expression from the Nizza subzone of Asti offers tertiary aromas of dried tobacco and dried prune. The variety's characteristic acidity kicks in on the finish.\",\n",
       " 'wine review : US : California : Zinfandel : Muted at first, this wine opens up nicely with time. Sweet, ripe and easy on the finish, its core is full of black pepper and clove. The grapes are sourced from several distinctive vineyards in Mendocino County. Drink it with a steak.',\n",
       " 'wine review : Romania : Recas : Chardonnay : Fragrant on the nose with fresh orange, lemon and honeysuckle aromas, this full-bodied Chard is deliciously quaffable with a concentrated apple palate and just a hint of buttered toast. Another well-made Romanian at an unbeatable bargain price.',\n",
       " 'wine review : France : Burgundy : Pinot Noir : Rich and full in the mouth, packed with red fruits and black cherries. The wine is sweet, while keeping a tannic core. Drink next year.',\n",
       " 'wine review : Greece : Santorini : White Blend : This fuller-bodied white blend offers pineapple, kiwi and citrus on the nose, and a blend of full fruit and acidity on the palate. A balanced, easygoing white that is perfect for everyday poultry, vegetable and fish meals.',\n",
       " \"wine review : Italy : Piedmont : Nebbiolo : Here's a fun and slightly less formal expression of Nebbiolo (especially when compared to the great wines of Barbaresco and Barolo) that offers tight fruit nuances of white cherry and forest berry backed by light shadings of spice and smoke.\",\n",
       " 'wine review : Italy : Piedmont : Nebbiolo : Aged 12 months in large oak casks, this bright Nebbiolo offers pretty aromas of small berry, tar, licorice and cigar smoke backed by tight intensity and structure. Pair this powerful wine with braised quail or pork tenderloin.',\n",
       " \"wine review : New Zealand : Hawke's Bay : Syrah : This wine is light in color, but still packs a mouthful of flavor. It's peppery and meaty upfront, filled out on the midpalate by tart fruit that verges on cranberry in flavor. Pretty rather than potent; drink now-2014.\",\n",
       " 'wine review : US : California : Cabernet Sauvignon : A good wine to drink now for its sweet, ripe berry and mocha flavors and smoky coat of oak. It has smooth tannins and a spicy finish. Give it a good decant to let it breathe for a few hours.',\n",
       " 'wine review : Italy : Piedmont : Nebbiolo : Roero Rabino is accented by sweet touches of cinnamon and nutmeg that are offset by cassis, dried blueberry, leather and tobacco. This sturdy red wine presents a very nice ensemble that is capped by a tight, astringent close.',\n",
       " \"wine review : US : California : Cabernet Sauvignon : With rich, sweet blackberry and cocoa flavors, this is a very nice Cabernet for drinking with a good meal. It's a little rough around the edges, with jaggy tannins. Ready now.\",\n",
       " 'wine review : Italy : Veneto : Prosecco : Honey, almond blossom and citrus zest are followed by creamy foam and tonic acidity. This is an easygoing Prosecco that offers a light and compact structure and bright flavors of lime and green fruit.',\n",
       " 'wine review : France : Bordeaux : Bordeaux-style White Blend : An intriguing blend of Sauvignon Blanc and Muscadelle, which highlights the herbaceous Sauvignon character and a more perfumed Muscadelle. The two give a fresh, citrus- and pineapple-flavored wine, lively, to be enjoyed young.',\n",
       " 'wine review : France : Bordeaux : Bordeaux-style White Blend : Soft, ripe, dominated by peaches, pears and a rounded, toasty character. The spice is dominant, giving the wine an exotic edge. The more rounded style gives concentration as well as a fine, finishing velvet texture.',\n",
       " 'wine review : Chile : Curicó Valley : Merlot : Fiery and wild at first, with aromas of cinnamon, pepper and Juicy Fruit gum. Strange as that may sound, the wine finds a more familiar place on the palate, where plum, cherry and cassis flavors are flashy and the feel is a bit clangy. Rounds out with air and settles down fairly nicely.',\n",
       " \"wine review : Italy : Veneto : Prosecco : Paladin produces a luminous and fresh Prosecco from the northeast of Italy with tonic aromas of peach, white stone and citrus fruit. It's an easy-drinking wine that would wash down well with appetizers and informal finger foods.\",\n",
       " \"wine review : Italy : Veneto : Prosecco : Soapy aromas of bee's wax and lavender open the nose of this luminous sparkler and are followed by dried flowers and hay. There are peach-like flavors with aftertastes of green melon and lime. Grapes are grown organically and according to biodynamic principles.\",\n",
       " 'wine review : Italy : Veneto : Prosecco : This Brut interpretation of Prosecco (“Brut” means it tastes dry in the mouth) offers tangy fizz and soda-like intensity backed by subdued aromas of white mineral and stone fruit. Pair it with puff pastry appetizers.',\n",
       " 'wine review : Italy : Veneto : Prosecco : This is a “dry” vintage Prosecco with a hint of sweetness in the mouth that is surrounded by fragrant flavors of peach, kiwi and green melon. This luminous sparkler tastes firm and tonic and makes for an informal afternoon sipper.',\n",
       " 'wine review : Chile : Colchagua Valley : Cabernet Sauvignon : Mildly minty and woody on the nose, with grass, wintergreen and cheese aromas as well as red fruit. The palate is tight and grabby, with a blast of citric acid that gives the plum and raspberry flavors a tart, decidedly “red” personality. Snappy and crisp on the finish, making it a fresh, lean style of Cabernet.',\n",
       " \"wine review : Italy : Veneto : Prosecco : The wine's golden hue tells you this is Prosecco from a warmer climate (Conegliano is a few degrees warmer than Valdobbiadene) as do its aromas of mature peach and honeysuckle. The wine tastes flat and big in the mouth and offers sophisticated notes of white pepper and spice.\",\n",
       " \"wine review : US : New York : Vignoles : This white has a light, delicate nose of citrus and apricot. On the palate it's smooth and balanced with lush apricot and spice flavors. A touch of acidity gives the wine lift. A lingering finish adds to its poise. Pair with a creamy cheese or sip alone.\",\n",
       " 'wine review : Italy : Veneto : Prosecco : Drying mineral tones face off with luscious peach flavors to create a well-balanced Extra Dry Prosecco sparkler. The bubbly offers cheerful foaming in the mouth and sweet fruit flavors on the close.',\n",
       " \"wine review : Chile : Limarí Valley : Chardonnay : Opening aromas of vanilla cookie show a resemblance to Animal Crackers, while the palate is more vivacious and tangy, with flavors of orange, tangerine and apple. We wouldn't call this an elegant or refined wine, but we like its no-issues attitude and citrusy content. Probably good with salads and seafood.\",\n",
       " 'wine review : US : California : White Blend : This New World blend of Sauvignon Blanc, Sémillon, Chardonnay and Viognier is very fruity. It offers a blast of pineapples, honeysuckles, peaches and figs, with a coating of oaky, vanilla buttercream.',\n",
       " 'wine review : US : California : Zinfandel : With a fruity-sugary finish, this Zin will appeal to folks who like their red wines a little on the sweet side. It has pleasantly ripe flavors of black cherries, raspberries, red currants, root beer, mocha and pepper.',\n",
       " 'wine review : US : California : Red Blend : This Rhône-style blend is a little rustic and sharp in tannins and acids. It shows a polished core of jammy blackberries, cherries and spices, and could develop in a year or two.',\n",
       " \"wine review : Chile : Casablanca Valley : Gewürztraminer : Frosted aromas of orange creamsicle, lychee and melon give this an elevated, unique sort of bouquet. Among Chilean Gewürztraminers, this is one of the more expressive ones you'll find. Pineapple, mango and other tropical flavors are pleasant, while the feel is forward and fun. Drink this summer with fish and salads.\",\n",
       " 'wine review : Italy : Veneto : Prosecco : This Prosecco Brut from the slightly warmer Conegliano subzone is a perfect example of its kind. The luminous sparkler offers drying mineral tones that are embellished by pretty notes of white rose, honey, stone fruit and citrus. The mouthfeel is lean, smooth and fresh.',\n",
       " 'wine review : Italy : Veneto : Prosecco : This crisp sparkler is characterized by drying mineral tones and delicate aromas of stone fruit and citrus. The wine is foamy and slightly sweet in the mouth and does an excellent job of representing this category of Italian wine.',\n",
       " 'wine review : France : Champagne : Champagne Blend : A ripe, fruity wine that takes its raspberry flavor from the color. The wine has softness, a creamy character that rounds out any acidity, leaving a smooth, fruity finish.',\n",
       " \"wine review : Italy : Veneto : Prosecco : There's a unique note here of mature fruit, chopped basil or peppermint with a hint of spice or chopped white peppercorn. The bubbling seems less frothy and the wine has a flat, big feel in the mouth. Grapes were farmed organically and the wine is from the 2007 vintage, which may explain its distinctive style.\",\n",
       " 'wine review : Chile : Colchagua Costa : Pinot Noir : Gritty, heavily roasted aromas of peanuts and herbal berry fruits lead to a scratchy, tannic palate. This tastes of burnt oak, raw plum and currant, while the finish tastes briny and harsh. The 2012 version of this wine was much better. This is rough from front to back.',\n",
       " \"wine review : France : Languedoc-Roussillon : Rosé : An easy and inviting selection, there's a mentholated streak to the soft red currant and cherry core of this wine. Light and breezy on the palate, it offers thin, quickly dissipating flavors and a fleeting finish.\",\n",
       " 'wine review : France : Provence : Rosé : The wine is earthy and somewhat rustic. There is fruit but it is spoiled by a spicy pepper edge. Chill this drastically.',\n",
       " 'wine review : Spain : Catalonia : Sparkling Blend : Red in color, with berry and apple aromas, this is sweet, with a heavy body and light effervescence.',\n",
       " \"wine review : France : Alsace : Pinot Gris : The nose is muted, despite the slight spritz of the wine, while the palate is equally toned down. It's a rounded if not very expressive white wine.\",\n",
       " 'wine review : US : California : Zinfandel : Plummy and hinting at black cherry, this wine is otherwise soft and simple, with a distracting, full-throttled descent into raisin cake and prune.',\n",
       " 'wine review : Spain : Catalonia : Sparkling Blend : Funky, yeasty aromas of cinnamon, spent lees and bread yeast dominate the nose. This feels foamy, with lightly vegetal flavors of apple that finish briny.',\n",
       " 'wine review : Chile : Rapel Valley : Pinot Noir : Jumpy on the nose at first, but then green tea and grassy aromas take over. This PN is what it is: it tastes grassy, leafy and like green beans. Vegetal notes carry over to the finish.',\n",
       " \"wine review : Chile : Leyda Valley : Chardonnay : Aromas of pumpkin, squash and corn chips are stale and not inviting. There's an acceptable mouthfeel to this weird, unbalanced Chardonnay along with flavors of spiced squash, mealy apple and sautéed root vegetables.\",\n",
       " \"wine review : Australia : Victoria : Muscat : This wine contains some material over 100 years old, but shows no signs of fragility. Instead, it's concentrated through age and should hold in the bottle indefinitely. It's dark coffee-brown in color, with delectable aromas of rancio, dried fig, molasses and black tea, yet despite enormous concentration avoids excessive weight. And it's amazingly complex and fresh on the nearly endless finish.\",\n",
       " \"wine review : Australia : Victoria : Muscadelle : This deep brown wine smells like a damp, mossy cave. Then add complex rancio notes, plus maple syrup and molasses. It's full, round and harmonious, wonderfully rich yet without any sense of heaviness and long and bright on the finish.\",\n",
       " \"wine review : Germany : Rheingau : Riesling : Dusty, saffron-spiced earthiness is juxtaposed against intense mango and tangerine fruitiness in this deeply complex wine. It's unctuously sweet, but balanced by a piercing streak of acidity that penetrates through the midpalate. Spry and silken, it finishes on a long lingering whisper of honey and peach.\",\n",
       " 'wine review : Australia : Victoria : Muscat : Deep mahogany. Dried fig and black tea on the nose, then concentrated mocha and molasses flavors, enlivened by candied orange zest. Full, rich and sweet, but surprisingly drinkable, with terrific intensity and length.',\n",
       " \"wine review : Australia : South Australia : Shiraz-Viognier : RunRig is always complex, and the 2012 doesn't disappoint in that regard, mixing bacony-meaty notes with hints of black olives and ripe plums. The tannins are supremely supple, but the acids are crisp, resulting in a long, mouthwatering finish. Drink now–2030.\",\n",
       " 'wine review : Italy : Piedmont : Nebbiolo : After a few minutes in the glass, this stunning wine opens up to reveal classic Nebbiolo aromas of leather, tilled soil, underbrush, fragrant blue flower and ripe berry. The juicy concentrated palate dishes out layers of succulent black cherry, crushed raspberry, anise and pipe tobacco framed in firm, velvety tannins. Drink 2022–2035.',\n",
       " 'wine review : Hungary : Tokaji : Furmint : This amber-colored Hungarian stunner has ethereal aromas of raw honey, beeswax, freshly baked tarte Tatin, canned apricot and fresh pear. It is silky smooth and creamy in the mouth with pronounced flavors of clover honey, pear tart and baked sweet apples. The acidity is perfectly balanced so you can appreciate its velvety richness without feeling that the sweetness is too cloying.',\n",
       " 'wine review : US : California : Chardonnay : Citrus-kissed saltiness lies at the core of this incredibly delicious, deliriously crafted wine, from the great grape grower in the heart of the Russian River Valley. Beautifully crisp, it lingers in stony minerality and a freshness of apricot, memorable from first sip to last.',\n",
       " 'wine review : France : Burgundy : Chardonnay : This beautiful, rich wine has yellow fruits and is concentrated, tightly textured and conveys a ripe character. The touches of wood are just right, adding spice to the opulent fruitiness. A mineral texture gives some tightness to the aftertaste. Drink from 2024.',\n",
       " \"wine review : Germany : Rheingau : Riesling : Whiffs of white mushroom, saffron and caramel lend complexity to this concentrated elixir of apricots and orange peels. It's honeyed and sweet but vivaciously balanced, glazing the palate in ethereal textures of gossamer and tulle. The caramel finish lingers endlessly.\",\n",
       " 'wine review : US : California : Chardonnay : A waft of smoky char and toasty oak provide a rich foundation and compelling entry into this one-acre vineyard-designate from the historic grower, before unleashing, slowly, a torrent of melon and fresh-cut apple with a length of intriguing nutmeg and cardamom. Medium-bodied and lush, it will remain on your palate memory a long time.',\n",
       " \"wine review : Australia : Victoria : Shiraz : Dusty, firm, powerful: just a few apt descriptors for this vintage of one of Heathcote's top wines. Mocha, licorice and blackberries feature on the nose, while the palate delivers more of the same—dark fruit, chocolate and plenty of spice. Best after 2020.\",\n",
       " 'wine review : France : Burgundy : Pinot Noir : Produced from vines more than 100 years old in the heart of the Clos de Vougeot vineyard, this is an impressive wine with a long future. The wood aging is already surrounded by ripe, intense black fruits. A fresher character comes from the bright acidity of the vintage, giving the wine a lift. The aftertaste is long and concentrated. Drink from 2024.',\n",
       " \"wine review : Germany : Rheingau : Riesling : Intensely fragrant, this honey-sweet auslese wafts of ripe yellow peaches and caramelized sugar. Tropical mango, pineapple and melon collide on the palate before falling neatly in line against a strike of high-toned acidity. The finish is luxuriously long, peppered by a faint dusting of saffron. It's a stunner already but should shine brightly for decades to come.\",\n",
       " 'wine review : France : Burgundy : Chardonnay : Up the slope above the Grand Cru of Le Montrachet, this vineyard once grew hemp (hence the name, cheneve). This poised wine is both stylish and rich, with good acidity allied to ripe apple and citrus fruits, cut through the mineral texture and promise a generous wine as it ages. Drink from 2020.',\n",
       " \"wine review : Australia : South Australia : Shiraz-Viognier : Bacon and tapenade elements merge easily on the nose, followed by a wine that's full bodied and creamy textured on the palate. This is dark and meaty in profile, yet not heavy or cooked, with a long, harmonious finish. Drink now–2030.\",\n",
       " 'wine review : Italy : Piedmont : Nebbiolo : Enticing scents of ripe berry, underbrush, grilled herb and eucalyptus mingle together along with an underlying fragrance of rose petal. Elegant and fresh, the impeccably balanced palate delivers tart red cherry, cake spice, white pepper and mineral nuances alongside polished tannins. Drink 2018–2028.',\n",
       " \"wine review : US : California : Cabernet Sauvignon : As impressive as the woman—a pioneer in the Napa Valley—was herself, this 100% varietal wine from the estate property high atop Diamond Mountain is powerfully elegant, intense yet refined. It begins with a high-toned, graceful entry that's rich in blueberry and chocolate, the oak smooth and integrated, with a suggestion of hand-rolled tobacco. Drink now through 2022.\",\n",
       " 'wine review : France : Burgundy : Chardonnay : This is an opulent wine from one of the fabled series of white Grand Crus. Along with generous yellow fruits and ripe citrus, it has weight and gravitas. Spice from the wood fills things out even more, giving the wine its balance, its intensity and its future. Drink from 2022.',\n",
       " \"wine review : US : Oregon : Pinot Noir : For 2014, the Weber is the star of a very fine Winderlea lineup. Dark and deeply concentrated, it's jammed with black cherry fruit, annotated with anise and showing a hint of gunmetal. The tannins are ripe and taste of clean earth. This is a fine candidate for aging. Drink now through 2030.\",\n",
       " \"wine review : Australia : South Australia : Shiraz : The Taylor family selected Clare Valley for its Cabernet affinity, but this Shiraz is a knockout. Yes, it's oaky—full of menthol, vanilla and toasted coconut—but there's just enough black cherry and plum fruit to support the wood. It's a plush, full-bodied wine with immense appeal, for drinking now–2025.\",\n",
       " 'wine review : Italy : Northeastern Italy : Pinot Bianco : This spends 12 months in oak and it shows: It offers aromas of liquid smoke and flavors of brown sugar, honey and caramel. The fruit is subdued, leaving the emphasis on the oak and mineral components. Try with rich but delicately flavored fish dishes or mild chèvres.',\n",
       " 'wine review : Chile : Maipo Valley : Carmenère : Aromas of mint, berry syrup and dense, lemony oak lay a good foundation for the heavy black fruit that comes on the palate atop a plush carpet of toasty, fresh-grained wood. The finish is round, tasty and mouthfilling, while overall the wine seems to dance due to popping acidity. This is Carmenère with a vital streak.',\n",
       " 'wine review : Italy : Veneto : Garganega : A plump, juicy mouthful of citrusy fruit, worth trying with grilled or broiled seafood. The zesty lime aromas broaden out on the palate to include orange and tangerine flavors, making it tart but not too tart. Best Buy.',\n",
       " 'wine review : Italy : Northeastern Italy : Chardonnay : This medium-weight wine flows effortlessly from start to finish, blending aromas of smoke and nuts with a citrusy core. Picks up savory nutty, cheesy notes (like a good Gruyère) on the long finish.',\n",
       " 'wine review : US : California : Cabernet Sauvignon : Mint again, with earth and tobacco; one taster found traces of bell pepper. Coffee and brown sugar further soften a supple, mature mouthfeel. Drink now.',\n",
       " 'wine review : Italy : Northeastern Italy : Sauvignon Blanc : Fragrant, aromatic, grassy aromas give way to fresh, crisp, green fruit and gooseberry flavors. Finishes lively and vibrant.',\n",
       " 'wine review : Italy : Veneto : White Blend : A fresh, crisp style of Soave, brimming with green plum and light acidity. It has concentration and a light touch in equal measure.',\n",
       " 'wine review : Italy : Northeastern Italy : Sauvignon Blanc : Crisp, green, grassy wine with fresh acidity and herbeceous character. It is very New World with its tropical flavors and open, forward fruit.',\n",
       " 'wine review : US : California : Sauvignon Blanc : An irresistibly drinkable white wine, filled with the juiciest flavors of citrus fruits, fig, melon and peach, and just the tiniest bit sweet. Crisp acidity cleanses the palate and leaves it feeling minty fresh on the long, spicy finish.',\n",
       " 'wine review : Italy : Tuscany : Sangiovese : A soft, ripe wine that manages to showcase tobacco, earth and black cherry flavors in a relatively lightweight format, finishing long and tart.',\n",
       " \"wine review : Italy : Northeastern Italy : Pinot Grigio : A well-judged, well-structured wine that balances fresh, crisp and light fruit against flavors of peaches, almonds and cinnamon. It will be better in two or three years' time.\",\n",
       " 'wine review : Greece : Naoussa : White Blend : A fresh, tangy, vibrant wine that has ripe green plum and apple flavors alongside a layer of full, forward fruit.',\n",
       " \"wine review : Mexico : Valle de Guadalupe : Nebbiolo : The color is appropriately light, the aromas appropriately floral and rose-like. Fleshy cherry flavors are balanced by a helping of greens and flowers. Light and elegant. Who would've thought Nebbiolo like this could come from Mexico?\",\n",
       " \"wine review : Italy : Northeastern Italy : White Blend : This blend of Chardonnay, Nosiola and Pinot Bianco offers up apples and cream on the nose, along with flavors of peach and citrus. It's a comfortable mix of fruit that finishes lively and fresh, making it a fine apéritif.\",\n",
       " \"wine review : Chile : Rapel Valley : Merlot : At first this is aggressive, with an aromatic note of wet dog along with blueberries. But soon it finds its legs and opens to display chocolate, espresso and a big batch of black plum and blackberry. The finish has full tannins and some coffee-like flavor. Currently it's wall-to-wall big, but it should settle down in no time and become a good red to drink on any occasion.\",\n",
       " \"wine review : Italy : Veneto : White Blend : It's testament to this wine's balance that it remains so alive and fresh long after many other Biancos have faded. Intensely mineral aromas mix with notes of smoke and fresh apples; the flavors are earthy and hint at mineral oil. Long on the finish. Best Buy.\",\n",
       " \"wine review : Chile : Maipo Valley : Cabernet Sauvignon : With its herbal, traditional aromas, this New World Cabernet could impersonate and Old World model. The palate is tight and firm, with lively tannins and bracing acids. The flavors run toward plum and chocolate, and there's a bitter hint on the back palate. The finish is plummy and dark.\",\n",
       " 'wine review : Italy : Veneto : Chardonnay : This lovely Chardonnay has just the right blend of juicy peaches and subtle herbs and flowers to make it easy to drink, yet interesting enough to hold your attention. Finishes long and mouthwatering.',\n",
       " 'wine review : Italy : Northeastern Italy : Gewürztraminer : Aromas of roses, pepper and spices make this an enticing wine. On the palate, it is ripe, soft, full-bodied and rich, lacking acidity, but otherwise classic Gewürztraminer.',\n",
       " 'wine review : US : California : Sauvignon Blanc : Richly textured, viscous but with good acidty for balance. The wine shows pretty melon, citrus, herb, grass, peach and spice flavors and features a mineral edge that is fresh and clean at the end.',\n",
       " \"wine review : US : California : Merlot : A first-rate wine, with well-ripened flavors of blackberries, espresso, cola, tea, and bitter chocolate, but made more interesting by fresh acidity not often seen in today's better Merlots. This cool-climate wine also has sturdy tannins that suggest mid-term aging.\",\n",
       " \"wine review : US : California : Sauvignon Blanc : A great and versatile food wine. Its polished flavors of lime, fig and apricot are drizzled with Oriental spices and smoky oak. One of California's  most consistent wines, and rich enough to stand in for Chardonnay.\",\n",
       " 'wine review : US : California : Pinot Noir : Delicate and complex, a cool climate wine with a mixture of ripe cherry flavors and leaner ones of tobacco, tomato skin, and cranberry. Bone dry with excellent acidity, this somewhat tart wine is well made, and may be an ager.',\n",
       " \"wine review : Italy : Northeastern Italy : White Blend : A blend of grapes, so maybe it is not surprising that the aromas and flavors are a blend: melons, pears and limes, all presented with great freshness and verve alongside a rich texture. Editors' Choice.\",\n",
       " \"wine review : Chile : Maipo Valley : Cabernet Sauvignon : Right off the bat this wine is pure and smooth. The nose is pretty, with cranberry and cassis. Next up is a palate of pure red fruit and only a light shading of oak. The finish draws applause for its clarity and buttery nuances. It's what a good Chilean Cabernet should be; it's ripe and easy to drink, yet fairly solid and impressive. Best Buy.\",\n",
       " \"wine review : Chile : Central Valley : Chardonnay : With full oak and pineapple aromas along with a big mouthful of spicy apple and pear fruit, this is no weakling. On the contrary, it's full and meaty, with a lot of texture and extract. The feel is healthy even if the acidity is on the low side. A very good wine to drink now; it probably won't age that well.\",\n",
       " \"wine review : US : California : Sauvignon Blanc : A lovely wine, made even more attractive by the value price. It has flavors and lemons and limes and a ripe, sweet edge of honey, although it's technically dry. The acidity is clean and refreshing.\",\n",
       " 'wine review : Chile : Lontué Valley : Chardonnay : Strongly oaked, but fresh, young and healthy in the nose. The smell of coconut and lemon curd is friendly and soft, while the palate is loaded with more lemon, coconut, pear and nutmeg. The texture is rich, and, for now, the acidity is bright. A solid Chardonnay for current drinking.',\n",
       " \"wine review : Chile : Maipo Valley : Merlot : Smooth smelling, with pure and fresh berry and plum aromas. Very young and a bit tangy on the palate, with cherry and berry flavors and an oaky, soft finish that goes sweet then sour, and lasts for a long time. In terms of structure, it's balanced, mildly tannic, yet meant for drinking now.\",\n",
       " 'wine review : Italy : Northeastern Italy : White Blend : This is the first vintage of this blend of Chardonnay, Pinot Grigio and Sauvignon Blanc, named after the 16th-century abbess Rylint Formentini. Peppery in character, with rich, complex fruit, it has citric flavors, along with a sense of structure and acidity.',\n",
       " \"wine review : US : California : Zinfandel : Rich in spicy, briary berry-cherry and chocolate fruit, with ultra-smooth tannins, and just enough acidity to cut through barbecue sauce. It's a bit sweet and Porty on its own.\",\n",
       " \"wine review : Chile : Colchagua Valley : Pinot Noir : Fresh aromas of red cherry and light berry fruit precede a palate that runs a little racy, with borderline tart plum and pie cherry flavors. A solid mouthfeel and mild, chalky tannins give it presence, and for sure it's a clean, sturdy wine. But that's really as far as it goes.\",\n",
       " \"wine review : Chile : Curicó Valley : Sauvignon Blanc : On the plump but balanced side, with a perfumed nose that's almost sweet for SB. In the mouth, it's fairly lively and lifted, with nectarine and melon flavors that morph into pink grapefruit on the finish. Decent quality; will get the job done.\",\n",
       " 'wine review : Italy : Veneto : Prosecco : The wine starts off slowly due to a note of almond nut or cardboard that masks the natural fruit. Once it gets started, however, this luminous sparkling Prosecco offers cheerful notes of stone fruit and pear.',\n",
       " \"wine review : Italy : Italy Other : Prosecco : Tonic and lean with a nearly transparent color and lively perlage, this non-DOC Prosecco offers candy-like aromas of butterscotch and lemon soda. There's an interesting touch of crushed white peppercorn in there as well and this well-priced wine would make a perfect match to appetizers and finger foods.\",\n",
       " 'wine review : Italy : Veneto : Prosecco : This Extra Dry (slightly sweet) vintage Prosecco delivers a lean, slightly watery style and piquant bubbles that recall lemon soda. The wine is firm and steely in the mouth with tonic bubbling and layers of fresh fruit on the close.',\n",
       " 'wine review : Chile : Colchagua Valley : Syrah : Formerly doing business as “Shiraz,” this Syrah from Bisquertt offers a huge purple tint, roasted aromas of blackberry and campfire, and a ripe, grapey palate that brims with simple, racy black cherry, pepper and other driving flavors. Not timid by any means but also nothing out of the ordinary.',\n",
       " \"wine review : US : California : Red Blend : Dry and acidic, this light-bodied wine has tart flavors of mashed cherries, cherryskins, orange zest and citrus fruits. It's a Bordeaux blend with Zinfandel and Sangiovese. Nice with pizza with prosciutto and olives.\",\n",
       " \"wine review : US : California : Syrah : Smells funky, with sweaty leather aromas, although you'll also find varietal notes of the grape. Tastes all right, with blackberries, currants, leather and mocha that are wrapped into firm tannins.\",\n",
       " \"wine review : Italy : Veneto : Prosecco : Citrus tones, peach, white flower and mineral notes come forward thanks to the wine's bright personality and zesty effervescence. There are soft notes of crushed pepper and loads of sweet stone fruit flavors to enjoy as well.\",\n",
       " 'wine review : France : Champagne : Champagne Blend : A creamy, caramel- and pear-flavored wine, keeping freshness but enriched with an almond and custard tart finish.',\n",
       " \"wine review : Chile : Casablanca Valley : Chardonnay : Aromas of baked apple, nut oil and toast are mildly appealing, while the round, dry palate is home to flavors of melon and bitter pith. The finish of peach pit and citrus peel is par for the course, and overall it's time to get at this standard Chardonnay before it goes flaccid.\",\n",
       " 'wine review : Italy : Veneto : Prosecco : This Prosecco delivers medium intensity and a compact, slightly watery mouthfeel followed by lime, kiwi, white flower, honey and chopped basil. The cheerful sparkler ends with creamy consistency thanks to the foamy quality of its effervescence.',\n",
       " 'wine review : US : New York : Gewürztraminer : Fresh and delicate with floral and citrus overtones, this wine has an elegant character. Its dry, spicy flavors are subtle and refreshing, giving the wine food pairing flexibility. Ideally, though, think of spicy cuisine like Indian, Thai or Indonesian.',\n",
       " 'wine review : US : New York : Cabernet Franc : An elegant nose of violet and blackberry gives this Cab Franc a graceful start. On the palate, soft cherry and blackberry flavors are punctuated by spice and pepper. An interesting sip that will pair well with fowl, beef.',\n",
       " 'wine review : US : California : Cabernet Sauvignon : A nice Cabernet for this everyday price. Dry and smooth, it shows interesting flavors of black currants, plums, herbs and spice, with a touch of smoky oak.',\n",
       " 'wine review : Italy : Veneto : Prosecco : Canah Brut Prosecco exhibits a slightly more saturated golden color and intense notes of mature peach, dried apricot with delicate mineral tones in the background. This rich sparkler is fatter and denser than most Proseccos and boasts an attractively low price tag.',\n",
       " \"wine review : Italy : Veneto : Prosecco : Here's an organically grown Prosecco with citrusy notes of lime and grapefruit backed by white mineral and orange blossom. The wine is firm and slightly sweet on the finish and offers an easy, no-fuss experience overall.\",\n",
       " \"wine review : Italy : Veneto : Prosecco : Here's a Prosecco with a broad and far-reaching aspect to its aromatic profile that recalls roasted almonds, mature peach and yellow rose. There's a pungent note in there as well of ash or talc powder and the sparkler ends with a playful blast of piquant spice.\",\n",
       " 'wine review : US : New York : Riesling : Citrus and spice overtones dominate the nose of this elegant Riesling. On the palate, slightly sweet fruit flavors are balanced by mineral and spice. Pair with grilled seafood, salads and cheeses.',\n",
       " 'wine review : Italy : Veneto : Prosecco : This is an easy-going Prosecco with lively tones of stone fruit and citrus. The wine is informal and tonic which makes it perfect as an appetizer wine or with friends on a lazy summer afternoon.',\n",
       " 'wine review : Italy : Veneto : Prosecco : This is a sweet style of Prosecco with a luminous appearance and grassy-herbal notes followed by white peach, honey and jasmine. More herbal flavors appear on the close and the wine is fresh and simple in the mouth.',\n",
       " 'wine review : Austria : Burgenland : Red Blend : Using many biodynamic practices, Werner Michlits has crafted a rich, sweet and juicy wine, full of intense fruit, touched by spice, but more to do with black plum, fresh figs and vivid acidity. This is a hearty wine, ready to drink, its final tannins soft. Screwcap.',\n",
       " 'wine review : France : Bordeaux : Bordeaux-style Red Blend : A smooth, perfumed wine that has softened just in time for its fifth year. It has black-currant and berry fruits that are ripe while still showing fresh acidity. The tannic structure is there, well integrated into the polished structure. Drinkable now.',\n",
       " 'wine review : France : Bordeaux : Bordeaux-style White Blend : This is the first of 15 estates the Gonfrier family owns throughout Bordeaux. There are strong wood influences here, although the fruit is enough to match up. So ripe pear and apricot flavors go with those toasty characters to give a rich, full-bodied wine. It will be better from late 2016.',\n",
       " 'wine review : US : Washington : Merlot : All varietal, this wine is a blend of fruit from top sites Ciel du Cheval, Conner Lee, Obelisco and Stonetree. The aromas are quite reserved, with notes of barrel spice that are followed by full-bodied fruit flavors with a spicy finish. It drinks well but the variety seems lost.',\n",
       " 'wine review : US : Washington : Grenache Blanc : The light aromas suggest notes of star fruit and citrus. The palate is flavorful, with racy acids keeping the fruit in focus.',\n",
       " 'wine review : Austria : Weinviertel : Grüner Veltliner : There is a savory, fragrant, mossy greenness that draws you in. On the concentrated palate, this becomes more distinct as the peel of Bosc pear and crushed arugula emerge. Lime zestiness comes with a slightly warm finish.',\n",
       " \"wine review : US : California : White Blend : This wine is dry and rather full bodied, starting with fruity aromas like banana and coconut then seguing to more nutty, oaky, complex flavors and a rich texture. It's a serious dinner wine with heft and substance.\",\n",
       " \"wine review : US : New York : Rosé : Blossom and berry notes are accented by hints of smoked nut in this refreshingly light-bodied wine. Zesty and lithe on the palate, it's an ideal summer-to-fall apéritif or porch sipper. The moderately long finish is marked with a hint of waxy florals.\",\n",
       " 'wine review : Spain : Northern Spain : Tempranillo : Slightly foxy on the nose, with rubbery aromas of cherry and cassis, this offers a tight, tannic palate with hard, elastic tannins. Flavors of cherry and cassis are pleasant, while the finish is ripe, warming and healthy.',\n",
       " 'wine review : US : New York : Sparkling Blend : A touch blossomy against a core of ripe raspberry and cherry perfume, the nose on this traditional-method Pinot Noir sparkler is particularly alluring. The palate is elegant and fresh, marked by fine, mouthfilling mousse and delicate raspberry-candy finish.',\n",
       " 'wine review : Austria : Kremstal : Grüner Veltliner : An earthy hint colors the pear notes which on the palate acquire a fresh, almost floral quality. The earthy tone of yeast and miso provides a counterpoint to the zesty, lime-peel freshness. The finish is clean-cut and very refreshing.',\n",
       " \"wine review : US : Washington : Syrah : Aromas of coffee, barrel spice and dark-blue fruit lead to rich, full-bodied blackberry and spice flavors. It's not for the faint of heart but delivers a lot of enjoyment.\",\n",
       " \"wine review : US : California : Sauvignon Blanc : Yellow pear, fresh-squeezed lime, light mint and wet-cement aromas show on the brisk nose of this bottling by veteran Adam Tolmach. A grippy texture and lively acidity frame the palate, where green apple and lime flavors show. It's clean, pure and easy.\",\n",
       " \"wine review : US : California : Tempranillo : This Tempranillo-based pinkie is quite inviting and tightly textured, with aromas of orange shave ice, strawberry cream, watermelon and cement. It is extremely zesty and lively once sipped, offering easy-to-drink raspberry and melon notes. It's great for all sorts of food, from spicy to rich.\",\n",
       " 'wine review : US : Washington : Riesling : The aromas of whole lime, flowers, jasmine and watermelon Jolly Rancher pop. It drinks off dry, with floral flavors that carry through the finish.',\n",
       " \"wine review : US : California : Grenache Blanc : Smoky aromas and a bold apricot flavor give this dry and seemingly light-bodied wine a distinct personality. Fermented in small concrete egg-shaped vats, it's far from simple and fruity, and instead offers great acidity and a tangy, tempting, appetizing personality.\",\n",
       " 'wine review : Italy : Piedmont : Nebbiolo : Coffee, toasted oak, coconut and raspberry confiture aromas lead the way. On the dense palate, dark chocolate, oak and licorice accent fleshy black cherry while fine-grained tannins provide support.',\n",
       " 'wine review : Austria : Thermenregion : Zierfandler : Creamy notes pear crumble make for a most attractive nose. The palate follows with gentle softness and concentration, supported by bright, fresh acidity. The creamy notes continue alongside notes of green and red apple and fresh pear. There is a lot of substance and body, so have this alongside a meal, the finish is superclean.',\n",
       " 'wine review : Italy : Piedmont : Cortese : Aromas of apricot and white spring flower lift out of the glass. The apricot note follows through to the palate, along with yellow peach, honeydew melon and almond, all framed in bright acidity. This one closes on a flinty note.',\n",
       " \"wine review : US : California : Bordeaux-style Red Blend : Blended from all five Bordeaux varieties, with Cabernet Sauvignon and Merlot almost equal in proportion, this is a lovely, well-crafted wine, softly concentrated with highlights of licorice, lavender, violets and black pepper. From three ranches farmed by the family, it's both seamless and structured.\",\n",
       " 'wine review : Spain : Northern Spain : Mencía : Fresh, focused and tight on the nose, with an undertone of mild oak and earth, this gets going with ease. A fresh, fruity palate is just rugged enough, while flavors of black plum, cherry, licorice and herbs finish toasty, spicy and firm.',\n",
       " 'wine review : Spain : Northern Spain : Mencía : Leathery berry and savory, smoky oak aromas are a rugged introduction to a stout palate with juicy acidity. Flavors of baked plum, hard spices, salt and savory herbs finish with rubbery tannins, energy and spicy, peppery flavors.',\n",
       " 'wine review : US : Washington : Cabernet Sauvignon : This wine is a blend of fruit from five different vineyards scattered across the valley. The aromas of barrel spice, black cherry, dried leaves, herbs and flowers still seem quite locked up. The flavors are generous and full with palate coating milk chocolate and cherry flavors with a finish that lingers.',\n",
       " 'wine review : Austria : Niederösterreich : Zweigelt : Tender notes of red apple skin and bottled strawberries are pulled into focus by zesty citrus. The bone-dry palate reveals more bottled but wonderfully tart strawberry flavors and finishes in a very linear, refreshing and light-footed fashion.',\n",
       " \"wine review : US : New York : Cabernet Franc : Voluptuous blackberry and plum flavors are edged by hints of bitter coffee and spice in this richly bodied wine. Fringed by a bare feather of tannins, it's luscious in mouthfeel, with an unctuousness that persists luxuriously on the palate.\",\n",
       " 'wine review : US : California : Zinfandel : Berry crumble and licorice star in this full-bodied, hearty and smooth wine, blended with 4% Petite Sirah. Spicy oak and milk chocolate unleash further flavor and spice on the finish.',\n",
       " 'wine review : Austria : Wagram : Grüner Veltliner : Earthy, savory notes of yeast and miso swing alongside the green pear flavors. There is spice and concentration on the midpalate and some tingling pepper spice.',\n",
       " 'wine review : Italy : Sicily & Sardinia : Nerello Mascalese : Vibrant and savory, this has aromas of red berry, blue flower and a whiff of baking spice. The bright palate doles out red cherry, juicy strawberry, and star anise alongside bright acidity that gives it a crisp finish.',\n",
       " 'wine review : US : California : Cabernet Sauvignon : Fresh blueberry and grape aromas meet with black plum, asphalt and turned earth on the nose of this bottling by Steve Dooley of Stephen Ross Cellars. Fresh blackberry juice, black pepper and dill show on the palate that is coated with decent acidity and a good tannic structure.',\n",
       " \"wine review : France : Loire Valley : Melon : The wine is initially soft with melon and ripe pear fruit. Behind this fruity exterior, there is a crisper citrus character that is bright and light. It's a ripe wine, all fruit with a tighter, mineral aftertaste. Drink from 2017.\",\n",
       " 'wine review : France : Rhône Valley : Rhône-style White Blend : This appealing blend of 50% Roussanne, 30% Grenache Blanc and 20% Clairette is tight and citrusy on the nose, broadening out on the palate to offer hints of apple, pineapple and underripe melon. Drink now.',\n",
       " 'wine review : Italy : Lombardy : Chardonnay : Aligi Sassu is a lovely sparkler without added sugar or liqueur. It offers a fragrance of white flower, lemon drop and nut. The palate delivers citrus, apple and almond flavors along with refined, persistent bubbles and a bone-dry finish.',\n",
       " 'wine review : France : Champagne : Champagne Blend : Now part of Jacquart Champagne, Montaudon produces sophisticated and elegant wines, as this Classe M shows. It is crisp and dry in style with citrus and grapefruit flavors dominating. but some bottle age adds texture and notes of toastiness.',\n",
       " \"wine review : Italy : Tuscany : Sangiovese : Here's an enticing Vino Nobile offering aromas of underbrush, tobacco leaf, ripe cherry and spice. The palate delivers succulent black cherry, plum, cinnamon and nutmeg along with velvety tannins. Although it shows the warmth of the vintage, it still retains elegance and class. Delicatio Wines, Golden Vines.\",\n",
       " 'wine review : France : Burgundy : Chardonnay : Aromas of wood aging and ripe yellow fruits are a fine pairing for this wine that comes from the slopes above Meursault. With its textured character, apricot and peach flavors and tight acidity, this is a serious and complex wine that demands aging. Drink from 2015.',\n",
       " \"wine review : France : Champagne : Champagne Blend : This is a rich, bottle-aged wine is bright with lemon and green-apple fruitiness, but it's starting to develop secondary flavors—notes of toast, almonds and cookies—as well. It's at just the right stage of development and ready to drink now.\",\n",
       " \"wine review : Canada : Ontario : Vidal : An aromatic knockout with notes of peach, papaya, lychee and brown sugar. At 250 g/L of residual sugar, it's dense and rich with carmelized sugar flavors and a lengthy finish.\",\n",
       " \"wine review : US : California : Chardonnay : Fine acidity and a bracing minerality, like a lick of cold steel on a winter day, mark this Chardonnay. It has oak notes, but they're wisely kept in the background, allowing the citrus, green apple and peach flavors to star. This beautiful wine continues the winery's string of great reserve Chardonnays, and is their best since the 2006 vintage.\",\n",
       " \"wine review : US : California : Sparkling Blend : Thickly moussed, Roederer's Brut, 60% Chardonnay blended with 40% Pinot Noir, aged two years on yeast is affordable and luxurious. A gorgeous, very dry sparkling wine with aromatics of honey, raisin, apple and pear, it is rich and soft and offers both depth and length. It's an ideal marriage of bright acidity and ripe fruit character.\",\n",
       " \"wine review : US : California : Pinot Noir : With a wine this finely constructed, the question is always ageability. There's no question about the immediate deliciousness. It's thrilling with raspberries, strawberries, orange rind and cola, and complex notes of minerals and earth. The mouthfeel is absolutely beautiful, comprised of silk and satin brightened with acidity. So should you drink it now? Yes. Will it age? For the next six years, yes.\",\n",
       " \"wine review : Italy : Lombardy : Sparkling Blend : From one of Franciacorta's leading producers, Gran Cuvée Pas Operé offers an enticing fragrance of acacia flower, white flowers and beeswax. The creamy palate delivers apple, nut, spice, thyme and sage along with fine, persistent effervescence.\",\n",
       " \"wine review : France : Champagne : Champagne Blend : A rich, bottled-aged wine, full of toast as well as apple and crisp grapefruit flavors, this has great balance and elegance. It's full of fruit, but structured and seamlessly integrated. It's ready to drink now, but will also improve with age. Drink until 2020.\",\n",
       " 'wine review : US : Oregon : Pinot Noir : Proving that exceptional wines can be (and were) made in this cool, light vintage, this estate-grown selection is both elegant and complex. Flavors of mixed wild berries, a streak of tea, a whiff of peach and compelling balance carry it through an extended finish.',\n",
       " 'wine review : US : Oregon : Pinot Blanc : A marvelous Pinot Blanc, this combines aromatic hints of almond with mixed citrus fruit and rind, zippy acidity and a great wash of minerality. It cleanses and tickles the palate, lingering sensuously through a finish of surprising depth.',\n",
       " \"wine review : France : Burgundy : Chardonnay : This big, ripe and fruity wine shows both the richness and the structure of the vintage, but never loses sight of balance. It's full of rich yellow fruits, green plums and citrus, but structured with refreshing acidity, a minerally texture and gentle hints of wood aging. Drink from 2015.\",\n",
       " \"wine review : France : Champagne : Champagne Blend : This is a beautiful wine showing remarkable richness and maturity. Hints of toast and bright fruits combine seamlessly to yield a full, ripe wine marked with with intense acidity. With concentration from old vines showing strongly, it's a wine that's ready to drink now.\",\n",
       " 'wine review : Germany : Rheinhessen : Riesling : Richly textured and unabashedly full in body, this dry Riesling is intensely ripe. Pineapple and peach flavor is accented by zesty lime peel and earthy tones of wet stone and lanolin. The midpalate is lifted by a whiff of violet perfume and bold, lemon-lime acidity envigorates the finish.',\n",
       " \"wine review : Italy : Veneto : Red Blend : Morar is a spicy Amarone with a fragrance of raisin, baked plum, tobacco and black pepper. The palate delivers lush black cherry and raspberry flavors mingled with intense white pepper, clove and nutmeg notes. It's smooth and rich with enough freshness to make this a perfect match for seasoned cheeses or roasted red meat.\",\n",
       " \"wine review : France : Champagne : Chardonnay : Crisp and structured, this is an intensely mineral wine. It has great acidity and a strongly zesty, tangy character that still needs time to soften. It's bright, fruity and full of dancing freshness. It's good to go now, but keep until 2017 and it will be that much more complex.\",\n",
       " 'wine review : US : Oregon : Pinot Noir : Dense, dark and spicy, this opens with a thicket of briar and bramble—one almost wants to say thistle—wrapped around taut, compact black fruits. There is a hint of gun metal running through the palate, and as the wine warms and slowly opens, it reveals a lingering finish with a little pat of butter left on the tongue. This should be in fine shape for at least another decade.',\n",
       " 'wine review : Germany : Mosel : Riesling : The nose of this powerfully fruity yet dry Riesling packs a punch, with aromas of ripe pineapple, apricot and floral potpourri. The palate is dense with stone fruit, and a hint of red berry flavor, but finishes elegantly with sleek mineral tones.',\n",
       " 'wine review : Germany : Mosel : Riesling : Lanolin and honeycomb notes lend a minerally feel to rich, lusciously concentrated peach and tangerine flavors in this powerful yet finely structured kabinett. A hint of spritz and shocking lemon-lime acidity lead the way to a long, elegant finish.',\n",
       " 'wine review : France : Champagne : Champagne Blend : Very dry in style, this is a beautifully crisp, tight and taut Champagne. It has citrus and green apple flavors, and is steely in character while also fruity. It could do well with some more bottle age.',\n",
       " 'wine review : France : Burgundy : Pinot Noir : Rich and opulent, this is a full-throated Pinot Noir. It has ripe berry flavors and a balancing acidity that supports a dense texture and underlay of firm tannins. While delicious now, this is a wine that will improve with aging so drink from 2016.',\n",
       " \"wine review : France : Burgundy : Pinot Noir : This wine is ripe, rich and full in the mouth, like a fruit salad of red cherries, plums and berries. Yet there's a more solid side—rounded tannins support the concentrated fruits, and touches of wood aging broaden the feel of this impressive wine. Drink from 2017.\",\n",
       " \"wine review : Portugal : Alentejano : Portuguese Red : A powerful wine, richly structured and full of ripe fruits. It has a solid feel to it, firmly anchored to its dark tannins as well as lightened by the juicy berry flavors. A blend that includes Cabernet Sauvignon and Syrah, it needs serious aging, so don't drink before 2017.\",\n",
       " 'wine review : France : Champagne : Champagne Blend : Already mature, this is a rich and opulent wine that blends together toast and secondary-fruit aromas with fresh, lively acidity. It has weight and substantial depth and concentration. It should age well for another few years, but this impressive wine can be drunk now as well.',\n",
       " \"wine review : US : California : Cabernet Sauvignon : This 100% Cabernet Sauvignon was grown in the well-known Beckstoffer Georges III Vineyard. It's at a funny stage of development, with primary cherry and blackberry fruit starting to fade, while sage, dill, green olive and dried fruit notes are emerging. The tannins remain robust, while the acidity is just about perfect for Napa Valley. Awkward now, but with a promising future, it should emerge from the doldrums after 2017.\",\n",
       " \"wine review : US : California : Red Blend : This is a big wine, clearly in need of cellaring. There's a massive core of blackberries, cherries and baking chocolate on the palate, but it's rigidly tannic, dry and acidic still. The blend is 70% Cabernet Sauvignon, 15% Merlot and 15% Sangiovese, putting it in the super Tuscan category. Give it until 2017 to begin to mellow, and it could still be going strong in 2025.\",\n",
       " 'wine review : France : Bordeaux : Bordeaux-style Red Blend : An interesting percentage of Cabernet Franc gives this wine a more perfumed character than is usual in many Pomerols. On the palate, the wine is rich and shows the aromatic character of the berry fruits and well integrated wood. It is young still, needing time. Drink from 2017.',\n",
       " 'wine review : France : Champagne : Champagne Blend : This is a superior vintage Champagne that is just beginning to mature. Crisp white and citrus fruits are beginning to fade into mature toast and cookie flavors, but the wine maintains its zesty texture. Drink this wine now, but beware the cork is secured precariously with string that must be cut to open.',\n",
       " 'wine review : Italy : Sicily & Sardinia : Cannonau : Garnet-ruby in color, this has fresh aromas of white cherry, plum, dried dill and rosemary. The mouthfeel is simple and clean, with fresh acidity on the close.',\n",
       " 'wine review : US : Washington : Bordeaux-style Red Blend : This Stella Mae is 50% Cabernet Sauvignon, 30% Merlot and 20% Cabernet Franc. It remains a rather lean wine in the Sparkman portfolio, despite having alcohol at 14.6%. Here are lightly earthy flavors of strawberry and herb, with a hint of green in the tannins.',\n",
       " 'wine review : Italy : Sicily & Sardinia : Cannonau : This pretty Cannonau-based wine opens with ripe aromas of blackberry, tobacco and dried spice. The mouthfeel is smooth, plush and dense.',\n",
       " \"wine review : US : California : Pinot Noir : The alcohol is nice and low in this dry Pinot Noir. It has a silky texture and complex flavors of red cherries, persimmons, cola and spices. Acidity is great but there's something slightly off, suggesting a trace of unripeness. Drink now.\",\n",
       " 'wine review : South Africa : Stellenbosch : Chenin Blanc : A glimmer of toast and honey add depth to the green fig, apple and underripe peach center of this wine. Fresh and zippy on the palate, the vibrant fruit and sweet citrus flavors carry through to the mouthwatering finish. Drink up.',\n",
       " \"wine review : South Africa : Western Cape : Chenin Blanc : A fresh and fruity wine that's ready to drink now. This has attractive aromas and flavors of green apple and lime followed by a clean, mouthwatering finish. There's a soft herbal streak that adds depth to the nose and mouth.\",\n",
       " 'wine review : France : Rhône Valley : Rhône-style Red Blend : Bulky and rugged but sound, with some drying tannins on the finish. It compensates by offering attractive flavors of black cherries, black olives and hints of asphalt and garrigue. Try it with hearty braises or stews.',\n",
       " \"wine review : US : California : Cabernet Sauvignon : This smooth, lush Cabernet is brimming with blackberry, black currant, blueberry cedar and spice flavors. It's classic Cabernet. You'll find quite a scour of acidity running through the middle, which suggests this wine should pair with rich, fatty meats.\",\n",
       " 'wine review : Italy : Northeastern Italy : White Blend : A blend of Friulano and Verduzzo, this delivers aromas of candied fruit, yellow rose, butterscotch, spice and apricot. It opens a clear window onto the natural characteristics of both grape varieties.',\n",
       " \"wine review : Italy : Northeastern Italy : Pinot Grigio : Pinot Grigio from the Friuli Grave tends to show extra creaminess and structure in the mouth. Here is a stellar example that's backed by flavors of peach, citrus and Golden Delicious apple.\",\n",
       " 'wine review : Italy : Northeastern Italy : Sauvignon : This bright white is redolent of tomato leaf, wild salvia and citrus. The brightness of the bouquet is followed by a satisfyingly creamy mouthfeel.',\n",
       " \"wine review : Spain : Catalonia : Sparkling Blend : Lime, apple and mineral aromas come with a note of eggy yeast. The mouthfeel is regular and a touch foamy, with semisweet flavors of kiwi, apple and gooseberry. Mild and feeling good on the finish, it's basic but well worth a go.\",\n",
       " 'wine review : Austria : Kremstal : Grüner Veltliner : This is a soft, creamed-apple style of wine, with a great shaft of acidity cutting through the crisp fruit. Kiwi and gooseberry fruits are lifted on the bright, lively finish.',\n",
       " 'wine review : US : Washington : Sangiovese : Tart and lively, this medium-bodied Sangiovese was co-fermented with small amounts of Syrah and Viognier. The Viognier contributes scents of citrus and stone fruit, which add some welcome complexity.',\n",
       " 'wine review : US : Washington : Red Blend : Produced by Three Rivers for celebrity winemaker Geoff Tate, the Insania is actually rather tame. Pretty fruit flavors of berry, cherry and plum introduce the wine gracefully, then run into some stiff, drying, chalky tannins.',\n",
       " \"wine review : US : New York : Chardonnay : This is intensely aromatic, with loads of tropical fruit, apple blossom and white peach notes on the nose and palate. It's fresh, tasty and big in body, yet deftly balanced. Soft, lemony acidity on the midpalate gets a boost of citrus rind and saline on the finish.\",\n",
       " 'wine review : US : California : Chardonnay : This El Dorado wine opens with aromas of sweet floral jasmine and is very pretty through and through. Its acidity sings perfectly through the middle of the wine, lifting the flavors of apple and dried apricot as well as the notes of lemon and lime on the finish. This should pair with a range of midweek dinners.',\n",
       " \"wine review : Spain : Northern Spain : Verdejo : This barrel-fermented Verdejo is interesting, but it's also a bit low on acidity. It smells like pine and blowsy flowers. Creamy, soft and cuddly on the palate, this has flavors of baked apple, wood resin and banana. It finishes round and sweet. Drink now.\",\n",
       " \"wine review : US : California : Cabernet Franc : This wine has the variety's trademark notes of herb, green bell pepper, with a woodsy qulaity. This is a full-bodied effort, bearing a long, spicy finish.\",\n",
       " \"wine review : US : California : Pinot Noir : There are lot's of cherry, cola, sandalwood and exotic spice flavors in this Pinot Noir. It's dry and silky, with a nice crispness from the acidity.\",\n",
       " \"wine review : France : Provence : Rosé : This is a big, spicy wine, with very ripe flavors of red berries. It''ss concentrated, with layers of pepper a tight lemon-zest acidity.\",\n",
       " \"wine review : Spain : Northern Spain : Rosé : Aromas of watermelon and a dusting of natural vanilla mark the bouquet. On the palate, it's fleshy but still crisp and focused, with nectarine, red apple and strawberry flavors. The finish lasts, with some sweetness.\",\n",
       " 'wine review : US : California : Verdelho : A Verdelho with a taste of nuts—like Marcona almonds—it gets more fruity and aromatic after a good swirl. This is marked by a tangy sweetness on the finish.',\n",
       " \"wine review : Austria : Österreichischer Sekt : Moscato : Deliciously perfumed, this is as light as a feather, with baked apple and lemon flavors. It's crisp and honey sweet—a great apéritif.\",\n",
       " \"wine review : US : California : Sauvignon Blanc : Sauvignon Blanc has been a consistent performer for Hanna, usually yielding a rich, ripe wine with brisk acidity. The '11 is one of their best efforts. It's tart, clean and savory, with the pineapple, tangerine and Meyer lemon flavors touched with a slight sweetness.\",\n",
       " 'wine review : France : Rhône Valley : Rhône-style Red Blend : A simple but attractive Côtes du Rhône, with impressively pure cherry-berry fruit, medium body and a slightly chunky feel. Drink it over the next couple of years.',\n",
       " 'wine review : Spain : Northern Spain : Tempranillo : Full and smoky, with bacon, blackberry and tire rubber on the nose. This is a bit grating in feel due to full tannins and acids, with wild berry flavors, bitter oak, black plum and darkness. Lengthy on the finish.',\n",
       " 'wine review : Italy : Northeastern Italy : White Blend : A blend of 70% Pinot Grigio and 30% Ribolla Gialla, this bright white opens with floral notes of jasmine and honeysuckle, white pepper and stone fruit. The Ribolla Gialla element adds structure and notes of caramel and pineapple.',\n",
       " 'wine review : US : Washington : Syrah : Medium bodied, this sharply defined wine brings in plenty of notes of herb, root and earth around its light berry fruit. It captures the defining flavors of Wahluke Slope Syrah in a somewhat muted style, reflecting the abbreviated growing season.',\n",
       " 'wine review : US : Washington : Tempranillo : This is a mix of fruit from both warm and cool vineyards, crafting a clean, fresh, lightly herbal wine with a pleasing dusty character. Hints of cocoa and toast annotate the tart berry fruit, with a thread of smoke and chalk running through the tannins.',\n",
       " \"wine review : US : California : Red Blend : This would be a straightforward Bordeaux red blend if not for the 5% Petite Sirah within. Together, it's 74% Cabernet Sauvignon, 12% Merlot, 7% Cabernet Franc and 2% Malbec as well, sourced from Howell Mountain and valley floor sites. Dusty and herbal, the wine is thick and sizably tannic, with dense black fruit, leather and coffee.\",\n",
       " 'wine review : US : California : Chardonnay : Flint and smoke aromas show strongly on this bottling, alongside hints of lemon balm and a rustic apple cider vinegar savory kick. Tangy smoked tangerine flavors show on the energized sip, where a unique sandalwood smoky quality plays with more cider-like tang.',\n",
       " 'wine review : France : Champagne : Champagne Blend : This potentially rich Champagne is still young. The Chardonnay and Pinot Noir that dominate the blend show tight acidity, minerality and a tangy, orange-like edge. Give it time to mature, and it will be splendid.',\n",
       " 'wine review : France : Champagne : Champagne Blend : Aged for an extra two years to soften its tense acidity, this Champagne is defiantly bone-dry yet not searing. Its ripe and rich fruitiness cushions the crisp acidity and taut, nervy citrus character. Drink now.',\n",
       " 'wine review : US : California : Cabernet Sauvignon : Big tannins support the layers of extracted, concentrated fruit that leans red into cherry, cassis and currant. Char and vanilla speak for the oak.',\n",
       " 'wine review : Chile : Colchagua Valley : Merlot : Baked blueberry and boysenberry aromas are more ripe than delicate. This Merlot is saturated and deeply tannic. Flavors of coffee, chocolate and lemon peel precede a toasty finish that overflows with chocolaty oak and lingering tannins. Drink through 2023.',\n",
       " 'wine review : US : California : Pinot Noir : Delicate in cranberry and strawberry, this wine is highlighted in uplifted acidity and plenty of length and breadth within its medium-bodied structure. A pleasing streak of cardamom is consistent throughout, as accents of forest floor and cola figure in.',\n",
       " 'wine review : US : California : Pinot Noir : This is a relatively thick and dense wine, grippy in tannin and oak at first, youthful and desiring of time and air. Beyond its strength, its shows the beginnings of delicacy and grace, commingling raspberry with clove and tea.',\n",
       " \"wine review : US : California : Pinot Noir : This is a soft, smooth and earthy wine, still unraveling from its youth, that's crisp and fresh in acidity. Chewy still in texture, it offers a glorious celebration of red cherry, rhubarb, tea and clove.\",\n",
       " \"wine review : France : Burgundy : Pinot Noir : From a walled vineyard once owned by the local bishop, this wine is structured and firm while also having great red cherry and berry fruit. It's one of a number of Premier Crus from this producer—and certainly the most expressive with its generous fruit and balanced tannins. Drink from 2018.\",\n",
       " 'wine review : US : California : Grenache : Deliciously fruity but also well-structured, this full-bodied wine has excellent concentration and good balance. Effusive aromas of blueberry and black cherry lead to opulent but not overripe berry flavors that are lightly accented by clove and cinnamon nuances.',\n",
       " 'wine review : US : California : Marsanne : Bob Lindquist is almost certainly the only vintner in America that is drying Marsanne on straw mats to make a dessert wine. The result is aromas of Asian pear, white peach, baked apple and baking spice, more fresh rather than sweet. It is viscous on the sip, and the sweetness steadily grows on the palate, offering cotton candy flavors. Fascinating stuff.',\n",
       " 'wine review : US : California : Grenache : This is a delicate yet flavorful take on this grape, from a biodynamic, cool-climate vineyard. Light red plum and hibiscus aromas meet with sweet herbs and cinnamon spice on the nose. The lithe palate offers candied strawberry with thyme, anise and touches of garden herbs, with that red fruit flavor carrying deep into the finish. Would pair great with spicy food.',\n",
       " \"wine review : US : Oregon : Pinot Noir : The Sims is amped up in 2014, dark and thick and showing a roasted character. Mocha, black tea and Kahlua flavors push the palate into a gritty charred mode. It's delicious, liquorous, and suitable for smoky ribs or a juicy burger. Drink now through 2020.\",\n",
       " \"wine review : US : Oregon : Pinot Noir : There's a whiff of volatility upon opening, then a rush of bright, tangy orange and cherry fruit. The 20% new oak aging does not really come through in scent or flavor. Though not in any way effervescent, this young release carries an impression of carbonation in the finish. Give it another year or two of bottle age and drink after 2019.\",\n",
       " 'wine review : US : Washington : Syrah : Wood spice, cherry and herb aromas are followed by luscious cherry flavors. It keeps you coming back for more with a high yum factor.',\n",
       " \"wine review : US : California : Chardonnay : There's an expert balance between lightly melted butter, pithy Meyer lemon and toasted marcona almond on the nose of this bottling from the region's iconic vineyard. The palate is wound up tightly, offering good grip and lots of textural length while showing flavors of chamomile, saffron, sea salt and more Meyer lemon rinds.\",\n",
       " 'wine review : US : Oregon : Pinot Noir : Just 8% of this reserve spent time in new oak, putting the emphasis on juicy jammy flavors of cranberry fruit. It rolls into sour cherry, some citrus and a most refreshing, clean and vivid mouthfeel. Drink now and into the mid-2020s.',\n",
       " \"wine review : Germany : Rheinhessen : Scheurebe : A surprising whiff of black currant on the nose of this elegant white points to Scheurebe—one of Germany's lesser-known grapes. Wittmann's version is particularly poised, offering loads of peach and grapefruit flavors, sharply contrasted by zesty lime and mineral tones. The finish is long and sleek, touched by a hint of bee pollen.\",\n",
       " \"wine review : France : Champagne : Champagne Blend : This producer shows its preference for dry Champagnes with this bone-dry, oak-fermented bottling. With its bottle age and the softening effect of wood, it's generous and gently textured, leaving plenty of room for its bright fruit and balanced acidity to show. Drink from 2018.\",\n",
       " \"wine review : US : California : Pinot Noir : From the sought-after site on Westside Road, this wine delivers a nuanced, elegant expression of juicy red cherry, plum, pomegranate and light, compelling spice. With a depth of body and soft, integrated tannin, it's complex without being overpowering, finishing in a mix of sautéed mushroom and forest floor.\",\n",
       " \"wine review : Chile : Colchagua Valley : Syrah : Jammy berry aromas seem reduced at first, with notes of iodine and rubber. But with airing this packed Syrah comes around. A flush saturated tannic palate is home to toasty blackened berry, coffee and spice flavors. On the finish, burnt toast and espresso flavors don't slip. Drink through 2022.\",\n",
       " 'wine review : US : Oregon : Sparkling Blend : One of a crop of new Oregon sparklers, this was barrel fermented with native yeast and aged for 56 months prior to disgorging. Fine tiny bubbles and a fresh, yeasty aroma introduce the wine, which has excellent concentration. Green apple and green banana, a touch of cucumber and a nice toasty frame all combine gracefully. The odds are that this will continue to improve in bottle for another five years at least.',\n",
       " 'wine review : US : Oregon : Pinot Noir : Scott Shull (Raptor Ridge) consults here. This brings a blend of clones from the estate vineyard, with ample new wood still showing through. Black fruits and a vein of coffee are also in the mix, with a balanced, somewhat muscular mouthfeel. This has the strength to stand up to a lightly blackened grilled seafood filet.',\n",
       " 'wine review : US : Oregon : Pinot Noir : Slightly liquorous when first opened, this pushes the alcohol up towards a place where some of the nuances are lost. But it has plenty of flavor, power and punch. Black coffee, black cherry, black olive and black licorice are entwined here, with some heat in the follow-through. Give it a good decanting and it will start to smooth out.',\n",
       " 'wine review : US : California : Cabernet Sauvignon : Black plum, charred wood, coffee syrup and cracked black pepper show on the excellently bright nose of this bottling. The flavors are equally intriguing, with umami touches of charred beef along with rosemary, bay leaf, olie and more black pepper.',\n",
       " \"wine review : Germany : Mosel : Riesling : Fresh green apple and grapefruit aromas are bolstered on the palate of this dry, elegantly balanced Riesling. It's light bodied yet delightfully creamy. A kiss of tangerine zest marks its moderately long finish.\",\n",
       " 'wine review : US : Washington : Bordeaux-style Red Blend : Merlot (63%) takes the lead on this blend followed by Cabernet Sauvignon (23%) and Cabernet Franc. The aromas seem somewhat wound up at present, with notes of wood spice, vanilla and fresh herb. The palate is über-smooth, showing a fine sense of balance and polish.',\n",
       " 'wine review : US : California : Cabernet Sauvignon : A 100% varietal wine, this offers upfront structure and gravelly texture, its tannins robust. The medium-bodied ripeness allows plenty of room for dried herb and cedar, accents to the bolder notions of black raspberry jam and coffee.',\n",
       " \"wine review : US : Oregon : Pinot Noir : This is sourced from 30-year-old Wädenswil vines from a vineyard in the Elkton AVA. It's complex and compelling, showing layers of stone, strawberry, citrus, chocolate and sassafras. It's an elegant wine, well proportioned and modest in scope, but delicious.\",\n",
       " \"wine review : US : California : Pinot Noir : Bright pomegranate and dried strawberry notes start the aromas on this bottling and then descend into more brooding cola, smoked herbs, cinnamon and spicy hibiscus. There is herbal and mineral depth to the palate, with raspberry, cranberry and pencil lead flavors that evolve toward fruit punch, thyme and earth. It's light in body but full of grippy texture.\",\n",
       " 'wine review : US : California : Pinot Noir : A touch of earthy funk shows at first on the nose of this bottling, laced throughout the dark cranberry, pomegranate, crushed grapeseeds and a lavish layer of violets. The palate is heavily spiced with clove, gingerbread, a touch of juniper, lots of earthy sagebrush and a strong cranberry fruit, all seasoned by an iron-powered minerality.',\n",
       " 'wine review : US : California : Pinot Noir : From one of the more exciting and westernmost vineyards in the region, this bottling shows earthy, gamey aromas alongside ripe red and purple fruits, pairing plum and black cherry with minty, musky herbs. The palate shows dried olive, tart orange peels, red plums, baked figs and pine needles, proving deliciously savory and intense.',\n",
       " \"wine review : Italy : Northeastern Italy : Kerner : Heady scents of pressed jasmine, honey and candied orange waft out of the glass. The concentrated but elegant palate provides layers of mature apricot, lemon drop and ginger brightened by fresh acidity. It's vibrant and well balanced, with a persistent finish.\",\n",
       " 'wine review : US : California : Cabernet Sauvignon : Strong elements of black pepper and smoky oak beg for steak to be paired with this 100% varietal wine. It showcases sizable weight and a solid tannic structure, with supple expressions of black cherry and chocolate that linger long on the rich finish. This bold beauty should hold well through 2023.',\n",
       " \"wine review : US : California : Red Blend : From Paso's blending vanguards, this mix of 62% Syrah, 19% Petite Sirah, 13% Cabernet Sauvignon and 6% Malbec offers an intriguing nose of sesame, soy, cracked pepper, fresh blackberry and raw beef. There is cedar and toasted pine on the palate as well as smoked meats, black pepper, teriyaki and an elderberry-blackberry base.\",\n",
       " \"wine review : US : California : Cabernet Sauvignon : This is a gorgeous wine, blended with 8% Merlot, 1% Petit Verdot and 1% Malbec, and aged entirely in new French oak. Juicy waves of cassis and red currant are accented by dark chocolate, ultimately showcasing a lush, plush yet structured palate. It's decadent now, but should age well through 2022.\",\n",
       " \"wine review : US : California : Chardonnay : Crisp green apple is the star in this well-made, balanced and elegant wine, that's tangy yet smooth, with a voluptuous tease of anise. Approachably structured, the complexity of the texture and lurking layers of further flavor suggest letting this wine open slowly to unveil its true self, and allowing it to linger on the palate.\",\n",
       " 'wine review : US : California : Sangiovese : Deep aromas of dried strawberries and blueberries meet with hot bricks, dried meats, purple flowers, a touch of smoke and secondary notes of truffle on the nose of this delicious smelling and tasting wine. The layers of flavor on the palate range from black cherry to milk chocolate, framed by chalky tannins.',\n",
       " \"wine review : US : California : Pinot Noir : This is the producer's highest and most westerly vineyard site. It holds back from the start, still tightly wound and somewhat reduced on the nose. As it opens, ethereal layers of wild strawberry, green tea and lacings of herb and white pepper unveil to tremendous effect.\",\n",
       " \"wine review : Italy : Piedmont : Nebbiolo : Scents of perfumed dark berry, rose, cake spice and aromatic herb unfold on this structured red. On the full-bodied palate, notes of chopped mint, mocha and white pepper accent a core of mature black cherry. It's young and assertive but well balanced, with firm tannins and bright acidity. Drink 2018–2026.\",\n",
       " \"wine review : US : California : Chardonnay : The estate-grown grapes for this wine come from some of the appellation's highest-elevation sites, at the base of Mount Veeder. Natural acidity is the star of the show, a nice surprise after a decadent honeyed color and bouquet. Serious texture and complexity give way to a touch of salted caramel and peach.\",\n",
       " 'wine review : US : California : Zinfandel : From the gorgeous, mighty Pagani, planted in 1895, comes this powerfully rich and refined wine, a study in woodsy rusticity and layers of fig, blackberry and a stick of cinnamon. Full bodied and luxurious on the palate, a lithe jolt of acidity rears its head just before the finish, trying to compete with the licorice and leather. Drink now through 2020.',\n",
       " 'wine review : France : Provence : Rosé : Coming from a remote estate on the edge of the Lubéron mountains in the north of Provence, this wine is impressively rich. It gains great concentration and structure from the Cabernet Sauvignon and Syrah in the blend. Full of ripe red fruits, it is dense at the end.',\n",
       " 'wine review : Argentina : Mendoza Province : Malbec : Smoky, charred aromas of blackberry and blackened spices set up a bold palate with energy to spare. Blackberry and cassis flavors are rich, toasty and chocolaty, while the finish on this full-bodied, ripe Malbec is lengthy and moderately complex. Drink through 2021.',\n",
       " 'wine review : France : Provence : Rosé : Named after the Negrel family, owners of the estate, this is the top cuvée in their range. Aging in wood gives it a surprising series of flavors ranging from caramel to spice to buttery toast. While some of the fruit is lost along the way, the wine has a rounded, very complete character that is rich and made for food.',\n",
       " 'wine review : US : Washington : Cabernet Sauvignon : Discovery Vineyard Cab makes up most of this wine, with just a splash of Champoux vineyard Franc to fill it out. Very pretty, very focused aromas of spice box, red and black fruit and herb are followed by a fruit-forward, shamelessly appealing yet still elegant, balanced palate that puts a premium on purity, with a well integrated structure surrounding it all.',\n",
       " 'wine review : Spain : Northern Spain : Tempranillo : Welcoming aromas of wood spice, plum and blackberry become more smoky with airing. This strong-boned RDD is pure and deep, with manageable tannins. Generous flavors of spiced blackberry, tobacco and vanilla finish long, elegant and with a lot in reserve. Drink from 2017 through 2030.',\n",
       " \"wine review : US : California : Pinot Noir : Winemaker Dennis Martin puts grape grower Stephen Miller's signature on this wine, a nod to the importance of this historic vineyard. The wine shows bright strawberry and raspberry with touch of savory wood smoke as well as hibiscus-laced pastry and a pinch of thyme. Earthy sagebrush and wild herb flavors frame the palate, where cooked cherries and cranberries are spiced by cardamom and dried ginger spice.\",\n",
       " \"wine review : US : California : White Blend : It's fun to rattle off a few of the numerous aromas and flavors in this exotic but subtle wine: tangerine, pastry cream, blanched almonds and a touch of honey. The wine is refreshing, dry and nicely braced with acidity, but at the same time rather broad and soothing in texture. In other words, beautifully balanced and wonderfully complex.\",\n",
       " \"wine review : US : California : Syrah-Grenache : This mostly Syrah blends in 6% Grenache, combining the two grapes from the property's estate into an opaque, juicy expression of black licorice, tar, cigar, grilled mushrooms atop a meaty steak and plenty of black pepper. Big and bold in every sense of the word, it retains just enough acidity to maintain an inviting nature and beguiling floral backbone.\",\n",
       " 'wine review : US : California : Syrah : As the name makes clear, this wine is made from a head-pruned, older block of very unlikely Syrah at the estate property, as seductive as rare. Plum, black cherry, leather and black pepper jump from the glass, slowly and with purpose, around a core of burly tannin and intensely floral aromatics. This is a great wine.',\n",
       " \"wine review : US : California : Pinot Noir : In the big, ripe and saturated school of winemaking, this wine has a deep color, oodles of black cherry and blackberry flavors and full body. It also has enough firm tannin and acidity to keep the structure lively and the finish fresh, so it's a lot of fun to drink and can take on all kinds of rich proteins at dinner.\",\n",
       " \"wine review : US : California : Petite Sirah : This is big boisterous wine from Elias Fernandez and Doug Shafer that has been given some nice time in bottle after four years in new French oak. It's a viscous, black-as-night kind of experience. Coconut macaroon and juicy blackberry and blueberry substantiate structured, integrated tannin, finishing with an unexpected elegance.\",\n",
       " 'wine review : US : California : Pinot Noir : Plump black plums and concentrated hibiscus fruit meet with cola, sarsaparilla and tart dried orange rind on the nose of this bottling. The palate is more earth-driven, with crushed rocks, pine needle and mint flavors spicing up the tart plum skins and berries. The texture is excitingly grippy.',\n",
       " 'wine review : US : California : Syrah : Spicy cracked peppercorns, light tar, fresh picked lavender and light purple fruits show on the savory nose of this bottling. More strong pepper notes show on the palate, as do tart elderberries, sesame, soy and hoisin elements, with a nice smoked meat character adding to the delicious complexity.',\n",
       " \"wine review : US : California : Red Blend : There's magic in this 65% Petit Verdot and 35% Sangiovese combination. This shows concentrated cherry and kirsch aromas, touches of shiitake and porcini mushrooms and plenty of turned, wet earth aromas. The palate, framed by chalky tannins, offers more mushrooms and truffles in a black cherry-chocolate gravy, proving quite luxurious and interesting at once.\",\n",
       " 'wine review : US : California : Cabernet Sauvignon : Softened by 6% Merlot, this lovely concoction opens with a waft of smoky cigar box, becoming a bold, loud expression of the variety dotted in classic notes of cassis and cedar. A luxuriously velvety texture is the standout, though, supported by great structure and length.',\n",
       " \"wine review : Argentina : Mendoza Province : Malbec : Smoky and intense from the get-go, this saturated, black-as-night Malbec is full of blackberry, cassis and gamy aromas. While it goes heavy on the gas, the wine's structure is up to it. Flavors of chocolate, burnt toast, salt and blackberry finish toasty and long, with savory blackened spice notes. Drink through 2023.\",\n",
       " 'wine review : US : California : Cabernet Sauvignon : This is a lovely wine, classically rendered in cedar, herb and red cherry. The dried herb and forest floor elements persist on the palate, with bursts of acidity giving it life and lingering persistence, the tannins well-integrated.',\n",
       " 'wine review : US : Washington : Chardonnay : The aromas are bright, with notes of barrel spice, vanilla, pineapple and lees. The palate is full bodied, with textured and richly flavored tropical fruit notes that lead to a warm vanilla-filled finish. The oak seems a bit heavy handed.',\n",
       " \"wine review : US : Washington : Syrah : Aromas of sea salt, olive brine, smoked meat, herb and earth lead to medium-bodied fruit flavors that run warm on the finish. There are plenty of good things going on but they don't seem to entirely come together.\",\n",
       " 'wine review : US : California : Albariño : This wine tastes fresh and brisk, like apricots and lemons, yet a silky-smooth texture adds depth and interest to make it more than just a one-note, fruity style of wine. It comes from an over-achieving winery located one county inland from Napa.',\n",
       " \"wine review : Italy : Piedmont : Dolcetto : Here's a mouthwatering, succulent red that arrives with aromas and flavors of juicy black cherry, licorice, white pepper and graphite. It's light bodied, fresh and savory, with solid but polished tannins. An almond note gives it a pleasantly bitter finish. It's made to be drunk young so enjoy soon.\",\n",
       " 'wine review : France : Bordeaux : Bordeaux-style Red Blend : Fruity and ripe, the wine also has some solid structure to give it a core of dark tannins. The black-currant fruits are developing well, bringing their crispness to the party. Drink this wine from 2018.',\n",
       " 'wine review : France : Rhône Valley : Rosé : This bend of 70% Syrah and 30% Grenache is nevertheless very pale in hue. the nose hints at wet stone, thyme and bay leaf, while the medium-bodied palate delivers a harmonious blend of red berries and citrus. Long on the finish, with mouthwatering persistence.',\n",
       " 'wine review : France : Bordeaux : Bordeaux-style Red Blend : This is a juicy wine with its red fruits and attractive acidity. The wood aging still shows, perhaps too strongly, but that fruit is already a major factor in the success of the wine. Drink from 2019.',\n",
       " \"wine review : France : Bordeaux : Bordeaux-style Red Blend : From a Grand Cru estate, this second wine shows the same rich fruit and generous structure as the winery's first wine. It's just softer with an approachable character and generous black fruits that will enable it to mature relatively quickly. Drink from 2020.\",\n",
       " \"wine review : US : New York : Rosé : Ripe luscious black-cherry and berry notes lend heft to this bold concentrated rosé. It's just a shade off dry, but balances neatly, juxtaposing crisp acidity against lavish texture and a pleasantly clingy finish.\",\n",
       " \"wine review : France : Bordeaux : Bordeaux-style Red Blend : A ripe perfumed wine with fine tannins as well as dense fruit. Blackberry flavors are up there along with the acidity and crisp aftertaste. It's a wine with a good future, ready to drink from 2018.\",\n",
       " 'wine review : US : California : Rosé : This refreshing, well-structured wine offers vivid but light fruit flavors, a crisp balance and mouthwatering texture. It has lots of fresh citrus flavors that will pair well with salty meats and all kinds of seafood.',\n",
       " 'wine review : US : Washington : White Blend : Two-thirds Chenin Blanc and one-third Grüner Veltliner, this wine opens with aromas of apple, white pepper, herb and spice. It brings a sense of freshness and purity, along with a rounded feel.',\n",
       " 'wine review : US : Washington : Gewürztraminer : This one-of-a-kind in the state wine was fermented on skins for 12 days, giving it a light-orange color. The aromas leap up from the glass, with notes of spice, lychee, orange peel and mineral. The palate is dry and textured, with a rich but still sleek feel. Put it on the dinner table to see it shine.',\n",
       " 'wine review : US : Washington : Merlot : The aromas are so light you need to strain to get at them, with notes of vanilla, coffee and cherry. The palate brings plentiful coffee and cherry flavors that show a pleasing sense of texture. One wants more aromatically, but the palate delivers.',\n",
       " \"wine review : US : California : Pinot Noir : This incredibly zesty and fruity bottling shows raspberry, lavender and white pepper on the nose. It's fun to sip, with snappy red fruits and hibiscus most prominent. Complexity comes from touches of rooibos tea and potpourri. It's still extremely youthful.\",\n",
       " 'wine review : Austria : Kamptal : Grüner Veltliner : That herbal, yeasty tang of Grüner is on display on the nose. The dry palate further brings out the earthy aspect with miso, stone, yeast and lemon. The body is light and balanced with a savory but diffuse finish.',\n",
       " 'wine review : US : Washington : Chardonnay : This is an expressive example of this variety, especially considering the stainless steel aging. The aromas are bright, with notes of apple, pear and melon. The cantaloupe flavors are broad and fleshy, lingering on the finish. It brings a lot of appeal.',\n",
       " 'wine review : Austria : Steiermark : Pinot Blanc : Although a flinty touch of reduction still hangs on the nose, freshness and verve await underneath. The palate is juicy, slight, dry and very refreshing. It offers a slender, lemony expression of Pinot Blanc with a clean-cut finish.',\n",
       " 'wine review : Austria : Südsteiermark : Sauvignon Blanc : Notes of tart lemon peel appear on the nose. The lean and light body continues in that lemony vein with brisk freshness. This wine is light, with a slight texture made up of yeastiness and zesty lemon. Some notes of grass appear on the finish. Drink this light, dry wine soon.',\n",
       " \"wine review : US : California : Chardonnay : It's always a treat to discover a good, well-made but not overpowering wine. This one has nothing in excess, just moderate and crisp fruit flavors with light spicy accents. An appetizing texture backed by good acidity leads to a clean, dry finish. This unoaked wine from northern California should be a crowd pleaser.\",\n",
       " \"wine review : Austria : Burgenland : Zweigelt : A dark, smoky smudge seems to cover the red-cherry notes on the nose. The palate is juicy and light, with this red-cherry nature at its core. Easy and light, it's a perfect fruit-driven summer red.\",\n",
       " \"wine review : US : California : Chardonnay : Sweet honeysuckle, lime blossoms and honeydew show on the very flowery nose of this bottling from a newer property near the old mining town of Pozo. The sip tightens up smartly with Anjou pear and honeysuckle flavors, but it's the powerful acidity that makes for a compelling palate.\",\n",
       " 'wine review : Austria : Niederösterreich : Grüner Veltliner : Almost luscious pear aromas and notes of peardrop make for a very fruity nose. The palate has a fruity, lemony ease, while the body is slender, dry and has some spritz. The lemon freshness is vivid, brightening everything on this easy, fruity summer wine.',\n",
       " \"wine review : US : Washington : Malbec : Purple fruit and wood spice intermingle on the aromas, along with clove, herb and baking spice, showing a touch of volatility. The fruit flavors are big and bold, bringing a sense of structure and liveliness. It's an intriguing example of the variety from an up-and-coming vineyard.\",\n",
       " 'wine review : Austria : Niederösterreich : Riesling : A hint of tropicality hovers above the nose, recalling passion fruit. The palate restricts itself to fresh lemon and green apple. This is light, dry, juicy and refreshing—ideal for a sunny day as a light apéritif.',\n",
       " 'wine review : France : Rhône Valley : Rhône-style Red Blend : This medium-bodied blend of 50% Grenache and 50% Syrah is simple but satisfying. Ripe cherries and raspberries carry the load, dressed up by hints of vanilla and cinnamon. A soft dustiness marks the texture, turning silky on the finish. Drink now–2020.',\n",
       " \"wine review : US : Washington : Cabernet Sauvignon : This is a true pan-Washington Cabernet, with fruit coming from 12 different vineyards scattered across the Columbia Valley. It's 100% varietal as aromas of char, toast, black cherry meats, herb, cranberry and spice are followed by elegantly styled dark-fruit flavors. The tannins bring a bit of heft and grip.\",\n",
       " 'wine review : Greece : Crete : Vilana : This indigenous Cretan variety shows its character in the deft hands of Lyrarakis, grown at high altitude. Aromas of fresh pineapple, citrus and flowers lead into pear, green apple and saline notes. Balanced and bright.',\n",
       " 'wine review : Austria : Kremstal : Riesling : A touch of funky yeastiness plays on the nose before the lemon zestiness shines through. The palate is slender and light, focusing on that bright, fresh lemon note. This is easy, juicy and very refreshing.',\n",
       " 'wine review : US : California : Sangiovese : Light and lively aromas of dried red berries, concentrated roses, cola and black plums show on the nose of this very accessible and pleasurable Sangiovese. The cohesive palate integrates cherry, cola and milk-chocolate flavors into an easy-drinking frame, perfect for barbecues or family-style Italian meals.',\n",
       " \"wine review : US : California : Cabernet Sauvignon : An easy Cabernet, soft and fruity, great for drinking now, at a pretty good price. It's dry and gentle in the mouth, with some real complexity, combining ripe cherries and blackberries with suggestions of dried herbs, cocoa and tobacco.\",\n",
       " 'wine review : Italy : Piedmont : Cortese : Crisp and light with pretty mineral dustings behind the ripe peach and melon aromas, this Gavi shows a full and generous style. Its nicest quality is that it offers both softness in the mouth and elegance on the bouquet.',\n",
       " \"wine review : Mexico : Valle de Guadalupe : Sauvignon Blanc : Sauvignon Blanc is, in general, one of Baja's more consistent performers. This version is light in color, with varietally familiar aromas of nettle, grapefruit and passion fruit. It's a bit weighty, with apple, grapefruit and tropical flavors. A mild bitterness can be found on the finish.\",\n",
       " \"wine review : US : California : Cabernet Sauvignon : There's plenty of ripe berry-cherry fruit, fine acids and big tannins on this Cab, but it just doesn't have the stuffing for the long haul. It is, however, a satisfying Cabernet, offering lots of elegance for drinking now and over the next few years.\",\n",
       " \"wine review : US : New York : Cabernet Franc : Ripe and luscious, this decadent Cabernet Franc is chock full of ripe red cherry and plum fruit, accented with purple violets and fresh herb tones. It's bold in alcohol and soft in style, but delicately framed by brisk acidity and a ruffle of feathery tannins.\",\n",
       " 'wine review : Spain : Northern Spain : Red Blend : Bright red-fruit aromas are matched by dry spice and leathery scents. The feel on this blend of Tempranillo, Cabernet Sauvignon and Merlot is juicy and clampy, while flavors of red cherry, plum and currant come with a vanilla shading. This finishes crisp, with punchy acidity.',\n",
       " 'wine review : Argentina : Mendoza Province : Red Blend : Mild berry and cherry aromas are standard and slightly oaky. The palate on this blend of Malbec, Merlot, Cabernet Sauvignon and Syrah is choppy and tannic, while earthy flavors of cherry and plum are pushed by firm acids. This finishes tannic, with coffee and herbal flavors.',\n",
       " \"wine review : US : Oregon : Grenache : It's rare to find a varietally labeled Grenache that comes in under 13% alcohol, but here you have it. Blended with 10% Syrah, it has notes of white pepper, smoked meat, savory spices and red fruit. What it lacks in terms of depth it makes up for in purity and elegance.\",\n",
       " 'wine review : US : Oregon : Viognier : Named after the blending of Steelhead Run and Ox vineyard blocks, this appealing wine is fresh and varietal with notes of ripe peach and herbs. Aged six months in stainless steel and coming in at a low 12% alcohol, the fruit concentration is lighter in style but still offers enjoyment.',\n",
       " 'wine review : Portugal : Douro : Portuguese White : Verdelho and Sauvignon Blanc hangs together easily on this herb-dominant wine. The texture has a creamy character, showing green fruits, lively acidity and a bright orange-zest aftertaste.',\n",
       " \"wine review : US : Oregon : Grüner Veltliner : Grüner Veltliner, though still rare, shows good promise in Oregon. This is a big, sappy, ripe version that's borderline syrupy, with big flavors of peaches and apricots. But the supporting acids, and a lick of mineral, keep it from crashing.\",\n",
       " \"wine review : US : California : Sauvignon Blanc : A touch of oak adds a sweet, smoky creaminess to this wine, but it's really dominated by Sauvignon Blanc's acidity and racy spearmint and tropical fruit. The alcohol is moderate, making it easy to drink.\",\n",
       " \"wine review : US : California : Pinot Noir : This is a good Pinot Noir that's full-bodied, dry and silky in the mouth, with crisp acidity. It shows raspberry, cola and green tea flavors. Hard to predict if it has a future, so drink now–2014.\",\n",
       " \"wine review : US : California : G-S-M : This is an easy, gentle wine that's a little soft, with superripe cherry, persimmon and red licorice flavors. Delicious in the California way, it's showing its best now.\",\n",
       " \"wine review : Portugal : Vinho Verde : Portuguese White : With its light prickle on the tongue, this is as fresh as possible. It's clean, packed with green and citrus fruits, and boosted with some textured richness. Drink at once.\",\n",
       " \"wine review : Italy : Veneto : Garganega : The dynamic sisters that run this estate deliver a clean and territory-driven line of white wines. This easy Soave Classico opens with peach, pear, citrus and a touch of fragrant honeysuckle flower. It's pure and focused overall.\",\n",
       " 'wine review : Argentina : Mendoza Province : Malbec : Four years running this wine has scored 87 and been a Best Buy. The bouquet is scratchy but nicely aromatic, including hints of spice to go with ripe berry scents. The palate is jammy and home to rooty berry, mild spice and very light oak flavors. The finish is a bit hot and fiery, which food will tame.',\n",
       " \"wine review : US : California : Chardonnay : This Chardonnay wants time to warm and breathe in the glass, so don't pour it right from the fridge. After a little while it develops considerably in generosity, offering waves of tropical fruits, peaches and pears. The oak is pretty strong, even jarring. Give it a few years in the cellars to let everything knit together.\",\n",
       " 'wine review : Italy : Veneto : Glera : This bubbly Prosecco Superiore offers vibrant tones of white flower and cut grass followed by light touches of peach and honeydew melon. The mouthfeel is creamy and soft with a subtle touch of sweetness.',\n",
       " \"wine review : US : California : Merlot : Softly delicious, this is a beautiful Merlot to drink now. It's a little hot in alcohol on the finish, but feels elegant in the mouth, offering waves of cherries, currants and mocha.\",\n",
       " \"wine review : Italy : Piedmont : Chardonnay : Here's a Chardonnay-based sparkler from Piedmont that opens with bright tones of lemon and sweet grapefruit followed by yeasty tones of freshly baked bread. There's some bitter almond as well, which adds tartness to the finish.\",\n",
       " 'wine review : Italy : Veneto : Glera : Extra sweetness and density give this wine a full and generous personality. Dry Proseccos usually show a little extra peach juice and nectarine, as this wine does, without being heavy or cloying.',\n",
       " 'wine review : US : California : Pinot Noir : An easy Pinot Noir, but by no means lacking elegance. It shows the moderate body and crisp, citrusy acidity that usually marks Edna Valley Pinot Noir, with pure, direct flavors of sour-cherry candy, cola, cinnamon and toast.',\n",
       " 'wine review : US : Idaho : Red Blend : Mostly Syrah, with just a dash of Petite Sirah (2%) and Petit Verdot (1%), this red from Sawtooth and Skyline vineyards brings light notes of smoked meat, chocolate, and flowers. The enjoyment here is mainly focused on mouthfeel, which is voluptuous and rich, leading to an open finish.',\n",
       " 'wine review : US : Idaho : Red Blend : This unusual blend of 85% Syrah, 10% Petit Verdot and 5% Petite Sirah comes together nicely, with the Syrah lending notes of cranberry and smoked meat and the Petit(e)s adding some heft to the plush texture and bitterness on the finish.',\n",
       " 'wine review : US : Idaho : Red Blend : Named after the Nez Perce name for the Clearwater River, this blend is mostly Merlot and Cabernet Sauvignon, with some Cabernet Franc and Syrah thrown in the mix. The aromas are light, with notes of berry and sweet spices. The cherry flavors are very soft, getting a bit attenuated on the back half on this otherwise pleasant red.',\n",
       " \"wine review : Italy : Veneto : Garganega : Here's a pure expression of the Garganega grape that sees (in part) 8 months of oak aging for extra density and thickness. The wine shows spicy notes of cinnamon and white pepper backed by peach and candied fruit.\",\n",
       " 'wine review : Italy : Veneto : Garganega : Made with the indigenous Garganega grape (the same variety that makes Soave), this richly extracted white wine opens with an off-gold color and ripe notes of apricot and peach nectar.',\n",
       " \"wine review : Italy : Piedmont : White Blend : This pretty white wine from northern Italy opens with an ashy, mineral feel and segues to aromas of candied fruit, peach and citrus. It is nearing the end of its drinking window so don't bother putting this bottle aside.\",\n",
       " 'wine review : Australia : South Australia : Shiraz : This plush, full-bodied wine is already delicious, delivering wave after wave of savory fruit flavor, something like soy-marinated, char-grilled beef. Tannins are supple enough to make this wine drinkable now, yet plentiful enough to suggest ample cellaring potential. Drink now-2030.',\n",
       " \"wine review : US : California : Pinot Noir : Each year, this wine is intended to be an experiment. This vintage's creativity involves the addition of soil from the Santa Rita Hills to vineyards in the Russian River Valley. Yeasty on the nose, the result is rich and decadent, a wine that's juicy and velvety in black and red fruit and pillowy tannins. A warmth of spice lingers on the finish.\",\n",
       " 'wine review : US : Oregon : Pinot Noir : From the oldest part of the estate, this subtle wine rewards your patience and full attention. Hints of rose petals adorn the floral accents, while the midpalate emphasizes flavors of raspberries and orange peel. At first a bit shy, this opens slowly and reveals hidden complexities and enduring length. Drink now through 2025.',\n",
       " 'wine review : France : Alsace : Gewürztraminer : Lifted notes of honey and rose petal play on the nose, the palate is altogether more lively than the nose suggests: sprightly and fresh, concentrated and caramel-tinged with lemon freshness. This strikes an appetizing, moreish palate and makes for joyful drinking.',\n",
       " 'wine review : France : Alsace : Riesling : Ripe fragrant, yellow mirabelle plums constitute the chief perfume of this charming wine. The palate holds even more fruity nuance but is dry, concentrated and linear, being carried forward by zesty freshness and lemony overtones. This is clean, charming, taut and dry with a bracing nature and a clean, brisk finish.',\n",
       " 'wine review : Australia : Victoria : Viognier : This full-bodied wine is rich without ever seeming overdone. Subtle smoke notes frame bold fruit—tangerine, pineapple and apricot—and gingery spice, while the finish is long, peppery and refreshing. Drink now–2020.',\n",
       " 'wine review : US : California : Zinfandel : From a two-acre block within the amazing Maple Vineyard planted in 1910, this wine also contains 10% Petite Sirah and 10% mixed blacks. Baked berry pie comes to mind first, conjuring up all things good and right in the world, topped in bourbon whipped cream and nutmeg. Good acidity buoys the proceedings. Drink now through 2021.',\n",
       " 'wine review : Spain : Northern Spain : Viura : Aromas of wood grain, vanilla, butter and fino Sherry are elegant and attractive for this style of white Rioja. On the palate, this oak-aged Viura is smooth, while creamy flavors of oak, apricot and peach excel. A smooth finish with plenty of vanilla and core acidity indicates this will age well for another 10 years.',\n",
       " 'wine review : Australia : South Australia : Shiraz : The Torbreck wines, with the emphasis they place on ripeness, can sometimes be controversial. This one is full bodied and rich, with dense plum and chocolate notes that verge on being fudge-like. But those elements are lifted slightly by hints of mint and bacon. Mocha joins the party on the long finish. Drink now–2025.',\n",
       " \"wine review : France : Alsace : Alsace white blend : A rather perfumed nose hints at the Gewurztraminer that colors this Riesling with rose petal and honeysuckle notes. The co-planted varieties in this vineyard make a smashing duo since they are almost polar opposites: structured, straight-laced Riesling with its fine spine of acidity benefits from the playfulness and charm of aromatic, fleshy Gewurztraminer which in turn is lit up by Riesling's freshness. Really, this is a case where you can have the best of both worlds.\",\n",
       " 'wine review : France : Alsace : Riesling : A very subdued nose suggests some dried orange peel but the palate is full of life: there is bracing, bright and lemon-scented acidity on the dry palate and drenched stone. There is concentration and a texture of the finest, purest citrus oil. This is wonderfully mature and ready now but has the stuffing to last. Drink 2016–2020.',\n",
       " 'wine review : France : Alsace : Pinot Gris : There are mere hints of beeswax and marzipan on the nose. The palate opens into a structured, bright and well-lit space of pear peel, pear juice and a wonderfully bitter edge. This is off-dry and concentrated, definite but with a light touch. There is an intriguing hint of bitter orange peel that draws you in and pull this onto a higher plane.',\n",
       " 'wine review : US : California : Chardonnay : Yields tend to be low in this dry-farmed vineyard, which especially struggles during a drought, but the quality is fantastic. Aromas of browned toast, popcorn, Meyer-lemon pith, honey pollen and a mineral herbal chamomile character show on the nose. A vibrant chalkiness reveals itself on the sip, with lemon blossom and grapefruit pith keeping the palate tight, grippy and texturally zippy.',\n",
       " 'wine review : US : California : Pinot Gris : Completely stainless-fermented and aged, this is a blockbuster of a white wine, refreshing and exotic in floral intoxication. Dry and light-bodied, it offers an edginess of slate-like minerality along with aromas of apricot and peach, finishing in a dusting of white pepper.',\n",
       " \"wine review : Portugal : Alentejano : Portuguese Red : This is a new wine from the hands of master winemaker Luis Duarte. With its rich black fruits and dense tannins, it's also a wine that is firmly structured. Wood aging has added a layer of complexity and broadened out the fruits and dark tannins. Drink from 2017.\",\n",
       " \"wine review : US : California : Chardonnay : Creamy in texture and floral in aroma, this is a lovely and well-integrated white wine, with well-crafted characteristics of pear and honeyed apple. Medium bodied, it'll pair well at the table and on its own.\",\n",
       " 'wine review : US : California : Cabernet Sauvignon : Boosted by 5% Petit Verdot, this bottling shows lush aromas of fudge, black plum, black currant, soy and black pepper. The palate is dense and thick with more black fruit as well as caramel, purple flowers, milk chocolate and mint-chip ice cream, proving concentrated and decadent.',\n",
       " 'wine review : US : Oregon : Pinot Noir : Pommard and Wädenswil clones are combined here, yielding a stylish, well-defined wine with spicy berry fruit. Flavors punch through into a deep and detailed finish, with streaks of cola and caramel. The balance is spot-on.',\n",
       " 'wine review : Portugal : Tejo : Portuguese Red : As its name suggests this is a selection of barrels of Syrah and Touriga Nacional. It is rich, smooth and full of ripe fruit. The dusty tannins are in suspension, backing up the black plum and blueberry fruit flavors. Along with the juicy acidity, this is a wine to age. Drink from 2017.',\n",
       " \"wine review : Portugal : Douro : Portuguese Red : This is an impressive, powerful wine. It speaks of the hard landscape of the Douro Superior, with its structure and dark tannins. At the same time, ripe dark fruits push through the still-young tannins giving the potential for a rich, black fruit dominated wine. Predominantly Touriga Nacional (60 percent), this wine is a new venture created by João Nicolau d'Almeida (who has run Ramos-Pinto for many years) and his family. Drink from 2018.\",\n",
       " 'wine review : Germany : Mosel : Riesling : A spray of rose petals perfumes this aromatic spätlese. Its freshness is exhilarating, contrasting lavish layers of honey and marmalade against the sharp bites of pineapple, tangerine and lemon. Cutting and spry, yet deeply penetrating, it finishes on a lingering pollen note.',\n",
       " 'wine review : US : California : Cabernet Sauvignon : With a smidgen of Petit Verdot, this dark, tight and leathery wine is exalted in tobacco, graphite and tar, still youthfully awkward and shy. The flavors lean savory into meaty aspects of currant and clove, waiting to find companionship in fruit. Drink now after a decant, or cellar through 2023.',\n",
       " \"wine review : Italy : Northeastern Italy : Sauvignon : You'll find aromas of tomato leaf, passion fruit, crushed rock and green bell pepper on this radiant white. The bright, savory palate delivers tropical fruit, tangerine zest, dill, celery and mineral alongside tangy acidity. It's an extremely impressive showing for this challenging vintage.\",\n",
       " 'wine review : France : Alsace : Riesling : Subtle notes of clean, fresh lemon zest promise pleasure, the palate reveals a far riper aspect of fresh red apple and baked apples. The dry palate remains zingy and clean and provides ample textured freshness. The effect is that of fresh apple sorbet.',\n",
       " 'wine review : Australia : Western Australia : Riesling : Based on this example and a few other informal tastings, 2014 will be a top vintage for Rieslings from Western Australia. Aromas of lime sherbet and wet stone lead into a crisply focused palate loaded with citrusy tartness that lingers on the mouthwatering finish. Drink now with shellfish, and consider holding some for up to 10 years.',\n",
       " 'wine review : US : California : Grenache : Reserved red-cherry fruit aromas gain complexity with fog-soaked sagebrush, dried purple flowers and an earthy mushroom character on the nose. Roasted shiitake, marjoram, crushed Brazil nuts and a hint of cardamom play on the dark, spicy, earthy palate, laid across a bed of cranberry fruit.',\n",
       " 'wine review : France : Alsace : Riesling : Freshly cut red, yellow and green apples make both nose and palate very fruity. The dry palate with its lemony freshness and open aspect lets all the apple flavors shine and inflects them here and there with baked and dried apple, too. Wonderfully fruity and pure.',\n",
       " \"wine review : US : California : Zinfandel : This is one of the best balanced and most elegant Zins around. Very fresh in aroma, it's slightly yeasty like freshly fermented wine, and with subtly gorgeous cherry and blackberry flavors layered with light cedar and cocoa spiciness. Not only is the finish lingering, but the wine still tasted great two days after pulling the cork.\",\n",
       " \"wine review : US : Oregon : Pinot Noir : This cuvée is made with the oldest Pommard clones in the estate vineyard. It's a sharp-edged, reserve-level wine with a defining streak of peppery herb. The black fruits and barrel flavors of licorice, espresso and dark chocolate promise further depth as it ages. Drink 2020–2030.\",\n",
       " 'wine review : South Africa : Coastal Region : Rhône-style Red Blend : The 2011 Night Sky shows more earthy character than the 2012, as upfront aromas of soil, blackberry leaf and pepper are grounded by ripe fruit tones of black currant, plum and mulberry. Medium weight on the palate, with velvety tannins that grip through the long, spicy finish. The dense, tight mouthfeel, firm structure and overall balance suggest this wine will age well through 2022.',\n",
       " \"wine review : US : California : Chardonnay : This full-bodied wine has a voluptuous entry that's slightly tropical in pineapple and Asian pear, as well as vanilla-layered oak. The expansive beginning segues smoothly into a higher-wire act of minerality, finishing fleshy and fresh.\",\n",
       " 'wine review : US : Washington : Cabernet Sauvignon : This wine brings aromas of blackberry, dates and spice. The palate displays abundant cherry flavors with lightly chalky tannins.',\n",
       " 'wine review : US : California : Cabernet Sauvignon : Syrupy thick at first, decadent enough for a king, this rich red is defined by vanilla French toast and blackberry jam aromas and flavors. It finds balance midway through on the palate, veering into crisper red tones of cranberry and rhubarb. Time will help mellow things out. Cellar through 2020.',\n",
       " 'wine review : US : California : Pinot Grigio : Livelier than usual in texture and popping with bright citrus aromas and flavors, this light-bodied and barrel-fermented wine is a great palate-cleanser and will pair beautifully with dishes like raw oysters and herbed goat cheese. It smells and tastes like lemon, lime, green apple and kiwi, and has great balance.',\n",
       " \"wine review : Italy : Piedmont : Nebbiolo : Aromas of red berry, rose and cake spices lead the way on this ripe, forward Barolo. The round palate offers black cherry, raspberry, licorice and white pepper alongside polished tannins. It's already extremely accessible, so don't leave it in the cellar for too long. Drink 2016–2021.\",\n",
       " 'wine review : US : California : Cabernet Sauvignon : Ripe black cherry and vanilla swirl around notes of cedar and dusty tannins, combining seamlessly on the palate. From an appellation not known for the variety, it does justice to mountain fruit and power, finishing with substance.',\n",
       " 'wine review : Italy : Piedmont : Dolcetto : This structured Dolcetto offers aromas of blue- and black-skinned fruit, violet, chopped herbs and kitchen spices. The vibrant palate delivers black cherry, black currant, clove, tobacco and anise while firm, refined tannins provide the framework.',\n",
       " 'wine review : Italy : Piedmont : Barbera : Fruity aromas of mature berry mingle with notes of dark cooking spice and chopped herbs on this savory, medium-bodied red. The round, concentrated palate offers juicy black cherry, crushed raspberry, clove and tobacco framed in firm acidity and a velvety texture.',\n",
       " 'wine review : US : Washington : Riesling : This warm-vintage wine is more aromatically reticent than recent vintages, with notes of stone fruit, slate and mineral. It drinks a hair off dry, with depth to the lightly spritzy fruit flavors and razor-sharp acidity.',\n",
       " 'wine review : Spain : Levante : Garnacha Tintorera : Perfumed plum and raspberry aromas are slightly earthy and leathery. This is medium-to-full in body, with smooth, chunky tannins. Earthy, lightly baked plum and wild-berry flavors finish loamy and expansive. Drink through 2017.',\n",
       " \"wine review : US : New York : Riesling : While dry in style, this lithe, delicately framed Riesling packs a punch of ripe, rich tropical fruit. It's blossomy and buoyantly fruity, yet brashly mineral as well. Made using “virgin berries”, uniquely seedless grapes with a tendency towards exuberant aroma and flavor concentration.\",\n",
       " 'wine review : US : Washington : Malbec : All varietal, this wine offers unique aromas of toast, fig, dried herb and exotic spice. The purple fruit flavors are deft in style with a pleasing sense of balance, length and texture.',\n",
       " 'wine review : US : Washington : Cabernet Sauvignon : Dark berry, herb and fig aromas lead to dense, full and palate-coating dark fruit flavors. It checks all the boxes for varietal correctness, concentration and value.',\n",
       " \"wine review : US : California : Petite Sirah : The winery's larger bottling of the variety, one it has mastered for decades, this wine is a mix of baked plum and rustic leather notes. It's softly tannic, with pronounced jolts of tobacco and black pepper. With small amounts of other Rhône varieties, from Syrah to Viognier, it meanders to the finish, with a distinct trace of minerality.\",\n",
       " \"wine review : US : New York : Riesling : Similarly to it's Virgin Berry sibling, Roth's regular label Dry Riesling has a distinctly green, woodsy tone lending an alpine feel to sweet-tart peach and apricot flavors. It's brisk and fine-footed, yet zesty tangerine and grapefruit acidity persist long on the finish.\",\n",
       " 'wine review : US : California : Pinot Noir : This is a full-bodied and full-flavored wine with rich and deep aromas, ripe fruit flavors and a texture that feels substantial but polished. It starts with black cherry and woodsy aromas, then goes to lively but broad cherry, plum and nutmeg notes. The finish stays flavorful and dry.',\n",
       " 'wine review : US : California : Cabernet Sauvignon : From a knoll in Carneros, oft thought of as chilly for Cabernet, this wine exhibits cooler aspects of the variety, from pencil lead and cedar to dried herb. It is complemented by fruitier characteristics of cassis and plum, finishing in dusty, structured tannins. Cellar through 2017–2020.',\n",
       " 'wine review : US : California : Pinot Noir : Smoky cinnamon and nutmeg pierce the entry of this wine, a dense, full-bodied expression of place. Layers of rich cherry and strawberry lie over classic varietal earthiness, finishing medium in length.',\n",
       " 'wine review : US : Washington : Chardonnay : Otis Harlan Vineyard in the Rattlesnake Hills provides the fruit for this wine. Distinctive aromas of lees, almond, toast and grass lead to creamy stone-fruit flavors that show persistence on the finish.',\n",
       " 'wine review : Italy : Tuscany : Syrah : Full-bodied and concentrated, this opens with aromas of crushed black plum, spicy blueberry, vanilla and dried sage. The dense, warm palate delivers dried black cherry, blackberry extract, oak and black pepper alongside velvety tannins. The soft acidity shows the heat of the vintage, so enjoy soon.',\n",
       " 'wine review : Italy : Tuscany : Syrah : Aromas of dark-skinned fruit, cedar and allspice lead the nose on this smooth, full-bodied red. The structured palate doles out mature black currant, black cherry, peppercorn and espresso that follow through to the finish. Soft acidity and ripe, firm tannins provide the framework. Drink 2016–2022.',\n",
       " 'wine review : US : Washington : Cabernet Sauvignon : Brooding aromas of barrel spice, black cherry, coffee bean and herb lead to tart, focused fruit and barrel flavors that linger.',\n",
       " 'wine review : Spain : Northern Spain : Tempranillo Blend : Plum, prune and raspberry aromas are solid. This shows a bright, juicy palate along with traditional Rioja flavors of vanilla, tobacco, savory oak and dried red-berry fruits. Drink through 2018.',\n",
       " 'wine review : US : Washington : Syrah : All Syrah, this blend of Yakima Valley and Wahluke Slope fruit offers aromas and flavors of cocoa, vanilla, pepper and dark cherry. The pleasing interplay of fruit and barrel comes with a soft, pillowy feel.',\n",
       " 'wine review : Italy : Piedmont : Pinot Nero : Made entirely with Pinot Nero, this elegant sparkler offers aromas of rose and red berry. The vibrant, focused palate delivers cherry, strawberry and a hint of cake spices alongside bright acidity and an elegant perlage.',\n",
       " 'wine review : Italy : Tuscany : Red Blend : Aromas of underbrush, charred earth and a hint of cedar lead the nose on this blend of Cabernet Sauvignon and 10% Merlot. The extracted palate delivers mature black currant, dried blackberry, espresso and black pepper alongside dusty tannins.',\n",
       " \"wine review : US : Washington : Cabernet Sauvignon : This wine is aromatically reserved with notes of milk chocolate, char, berry, barrel spices and high-toned herbs. It's silky and polished in feel, with richness and elegance to the coffee flavors.\",\n",
       " 'wine review : US : California : Pinot Noir : This wine pushes the notion of low alcohol, giving soft and subtle an extreme definition. As such, it will not please everyone. Earthy spice and an exotic notion of orange blossom dance around a light, clear body and high-toned minerality. It hails from a foggy, shaded vineyard in Freestone.',\n",
       " 'wine review : Italy : Piedmont : Nebbiolo : This opens with aromas of underbrush, leather, berry and a balsamic note. The forward palate offers dried cherry, white pepper, tobacco and the warmth of alcohol alongside firm tannins. Drink this sooner rather than later.',\n",
       " 'wine review : US : California : Chardonnay : Straw-yellow in the glass, this wine from organically grown, nearly 35-year-old vines shows iodine, citrus pith, yogurt and seared lemon peels in the restrained, minerally nose. The even-keeled, focused palate seamlessly integrates dairy elements with tangerine rinds and a mellow acidity.',\n",
       " \"wine review : US : Washington : Cabernet Sauvignon : This appealing wine displays aromas of cherry, plum, cocoa, pencil lead and Mounds Bar. It's reserved in style with tart cranberry and cherry flavors, showing a good sense of acid balance along with grainy tannins.\",\n",
       " 'wine review : US : California : Red Blend : From vineyards in the high-desert Cuyama Valley comes this blend of 40% Cabernet Sauvignon, 25% Tempranillo, 20% Grenache and 15% Petite Sirah. On the nose, it shows chopped fresh mint, rose blossoms, fennel, black cherries and teriyaki beef jerky. Black pepper and soy mark the palate, along with blackberry juice and a slate-driven minerality.',\n",
       " 'wine review : Austria : Burgenland : Red Blend : Still closed, this is redolent of the elegant, nutty notes of new French oak which nonetheless complement the ripe but supple cherry fruit. The tannins are superfine and the addition of peppery Zweigelt to this Cabernet-Merlot blend lends spice and verve to the mix. This was made for the long run, so give it some bottle age and allow it to meld into its elegant self. Drink from 2018.',\n",
       " 'wine review : US : California : Malbec : This deep-colored, full-bodied red gets a little swagger in its step from enticing smoky oak aromas and powerful black-fruit flavors that also carry that spicy oak streak. This is brash enough for slow-cooked barbecue but sophisticated enough for osso buco. The texture is fine-grained from supportive tannin, and the finish lingers. Best now through 2018.',\n",
       " 'wine review : Italy : Tuscany : Red Blend : Made with Sangiovese blended with 10% Ciliegiolo and 5% Alicante Bouschet, this savory wine opens with aromas of underbrush, ripe berry, tobacco leaf and Mediterranean herb. The vibrant, refined palate doles out juicy black cherry, crushed raspberry, orange peel, licorice and white pepper alongside supple tannins. It closes on a mineral note. Enjoy through 2020.',\n",
       " \"wine review : US : California : Cabernet Franc : Although the fine mountain site straddles both Napa and Sonoma, this wine's fruit is all Sonoma, the bulk of it Cabernet Franc, with 17% Cabernet Sauvignon. Dried cranberry shows on the nose and palate, followed by chalky tannins and a refined use of oak, finishing in a bite of currant and cherry. Enjoy through 2017.\",\n",
       " \"wine review : South Africa : Stellenbosch : Sauvignon Blanc : This is a well-balanced, well-structured white wine that's sure to evolve through 2020, at least. It's certainly attractive now, with subtle toasty notes of sweet spice and wood-grilled apple alongside hints of kiwi, sweet grass, green plum and lime. The medium-weight palate offers ample acidity and a streak of minerality that keeps things fresh and lifted through the softly spiced finish.\",\n",
       " \"wine review : Italy : Tuscany : Red Blend : Aromas of violet, iris, forest floor, woodland berry and allspice lead the nose on this structured, savory wine. The concentrated palate delivers ripe black cherry, mocha, clove, tobacco and licorice alongside velvety tannins and fresh acidity. It's firm and well balanced.\",\n",
       " \"wine review : New Zealand : Marlborough : Sauvignon Blanc : The Dillons Point subregion of Marlborough often produces particularly pungent examples of Sauvignon Blanc, but this wine doesn't quite hew to that mold. The herbal notes are prominent but well mannered, backed by plenty of mild citrus—think white grapefruit—and melon. Ample weight, a silky texture and a lengthy finish complete the package.\",\n",
       " 'wine review : Austria : Wagram : Roter Veltliner : Lively notes of fresh yellow plum and mandarin open up into a friendly, fresh palate that combines rich fruit and zingy citrus to great effect. The result is lip-smacking freshness with lots of midpalate concentration and zing.',\n",
       " \"wine review : US : Washington : Bordeaux-style Red Blend : Aromas of dark chocolate, dried and fresh herbs, raspberries and black cherry predominate on this blend of Cabernet Sauvignon, Merlot, Cabernet Franc and Malbec. Creamy, rich and focused, it has a pleasing sense of texture and vanilla flavors that carry across the finish. It's truly a standout wine at this price.\",\n",
       " \"wine review : South Africa : Simonsberg-Stellenbosch : Pinotage : This classic, iconic Pinotage opens with dense aromas of pressed purple violets, forest berries, raspberry sauce and fudge brownie. The lush and decadent palate offers more of the same, with a crushed velvet texture and final notes of licorice and toasted spice that linger long. It's delicious now, but should hold well through 2022.\",\n",
       " 'wine review : Argentina : Mendoza Province : Bonarda : Intriguing aromas of lavender, hoja santa and green tobacco blend nicely with blackberry and blueberry scents. This top-flight Bonarda feels lush and only moderately tannic. Blackberry, leather and mild briny flavors finish minty and lightly herbal. Drink now.',\n",
       " \"wine review : France : Provence : Rosé : Always released after a further year's aging, this rich and full-bodied wine is now at its peak. With a dense texture, layers of spice and vanilla as well as intense red fruits, this powerful wine expresses the more complex side of Provence rosé. Drink now.\",\n",
       " \"wine review : France : Provence : Rosé : Produced by the owners of Châteauneuf-du-Pape estate Château Mont-Redon, this is a full and fruity wine. It has a good balance between acidity and red berry fruits that give a rich character. Packed with flavor, it's ready to drink.\",\n",
       " \"wine review : France : Provence : Rosé : While the wine is really pale in color, it does have a great range of flavors, offering red fruit notes balanced by beautiful acidity and citrus streaks. It's gently textured, giving a good bite to the fruitiness at the end.\",\n",
       " 'wine review : France : Provence : Rosé : This rich and impressive wine has structure and a firm texture, partly from the Cabernet Sauvignon in the blend (45% Grenache, 35% Syrah, 20% Cabernet Sauvignon). It is dense and full of juicy red fruits, caramel and delicious spice. Production is only 2,500 cases. It would be worth aging for a few more months, so drink from late 2015.',\n",
       " \"wine review : New Zealand : Marlborough : Sauvignon Blanc : Classic gooseberry and pink grapefruit notes feature gentle herbal nuances on the nose. There's ample weight and texture on the palate, with a burst of mouthwatering citrus on the finish.\",\n",
       " 'wine review : France : Provence : Rosé : Very fruity and fresh, this wine has crisp apples as well as red fruit giving it a bright, delicious feeling. The acidity goes right through the wine, giving a beautifully fresh feel that points up the fragrant raspberries. Vineyards are in the heart of the sandy soils of the Saint Tropez peninsula.',\n",
       " 'wine review : France : Provence : Rosé : Rounded and soft, this rich rosé is fruity while also perfumed. The blending of Syrah in the mix gives the wine a sense of power and concentration, making it an adquate partner at the dinner table.',\n",
       " \"wine review : France : Provence : Rosé : This wine is full in the mouth with a taste between pepper and fruit. It's ripe, rounded and tangy with clementine zest as well crisp apples and red currants. It could benefit from a few months in bottle, so drink from late 2015.\",\n",
       " 'wine review : US : California : Zinfandel : Only the second vintage of this vineyard-designate wine from an estate property, this bottling offers spicy cherry, black tea and dried herb, backed by oaky backbone and structure. Dark chocolate and leather play on the palate in subtle waves, hitting their strides on the finish. Cellar through 2020.',\n",
       " 'wine review : New Zealand : Martinborough : Pinot Noir : As typical for Dry River Pinots, this one is pretty surly in its youth. Intense and astringent, it packs layers of dusty black-cherry fruit into a tightly coiled frame. Try after 2019.',\n",
       " 'wine review : US : California : Sauvignon Blanc : Floral and herbal from the get-go, this medium-bodied white from a great vineyard offers a lot to like. Stainless-steel fermentation gives it a lean underbelly, rounded out by sharp Meyer lemon and tangerine, buoyed by mouthwatering acidity. Green apple and an accent of honey peak on the finish.',\n",
       " 'wine review : US : California : Pinot Noir : Light in color and weight, this vineyard-designate conveys a wealth of rose petals, earth and bright, crisp red cherry. Compellingly layered and shy, it defines the term ethereal. The finish is medium in length and accented in spicy cardamom.',\n",
       " 'wine review : US : California : Pinot Noir : This wine combines fruit from both cool and warm sites, which in the vintage might have both leaned on the warmer side. Black fruit and licorice give it a burly character at first. Decanting or letting the wine open in the glass will help, but still it retains smooth, velvety tannins and resolved oak.',\n",
       " 'wine review : New Zealand : Central Otago : Pinot Noir : Alluring notes of Asian five spice and wet stone frame ripe cherry aromas in this medium-bodied wine. The texture is firm, becoming faintly dusty on the finish, but the wine is approachable now for its cherry fruit and appealing damp clay quality. Drink now–2018.',\n",
       " 'wine review : Argentina : Mendoza Province : Red Blend : Sweet oak and vanilla aromas are front and center on a jammy bouquet that also features black plum and blackberry scents. This blend of Malbec, Petit Verdot and Tannat feels full, lifted and balanced. Ripe, enticing flavors of wild berry and cassis are backed by toast, chocolate, vanilla and coconut notes as well as heat and burn. Drink through 2019.',\n",
       " \"wine review : New Zealand : Central Otago : Pinot Noir : Even Carrick's entry-level wine has turned out well in 2013, offering a sturdy, robust mouthful of dark fruit. Plum, espresso and dark chocolate mingle on the nose and palate, while the finish is long, faintly dusty and mouthwatering. Drink 2017–2025.\",\n",
       " 'wine review : France : Provence : Rosé : An addition to the worldwide JCB brand, produced by the Boisset family of Burgundy, this feels rich and sumptuous, full of ripe red fruits and juicy plums. It is also balanced and well structured. Drink this wine with food.',\n",
       " 'wine review : Portugal : Lisboa : Portuguese White : Heading nicely in the crisp and aromatic direction, this is a light and bright wine. It has a citrus flavor that is balanced by richer pear and plum fruits. The wine is ready to drink.',\n",
       " 'wine review : France : Burgundy : Chardonnay : This soft wine has a gentle texture and smooth white fruits. It is fruity and lightly perfumed. With its crisp edge of acidity, is totally ready to drink.',\n",
       " 'wine review : Portugal : Alentejano : Rosé : Onion skin orange in color, this is a full and fat wine. It has attractive red-berry fruit and just the right amount of acidity to keep it fresh and crisp. Drink now.',\n",
       " 'wine review : Argentina : Mendoza Province : Cabernet Sauvignon : Saucy berry and tea aromas are herbal, earthy and stewed. This feels full but syrupy. Flavors of cooked berry, molasses and mocha finish sweet and soupy, with only a touch of acidic offset.',\n",
       " 'wine review : Argentina : Mendoza Province : Sémillon : Mushy citrus and papaya aromas are waxy and lack pop. Angular and lemony in feel, this varietal white offers a one-note flavor profile based on lemon. A ringing, citric finish affords for a hint of tropical fruit.',\n",
       " 'wine review : Portugal : Vinho Verde : Portuguese White : In a medium sweet style, the wine has a light prickle and fine citrus acidity to balance the soft freshness. It is a refreshing wine, totally drinkable immediately.',\n",
       " 'wine review : US : Texas : Viognier : Peach, banana peel and a slight petrol note show mildly on the nose. The round palate boasts tart peach, pineapple rind and bitter lemon zest.',\n",
       " 'wine review : Italy : Piedmont : Nebbiolo : This has aromas that recall leafy underbrush, sawdust and menthol. The dense, oak-driven palate shows licorice, espresso, toast and a hint of bitter chocolate but the fruit has dried up. It abruptly ends on a green note of powdered sage.',\n",
       " 'wine review : Portugal : Vinho Verde : Rosé : A rose pink colored wine that is dry and with ripe fruit. Its acidity contrasts with the warm red-berry fruit and the edge of tannin. There is a peppery, crisp aftertaste.',\n",
       " \"wine review : US : Oregon : Pinot Noir : Light strawberry fruit carries an undertone of dried grass. It turns a little sour in the mouth, but it's fine for the price.\",\n",
       " 'wine review : Argentina : Other : Torrontés : Initial aromas of lychee and jasmine are varietally correct but this struggles to stay fresh and instead turns oily on the nose. A mid-level palate holds nectarine, lychee and oily flavors that turn bitter on the finish.',\n",
       " 'wine review : Portugal : Alentejano : Portuguese White : The wine is ripe with apple and creamed pear flavors. It is warm, rich and missing acidity. There is an attractive almond and spice character to this ripe wine. Drink now.',\n",
       " 'wine review : US : California : Cabernet Sauvignon : This wine looks, smells and tastes on the light side. Herb and red-cherry aromas precede rather lean flavors from cherry to clove and dill, and a brisk texture with some tannic grip.',\n",
       " \"wine review : France : France Other : Chardonnay : Here is a simple but tasty Chard, offering attractive notes of pear, spiced orange and toasted apple skin on the nose and mouth. It's light weight and well balanced, with ample acidity and a short but clean finish. Enjoy now.\",\n",
       " 'wine review : France : Burgundy : Pinot Noir : This is a soft and jammy wine with attractive ripe strawberry fruit and only the lightest structure. It is gentle, rounded and ready to drink.',\n",
       " 'wine review : France : Burgundy : Pinot Noir : This wine is extracted and tough. The acidity does come through to help out, although it still has a hard edge with some bitter toast. It will soften, leaving some perfumed fruit for the future.',\n",
       " 'wine review : Argentina : Mendoza Province : Bonarda : Raisiny and earthy on the nose, this Bonarda also offers damp aromas of fern and tobacco. Chunky, with a soft, flat palate, this tastes raisiny and stewed. Low acidity and raisiny flavors on the finish are consistent with what came before.',\n",
       " 'wine review : Argentina : Other : Torrontés : Oily, gritty aromas of almond skins set up a pungent but oily tasting palate. Core fruit flavors lean towards sour grapefruit and orange, while the finish is tangy, salty and sour through the last note.',\n",
       " 'wine review : US : California : Tempranillo : A rare miss for this winery, this bottling shows cooked red cherries, dust, vanilla and caramel on the somewhat hollow nose. The palate is almost overly rich with caramelized black cherry, fudge and chalky tannins. Patience will likely improve this one.',\n",
       " \"wine review : Portugal : Península de Setúbal : Rosé : This raspberry-flavored wine is soft and ripe. While it is fruity, it also has a nutty character that gives it a rich taste. It's dry and in a style that will make it better with food than by itself.\",\n",
       " 'wine review : Argentina : Mendoza Province : Malbec : Roasted, stewed berry aromas are rustic and suggestive of grilled meat. This is high in acidity, and thus it feels sharp and edgy. Flavors of forced oak, related spice and tart plum end with a scraping, tannic feel and herbal berry flavors.',\n",
       " 'wine review : Italy : Piedmont : Nebbiolo : Roasted coffee bean and menthol aromas lead the nose while the evolved palate offers dark bitter chocolate, licorice and a toasted note. Showing the heat of the vintage, the fruit has largely dried up while astringent tannins lead to a bracing finish.',\n",
       " 'wine review : US : Texas : Sangiovese : There seems to be a dusty veil over the fruit of this sold, approachable Sangiovese. A bit of sweet spice creeps up on the palate, making it enjoyable by itself or paired alongside pizza Tuesday.',\n",
       " 'wine review : France : Burgundy : Pinot Noir-Gamay : This light and fruity wine offers soft tannins and an earthy character. The wine comes mainly from Beaujolais with 15% of Pinot Noir from the Mâcon region. Drink now.',\n",
       " 'wine review : France : Burgundy : Chardonnay : This wine has acidity and a good balance between the fresh, crisp character and the richer yellow fruits. It is ready to drink.',\n",
       " 'wine review : US : California : Zinfandel : Ripe plum and plenty of vanilla and cherry provide the perception of sweetness in this wine. That sensation may stem from the pushing-the-envelope generosity of the ripe fruit or from the oak. or both. It makes for a full-bodied, heady experience.',\n",
       " 'wine review : Italy : Piedmont : Nebbiolo : This opens with unusual aromas that recall minestrone soup, celery and glazed onion that carry over to the palate. It lacks fruit richness and is rather muddled, offering flavors reminiscent of sweet and sour sauce. Tasted both bottles, same notes.',\n",
       " 'wine review : Portugal : Alentejo : Antão Vaz : The grape is local to the Vidigueira region of the southern Alentejo. Coming from cool vineyards, the wine has a fresh character that is balanced by the ripe melon and juicy pear fruits. It has a crisper end and is ready to drink.',\n",
       " \"wine review : Australia : Australia Other : Pinot Grigio : Melon and citrus aromas and flavors mingle easily in this cleanly made quaffer. It's a bit plump on the palate, yet refreshing on the lemon-lime finish.\",\n",
       " \"wine review : US : California : Pinot Noir : A nice Pinot Noir, dry and elegant, and if it's somewhat one-dimensional, it packs a lot of flavor. With rich raspberry, red licorice, bacon and spice flavors, it's a lovely wine to drink now.\",\n",
       " \"wine review : US : New York : Cabernet Franc : The sweet scent of raspberry and strawberry preserves waft from this Cab Franc icewine from Casa Larga. On the palate as well, there's a nice concentration of preserved berry flavors that soar on the palate with a bright, sunny acidity. Finishes clean and long with just a hint of autumn leaves and bramble.\",\n",
       " 'wine review : France : Alsace : Riesling : A soft style of Riesling, with some attractive aromatic white flower character. The fruit is soft, just off dry, freshened by acidity. Screwcap.',\n",
       " \"wine review : US : California : Pinot Noir : Soft and appealing, this Pinot offers lush, elaborate flavors of raspberry and cherry pie filling, mocha and sandalwood flavors, finished with sweet, dusty Indian spices. It's made for drinking now.\",\n",
       " \"wine review : Chile : Central Valley : Sauvignon Blanc : A little hard at first, with match stick aromas. After that blows off, there's green fruit notes carrying the nose. Full in the mouth, with acidic cut and spunky flavors of nectarine and orange. Finishes round, with citrus and passion fruit.\",\n",
       " 'wine review : France : Alsace : Gewürztraminer : Blowsy, lychee aromas, a wine that is ripe, soft, open, with a light touch of acidity. Pepper and sweet spices fit well into this easy profile. Screwcap.',\n",
       " 'wine review : US : California : Chardonnay : With brisk Edna Valley acidity and intensely pure Chardonnay fruit flavors of tangerines, limes and sweet Meyer lemon sour candy, this is a pleasant sipper with roasted or grilled salmon, or a barbecue chicken or pork skewer with pineapples, green peppers and onions.',\n",
       " 'wine review : Spain : Northern Spain : Viura : Pulpy and also minerally on the nose, with basic white fruit aromas. Zesty, crisp and defined by slate and lime in the mouth, with apple, lime and dryness to the flavor profile. A composed little white wine for simple sipping or white sangria.',\n",
       " 'wine review : US : California : Gewürztraminer : Shows the perfect balance and varietal richness that Anderson Valley Gewürztraminers are known for. With crisp acidity, it has exotic flavors of Asian pears, candied pears, tangerines, gingersnap cookies and dusty spices, with a dry finish. Would score much higher if it were more concentrated.',\n",
       " \"wine review : US : California : Zinfandel : A good, rich, flashy Zinfandel. There's not much to get excited about, but it delivers Zin's personality in a most attractive way. It's spicy, rich and sweet in cherry, raspberry, cocoa, honey and spice flavors.\",\n",
       " \"wine review : US : California : Pinot Noir : Funky, with mushroom and sweaty leather aromas that can best be described as Burgundian. But it's richly sweet in raspberries and cherries, and the smoky oak is nicely integrated with the fruit. A pleasant Pinot Noir to drink now.\",\n",
       " \"wine review : US : California : Pinot Noir : This is a dry, elegant young Pinot Noir. It's rich in acidity, and the cherry and cola flavors are sprinkled with zesty white pepper. Seems to be giving its best now.\",\n",
       " 'wine review : US : California : Syrah : A big burly Syrah from this Temecula producer whose goal it is to become the premier winery of Southern California, the wine is loaded with plummy black fruit and a peppery mouthfeel, its oakiness derived from the almost three years it spent barrel-aging in new French oak. Not for the meek at 15.6% alcohol, it finishes a tad sweet.',\n",
       " \"wine review : US : California : Syrah : The blackberry, blueberry, bacon, pepper and sandalwood flavors are nice, and the wine finishes dry. A good, rich Syrah for drinking now if you're looking for a full-bodied and tannic red wine. Give it a brief decant.\",\n",
       " 'wine review : Chile : Colchagua Valley : Cabernet Sauvignon-Carmenère : Cola, root beer and other earthy aromas open up this full-bodied blend of 70% Cabernet and 30% Carmenère. The palate shows pointed, prickly acidity and flavors of black cherry and cassis. Offers a rich flavor profile but the acidity creates bite and sharpness.',\n",
       " 'wine review : Spain : Northern Spain : Verdejo : Round and good by Rueda standards, with melon and peach aromas but not too much citrus. The palate is full and chunky, with papaya, melon and a touch of pithy bitterness. More regular than special, but good and goes down easy before finishing dry.',\n",
       " 'wine review : Spain : Northern Spain : Verdejo-Viura : White fruits, flower blossom and a touch of brine work the nose, which is followed by flush, semisweet apple, gooseberry and lime flavors. More sweet than outright tangy, but still citrusy and zesty. Holds form on the crisp finish. 60% Verdejo and 40% Viura.',\n",
       " \"wine review : US : California : Syrah : A touch overripe, showing some bitter, dried raisinskin notes. If you can get past that, you'll find plenty of rich blackberry, dark chocolate, plum, beef jerky and black pepper flavors.\",\n",
       " 'wine review : US : California : Red Blend : Ripe enough in blackberries, currants and mocha, with an earthy, tobacco herbaceousness. The tannins are potent, making the wine hard. Drink now, after a good decanting.',\n",
       " \"wine review : Australia : Tasmania : Pinot Noir : Light, fresh and silky—just what might be expected from cool-climate Pinot Noir. A pleasant earthiness underscores prettily interwoven strands of herbs and cherries. It's exciting to see the burgeoning quality of the wines coming out of Tasmania.\",\n",
       " \"wine review : Spain : Northern Spain : Tempranillo : Aromas of red licorice candy and raspberry are fruity, forward and clean. The palate is more than competent and balanced, with creamy strawberry and raspberry flavors. The finish is short but easy, and for the price that's all you can ask for.\",\n",
       " \"wine review : Australia : Australia Other : Cabernet Sauvignon : A good value in easy-to-drink Cabernet, McWilliam's 2008 is plummy and chocolaty, with soft tannins and a velvety finish. A bit simple perhaps, but definitely satisfying. Drink now.\",\n",
       " \"wine review : Italy : Southern Italy : Aglianico : Here's a jammy, overtly ripe expression of Aglianico that ultimately proves to be an easier and more immediate expression of this naturally tannic grape variety. Aromas include candied fruit, blackberry preserves, raw cherry and raisin.\",\n",
       " 'wine review : France : Champagne : Chardonnay : Now with its intensity and some bottle age, this wine—formerly known as Crémant de Cramant—is rich, with its apple flavor blending with an almond note and a soft, warm texture. The acidity shoots right through this ripe wine.',\n",
       " 'wine review : US : California : Sparkling Blend : A beautiful sparkling wine that shows the Iron Horse signature of balanced elegance. The lime, raspberry, vanilla and brioche flavors are rich and intricate, but particularly lovely is the texture, which is soft and silky.',\n",
       " \"wine review : France : Champagne : Chardonnay : Fight your way through the string and wax sealing that holds down the cork, and you'll discover a wine that is rich, full and opulent. The ripe peach character is balanced with the delicious toasty edge and final bright acidity. Ready to drink.\",\n",
       " \"wine review : Portugal : Alentejo : Portuguese Red : Powerful and concentrated, this is just at its peak. Ripe, rich fruit and tarry tannins give it freshness and a dry core. It's solid and serious, a dense wine that calls for equally rich food. Drink it now while it's at its prime.\",\n",
       " \"wine review : US : Oregon : Pinot Noir : The Lorna Marie is the winery's reserve, and it has exceptional concentration and depth. Berry and cherry dominate, spiced up with a pumpkin pie accent. Round, rich and full, yet moderate in alcohol, this is a fine expression of Oregon Pinot Noir in a challenging vintage.\",\n",
       " 'wine review : US : Oregon : Pinot Noir : All the 2010 Patton Valley Pinots are significantly lower in alcohol than the previous vintage, and it works to their advantage. Nuanced fruit flavors include rhubarb and tart cherry, with veins of cola and dark chocolate adding further complexity. Its length is excellent.',\n",
       " 'wine review : France : Champagne : Chardonnay : The extra age on this bone-dry wine has paid off, as the taut character of a young wine has been tempered with toast, creating a round feeling. It is perfectly in harmony now, beautiful and crisp.',\n",
       " 'wine review : Italy : Northeastern Italy : Verduzzo : Verduzzo is a very interesting grape that tends to exude oxidized aromas of candied fruit, butterscotch and carmel. But when made well, as in the case of this selection, it offers power, concentration and natural richness as well.',\n",
       " 'wine review : US : Oregon : Pinot Noir : The Winderlea is perhaps the most unique in terms of style and flavor among all the 2010 Adelsheim single-vineyard Pinots. Its distinctive minerality accompanies tart cranberry and cherry notes, citrusy acidity with a splash of grapefruit flavor, and a finish that tastes of coffee and tea. Complex and long, this is a wine that will surely spark some heated discussion.',\n",
       " 'wine review : France : Champagne : Champagne Blend : This is a powerful, almost concentrated, very dry selection. Its richness comes from the weight of its fruit flavors and the tight tang of its intense acidity. From a fine vintage, it could still age for several more years. Disgorged July 2011.',\n",
       " \"wine review : Italy : Tuscany : White Blend : Thanks to eight years in Vin Santo's traditional caratelli barrels, this sweet blend of Trebbiano and Malvasia offers a dark, golden-amber color, bearing intense aromas of dried apricot, candied fruit, honey and toasted almond.\",\n",
       " \"wine review : Italy : Northeastern Italy : Chardonnay : A landmark wine for those who love Italian sparklers, this shows loads of ripe apricot, melon and honey notes, with toasted nut and baked bread hints in the background. There are also touches of caramel and butterscotch that help move the wine's thick and opulent texture across the palate. It ends with refreshing acidity and tonic perlage.\",\n",
       " \"wine review : US : California : Sparkling Blend : There's a honeyed accent to this sparkler, with tangerine, lime, buttered toast and yeasty flavors that are savory and complex. The mouthfeel is wonderfully soft and creamy. A great success for Laetitia, at a good price.\",\n",
       " \"wine review : US : California : Zinfandel : This is dry, rich, heady, spicy and utterly delicious. As usual, it contains a splash of Petite Sirah. Already throwing some sediment, it's pretty tannic, with complex flavors of wild blackberry and blueberry, black currant, licorice, cola, bacon and plum sauce, with a hint of exotic pepper and spice. This great Zinfandel is a joy to drink.\",\n",
       " \"wine review : Portugal : Douro : Portuguese Red : This mature wine has a soft, smooth character and ripe fruit. With its red-berry flavors and gentle tannins, it's very ready to drink. The blend is dominated by Touriga Nacional from an estate at the heart of the Douro vineyards in Pinhão.\",\n",
       " 'wine review : Argentina : Other : Red Blend : This is a highly particular, funky blend of 85% Malbec and 15% Cabernet. It opens with savory stewy earthy aromas of berry fruits and prune. Due to the 15.5% abv, this feels heavy and clampy, with rooty flavors of baked berry fruits, cola, minty herbs and carob. An oaky spicy toasty finish with heat is the closing act on this fully stuffed Salta blend.',\n",
       " 'wine review : Portugal : Douro : Portuguese Red : A ripe and structured wine, this has bold black fruits and balanced tannins that still need to soften. It has good potential with rich fruits and a tight mineral texture. Drink from 2018.',\n",
       " 'wine review : US : California : Cabernet Sauvignon : Robust black fruit forms around a dense, leathery core of concentration and richness before allowing room for softer, intertwined tannins to add structure and more depth. Chocolate marks the finish of this big, bold wine.',\n",
       " 'wine review : Argentina : Mendoza Province : Chardonnay : Oaky, smoky aromas are New World all the way. Heavily toasted and creamy on the palate, this hefty full-bodied Chardonnay tastes of wood resin, spiced apple and peach. Solid acidity keep this in line, while a lasting wave of toasty oak pushes the finish.',\n",
       " 'wine review : Germany : Mosel : Riesling : Fragrant notes of tangerine and yuzu peel abound on this citrusy dry Riesling. The palate is cutting and fresh, full of juicy white grapefruit and lime flavors. Light bodied yet satisfyingly thirst quenching, it finishes long with invigorating minerality.',\n",
       " 'wine review : US : Washington : Cabernet Sauvignon : The variety is unmistakable, with notes of dried herb, dark cherry and espresso. The jammy fruit flavors are rich, with lightly grainy tannins and coffee notes on the finish. It shows a fine sense of balance.',\n",
       " \"wine review : US : Oregon : Pinot Noir : Just one barrel was produced from the own-rooted vines planted almost 50 years ago. It's earthy and scented with a menthol/eucalyptus note, that carries on through. Cranberry flavor reflects the rather low alcohol, but there is no hint of unripeness or any vegetative character.\",\n",
       " 'wine review : France : Bordeaux : Bordeaux-style Red Blend : The 45% Cabernet Sauvignon in this wine gives it structure and aging potential. It is a ripe wine that is also stylish with attractive acidity and plenty of black-currant fruitiness. The wine is developing well and it should be ready to drink from 2018.',\n",
       " 'wine review : US : Washington : Red Blend : This wine is a blend of Sangiovese (66%), Cabernet Sauvignon (20%) and Syrah. The aromas are brooding, with notes of earth, toast, red fruit and spice. The palate brings tart tangy cranberry flavors that linger on the finish.',\n",
       " \"wine review : US : California : Grenache Blanc : The nose of this wine combines this grape's best attributes: bright, crisp citrus redolent in grapefruit and Key lime, but with a tropical touch of guava and pineapple. The palate is broad and ripe but restrained enough, with plush mango and guava laid against a chalky backbone.\",\n",
       " 'wine review : France : Bordeaux : Bordeaux-style Red Blend : This is the second wine from one of the group of chateaus with Corbin in their names. It is a tight wine, firm with tannins and with a concentrated texture and flavors of over-extraction. That said, the wine will probably develop over time into something serious with a dark, dense aftertaste.',\n",
       " 'wine review : France : Bordeaux : Bordeaux-style Red Blend : This is a perfumed wine, with mint flavors as well as blackberry fruits. There is still a dominant structure of tannins and the wood aging that will allow the wine to age well. The fruits give the wine weight while the aftertaste has great swathes of acidity. Drink from 2019.',\n",
       " 'wine review : France : Bordeaux : Bordeaux-style Red Blend : Produced from 30-year-old vines, this 55% Cabernet Sauvignon wine is firm with tannins as well as black-currant fruit. It is balanced with the potential to become a fruity wine with a soft texture. The acidity will keep it crisp and on point. Drink from 2018.',\n",
       " 'wine review : France : Bordeaux : Bordeaux-style Red Blend : With ripe Merlot dominating this fine, blackberry flavored wine, it is fruity and rich. The acidity gives a crisper edge to the wine while the tannins come from a dry core. It is a wine in progress, full of potential and likely to be ready to drink from 2018.',\n",
       " 'wine review : France : Bordeaux : Bordeaux-style Red Blend : This 23-acre-estate is situated in the south of the Margaux appellation, close to classed growth Château Giscours. While not classified, it still has the ability to produce a fine ripe wine that also has great structure. Acidity and firm tannins are very present along with concentrated blackberry fruits. Drink this fine wine from 2019.',\n",
       " 'wine review : US : California : Cabernet Sauvignon : With black cherry, blueberry, milk chocolate and balsamic reduction offsetting the light dill herbaceousness, this wine offers surprising depth for the affordable price. The texture is soft, yet the tannins stand up to the black cherry, charcoal and black-pepper flavors.',\n",
       " 'wine review : US : California : Syrah : Made entirely from Syrah grown on its property across multiple vintages, and then cave-aged six years in American oak, this is a nice dessert wine, raisiny and brimming in Christmas spice. With plenty of body and acidity, it swims effortlessly and smoothly on the palate, a bite of decadence that will work well with rich cheeses.',\n",
       " 'wine review : France : Beaujolais : Gamay : This is a firm wine, balancing some solid tannins with ripe red fruits. Still young, it is packed with fruitiness and with acidity that are centered around a firm core. Drink this stylish wine from 2018.',\n",
       " \"wine review : US : Washington : Merlot : Aromas of savory herbs, mineral, exotic spice and red fruit are followed by fruit flavors that are surprisingly restrained considering the warmth of the vintage. Tart acidity livens it up. It's green for the variety but still brings enjoyment.\",\n",
       " 'wine review : US : Washington : Chardonnay : The aromas of mineral, spice, toast, yellow apple and lemon pith are light but enchanting. The palate is medium bodied and refined, demonstrating judicious use of oak and a lengthy finish that shows some warmth.',\n",
       " 'wine review : US : Oregon : Riesling : Bone dry and replete with skin flavors of pear and grapefruit pith, this is perfect for those who want to keep their alcohol consumption down without turning to a sweeter style of wine. Try it with grilled sausages and sauerkraut.',\n",
       " \"wine review : US : California : Chardonnay : Very smooth, almost thick, this is a rich wine in flavor and mouthfeel. It practically oozes over the palate, dripping with ripe pineapple, vanilla and cream, and coats every corner of the mouth before lingering through a long finish. It's full bodied, soft and concentrated.\",\n",
       " \"wine review : Australia : Victoria : Chardonnay : Without any new oak or lees stirring, this wine's sole focus is on the fruit. Pineapple, melon and peach notes are pure and striking, supported by just hints of vanilla and cream. This medium-bodied Chardonnay finishes in a flurry of tangerine and lime.\",\n",
       " 'wine review : Italy : Central Italy : Verdicchio : Aromas of ripe orchard fruit and chopped herb jump out of the glass. The savory palate serves up juicy Bartlett pear, green apple, citrus and a mint note while a hint of white almond adds depth. Very appealing.',\n",
       " \"wine review : Spain : Central Spain : Tempranillo : Mild raisin, black cherry, anise and burnt tire aromas lead to a plump, balanced palate that's full but not overloaded. Earthy baked black-fruit flavors show a hint of oaky coconut, while this Tempranillo finishes with depth and density.\",\n",
       " 'wine review : US : California : Cabernet Sauvignon : This wine opens with a confectionary nose, slowly unleashing its thick, concentrated richness of dark cherry and cassis on the palate. Between the layers are grippy tannins and shakes of meaty leather and black pepper. This could stand some time in a decanter or swirling in the glass before enjoying.',\n",
       " \"wine review : Germany : Franken : Silvaner : White blossom perfume accents notes of fresh lemon, lime and green melon in this aromatic Silvaner. While dry in style, it's refreshingly juicy on the palate, bursting with pristine citrus flavor tinged by edges of lime and lemon pith. Mouth filling and rich in texture, it clings lusciously through a long finish.\",\n",
       " 'wine review : US : California : Syrah : This is a particularly expressive wine with lots of personality. It opens with aromas of cherry, tea and wood smoke, and tastes very dry and structured with vivid fruit acidity and tannins. Sour cherry and raspberry provide the fruit flavors.',\n",
       " 'wine review : Australia : South Australia : Red Blend : Built for early consumption, this blend of 59% Grenache, 22% Shiraz and 19% Mataro is lush and warm, offering chocolaty notes alongside hints of brown sugar, grilled meat and blueberries. Drink now–2022.',\n",
       " \"wine review : Italy : Tuscany : Sangiovese : Aromas of toasted oak, crushed blue flower, underbrush, espresso, licorice and toasted notes take center stage. There's not much fruit richness here so drink now before it fades.\",\n",
       " \"wine review : US : Washington : Sauvignon Blanc : All from Rosebud Vineyard, this moderately aromatic wine brings notes of herbs and pineapple, with Sémillon (15%) adding fig to the mix. The concentration doesn't seem all there and it needs a bit more acid to stand it up.\",\n",
       " \"wine review : US : New York : Gewürztraminer : While demure on the nose, this light-footed Gewürztraminer is pretty on the palate with delicate lychee and floral notes. Its unusually nervous and shy for it's variety, but refreshingly quaffable.\",\n",
       " 'wine review : Chile : Colchagua Valley : Merlot : Earthy, lightly stewed aromas of plum and berry set up a lively but pinched and narrow palate with candied flavors of mixed red berry fruits. Additional red-fruit friendliness rolls onto the finish of this pleasant but basic Merlot.',\n",
       " \"wine review : France : Beaujolais : Gamay : The wine is warm and round, full of ripe berry fruits and soft tannins. It's ready to drink now with its full structure, balanced acidity and juicy aftertaste.\",\n",
       " \"wine review : France : Southwest France : Colombard : Soft, ripe and fruity, this is an immediately accessible, drinkable wine. It's soft with lemon and yellow fruits coming together to give a fresh, lively apéritif style of wine.\",\n",
       " 'wine review : Spain : Northern Spain : Tempranillo Blend : Cherry and cassis aromas are a touch flat and jammy. This shows grabby tannins as well as loamy, earthy, lightly bitter flavors of black fruits. The finish lumbers along with size and tannic grip, but overall this blend of 65% Tempranillo, 25% Graciano and 10% Garnacha shows well.',\n",
       " 'wine review : Spain : Catalonia : Sparkling Blend : Bready aromas feature melon as the main fruit scent. This is chunky in feel, with moderate acidity and cut. Apple, melon and green-herb flavors finish with hints of toast, yeast and generic sweetness.',\n",
       " \"wine review : Italy : Tuscany : Sangiovese : This displays evident oak sensations of sweet vanilla, toast, espresso, milk chocolate and mature black plum alongside drying tannins. There's not much fresh acidity so drink soon before it dries out.\",\n",
       " \"wine review : US : California : Malbec : Grape soda, prune, leather, graphite, dust and black tobacco blend into an intriguing nose on this estate Malbec from Paso's Eastside. It's a little rustic around the edges once sipped, but pleasantly so. The mouthfeel is soft, the flavors are peppery and the tannins and acidity are built to last.\",\n",
       " 'wine review : US : California : Merlot : Nothing is out of place in this solid, attractive and well-priced Merlot. It is a straightforward red wine that feels well-balanced, is medium to full-bodied, and has tasty, mellow plum and cherry flavors. Firm tannins mark the clean finish.',\n",
       " \"wine review : Italy : Tuscany : Sangiovese : Roasted coffee bean, underbrush, toast and allspice lead the nose on this big wine. The one-dimensional palate offers dense cherry extract, licorice and the warmth of alcohol. It's already evolved so drink now.\",\n",
       " \"wine review : Italy : Tuscany : Sangiovese : This wine brings together sensations of tilled earth, espresso, oak extract, coffee, overripe black plum and vanilla. The palate displays tightly packed tannins but it's low on fresh acidity so drink it soon.\",\n",
       " 'wine review : Chile : Curicó Valley : Merlot : Leathery, briny plum aromas are full and herbal. This feels solid and medium in size and body. Flavors of earthy, roasted berry and plum finish lightly green and herbal, with a touch of sweetness.',\n",
       " 'wine review : France : Southwest France : Chenin Blanc : Chenin Blanc has found an unlikely new home in Cahors, to judge by the producers who are trying it out. It works well, giving a deliciously nutty character as well as intense citrus and minerality. Age this wine until 2015.',\n",
       " 'wine review : US : Washington : Viognier : A clean, fresh wine, this opens with crisply varietal aromatics of citrus and orange blossom. The flavors follow suit, adding some fresh-cut pineapple as well; then the wine hits a wall and simply pulls up short.',\n",
       " 'wine review : France : Beaujolais : Chardonnay : Crisp while also fruity, it has bright acidity, lively citrus and apple flavors and a refreshing aftertaste. Drink now.',\n",
       " 'wine review : France : Beaujolais : Gamay : Some wood aging gives the fruitiness of the wine an added spice. Tannins support the bitter cherry flavors and add firmness to the juicy acidity. Drink from the end of 2015.',\n",
       " \"wine review : France : Beaujolais : Gamay : The wine is very fresh, with intense acidity and fragrant red fruits. Made from 100-year-old vines, it's tight, mineral and has a cool, light character with the merest hint of tannin. Drink now.\",\n",
       " \"wine review : Italy : Piedmont : Nebbiolo : Aromas of a closed cellar blow off in the glass to reveal underbrush, violet, woodland berries and a hint of white pepper that all carry over to the palate. It's one-dimensional with fresh acidity and would work well with deep-dish pizza covered with toppings.\",\n",
       " 'wine review : Chile : Loncomilla Valley : Cabernet Sauvignon : Briary, spicy, mildly herbal berry aromas give way to a full, bold, wiry feeling palate with pointed acidity. Herbal, lightly green flavors of tobacco and plum finish crisp.',\n",
       " \"wine review : France : Beaujolais : Gamay : Attractive cherry flavors give a ripe, rounded feel that's balanced by the acidity and tannins. Black cherries burst easily from the glass, delivering a full aftertaste.\",\n",
       " 'wine review : Spain : Catalonia : Sparkling Blend : Apple and melon aromas are standard and light. A juicy, citrusy feeling palate delivers stone-fruit flavors of peach and nectarine. A mild finish is fresh in flavor and feel.',\n",
       " 'wine review : Spain : Catalonia : Sparkling Blend : Generic white-fruit and matchstick aromas are quiet in nature. This is creamy and not assaulting or sugary on the palate. Mango, melon, lychee and citrus flavors finish with lime notes.',\n",
       " 'wine review : US : Washington : Syrah : Despite the abv listed, this wine does not seem especially ripe. Peppery highlights carry a whiff of onion, and between the alcohol burn and the green edges, the wine has not come together. Aging in 40% new oak adds some toast, but not grip or density.',\n",
       " \"wine review : US : New York : Riesling : Blossoms and yellow cherries lend a sweet floral flair on the nose of this dry Riesling. It's straightforward in style, but quaffable and refreshing, with flavors of fresh apple and pear that finish crisp and clean.\",\n",
       " \"wine review : France : Beaujolais : Rosé : This is a rich style of rosé, rounded and fruity with good texture, wild strawberry flavors and very crisp acidity at the end. It's an attractive wine and one that's worth keeping until 2015.\",\n",
       " \"wine review : US : California : Chardonnay : This does a good job of balancing lively pear and apple flavors with dashes of toast and butter. It's medium to full-bodied, dry and has enough crispness to help the flavors linger.\",\n",
       " \"wine review : France : Beaujolais : Gamay : While the wine has a crisp side, it's also full of red fruits and soft tannins. That makes for a wine that's fragrant, fruity, ready to drink and not likely to age much. Enjoy it now.\",\n",
       " \"wine review : US : Washington : Cabernet Franc : Aged for 20 months in 40% new French oak, this remains a tough nut to crack. It's encased in a hard tannic shell, with little ripe fruit, and is strongly flavored with barrel notes of tobacco and vanilla. Decant it or put it through an aerator.\",\n",
       " 'wine review : Italy : Sicily & Sardinia : Carricante : Aromas of citrus, white stone fruit and a vegetal hint suggesting tomato leaf lead the way. The racy palate offers grapefruit, pineapple, fresh white peach and flinty mineral while a pleasantly bitter note closes the finish.',\n",
       " 'wine review : Italy : Sicily & Sardinia : Grillo : Fragrant and fresh, this Grillo opens with alluring scents of acacia flower, beeswax and white stone fruit. The succulent palate offers creamy white peach, juicy nectarine, almond and mineral framed in tangy acidity. A note of chopped herb closes the lingering finish.',\n",
       " 'wine review : France : Alsace : Sylvaner : A soft, stony scent of pebble and the faintest melon signals a fresh, clean wine. The palate plays these aromas out softly but also with precision. That stoniness lingers on the dry, gentle finish and the lasting flavor of fresh apple peel',\n",
       " 'wine review : France : Alsace : Pinot Noir : The Pinot-ness of this wine is undeniable: its structure is of velvet, and its aromas convey freshly turned earth, autumnal oak leaf and subdued red-cherry fruit. There is a depth that evokes deep forests. Have this with furred or feathered game.',\n",
       " 'wine review : France : Burgundy : Pinot Noir : With tannins and new-wood flavors, this rich wine is also structured. A smoky character from the wood is shot through by perfumed red fruits. The aftertaste shows more of the wood flavors that need to integrate. Drink from 2018.',\n",
       " 'wine review : France : Burgundy : Pinot Noir : This is a blend from most parts of the village, with fruit from 14 different parcels. It is solid and firm while also having great swathes of raspberries and red plums laced together with acidity. The aftertaste is perfumed with a fresh lift. Drink from 2018',\n",
       " 'wine review : France : Burgundy : Chardonnay : Young vines, planted in 2007, give a fresh, fruity wine with attractive citrus and zingy orange flavors. It is ripe and deliciously perfumed with a touch of minerality and saltiness. Drink from 2019.',\n",
       " \"wine review : France : Burgundy : Pinot Noir : With intense acidity, this wine has both good structure and red currant and raspberry fruits. It is bright, fresh and almost crisp in character. In the background, the tannins show the dense texture of the wine. It will need to age, so don't drink before 2019.\",\n",
       " 'wine review : France : Alsace : Sylvaner : Bruised apple and dandelion notes play spicily on the textured, slightly phenolic palate. The central streak of freshness brightens all aspects of the wine, which might gain complexity with a year or two more in bottle. For now it remains intriguingly poised between earthy richness and ethereal lift.',\n",
       " \"wine review : Germany : Mosel : Riesling : A dusting of crushed slate and saffron accents this zesty lime and honey kissed Kabinett. It's dancingly light on the palate, but concentrated with swirls of marmalade and orange-peel flavors that extend through a long finish. Drink now through 2025.\",\n",
       " 'wine review : US : California : Zinfandel : An interesting vein of tasty herb flavor runs through this full-bodied, plump and fruity wine. The aroma has hints of dill and sage, and these mingle with black cherry and blueberry on the palate. A sleek texture and long finish complete the picture.',\n",
       " 'wine review : US : California : Chardonnay : Quite buttery and nutty on the nose, this wine shows Marcona almonds, seared pineapple, crème brûlée and vanilla custard. Those elements meet with smart amounts of acid and texture on each creamy, buttery, pineapple-laced sip, which then finishes on marshmallow flavors.',\n",
       " 'wine review : Italy : Southern Italy : Fiano : Scents of pressed white flower, orchard fruit, smoke, citrus and a whiff of nut lead the nose on this savory white. The round, medium-bodied palate offers mature pear, pineapple, peach and hazelnut while a note of flinty mineral lifts the finish.',\n",
       " 'wine review : US : California : Syrah : Tar and beef char kick off the nose on this dark and heavy wine, which offers asphalt, smoked meats and crushed elderberry. Caramelized beef, balsamic-blackberry reduction, tobacco and touches of smoke show on the palate.',\n",
       " \"wine review : US : Oregon : Pinot Gris : Fresh cut pear fruit flavors carry this wine. It's crisp and clean, with fresh fruit balanced against natural acidity. Drink it now while the freshness is paramount.\",\n",
       " 'wine review : US : California : Cabernet Sauvignon : This is a generous, leathery and tannic wine, full-bodied and made in a juicy, foreboding style. Black pepper, leather and cigar smoke provide a sultry, robust edge to the wine, which should cellar well, through 2020.',\n",
       " 'wine review : US : California : Cabernet Franc : Fresh cracked peppercorn, dense black and purple fruit and a cedar tone carry through the nose of this lavish yet nuanced bottling from a South Coast winery that practices extended aging before release. The elderberry fruit is hung on a strong tannic structure, bolstered by woody cigar box, incense, juniper and espresso flavors.',\n",
       " 'wine review : Italy : Sicily & Sardinia : Nerello Mascalese : Pressed wild flower, hay, fennel and ripe berry scents mingle together in the glass. The refreshing palate combines crushed strawberry, juicy red cherry, saline and a hint of baking spice alongside bright acidity.',\n",
       " 'wine review : Italy : Sicily & Sardinia : Rosato : Alluring scents of Spanish broom, iris, berry and a hint of dried herb come together on this. The bright palate offers candied cherry, nectarine zest, white pepper and a hint of fennel while a mineral note signals the finish.',\n",
       " \"wine review : US : California : Pinot Noir : Lighter bramble and red-currant fruits pop on the nose of this wine from the appellation's eastern end, as do baking-spice notes, crushed vanilla and hibiscus. It's airy on the palate, with tense cranberry and pomegranate, crushed oregano and dill, pencil lead minerality and a slowly simmering acidity.\",\n",
       " \"wine review : Germany : Ahr : Früburgunder : Quite rare in the U.S. market, this ripe richly berried wine is an excellent example of Frühburgunder, an early ripening mutation of Pinot Noir. Blackberry and plum flavors are fleshy and rich, offset by soft, sunny acidity and a supple silken mouthfeel. It's just faintly tannic and approachable now.\",\n",
       " 'wine review : Italy : Sicily & Sardinia : White Blend : This offers heady aromas of honeysuckle, white stone fruit, dill, hay and a vegetal note that recalls tomato leaf. The tangy palate offers juicy grapefruit, white peach and honeydew melon while mouthwatering salinity provides depth.',\n",
       " \"wine review : Australia : South Australia : Rosé : This is ripe, rich and even a touch tannic—almost more of a light red than a true rosé. This makes it ideally suited to serve alongside summer's various grilled meats. Raspberry and cola flavors finish spicy and round.\",\n",
       " \"wine review : US : Oregon : Pinot Noir : Fresh fruit flavors suggest a bowl full of berries and cherries. Crisp acids help to focus the wine, with spot-on varietal flavors and balance. Both elegant and complex, it's a lovely bottle from an under-the-radar producer.\",\n",
       " 'wine review : Chile : Colchagua Valley : Carmenère : Composed berry, spice, herb and oak aromas are complete and inviting. In the mouth, this is ripe and dense, with chewy tannins. Blackberry, mixed herb and dark chocolate flavors are integrated, while this settles nicely on the finish.',\n",
       " \"wine review : US : California : Grenache : The most reserved of this winery's Grenache studies, this bottling shows baked red cherry, red currant, cola and slate on the nose. An iron-based minerality shows on the earthy palate, which also offers chipped slate, cranberry and tart cherry elements. It's a tad light but still intriguingly textured.\",\n",
       " \"wine review : US : California : Syrah : This is an amazingly tasty and focused wine that has the most distinctive black pepper character. It's medium-bodied, dark and smoky looking and quite flavorful, backing up the pepper with lively raspberry notes and staying lively from the first sip to the last.\",\n",
       " 'wine review : US : California : Merlot : Chocolate and blackberry form an impressively generous and full-bodied personality in this 100% varietal wine aged 22 months in a hearty percentage of new oak. Big tannin and traces of cigar and espresso continue on the brawny theme.',\n",
       " \"wine review : US : Oregon : Albariño : Not such a rarity these days, Albariño is turning heads in California and Oregon. This tart, juicy, and deliciously fresh effort is loaded with tangy citrus and green apple fruit. It's leesy and textural, tasting of wet stones: in sum, a wonderfully refreshing summer white.\",\n",
       " 'wine review : Hungary : Tokaji : White Blend : This delicate Hungarian white wine is a blend of 86% Furmint, 9% Yellow Muscat and 5% Kabar. It has enticing aromas of white flowers, botrytis, gardenia, apple blossom and apricot that prepare your palate for flavors of peach juice, citrus zest, grapefruit juice, caramelized pineapple and a crisp clean finish.',\n",
       " 'wine review : Portugal : Douro : Sousão : Sousão gives intense color and that, along with its attractive perfume, makes a dense, intensely fruity wine. It is rich and weighty, the tannins well integrated with a ripe, juicy aftertaste.',\n",
       " 'wine review : Portugal : Douro : Portuguese Red : The latest release from the partnership between the Roquette family of Quinta do Crasto in the Douro and the Cazes family of Château Lynch-Bages in Bordeaux. The wine brings out considerable minerality, a herbal edge along with forward black currant fruit. It is austerely structured at this stage and needs aging for several years.',\n",
       " \"wine review : Spain : Catalonia : Red Blend : Ripe and sweet, with lush, raisiny aromas. The palate is flush, deep and layered, with baked berry, prune, toast and coffee flavors. This is a lot like Vall Llach's signature '07, but it's a bit more restrained and at $50 it's a better deal than the $95 wine. Still, it's a heavyweight to drink now through 2013.\",\n",
       " \"wine review : Italy : Tuscany : Red Blend : Here's an elegant and clean blend of Merlot (50%), Cabernet Sauvignon and Cabernet Franc from coastal Tuscany that offers intensity and well-measured aromas of ripe cherry, espresso bean and tobacco. The wine is plush and soft, with plump berry notes on the finish.\",\n",
       " 'wine review : France : Bordeaux : Bordeaux-style Red Blend : Full-bodied wine, spiced with nutmeg and toast and give richness by sweet blackberry juice flavors. It is densely structured, rich with great fruit character as well as a powerful drive of rich tannins. Age this wine at least four years and more.',\n",
       " 'wine review : France : Bordeaux : Bordeaux-style Red Blend : A solid effort, with attractive, balanced black currant fruits and ripe acidity. The wine layers fruit and integrated tannins. It feels chunky and dense, finishing dry.',\n",
       " \"wine review : US : California : Syrah : Impressive for its depth and deliciousness. The grapes are from Cline's estate on the Sonoma side of the Carneros district. The wine is dry, full-bodied and tannic, although you can drink it now. It's very rich in blackberries, currants, mushu plum sauce, grilled beef and smoky sandalwood, and seems at its best now.\",\n",
       " \"wine review : Spain : Catalonia : Red Blend : Ripe black fruit aromas aren't overly complex or nuanced but they are generous. Feels tight, gritty and healthy, with firm tannins in front of black cherry and blackberry flavors. Mellows on the finish, where plum and prune flavors take over. Not a hard, fierce Priorat; drink now through 2014.\",\n",
       " \"wine review : US : California : Cabernet Sauvignon : Here's a big, rich, fruity Cabernet that satisfies for its array of blackberry, cherry, currant, mineral and oak flavors. It's dry and tannic, and the overall quality is quite high. The price makes it a good Buy. Drink through 2014\",\n",
       " 'wine review : Italy : Tuscany : Red Blend : This elegant 80-20 Cabernet Sauvignon-Cabernet Franc blend delivers mature aromas of ripe berry, black cherry and fresh aromas of dried herbs and powdered licorice. The somewhat subdued bouquet leads to a generous mouthfeel that leaves a long-lasting impression.',\n",
       " \"wine review : US : California : Sparkling Blend : Pretty dark in color and full bodied for a sparkling wine, even one that's majority Pinot Noir. But it's delicious and dry, which surely are prime requisites for any bubbly. Shows ripe, flashy raspberry, strawberry, orange, vanilla, honey, yeast and toast flavors, and the mouthfeel is silky and refined.\",\n",
       " \"wine review : US : California : Petite Sirah : So soft, silky and sweet in blackberries, cherries and red currants, it could be a big, ripe Pinot Noir. That's a compliment. Petite Sirah can often be overpowering. This one's delicate, elegant and frankly delicious. Best now and over the next four years.\",\n",
       " 'wine review : France : Languedoc-Roussillon : Rhône-style Red Blend : This Grenache-heavy blend (with 20% Syrah) offers a good amount of bittersweet cocoa powder and rich jammy black berries and all-fruit preserves on the nose and mouth. A hint of gaminess adds interest to the bouquet, while the crushed velvet texture and firm tannins transition into a long finish laced with earthy spice.',\n",
       " 'wine review : Portugal : Douro : Portuguese White : Aromas of fresh-cut hay lead to a wine that has considerable concentration and good balance from wood aging. Very citrus with pineapple touches, it finishes with an herbaceous feel. The wine comes from a vineyard planted at the end of the 19th century.',\n",
       " 'wine review : US : Washington : Cabernet Franc : A complex mix of wild berry, cherry and somewhat brambly fruits provides a substantial core to this wine. The fruit rolls on through a slightly chalky patch, then finishes with a flourish of toast and graphite.',\n",
       " 'wine review : US : California : Pinot Noir : A rich, tasty Pinot, packed with black cherry pie filling, cola, orange zest, star anise, cinnamon and sandalwood flavors that finish sweet and long. The texture is satisfying. Drink over the next several years.',\n",
       " \"wine review : US : California : Viognier : If you like your Voigniers flamboyant, this one's for you. It's an explosion of tangerines, golden mangoes, peaches and pears, with buttery, creamy overtones and a finish of honey. Lots of zesty acidity adds a balancing scour to the mouthfeel.\",\n",
       " \"wine review : US : California : Pinot Noir : Delicious is the word that comes to mind drinking this Pinot Noir. It's young and vibrant in acidity, with waves of raspberries, persimmons, honey, cinnamon, cloves and smoky sandalwood. Good over the next five years.\",\n",
       " 'wine review : US : Washington : Bordeaux-style Red Blend : A riot of licorice, cassis, toast and berry, this 83% Cabernet Sauvignon/17% Petit Verdot Bordeaux-style blend is currently showing a lot of barrel flavors, with subdued but not insignificant fruit. Medium-grained tannins give the finish some gravitas.',\n",
       " 'wine review : Australia : Australia Other : Shiraz : This is an unusually complex Shiraz for the price, ably marrying meaty-savory notes with tart berries and plenty of weight on the palate. Crisp structure, finishes long, with lingering acids. Drink now–2018.',\n",
       " \"wine review : Italy : Tuscany : Sangiovese : Jacopo Biondi Santi hits a home run with this beautiful Morellino. The wine is smooth and dense, with lively cherry notes, soft spice and tobacco. It's straightforward and plush, but elegant at the same time.\",\n",
       " 'wine review : Italy : Tuscany : Red Blend : Le Buche is an interesting winery to watch, and its various Tuscan blends show great promise. Memento is equal parts Sangiovese and Syrah with a soft, velvety texture and a bright berry finish.',\n",
       " \"wine review : US : California : Syrah : Aged a little more than two years in 90% new French oak and then in bottle, time has been kind to this wine, a Syrah of dark mushroom and baked blackberry, that's savory and silky with a slight hint of mint on the finish. Mighty and impressive.\",\n",
       " 'wine review : US : Washington : Syrah : Dusty and tight, with a whiff of coffee and cocoa introducing an elegant wine with interesting streaks of metal and graphite. Young fruit and fine tannins are in perfect balance, and the wine has a lovely delicacy.',\n",
       " 'wine review : Italy : Tuscany : Red Blend : This vintage of Marsiliana (the top wine from the Maremma property of Prince Corsini) shows rich tones of espresso, chocolate, dark fruit, leather and spice. The wine is soft and well extracted, with a slightly tough, chewy finish.',\n",
       " \"wine review : Italy : Tuscany : Sangiovese : Tuscany's Mazzei family delivers a wonderful Chianti Classico from their Fonterutoli estate that would pair perfectly with grilled meats or oven-roasted pasta. This is a soft, lush wine with bright cherry and spice notes, which drive a long, velvety finish.\",\n",
       " 'wine review : Spain : Catalonia : Red Blend : It has taken a few years but Morlanda has reached a nice place with this wine. Look for ripeness and concentrated black fruit aromas, and then a ripe palate with herbal blackberry and chocolate. Smooth on the finish, with a tiny bit of burn. Drink now through 2014.',\n",
       " 'wine review : Portugal : Douro : Portuguese White : A wood-aged white, spicy and ripe. It has just the right balance of acidity to go with the ripe green plum and melon fruits. With a great bite of acidity to finish, this is a wine that will age for 3–4 years.',\n",
       " 'wine review : US : Texas : Roussanne : White lily, popcorn kernel, citrus spray and underripe peach lead the well-integrated and restrained nose. The palate follows suit, remaining quiet and delicate in flavor concentration, yet loud in weight and texture. Salty citrus lingers on the finish.',\n",
       " \"wine review : Germany : Nahe : Riesling : Whiffs of smoke and nuts mingle into tart tangerine and lime flavors in this refreshing off-dry Riesling. Juicy and fresh, it's a straightforward, revitalizing sip. Drink now through 2018.\",\n",
       " \"wine review : Italy : Piedmont : Nebbiolo : Aromas of leather, vineyard dust, dried violet and a whiff of pressed powder lead the nose. The simple palate isn't very expressive, showing sour red cherry and a hint of baking spice alongside close-grained tannins that dry out the finish.\",\n",
       " \"wine review : US : Texas : Nero d'Avola : An enticing mix of dark berries and fatty, cured sausage makes for an interesting nose. There's good structure and balance on the palate with this southern Italian transplant. It's juicy, ripe and ready for barbecue.\",\n",
       " 'wine review : US : Texas : Roussanne : Peach, canned tropical fruit and white flower aromas are pristine on the nose. The medium-bodied palate shows a balance of juicy peach and pineapple, with streaks of chalk and a vein of acidity. This is clean, succinct and perfectly enjoyable on its own.',\n",
       " 'wine review : Portugal : Vinho Verde : Avesso : A fresh lemon-flavored wine with crisp acidity balanced by warmer white-stone fruit. It is fruity, showing a touch of toast and almonds. Drink now.',\n",
       " \"wine review : Italy : Piedmont : Nebbiolo : The nose isn't very expressive, offering aromas of toasted hazelnut, while the dense, simple palate shows dried black cherry and licorice. It's shy on freshness and has round but rather fleeting tannins. Drink through 2018.\",\n",
       " 'wine review : Italy : Piedmont : Nebbiolo : This opens with aromas of toast, oak, menthol, resin, coffee bean and medicinal notes. The aromas carry over to the firm palate, along with thyme, clove, licorice and bracing tannins.',\n",
       " 'wine review : Argentina : Mendoza Province : Bordeaux-style Red Blend : Flat in color, with a dull luster, this smells mulchy and earthy, with dampness to the nose. A thick, medicinal palate is dealing severe tannins embedded into a syrupy texture. Flavors of fig, raisin and earth are a little spent.',\n",
       " 'wine review : France : France Other : Cinsault : Juicy dark plum, cherry and boysenberry are upfront on the nose, with additional seductive hints of purple violet and vanilla. The palate is plush and fruit-forward, with ample acidity and medium tannins that lend pleasant structure. Accents of sweet spice grace the finish.',\n",
       " \"wine review : US : Oregon : Rosé : This light, refreshing rosé mixes fresh strawberry fruit with apple-flavored acids. It's finished bone dry, with an almost dusty mouthfeel (in a good kind of way).\",\n",
       " 'wine review : Argentina : Other : Malbec : Smashed berry aromas are backed by earth and toasty oak notes. Fairly hard and tannic on the palate, this shows herbal plum flavors in front of a bold finish with dry tannins and a hint of wood spice.',\n",
       " \"wine review : US : Oregon : Pinot Noir : This is smooth and accessible, putting a light chocolate frame around rhubarb and strawberry fruit. There's a hint of pepper, and the wine is fresh and youthful, good sipping wine for late summer/early fall.\",\n",
       " 'wine review : US : Oregon : Pinot Gris : Quite tart, the fruit here touches (just barely) on melon, with orange and lemon zest, a bit of lime, and plenty of acid. All stainless fermented, it went through full malolactic.',\n",
       " 'wine review : Italy : Piedmont : Nebbiolo : This has aromas suggesting grilled herb, toasted oak, espresso and a whiff of wet animal fur. The palate offers dried cherry, game, anisette and a green note of bitter sage alongside extremely astringent tannins.',\n",
       " 'wine review : Italy : Piedmont : Nebbiolo : This opens with aromas of toasted oak, roasted coffee bean and a whiff of sawdust. The bracing palate offers dried cherry, espresso and mocha alongside astringent tannins. Give the tannins another year or two to unwind then drink to capture the remaining fruit.',\n",
       " 'wine review : Argentina : Mendoza Province : Pinot Gris : Despite looking gold and mature, this PG exceeds expectations courtesy of waxy, baked-apple aromas and a full but balanced mouthfeel. Spiced apple, apricot and burnt orange flavors finish long due to core acidity. Drink immediately.',\n",
       " \"wine review : Australia : Australia Other : Sauvignon Blanc : Green beans and snap peas give this Sauvignon Blanc a green cast overall, but there's some citrus and gooseberry fruit as well. It's clean and refreshing on the finish.\",\n",
       " 'wine review : Portugal : Tejo : Portuguese White : A blend of Fernão Pires and Arinto, this is totally crisp and refreshingly fruity. It is perfumed, smooth while also cut with acidity. The acidity comes from both citrus and pineapple flavors. Drink now.',\n",
       " 'wine review : Argentina : Mendoza Province : Sauvignon Blanc : Aromas of citrus and petrol are backed by a juicy palate with tangy acidity and semisharp flavors of peach, tangerine and stone-fruit pits. Fresh, citrusy length and a lingering note of orange are the finish.',\n",
       " 'wine review : Portugal : Tejo : Tinta Miúda : Known in Spain as Graciano, this grape produces attractive, fruity wine especially in the Tejo region. This example is ripe with layers of acidity as well as a generous texture. Soft and smooth, it is ready to drink.',\n",
       " \"wine review : Australia : South Australia : Sauvignon Blanc : This medium-bodied wine features aromas of green apple and crushed stone, while the flavors turn citrusy, veering toward lime and grapefruit. It's nicely silky in texture, while a hint of snow pea marks the finish.\",\n",
       " 'wine review : US : California : Muscat Blanc à Petits Grains : An earthy, nutty aroma and flavor come through the intense sweetness and full body of this dessert-style wine. It goes for earthy complexity rather than obvious fruit flavors, and tastes high in sugar and alcohol.',\n",
       " \"wine review : Argentina : Mendoza Province : Malbec : This Malbec is a collection of disparate parts that doesn't justify its price. Reduced plum and grapy berry aromas come with woodsy notes of menthol and cola. Highly herbal, saucy, savory flavors are more oaky than fruity, while this finishes with muscular tannins and savory, grapy notes.\",\n",
       " 'wine review : Portugal : Vinho Verde : Portuguese Sparkling : This is crisp and fresh medium-sweet wine. It is bright with red-currant acidity and ripe with a strawberry and cream flavor. The wine is clean, lively and, of course, ready to drink.',\n",
       " 'wine review : Italy : Piedmont : Nebbiolo : Cellar floor, eucalyptus, black spice and a note recalling grilled celery lead the nose. The ripe palate offers mature black cherry, star anise and a hint of orange zest while assertive, tightly knit tannins leave an astringent finish.',\n",
       " 'wine review : US : California : Zinfandel : This full-bodied wine is in the classic mode, offering very ripe and even overripe aromas. Voluptuous berry flavors verge on sweet, and the rich texture comes without a lot of drying tannin.',\n",
       " \"wine review : Argentina : Mendoza Province : Malbec : Roasted, woodsy, rubbery aromas are gamy and staunch, with berry notes interspersed. Grabby, rubbery tannins make for a rugged palate, while roasted plum and gamy flavors are a touch salty. A tannic finish doesn't change much.\",\n",
       " \"wine review : Italy : Piedmont : Nebbiolo : Berry, menthol and a hint of espresso aromas lead the way while the straightforward palate shows mature black-skinned berry, coffee and a hint of licorice. It's already approachable. Drink through 2020.\",\n",
       " 'wine review : France : Bordeaux : Bordeaux-style Red Blend : The wood flavors are still prominent in this spicy wine. Heavily influenced by rich Merlot, the wine is lightly structured and more about juicy red fruits. Tannins in the back give enough shape, although it will be ready to drink from early 2017.',\n",
       " 'wine review : France : Bordeaux : Bordeaux-style Red Blend : While the wine is firm and tannic at this early stage, it does have the potential to bring out a more fruity character. The red-berry fruits and acidity are there, promising a fresh wine from 2018.',\n",
       " 'wine review : France : Bordeaux : Bordeaux-style Red Blend : Ripe fruit and balanced acidity allow this wine to make room for touches of wood aging. It has spice, a smoky character and attractive finishing freshness. Drink from 2017 when the wine will be fully balanced.',\n",
       " 'wine review : France : Bordeaux : Bordeaux-style Red Blend : From a estate in the Marmet family since 1990, the wine has ripe Merlot flavors that give a generous character. Big, bold fruitiness dominates this wine whose structure is firm while smooth. Drink starting from 2019.',\n",
       " 'wine review : US : Oregon : Chardonnay : This is surprisingly light, having dropped significantly in alcohol from the previous vintage. Green-fruit flavors touch on banana and apple, and the wood—31% new and 26% once-used—seems to show a bit of rawness. Give this another couple of years of bottle age before opening.',\n",
       " \"wine review : US : Oregon : Pinot Blanc : This is a pleasant white wine, albeit rather generic, as Pinot Blanc is prone to be. Crisp apple flavors and a touch of grapefruit are the focus. Drink chilled and enjoy it while it's still young and fresh.\",\n",
       " 'wine review : Spain : Northern Spain : Tempranillo : Earthy, cool aromas of wet cement, raisin and raspberry are a bit flat. This feels drawing and tannic, with flavors of tomato, red plum, currant and raspberry. A full-size finish is comfortable but not very complex.',\n",
       " 'wine review : US : California : Bordeaux-style Red Blend : This wine puts jammy aromas, very ripe flavors, full body and deep, dark fruit flavors on a broad, soft texture.',\n",
       " 'wine review : France : Champagne : Champagne Blend : Neatly divided between the three major grapes of Champagne, this full, ripe wine is packed with rich apple and pear fruits. It is crisp while showing a high dosage giving a softer, smoother aftertaste. Drink this bottling now.',\n",
       " 'wine review : Spain : Levante : Monastrell : Cool aromas of cola, leather and black cherry set up a fairly full but fresh palate with moderate creamy weight. This tastes reedy and spicy, with wild-berry fruit, peppery notes and a distinct flavor of creamy oak. On the finish, this is oaky and herbal tasting.',\n",
       " 'wine review : US : California : Pinot Noir : Stewy plum and cherry jam lie at the heart of this densely layered, though silky-smooth wine, light bodied and ethereal despite the ripeness of fruit flavor. It finishes simply and without fuss.',\n",
       " 'wine review : Spain : Northern Spain : Tempranillo Blend : Slightly gritty aromas are just barely ripe enough. This feels tight, acidic and like tomato juice. Flavors of salty berry fruits, tomato, oak and vanilla are modest but complete. Given how cool 2013 was in Rioja, this is quite good.',\n",
       " 'wine review : US : Oregon : Viognier : Sharply defined, this has piercing, penetrating high notes that are both floral and fruity. Its lemon and tangerine fruit is amped up with some alcoholic burn. Aerating it helps to smooth it out.',\n",
       " \"wine review : US : California : Chardonnay : Director's sources from vineyards across the county to offer an intensity of fruit flavor that tends lush and ripe. Melon and vanilla appear on the nose and palate, with a side tone of pineapple, nutmeg and even clove, finishing clean and with simplicity.\",\n",
       " 'wine review : US : California : Sangiovese : Small amounts of Cabernet Sauvignon, Cabernet Franc and Petite Sirah are blended within this wine, given 17 months in new French oak plus once and twice-used barrels. The oak is integrated within this otherwise leathery, tannic and mild-mannered wine, ripe in cherry and cassis.',\n",
       " 'wine review : Portugal : Douro : Portuguese Red : Just lightly touched by wood this is a bright and fruity wine that is ready to drink. Spice and red-berry fruits dominate, lifted by balanced tannins. Drink now.',\n",
       " 'wine review : Portugal : Alentejano : Portuguese Red : It is the 30% Alicante Bouschet in the blend that gives the dense color to this ripe wine. Concentrate and rich, the generous berry flavors are balanced by a more restrained acidity and smoky flavors. The wine is ready to drink.',\n",
       " 'wine review : Italy : Piedmont : Nebbiolo : Fragrant and fresh, this easy-drinking red has alluring scents of woodland berry, violet and a whiff of freshly tilled soil. The taut, luminous palate offers sour cherry and star anise accompanied by polished tannins and racy acidity.',\n",
       " 'wine review : US : California : Chardonnay : With a richness to the nose, this wine possesses a medium-sized body and moderate acidity, showcasing ripe apple, pear and tropical elements. The finish is focused in simple notions of preserved lemon and pineapple.',\n",
       " 'wine review : US : California : Petit Verdot : This is a highly structured wine with an abundance of fine-grained tannins and firm acidity to support pure raspberry and blackberry flavors. It tastes as if it was made for aging, so wait and drink after 2019.',\n",
       " 'wine review : Spain : Catalonia : Xarel-lo : Dusty stone-fruit aromas suggest yeast and nectarine. This varietal Xarel-lo feels citrusy and spunky; flavors of melon, orange and nectarine are good but standard on the finish. Overall, this is linear and fairly basic for white wine.',\n",
       " \"wine review : US : Oregon : Pinot Noir : This new “i” series offering mixes brambly strawberry fruit with granular tannins. It's ready to drink, dappled with cinnamon, and leaves a slightly medicinal aftertaste in the back of the mouth.\",\n",
       " 'wine review : US : California : Cabernet Sauvignon : Full-bodied and smooth in texture, this generous-tasting wine has lots of ripe plum flavors and sweet-seeming oak accents.',\n",
       " \"wine review : Italy : Piedmont : Nebbiolo : This offers scents and flavors that recall stewed prune, raisin and black pepper. It's still tight, with aggressive tannins that leave a firm clenching finish. Give it a few years to let the tannins unfurl then drink up to capture the remaining fruit.\",\n",
       " \"wine review : Italy : Southern Italy : Greco : Here's a fun, informal sparkler that has aromas of citrus, orchard fruit and toast. The racy palate shows golden apple, pear, bitter almond and a lemon drop note.\",\n",
       " 'wine review : US : California : Sauvignon Blanc : The great Ritchie Vineyard, a renowned site for Chardonnay, also possesses highly sought-after Sauvignon Blanc. Here, it shows as grassy in pea shoots and thick, with a voluptuous texture and body weight.',\n",
       " 'wine review : Spain : Northern Spain : Rosé : Crisp plum and red-bell-pepper aromas lead to a healthy, mostly fresh palate with some weight to it. A mix of citrus and red-plum flavors ends long, without much, if any, unwanted pithiness or bitterness.',\n",
       " 'wine review : France : Champagne : Champagne Blend : Partially from Grand Cru vineyards in the Montagne de Reims and the Côte des Blancs, this wine is soft, ripe and balanced, with a ripe dosage that contrasts with citrus acidity. It has a fine, cool texture.',\n",
       " 'wine review : France : Bordeaux : Bordeaux-style Red Blend : This is a fragrant, spicy wine that is shot through with red fruits and fine acidity. The 95% Merlot and 5% Cabernet Sauvignon blend is still firm with its tannins although the acidity and bright fruit are well in balance. Drink from 2018.',\n",
       " 'wine review : France : Bordeaux : Bordeaux-style Red Blend : This is a ripe wine and full of fruit. It has structure as well with its firm tannins and smoky backdrop. It will broaden out well and give a rich wine from 2018.',\n",
       " 'wine review : France : Champagne : Champagne Blend : A balanced wine, with softness that indicates a relatively high dosage. There is no complexity, but the wine is light, creamy, flavored with green plums and kiwi, just edged with bitterness.',\n",
       " 'wine review : France : Bordeaux : Bordeaux-style Red Blend : From a large 177-acre estate in the southern Graves, this wine shows plenty of stalky, black currant fruits, fresh acidity and spice from wood. It has just the right characters for a food Bordeaux, dry core of tannins and vivid fruit around.',\n",
       " \"wine review : Italy : Lombardy : Trebbiano : Here's a Trebbiano-based wine from the Lake Garda area in northern Italy that delivers smooth consistency and expressive notes of stone fruit, citrus, honey and crushed stone. The wine would pair well with lake fish or vegetable dishes.\",\n",
       " 'wine review : Italy : Southern Italy : Primitivo : Packaged in a heavy, oversized black bottle, this brawny wine delivers power, bulging muscle and aromas that exaggerate in every way possible. The most noticeable feature (so noticeable, it knocks you in the face) is the wood element that comes off as fresh carpentry or wood shavings. The wine is heavy, syrupy and sweet tasting.',\n",
       " \"wine review : New Zealand : Marlborough : Sauvignon Blanc : The 2004 and 2005 vintages of this wine were priced at $15, which gives some idea how fast the supply of Marlborough Sauvignon Blanc has increased. Kono's 2008 is on the light side, but tart and zippy, with a refreshing aspect to its pineapple and grapefruit flavors and herbal overtones. Drink now.\",\n",
       " 'wine review : Chile : Casablanca Valley : Chardonnay : Light and tropical, with buttercup aromas and a touch of citrus. The palate is plump and slightly oily, but with good acidity. Apple, mango and banana flavors are fruity and sweet, but overall the wine holds it together. Drink right away.',\n",
       " 'wine review : Italy : Veneto : Rosé : Corvina, Rondinella and Dindarella—three grapes native to the Verona area of Northern Italy—make up this fresh and lively, easy-sipping rosé. The wine awards pretty aromas of raspberry and white cherry.',\n",
       " \"wine review : Chile : Maipo Valley : Carmenère : Good introductory Carmenère. It's a touch green, which is common for this quality level, but there's also some coconut and mild burnt aromas to wade through. Lively and clanky on the palate, with red fruit, bramble and herbal snap. Good if you're not expecting too much.\",\n",
       " 'wine review : US : California : Cabernet Sauvignon : A little tough and gritty, but okay for everyday fare. Shows blackberry, currant, tobacco and herb flavors that turn sweetly fruity on the finish.',\n",
       " 'wine review : France : Champagne : Champagne Blend : Although it is labeled “Extra Dry” (that is sweeter than Brut), this lively Champagne in its festive little pink bottle is very fresh, with delicious acidity. It finishes lightly, easily.',\n",
       " 'wine review : US : California : Viognier : Sweet in jammy apricots and pineapples, with even richer notes of smoky vanilla and buttered toast. Crisp acidity fortunately provides some balance. From Venge Vineyards.',\n",
       " 'wine review : US : California : Syrah : A bit earthy and herbal, and soft, with cherry and cocoa fruit flavors. The acidity and tannin structure could be firmer.',\n",
       " \"wine review : US : Washington : Red Blend : It's soft, slightly oxidized, and generic. It's pleasantly quaffable, marked in the finish by some rather bitter toast.\",\n",
       " \"wine review : Italy : Sicily & Sardinia : Pinot Noir : Fabio Sireci is behind some of Sicily's best Nero d'Avola and has more recently decided to flex his winemaker muscle on Pinot Noir. The results are a tad jammy and muddled (his vineyards are smack in the middle of the Mediterranean island), ending with ripe aromas of prune and raisin.\",\n",
       " 'wine review : US : California : White Blend : Clean and crisp, with rich flavors of citrus, pear, green apple, vanilla and honey. Finishes with that well-known K-J sweetness. A blend based on Sauvignon Blanc.',\n",
       " 'wine review : US : California : Viognier : Sweet and simple, with pleasantly exotic flavors of pineapples, green apples, pears, honeysuckle flowers, minerals, spices, vanilla, brown sugar and smoky oak. Easy to drink.',\n",
       " 'wine review : US : California : White Blend : A little on the sweet side, but crisp in acidity, and front-loaded with pineapple, grapefruit, tangerine, honeysuckle and spicy vanilla flavors. Sauvignon Blanc, Muscat Blanc, Chardonnay and Roussanne.',\n",
       " \"wine review : France : Bordeaux : Sauvignon Blanc : A heavy dose of Sauvignon Blanc brings herbaceous, grassy, white currants and gooseberry flavors. It's young, and needs more time to coalesce. It is certainly fresh, fruity, right up front.\",\n",
       " \"wine review : Italy : Veneto : Corvina, Rondinella, Molinara : This wine doesn't seem to have fully evolved and its aromas are  muddled in places with notes of mature fruit and natural rubber. In the mouth it has red fruit flavors and tight tannins, but it generally lacks definition.\",\n",
       " 'wine review : France : Bordeaux : Sauvignon Blanc : This totally fresh wine has benefited from the quality of whites in 2007 Bordeaux. It is lemony with pink grapefruit flavors giving an intense lift. There is some herbaceousness, with green herbs and juicy fruits. To drink now.',\n",
       " 'wine review : Italy : Veneto : Cabernet Sauvignon : This is a northern Italian Cabernet with a light, informal style and low intensity. The wine delivers measured aromas of cherry, pine, cedar and ends with a crisp note of acidity.',\n",
       " 'wine review : US : California : Gewürztraminer : Off-dry, with sugary flavors of apricots, pears, flowers, vanilla and dusty Asian spices. Crisp acidity provides needed balance. Try with Vietnamese, Thai or Burmese fare.',\n",
       " 'wine review : Romania : Dealu Mare : Red Blend : An intriguing nose of tobacco, mint, cherry and spice leads this earthy red. Flavors of spice, tobacco, red berry and tea are supported by ageable tannins and good complexity.',\n",
       " \"wine review : Argentina : Mendoza Province : Cabernet Sauvignon : Coconut and dill aromas rise from the nose, and they are surrounded by berry, cassis and floral scents. The palate is tight, honest and a little hard, with middle-of-the-road berry flavors tinged with herbs. There's size and power to this wine, but also balance. Compared to previous years, it's a little less generous but still a good way to go.\",\n",
       " 'wine review : Portugal : Port : Port : This is a sweet, rich Port. Its aromas are of soft berry jelly, with a ripe herbal character. To taste, it is concentrated, but the sweetness of the fruit masks its density. Berry and dried fruits make an attractive blend, leaving a firmer structure in the aftertaste.',\n",
       " 'wine review : Australia : South Australia : Viognier : While lacking the vibrant fruit typical of the variety, there are some attractive hay and honey scents on nose. The full-bodied and soft-textured palate is cloaked in vanilla, which lingers on the finish.',\n",
       " \"wine review : US : Oregon : Pinot Gris : This is a classic, high-acid vintage. The strength is fruit, and it's a mix of citrus and light pineapple; all stainless fermented and finished at moderate alcohol. Quite different in style from the '06, but well-made.\",\n",
       " 'wine review : Spain : Northern Spain : Tempranillo Blend : Mauro will always show you a lot, but frankly this 2005 seems soft and chunky. It has rich, baked, black-fruit aromas and then a mildly syrupy palate with huge blackberry and cassis flavors. The finish is wide and rich, but where are the tannins and structure that this wine is known for? Drink now for best results; it may not improve in the cellar. A Europvin, Christopher Cannan selection, imported by multiple importers, including Michael Skurnik Wines.',\n",
       " \"wine review : US : California : Sauvignon Blanc : Good price for a crisp white wine that's this polished. Nice on its own for the savory citrus, spearmint and spicy vanilla flavors, and fine with everything from fried chicken to Cantonese.\",\n",
       " 'wine review : France : Southwest France : Bordeaux-style Red Blend : A remarkably rich, spicy, attractive red. It obviously has new wood, but its use is judicious, leaving the mint, black berry and soft tannins of the fruit to come through well.',\n",
       " 'wine review : France : Southwest France : Red Blend : Made from Fer Servadou, Duras and Syrah, this is a wine with a truly local pedigree and a modern style, with prominent new wood. There are aromas that talk of wild heather and a dry landscape and palate notes of spice, ripe berries and prunes.',\n",
       " 'wine review : France : Southwest France : Chenin Blanc-Chardonnay : A delicious wine, the Chenin Blanc giving both mineral and spice flavors, contrasting with the richer Chardonnay. Apricot and sweet melon flavors are supported by a fine, surprisingly complex structure. Fresh currants mark the refreshing finish.',\n",
       " 'wine review : France : Loire Valley : Sauvignon Blanc : An enticingly perfumed wine, with its white flowers and apricot blossom. The palate is soft, rich, moving towards yellow fruits, ripe pink grapefruit and just an edge of mineral chalkiness.',\n",
       " 'wine review : Italy : Sicily & Sardinia : White Blend : Edèlmio is a sophisticated and toasty blend of Carricante and Chardonnay with fragrant aromas of stone fruit, peach, mineral, almond and freshly chopped pear. The wine is broad and generous in terms of its mouthfeel and would make a perfect companion to swordfish with mint and roasted eggplant.',\n",
       " \"wine review : Italy : Sicily & Sardinia : Syrah : Here's a Syrah with bursting aromas of mature blueberry, cherry, spice and smoked bacon. The wine is full, round and generous with a supple feel and soft concentration. Pair it with lamb or roasted pork.\",\n",
       " \"wine review : Australia : South Australia : Shiraz : Blended from a patchwork of old vineyards throughout the Barossa, this is typical Barossa Shiraz, with plenty of weight and creamy tannins that support plummy, chocolaty fruit. There's a bit of spice for complexity and a crisp, fresh finish. Drink now–2014.\",\n",
       " \"wine review : US : Oregon : Pinot Gris : Rich in the mouth, this creamy and textural wine mixes fruit flavors of peach, apple and pear in equal proportion. It's a bit heavier than the previous vintage, with less of the floral character, but it offers, instead, a richness that lingers into a satisfying finish.\",\n",
       " 'wine review : US : Oregon : Riesling : Creamy and textural, this brings on a nice mix of apple, pear and Key lime fruit flavors, fresh and pretty. Just a hint of minerality adds interest to the finish.',\n",
       " \"wine review : US : Oregon : Cabernet Sauvignon : Arcane's Cab is stylistically apart from either California or Washington. It defines its own space. There's plenty of new oak, but the fruit, acid and tannins stand up to it. This is sharp and tangy; cranberry and raspberry, strawberry and citric acids all playing their part. Still young, give it some time in a decanter or in your cellar to come together and show its best.\",\n",
       " ...]"
      ]
     },
     "execution_count": 6,
     "metadata": {},
     "output_type": "execute_result"
    }
   ],
   "source": [
    "filtered_data"
   ]
  },
  {
   "cell_type": "code",
   "execution_count": 46,
   "id": "389c20de-0422-4c48-a7b4-6ee12a7bf0e2",
   "metadata": {
    "tags": []
   },
   "outputs": [
    {
     "name": "stdout",
     "output_type": "stream",
     "text": [
      "129907 description chargées\n"
     ]
    }
   ],
   "source": [
    "# Compter le nombre de description de vin\n",
    "n_wines = len(filtered_data)\n",
    "print(f\"{n_wines} description chargées\")\n"
   ]
  },
  {
   "cell_type": "code",
   "execution_count": 47,
   "id": "1b2e3cf7-e416-460e-874a-0dd9637bca36",
   "metadata": {},
   "outputs": [
    {
     "name": "stdout",
     "output_type": "stream",
     "text": [
      "wine review : US : California : Pinot Noir : Oak and earth intermingle around robust aromas of wet forest floor in this vineyard-designated Pinot that hails from a high-elevation site. Small in production, it offers intense, full-bodied raspberry and blackberry steeped in smoky spice and smooth texture.\n"
     ]
    }
   ],
   "source": [
    "example = filtered_data[25]\n",
    "print(example)"
   ]
  },
  {
   "cell_type": "markdown",
   "id": "3f871aaf-d873-41c7-8946-e4eef7ac17c1",
   "metadata": {},
   "source": [
    "##  Tokeniser les données <a name=\"tokenize\"></a>\n"
   ]
  },
  {
   "cell_type": "markdown",
   "id": "15cabd56",
   "metadata": {},
   "source": [
    "La **tokenisation** est une étape fondamentale du traitement du langage naturel (NLP). Elle consiste à diviser une chaîne de texte en unités plus petites, appelées \"tokens\". Ces tokens peuvent être aussi simples que des mots ou aussi complexes que des phrases entières.\n",
    "\n",
    "\n",
    "\n",
    "\n"
   ]
  },
  {
   "cell_type": "code",
   "execution_count": 48,
   "id": "5b2064fb-5dcc-4657-b470-0928d10e2ddc",
   "metadata": {
    "tags": []
   },
   "outputs": [],
   "source": [
    "def pad_punctuation(s):\n",
    "    \"\"\"\n",
    "    Ajoute des espaces autour de la ponctuation pour les traiter comme des 'mots' séparés.\n",
    "    \n",
    "    Args:\n",
    "        s (str): Chaîne de caractères à traiter.\n",
    "        \n",
    "    Returns:\n",
    "        str: Chaîne de caractères avec la ponctuation séparée par des espaces.\n",
    "    \"\"\"\n",
    "    \n",
    "    # Remplacer chaque caractère de ponctuation par lui-même entouré d'espaces\n",
    "    s = re.sub(f\"([{string.punctuation}, '\\n'])\", r\" \\1 \", s)\n",
    "    \n",
    "    # Remplacer les espaces multiples par un seul espace\n",
    "    s = re.sub(\" +\", \" \", s)\n",
    "    \n",
    "    return s\n",
    "\n",
    "# Appliquer la fonction `pad_punctuation` à chaque élément de `filtered_data`\n",
    "text_data = [pad_punctuation(x) for x in filtered_data]\n"
   ]
  },
  {
   "cell_type": "code",
   "execution_count": 49,
   "id": "b87d7c65-9a46-492a-a5c0-a043b0d252f3",
   "metadata": {},
   "outputs": [
    {
     "data": {
      "text/plain": [
       "'wine review : France : Beaujolais : Gamay : Red cherry fruit comes laced with light tannins , giving this bright wine an open , juicy character . '"
      ]
     },
     "execution_count": 49,
     "metadata": {},
     "output_type": "execute_result"
    }
   ],
   "source": [
    "# Afficher une description\n",
    "example_data = text_data[30]\n",
    "example_data"
   ]
  },
  {
   "cell_type": "code",
   "execution_count": 50,
   "id": "9834f916-b21a-4104-acc9-f28d3bd7a8c1",
   "metadata": {
    "tags": []
   },
   "outputs": [],
   "source": [
    "# Convertir en un Dataset TensorFlow\n",
    "text_ds = (\n",
    "    tf.data.Dataset.from_tensor_slices(text_data)  # Créer un dataset TensorFlow à partir de la liste `text_data`\n",
    "    .batch(BATCH_SIZE)  # Grouper les données en lots de taille `BATCH_SIZE`\n",
    "    .shuffle(1000)  # Mélanger les données avec un buffer de taille 1000\n",
    ")\n"
   ]
  },
  {
   "cell_type": "code",
   "execution_count": 51,
   "id": "884c0bcb-0807-45a1-8f7e-a32f2c6fa4de",
   "metadata": {},
   "outputs": [],
   "source": [
    "# Créer une couche de vectorisation\n",
    "vectorize_layer = layers.TextVectorization(\n",
    "    standardize=\"lower\",                   # Standardiser le texte en le mettant en minuscules\n",
    "    max_tokens=VOCAB_SIZE,                 # Nombre maximal de tokens uniques dans le vocabulaire\n",
    "    output_mode=\"int\",                     # Mode de sortie où chaque token est représenté par un entier unique\n",
    "    output_sequence_length=MAX_LEN + 1,    # Longueur de sortie pour chaque séquence vectorisée\n",
    ")\n"
   ]
  },
  {
   "cell_type": "code",
   "execution_count": 52,
   "id": "4d6dd34a-d905-497b-926a-405380ebcf98",
   "metadata": {},
   "outputs": [
    {
     "data": {
      "text/plain": [
       "['',\n",
       " '[UNK]',\n",
       " ':',\n",
       " ',',\n",
       " '.',\n",
       " 'and',\n",
       " 'the',\n",
       " 'wine',\n",
       " 'a',\n",
       " 'of',\n",
       " 'review',\n",
       " 'with',\n",
       " 'this',\n",
       " 'is',\n",
       " '-',\n",
       " 'it',\n",
       " 'flavors',\n",
       " 'in',\n",
       " \"'\",\n",
       " 'to',\n",
       " 'us',\n",
       " 's',\n",
       " 'fruit',\n",
       " 'on',\n",
       " 'red',\n",
       " 'that',\n",
       " 'aromas',\n",
       " 'blend',\n",
       " 'palate',\n",
       " 'california',\n",
       " 'acidity',\n",
       " 'finish',\n",
       " 'from',\n",
       " 'but',\n",
       " 'tannins',\n",
       " 'drink',\n",
       " 'cherry',\n",
       " 'black',\n",
       " 'ripe',\n",
       " 'are',\n",
       " 'italy',\n",
       " 'has',\n",
       " 'france',\n",
       " 'pinot',\n",
       " 'sauvignon',\n",
       " 'cabernet',\n",
       " 'for',\n",
       " 'by',\n",
       " '%',\n",
       " 'spice',\n",
       " 'notes',\n",
       " 'as',\n",
       " 'an',\n",
       " 'white',\n",
       " 'its',\n",
       " 'oak',\n",
       " 'fresh',\n",
       " 'rich',\n",
       " 'dry',\n",
       " 'berry',\n",
       " 'nose',\n",
       " 'chardonnay',\n",
       " 'noir',\n",
       " 'style',\n",
       " 'full',\n",
       " 'bordeaux',\n",
       " 'now',\n",
       " 'plum',\n",
       " 'soft',\n",
       " 'apple',\n",
       " 'fruits',\n",
       " 'well',\n",
       " 'sweet',\n",
       " 'crisp',\n",
       " 'blackberry',\n",
       " 'offers',\n",
       " 'light',\n",
       " 'texture',\n",
       " 'dark',\n",
       " 'there',\n",
       " 'while',\n",
       " 'citrus',\n",
       " 'bodied',\n",
       " 'shows',\n",
       " 'through',\n",
       " 'spain',\n",
       " 'vanilla',\n",
       " 'bright',\n",
       " 'at',\n",
       " 'very',\n",
       " 'pepper',\n",
       " 'more',\n",
       " 'syrah',\n",
       " 'juicy',\n",
       " 'green',\n",
       " 'lemon',\n",
       " 'fruity',\n",
       " 'raspberry',\n",
       " 'valley',\n",
       " 'good',\n",
       " 'merlot',\n",
       " 'blanc',\n",
       " 'firm',\n",
       " 'washington',\n",
       " 'some',\n",
       " 'new',\n",
       " 'peach',\n",
       " 'chocolate',\n",
       " 'touch',\n",
       " 'balanced',\n",
       " 'character',\n",
       " 'like',\n",
       " 'not',\n",
       " 'will',\n",
       " 'dried',\n",
       " 'pear',\n",
       " 'out',\n",
       " 'up',\n",
       " 'years',\n",
       " 'riesling',\n",
       " 'structure',\n",
       " 'or',\n",
       " 'be',\n",
       " 'spicy',\n",
       " 'fine',\n",
       " 'smooth',\n",
       " 'wood',\n",
       " 'all',\n",
       " 'made',\n",
       " 'medium',\n",
       " 'herb',\n",
       " 'just',\n",
       " 'currant',\n",
       " 'mouth',\n",
       " 'long',\n",
       " 'concentrated',\n",
       " 'mineral',\n",
       " 'tannic',\n",
       " 'tart',\n",
       " 'also',\n",
       " 'herbal',\n",
       " 'note',\n",
       " 'vineyard',\n",
       " 'into',\n",
       " 'tuscany',\n",
       " 'flavor',\n",
       " 'licorice',\n",
       " 'hint',\n",
       " 'still',\n",
       " 'lime',\n",
       " 'oregon',\n",
       " 'orange',\n",
       " 'portugal',\n",
       " 'bit',\n",
       " 'creamy',\n",
       " 'clean',\n",
       " 'give',\n",
       " 'so',\n",
       " 'age',\n",
       " 'toast',\n",
       " 'balance',\n",
       " 'one',\n",
       " 'opens',\n",
       " 'sangiovese',\n",
       " 'rosé',\n",
       " 'malbec',\n",
       " 'dense',\n",
       " 'alongside',\n",
       " 'aging',\n",
       " 'along',\n",
       " 'structured',\n",
       " 'leather',\n",
       " 'over',\n",
       " 'lead',\n",
       " 'savory',\n",
       " 'tobacco',\n",
       " 'you',\n",
       " 'ready',\n",
       " 'earthy',\n",
       " 'delicious',\n",
       " 'tight',\n",
       " 'slightly',\n",
       " 'hints',\n",
       " 'great',\n",
       " 'elegant',\n",
       " 'which',\n",
       " 'easy',\n",
       " 'yet',\n",
       " 'than',\n",
       " 'complex',\n",
       " 'mouthfeel',\n",
       " 'chile',\n",
       " 'richness',\n",
       " 'melon',\n",
       " 'cassis',\n",
       " 'freshness',\n",
       " 'herbs',\n",
       " 'young',\n",
       " 'smoky',\n",
       " 'time',\n",
       " 'franc',\n",
       " 'lively',\n",
       " 'yellow',\n",
       " 'vintage',\n",
       " 'strawberry',\n",
       " ')',\n",
       " '(',\n",
       " 'australia',\n",
       " 'northern',\n",
       " 'cherries',\n",
       " 'feels',\n",
       " 'delivers',\n",
       " 'coffee',\n",
       " 'cola',\n",
       " 'burgundy',\n",
       " 'grapefruit',\n",
       " 'color',\n",
       " 'honey',\n",
       " 'big',\n",
       " 'feel',\n",
       " 'clove',\n",
       " 'wild',\n",
       " 'almost',\n",
       " 'high',\n",
       " 'stone',\n",
       " 'here',\n",
       " 'little',\n",
       " 'off',\n",
       " 't',\n",
       " 'argentina',\n",
       " 'portuguese',\n",
       " 'zinfandel',\n",
       " 'attractive',\n",
       " 'weight',\n",
       " 'pineapple',\n",
       " 'simple',\n",
       " 'tropical',\n",
       " 'intense',\n",
       " 'floral',\n",
       " 'piedmont',\n",
       " 'apricot',\n",
       " 'come',\n",
       " 'solid',\n",
       " 'earth',\n",
       " 'barrel',\n",
       " 'tastes',\n",
       " 'round',\n",
       " 'refreshing',\n",
       " 'best',\n",
       " 'core',\n",
       " 'cinnamon',\n",
       " 'bottling',\n",
       " 'should',\n",
       " 'finishes',\n",
       " 'champagne',\n",
       " 'rhône',\n",
       " 'showing',\n",
       " 'baked',\n",
       " 'lightly',\n",
       " 'show',\n",
       " 'scents',\n",
       " 'alcohol',\n",
       " 'minerality',\n",
       " 'generous',\n",
       " 'austria',\n",
       " 'gives',\n",
       " 'plenty',\n",
       " 'other',\n",
       " 'complexity',\n",
       " 'edge',\n",
       " 'tangy',\n",
       " 'tempranillo',\n",
       " 'mendoza',\n",
       " 'bitter',\n",
       " 'province',\n",
       " 'make',\n",
       " 'crushed',\n",
       " 'zest',\n",
       " 'cranberry',\n",
       " 'nebbiolo',\n",
       " 'south',\n",
       " 'quite',\n",
       " 'pretty',\n",
       " 'glass',\n",
       " 'toasty',\n",
       " 'body',\n",
       " 'grenache',\n",
       " 'comes',\n",
       " 'flower',\n",
       " 'sparkling',\n",
       " 'blueberry',\n",
       " '2018',\n",
       " 'drinking',\n",
       " 'cedar',\n",
       " 'grapes',\n",
       " 'spices',\n",
       " ';',\n",
       " 'toasted',\n",
       " 'concentration',\n",
       " 'textured',\n",
       " 'smoke',\n",
       " 'aged',\n",
       " 'almond',\n",
       " 'silky',\n",
       " 'much',\n",
       " 'strong',\n",
       " 'mocha',\n",
       " 'perfumed',\n",
       " 'rounded',\n",
       " 'oaky',\n",
       " 'powerful',\n",
       " 'aftertaste',\n",
       " 'mature',\n",
       " 'zesty',\n",
       " 'delicate',\n",
       " 'jammy',\n",
       " 'tones',\n",
       " 'roasted',\n",
       " 'followed',\n",
       " 'after',\n",
       " 'wines',\n",
       " 'veneto',\n",
       " 'york',\n",
       " 'nice',\n",
       " 'bottle',\n",
       " 'too',\n",
       " 'aromatic',\n",
       " 'have',\n",
       " 'warm',\n",
       " 'end',\n",
       " 'layers',\n",
       " 'grape',\n",
       " 'central',\n",
       " 'anise',\n",
       " 'enough',\n",
       " 'deep',\n",
       " 'rose',\n",
       " 'estate',\n",
       " 'hard',\n",
       " 'although',\n",
       " 'mint',\n",
       " 'way',\n",
       " 'forward',\n",
       " 'mix',\n",
       " 'alsace',\n",
       " 'subtle',\n",
       " 'bold',\n",
       " 'both',\n",
       " 'vibrant',\n",
       " 'dusty',\n",
       " 'lush',\n",
       " 'depth',\n",
       " 'baking',\n",
       " 'makes',\n",
       " 'candied',\n",
       " 'offering',\n",
       " 'needs',\n",
       " 'caramel',\n",
       " 'sweetness',\n",
       " '2017',\n",
       " 'peppery',\n",
       " 'fruitiness',\n",
       " 'together',\n",
       " 'whiff',\n",
       " 'pair',\n",
       " 'pure',\n",
       " 'right',\n",
       " 'espresso',\n",
       " 'peel',\n",
       " 'viognier',\n",
       " 'power',\n",
       " 'year',\n",
       " 'brings',\n",
       " 'first',\n",
       " 'petit',\n",
       " 'meat',\n",
       " 'even',\n",
       " 'jam',\n",
       " 'lean',\n",
       " 'thick',\n",
       " 'heavy',\n",
       " 'exotic',\n",
       " 'can',\n",
       " 'berries',\n",
       " 'sour',\n",
       " 'rather',\n",
       " 'few',\n",
       " 'old',\n",
       " 'velvety',\n",
       " 'next',\n",
       " 'flowers',\n",
       " 'blackberries',\n",
       " 'french',\n",
       " 'bouquet',\n",
       " 'verdot',\n",
       " 'tangerine',\n",
       " 'lingering',\n",
       " 'germany',\n",
       " 'side',\n",
       " 'seems',\n",
       " 'close',\n",
       " 'lovely',\n",
       " 'polished',\n",
       " 'layered',\n",
       " 'northeastern',\n",
       " 'then',\n",
       " 'grilled',\n",
       " '2020',\n",
       " 'brisk',\n",
       " 'winery',\n",
       " 'gris',\n",
       " '100',\n",
       " 'vineyards',\n",
       " 'tannin',\n",
       " 'currants',\n",
       " 'cut',\n",
       " 'no',\n",
       " 'violet',\n",
       " 'chewy',\n",
       " 'quality',\n",
       " 'acids',\n",
       " 'integrated',\n",
       " 'most',\n",
       " 'cool',\n",
       " 'already',\n",
       " 'nicely',\n",
       " 'petite',\n",
       " 'enjoy',\n",
       " 'intensity',\n",
       " 'giving',\n",
       " 'varietal',\n",
       " 'supple',\n",
       " 'loire',\n",
       " 'packed',\n",
       " 'sharp',\n",
       " 'southern',\n",
       " 'price',\n",
       " 'tea',\n",
       " 'if',\n",
       " 'was',\n",
       " 'sicily',\n",
       " 'could',\n",
       " '&',\n",
       " 'fragrant',\n",
       " 'sugar',\n",
       " 'taste',\n",
       " 'develop',\n",
       " 'variety',\n",
       " 'only',\n",
       " 'sirah',\n",
       " 'elegance',\n",
       " 'vines',\n",
       " 'before',\n",
       " 'around',\n",
       " 'does',\n",
       " 'two',\n",
       " 'open',\n",
       " 'driven',\n",
       " 'impressive',\n",
       " '10',\n",
       " 'would',\n",
       " 'sardinia',\n",
       " 'classic',\n",
       " 'blue',\n",
       " 'months',\n",
       " 'expression',\n",
       " 'prune',\n",
       " 'food',\n",
       " 'add',\n",
       " 'apples',\n",
       " 'pink',\n",
       " 'sense',\n",
       " 'sage',\n",
       " '2016',\n",
       " 'accents',\n",
       " 'lots',\n",
       " 'adds',\n",
       " 'provide',\n",
       " 'nectarine',\n",
       " 'port',\n",
       " 'what',\n",
       " 'douro',\n",
       " 'cab',\n",
       " 'skin',\n",
       " 'cellar',\n",
       " 'about',\n",
       " '2019',\n",
       " 'cocoa',\n",
       " 'accented',\n",
       " 'olive',\n",
       " 'provence',\n",
       " 'though',\n",
       " 'until',\n",
       " 'ripeness',\n",
       " 'better',\n",
       " 'overall',\n",
       " 'grüner',\n",
       " 'wet',\n",
       " 'pleasant',\n",
       " 'forest',\n",
       " 'shiraz',\n",
       " 'length',\n",
       " 'blossom',\n",
       " 'pie',\n",
       " 'grained',\n",
       " 'between',\n",
       " 'juice',\n",
       " 'soon',\n",
       " 'touches',\n",
       " 'sip',\n",
       " 'zealand',\n",
       " 'beautiful',\n",
       " 'finishing',\n",
       " 'southwest',\n",
       " 'raspberries',\n",
       " 'produced',\n",
       " 'straightforward',\n",
       " 'grigio',\n",
       " 'potential',\n",
       " 'many',\n",
       " 'based',\n",
       " 'smells',\n",
       " 'acidic',\n",
       " 'plump',\n",
       " 'doesn',\n",
       " 'despite',\n",
       " 'mild',\n",
       " 'front',\n",
       " 'leaf',\n",
       " 'tightly',\n",
       " 'backed',\n",
       " 'carry',\n",
       " 'tomato',\n",
       " 'veltliner',\n",
       " 'midpalate',\n",
       " 'racy',\n",
       " 'africa',\n",
       " 'beautifully',\n",
       " 'without',\n",
       " 'raisin',\n",
       " 'take',\n",
       " 'fermented',\n",
       " 'de',\n",
       " 'flavored',\n",
       " 'aroma',\n",
       " 'they',\n",
       " 'back',\n",
       " 'focused',\n",
       " 'somewhat',\n",
       " 'grown',\n",
       " 'plums',\n",
       " 'set',\n",
       " 'raw',\n",
       " 'ample',\n",
       " 'buttered',\n",
       " 'go',\n",
       " 'purple',\n",
       " 'gewürztraminer',\n",
       " 'fleshy',\n",
       " 'chunky',\n",
       " 'astringent',\n",
       " 'producer',\n",
       " 'down',\n",
       " 'mourvèdre',\n",
       " 'rustic',\n",
       " 'top',\n",
       " 'those',\n",
       " 'least',\n",
       " 'short',\n",
       " 'plush',\n",
       " 'lemony',\n",
       " 'another',\n",
       " 'citrusy',\n",
       " 'graphite',\n",
       " 'honeysuckle',\n",
       " 'interesting',\n",
       " 'lot',\n",
       " '20',\n",
       " 'underbrush',\n",
       " 'appellation',\n",
       " 'beaujolais',\n",
       " 'elements',\n",
       " 'opulent',\n",
       " 'acid',\n",
       " 'same',\n",
       " 'spiced',\n",
       " 'hot',\n",
       " 'mango',\n",
       " 'candy',\n",
       " 'making',\n",
       " 'framed',\n",
       " 'single',\n",
       " 'region',\n",
       " 'approachable',\n",
       " 'small',\n",
       " 'menthol',\n",
       " 'streak',\n",
       " 'friendly',\n",
       " 'appealing',\n",
       " 'beef',\n",
       " 'where',\n",
       " 'suggest',\n",
       " 'd',\n",
       " 'low',\n",
       " 'meaty',\n",
       " 'find',\n",
       " 'pomegranate',\n",
       " 'soil',\n",
       " 'll',\n",
       " 'mosel',\n",
       " 'across',\n",
       " 'heat',\n",
       " 'extra',\n",
       " 'cream',\n",
       " 'lift',\n",
       " 'excellent',\n",
       " 'smoked',\n",
       " 'honeyed',\n",
       " 'boysenberry',\n",
       " 'steely',\n",
       " 'gamay',\n",
       " 'catalonia',\n",
       " 'winemaker',\n",
       " 'grip',\n",
       " 'coconut',\n",
       " 'barbera',\n",
       " 'dominate',\n",
       " 'perfect',\n",
       " 'gentle',\n",
       " 'drying',\n",
       " 'family',\n",
       " '5',\n",
       " 'keep',\n",
       " 'boasts',\n",
       " 'robust',\n",
       " 'leathery',\n",
       " 'nutmeg',\n",
       " 'fairly',\n",
       " 'refined',\n",
       " 'nero',\n",
       " 'broad',\n",
       " '50',\n",
       " 'get',\n",
       " 'butter',\n",
       " 'density',\n",
       " 'really',\n",
       " 'thyme',\n",
       " 'taut',\n",
       " 'fully',\n",
       " 'being',\n",
       " 'minty',\n",
       " 'value',\n",
       " 'support',\n",
       " 'restrained',\n",
       " 'bean',\n",
       " 'lend',\n",
       " '2015',\n",
       " 'carmenère',\n",
       " 'tar',\n",
       " 'brown',\n",
       " '15',\n",
       " 'intensely',\n",
       " 'background',\n",
       " 'salty',\n",
       " 'their',\n",
       " 'against',\n",
       " 'slight',\n",
       " 'floor',\n",
       " 'woody',\n",
       " 'may',\n",
       " 'fig',\n",
       " 'golden',\n",
       " 'hold',\n",
       " 'features',\n",
       " 'need',\n",
       " 'charred',\n",
       " 'rubbery',\n",
       " 'dominated',\n",
       " 'given',\n",
       " 'linger',\n",
       " 'rind',\n",
       " 'seem',\n",
       " 'accent',\n",
       " 'soften',\n",
       " 'element',\n",
       " 'chalky',\n",
       " 'been',\n",
       " 'richly',\n",
       " 'pressed',\n",
       " 'appeal',\n",
       " 'yeasty',\n",
       " 'doles',\n",
       " 'bacon',\n",
       " 'going',\n",
       " 'tasty',\n",
       " 'luscious',\n",
       " 'tasting',\n",
       " 'serious',\n",
       " 'entirely',\n",
       " 'level',\n",
       " 'suggests',\n",
       " 'marlborough',\n",
       " '30',\n",
       " 'coming',\n",
       " 'bracing',\n",
       " 'your',\n",
       " 'five',\n",
       " 'inviting',\n",
       " 'mouthwatering',\n",
       " 'sandalwood',\n",
       " 'balsamic',\n",
       " 'modest',\n",
       " 'late',\n",
       " 'further',\n",
       " 'provides',\n",
       " 'succulent',\n",
       " 'lasting',\n",
       " 'colored',\n",
       " 'bone',\n",
       " 'star',\n",
       " 'carries',\n",
       " 'sourced',\n",
       " 'starts',\n",
       " 'alentejano',\n",
       " 'throughout',\n",
       " 'thin',\n",
       " 'typical',\n",
       " 'stage',\n",
       " 'wrapped',\n",
       " 'chenin',\n",
       " 'backbone',\n",
       " 'pears',\n",
       " 'intriguing',\n",
       " 'toned',\n",
       " 'buttery',\n",
       " 'blended',\n",
       " 'firmly',\n",
       " 'easygoing',\n",
       " 'lifted',\n",
       " 'three',\n",
       " 'grass',\n",
       " 'finely',\n",
       " 'laced',\n",
       " 'game',\n",
       " 'certainly',\n",
       " 'skinned',\n",
       " 'mountain',\n",
       " 'banana',\n",
       " 'minerally',\n",
       " 'basic',\n",
       " 'toward',\n",
       " 'any',\n",
       " '2022',\n",
       " 'profile',\n",
       " 'softly',\n",
       " 'keeps',\n",
       " 'extracted',\n",
       " 'tough',\n",
       " 'bitterness',\n",
       " 'austere',\n",
       " 'moderate',\n",
       " 'immediately',\n",
       " 'linear',\n",
       " 'drinkable',\n",
       " 'quickly',\n",
       " 'don',\n",
       " '40',\n",
       " 'milk',\n",
       " 'bring',\n",
       " 'burnt',\n",
       " 'mushroom',\n",
       " 'loaded',\n",
       " 'stalky',\n",
       " 'sauce',\n",
       " 'napa',\n",
       " 'final',\n",
       " 'marked',\n",
       " 'garnacha',\n",
       " 'residual',\n",
       " 'colchagua',\n",
       " 'pleasing',\n",
       " 'mellow',\n",
       " 'peaches',\n",
       " 'subdued',\n",
       " 'chopped',\n",
       " 'zin',\n",
       " 'summer',\n",
       " 'remains',\n",
       " 'combine',\n",
       " 'cake',\n",
       " 'lacks',\n",
       " 'feeling',\n",
       " 'highlights',\n",
       " 'mark',\n",
       " 'leads',\n",
       " 'unusual',\n",
       " 'steel',\n",
       " 'gritty',\n",
       " 'ground',\n",
       " 'youthful',\n",
       " 'lingers',\n",
       " 'suggesting',\n",
       " 'screwcap',\n",
       " 'dishes',\n",
       " 'butterscotch',\n",
       " 'flat',\n",
       " 'ginger',\n",
       " 'briny',\n",
       " 'leafy',\n",
       " 'less',\n",
       " 'leaves',\n",
       " 'pencil',\n",
       " 'such',\n",
       " 'brooding',\n",
       " '/',\n",
       " 'natural',\n",
       " 'crispness',\n",
       " 'assertive',\n",
       " 'wound',\n",
       " 'whole',\n",
       " 'virginia',\n",
       " 'effort',\n",
       " 'accessible',\n",
       " 'grippy',\n",
       " 'varieties',\n",
       " 'six',\n",
       " 'selection',\n",
       " 'offer',\n",
       " 'own',\n",
       " 'chocolaty',\n",
       " 'these',\n",
       " 'nuances',\n",
       " 'skins',\n",
       " 'grosso',\n",
       " 'frame',\n",
       " 'example',\n",
       " 'nut',\n",
       " 'asian',\n",
       " 'neutral',\n",
       " 'climate',\n",
       " 'personality',\n",
       " 'bite',\n",
       " 'several',\n",
       " 'pale',\n",
       " 'freshly',\n",
       " 'grassy',\n",
       " 'slate',\n",
       " 'strongly',\n",
       " 'lychee',\n",
       " 'lighter',\n",
       " 'relatively',\n",
       " 'lavender',\n",
       " 'always',\n",
       " 'impression',\n",
       " 'stewed',\n",
       " 'deliciously',\n",
       " 'hearty',\n",
       " 'dessert',\n",
       " 'start',\n",
       " 'pith',\n",
       " 'touriga',\n",
       " 'rough',\n",
       " 'enjoyable',\n",
       " 'emerge',\n",
       " 'overripe',\n",
       " 'who',\n",
       " 'char',\n",
       " 'violets',\n",
       " 'enticing',\n",
       " 'pine',\n",
       " 'sparkler',\n",
       " 'compact',\n",
       " 'line',\n",
       " 'barrels',\n",
       " 'spring',\n",
       " 'warmth',\n",
       " 'passion',\n",
       " 'do',\n",
       " 'stainless',\n",
       " 'might',\n",
       " 'especially',\n",
       " 'play',\n",
       " 'planted',\n",
       " 'corvina',\n",
       " 'rubber',\n",
       " 'extremely',\n",
       " 'glera',\n",
       " 'rhubarb',\n",
       " 'modern',\n",
       " 'interest',\n",
       " 'mostly',\n",
       " 'away',\n",
       " 'under',\n",
       " 'everyday',\n",
       " 'tejo',\n",
       " 'brambly',\n",
       " 'term',\n",
       " 'plus',\n",
       " 'elegantly',\n",
       " 'pithy',\n",
       " 'filling',\n",
       " 'herbaceous',\n",
       " 'turns',\n",
       " 'try',\n",
       " 'maipo',\n",
       " '60',\n",
       " 'purity',\n",
       " 'eucalyptus',\n",
       " 'wait',\n",
       " 'closes',\n",
       " 'form',\n",
       " 'cru',\n",
       " 'center',\n",
       " 'apéritif',\n",
       " 'bread',\n",
       " 'itself',\n",
       " 'roussanne',\n",
       " 'persistent',\n",
       " 'likely',\n",
       " 'flavorful',\n",
       " 'western',\n",
       " 'dryness',\n",
       " '2021',\n",
       " 'nacional',\n",
       " 'known',\n",
       " 'burgenland',\n",
       " 'avola',\n",
       " 'perfectly',\n",
       " 'adding',\n",
       " 'oily',\n",
       " 'steak',\n",
       " 'finesse',\n",
       " 'once',\n",
       " 'citric',\n",
       " 'reveals',\n",
       " 'reserve',\n",
       " 'generic',\n",
       " 'syrup',\n",
       " 'gorgeous',\n",
       " 'things',\n",
       " 'four',\n",
       " 'range',\n",
       " 'layer',\n",
       " 'easily',\n",
       " 'include',\n",
       " 'displays',\n",
       " 'deeply',\n",
       " 'grabby',\n",
       " 'site',\n",
       " 'surprisingly',\n",
       " 'focus',\n",
       " 'satisfying',\n",
       " 'petal',\n",
       " 'otherwise',\n",
       " 'part',\n",
       " 'rondinella',\n",
       " 'tang',\n",
       " 'heady',\n",
       " 'entry',\n",
       " 'blends',\n",
       " 'richer',\n",
       " 'perfume',\n",
       " 'developing',\n",
       " 'albariño',\n",
       " 'nutty',\n",
       " 'jasmine',\n",
       " 'half',\n",
       " 'yeast',\n",
       " 'mousse',\n",
       " '25',\n",
       " 'casablanca',\n",
       " 'mixed',\n",
       " 'meet',\n",
       " 'behind',\n",
       " 'takes',\n",
       " 'something',\n",
       " 'papaya',\n",
       " 'vinho',\n",
       " 'point',\n",
       " 'bay',\n",
       " 'honeydew',\n",
       " 'molinara',\n",
       " 'isn',\n",
       " 'resiny',\n",
       " 'mediterranean',\n",
       " 'cured',\n",
       " 'amount',\n",
       " 'production',\n",
       " 'sophisticated',\n",
       " 'slowly',\n",
       " 'priced',\n",
       " 'leading',\n",
       " 'sugary',\n",
       " 'smelling',\n",
       " 'opening',\n",
       " 'languedoc',\n",
       " '2010',\n",
       " 'slender',\n",
       " 'prosecco',\n",
       " 'combines',\n",
       " ...]"
      ]
     },
     "execution_count": 52,
     "metadata": {},
     "output_type": "execute_result"
    }
   ],
   "source": [
    "# Adapter la couche aux données d'entraînement\n",
    "vectorize_layer.adapt(text_ds)\n",
    "\n",
    "# Récupérer le vocabulaire généré par la couche de vectorisation\n",
    "vocab = vectorize_layer.get_vocabulary()\n",
    "vocab"
   ]
  },
  {
   "cell_type": "code",
   "execution_count": 53,
   "id": "f6c1c7ce-3cf0-40d4-a3dc-ab7090f69f2f",
   "metadata": {},
   "outputs": [
    {
     "name": "stdout",
     "output_type": "stream",
     "text": [
      "0: \n",
      "1: [UNK]\n",
      "2: :\n",
      "3: ,\n",
      "4: .\n",
      "5: and\n",
      "6: the\n",
      "7: wine\n",
      "8: a\n",
      "9: of\n"
     ]
    }
   ],
   "source": [
    "# Afficher quelques correspondances entre tokens et mots\n",
    "for i, word in enumerate(vocab[:10]):\n",
    "    print(f\"{i}: {word}\")\n"
   ]
  },
  {
   "cell_type": "code",
   "execution_count": 54,
   "id": "1cc30186-7ec6-4eb6-b29a-65df6714d321",
   "metadata": {},
   "outputs": [
    {
     "name": "stdout",
     "output_type": "stream",
     "text": [
      "[  7  10   2  42   2 580   2 620   2  24  36  22 287 742  11  76  34   3\n",
      " 429  12  87   7  52 456   3  93 110   4   0   0   0   0   0   0   0   0\n",
      "   0   0   0   0   0   0   0   0   0   0   0   0   0   0   0   0   0   0\n",
      "   0   0   0   0   0   0   0   0   0   0   0   0   0   0   0   0   0   0\n",
      "   0   0   0   0   0   0   0   0   0]\n"
     ]
    }
   ],
   "source": [
    "# Afficher le même exemple converti en entiers\n",
    "example_tokenised = vectorize_layer(example_data)\n",
    "\n",
    "# Afficher la séquence d'entiers résultante\n",
    "print(example_tokenised.numpy())\n"
   ]
  },
  {
   "cell_type": "markdown",
   "id": "8c195efb-84c6-4be0-a989-a7542188ad35",
   "metadata": {},
   "source": [
    "## Créer l'ensemble d'entraînement <a name=\"create\"></a>"
   ]
  },
  {
   "cell_type": "code",
   "execution_count": 55,
   "id": "740294a1-1a6b-4c89-92f2-036d7d1b788b",
   "metadata": {},
   "outputs": [],
   "source": [
    "def prepare_inputs(text):\n",
    "    \"\"\"\n",
    "    Prépare les entrées pour l'entraînement en créant des paires de phrases : \n",
    "    l'une avec le texte original et l'autre avec le texte décalé d'un mot.\n",
    "    \n",
    "    Args:\n",
    "        text (tf.Tensor): Tensor contenant le texte brut.\n",
    "        \n",
    "    Returns:\n",
    "        tuple: Deux tensors, l'un avec le texte original (x) et l'autre avec le texte décalé d'un mot (y).\n",
    "    \"\"\"\n",
    "    \n",
    "    # Étendre les dimensions du texte pour le traitement\n",
    "    text = tf.expand_dims(text, -1)\n",
    "    \n",
    "    # Convertir le texte en séquences d'entiers\n",
    "    tokenized_sentences = vectorize_layer(text)\n",
    "    \n",
    "    # x contient tous les mots sauf le dernier de chaque phrase\n",
    "    x = tokenized_sentences[:, :-1]\n",
    "    \n",
    "    # y contient tous les mots sauf le premier de chaque phrase, décalant ainsi les séquences d'un mot\n",
    "    y = tokenized_sentences[:, 1:]\n",
    "    \n",
    "    return x, y\n",
    "\n",
    "# Appliquer la fonction `prepare_inputs` à l'ensemble de données\n",
    "train_ds = text_ds.map(prepare_inputs)\n"
   ]
  },
  {
   "cell_type": "code",
   "execution_count": 56,
   "id": "cad80ffb-4298-4249-86b4-9918d62534c5",
   "metadata": {},
   "outputs": [],
   "source": [
    "example_input_output = train_ds.take(1).get_single_element()"
   ]
  },
  {
   "cell_type": "code",
   "execution_count": 57,
   "id": "67ff7263-f62d-44c1-997b-1aa99a393521",
   "metadata": {},
   "outputs": [
    {
     "data": {
      "text/plain": [
       "<tf.Tensor: shape=(80,), dtype=int64, numpy=\n",
       "array([   7,   10,    2,   20,    2,   29,    2,  557,    2, 6399,  307,\n",
       "          3,  127,   95,    3, 1776,  151,    5,   49,    3,   12,  557,\n",
       "         13, 1028,  299,    5, 1344,  282,    3,   52,  575, 1969,   19,\n",
       "        123,  467,   33,  139,    6, 4855,    9,   16, 1461,  453,    8,\n",
       "       7678, 2639,    4,    0,    0,    0,    0,    0,    0,    0,    0,\n",
       "          0,    0,    0,    0,    0,    0,    0,    0,    0,    0,    0,\n",
       "          0,    0,    0,    0,    0,    0,    0,    0,    0,    0,    0,\n",
       "          0,    0,    0])>"
      ]
     },
     "execution_count": 57,
     "metadata": {},
     "output_type": "execute_result"
    }
   ],
   "source": [
    "# exemple\n",
    "example_input_output[0][0]"
   ]
  },
  {
   "cell_type": "code",
   "execution_count": 19,
   "id": "ef2e2cad-414c-4e6d-a2ac-6b9598f9dd01",
   "metadata": {},
   "outputs": [
    {
     "data": {
      "text/plain": [
       "<tf.Tensor: shape=(80,), dtype=int64, numpy=\n",
       "array([  10,    2,   20,    2,   29,    2,  286,    2,    8,  335, 2137,\n",
       "          9, 6151,  470,    3,   12,   57,   63,    9,  164,   83,   24,\n",
       "         36,    3,  213,    3,  276,  846,    5,  685,    3,  151,  859,\n",
       "         14,  111,   26,   23,    6,   60,    4,   38,   67,    5,  204,\n",
       "         16,  793,    6,   28,    3, 2171,   47,  719,  333,    5,  266,\n",
       "          9,  522,  841,    4,    0,    0,    0,    0,    0,    0,    0,\n",
       "          0,    0,    0,    0,    0,    0,    0,    0,    0,    0,    0,\n",
       "          0,    0,    0])>"
      ]
     },
     "execution_count": 19,
     "metadata": {},
     "output_type": "execute_result"
    }
   ],
   "source": [
    "# Exemple de sortie (décalé d'un token)\n",
    "example_input_output[1][0]\n"
   ]
  },
  {
   "cell_type": "markdown",
   "id": "aff50401-3abe-4c10-bba8-b35bc13ad7d5",
   "metadata": {
    "tags": []
   },
   "source": [
    "##  Créer la fonction de masquage pour l'attention causale <a name=\"causal\"></a>"
   ]
  },
  {
   "cell_type": "code",
   "execution_count": 20,
   "id": "554a4184-61c2-4eb7-a063-d965586a8188",
   "metadata": {},
   "outputs": [
    {
     "data": {
      "text/plain": [
       "array([[1, 1, 1, 1, 1, 1, 1, 1, 1, 1],\n",
       "       [0, 1, 1, 1, 1, 1, 1, 1, 1, 1],\n",
       "       [0, 0, 1, 1, 1, 1, 1, 1, 1, 1],\n",
       "       [0, 0, 0, 1, 1, 1, 1, 1, 1, 1],\n",
       "       [0, 0, 0, 0, 1, 1, 1, 1, 1, 1],\n",
       "       [0, 0, 0, 0, 0, 1, 1, 1, 1, 1],\n",
       "       [0, 0, 0, 0, 0, 0, 1, 1, 1, 1],\n",
       "       [0, 0, 0, 0, 0, 0, 0, 1, 1, 1],\n",
       "       [0, 0, 0, 0, 0, 0, 0, 0, 1, 1],\n",
       "       [0, 0, 0, 0, 0, 0, 0, 0, 0, 1]], dtype=int32)"
      ]
     },
     "execution_count": 20,
     "metadata": {},
     "output_type": "execute_result"
    }
   ],
   "source": [
    "def causal_attention_mask(batch_size, n_dest, n_src, dtype):\n",
    "    \"\"\"\n",
    "    Crée un masque pour l'attention causale.\n",
    "    \n",
    "    Ce masque permet de s'assurer que lors de la prédiction d'un token, \n",
    "    seul le passé (les tokens précédents) est pris en compte.\n",
    "    \n",
    "    Args:\n",
    "        batch_size (int): Taille du lot.\n",
    "        n_dest (int): Nombre de tokens de destination.\n",
    "        n_src (int): Nombre de tokens source.\n",
    "        dtype (tf.DType): Type des éléments du masque.\n",
    "        \n",
    "    Returns:\n",
    "        tf.Tensor: Masque d'attention causale de forme [batch_size, n_dest, n_src].\n",
    "    \"\"\"\n",
    "    \n",
    "    # Crée des indices pour les tokens de destination et source\n",
    "    i = tf.range(n_dest)[:, None]\n",
    "    j = tf.range(n_src)\n",
    "    \n",
    "    # Détermine la relation entre les indices de destination et de source\n",
    "    m = i >= j - n_src + n_dest\n",
    "    \n",
    "    # Convertit le masque booléen en type spécifié\n",
    "    mask = tf.cast(m, dtype)\n",
    "    \n",
    "    # Redimensionne le masque pour le rendre compatible avec les dimensions attendues\n",
    "    mask = tf.reshape(mask, [1, n_dest, n_src])\n",
    "    \n",
    "    # Duplique le masque pour tout le lot\n",
    "    mult = tf.concat(\n",
    "        [tf.expand_dims(batch_size, -1), tf.constant([1, 1], dtype=tf.int32)], 0\n",
    "    )\n",
    "    return tf.tile(mask, mult)\n",
    "\n",
    "# Affiche le masque d'attention causale transposé pour une meilleure visualisation\n",
    "np.transpose(causal_attention_mask(1, 10, 10, dtype=tf.int32)[0])\n"
   ]
  },
  {
   "cell_type": "markdown",
   "id": "3501dbad-0860-40ad-b7d6-47950e37858f",
   "metadata": {},
   "source": [
    "## Créer une couche de bloc Transformer<a name=\"transformer\"></a>"
   ]
  },
  {
   "cell_type": "code",
   "execution_count": 21,
   "id": "5285a1cb-fce1-46b1-b088-b596002fa9ae",
   "metadata": {},
   "outputs": [],
   "source": [
    "class TransformerBlock(layers.Layer):\n",
    "    \"\"\"\n",
    "    Couche de bloc Transformer.\n",
    "    \n",
    "    Ce bloc est composé d'une attention multi-têtes suivie d'une \n",
    "    normalisation de couche et d'un réseau feed-forward.\n",
    "    \n",
    "    Attributes:\n",
    "        num_heads (int): Nombre de têtes pour l'attention multi-têtes.\n",
    "        key_dim (int): Dimension de la clé pour l'attention.\n",
    "        embed_dim (int): Dimension de l'embedding.\n",
    "        ff_dim (int): Dimension du réseau feed-forward interne.\n",
    "        dropout_rate (float, optional): Taux de dropout. Par défaut à 0.1.\n",
    "    \"\"\"\n",
    "\n",
    "    def __init__(self, num_heads, key_dim, embed_dim, ff_dim, dropout_rate=0.1):\n",
    "        super(TransformerBlock, self).__init__()\n",
    "        self.num_heads = num_heads\n",
    "        self.key_dim = key_dim\n",
    "        self.embed_dim = embed_dim\n",
    "        self.ff_dim = ff_dim\n",
    "        self.dropout_rate = dropout_rate\n",
    "\n",
    "        # Initialisation des couches\n",
    "        self.attn = layers.MultiHeadAttention(\n",
    "            num_heads, key_dim, output_shape=embed_dim\n",
    "        )\n",
    "        self.dropout_1 = layers.Dropout(self.dropout_rate)\n",
    "        self.ln_1 = layers.LayerNormalization(epsilon=1e-6)\n",
    "        self.ffn_1 = layers.Dense(self.ff_dim, activation=\"relu\")\n",
    "        self.ffn_2 = layers.Dense(self.embed_dim)\n",
    "        self.dropout_2 = layers.Dropout(self.dropout_rate)\n",
    "        self.ln_2 = layers.LayerNormalization(epsilon=1e-6)\n",
    "\n",
    "    def call(self, inputs):\n",
    "        \"\"\"Passage en avant du bloc Transformer.\"\"\"\n",
    "        \n",
    "        # Calcul du masque d'attention causale\n",
    "        input_shape = tf.shape(inputs)\n",
    "        batch_size = input_shape[0]\n",
    "        seq_len = input_shape[1]\n",
    "        causal_mask = causal_attention_mask(\n",
    "            batch_size, seq_len, seq_len, tf.bool\n",
    "        )\n",
    "\n",
    "        # Application de l'attention multi-têtes\n",
    "        attention_output, attention_scores = self.attn(\n",
    "            inputs,\n",
    "            inputs,\n",
    "            attention_mask=causal_mask,\n",
    "            return_attention_scores=True,\n",
    "        )\n",
    "        attention_output = self.dropout_1(attention_output)\n",
    "        out1 = self.ln_1(inputs + attention_output)\n",
    "\n",
    "        # Application du réseau feed-forward\n",
    "        ffn_1 = self.ffn_1(out1)\n",
    "        ffn_2 = self.ffn_2(ffn_1)\n",
    "        ffn_output = self.dropout_2(ffn_2)\n",
    "        return (self.ln_2(out1 + ffn_output), attention_scores)\n",
    "\n",
    "    def get_config(self):\n",
    "        \"\"\"Retourne la configuration du bloc Transformer.\"\"\"\n",
    "        config = super().get_config()\n",
    "        config.update(\n",
    "            {\n",
    "                \"key_dim\": self.key_dim,\n",
    "                \"embed_dim\": self.embed_dim,\n",
    "                \"num_heads\": self.num_heads,\n",
    "                \"ff_dim\": self.ff_dim,\n",
    "                \"dropout_rate\": self.dropout_rate,\n",
    "            }\n",
    "        )\n",
    "        return config\n"
   ]
  },
  {
   "cell_type": "markdown",
   "id": "076a6be0-9796-4974-9bcd-6ebbcfe7514e",
   "metadata": {
    "tags": []
   },
   "source": [
    "## Créer l'Embedding de Tokens et de Position <a name=\"embedder\"></a>"
   ]
  },
  {
   "cell_type": "code",
   "execution_count": 22,
   "id": "fdf5cb25-88ae-4026-9e21-c1e6b5094a2c",
   "metadata": {},
   "outputs": [],
   "source": [
    "class TokenAndPositionEmbedding(layers.Layer):\n",
    "    def __init__(self, max_len, vocab_size, embed_dim):\n",
    "        super(TokenAndPositionEmbedding, self).__init__()\n",
    "        self.max_len = max_len\n",
    "        self.vocab_size = vocab_size\n",
    "        self.embed_dim = embed_dim\n",
    "        self.token_emb = layers.Embedding(\n",
    "            input_dim=vocab_size, output_dim=embed_dim\n",
    "        )\n",
    "        self.pos_emb = layers.Embedding(input_dim=max_len, output_dim=embed_dim)\n",
    "\n",
    "    def call(self, x):\n",
    "        maxlen = tf.shape(x)[-1]\n",
    "        positions = tf.range(start=0, limit=maxlen, delta=1)\n",
    "        positions = self.pos_emb(positions)\n",
    "        x = self.token_emb(x)\n",
    "        return x + positions\n",
    "\n",
    "    def get_config(self):\n",
    "        config = super().get_config()\n",
    "        config.update(\n",
    "            {\n",
    "                \"max_len\": self.max_len,\n",
    "                \"vocab_size\": self.vocab_size,\n",
    "                \"embed_dim\": self.embed_dim,\n",
    "            }\n",
    "        )\n",
    "        return config"
   ]
  },
  {
   "cell_type": "markdown",
   "id": "aac2e2d4-5980-47e3-b5b0-6c41c0c2d152",
   "metadata": {},
   "source": [
    "## Construire le modèle Transformer <a name=\"transformer_decoder\"></a>"
   ]
  },
  {
   "cell_type": "code",
   "execution_count": 23,
   "id": "8c57596e-e17d-4959-b6e8-7581b0bace3a",
   "metadata": {},
   "outputs": [],
   "source": [
    "inputs = layers.Input(shape=(None,), dtype=tf.int32)\n",
    "x = TokenAndPositionEmbedding(MAX_LEN, VOCAB_SIZE, EMBEDDING_DIM)(inputs)\n",
    "x, attention_scores = TransformerBlock(\n",
    "    N_HEADS, KEY_DIM, EMBEDDING_DIM, FEED_FORWARD_DIM\n",
    ")(x)\n",
    "outputs = layers.Dense(VOCAB_SIZE, activation=\"softmax\")(x)\n",
    "gpt = models.Model(inputs=inputs, outputs=[outputs, attention_scores])\n",
    "gpt.compile(\"adam\", loss=[losses.SparseCategoricalCrossentropy(), None])"
   ]
  },
  {
   "cell_type": "code",
   "execution_count": 24,
   "id": "1a1c3b0f-3382-444d-bb04-bae143ae5d61",
   "metadata": {},
   "outputs": [
    {
     "name": "stdout",
     "output_type": "stream",
     "text": [
      "Model: \"model\"\n",
      "_________________________________________________________________\n",
      " Layer (type)                Output Shape              Param #   \n",
      "=================================================================\n",
      " input_1 (InputLayer)        [(None, None)]            0         \n",
      "                                                                 \n",
      " token_and_position_embeddi  (None, None, 256)         2580480   \n",
      " ng (TokenAndPositionEmbedd                                      \n",
      " ing)                                                            \n",
      "                                                                 \n",
      " transformer_block (Transfo  ((None, None, 256),       658688    \n",
      " rmerBlock)                   (None, 2, None, None))             \n",
      "                                                                 \n",
      " dense_2 (Dense)             (None, None, 10000)       2570000   \n",
      "                                                                 \n",
      "=================================================================\n",
      "Total params: 5809168 (22.16 MB)\n",
      "Trainable params: 5809168 (22.16 MB)\n",
      "Non-trainable params: 0 (0.00 Byte)\n",
      "_________________________________________________________________\n"
     ]
    }
   ],
   "source": [
    "gpt.summary()"
   ]
  },
  {
   "cell_type": "code",
   "execution_count": 25,
   "id": "800a3c6e-fb11-4792-b6bc-9a43a7c977ad",
   "metadata": {
    "tags": []
   },
   "outputs": [],
   "source": [
    "if LOAD_MODEL:\n",
    "    # model.load_weights('./models/model')\n",
    "    gpt = models.load_model(\"./models/gpt\", compile=True)"
   ]
  },
  {
   "cell_type": "markdown",
   "id": "35b14665-4359-447b-be58-3fd58ba69084",
   "metadata": {},
   "source": [
    "## Entraîner le Transformer <a name=\"train\"></a>"
   ]
  },
  {
   "cell_type": "code",
   "execution_count": 26,
   "id": "3ddcff5f-829d-4449-99d2-9a3cb68f7d72",
   "metadata": {},
   "outputs": [],
   "source": [
    "# Create a TextGenerator checkpoint\n",
    "class TextGenerator(callbacks.Callback):\n",
    "    def __init__(self, index_to_word, top_k=10):\n",
    "        self.index_to_word = index_to_word\n",
    "        self.word_to_index = {\n",
    "            word: index for index, word in enumerate(index_to_word)\n",
    "        }\n",
    "\n",
    "    def sample_from(self, probs, temperature):#temperature: parametre pour controler l'alea\n",
    "        probs = probs ** (1 / temperature)\n",
    "        probs = probs / np.sum(probs)\n",
    "        return np.random.choice(len(probs), p=probs), probs\n",
    "\n",
    "    def generate(self, start_prompt, max_tokens, temperature):\n",
    "        start_tokens = [\n",
    "            self.word_to_index.get(x, 1) for x in start_prompt.split()\n",
    "        ]\n",
    "        sample_token = None\n",
    "        info = []\n",
    "        while len(start_tokens) < max_tokens and sample_token != 0:\n",
    "            x = np.array([start_tokens])\n",
    "            y, att = self.model.predict(x, verbose=0)\n",
    "            sample_token, probs = self.sample_from(y[0][-1], temperature)\n",
    "            info.append(\n",
    "                {\n",
    "                    \"prompt\": start_prompt,\n",
    "                    \"word_probs\": probs,\n",
    "                    \"atts\": att[0, :, -1, :],\n",
    "                }\n",
    "            )\n",
    "            start_tokens.append(sample_token)\n",
    "            start_prompt = start_prompt + \" \" + self.index_to_word[sample_token]\n",
    "        print(f\"\\ngenerated text:\\n{start_prompt}\\n\")\n",
    "        return info\n",
    "\n",
    "    def on_epoch_end(self, epoch, logs=None):\n",
    "        self.generate(\"wine review\", max_tokens=80, temperature=1.0)"
   ]
  },
  {
   "cell_type": "code",
   "execution_count": 27,
   "id": "349865fe-ffbe-450e-97be-043ae1740e78",
   "metadata": {},
   "outputs": [],
   "source": [
    "# Create a model save checkpoint\n",
    "model_checkpoint_callback = callbacks.ModelCheckpoint(\n",
    "    filepath=\"./checkpoint/checkpoint.ckpt\",\n",
    "    save_weights_only=True,\n",
    "    save_freq=\"epoch\",\n",
    "    verbose=0,\n",
    ")\n",
    "\n",
    "tensorboard_callback = callbacks.TensorBoard(log_dir=\"./logs\")\n",
    "\n",
    "# Tokenize starting prompt\n",
    "text_generator = TextGenerator(vocab)"
   ]
  },
  {
   "cell_type": "code",
   "execution_count": 28,
   "id": "461c2b3e-b5ae-4def-8bd9-e7bab8c63d8e",
   "metadata": {
    "tags": []
   },
   "outputs": [
    {
     "name": "stdout",
     "output_type": "stream",
     "text": [
      "Epoch 1/5\n",
      "4060/4060 [==============================] - ETA: 0s - loss: 1.7996 - dense_2_loss: 1.7996\n",
      "generated text:\n",
      "wine review : chile : casablanca valley : syrah : excellent things off - value , with spice notes , and it feels fine , and the rest of the movement in leyda valley . this mixes briny , briny and briny flavors of citrus and berry . its finish is fresh but limited . \n",
      "\n",
      "4060/4060 [==============================] - 660s 162ms/step - loss: 1.7996 - dense_2_loss: 1.7996\n",
      "Epoch 2/5\n",
      "4060/4060 [==============================] - ETA: 0s - loss: 1.7775 - dense_2_loss: 1.7775\n",
      "generated text:\n",
      "wine review : spain : northern spain : verdejo : verdejo can [UNK] particular fruit like mas ' s sugar , enough on the nose , then limited in scope . the palate is soft , round and easy , while the finish is fresh and better than past vintages but underwhelming . \n",
      "\n",
      "4060/4060 [==============================] - 648s 160ms/step - loss: 1.7775 - dense_2_loss: 1.7775\n",
      "Epoch 3/5\n",
      "4060/4060 [==============================] - ETA: 0s - loss: 1.7607 - dense_2_loss: 1.7607\n",
      "generated text:\n",
      "wine review : us : california : cabernet sauvignon : this is a stellar example from one of edna valley ' s great vineyard sites , an interesting white blend , whole - cluster - pressed and fermented , which is 100 % cabernet sauvignon . it ' s fruity and woody in the aroma and finishes with a long , spicy note . \n",
      "\n",
      "4060/4060 [==============================] - 643s 158ms/step - loss: 1.7607 - dense_2_loss: 1.7607\n",
      "Epoch 4/5\n",
      "4060/4060 [==============================] - ETA: 0s - loss: 1.7468 - dense_2_loss: 1.7468\n",
      "generated text:\n",
      "wine review : portugal : ribatejo : portuguese red : the wine is rich and tannic and full of density . it has a warm , ripe black cherry and black currant fruit aromas and flavors , with a juicy architecture of acidity . age for the wine at least six years . \n",
      "\n",
      "4060/4060 [==============================] - 655s 161ms/step - loss: 1.7468 - dense_2_loss: 1.7468\n",
      "Epoch 5/5\n",
      "4060/4060 [==============================] - ETA: 0s - loss: 1.7344 - dense_2_loss: 1.7344\n",
      "generated text:\n",
      "wine review : us : california : rhône - style red blend : this wine is plush and succulent on the palate , as expected blend is not what confuse with every consumers . very fresh and fragrant , complex , with aromas of tar and espresso . lively boysenberry are the key - pie - filling cinnamon and black cherry flavors that add a luxurious texture to the last sip . \n",
      "\n",
      "4060/4060 [==============================] - 659s 162ms/step - loss: 1.7344 - dense_2_loss: 1.7344\n"
     ]
    },
    {
     "data": {
      "text/plain": [
       "<keras.src.callbacks.History at 0x2c44dc8e0>"
      ]
     },
     "execution_count": 28,
     "metadata": {},
     "output_type": "execute_result"
    }
   ],
   "source": [
    "gpt.fit(\n",
    "    train_ds,\n",
    "    epochs=EPOCHS,\n",
    "    callbacks=[model_checkpoint_callback, tensorboard_callback, text_generator],\n",
    ")"
   ]
  },
  {
   "cell_type": "code",
   "execution_count": 29,
   "id": "369bde44-2e39-4bc6-8549-a3a27ecce55c",
   "metadata": {
    "tags": []
   },
   "outputs": [
    {
     "name": "stdout",
     "output_type": "stream",
     "text": [
      "INFO:tensorflow:Assets written to: ./models/gpt/assets\n"
     ]
    },
    {
     "name": "stderr",
     "output_type": "stream",
     "text": [
      "INFO:tensorflow:Assets written to: ./models/gpt/assets\n"
     ]
    }
   ],
   "source": [
    "# Save the final model\n",
    "gpt.save(\"./models/gpt\")"
   ]
  },
  {
   "cell_type": "markdown",
   "id": "d64e02d2-84dc-40c8-8446-40c09adf1e20",
   "metadata": {},
   "source": [
    "# Générer du texte à l'aide du Transformer"
   ]
  },
  {
   "cell_type": "code",
   "execution_count": 30,
   "id": "4ad23adb-3ec9-4e9a-9a59-b9f9bafca649",
   "metadata": {},
   "outputs": [],
   "source": [
    "def print_probs(info, vocab, top_k=5):\n",
    "    for i in info:\n",
    "        highlighted_text = []\n",
    "        for word, att_score in zip(\n",
    "            i[\"prompt\"].split(), np.mean(i[\"atts\"], axis=0)\n",
    "        ):\n",
    "            highlighted_text.append(\n",
    "                '<span style=\"background-color:rgba(135,206,250,'\n",
    "                + str(att_score / max(np.mean(i[\"atts\"], axis=0)))\n",
    "                + ');\">'\n",
    "                + word\n",
    "                + \"</span>\"\n",
    "            )\n",
    "        highlighted_text = \" \".join(highlighted_text)\n",
    "        display(HTML(highlighted_text))\n",
    "\n",
    "        word_probs = i[\"word_probs\"]\n",
    "        p_sorted = np.sort(word_probs)[::-1][:top_k]\n",
    "        i_sorted = np.argsort(word_probs)[::-1][:top_k]\n",
    "        for p, i in zip(p_sorted, i_sorted):\n",
    "            print(f\"{vocab[i]}:   \\t{np.round(100*p,2)}%\")\n",
    "        print(\"--------\\n\")"
   ]
  },
  {
   "cell_type": "code",
   "execution_count": 59,
   "id": "3cf25578-d47c-4b26-8252-fcdf2316a4ac",
   "metadata": {},
   "outputs": [
    {
     "name": "stdout",
     "output_type": "stream",
     "text": [
      "\n",
      "generated text:\n",
      "wine review : fr : oregon : pinot noir : all [UNK] is billed as a to the wood lover ' s wine , without elegance . the brothers have been ponzi in their bottles of his winemaking , and the acidity called [UNK] , the wine sources that most of this dundee vineyard ' s overall reserve wine to add power . \n",
      "\n"
     ]
    }
   ],
   "source": [
    "info = text_generator.generate(\n",
    "    \"wine review : fr\", max_tokens=80, temperature=1.0\n",
    ")"
   ]
  },
  {
   "cell_type": "code",
   "execution_count": 32,
   "id": "4ae2da8e-9b7c-4b71-b37b-021115b3d7ea",
   "metadata": {},
   "outputs": [
    {
     "name": "stdout",
     "output_type": "stream",
     "text": [
      "\n",
      "generated text:\n",
      "wine review : italy : tuscany : sangiovese : this opens with a fragrance of wild berry , leather , menthol and a whiff of leather . the palate delivers black cherry , espresso and star anise alongside firm tannins and bright acidity . drink through 2019 . \n",
      "\n"
     ]
    }
   ],
   "source": [
    "info = text_generator.generate(\n",
    "    \"wine review : italy\", max_tokens=80, temperature=0.5\n",
    ")"
   ]
  },
  {
   "cell_type": "code",
   "execution_count": 33,
   "id": "5cae6d5d-263d-4455-b96c-f315cbe284ee",
   "metadata": {},
   "outputs": [
    {
     "name": "stdout",
     "output_type": "stream",
     "text": [
      "\n",
      "generated text:\n",
      "wine review : germany : rheingau : riesling : a hint of mineral and crushed stone lend a savory tone to this dry , full - bodied wine . it ' s crisp and bright on the palate , with bright acidity and a light touch of white peach and nectarine flavors . drink now . \n",
      "\n"
     ]
    },
    {
     "data": {
      "text/html": [
       "<span style=\"background-color:rgba(135,206,250,0.977351);\">wine</span> <span style=\"background-color:rgba(135,206,250,1.0);\">review</span> <span style=\"background-color:rgba(135,206,250,0.6348992);\">:</span> <span style=\"background-color:rgba(135,206,250,0.18580386);\">germany</span>"
      ],
      "text/plain": [
       "<IPython.core.display.HTML object>"
      ]
     },
     "metadata": {},
     "output_type": "display_data"
    },
    {
     "name": "stdout",
     "output_type": "stream",
     "text": [
      "::   \t100.0%\n",
      "-:   \t0.0%\n",
      ",:   \t0.0%\n",
      "grosso:   \t0.0%\n",
      "and:   \t0.0%\n",
      "--------\n",
      "\n"
     ]
    },
    {
     "data": {
      "text/html": [
       "<span style=\"background-color:rgba(135,206,250,0.39356372);\">wine</span> <span style=\"background-color:rgba(135,206,250,0.38310102);\">review</span> <span style=\"background-color:rgba(135,206,250,0.5296708);\">:</span> <span style=\"background-color:rgba(135,206,250,1.0);\">germany</span> <span style=\"background-color:rgba(135,206,250,0.35720414);\">:</span>"
      ],
      "text/plain": [
       "<IPython.core.display.HTML object>"
      ]
     },
     "metadata": {},
     "output_type": "display_data"
    },
    {
     "name": "stdout",
     "output_type": "stream",
     "text": [
      "mosel:   \t58.67%\n",
      "rheingau:   \t26.67%\n",
      "rheinhessen:   \t11.72%\n",
      "pfalz:   \t2.34%\n",
      "nahe:   \t0.28%\n",
      "--------\n",
      "\n"
     ]
    },
    {
     "data": {
      "text/html": [
       "<span style=\"background-color:rgba(135,206,250,0.8787011);\">wine</span> <span style=\"background-color:rgba(135,206,250,1.0);\">review</span> <span style=\"background-color:rgba(135,206,250,0.5073431);\">:</span> <span style=\"background-color:rgba(135,206,250,0.20624311);\">germany</span> <span style=\"background-color:rgba(135,206,250,0.4867058);\">:</span> <span style=\"background-color:rgba(135,206,250,0.18674555);\">rheingau</span>"
      ],
      "text/plain": [
       "<IPython.core.display.HTML object>"
      ]
     },
     "metadata": {},
     "output_type": "display_data"
    },
    {
     "name": "stdout",
     "output_type": "stream",
     "text": [
      "::   \t100.0%\n",
      "-:   \t0.0%\n",
      "other:   \t0.0%\n",
      "grosso:   \t0.0%\n",
      "neagra:   \t0.0%\n",
      "--------\n",
      "\n"
     ]
    },
    {
     "data": {
      "text/html": [
       "<span style=\"background-color:rgba(135,206,250,0.47213474);\">wine</span> <span style=\"background-color:rgba(135,206,250,0.54711235);\">review</span> <span style=\"background-color:rgba(135,206,250,0.3740533);\">:</span> <span style=\"background-color:rgba(135,206,250,0.54689616);\">germany</span> <span style=\"background-color:rgba(135,206,250,0.23363192);\">:</span> <span style=\"background-color:rgba(135,206,250,1.0);\">rheingau</span> <span style=\"background-color:rgba(135,206,250,0.2638606);\">:</span>"
      ],
      "text/plain": [
       "<IPython.core.display.HTML object>"
      ]
     },
     "metadata": {},
     "output_type": "display_data"
    },
    {
     "name": "stdout",
     "output_type": "stream",
     "text": [
      "riesling:   \t99.65%\n",
      "pinot:   \t0.23%\n",
      "spätburgunder:   \t0.11%\n",
      "rosé:   \t0.0%\n",
      "white:   \t0.0%\n",
      "--------\n",
      "\n"
     ]
    },
    {
     "data": {
      "text/html": [
       "<span style=\"background-color:rgba(135,206,250,0.7055162);\">wine</span> <span style=\"background-color:rgba(135,206,250,1.0);\">review</span> <span style=\"background-color:rgba(135,206,250,0.2627323);\">:</span> <span style=\"background-color:rgba(135,206,250,0.15747416);\">germany</span> <span style=\"background-color:rgba(135,206,250,0.2119106);\">:</span> <span style=\"background-color:rgba(135,206,250,0.13458483);\">rheingau</span> <span style=\"background-color:rgba(135,206,250,0.2576626);\">:</span> <span style=\"background-color:rgba(135,206,250,0.08321288);\">riesling</span>"
      ],
      "text/plain": [
       "<IPython.core.display.HTML object>"
      ]
     },
     "metadata": {},
     "output_type": "display_data"
    },
    {
     "name": "stdout",
     "output_type": "stream",
     "text": [
      "::   \t100.0%\n",
      "-:   \t0.0%\n",
      "blanc:   \t0.0%\n",
      "grosso:   \t0.0%\n",
      "du:   \t0.0%\n",
      "--------\n",
      "\n"
     ]
    },
    {
     "data": {
      "text/html": [
       "<span style=\"background-color:rgba(135,206,250,0.78026515);\">wine</span> <span style=\"background-color:rgba(135,206,250,0.7831416);\">review</span> <span style=\"background-color:rgba(135,206,250,0.48487726);\">:</span> <span style=\"background-color:rgba(135,206,250,0.63829577);\">germany</span> <span style=\"background-color:rgba(135,206,250,0.35917914);\">:</span> <span style=\"background-color:rgba(135,206,250,1.0);\">rheingau</span> <span style=\"background-color:rgba(135,206,250,0.48909947);\">:</span> <span style=\"background-color:rgba(135,206,250,0.4684534);\">riesling</span> <span style=\"background-color:rgba(135,206,250,0.4997142);\">:</span>"
      ],
      "text/plain": [
       "<IPython.core.display.HTML object>"
      ]
     },
     "metadata": {},
     "output_type": "display_data"
    },
    {
     "name": "stdout",
     "output_type": "stream",
     "text": [
      "a:   \t38.69%\n",
      "while:   \t21.44%\n",
      "this:   \t9.13%\n",
      "the:   \t6.46%\n",
      "hints:   \t3.31%\n",
      "--------\n",
      "\n"
     ]
    },
    {
     "data": {
      "text/html": [
       "<span style=\"background-color:rgba(135,206,250,1.0);\">wine</span> <span style=\"background-color:rgba(135,206,250,0.7940593);\">review</span> <span style=\"background-color:rgba(135,206,250,0.52270824);\">:</span> <span style=\"background-color:rgba(135,206,250,0.4409505);\">germany</span> <span style=\"background-color:rgba(135,206,250,0.42538416);\">:</span> <span style=\"background-color:rgba(135,206,250,0.5596832);\">rheingau</span> <span style=\"background-color:rgba(135,206,250,0.28283334);\">:</span> <span style=\"background-color:rgba(135,206,250,0.38667637);\">riesling</span> <span style=\"background-color:rgba(135,206,250,0.56095195);\">:</span> <span style=\"background-color:rgba(135,206,250,0.28697258);\">a</span>"
      ],
      "text/plain": [
       "<IPython.core.display.HTML object>"
      ]
     },
     "metadata": {},
     "output_type": "display_data"
    },
    {
     "name": "stdout",
     "output_type": "stream",
     "text": [
      "hint:   \t23.98%\n",
      "bit:   \t16.47%\n",
      "touch:   \t13.82%\n",
      "wisp:   \t8.52%\n",
      "whiff:   \t7.1%\n",
      "--------\n",
      "\n"
     ]
    },
    {
     "data": {
      "text/html": [
       "<span style=\"background-color:rgba(135,206,250,0.7170156);\">wine</span> <span style=\"background-color:rgba(135,206,250,1.0);\">review</span> <span style=\"background-color:rgba(135,206,250,0.33069414);\">:</span> <span style=\"background-color:rgba(135,206,250,0.15331453);\">germany</span> <span style=\"background-color:rgba(135,206,250,0.36331984);\">:</span> <span style=\"background-color:rgba(135,206,250,0.21367383);\">rheingau</span> <span style=\"background-color:rgba(135,206,250,0.17491652);\">:</span> <span style=\"background-color:rgba(135,206,250,0.16181692);\">riesling</span> <span style=\"background-color:rgba(135,206,250,0.2950913);\">:</span> <span style=\"background-color:rgba(135,206,250,0.39219144);\">a</span> <span style=\"background-color:rgba(135,206,250,0.24876562);\">hint</span>"
      ],
      "text/plain": [
       "<IPython.core.display.HTML object>"
      ]
     },
     "metadata": {},
     "output_type": "display_data"
    },
    {
     "name": "stdout",
     "output_type": "stream",
     "text": [
      "of:   \t100.0%\n",
      "-:   \t0.0%\n",
      "at:   \t0.0%\n",
      "on:   \t0.0%\n",
      "sweetness:   \t0.0%\n",
      "--------\n",
      "\n"
     ]
    },
    {
     "data": {
      "text/html": [
       "<span style=\"background-color:rgba(135,206,250,0.93172693);\">wine</span> <span style=\"background-color:rgba(135,206,250,1.0);\">review</span> <span style=\"background-color:rgba(135,206,250,0.45933405);\">:</span> <span style=\"background-color:rgba(135,206,250,0.52202815);\">germany</span> <span style=\"background-color:rgba(135,206,250,0.2991654);\">:</span> <span style=\"background-color:rgba(135,206,250,0.5508224);\">rheingau</span> <span style=\"background-color:rgba(135,206,250,0.34356406);\">:</span> <span style=\"background-color:rgba(135,206,250,0.50560105);\">riesling</span> <span style=\"background-color:rgba(135,206,250,0.5227984);\">:</span> <span style=\"background-color:rgba(135,206,250,0.72809744);\">a</span> <span style=\"background-color:rgba(135,206,250,0.9849157);\">hint</span> <span style=\"background-color:rgba(135,206,250,0.33993793);\">of</span>"
      ],
      "text/plain": [
       "<IPython.core.display.HTML object>"
      ]
     },
     "metadata": {},
     "output_type": "display_data"
    },
    {
     "name": "stdout",
     "output_type": "stream",
     "text": [
      "honey:   \t14.37%\n",
      "smoke:   \t13.3%\n",
      "crushed:   \t9.1%\n",
      "petrol:   \t6.29%\n",
      "green:   \t6.04%\n",
      "--------\n",
      "\n"
     ]
    },
    {
     "data": {
      "text/html": [
       "<span style=\"background-color:rgba(135,206,250,0.9054838);\">wine</span> <span style=\"background-color:rgba(135,206,250,0.817037);\">review</span> <span style=\"background-color:rgba(135,206,250,0.320819);\">:</span> <span style=\"background-color:rgba(135,206,250,0.30578324);\">germany</span> <span style=\"background-color:rgba(135,206,250,0.40148368);\">:</span> <span style=\"background-color:rgba(135,206,250,0.14302221);\">rheingau</span> <span style=\"background-color:rgba(135,206,250,0.21243171);\">:</span> <span style=\"background-color:rgba(135,206,250,0.13930845);\">riesling</span> <span style=\"background-color:rgba(135,206,250,0.28416526);\">:</span> <span style=\"background-color:rgba(135,206,250,0.61527187);\">a</span> <span style=\"background-color:rgba(135,206,250,0.8333308);\">hint</span> <span style=\"background-color:rgba(135,206,250,1.0);\">of</span> <span style=\"background-color:rgba(135,206,250,0.19980688);\">mineral</span>"
      ],
      "text/plain": [
       "<IPython.core.display.HTML object>"
      ]
     },
     "metadata": {},
     "output_type": "display_data"
    },
    {
     "name": "stdout",
     "output_type": "stream",
     "text": [
      "oil:   \t36.47%\n",
      "and:   \t17.73%\n",
      "notes:   \t9.23%\n",
      "clings:   \t8.84%\n",
      "lend:   \t6.74%\n",
      "--------\n",
      "\n"
     ]
    },
    {
     "data": {
      "text/html": [
       "<span style=\"background-color:rgba(135,206,250,0.4649437);\">wine</span> <span style=\"background-color:rgba(135,206,250,0.5268773);\">review</span> <span style=\"background-color:rgba(135,206,250,0.35782447);\">:</span> <span style=\"background-color:rgba(135,206,250,0.39725965);\">germany</span> <span style=\"background-color:rgba(135,206,250,0.33251554);\">:</span> <span style=\"background-color:rgba(135,206,250,0.3047486);\">rheingau</span> <span style=\"background-color:rgba(135,206,250,0.17790806);\">:</span> <span style=\"background-color:rgba(135,206,250,0.34448597);\">riesling</span> <span style=\"background-color:rgba(135,206,250,0.25914085);\">:</span> <span style=\"background-color:rgba(135,206,250,0.338951);\">a</span> <span style=\"background-color:rgba(135,206,250,0.670171);\">hint</span> <span style=\"background-color:rgba(135,206,250,0.5231579);\">of</span> <span style=\"background-color:rgba(135,206,250,1.0);\">mineral</span> <span style=\"background-color:rgba(135,206,250,0.42808673);\">and</span>"
      ],
      "text/plain": [
       "<IPython.core.display.HTML object>"
      ]
     },
     "metadata": {},
     "output_type": "display_data"
    },
    {
     "name": "stdout",
     "output_type": "stream",
     "text": [
      "crushed:   \t32.2%\n",
      "steel:   \t20.8%\n",
      "spice:   \t4.7%\n",
      "petrol:   \t4.26%\n",
      "dried:   \t3.41%\n",
      "--------\n",
      "\n"
     ]
    },
    {
     "data": {
      "text/html": [
       "<span style=\"background-color:rgba(135,206,250,0.6407791);\">wine</span> <span style=\"background-color:rgba(135,206,250,1.0);\">review</span> <span style=\"background-color:rgba(135,206,250,0.34214216);\">:</span> <span style=\"background-color:rgba(135,206,250,0.29458743);\">germany</span> <span style=\"background-color:rgba(135,206,250,0.2497238);\">:</span> <span style=\"background-color:rgba(135,206,250,0.31577614);\">rheingau</span> <span style=\"background-color:rgba(135,206,250,0.25337464);\">:</span> <span style=\"background-color:rgba(135,206,250,0.384957);\">riesling</span> <span style=\"background-color:rgba(135,206,250,0.28265545);\">:</span> <span style=\"background-color:rgba(135,206,250,0.47927475);\">a</span> <span style=\"background-color:rgba(135,206,250,0.48812047);\">hint</span> <span style=\"background-color:rgba(135,206,250,0.30789882);\">of</span> <span style=\"background-color:rgba(135,206,250,0.6320037);\">mineral</span> <span style=\"background-color:rgba(135,206,250,0.8388816);\">and</span> <span style=\"background-color:rgba(135,206,250,0.17649487);\">crushed</span>"
      ],
      "text/plain": [
       "<IPython.core.display.HTML object>"
      ]
     },
     "metadata": {},
     "output_type": "display_data"
    },
    {
     "name": "stdout",
     "output_type": "stream",
     "text": [
      "stone:   \t77.63%\n",
      "granite:   \t10.46%\n",
      "slate:   \t3.94%\n",
      "minerals:   \t2.46%\n",
      "mineral:   \t2.26%\n",
      "--------\n",
      "\n"
     ]
    },
    {
     "data": {
      "text/html": [
       "<span style=\"background-color:rgba(135,206,250,0.7242332);\">wine</span> <span style=\"background-color:rgba(135,206,250,1.0);\">review</span> <span style=\"background-color:rgba(135,206,250,0.3420645);\">:</span> <span style=\"background-color:rgba(135,206,250,0.36289147);\">germany</span> <span style=\"background-color:rgba(135,206,250,0.48966384);\">:</span> <span style=\"background-color:rgba(135,206,250,0.14839765);\">rheingau</span> <span style=\"background-color:rgba(135,206,250,0.19831342);\">:</span> <span style=\"background-color:rgba(135,206,250,0.09765479);\">riesling</span> <span style=\"background-color:rgba(135,206,250,0.20545484);\">:</span> <span style=\"background-color:rgba(135,206,250,0.32325888);\">a</span> <span style=\"background-color:rgba(135,206,250,0.4052589);\">hint</span> <span style=\"background-color:rgba(135,206,250,0.49365735);\">of</span> <span style=\"background-color:rgba(135,206,250,0.21542075);\">mineral</span> <span style=\"background-color:rgba(135,206,250,0.62556326);\">and</span> <span style=\"background-color:rgba(135,206,250,0.8412877);\">crushed</span> <span style=\"background-color:rgba(135,206,250,0.20334832);\">stone</span>"
      ],
      "text/plain": [
       "<IPython.core.display.HTML object>"
      ]
     },
     "metadata": {},
     "output_type": "display_data"
    },
    {
     "name": "stdout",
     "output_type": "stream",
     "text": [
      "lend:   \t43.81%\n",
      "accent:   \t26.79%\n",
      "add:   \t15.03%\n",
      "mark:   \t6.61%\n",
      "mingle:   \t2.16%\n",
      "--------\n",
      "\n"
     ]
    },
    {
     "data": {
      "text/html": [
       "<span style=\"background-color:rgba(135,206,250,0.5536098);\">wine</span> <span style=\"background-color:rgba(135,206,250,1.0);\">review</span> <span style=\"background-color:rgba(135,206,250,0.56167805);\">:</span> <span style=\"background-color:rgba(135,206,250,0.30959225);\">germany</span> <span style=\"background-color:rgba(135,206,250,0.48050973);\">:</span> <span style=\"background-color:rgba(135,206,250,0.2728771);\">rheingau</span> <span style=\"background-color:rgba(135,206,250,0.24061324);\">:</span> <span style=\"background-color:rgba(135,206,250,0.28703877);\">riesling</span> <span style=\"background-color:rgba(135,206,250,0.2515423);\">:</span> <span style=\"background-color:rgba(135,206,250,0.18525551);\">a</span> <span style=\"background-color:rgba(135,206,250,0.33387187);\">hint</span> <span style=\"background-color:rgba(135,206,250,0.20059763);\">of</span> <span style=\"background-color:rgba(135,206,250,0.3090182);\">mineral</span> <span style=\"background-color:rgba(135,206,250,0.40762916);\">and</span> <span style=\"background-color:rgba(135,206,250,0.14567919);\">crushed</span> <span style=\"background-color:rgba(135,206,250,0.5793448);\">stone</span> <span style=\"background-color:rgba(135,206,250,0.21100338);\">lend</span>"
      ],
      "text/plain": [
       "<IPython.core.display.HTML object>"
      ]
     },
     "metadata": {},
     "output_type": "display_data"
    },
    {
     "name": "stdout",
     "output_type": "stream",
     "text": [
      "a:   \t87.15%\n",
      "an:   \t5.5%\n",
      "complexity:   \t4.9%\n",
      "savoriness:   \t0.56%\n",
      "depth:   \t0.36%\n",
      "--------\n",
      "\n"
     ]
    },
    {
     "data": {
      "text/html": [
       "<span style=\"background-color:rgba(135,206,250,0.26437965);\">wine</span> <span style=\"background-color:rgba(135,206,250,0.28103784);\">review</span> <span style=\"background-color:rgba(135,206,250,0.1692704);\">:</span> <span style=\"background-color:rgba(135,206,250,0.25272277);\">germany</span> <span style=\"background-color:rgba(135,206,250,0.14576513);\">:</span> <span style=\"background-color:rgba(135,206,250,0.22411424);\">rheingau</span> <span style=\"background-color:rgba(135,206,250,0.09011378);\">:</span> <span style=\"background-color:rgba(135,206,250,0.1609171);\">riesling</span> <span style=\"background-color:rgba(135,206,250,0.1356346);\">:</span> <span style=\"background-color:rgba(135,206,250,0.06248225);\">a</span> <span style=\"background-color:rgba(135,206,250,0.22454633);\">hint</span> <span style=\"background-color:rgba(135,206,250,0.12039138);\">of</span> <span style=\"background-color:rgba(135,206,250,0.22444877);\">mineral</span> <span style=\"background-color:rgba(135,206,250,0.16861156);\">and</span> <span style=\"background-color:rgba(135,206,250,0.16537306);\">crushed</span> <span style=\"background-color:rgba(135,206,250,0.28574705);\">stone</span> <span style=\"background-color:rgba(135,206,250,1.0);\">lend</span> <span style=\"background-color:rgba(135,206,250,0.17520449);\">a</span>"
      ],
      "text/plain": [
       "<IPython.core.display.HTML object>"
      ]
     },
     "metadata": {},
     "output_type": "display_data"
    },
    {
     "name": "stdout",
     "output_type": "stream",
     "text": [
      "savory:   \t53.61%\n",
      "cool:   \t14.28%\n",
      "fresh:   \t11.38%\n",
      "crisp:   \t6.43%\n",
      "slightly:   \t1.97%\n",
      "--------\n",
      "\n"
     ]
    },
    {
     "data": {
      "text/html": [
       "<span style=\"background-color:rgba(135,206,250,0.2416666);\">wine</span> <span style=\"background-color:rgba(135,206,250,0.30990073);\">review</span> <span style=\"background-color:rgba(135,206,250,0.1209741);\">:</span> <span style=\"background-color:rgba(135,206,250,0.17661844);\">germany</span> <span style=\"background-color:rgba(135,206,250,0.10588002);\">:</span> <span style=\"background-color:rgba(135,206,250,0.14586362);\">rheingau</span> <span style=\"background-color:rgba(135,206,250,0.11021233);\">:</span> <span style=\"background-color:rgba(135,206,250,0.20228398);\">riesling</span> <span style=\"background-color:rgba(135,206,250,0.13966644);\">:</span> <span style=\"background-color:rgba(135,206,250,0.12068531);\">a</span> <span style=\"background-color:rgba(135,206,250,0.11928148);\">hint</span> <span style=\"background-color:rgba(135,206,250,0.09555126);\">of</span> <span style=\"background-color:rgba(135,206,250,0.08324329);\">mineral</span> <span style=\"background-color:rgba(135,206,250,0.09528496);\">and</span> <span style=\"background-color:rgba(135,206,250,0.06848663);\">crushed</span> <span style=\"background-color:rgba(135,206,250,0.15057695);\">stone</span> <span style=\"background-color:rgba(135,206,250,1.0);\">lend</span> <span style=\"background-color:rgba(135,206,250,0.49009585);\">a</span> <span style=\"background-color:rgba(135,206,250,0.111196786);\">savory</span>"
      ],
      "text/plain": [
       "<IPython.core.display.HTML object>"
      ]
     },
     "metadata": {},
     "output_type": "display_data"
    },
    {
     "name": "stdout",
     "output_type": "stream",
     "text": [
      "tone:   \t97.88%\n",
      ",:   \t1.52%\n",
      "character:   \t0.19%\n",
      "feel:   \t0.14%\n",
      "edge:   \t0.13%\n",
      "--------\n",
      "\n"
     ]
    },
    {
     "data": {
      "text/html": [
       "<span style=\"background-color:rgba(135,206,250,0.22840701);\">wine</span> <span style=\"background-color:rgba(135,206,250,0.44858468);\">review</span> <span style=\"background-color:rgba(135,206,250,0.15982981);\">:</span> <span style=\"background-color:rgba(135,206,250,0.20526432);\">germany</span> <span style=\"background-color:rgba(135,206,250,0.17907305);\">:</span> <span style=\"background-color:rgba(135,206,250,0.05968446);\">rheingau</span> <span style=\"background-color:rgba(135,206,250,0.09334179);\">:</span> <span style=\"background-color:rgba(135,206,250,0.061628155);\">riesling</span> <span style=\"background-color:rgba(135,206,250,0.121848516);\">:</span> <span style=\"background-color:rgba(135,206,250,0.076388255);\">a</span> <span style=\"background-color:rgba(135,206,250,0.10371166);\">hint</span> <span style=\"background-color:rgba(135,206,250,0.08137992);\">of</span> <span style=\"background-color:rgba(135,206,250,0.049360562);\">mineral</span> <span style=\"background-color:rgba(135,206,250,0.10823131);\">and</span> <span style=\"background-color:rgba(135,206,250,0.041380674);\">crushed</span> <span style=\"background-color:rgba(135,206,250,0.113256946);\">stone</span> <span style=\"background-color:rgba(135,206,250,1.0);\">lend</span> <span style=\"background-color:rgba(135,206,250,0.2186816);\">a</span> <span style=\"background-color:rgba(135,206,250,0.12589121);\">savory</span> <span style=\"background-color:rgba(135,206,250,0.24200201);\">tone</span>"
      ],
      "text/plain": [
       "<IPython.core.display.HTML object>"
      ]
     },
     "metadata": {},
     "output_type": "display_data"
    },
    {
     "name": "stdout",
     "output_type": "stream",
     "text": [
      "to:   \t99.99%\n",
      "of:   \t0.01%\n",
      ",:   \t0.0%\n",
      "that:   \t0.0%\n",
      ".:   \t0.0%\n",
      "--------\n",
      "\n"
     ]
    },
    {
     "data": {
      "text/html": [
       "<span style=\"background-color:rgba(135,206,250,0.32145327);\">wine</span> <span style=\"background-color:rgba(135,206,250,0.50965786);\">review</span> <span style=\"background-color:rgba(135,206,250,0.21880716);\">:</span> <span style=\"background-color:rgba(135,206,250,0.34644014);\">germany</span> <span style=\"background-color:rgba(135,206,250,0.21806303);\">:</span> <span style=\"background-color:rgba(135,206,250,0.18576826);\">rheingau</span> <span style=\"background-color:rgba(135,206,250,0.12684622);\">:</span> <span style=\"background-color:rgba(135,206,250,0.20507848);\">riesling</span> <span style=\"background-color:rgba(135,206,250,0.13765295);\">:</span> <span style=\"background-color:rgba(135,206,250,0.09835466);\">a</span> <span style=\"background-color:rgba(135,206,250,0.18159759);\">hint</span> <span style=\"background-color:rgba(135,206,250,0.091587216);\">of</span> <span style=\"background-color:rgba(135,206,250,0.15985662);\">mineral</span> <span style=\"background-color:rgba(135,206,250,0.11535741);\">and</span> <span style=\"background-color:rgba(135,206,250,0.14869525);\">crushed</span> <span style=\"background-color:rgba(135,206,250,0.16889532);\">stone</span> <span style=\"background-color:rgba(135,206,250,0.8284117);\">lend</span> <span style=\"background-color:rgba(135,206,250,0.29150674);\">a</span> <span style=\"background-color:rgba(135,206,250,0.34069458);\">savory</span> <span style=\"background-color:rgba(135,206,250,1.0);\">tone</span> <span style=\"background-color:rgba(135,206,250,0.13576108);\">to</span>"
      ],
      "text/plain": [
       "<IPython.core.display.HTML object>"
      ]
     },
     "metadata": {},
     "output_type": "display_data"
    },
    {
     "name": "stdout",
     "output_type": "stream",
     "text": [
      "this:   \t97.65%\n",
      "the:   \t1.46%\n",
      "fresh:   \t0.29%\n",
      "ripe:   \t0.21%\n",
      "bright:   \t0.11%\n",
      "--------\n",
      "\n"
     ]
    },
    {
     "data": {
      "text/html": [
       "<span style=\"background-color:rgba(135,206,250,0.42717397);\">wine</span> <span style=\"background-color:rgba(135,206,250,0.6747998);\">review</span> <span style=\"background-color:rgba(135,206,250,0.8956902);\">:</span> <span style=\"background-color:rgba(135,206,250,1.0);\">germany</span> <span style=\"background-color:rgba(135,206,250,0.75958526);\">:</span> <span style=\"background-color:rgba(135,206,250,0.39398432);\">rheingau</span> <span style=\"background-color:rgba(135,206,250,0.26362175);\">:</span> <span style=\"background-color:rgba(135,206,250,0.55044097);\">riesling</span> <span style=\"background-color:rgba(135,206,250,0.34070057);\">:</span> <span style=\"background-color:rgba(135,206,250,0.18612587);\">a</span> <span style=\"background-color:rgba(135,206,250,0.30119556);\">hint</span> <span style=\"background-color:rgba(135,206,250,0.11813209);\">of</span> <span style=\"background-color:rgba(135,206,250,0.15713443);\">mineral</span> <span style=\"background-color:rgba(135,206,250,0.11557496);\">and</span> <span style=\"background-color:rgba(135,206,250,0.09404866);\">crushed</span> <span style=\"background-color:rgba(135,206,250,0.16996863);\">stone</span> <span style=\"background-color:rgba(135,206,250,0.49378157);\">lend</span> <span style=\"background-color:rgba(135,206,250,0.20170978);\">a</span> <span style=\"background-color:rgba(135,206,250,0.2576355);\">savory</span> <span style=\"background-color:rgba(135,206,250,0.69796985);\">tone</span> <span style=\"background-color:rgba(135,206,250,0.6821265);\">to</span> <span style=\"background-color:rgba(135,206,250,0.51832896);\">this</span>"
      ],
      "text/plain": [
       "<IPython.core.display.HTML object>"
      ]
     },
     "metadata": {},
     "output_type": "display_data"
    },
    {
     "name": "stdout",
     "output_type": "stream",
     "text": [
      "dry:   \t86.36%\n",
      "off:   \t7.17%\n",
      "wine:   \t2.25%\n",
      "otherwise:   \t1.31%\n",
      "light:   \t0.51%\n",
      "--------\n",
      "\n"
     ]
    },
    {
     "data": {
      "text/html": [
       "<span style=\"background-color:rgba(135,206,250,0.23441713);\">wine</span> <span style=\"background-color:rgba(135,206,250,0.33942145);\">review</span> <span style=\"background-color:rgba(135,206,250,0.20629673);\">:</span> <span style=\"background-color:rgba(135,206,250,0.22262858);\">germany</span> <span style=\"background-color:rgba(135,206,250,0.21094996);\">:</span> <span style=\"background-color:rgba(135,206,250,0.19476867);\">rheingau</span> <span style=\"background-color:rgba(135,206,250,0.12952156);\">:</span> <span style=\"background-color:rgba(135,206,250,0.32617965);\">riesling</span> <span style=\"background-color:rgba(135,206,250,0.18568654);\">:</span> <span style=\"background-color:rgba(135,206,250,0.085697055);\">a</span> <span style=\"background-color:rgba(135,206,250,0.12436283);\">hint</span> <span style=\"background-color:rgba(135,206,250,0.07814499);\">of</span> <span style=\"background-color:rgba(135,206,250,0.060141757);\">mineral</span> <span style=\"background-color:rgba(135,206,250,0.08703308);\">and</span> <span style=\"background-color:rgba(135,206,250,0.052538898);\">crushed</span> <span style=\"background-color:rgba(135,206,250,0.07296062);\">stone</span> <span style=\"background-color:rgba(135,206,250,0.38103664);\">lend</span> <span style=\"background-color:rgba(135,206,250,0.16381635);\">a</span> <span style=\"background-color:rgba(135,206,250,0.093788974);\">savory</span> <span style=\"background-color:rgba(135,206,250,0.42905447);\">tone</span> <span style=\"background-color:rgba(135,206,250,0.37104675);\">to</span> <span style=\"background-color:rgba(135,206,250,1.0);\">this</span> <span style=\"background-color:rgba(135,206,250,0.13684836);\">dry</span>"
      ],
      "text/plain": [
       "<IPython.core.display.HTML object>"
      ]
     },
     "metadata": {},
     "output_type": "display_data"
    },
    {
     "name": "stdout",
     "output_type": "stream",
     "text": [
      ",:   \t99.35%\n",
      "riesling:   \t0.24%\n",
      "-:   \t0.16%\n",
      "wine:   \t0.14%\n",
      "and:   \t0.06%\n",
      "--------\n",
      "\n"
     ]
    },
    {
     "data": {
      "text/html": [
       "<span style=\"background-color:rgba(135,206,250,0.21473165);\">wine</span> <span style=\"background-color:rgba(135,206,250,0.4305002);\">review</span> <span style=\"background-color:rgba(135,206,250,0.25340554);\">:</span> <span style=\"background-color:rgba(135,206,250,0.4070991);\">germany</span> <span style=\"background-color:rgba(135,206,250,0.2513486);\">:</span> <span style=\"background-color:rgba(135,206,250,0.23699166);\">rheingau</span> <span style=\"background-color:rgba(135,206,250,0.13811463);\">:</span> <span style=\"background-color:rgba(135,206,250,0.28731152);\">riesling</span> <span style=\"background-color:rgba(135,206,250,0.20895898);\">:</span> <span style=\"background-color:rgba(135,206,250,0.08855861);\">a</span> <span style=\"background-color:rgba(135,206,250,0.20875749);\">hint</span> <span style=\"background-color:rgba(135,206,250,0.11280663);\">of</span> <span style=\"background-color:rgba(135,206,250,0.14367592);\">mineral</span> <span style=\"background-color:rgba(135,206,250,0.14470744);\">and</span> <span style=\"background-color:rgba(135,206,250,0.06957283);\">crushed</span> <span style=\"background-color:rgba(135,206,250,0.14661245);\">stone</span> <span style=\"background-color:rgba(135,206,250,0.44435617);\">lend</span> <span style=\"background-color:rgba(135,206,250,0.18475069);\">a</span> <span style=\"background-color:rgba(135,206,250,0.27598947);\">savory</span> <span style=\"background-color:rgba(135,206,250,0.52969486);\">tone</span> <span style=\"background-color:rgba(135,206,250,0.44532824);\">to</span> <span style=\"background-color:rgba(135,206,250,0.925779);\">this</span> <span style=\"background-color:rgba(135,206,250,1.0);\">dry</span> <span style=\"background-color:rgba(135,206,250,0.52902246);\">,</span>"
      ],
      "text/plain": [
       "<IPython.core.display.HTML object>"
      ]
     },
     "metadata": {},
     "output_type": "display_data"
    },
    {
     "name": "stdout",
     "output_type": "stream",
     "text": [
      "medium:   \t63.72%\n",
      "full:   \t12.68%\n",
      "crisp:   \t6.54%\n",
      "lusciously:   \t2.37%\n",
      "delicately:   \t1.68%\n",
      "--------\n",
      "\n"
     ]
    },
    {
     "data": {
      "text/html": [
       "<span style=\"background-color:rgba(135,206,250,0.43455476);\">wine</span> <span style=\"background-color:rgba(135,206,250,0.79104537);\">review</span> <span style=\"background-color:rgba(135,206,250,0.60308146);\">:</span> <span style=\"background-color:rgba(135,206,250,0.44946757);\">germany</span> <span style=\"background-color:rgba(135,206,250,0.63983387);\">:</span> <span style=\"background-color:rgba(135,206,250,0.24579044);\">rheingau</span> <span style=\"background-color:rgba(135,206,250,0.26044297);\">:</span> <span style=\"background-color:rgba(135,206,250,0.22963974);\">riesling</span> <span style=\"background-color:rgba(135,206,250,0.2573294);\">:</span> <span style=\"background-color:rgba(135,206,250,0.10695675);\">a</span> <span style=\"background-color:rgba(135,206,250,0.14866538);\">hint</span> <span style=\"background-color:rgba(135,206,250,0.12884362);\">of</span> <span style=\"background-color:rgba(135,206,250,0.114226095);\">mineral</span> <span style=\"background-color:rgba(135,206,250,0.15711203);\">and</span> <span style=\"background-color:rgba(135,206,250,0.08678039);\">crushed</span> <span style=\"background-color:rgba(135,206,250,0.14783378);\">stone</span> <span style=\"background-color:rgba(135,206,250,0.361215);\">lend</span> <span style=\"background-color:rgba(135,206,250,0.24230188);\">a</span> <span style=\"background-color:rgba(135,206,250,0.33334595);\">savory</span> <span style=\"background-color:rgba(135,206,250,0.5283527);\">tone</span> <span style=\"background-color:rgba(135,206,250,0.26844853);\">to</span> <span style=\"background-color:rgba(135,206,250,0.9870675);\">this</span> <span style=\"background-color:rgba(135,206,250,0.5178175);\">dry</span> <span style=\"background-color:rgba(135,206,250,1.0);\">,</span> <span style=\"background-color:rgba(135,206,250,0.34598956);\">full</span>"
      ],
      "text/plain": [
       "<IPython.core.display.HTML object>"
      ]
     },
     "metadata": {},
     "output_type": "display_data"
    },
    {
     "name": "stdout",
     "output_type": "stream",
     "text": [
      "-:   \t99.97%\n",
      "bodied:   \t0.03%\n",
      "of:   \t0.01%\n",
      "wine:   \t0.0%\n",
      ",:   \t0.0%\n",
      "--------\n",
      "\n"
     ]
    },
    {
     "data": {
      "text/html": [
       "<span style=\"background-color:rgba(135,206,250,0.121701874);\">wine</span> <span style=\"background-color:rgba(135,206,250,0.23787439);\">review</span> <span style=\"background-color:rgba(135,206,250,0.14729132);\">:</span> <span style=\"background-color:rgba(135,206,250,0.13464358);\">germany</span> <span style=\"background-color:rgba(135,206,250,0.14723854);\">:</span> <span style=\"background-color:rgba(135,206,250,0.10088224);\">rheingau</span> <span style=\"background-color:rgba(135,206,250,0.09948016);\">:</span> <span style=\"background-color:rgba(135,206,250,0.16289994);\">riesling</span> <span style=\"background-color:rgba(135,206,250,0.10087043);\">:</span> <span style=\"background-color:rgba(135,206,250,0.047166377);\">a</span> <span style=\"background-color:rgba(135,206,250,0.04766067);\">hint</span> <span style=\"background-color:rgba(135,206,250,0.037060663);\">of</span> <span style=\"background-color:rgba(135,206,250,0.035000708);\">mineral</span> <span style=\"background-color:rgba(135,206,250,0.06399314);\">and</span> <span style=\"background-color:rgba(135,206,250,0.045838363);\">crushed</span> <span style=\"background-color:rgba(135,206,250,0.065549895);\">stone</span> <span style=\"background-color:rgba(135,206,250,0.12458862);\">lend</span> <span style=\"background-color:rgba(135,206,250,0.06127917);\">a</span> <span style=\"background-color:rgba(135,206,250,0.0781011);\">savory</span> <span style=\"background-color:rgba(135,206,250,0.1005586);\">tone</span> <span style=\"background-color:rgba(135,206,250,0.11151617);\">to</span> <span style=\"background-color:rgba(135,206,250,0.201443);\">this</span> <span style=\"background-color:rgba(135,206,250,0.35149065);\">dry</span> <span style=\"background-color:rgba(135,206,250,0.3578594);\">,</span> <span style=\"background-color:rgba(135,206,250,1.0);\">full</span> <span style=\"background-color:rgba(135,206,250,0.08994138);\">-</span>"
      ],
      "text/plain": [
       "<IPython.core.display.HTML object>"
      ]
     },
     "metadata": {},
     "output_type": "display_data"
    },
    {
     "name": "stdout",
     "output_type": "stream",
     "text": [
      "bodied:   \t100.0%\n",
      "flavored:   \t0.0%\n",
      "force:   \t0.0%\n",
      "in:   \t0.0%\n",
      "and:   \t0.0%\n",
      "--------\n",
      "\n"
     ]
    },
    {
     "data": {
      "text/html": [
       "<span style=\"background-color:rgba(135,206,250,0.27582273);\">wine</span> <span style=\"background-color:rgba(135,206,250,0.45625442);\">review</span> <span style=\"background-color:rgba(135,206,250,0.37172997);\">:</span> <span style=\"background-color:rgba(135,206,250,0.4794138);\">germany</span> <span style=\"background-color:rgba(135,206,250,0.38140583);\">:</span> <span style=\"background-color:rgba(135,206,250,0.2078574);\">rheingau</span> <span style=\"background-color:rgba(135,206,250,0.20651287);\">:</span> <span style=\"background-color:rgba(135,206,250,0.5883852);\">riesling</span> <span style=\"background-color:rgba(135,206,250,0.28510422);\">:</span> <span style=\"background-color:rgba(135,206,250,0.120830044);\">a</span> <span style=\"background-color:rgba(135,206,250,0.13161057);\">hint</span> <span style=\"background-color:rgba(135,206,250,0.13228758);\">of</span> <span style=\"background-color:rgba(135,206,250,0.07979271);\">mineral</span> <span style=\"background-color:rgba(135,206,250,0.10024527);\">and</span> <span style=\"background-color:rgba(135,206,250,0.038618963);\">crushed</span> <span style=\"background-color:rgba(135,206,250,0.09321652);\">stone</span> <span style=\"background-color:rgba(135,206,250,0.2806889);\">lend</span> <span style=\"background-color:rgba(135,206,250,0.1730191);\">a</span> <span style=\"background-color:rgba(135,206,250,0.093720116);\">savory</span> <span style=\"background-color:rgba(135,206,250,0.31997374);\">tone</span> <span style=\"background-color:rgba(135,206,250,0.2759437);\">to</span> <span style=\"background-color:rgba(135,206,250,1.0);\">this</span> <span style=\"background-color:rgba(135,206,250,0.21604028);\">dry</span> <span style=\"background-color:rgba(135,206,250,0.67527354);\">,</span> <span style=\"background-color:rgba(135,206,250,0.3477059);\">full</span> <span style=\"background-color:rgba(135,206,250,0.35650414);\">-</span> <span style=\"background-color:rgba(135,206,250,0.31135058);\">bodied</span>"
      ],
      "text/plain": [
       "<IPython.core.display.HTML object>"
      ]
     },
     "metadata": {},
     "output_type": "display_data"
    },
    {
     "name": "stdout",
     "output_type": "stream",
     "text": [
      "riesling:   \t89.29%\n",
      "wine:   \t8.9%\n",
      "dry:   \t0.6%\n",
      "kabinett:   \t0.43%\n",
      "auslese:   \t0.32%\n",
      "--------\n",
      "\n"
     ]
    },
    {
     "data": {
      "text/html": [
       "<span style=\"background-color:rgba(135,206,250,0.23717903);\">wine</span> <span style=\"background-color:rgba(135,206,250,0.6807426);\">review</span> <span style=\"background-color:rgba(135,206,250,0.5667522);\">:</span> <span style=\"background-color:rgba(135,206,250,0.80397165);\">germany</span> <span style=\"background-color:rgba(135,206,250,0.6011064);\">:</span> <span style=\"background-color:rgba(135,206,250,0.15561868);\">rheingau</span> <span style=\"background-color:rgba(135,206,250,0.25383395);\">:</span> <span style=\"background-color:rgba(135,206,250,0.13422038);\">riesling</span> <span style=\"background-color:rgba(135,206,250,0.27959383);\">:</span> <span style=\"background-color:rgba(135,206,250,0.18619151);\">a</span> <span style=\"background-color:rgba(135,206,250,0.17406613);\">hint</span> <span style=\"background-color:rgba(135,206,250,0.10960321);\">of</span> <span style=\"background-color:rgba(135,206,250,0.09266462);\">mineral</span> <span style=\"background-color:rgba(135,206,250,0.14521724);\">and</span> <span style=\"background-color:rgba(135,206,250,0.040933196);\">crushed</span> <span style=\"background-color:rgba(135,206,250,0.11150932);\">stone</span> <span style=\"background-color:rgba(135,206,250,0.59601295);\">lend</span> <span style=\"background-color:rgba(135,206,250,0.22524339);\">a</span> <span style=\"background-color:rgba(135,206,250,0.117300436);\">savory</span> <span style=\"background-color:rgba(135,206,250,0.21097428);\">tone</span> <span style=\"background-color:rgba(135,206,250,0.30880126);\">to</span> <span style=\"background-color:rgba(135,206,250,0.50892687);\">this</span> <span style=\"background-color:rgba(135,206,250,0.21617699);\">dry</span> <span style=\"background-color:rgba(135,206,250,0.70114106);\">,</span> <span style=\"background-color:rgba(135,206,250,0.37149248);\">full</span> <span style=\"background-color:rgba(135,206,250,0.35775667);\">-</span> <span style=\"background-color:rgba(135,206,250,1.0);\">bodied</span> <span style=\"background-color:rgba(135,206,250,0.7253101);\">wine</span>"
      ],
      "text/plain": [
       "<IPython.core.display.HTML object>"
      ]
     },
     "metadata": {},
     "output_type": "display_data"
    },
    {
     "name": "stdout",
     "output_type": "stream",
     "text": [
      ".:   \t97.28%\n",
      "that:   \t2.51%\n",
      "from:   \t0.16%\n",
      ",:   \t0.04%\n",
      "made:   \t0.01%\n",
      "--------\n",
      "\n"
     ]
    },
    {
     "data": {
      "text/html": [
       "<span style=\"background-color:rgba(135,206,250,0.24851376);\">wine</span> <span style=\"background-color:rgba(135,206,250,0.6512104);\">review</span> <span style=\"background-color:rgba(135,206,250,0.63133824);\">:</span> <span style=\"background-color:rgba(135,206,250,1.0);\">germany</span> <span style=\"background-color:rgba(135,206,250,0.57678646);\">:</span> <span style=\"background-color:rgba(135,206,250,0.37015232);\">rheingau</span> <span style=\"background-color:rgba(135,206,250,0.41171953);\">:</span> <span style=\"background-color:rgba(135,206,250,0.34327725);\">riesling</span> <span style=\"background-color:rgba(135,206,250,0.23378235);\">:</span> <span style=\"background-color:rgba(135,206,250,0.08271457);\">a</span> <span style=\"background-color:rgba(135,206,250,0.11143711);\">hint</span> <span style=\"background-color:rgba(135,206,250,0.08423338);\">of</span> <span style=\"background-color:rgba(135,206,250,0.13198292);\">mineral</span> <span style=\"background-color:rgba(135,206,250,0.09976877);\">and</span> <span style=\"background-color:rgba(135,206,250,0.040648542);\">crushed</span> <span style=\"background-color:rgba(135,206,250,0.097517624);\">stone</span> <span style=\"background-color:rgba(135,206,250,0.18807541);\">lend</span> <span style=\"background-color:rgba(135,206,250,0.08266852);\">a</span> <span style=\"background-color:rgba(135,206,250,0.13778964);\">savory</span> <span style=\"background-color:rgba(135,206,250,0.14666608);\">tone</span> <span style=\"background-color:rgba(135,206,250,0.10342555);\">to</span> <span style=\"background-color:rgba(135,206,250,0.27639407);\">this</span> <span style=\"background-color:rgba(135,206,250,0.14920709);\">dry</span> <span style=\"background-color:rgba(135,206,250,0.16099302);\">,</span> <span style=\"background-color:rgba(135,206,250,0.14893383);\">full</span> <span style=\"background-color:rgba(135,206,250,0.13368775);\">-</span> <span style=\"background-color:rgba(135,206,250,0.25194475);\">bodied</span> <span style=\"background-color:rgba(135,206,250,0.49645585);\">wine</span> <span style=\"background-color:rgba(135,206,250,0.6129686);\">.</span>"
      ],
      "text/plain": [
       "<IPython.core.display.HTML object>"
      ]
     },
     "metadata": {},
     "output_type": "display_data"
    },
    {
     "name": "stdout",
     "output_type": "stream",
     "text": [
      "it:   \t92.42%\n",
      "the:   \t5.03%\n",
      "its:   \t0.85%\n",
      "crisp:   \t0.49%\n",
      "ripe:   \t0.33%\n",
      "--------\n",
      "\n"
     ]
    },
    {
     "data": {
      "text/html": [
       "<span style=\"background-color:rgba(135,206,250,0.07262444);\">wine</span> <span style=\"background-color:rgba(135,206,250,0.11870075);\">review</span> <span style=\"background-color:rgba(135,206,250,0.11463505);\">:</span> <span style=\"background-color:rgba(135,206,250,0.23631838);\">germany</span> <span style=\"background-color:rgba(135,206,250,0.12977315);\">:</span> <span style=\"background-color:rgba(135,206,250,0.11824365);\">rheingau</span> <span style=\"background-color:rgba(135,206,250,0.055070672);\">:</span> <span style=\"background-color:rgba(135,206,250,0.063441046);\">riesling</span> <span style=\"background-color:rgba(135,206,250,0.071337126);\">:</span> <span style=\"background-color:rgba(135,206,250,0.029713685);\">a</span> <span style=\"background-color:rgba(135,206,250,0.06453672);\">hint</span> <span style=\"background-color:rgba(135,206,250,0.027902268);\">of</span> <span style=\"background-color:rgba(135,206,250,0.058223773);\">mineral</span> <span style=\"background-color:rgba(135,206,250,0.035624333);\">and</span> <span style=\"background-color:rgba(135,206,250,0.020095762);\">crushed</span> <span style=\"background-color:rgba(135,206,250,0.030738698);\">stone</span> <span style=\"background-color:rgba(135,206,250,0.06773284);\">lend</span> <span style=\"background-color:rgba(135,206,250,0.031241406);\">a</span> <span style=\"background-color:rgba(135,206,250,0.041311868);\">savory</span> <span style=\"background-color:rgba(135,206,250,0.09562952);\">tone</span> <span style=\"background-color:rgba(135,206,250,0.03475238);\">to</span> <span style=\"background-color:rgba(135,206,250,0.051951263);\">this</span> <span style=\"background-color:rgba(135,206,250,0.071325585);\">dry</span> <span style=\"background-color:rgba(135,206,250,0.093682736);\">,</span> <span style=\"background-color:rgba(135,206,250,0.090595365);\">full</span> <span style=\"background-color:rgba(135,206,250,0.079409115);\">-</span> <span style=\"background-color:rgba(135,206,250,0.3550908);\">bodied</span> <span style=\"background-color:rgba(135,206,250,0.25072783);\">wine</span> <span style=\"background-color:rgba(135,206,250,1.0);\">.</span> <span style=\"background-color:rgba(135,206,250,0.2300617);\">it</span>"
      ],
      "text/plain": [
       "<IPython.core.display.HTML object>"
      ]
     },
     "metadata": {},
     "output_type": "display_data"
    },
    {
     "name": "stdout",
     "output_type": "stream",
     "text": [
      "':   \t99.97%\n",
      "has:   \t0.02%\n",
      "balances:   \t0.0%\n",
      "juxtaposes:   \t0.0%\n",
      "is:   \t0.0%\n",
      "--------\n",
      "\n"
     ]
    },
    {
     "data": {
      "text/html": [
       "<span style=\"background-color:rgba(135,206,250,0.11899019);\">wine</span> <span style=\"background-color:rgba(135,206,250,0.24335334);\">review</span> <span style=\"background-color:rgba(135,206,250,0.16574438);\">:</span> <span style=\"background-color:rgba(135,206,250,0.13517071);\">germany</span> <span style=\"background-color:rgba(135,206,250,0.13554427);\">:</span> <span style=\"background-color:rgba(135,206,250,0.121157914);\">rheingau</span> <span style=\"background-color:rgba(135,206,250,0.073544994);\">:</span> <span style=\"background-color:rgba(135,206,250,0.12125294);\">riesling</span> <span style=\"background-color:rgba(135,206,250,0.090632044);\">:</span> <span style=\"background-color:rgba(135,206,250,0.028792467);\">a</span> <span style=\"background-color:rgba(135,206,250,0.045080923);\">hint</span> <span style=\"background-color:rgba(135,206,250,0.038735684);\">of</span> <span style=\"background-color:rgba(135,206,250,0.04063321);\">mineral</span> <span style=\"background-color:rgba(135,206,250,0.035157725);\">and</span> <span style=\"background-color:rgba(135,206,250,0.028837953);\">crushed</span> <span style=\"background-color:rgba(135,206,250,0.041990735);\">stone</span> <span style=\"background-color:rgba(135,206,250,0.04776995);\">lend</span> <span style=\"background-color:rgba(135,206,250,0.025815424);\">a</span> <span style=\"background-color:rgba(135,206,250,0.043677244);\">savory</span> <span style=\"background-color:rgba(135,206,250,0.06186194);\">tone</span> <span style=\"background-color:rgba(135,206,250,0.043944523);\">to</span> <span style=\"background-color:rgba(135,206,250,0.06906827);\">this</span> <span style=\"background-color:rgba(135,206,250,0.059131756);\">dry</span> <span style=\"background-color:rgba(135,206,250,0.0998742);\">,</span> <span style=\"background-color:rgba(135,206,250,0.08050162);\">full</span> <span style=\"background-color:rgba(135,206,250,0.0855433);\">-</span> <span style=\"background-color:rgba(135,206,250,0.12972364);\">bodied</span> <span style=\"background-color:rgba(135,206,250,0.4350692);\">wine</span> <span style=\"background-color:rgba(135,206,250,0.6501258);\">.</span> <span style=\"background-color:rgba(135,206,250,1.0);\">it</span> <span style=\"background-color:rgba(135,206,250,0.14284745);\">'</span>"
      ],
      "text/plain": [
       "<IPython.core.display.HTML object>"
      ]
     },
     "metadata": {},
     "output_type": "display_data"
    },
    {
     "name": "stdout",
     "output_type": "stream",
     "text": [
      "s:   \t100.0%\n",
      "ll:   \t0.0%\n",
      "bursts:   \t0.0%\n",
      "[UNK]:   \t0.0%\n",
      "has:   \t0.0%\n",
      "--------\n",
      "\n"
     ]
    },
    {
     "data": {
      "text/html": [
       "<span style=\"background-color:rgba(135,206,250,0.10311993);\">wine</span> <span style=\"background-color:rgba(135,206,250,0.1843147);\">review</span> <span style=\"background-color:rgba(135,206,250,0.2309931);\">:</span> <span style=\"background-color:rgba(135,206,250,0.29749525);\">germany</span> <span style=\"background-color:rgba(135,206,250,0.24653576);\">:</span> <span style=\"background-color:rgba(135,206,250,0.1773617);\">rheingau</span> <span style=\"background-color:rgba(135,206,250,0.086190216);\">:</span> <span style=\"background-color:rgba(135,206,250,0.21270949);\">riesling</span> <span style=\"background-color:rgba(135,206,250,0.12388983);\">:</span> <span style=\"background-color:rgba(135,206,250,0.042060696);\">a</span> <span style=\"background-color:rgba(135,206,250,0.075513124);\">hint</span> <span style=\"background-color:rgba(135,206,250,0.042910278);\">of</span> <span style=\"background-color:rgba(135,206,250,0.0786213);\">mineral</span> <span style=\"background-color:rgba(135,206,250,0.048401326);\">and</span> <span style=\"background-color:rgba(135,206,250,0.034437146);\">crushed</span> <span style=\"background-color:rgba(135,206,250,0.034227908);\">stone</span> <span style=\"background-color:rgba(135,206,250,0.03789228);\">lend</span> <span style=\"background-color:rgba(135,206,250,0.03407146);\">a</span> <span style=\"background-color:rgba(135,206,250,0.07463565);\">savory</span> <span style=\"background-color:rgba(135,206,250,0.10351156);\">tone</span> <span style=\"background-color:rgba(135,206,250,0.044760734);\">to</span> <span style=\"background-color:rgba(135,206,250,0.07044841);\">this</span> <span style=\"background-color:rgba(135,206,250,0.13260129);\">dry</span> <span style=\"background-color:rgba(135,206,250,0.11411446);\">,</span> <span style=\"background-color:rgba(135,206,250,0.13774504);\">full</span> <span style=\"background-color:rgba(135,206,250,0.102165565);\">-</span> <span style=\"background-color:rgba(135,206,250,0.24942948);\">bodied</span> <span style=\"background-color:rgba(135,206,250,0.4770908);\">wine</span> <span style=\"background-color:rgba(135,206,250,1.0);\">.</span> <span style=\"background-color:rgba(135,206,250,0.65977377);\">it</span> <span style=\"background-color:rgba(135,206,250,0.09238036);\">'</span> <span style=\"background-color:rgba(135,206,250,0.23560277);\">s</span>"
      ],
      "text/plain": [
       "<IPython.core.display.HTML object>"
      ]
     },
     "metadata": {},
     "output_type": "display_data"
    },
    {
     "name": "stdout",
     "output_type": "stream",
     "text": [
      "juicy:   \t39.96%\n",
      "crisp:   \t12.03%\n",
      "rich:   \t11.35%\n",
      "a:   \t8.74%\n",
      "concentrated:   \t3.86%\n",
      "--------\n",
      "\n"
     ]
    },
    {
     "data": {
      "text/html": [
       "<span style=\"background-color:rgba(135,206,250,0.13000783);\">wine</span> <span style=\"background-color:rgba(135,206,250,0.21294503);\">review</span> <span style=\"background-color:rgba(135,206,250,0.168194);\">:</span> <span style=\"background-color:rgba(135,206,250,0.2814594);\">germany</span> <span style=\"background-color:rgba(135,206,250,0.21603456);\">:</span> <span style=\"background-color:rgba(135,206,250,0.15019467);\">rheingau</span> <span style=\"background-color:rgba(135,206,250,0.08728075);\">:</span> <span style=\"background-color:rgba(135,206,250,0.21340212);\">riesling</span> <span style=\"background-color:rgba(135,206,250,0.10459214);\">:</span> <span style=\"background-color:rgba(135,206,250,0.039000932);\">a</span> <span style=\"background-color:rgba(135,206,250,0.0530221);\">hint</span> <span style=\"background-color:rgba(135,206,250,0.042417686);\">of</span> <span style=\"background-color:rgba(135,206,250,0.035443753);\">mineral</span> <span style=\"background-color:rgba(135,206,250,0.038056515);\">and</span> <span style=\"background-color:rgba(135,206,250,0.022836765);\">crushed</span> <span style=\"background-color:rgba(135,206,250,0.037490033);\">stone</span> <span style=\"background-color:rgba(135,206,250,0.054297958);\">lend</span> <span style=\"background-color:rgba(135,206,250,0.032436397);\">a</span> <span style=\"background-color:rgba(135,206,250,0.039992176);\">savory</span> <span style=\"background-color:rgba(135,206,250,0.06047038);\">tone</span> <span style=\"background-color:rgba(135,206,250,0.03031838);\">to</span> <span style=\"background-color:rgba(135,206,250,0.08041721);\">this</span> <span style=\"background-color:rgba(135,206,250,0.06828249);\">dry</span> <span style=\"background-color:rgba(135,206,250,0.07059951);\">,</span> <span style=\"background-color:rgba(135,206,250,0.06142861);\">full</span> <span style=\"background-color:rgba(135,206,250,0.04652127);\">-</span> <span style=\"background-color:rgba(135,206,250,0.14990474);\">bodied</span> <span style=\"background-color:rgba(135,206,250,0.41064358);\">wine</span> <span style=\"background-color:rgba(135,206,250,0.7369977);\">.</span> <span style=\"background-color:rgba(135,206,250,0.7771029);\">it</span> <span style=\"background-color:rgba(135,206,250,0.17171519);\">'</span> <span style=\"background-color:rgba(135,206,250,1.0);\">s</span> <span style=\"background-color:rgba(135,206,250,0.21867004);\">crisp</span>"
      ],
      "text/plain": [
       "<IPython.core.display.HTML object>"
      ]
     },
     "metadata": {},
     "output_type": "display_data"
    },
    {
     "name": "stdout",
     "output_type": "stream",
     "text": [
      "and:   \t78.89%\n",
      ",:   \t20.65%\n",
      "with:   \t0.16%\n",
      "in:   \t0.13%\n",
      "on:   \t0.12%\n",
      "--------\n",
      "\n"
     ]
    },
    {
     "data": {
      "text/html": [
       "<span style=\"background-color:rgba(135,206,250,0.06843149);\">wine</span> <span style=\"background-color:rgba(135,206,250,0.124376185);\">review</span> <span style=\"background-color:rgba(135,206,250,0.10763367);\">:</span> <span style=\"background-color:rgba(135,206,250,0.21436815);\">germany</span> <span style=\"background-color:rgba(135,206,250,0.112795845);\">:</span> <span style=\"background-color:rgba(135,206,250,0.13075247);\">rheingau</span> <span style=\"background-color:rgba(135,206,250,0.05520841);\">:</span> <span style=\"background-color:rgba(135,206,250,0.17822891);\">riesling</span> <span style=\"background-color:rgba(135,206,250,0.079511695);\">:</span> <span style=\"background-color:rgba(135,206,250,0.023717871);\">a</span> <span style=\"background-color:rgba(135,206,250,0.0481393);\">hint</span> <span style=\"background-color:rgba(135,206,250,0.025719432);\">of</span> <span style=\"background-color:rgba(135,206,250,0.05839173);\">mineral</span> <span style=\"background-color:rgba(135,206,250,0.032972164);\">and</span> <span style=\"background-color:rgba(135,206,250,0.026603801);\">crushed</span> <span style=\"background-color:rgba(135,206,250,0.03775389);\">stone</span> <span style=\"background-color:rgba(135,206,250,0.041898835);\">lend</span> <span style=\"background-color:rgba(135,206,250,0.021282528);\">a</span> <span style=\"background-color:rgba(135,206,250,0.050217487);\">savory</span> <span style=\"background-color:rgba(135,206,250,0.06632256);\">tone</span> <span style=\"background-color:rgba(135,206,250,0.025717406);\">to</span> <span style=\"background-color:rgba(135,206,250,0.05656103);\">this</span> <span style=\"background-color:rgba(135,206,250,0.07623209);\">dry</span> <span style=\"background-color:rgba(135,206,250,0.052365303);\">,</span> <span style=\"background-color:rgba(135,206,250,0.0781395);\">full</span> <span style=\"background-color:rgba(135,206,250,0.0492189);\">-</span> <span style=\"background-color:rgba(135,206,250,0.15178838);\">bodied</span> <span style=\"background-color:rgba(135,206,250,0.14525804);\">wine</span> <span style=\"background-color:rgba(135,206,250,0.39506212);\">.</span> <span style=\"background-color:rgba(135,206,250,0.25512403);\">it</span> <span style=\"background-color:rgba(135,206,250,0.04874749);\">'</span> <span style=\"background-color:rgba(135,206,250,0.51285076);\">s</span> <span style=\"background-color:rgba(135,206,250,1.0);\">crisp</span> <span style=\"background-color:rgba(135,206,250,0.38541484);\">and</span>"
      ],
      "text/plain": [
       "<IPython.core.display.HTML object>"
      ]
     },
     "metadata": {},
     "output_type": "display_data"
    },
    {
     "name": "stdout",
     "output_type": "stream",
     "text": [
      "fresh:   \t25.53%\n",
      "refreshing:   \t18.39%\n",
      "clean:   \t10.37%\n",
      "cutting:   \t9.52%\n",
      "juicy:   \t6.12%\n",
      "--------\n",
      "\n"
     ]
    },
    {
     "data": {
      "text/html": [
       "<span style=\"background-color:rgba(135,206,250,0.09539154);\">wine</span> <span style=\"background-color:rgba(135,206,250,0.15014438);\">review</span> <span style=\"background-color:rgba(135,206,250,0.15109092);\">:</span> <span style=\"background-color:rgba(135,206,250,0.28166628);\">germany</span> <span style=\"background-color:rgba(135,206,250,0.17639372);\">:</span> <span style=\"background-color:rgba(135,206,250,0.17473602);\">rheingau</span> <span style=\"background-color:rgba(135,206,250,0.08824174);\">:</span> <span style=\"background-color:rgba(135,206,250,0.2617481);\">riesling</span> <span style=\"background-color:rgba(135,206,250,0.11229589);\">:</span> <span style=\"background-color:rgba(135,206,250,0.031716924);\">a</span> <span style=\"background-color:rgba(135,206,250,0.05985278);\">hint</span> <span style=\"background-color:rgba(135,206,250,0.027330523);\">of</span> <span style=\"background-color:rgba(135,206,250,0.053237706);\">mineral</span> <span style=\"background-color:rgba(135,206,250,0.03832864);\">and</span> <span style=\"background-color:rgba(135,206,250,0.023683349);\">crushed</span> <span style=\"background-color:rgba(135,206,250,0.059208997);\">stone</span> <span style=\"background-color:rgba(135,206,250,0.048037462);\">lend</span> <span style=\"background-color:rgba(135,206,250,0.025751675);\">a</span> <span style=\"background-color:rgba(135,206,250,0.0474346);\">savory</span> <span style=\"background-color:rgba(135,206,250,0.07066272);\">tone</span> <span style=\"background-color:rgba(135,206,250,0.028791662);\">to</span> <span style=\"background-color:rgba(135,206,250,0.06542772);\">this</span> <span style=\"background-color:rgba(135,206,250,0.07109982);\">dry</span> <span style=\"background-color:rgba(135,206,250,0.06464027);\">,</span> <span style=\"background-color:rgba(135,206,250,0.051099993);\">full</span> <span style=\"background-color:rgba(135,206,250,0.02522757);\">-</span> <span style=\"background-color:rgba(135,206,250,0.12304855);\">bodied</span> <span style=\"background-color:rgba(135,206,250,0.3197804);\">wine</span> <span style=\"background-color:rgba(135,206,250,0.47568974);\">.</span> <span style=\"background-color:rgba(135,206,250,0.42851502);\">it</span> <span style=\"background-color:rgba(135,206,250,0.12877214);\">'</span> <span style=\"background-color:rgba(135,206,250,0.5455067);\">s</span> <span style=\"background-color:rgba(135,206,250,0.20647858);\">crisp</span> <span style=\"background-color:rgba(135,206,250,1.0);\">and</span> <span style=\"background-color:rgba(135,206,250,0.34553146);\">bright</span>"
      ],
      "text/plain": [
       "<IPython.core.display.HTML object>"
      ]
     },
     "metadata": {},
     "output_type": "display_data"
    },
    {
     "name": "stdout",
     "output_type": "stream",
     "text": [
      ",:   \t59.22%\n",
      "on:   \t20.35%\n",
      "in:   \t16.95%\n",
      "with:   \t3.46%\n",
      "at:   \t0.01%\n",
      "--------\n",
      "\n"
     ]
    },
    {
     "data": {
      "text/html": [
       "<span style=\"background-color:rgba(135,206,250,0.17821589);\">wine</span> <span style=\"background-color:rgba(135,206,250,0.34597892);\">review</span> <span style=\"background-color:rgba(135,206,250,0.52517223);\">:</span> <span style=\"background-color:rgba(135,206,250,0.51178706);\">germany</span> <span style=\"background-color:rgba(135,206,250,0.58762634);\">:</span> <span style=\"background-color:rgba(135,206,250,0.2751231);\">rheingau</span> <span style=\"background-color:rgba(135,206,250,0.21829188);\">:</span> <span style=\"background-color:rgba(135,206,250,0.22908977);\">riesling</span> <span style=\"background-color:rgba(135,206,250,0.18959448);\">:</span> <span style=\"background-color:rgba(135,206,250,0.04532669);\">a</span> <span style=\"background-color:rgba(135,206,250,0.079047);\">hint</span> <span style=\"background-color:rgba(135,206,250,0.077294365);\">of</span> <span style=\"background-color:rgba(135,206,250,0.059312746);\">mineral</span> <span style=\"background-color:rgba(135,206,250,0.111575164);\">and</span> <span style=\"background-color:rgba(135,206,250,0.028115453);\">crushed</span> <span style=\"background-color:rgba(135,206,250,0.06752404);\">stone</span> <span style=\"background-color:rgba(135,206,250,0.14164768);\">lend</span> <span style=\"background-color:rgba(135,206,250,0.04767182);\">a</span> <span style=\"background-color:rgba(135,206,250,0.05738689);\">savory</span> <span style=\"background-color:rgba(135,206,250,0.05905154);\">tone</span> <span style=\"background-color:rgba(135,206,250,0.07284393);\">to</span> <span style=\"background-color:rgba(135,206,250,0.15837371);\">this</span> <span style=\"background-color:rgba(135,206,250,0.06298313);\">dry</span> <span style=\"background-color:rgba(135,206,250,0.14585236);\">,</span> <span style=\"background-color:rgba(135,206,250,0.077516764);\">full</span> <span style=\"background-color:rgba(135,206,250,0.06646584);\">-</span> <span style=\"background-color:rgba(135,206,250,0.15450138);\">bodied</span> <span style=\"background-color:rgba(135,206,250,0.21354297);\">wine</span> <span style=\"background-color:rgba(135,206,250,0.6568933);\">.</span> <span style=\"background-color:rgba(135,206,250,0.3620533);\">it</span> <span style=\"background-color:rgba(135,206,250,0.19471607);\">'</span> <span style=\"background-color:rgba(135,206,250,0.37105998);\">s</span> <span style=\"background-color:rgba(135,206,250,0.42078048);\">crisp</span> <span style=\"background-color:rgba(135,206,250,0.80396986);\">and</span> <span style=\"background-color:rgba(135,206,250,1.0);\">bright</span> <span style=\"background-color:rgba(135,206,250,0.4153152);\">on</span>"
      ],
      "text/plain": [
       "<IPython.core.display.HTML object>"
      ]
     },
     "metadata": {},
     "output_type": "display_data"
    },
    {
     "name": "stdout",
     "output_type": "stream",
     "text": [
      "the:   \t99.99%\n",
      "its:   \t0.0%\n",
      "acidity:   \t0.0%\n",
      "entry:   \t0.0%\n",
      "a:   \t0.0%\n",
      "--------\n",
      "\n"
     ]
    },
    {
     "data": {
      "text/html": [
       "<span style=\"background-color:rgba(135,206,250,0.08336303);\">wine</span> <span style=\"background-color:rgba(135,206,250,0.12231429);\">review</span> <span style=\"background-color:rgba(135,206,250,0.1176814);\">:</span> <span style=\"background-color:rgba(135,206,250,0.21981005);\">germany</span> <span style=\"background-color:rgba(135,206,250,0.1409153);\">:</span> <span style=\"background-color:rgba(135,206,250,0.15126123);\">rheingau</span> <span style=\"background-color:rgba(135,206,250,0.052262843);\">:</span> <span style=\"background-color:rgba(135,206,250,0.18750365);\">riesling</span> <span style=\"background-color:rgba(135,206,250,0.06866099);\">:</span> <span style=\"background-color:rgba(135,206,250,0.022998804);\">a</span> <span style=\"background-color:rgba(135,206,250,0.06454521);\">hint</span> <span style=\"background-color:rgba(135,206,250,0.023028266);\">of</span> <span style=\"background-color:rgba(135,206,250,0.048017405);\">mineral</span> <span style=\"background-color:rgba(135,206,250,0.02528705);\">and</span> <span style=\"background-color:rgba(135,206,250,0.040836383);\">crushed</span> <span style=\"background-color:rgba(135,206,250,0.036193162);\">stone</span> <span style=\"background-color:rgba(135,206,250,0.04119754);\">lend</span> <span style=\"background-color:rgba(135,206,250,0.019118441);\">a</span> <span style=\"background-color:rgba(135,206,250,0.039053366);\">savory</span> <span style=\"background-color:rgba(135,206,250,0.08877949);\">tone</span> <span style=\"background-color:rgba(135,206,250,0.018110937);\">to</span> <span style=\"background-color:rgba(135,206,250,0.039203655);\">this</span> <span style=\"background-color:rgba(135,206,250,0.05741541);\">dry</span> <span style=\"background-color:rgba(135,206,250,0.044233717);\">,</span> <span style=\"background-color:rgba(135,206,250,0.05348166);\">full</span> <span style=\"background-color:rgba(135,206,250,0.034114186);\">-</span> <span style=\"background-color:rgba(135,206,250,0.11425702);\">bodied</span> <span style=\"background-color:rgba(135,206,250,0.14516968);\">wine</span> <span style=\"background-color:rgba(135,206,250,0.24143404);\">.</span> <span style=\"background-color:rgba(135,206,250,0.11856629);\">it</span> <span style=\"background-color:rgba(135,206,250,0.030635769);\">'</span> <span style=\"background-color:rgba(135,206,250,0.20971417);\">s</span> <span style=\"background-color:rgba(135,206,250,0.17496257);\">crisp</span> <span style=\"background-color:rgba(135,206,250,0.36004144);\">and</span> <span style=\"background-color:rgba(135,206,250,0.40360335);\">bright</span> <span style=\"background-color:rgba(135,206,250,1.0);\">on</span> <span style=\"background-color:rgba(135,206,250,0.24329917);\">the</span>"
      ],
      "text/plain": [
       "<IPython.core.display.HTML object>"
      ]
     },
     "metadata": {},
     "output_type": "display_data"
    },
    {
     "name": "stdout",
     "output_type": "stream",
     "text": [
      "palate:   \t99.52%\n",
      "finish:   \t0.31%\n",
      "nose:   \t0.14%\n",
      "midpalate:   \t0.02%\n",
      "tongue:   \t0.01%\n",
      "--------\n",
      "\n"
     ]
    },
    {
     "data": {
      "text/html": [
       "<span style=\"background-color:rgba(135,206,250,0.06400437);\">wine</span> <span style=\"background-color:rgba(135,206,250,0.18891856);\">review</span> <span style=\"background-color:rgba(135,206,250,0.15970281);\">:</span> <span style=\"background-color:rgba(135,206,250,0.35451204);\">germany</span> <span style=\"background-color:rgba(135,206,250,0.18876345);\">:</span> <span style=\"background-color:rgba(135,206,250,0.06027149);\">rheingau</span> <span style=\"background-color:rgba(135,206,250,0.061329048);\">:</span> <span style=\"background-color:rgba(135,206,250,0.045844752);\">riesling</span> <span style=\"background-color:rgba(135,206,250,0.059110075);\">:</span> <span style=\"background-color:rgba(135,206,250,0.037447758);\">a</span> <span style=\"background-color:rgba(135,206,250,0.036620587);\">hint</span> <span style=\"background-color:rgba(135,206,250,0.021927822);\">of</span> <span style=\"background-color:rgba(135,206,250,0.0207749);\">mineral</span> <span style=\"background-color:rgba(135,206,250,0.038473073);\">and</span> <span style=\"background-color:rgba(135,206,250,0.0082068015);\">crushed</span> <span style=\"background-color:rgba(135,206,250,0.017834594);\">stone</span> <span style=\"background-color:rgba(135,206,250,0.053796634);\">lend</span> <span style=\"background-color:rgba(135,206,250,0.03428833);\">a</span> <span style=\"background-color:rgba(135,206,250,0.026858645);\">savory</span> <span style=\"background-color:rgba(135,206,250,0.038499564);\">tone</span> <span style=\"background-color:rgba(135,206,250,0.03614474);\">to</span> <span style=\"background-color:rgba(135,206,250,0.058164097);\">this</span> <span style=\"background-color:rgba(135,206,250,0.050094817);\">dry</span> <span style=\"background-color:rgba(135,206,250,0.052119914);\">,</span> <span style=\"background-color:rgba(135,206,250,0.04433924);\">full</span> <span style=\"background-color:rgba(135,206,250,0.029697767);\">-</span> <span style=\"background-color:rgba(135,206,250,0.057118647);\">bodied</span> <span style=\"background-color:rgba(135,206,250,0.09656815);\">wine</span> <span style=\"background-color:rgba(135,206,250,0.38791037);\">.</span> <span style=\"background-color:rgba(135,206,250,0.17608966);\">it</span> <span style=\"background-color:rgba(135,206,250,0.04234965);\">'</span> <span style=\"background-color:rgba(135,206,250,0.27899557);\">s</span> <span style=\"background-color:rgba(135,206,250,0.20901714);\">crisp</span> <span style=\"background-color:rgba(135,206,250,0.31766194);\">and</span> <span style=\"background-color:rgba(135,206,250,0.23277842);\">bright</span> <span style=\"background-color:rgba(135,206,250,1.0);\">on</span> <span style=\"background-color:rgba(135,206,250,0.38321334);\">the</span> <span style=\"background-color:rgba(135,206,250,0.31116727);\">palate</span>"
      ],
      "text/plain": [
       "<IPython.core.display.HTML object>"
      ]
     },
     "metadata": {},
     "output_type": "display_data"
    },
    {
     "name": "stdout",
     "output_type": "stream",
     "text": [
      ",:   \t99.33%\n",
      "with:   \t0.54%\n",
      "and:   \t0.07%\n",
      "but:   \t0.02%\n",
      ".:   \t0.02%\n",
      "--------\n",
      "\n"
     ]
    },
    {
     "data": {
      "text/html": [
       "<span style=\"background-color:rgba(135,206,250,0.065123595);\">wine</span> <span style=\"background-color:rgba(135,206,250,0.15680385);\">review</span> <span style=\"background-color:rgba(135,206,250,0.124179214);\">:</span> <span style=\"background-color:rgba(135,206,250,0.2709688);\">germany</span> <span style=\"background-color:rgba(135,206,250,0.13997449);\">:</span> <span style=\"background-color:rgba(135,206,250,0.14623876);\">rheingau</span> <span style=\"background-color:rgba(135,206,250,0.0629586);\">:</span> <span style=\"background-color:rgba(135,206,250,0.17267087);\">riesling</span> <span style=\"background-color:rgba(135,206,250,0.09161274);\">:</span> <span style=\"background-color:rgba(135,206,250,0.023499496);\">a</span> <span style=\"background-color:rgba(135,206,250,0.05457884);\">hint</span> <span style=\"background-color:rgba(135,206,250,0.029939342);\">of</span> <span style=\"background-color:rgba(135,206,250,0.048323154);\">mineral</span> <span style=\"background-color:rgba(135,206,250,0.035921585);\">and</span> <span style=\"background-color:rgba(135,206,250,0.016068442);\">crushed</span> <span style=\"background-color:rgba(135,206,250,0.032819636);\">stone</span> <span style=\"background-color:rgba(135,206,250,0.06396995);\">lend</span> <span style=\"background-color:rgba(135,206,250,0.019445531);\">a</span> <span style=\"background-color:rgba(135,206,250,0.034072407);\">savory</span> <span style=\"background-color:rgba(135,206,250,0.05071341);\">tone</span> <span style=\"background-color:rgba(135,206,250,0.025321882);\">to</span> <span style=\"background-color:rgba(135,206,250,0.07481981);\">this</span> <span style=\"background-color:rgba(135,206,250,0.05862791);\">dry</span> <span style=\"background-color:rgba(135,206,250,0.036999684);\">,</span> <span style=\"background-color:rgba(135,206,250,0.061810352);\">full</span> <span style=\"background-color:rgba(135,206,250,0.025999095);\">-</span> <span style=\"background-color:rgba(135,206,250,0.07722988);\">bodied</span> <span style=\"background-color:rgba(135,206,250,0.11373155);\">wine</span> <span style=\"background-color:rgba(135,206,250,0.28417197);\">.</span> <span style=\"background-color:rgba(135,206,250,0.17359084);\">it</span> <span style=\"background-color:rgba(135,206,250,0.024208246);\">'</span> <span style=\"background-color:rgba(135,206,250,0.216708);\">s</span> <span style=\"background-color:rgba(135,206,250,0.28030702);\">crisp</span> <span style=\"background-color:rgba(135,206,250,0.3461525);\">and</span> <span style=\"background-color:rgba(135,206,250,0.41376534);\">bright</span> <span style=\"background-color:rgba(135,206,250,0.3817909);\">on</span> <span style=\"background-color:rgba(135,206,250,0.40220836);\">the</span> <span style=\"background-color:rgba(135,206,250,1.0);\">palate</span> <span style=\"background-color:rgba(135,206,250,0.56262606);\">,</span>"
      ],
      "text/plain": [
       "<IPython.core.display.HTML object>"
      ]
     },
     "metadata": {},
     "output_type": "display_data"
    },
    {
     "name": "stdout",
     "output_type": "stream",
     "text": [
      "with:   \t63.61%\n",
      "it:   \t25.59%\n",
      "but:   \t4.81%\n",
      "yet:   \t2.76%\n",
      "finishing:   \t1.62%\n",
      "--------\n",
      "\n"
     ]
    },
    {
     "data": {
      "text/html": [
       "<span style=\"background-color:rgba(135,206,250,0.0966681);\">wine</span> <span style=\"background-color:rgba(135,206,250,0.19292857);\">review</span> <span style=\"background-color:rgba(135,206,250,0.2675944);\">:</span> <span style=\"background-color:rgba(135,206,250,0.41897625);\">germany</span> <span style=\"background-color:rgba(135,206,250,0.33673203);\">:</span> <span style=\"background-color:rgba(135,206,250,0.18250538);\">rheingau</span> <span style=\"background-color:rgba(135,206,250,0.11105991);\">:</span> <span style=\"background-color:rgba(135,206,250,0.27676478);\">riesling</span> <span style=\"background-color:rgba(135,206,250,0.13111222);\">:</span> <span style=\"background-color:rgba(135,206,250,0.041602656);\">a</span> <span style=\"background-color:rgba(135,206,250,0.085863136);\">hint</span> <span style=\"background-color:rgba(135,206,250,0.031452592);\">of</span> <span style=\"background-color:rgba(135,206,250,0.08618921);\">mineral</span> <span style=\"background-color:rgba(135,206,250,0.06000614);\">and</span> <span style=\"background-color:rgba(135,206,250,0.037866075);\">crushed</span> <span style=\"background-color:rgba(135,206,250,0.07196205);\">stone</span> <span style=\"background-color:rgba(135,206,250,0.057024557);\">lend</span> <span style=\"background-color:rgba(135,206,250,0.030949002);\">a</span> <span style=\"background-color:rgba(135,206,250,0.06901054);\">savory</span> <span style=\"background-color:rgba(135,206,250,0.09083285);\">tone</span> <span style=\"background-color:rgba(135,206,250,0.025993133);\">to</span> <span style=\"background-color:rgba(135,206,250,0.054615777);\">this</span> <span style=\"background-color:rgba(135,206,250,0.08047345);\">dry</span> <span style=\"background-color:rgba(135,206,250,0.059214987);\">,</span> <span style=\"background-color:rgba(135,206,250,0.060622156);\">full</span> <span style=\"background-color:rgba(135,206,250,0.034320675);\">-</span> <span style=\"background-color:rgba(135,206,250,0.10394024);\">bodied</span> <span style=\"background-color:rgba(135,206,250,0.091388345);\">wine</span> <span style=\"background-color:rgba(135,206,250,0.2472138);\">.</span> <span style=\"background-color:rgba(135,206,250,0.09962004);\">it</span> <span style=\"background-color:rgba(135,206,250,0.036034457);\">'</span> <span style=\"background-color:rgba(135,206,250,0.09507464);\">s</span> <span style=\"background-color:rgba(135,206,250,0.27930132);\">crisp</span> <span style=\"background-color:rgba(135,206,250,0.22521241);\">and</span> <span style=\"background-color:rgba(135,206,250,0.43626267);\">bright</span> <span style=\"background-color:rgba(135,206,250,0.18891239);\">on</span> <span style=\"background-color:rgba(135,206,250,0.25212693);\">the</span> <span style=\"background-color:rgba(135,206,250,0.84657085);\">palate</span> <span style=\"background-color:rgba(135,206,250,1.0);\">,</span> <span style=\"background-color:rgba(135,206,250,0.6248663);\">with</span>"
      ],
      "text/plain": [
       "<IPython.core.display.HTML object>"
      ]
     },
     "metadata": {},
     "output_type": "display_data"
    },
    {
     "name": "stdout",
     "output_type": "stream",
     "text": [
      "a:   \t86.16%\n",
      "lemon:   \t4.59%\n",
      "crisp:   \t1.21%\n",
      "hints:   \t1.0%\n",
      "fresh:   \t0.82%\n",
      "--------\n",
      "\n"
     ]
    },
    {
     "data": {
      "text/html": [
       "<span style=\"background-color:rgba(135,206,250,0.052531075);\">wine</span> <span style=\"background-color:rgba(135,206,250,0.079515435);\">review</span> <span style=\"background-color:rgba(135,206,250,0.08029705);\">:</span> <span style=\"background-color:rgba(135,206,250,0.19521222);\">germany</span> <span style=\"background-color:rgba(135,206,250,0.0867056);\">:</span> <span style=\"background-color:rgba(135,206,250,0.12008093);\">rheingau</span> <span style=\"background-color:rgba(135,206,250,0.056039855);\">:</span> <span style=\"background-color:rgba(135,206,250,0.17666398);\">riesling</span> <span style=\"background-color:rgba(135,206,250,0.06941195);\">:</span> <span style=\"background-color:rgba(135,206,250,0.02127787);\">a</span> <span style=\"background-color:rgba(135,206,250,0.037013818);\">hint</span> <span style=\"background-color:rgba(135,206,250,0.014352831);\">of</span> <span style=\"background-color:rgba(135,206,250,0.031950954);\">mineral</span> <span style=\"background-color:rgba(135,206,250,0.024028976);\">and</span> <span style=\"background-color:rgba(135,206,250,0.01193922);\">crushed</span> <span style=\"background-color:rgba(135,206,250,0.03288461);\">stone</span> <span style=\"background-color:rgba(135,206,250,0.022584412);\">lend</span> <span style=\"background-color:rgba(135,206,250,0.014348399);\">a</span> <span style=\"background-color:rgba(135,206,250,0.02508903);\">savory</span> <span style=\"background-color:rgba(135,206,250,0.039301403);\">tone</span> <span style=\"background-color:rgba(135,206,250,0.013734677);\">to</span> <span style=\"background-color:rgba(135,206,250,0.029120428);\">this</span> <span style=\"background-color:rgba(135,206,250,0.038297217);\">dry</span> <span style=\"background-color:rgba(135,206,250,0.0301135);\">,</span> <span style=\"background-color:rgba(135,206,250,0.022441708);\">full</span> <span style=\"background-color:rgba(135,206,250,0.010303469);\">-</span> <span style=\"background-color:rgba(135,206,250,0.056106076);\">bodied</span> <span style=\"background-color:rgba(135,206,250,0.09081731);\">wine</span> <span style=\"background-color:rgba(135,206,250,0.12784295);\">.</span> <span style=\"background-color:rgba(135,206,250,0.053207994);\">it</span> <span style=\"background-color:rgba(135,206,250,0.021518854);\">'</span> <span style=\"background-color:rgba(135,206,250,0.06014098);\">s</span> <span style=\"background-color:rgba(135,206,250,0.05835487);\">crisp</span> <span style=\"background-color:rgba(135,206,250,0.07527553);\">and</span> <span style=\"background-color:rgba(135,206,250,0.045274146);\">bright</span> <span style=\"background-color:rgba(135,206,250,0.19659509);\">on</span> <span style=\"background-color:rgba(135,206,250,0.18588448);\">the</span> <span style=\"background-color:rgba(135,206,250,0.60934305);\">palate</span> <span style=\"background-color:rgba(135,206,250,0.32834986);\">,</span> <span style=\"background-color:rgba(135,206,250,1.0);\">with</span> <span style=\"background-color:rgba(135,206,250,0.18123147);\">bright</span>"
      ],
      "text/plain": [
       "<IPython.core.display.HTML object>"
      ]
     },
     "metadata": {},
     "output_type": "display_data"
    },
    {
     "name": "stdout",
     "output_type": "stream",
     "text": [
      "lemon:   \t34.01%\n",
      "acidity:   \t28.78%\n",
      "lime:   \t9.02%\n",
      ",:   \t7.91%\n",
      "citrus:   \t7.51%\n",
      "--------\n",
      "\n"
     ]
    },
    {
     "data": {
      "text/html": [
       "<span style=\"background-color:rgba(135,206,250,0.047664393);\">wine</span> <span style=\"background-color:rgba(135,206,250,0.094597496);\">review</span> <span style=\"background-color:rgba(135,206,250,0.1115075);\">:</span> <span style=\"background-color:rgba(135,206,250,0.22383381);\">germany</span> <span style=\"background-color:rgba(135,206,250,0.16019438);\">:</span> <span style=\"background-color:rgba(135,206,250,0.0668883);\">rheingau</span> <span style=\"background-color:rgba(135,206,250,0.048603628);\">:</span> <span style=\"background-color:rgba(135,206,250,0.06399808);\">riesling</span> <span style=\"background-color:rgba(135,206,250,0.05580397);\">:</span> <span style=\"background-color:rgba(135,206,250,0.015677786);\">a</span> <span style=\"background-color:rgba(135,206,250,0.033899784);\">hint</span> <span style=\"background-color:rgba(135,206,250,0.022360306);\">of</span> <span style=\"background-color:rgba(135,206,250,0.023479002);\">mineral</span> <span style=\"background-color:rgba(135,206,250,0.036045928);\">and</span> <span style=\"background-color:rgba(135,206,250,0.008173704);\">crushed</span> <span style=\"background-color:rgba(135,206,250,0.023872286);\">stone</span> <span style=\"background-color:rgba(135,206,250,0.03350225);\">lend</span> <span style=\"background-color:rgba(135,206,250,0.013037598);\">a</span> <span style=\"background-color:rgba(135,206,250,0.015966617);\">savory</span> <span style=\"background-color:rgba(135,206,250,0.027963338);\">tone</span> <span style=\"background-color:rgba(135,206,250,0.02478705);\">to</span> <span style=\"background-color:rgba(135,206,250,0.045211237);\">this</span> <span style=\"background-color:rgba(135,206,250,0.028080486);\">dry</span> <span style=\"background-color:rgba(135,206,250,0.036254887);\">,</span> <span style=\"background-color:rgba(135,206,250,0.06054765);\">full</span> <span style=\"background-color:rgba(135,206,250,0.022008015);\">-</span> <span style=\"background-color:rgba(135,206,250,0.04084981);\">bodied</span> <span style=\"background-color:rgba(135,206,250,0.08104092);\">wine</span> <span style=\"background-color:rgba(135,206,250,0.2431263);\">.</span> <span style=\"background-color:rgba(135,206,250,0.14030118);\">it</span> <span style=\"background-color:rgba(135,206,250,0.035032365);\">'</span> <span style=\"background-color:rgba(135,206,250,0.09715362);\">s</span> <span style=\"background-color:rgba(135,206,250,0.07480038);\">crisp</span> <span style=\"background-color:rgba(135,206,250,0.15837117);\">and</span> <span style=\"background-color:rgba(135,206,250,0.105032094);\">bright</span> <span style=\"background-color:rgba(135,206,250,0.23691092);\">on</span> <span style=\"background-color:rgba(135,206,250,0.21243335);\">the</span> <span style=\"background-color:rgba(135,206,250,0.5174984);\">palate</span> <span style=\"background-color:rgba(135,206,250,0.47650495);\">,</span> <span style=\"background-color:rgba(135,206,250,1.0);\">with</span> <span style=\"background-color:rgba(135,206,250,0.28995362);\">bright</span> <span style=\"background-color:rgba(135,206,250,0.24526815);\">acidity</span>"
      ],
      "text/plain": [
       "<IPython.core.display.HTML object>"
      ]
     },
     "metadata": {},
     "output_type": "display_data"
    },
    {
     "name": "stdout",
     "output_type": "stream",
     "text": [
      "and:   \t94.44%\n",
      ",:   \t4.01%\n",
      "that:   \t1.05%\n",
      ".:   \t0.38%\n",
      "highlighting:   \t0.07%\n",
      "--------\n",
      "\n"
     ]
    },
    {
     "data": {
      "text/html": [
       "<span style=\"background-color:rgba(135,206,250,0.04250587);\">wine</span> <span style=\"background-color:rgba(135,206,250,0.07648124);\">review</span> <span style=\"background-color:rgba(135,206,250,0.07575146);\">:</span> <span style=\"background-color:rgba(135,206,250,0.1818736);\">germany</span> <span style=\"background-color:rgba(135,206,250,0.074742734);\">:</span> <span style=\"background-color:rgba(135,206,250,0.11941614);\">rheingau</span> <span style=\"background-color:rgba(135,206,250,0.0394281);\">:</span> <span style=\"background-color:rgba(135,206,250,0.14236441);\">riesling</span> <span style=\"background-color:rgba(135,206,250,0.055068593);\">:</span> <span style=\"background-color:rgba(135,206,250,0.018502865);\">a</span> <span style=\"background-color:rgba(135,206,250,0.033866376);\">hint</span> <span style=\"background-color:rgba(135,206,250,0.014706684);\">of</span> <span style=\"background-color:rgba(135,206,250,0.043307856);\">mineral</span> <span style=\"background-color:rgba(135,206,250,0.024460774);\">and</span> <span style=\"background-color:rgba(135,206,250,0.01622198);\">crushed</span> <span style=\"background-color:rgba(135,206,250,0.023882613);\">stone</span> <span style=\"background-color:rgba(135,206,250,0.02089555);\">lend</span> <span style=\"background-color:rgba(135,206,250,0.013828116);\">a</span> <span style=\"background-color:rgba(135,206,250,0.030095922);\">savory</span> <span style=\"background-color:rgba(135,206,250,0.04177937);\">tone</span> <span style=\"background-color:rgba(135,206,250,0.013789145);\">to</span> <span style=\"background-color:rgba(135,206,250,0.025679572);\">this</span> <span style=\"background-color:rgba(135,206,250,0.041211374);\">dry</span> <span style=\"background-color:rgba(135,206,250,0.022116305);\">,</span> <span style=\"background-color:rgba(135,206,250,0.03719498);\">full</span> <span style=\"background-color:rgba(135,206,250,0.016238295);\">-</span> <span style=\"background-color:rgba(135,206,250,0.05555265);\">bodied</span> <span style=\"background-color:rgba(135,206,250,0.033047274);\">wine</span> <span style=\"background-color:rgba(135,206,250,0.08796357);\">.</span> <span style=\"background-color:rgba(135,206,250,0.046112373);\">it</span> <span style=\"background-color:rgba(135,206,250,0.014848652);\">'</span> <span style=\"background-color:rgba(135,206,250,0.041035257);\">s</span> <span style=\"background-color:rgba(135,206,250,0.102001324);\">crisp</span> <span style=\"background-color:rgba(135,206,250,0.04101048);\">and</span> <span style=\"background-color:rgba(135,206,250,0.08370779);\">bright</span> <span style=\"background-color:rgba(135,206,250,0.05579205);\">on</span> <span style=\"background-color:rgba(135,206,250,0.066350445);\">the</span> <span style=\"background-color:rgba(135,206,250,0.1769464);\">palate</span> <span style=\"background-color:rgba(135,206,250,0.2815884);\">,</span> <span style=\"background-color:rgba(135,206,250,0.38096842);\">with</span> <span style=\"background-color:rgba(135,206,250,0.3881451);\">bright</span> <span style=\"background-color:rgba(135,206,250,1.0);\">acidity</span> <span style=\"background-color:rgba(135,206,250,0.24662557);\">and</span>"
      ],
      "text/plain": [
       "<IPython.core.display.HTML object>"
      ]
     },
     "metadata": {},
     "output_type": "display_data"
    },
    {
     "name": "stdout",
     "output_type": "stream",
     "text": [
      "a:   \t99.38%\n",
      "an:   \t0.28%\n",
      "crisp:   \t0.04%\n",
      "citrus:   \t0.04%\n",
      "lemon:   \t0.02%\n",
      "--------\n",
      "\n"
     ]
    },
    {
     "data": {
      "text/html": [
       "<span style=\"background-color:rgba(135,206,250,0.08836939);\">wine</span> <span style=\"background-color:rgba(135,206,250,0.12023862);\">review</span> <span style=\"background-color:rgba(135,206,250,0.12628402);\">:</span> <span style=\"background-color:rgba(135,206,250,0.3358365);\">germany</span> <span style=\"background-color:rgba(135,206,250,0.14077112);\">:</span> <span style=\"background-color:rgba(135,206,250,0.24410601);\">rheingau</span> <span style=\"background-color:rgba(135,206,250,0.06815409);\">:</span> <span style=\"background-color:rgba(135,206,250,0.18131879);\">riesling</span> <span style=\"background-color:rgba(135,206,250,0.09144916);\">:</span> <span style=\"background-color:rgba(135,206,250,0.025647042);\">a</span> <span style=\"background-color:rgba(135,206,250,0.07017675);\">hint</span> <span style=\"background-color:rgba(135,206,250,0.0225752);\">of</span> <span style=\"background-color:rgba(135,206,250,0.08010105);\">mineral</span> <span style=\"background-color:rgba(135,206,250,0.03408088);\">and</span> <span style=\"background-color:rgba(135,206,250,0.026053367);\">crushed</span> <span style=\"background-color:rgba(135,206,250,0.034852065);\">stone</span> <span style=\"background-color:rgba(135,206,250,0.032248177);\">lend</span> <span style=\"background-color:rgba(135,206,250,0.017693106);\">a</span> <span style=\"background-color:rgba(135,206,250,0.0497961);\">savory</span> <span style=\"background-color:rgba(135,206,250,0.064046875);\">tone</span> <span style=\"background-color:rgba(135,206,250,0.019808535);\">to</span> <span style=\"background-color:rgba(135,206,250,0.03220655);\">this</span> <span style=\"background-color:rgba(135,206,250,0.060482714);\">dry</span> <span style=\"background-color:rgba(135,206,250,0.03590026);\">,</span> <span style=\"background-color:rgba(135,206,250,0.055458497);\">full</span> <span style=\"background-color:rgba(135,206,250,0.018448323);\">-</span> <span style=\"background-color:rgba(135,206,250,0.077965975);\">bodied</span> <span style=\"background-color:rgba(135,206,250,0.0687711);\">wine</span> <span style=\"background-color:rgba(135,206,250,0.11416184);\">.</span> <span style=\"background-color:rgba(135,206,250,0.03983642);\">it</span> <span style=\"background-color:rgba(135,206,250,0.020273067);\">'</span> <span style=\"background-color:rgba(135,206,250,0.043870334);\">s</span> <span style=\"background-color:rgba(135,206,250,0.16084817);\">crisp</span> <span style=\"background-color:rgba(135,206,250,0.0631483);\">and</span> <span style=\"background-color:rgba(135,206,250,0.13243581);\">bright</span> <span style=\"background-color:rgba(135,206,250,0.10594617);\">on</span> <span style=\"background-color:rgba(135,206,250,0.08081937);\">the</span> <span style=\"background-color:rgba(135,206,250,0.32034275);\">palate</span> <span style=\"background-color:rgba(135,206,250,0.35066155);\">,</span> <span style=\"background-color:rgba(135,206,250,0.50692314);\">with</span> <span style=\"background-color:rgba(135,206,250,0.45789886);\">bright</span> <span style=\"background-color:rgba(135,206,250,1.0);\">acidity</span> <span style=\"background-color:rgba(135,206,250,0.7228332);\">and</span> <span style=\"background-color:rgba(135,206,250,0.31220552);\">a</span>"
      ],
      "text/plain": [
       "<IPython.core.display.HTML object>"
      ]
     },
     "metadata": {},
     "output_type": "display_data"
    },
    {
     "name": "stdout",
     "output_type": "stream",
     "text": [
      "lingering:   \t36.36%\n",
      "long:   \t33.48%\n",
      "brisk:   \t5.52%\n",
      "touch:   \t3.17%\n",
      "hint:   \t3.13%\n",
      "--------\n",
      "\n"
     ]
    },
    {
     "data": {
      "text/html": [
       "<span style=\"background-color:rgba(135,206,250,0.08879923);\">wine</span> <span style=\"background-color:rgba(135,206,250,0.13987008);\">review</span> <span style=\"background-color:rgba(135,206,250,0.18938813);\">:</span> <span style=\"background-color:rgba(135,206,250,0.22261304);\">germany</span> <span style=\"background-color:rgba(135,206,250,0.20133981);\">:</span> <span style=\"background-color:rgba(135,206,250,0.2163571);\">rheingau</span> <span style=\"background-color:rgba(135,206,250,0.12190409);\">:</span> <span style=\"background-color:rgba(135,206,250,0.24798997);\">riesling</span> <span style=\"background-color:rgba(135,206,250,0.14108504);\">:</span> <span style=\"background-color:rgba(135,206,250,0.036437053);\">a</span> <span style=\"background-color:rgba(135,206,250,0.055426516);\">hint</span> <span style=\"background-color:rgba(135,206,250,0.020167489);\">of</span> <span style=\"background-color:rgba(135,206,250,0.044276737);\">mineral</span> <span style=\"background-color:rgba(135,206,250,0.050054513);\">and</span> <span style=\"background-color:rgba(135,206,250,0.02294752);\">crushed</span> <span style=\"background-color:rgba(135,206,250,0.05205618);\">stone</span> <span style=\"background-color:rgba(135,206,250,0.030442826);\">lend</span> <span style=\"background-color:rgba(135,206,250,0.025972763);\">a</span> <span style=\"background-color:rgba(135,206,250,0.044605885);\">savory</span> <span style=\"background-color:rgba(135,206,250,0.062598355);\">tone</span> <span style=\"background-color:rgba(135,206,250,0.021816846);\">to</span> <span style=\"background-color:rgba(135,206,250,0.03189463);\">this</span> <span style=\"background-color:rgba(135,206,250,0.042503335);\">dry</span> <span style=\"background-color:rgba(135,206,250,0.043369923);\">,</span> <span style=\"background-color:rgba(135,206,250,0.036895983);\">full</span> <span style=\"background-color:rgba(135,206,250,0.013696699);\">-</span> <span style=\"background-color:rgba(135,206,250,0.091656916);\">bodied</span> <span style=\"background-color:rgba(135,206,250,0.06865258);\">wine</span> <span style=\"background-color:rgba(135,206,250,0.122917436);\">.</span> <span style=\"background-color:rgba(135,206,250,0.04270846);\">it</span> <span style=\"background-color:rgba(135,206,250,0.026943047);\">'</span> <span style=\"background-color:rgba(135,206,250,0.07754787);\">s</span> <span style=\"background-color:rgba(135,206,250,0.07747246);\">crisp</span> <span style=\"background-color:rgba(135,206,250,0.07869972);\">and</span> <span style=\"background-color:rgba(135,206,250,0.054209214);\">bright</span> <span style=\"background-color:rgba(135,206,250,0.11337727);\">on</span> <span style=\"background-color:rgba(135,206,250,0.13123433);\">the</span> <span style=\"background-color:rgba(135,206,250,0.29986697);\">palate</span> <span style=\"background-color:rgba(135,206,250,0.18415277);\">,</span> <span style=\"background-color:rgba(135,206,250,0.5167589);\">with</span> <span style=\"background-color:rgba(135,206,250,0.18540947);\">bright</span> <span style=\"background-color:rgba(135,206,250,0.78271174);\">acidity</span> <span style=\"background-color:rgba(135,206,250,0.53288734);\">and</span> <span style=\"background-color:rgba(135,206,250,1.0);\">a</span> <span style=\"background-color:rgba(135,206,250,0.21441175);\">light</span>"
      ],
      "text/plain": [
       "<IPython.core.display.HTML object>"
      ]
     },
     "metadata": {},
     "output_type": "display_data"
    },
    {
     "name": "stdout",
     "output_type": "stream",
     "text": [
      ",:   \t57.15%\n",
      "touch:   \t25.93%\n",
      "dusting:   \t4.3%\n",
      "-:   \t3.98%\n",
      "body:   \t3.78%\n",
      "--------\n",
      "\n"
     ]
    },
    {
     "data": {
      "text/html": [
       "<span style=\"background-color:rgba(135,206,250,0.06485326);\">wine</span> <span style=\"background-color:rgba(135,206,250,0.15390624);\">review</span> <span style=\"background-color:rgba(135,206,250,0.15996626);\">:</span> <span style=\"background-color:rgba(135,206,250,0.25149047);\">germany</span> <span style=\"background-color:rgba(135,206,250,0.15484788);\">:</span> <span style=\"background-color:rgba(135,206,250,0.15414979);\">rheingau</span> <span style=\"background-color:rgba(135,206,250,0.07261559);\">:</span> <span style=\"background-color:rgba(135,206,250,0.13116406);\">riesling</span> <span style=\"background-color:rgba(135,206,250,0.08410793);\">:</span> <span style=\"background-color:rgba(135,206,250,0.028250499);\">a</span> <span style=\"background-color:rgba(135,206,250,0.024882099);\">hint</span> <span style=\"background-color:rgba(135,206,250,0.02659095);\">of</span> <span style=\"background-color:rgba(135,206,250,0.04357645);\">mineral</span> <span style=\"background-color:rgba(135,206,250,0.030896576);\">and</span> <span style=\"background-color:rgba(135,206,250,0.0049342825);\">crushed</span> <span style=\"background-color:rgba(135,206,250,0.029520478);\">stone</span> <span style=\"background-color:rgba(135,206,250,0.04098189);\">lend</span> <span style=\"background-color:rgba(135,206,250,0.017839605);\">a</span> <span style=\"background-color:rgba(135,206,250,0.027680306);\">savory</span> <span style=\"background-color:rgba(135,206,250,0.028000543);\">tone</span> <span style=\"background-color:rgba(135,206,250,0.02120185);\">to</span> <span style=\"background-color:rgba(135,206,250,0.024965245);\">this</span> <span style=\"background-color:rgba(135,206,250,0.028567769);\">dry</span> <span style=\"background-color:rgba(135,206,250,0.040016416);\">,</span> <span style=\"background-color:rgba(135,206,250,0.044200953);\">full</span> <span style=\"background-color:rgba(135,206,250,0.014712865);\">-</span> <span style=\"background-color:rgba(135,206,250,0.041309297);\">bodied</span> <span style=\"background-color:rgba(135,206,250,0.043906163);\">wine</span> <span style=\"background-color:rgba(135,206,250,0.15080315);\">.</span> <span style=\"background-color:rgba(135,206,250,0.07321426);\">it</span> <span style=\"background-color:rgba(135,206,250,0.0148962885);\">'</span> <span style=\"background-color:rgba(135,206,250,0.05155997);\">s</span> <span style=\"background-color:rgba(135,206,250,0.056518666);\">crisp</span> <span style=\"background-color:rgba(135,206,250,0.071342185);\">and</span> <span style=\"background-color:rgba(135,206,250,0.07441035);\">bright</span> <span style=\"background-color:rgba(135,206,250,0.063142285);\">on</span> <span style=\"background-color:rgba(135,206,250,0.07960095);\">the</span> <span style=\"background-color:rgba(135,206,250,0.1807012);\">palate</span> <span style=\"background-color:rgba(135,206,250,0.18441913);\">,</span> <span style=\"background-color:rgba(135,206,250,0.47452712);\">with</span> <span style=\"background-color:rgba(135,206,250,0.19540522);\">bright</span> <span style=\"background-color:rgba(135,206,250,0.36024144);\">acidity</span> <span style=\"background-color:rgba(135,206,250,0.52231497);\">and</span> <span style=\"background-color:rgba(135,206,250,0.337336);\">a</span> <span style=\"background-color:rgba(135,206,250,1.0);\">light</span> <span style=\"background-color:rgba(135,206,250,0.24348006);\">touch</span>"
      ],
      "text/plain": [
       "<IPython.core.display.HTML object>"
      ]
     },
     "metadata": {},
     "output_type": "display_data"
    },
    {
     "name": "stdout",
     "output_type": "stream",
     "text": [
      "of:   \t99.9%\n",
      ".:   \t0.04%\n",
      "to:   \t0.04%\n",
      ",:   \t0.01%\n",
      "that:   \t0.0%\n",
      "--------\n",
      "\n"
     ]
    },
    {
     "data": {
      "text/html": [
       "<span style=\"background-color:rgba(135,206,250,0.09424206);\">wine</span> <span style=\"background-color:rgba(135,206,250,0.17366023);\">review</span> <span style=\"background-color:rgba(135,206,250,0.1976902);\">:</span> <span style=\"background-color:rgba(135,206,250,0.48370913);\">germany</span> <span style=\"background-color:rgba(135,206,250,0.157336);\">:</span> <span style=\"background-color:rgba(135,206,250,0.27224174);\">rheingau</span> <span style=\"background-color:rgba(135,206,250,0.1235091);\">:</span> <span style=\"background-color:rgba(135,206,250,0.4418455);\">riesling</span> <span style=\"background-color:rgba(135,206,250,0.12888625);\">:</span> <span style=\"background-color:rgba(135,206,250,0.049983203);\">a</span> <span style=\"background-color:rgba(135,206,250,0.057576027);\">hint</span> <span style=\"background-color:rgba(135,206,250,0.021597702);\">of</span> <span style=\"background-color:rgba(135,206,250,0.09185643);\">mineral</span> <span style=\"background-color:rgba(135,206,250,0.0545154);\">and</span> <span style=\"background-color:rgba(135,206,250,0.02595905);\">crushed</span> <span style=\"background-color:rgba(135,206,250,0.060924806);\">stone</span> <span style=\"background-color:rgba(135,206,250,0.046464298);\">lend</span> <span style=\"background-color:rgba(135,206,250,0.032904364);\">a</span> <span style=\"background-color:rgba(135,206,250,0.07782989);\">savory</span> <span style=\"background-color:rgba(135,206,250,0.05855164);\">tone</span> <span style=\"background-color:rgba(135,206,250,0.025575409);\">to</span> <span style=\"background-color:rgba(135,206,250,0.05178051);\">this</span> <span style=\"background-color:rgba(135,206,250,0.072840445);\">dry</span> <span style=\"background-color:rgba(135,206,250,0.057638377);\">,</span> <span style=\"background-color:rgba(135,206,250,0.030460864);\">full</span> <span style=\"background-color:rgba(135,206,250,0.031735063);\">-</span> <span style=\"background-color:rgba(135,206,250,0.092014745);\">bodied</span> <span style=\"background-color:rgba(135,206,250,0.07466878);\">wine</span> <span style=\"background-color:rgba(135,206,250,0.15189174);\">.</span> <span style=\"background-color:rgba(135,206,250,0.06517103);\">it</span> <span style=\"background-color:rgba(135,206,250,0.028482426);\">'</span> <span style=\"background-color:rgba(135,206,250,0.065012604);\">s</span> <span style=\"background-color:rgba(135,206,250,0.149539);\">crisp</span> <span style=\"background-color:rgba(135,206,250,0.09096402);\">and</span> <span style=\"background-color:rgba(135,206,250,0.13810991);\">bright</span> <span style=\"background-color:rgba(135,206,250,0.087720424);\">on</span> <span style=\"background-color:rgba(135,206,250,0.10258742);\">the</span> <span style=\"background-color:rgba(135,206,250,0.30883664);\">palate</span> <span style=\"background-color:rgba(135,206,250,0.24095549);\">,</span> <span style=\"background-color:rgba(135,206,250,0.30969054);\">with</span> <span style=\"background-color:rgba(135,206,250,0.49837685);\">bright</span> <span style=\"background-color:rgba(135,206,250,0.6818896);\">acidity</span> <span style=\"background-color:rgba(135,206,250,0.46845785);\">and</span> <span style=\"background-color:rgba(135,206,250,0.5861638);\">a</span> <span style=\"background-color:rgba(135,206,250,0.9768238);\">light</span> <span style=\"background-color:rgba(135,206,250,1.0);\">touch</span> <span style=\"background-color:rgba(135,206,250,0.5012754);\">of</span>"
      ],
      "text/plain": [
       "<IPython.core.display.HTML object>"
      ]
     },
     "metadata": {},
     "output_type": "display_data"
    },
    {
     "name": "stdout",
     "output_type": "stream",
     "text": [
      "lemon:   \t19.89%\n",
      "citrus:   \t17.37%\n",
      "honey:   \t13.81%\n",
      "sweetness:   \t12.94%\n",
      "minerality:   \t11.1%\n",
      "--------\n",
      "\n"
     ]
    },
    {
     "data": {
      "text/html": [
       "<span style=\"background-color:rgba(135,206,250,0.127339);\">wine</span> <span style=\"background-color:rgba(135,206,250,0.25062332);\">review</span> <span style=\"background-color:rgba(135,206,250,0.3337662);\">:</span> <span style=\"background-color:rgba(135,206,250,0.5560206);\">germany</span> <span style=\"background-color:rgba(135,206,250,0.3525698);\">:</span> <span style=\"background-color:rgba(135,206,250,0.12237928);\">rheingau</span> <span style=\"background-color:rgba(135,206,250,0.1822498);\">:</span> <span style=\"background-color:rgba(135,206,250,0.3830048);\">riesling</span> <span style=\"background-color:rgba(135,206,250,0.20349273);\">:</span> <span style=\"background-color:rgba(135,206,250,0.133909);\">a</span> <span style=\"background-color:rgba(135,206,250,0.08763257);\">hint</span> <span style=\"background-color:rgba(135,206,250,0.031774998);\">of</span> <span style=\"background-color:rgba(135,206,250,0.03607286);\">mineral</span> <span style=\"background-color:rgba(135,206,250,0.12049177);\">and</span> <span style=\"background-color:rgba(135,206,250,0.09347301);\">crushed</span> <span style=\"background-color:rgba(135,206,250,0.051648505);\">stone</span> <span style=\"background-color:rgba(135,206,250,0.08282395);\">lend</span> <span style=\"background-color:rgba(135,206,250,0.075250156);\">a</span> <span style=\"background-color:rgba(135,206,250,0.057724852);\">savory</span> <span style=\"background-color:rgba(135,206,250,0.04500934);\">tone</span> <span style=\"background-color:rgba(135,206,250,0.056728672);\">to</span> <span style=\"background-color:rgba(135,206,250,0.05742607);\">this</span> <span style=\"background-color:rgba(135,206,250,0.039369185);\">dry</span> <span style=\"background-color:rgba(135,206,250,0.05714279);\">,</span> <span style=\"background-color:rgba(135,206,250,0.039227724);\">full</span> <span style=\"background-color:rgba(135,206,250,0.024744224);\">-</span> <span style=\"background-color:rgba(135,206,250,0.04855638);\">bodied</span> <span style=\"background-color:rgba(135,206,250,0.099583626);\">wine</span> <span style=\"background-color:rgba(135,206,250,0.15397736);\">.</span> <span style=\"background-color:rgba(135,206,250,0.09621475);\">it</span> <span style=\"background-color:rgba(135,206,250,0.02119957);\">'</span> <span style=\"background-color:rgba(135,206,250,0.11473957);\">s</span> <span style=\"background-color:rgba(135,206,250,0.07826861);\">crisp</span> <span style=\"background-color:rgba(135,206,250,0.14829692);\">and</span> <span style=\"background-color:rgba(135,206,250,0.11660234);\">bright</span> <span style=\"background-color:rgba(135,206,250,0.13090527);\">on</span> <span style=\"background-color:rgba(135,206,250,0.11115793);\">the</span> <span style=\"background-color:rgba(135,206,250,0.3251858);\">palate</span> <span style=\"background-color:rgba(135,206,250,0.23537417);\">,</span> <span style=\"background-color:rgba(135,206,250,0.37466887);\">with</span> <span style=\"background-color:rgba(135,206,250,0.31043917);\">bright</span> <span style=\"background-color:rgba(135,206,250,0.46149668);\">acidity</span> <span style=\"background-color:rgba(135,206,250,0.51389503);\">and</span> <span style=\"background-color:rgba(135,206,250,0.66236556);\">a</span> <span style=\"background-color:rgba(135,206,250,0.41847616);\">light</span> <span style=\"background-color:rgba(135,206,250,0.6471899);\">touch</span> <span style=\"background-color:rgba(135,206,250,1.0);\">of</span> <span style=\"background-color:rgba(135,206,250,0.29336867);\">white</span>"
      ],
      "text/plain": [
       "<IPython.core.display.HTML object>"
      ]
     },
     "metadata": {},
     "output_type": "display_data"
    },
    {
     "name": "stdout",
     "output_type": "stream",
     "text": [
      "peach:   \t74.44%\n",
      "grapefruit:   \t21.87%\n",
      "cherry:   \t1.38%\n",
      "pepper:   \t0.74%\n",
      "fruit:   \t0.59%\n",
      "--------\n",
      "\n"
     ]
    },
    {
     "data": {
      "text/html": [
       "<span style=\"background-color:rgba(135,206,250,0.078949235);\">wine</span> <span style=\"background-color:rgba(135,206,250,0.1321695);\">review</span> <span style=\"background-color:rgba(135,206,250,0.12242707);\">:</span> <span style=\"background-color:rgba(135,206,250,0.4464682);\">germany</span> <span style=\"background-color:rgba(135,206,250,0.25064588);\">:</span> <span style=\"background-color:rgba(135,206,250,0.12443034);\">rheingau</span> <span style=\"background-color:rgba(135,206,250,0.071181856);\">:</span> <span style=\"background-color:rgba(135,206,250,0.06779028);\">riesling</span> <span style=\"background-color:rgba(135,206,250,0.073498525);\">:</span> <span style=\"background-color:rgba(135,206,250,0.03514931);\">a</span> <span style=\"background-color:rgba(135,206,250,0.06320047);\">hint</span> <span style=\"background-color:rgba(135,206,250,0.04584624);\">of</span> <span style=\"background-color:rgba(135,206,250,0.03259135);\">mineral</span> <span style=\"background-color:rgba(135,206,250,0.03604869);\">and</span> <span style=\"background-color:rgba(135,206,250,0.016509116);\">crushed</span> <span style=\"background-color:rgba(135,206,250,0.017789368);\">stone</span> <span style=\"background-color:rgba(135,206,250,0.038133815);\">lend</span> <span style=\"background-color:rgba(135,206,250,0.028744143);\">a</span> <span style=\"background-color:rgba(135,206,250,0.027620664);\">savory</span> <span style=\"background-color:rgba(135,206,250,0.070740536);\">tone</span> <span style=\"background-color:rgba(135,206,250,0.036921006);\">to</span> <span style=\"background-color:rgba(135,206,250,0.03852427);\">this</span> <span style=\"background-color:rgba(135,206,250,0.04568515);\">dry</span> <span style=\"background-color:rgba(135,206,250,0.03453709);\">,</span> <span style=\"background-color:rgba(135,206,250,0.059527114);\">full</span> <span style=\"background-color:rgba(135,206,250,0.025689004);\">-</span> <span style=\"background-color:rgba(135,206,250,0.04989655);\">bodied</span> <span style=\"background-color:rgba(135,206,250,0.06423494);\">wine</span> <span style=\"background-color:rgba(135,206,250,0.15411596);\">.</span> <span style=\"background-color:rgba(135,206,250,0.07258859);\">it</span> <span style=\"background-color:rgba(135,206,250,0.030245898);\">'</span> <span style=\"background-color:rgba(135,206,250,0.072705016);\">s</span> <span style=\"background-color:rgba(135,206,250,0.05846952);\">crisp</span> <span style=\"background-color:rgba(135,206,250,0.07938237);\">and</span> <span style=\"background-color:rgba(135,206,250,0.06675676);\">bright</span> <span style=\"background-color:rgba(135,206,250,0.09544169);\">on</span> <span style=\"background-color:rgba(135,206,250,0.09440412);\">the</span> <span style=\"background-color:rgba(135,206,250,0.2625309);\">palate</span> <span style=\"background-color:rgba(135,206,250,0.14207132);\">,</span> <span style=\"background-color:rgba(135,206,250,0.35594803);\">with</span> <span style=\"background-color:rgba(135,206,250,0.14269686);\">bright</span> <span style=\"background-color:rgba(135,206,250,0.455667);\">acidity</span> <span style=\"background-color:rgba(135,206,250,0.36299965);\">and</span> <span style=\"background-color:rgba(135,206,250,0.54272515);\">a</span> <span style=\"background-color:rgba(135,206,250,0.45783466);\">light</span> <span style=\"background-color:rgba(135,206,250,0.6312377);\">touch</span> <span style=\"background-color:rgba(135,206,250,1.0);\">of</span> <span style=\"background-color:rgba(135,206,250,0.48740175);\">white</span> <span style=\"background-color:rgba(135,206,250,0.39204243);\">peach</span>"
      ],
      "text/plain": [
       "<IPython.core.display.HTML object>"
      ]
     },
     "metadata": {},
     "output_type": "display_data"
    },
    {
     "name": "stdout",
     "output_type": "stream",
     "text": [
      "and:   \t97.72%\n",
      ".:   \t1.56%\n",
      ",:   \t0.65%\n",
      "flavor:   \t0.04%\n",
      "flavors:   \t0.02%\n",
      "--------\n",
      "\n"
     ]
    },
    {
     "data": {
      "text/html": [
       "<span style=\"background-color:rgba(135,206,250,0.034021124);\">wine</span> <span style=\"background-color:rgba(135,206,250,0.056336988);\">review</span> <span style=\"background-color:rgba(135,206,250,0.06721229);\">:</span> <span style=\"background-color:rgba(135,206,250,0.16982442);\">germany</span> <span style=\"background-color:rgba(135,206,250,0.06955617);\">:</span> <span style=\"background-color:rgba(135,206,250,0.10776184);\">rheingau</span> <span style=\"background-color:rgba(135,206,250,0.0363475);\">:</span> <span style=\"background-color:rgba(135,206,250,0.12616494);\">riesling</span> <span style=\"background-color:rgba(135,206,250,0.04790647);\">:</span> <span style=\"background-color:rgba(135,206,250,0.016591094);\">a</span> <span style=\"background-color:rgba(135,206,250,0.028371373);\">hint</span> <span style=\"background-color:rgba(135,206,250,0.012596004);\">of</span> <span style=\"background-color:rgba(135,206,250,0.03707733);\">mineral</span> <span style=\"background-color:rgba(135,206,250,0.022550473);\">and</span> <span style=\"background-color:rgba(135,206,250,0.013478626);\">crushed</span> <span style=\"background-color:rgba(135,206,250,0.018701721);\">stone</span> <span style=\"background-color:rgba(135,206,250,0.014928781);\">lend</span> <span style=\"background-color:rgba(135,206,250,0.012441939);\">a</span> <span style=\"background-color:rgba(135,206,250,0.025598934);\">savory</span> <span style=\"background-color:rgba(135,206,250,0.036771018);\">tone</span> <span style=\"background-color:rgba(135,206,250,0.01055);\">to</span> <span style=\"background-color:rgba(135,206,250,0.020058274);\">this</span> <span style=\"background-color:rgba(135,206,250,0.03221791);\">dry</span> <span style=\"background-color:rgba(135,206,250,0.016157499);\">,</span> <span style=\"background-color:rgba(135,206,250,0.0258426);\">full</span> <span style=\"background-color:rgba(135,206,250,0.01099802);\">-</span> <span style=\"background-color:rgba(135,206,250,0.042797815);\">bodied</span> <span style=\"background-color:rgba(135,206,250,0.022076102);\">wine</span> <span style=\"background-color:rgba(135,206,250,0.058131415);\">.</span> <span style=\"background-color:rgba(135,206,250,0.02945931);\">it</span> <span style=\"background-color:rgba(135,206,250,0.010348791);\">'</span> <span style=\"background-color:rgba(135,206,250,0.027213508);\">s</span> <span style=\"background-color:rgba(135,206,250,0.06798349);\">crisp</span> <span style=\"background-color:rgba(135,206,250,0.030132435);\">and</span> <span style=\"background-color:rgba(135,206,250,0.04505081);\">bright</span> <span style=\"background-color:rgba(135,206,250,0.026119605);\">on</span> <span style=\"background-color:rgba(135,206,250,0.018241946);\">the</span> <span style=\"background-color:rgba(135,206,250,0.07210692);\">palate</span> <span style=\"background-color:rgba(135,206,250,0.03474706);\">,</span> <span style=\"background-color:rgba(135,206,250,0.049239438);\">with</span> <span style=\"background-color:rgba(135,206,250,0.06556118);\">bright</span> <span style=\"background-color:rgba(135,206,250,0.11044846);\">acidity</span> <span style=\"background-color:rgba(135,206,250,0.045144353);\">and</span> <span style=\"background-color:rgba(135,206,250,0.063995);\">a</span> <span style=\"background-color:rgba(135,206,250,0.16966486);\">light</span> <span style=\"background-color:rgba(135,206,250,0.15315892);\">touch</span> <span style=\"background-color:rgba(135,206,250,0.18505758);\">of</span> <span style=\"background-color:rgba(135,206,250,0.48758686);\">white</span> <span style=\"background-color:rgba(135,206,250,1.0);\">peach</span> <span style=\"background-color:rgba(135,206,250,0.21762785);\">and</span>"
      ],
      "text/plain": [
       "<IPython.core.display.HTML object>"
      ]
     },
     "metadata": {},
     "output_type": "display_data"
    },
    {
     "name": "stdout",
     "output_type": "stream",
     "text": [
      "melon:   \t22.34%\n",
      "nectarine:   \t14.41%\n",
      "citrus:   \t11.32%\n",
      "apple:   \t11.21%\n",
      "apricot:   \t10.42%\n",
      "--------\n",
      "\n"
     ]
    },
    {
     "data": {
      "text/html": [
       "<span style=\"background-color:rgba(135,206,250,0.07488774);\">wine</span> <span style=\"background-color:rgba(135,206,250,0.1354834);\">review</span> <span style=\"background-color:rgba(135,206,250,0.11975841);\">:</span> <span style=\"background-color:rgba(135,206,250,0.3125793);\">germany</span> <span style=\"background-color:rgba(135,206,250,0.23349977);\">:</span> <span style=\"background-color:rgba(135,206,250,0.058701918);\">rheingau</span> <span style=\"background-color:rgba(135,206,250,0.068954386);\">:</span> <span style=\"background-color:rgba(135,206,250,0.049702156);\">riesling</span> <span style=\"background-color:rgba(135,206,250,0.062462613);\">:</span> <span style=\"background-color:rgba(135,206,250,0.033616293);\">a</span> <span style=\"background-color:rgba(135,206,250,0.04688192);\">hint</span> <span style=\"background-color:rgba(135,206,250,0.040112186);\">of</span> <span style=\"background-color:rgba(135,206,250,0.014626715);\">mineral</span> <span style=\"background-color:rgba(135,206,250,0.035856616);\">and</span> <span style=\"background-color:rgba(135,206,250,0.0087293135);\">crushed</span> <span style=\"background-color:rgba(135,206,250,0.018358432);\">stone</span> <span style=\"background-color:rgba(135,206,250,0.03162232);\">lend</span> <span style=\"background-color:rgba(135,206,250,0.030406136);\">a</span> <span style=\"background-color:rgba(135,206,250,0.014950748);\">savory</span> <span style=\"background-color:rgba(135,206,250,0.027682396);\">tone</span> <span style=\"background-color:rgba(135,206,250,0.03106348);\">to</span> <span style=\"background-color:rgba(135,206,250,0.029683754);\">this</span> <span style=\"background-color:rgba(135,206,250,0.022486996);\">dry</span> <span style=\"background-color:rgba(135,206,250,0.020433802);\">,</span> <span style=\"background-color:rgba(135,206,250,0.023052612);\">full</span> <span style=\"background-color:rgba(135,206,250,0.01260348);\">-</span> <span style=\"background-color:rgba(135,206,250,0.025571465);\">bodied</span> <span style=\"background-color:rgba(135,206,250,0.04066595);\">wine</span> <span style=\"background-color:rgba(135,206,250,0.09815945);\">.</span> <span style=\"background-color:rgba(135,206,250,0.057423636);\">it</span> <span style=\"background-color:rgba(135,206,250,0.014830763);\">'</span> <span style=\"background-color:rgba(135,206,250,0.042696986);\">s</span> <span style=\"background-color:rgba(135,206,250,0.027545841);\">crisp</span> <span style=\"background-color:rgba(135,206,250,0.056658555);\">and</span> <span style=\"background-color:rgba(135,206,250,0.03301977);\">bright</span> <span style=\"background-color:rgba(135,206,250,0.05227425);\">on</span> <span style=\"background-color:rgba(135,206,250,0.06251175);\">the</span> <span style=\"background-color:rgba(135,206,250,0.16109714);\">palate</span> <span style=\"background-color:rgba(135,206,250,0.091277786);\">,</span> <span style=\"background-color:rgba(135,206,250,0.18900953);\">with</span> <span style=\"background-color:rgba(135,206,250,0.06872896);\">bright</span> <span style=\"background-color:rgba(135,206,250,0.2797634);\">acidity</span> <span style=\"background-color:rgba(135,206,250,0.17556319);\">and</span> <span style=\"background-color:rgba(135,206,250,0.33205923);\">a</span> <span style=\"background-color:rgba(135,206,250,0.18404922);\">light</span> <span style=\"background-color:rgba(135,206,250,0.32673594);\">touch</span> <span style=\"background-color:rgba(135,206,250,0.48671564);\">of</span> <span style=\"background-color:rgba(135,206,250,0.24800994);\">white</span> <span style=\"background-color:rgba(135,206,250,0.29173058);\">peach</span> <span style=\"background-color:rgba(135,206,250,1.0);\">and</span> <span style=\"background-color:rgba(135,206,250,0.22104679);\">nectarine</span>"
      ],
      "text/plain": [
       "<IPython.core.display.HTML object>"
      ]
     },
     "metadata": {},
     "output_type": "display_data"
    },
    {
     "name": "stdout",
     "output_type": "stream",
     "text": [
      "flavors:   \t98.84%\n",
      ".:   \t0.92%\n",
      "flavor:   \t0.07%\n",
      "notes:   \t0.06%\n",
      "fruit:   \t0.05%\n",
      "--------\n",
      "\n"
     ]
    },
    {
     "data": {
      "text/html": [
       "<span style=\"background-color:rgba(135,206,250,0.07969904);\">wine</span> <span style=\"background-color:rgba(135,206,250,0.1711542);\">review</span> <span style=\"background-color:rgba(135,206,250,0.17363131);\">:</span> <span style=\"background-color:rgba(135,206,250,0.35217026);\">germany</span> <span style=\"background-color:rgba(135,206,250,0.30004352);\">:</span> <span style=\"background-color:rgba(135,206,250,0.11868317);\">rheingau</span> <span style=\"background-color:rgba(135,206,250,0.08128953);\">:</span> <span style=\"background-color:rgba(135,206,250,0.06825802);\">riesling</span> <span style=\"background-color:rgba(135,206,250,0.08151096);\">:</span> <span style=\"background-color:rgba(135,206,250,0.033237882);\">a</span> <span style=\"background-color:rgba(135,206,250,0.0704427);\">hint</span> <span style=\"background-color:rgba(135,206,250,0.03795005);\">of</span> <span style=\"background-color:rgba(135,206,250,0.04136578);\">mineral</span> <span style=\"background-color:rgba(135,206,250,0.038129363);\">and</span> <span style=\"background-color:rgba(135,206,250,0.011298928);\">crushed</span> <span style=\"background-color:rgba(135,206,250,0.030524354);\">stone</span> <span style=\"background-color:rgba(135,206,250,0.07709973);\">lend</span> <span style=\"background-color:rgba(135,206,250,0.023995724);\">a</span> <span style=\"background-color:rgba(135,206,250,0.019403374);\">savory</span> <span style=\"background-color:rgba(135,206,250,0.062140636);\">tone</span> <span style=\"background-color:rgba(135,206,250,0.028565748);\">to</span> <span style=\"background-color:rgba(135,206,250,0.052088227);\">this</span> <span style=\"background-color:rgba(135,206,250,0.0320606);\">dry</span> <span style=\"background-color:rgba(135,206,250,0.043250185);\">,</span> <span style=\"background-color:rgba(135,206,250,0.07859203);\">full</span> <span style=\"background-color:rgba(135,206,250,0.02261446);\">-</span> <span style=\"background-color:rgba(135,206,250,0.037984893);\">bodied</span> <span style=\"background-color:rgba(135,206,250,0.06305154);\">wine</span> <span style=\"background-color:rgba(135,206,250,0.21673433);\">.</span> <span style=\"background-color:rgba(135,206,250,0.078107834);\">it</span> <span style=\"background-color:rgba(135,206,250,0.039654043);\">'</span> <span style=\"background-color:rgba(135,206,250,0.076763734);\">s</span> <span style=\"background-color:rgba(135,206,250,0.07179087);\">crisp</span> <span style=\"background-color:rgba(135,206,250,0.08069551);\">and</span> <span style=\"background-color:rgba(135,206,250,0.06757572);\">bright</span> <span style=\"background-color:rgba(135,206,250,0.10141263);\">on</span> <span style=\"background-color:rgba(135,206,250,0.107479684);\">the</span> <span style=\"background-color:rgba(135,206,250,0.22799608);\">palate</span> <span style=\"background-color:rgba(135,206,250,0.17605673);\">,</span> <span style=\"background-color:rgba(135,206,250,0.427228);\">with</span> <span style=\"background-color:rgba(135,206,250,0.11436404);\">bright</span> <span style=\"background-color:rgba(135,206,250,0.28750512);\">acidity</span> <span style=\"background-color:rgba(135,206,250,0.22225034);\">and</span> <span style=\"background-color:rgba(135,206,250,0.24208215);\">a</span> <span style=\"background-color:rgba(135,206,250,0.1877165);\">light</span> <span style=\"background-color:rgba(135,206,250,0.51015127);\">touch</span> <span style=\"background-color:rgba(135,206,250,0.7158715);\">of</span> <span style=\"background-color:rgba(135,206,250,0.23462671);\">white</span> <span style=\"background-color:rgba(135,206,250,0.60615855);\">peach</span> <span style=\"background-color:rgba(135,206,250,1.0);\">and</span> <span style=\"background-color:rgba(135,206,250,0.8899423);\">nectarine</span> <span style=\"background-color:rgba(135,206,250,0.6794785);\">flavors</span>"
      ],
      "text/plain": [
       "<IPython.core.display.HTML object>"
      ]
     },
     "metadata": {},
     "output_type": "display_data"
    },
    {
     "name": "stdout",
     "output_type": "stream",
     "text": [
      ".:   \t97.38%\n",
      ",:   \t1.4%\n",
      "that:   \t1.21%\n",
      "on:   \t0.01%\n",
      "finish:   \t0.0%\n",
      "--------\n",
      "\n"
     ]
    },
    {
     "data": {
      "text/html": [
       "<span style=\"background-color:rgba(135,206,250,0.08850567);\">wine</span> <span style=\"background-color:rgba(135,206,250,0.1388027);\">review</span> <span style=\"background-color:rgba(135,206,250,0.63420105);\">:</span> <span style=\"background-color:rgba(135,206,250,1.0);\">germany</span> <span style=\"background-color:rgba(135,206,250,0.7784879);\">:</span> <span style=\"background-color:rgba(135,206,250,0.42125598);\">rheingau</span> <span style=\"background-color:rgba(135,206,250,0.42558852);\">:</span> <span style=\"background-color:rgba(135,206,250,0.38785353);\">riesling</span> <span style=\"background-color:rgba(135,206,250,0.18526573);\">:</span> <span style=\"background-color:rgba(135,206,250,0.048421368);\">a</span> <span style=\"background-color:rgba(135,206,250,0.06693869);\">hint</span> <span style=\"background-color:rgba(135,206,250,0.04096152);\">of</span> <span style=\"background-color:rgba(135,206,250,0.084092855);\">mineral</span> <span style=\"background-color:rgba(135,206,250,0.061020788);\">and</span> <span style=\"background-color:rgba(135,206,250,0.017425494);\">crushed</span> <span style=\"background-color:rgba(135,206,250,0.043599136);\">stone</span> <span style=\"background-color:rgba(135,206,250,0.053652875);\">lend</span> <span style=\"background-color:rgba(135,206,250,0.032893904);\">a</span> <span style=\"background-color:rgba(135,206,250,0.047797974);\">savory</span> <span style=\"background-color:rgba(135,206,250,0.07504338);\">tone</span> <span style=\"background-color:rgba(135,206,250,0.0326469);\">to</span> <span style=\"background-color:rgba(135,206,250,0.07666664);\">this</span> <span style=\"background-color:rgba(135,206,250,0.06242257);\">dry</span> <span style=\"background-color:rgba(135,206,250,0.04675146);\">,</span> <span style=\"background-color:rgba(135,206,250,0.047286082);\">full</span> <span style=\"background-color:rgba(135,206,250,0.021975322);\">-</span> <span style=\"background-color:rgba(135,206,250,0.086295225);\">bodied</span> <span style=\"background-color:rgba(135,206,250,0.07034492);\">wine</span> <span style=\"background-color:rgba(135,206,250,0.117577724);\">.</span> <span style=\"background-color:rgba(135,206,250,0.06710921);\">it</span> <span style=\"background-color:rgba(135,206,250,0.021161027);\">'</span> <span style=\"background-color:rgba(135,206,250,0.054313663);\">s</span> <span style=\"background-color:rgba(135,206,250,0.112140246);\">crisp</span> <span style=\"background-color:rgba(135,206,250,0.06849014);\">and</span> <span style=\"background-color:rgba(135,206,250,0.08190832);\">bright</span> <span style=\"background-color:rgba(135,206,250,0.05157779);\">on</span> <span style=\"background-color:rgba(135,206,250,0.046146482);\">the</span> <span style=\"background-color:rgba(135,206,250,0.17023425);\">palate</span> <span style=\"background-color:rgba(135,206,250,0.09133057);\">,</span> <span style=\"background-color:rgba(135,206,250,0.11679805);\">with</span> <span style=\"background-color:rgba(135,206,250,0.106301196);\">bright</span> <span style=\"background-color:rgba(135,206,250,0.19275272);\">acidity</span> <span style=\"background-color:rgba(135,206,250,0.12057784);\">and</span> <span style=\"background-color:rgba(135,206,250,0.090419404);\">a</span> <span style=\"background-color:rgba(135,206,250,0.11818463);\">light</span> <span style=\"background-color:rgba(135,206,250,0.09225174);\">touch</span> <span style=\"background-color:rgba(135,206,250,0.10780971);\">of</span> <span style=\"background-color:rgba(135,206,250,0.13156545);\">white</span> <span style=\"background-color:rgba(135,206,250,0.26986343);\">peach</span> <span style=\"background-color:rgba(135,206,250,0.23599766);\">and</span> <span style=\"background-color:rgba(135,206,250,0.39104408);\">nectarine</span> <span style=\"background-color:rgba(135,206,250,0.5523052);\">flavors</span> <span style=\"background-color:rgba(135,206,250,0.6107602);\">.</span>"
      ],
      "text/plain": [
       "<IPython.core.display.HTML object>"
      ]
     },
     "metadata": {},
     "output_type": "display_data"
    },
    {
     "name": "stdout",
     "output_type": "stream",
     "text": [
      "drink:   \t43.42%\n",
      "it:   \t23.32%\n",
      ":   \t20.59%\n",
      "finishes:   \t9.64%\n",
      "the:   \t2.48%\n",
      "--------\n",
      "\n"
     ]
    },
    {
     "data": {
      "text/html": [
       "<span style=\"background-color:rgba(135,206,250,0.03240949);\">wine</span> <span style=\"background-color:rgba(135,206,250,0.046247624);\">review</span> <span style=\"background-color:rgba(135,206,250,0.09224566);\">:</span> <span style=\"background-color:rgba(135,206,250,0.17727607);\">germany</span> <span style=\"background-color:rgba(135,206,250,0.07576008);\">:</span> <span style=\"background-color:rgba(135,206,250,0.14136058);\">rheingau</span> <span style=\"background-color:rgba(135,206,250,0.050804332);\">:</span> <span style=\"background-color:rgba(135,206,250,0.08064187);\">riesling</span> <span style=\"background-color:rgba(135,206,250,0.051670916);\">:</span> <span style=\"background-color:rgba(135,206,250,0.026585335);\">a</span> <span style=\"background-color:rgba(135,206,250,0.047686078);\">hint</span> <span style=\"background-color:rgba(135,206,250,0.019269455);\">of</span> <span style=\"background-color:rgba(135,206,250,0.028852116);\">mineral</span> <span style=\"background-color:rgba(135,206,250,0.028421517);\">and</span> <span style=\"background-color:rgba(135,206,250,0.03123891);\">crushed</span> <span style=\"background-color:rgba(135,206,250,0.015325817);\">stone</span> <span style=\"background-color:rgba(135,206,250,0.018504964);\">lend</span> <span style=\"background-color:rgba(135,206,250,0.019282773);\">a</span> <span style=\"background-color:rgba(135,206,250,0.027350606);\">savory</span> <span style=\"background-color:rgba(135,206,250,0.078499004);\">tone</span> <span style=\"background-color:rgba(135,206,250,0.013140034);\">to</span> <span style=\"background-color:rgba(135,206,250,0.02242849);\">this</span> <span style=\"background-color:rgba(135,206,250,0.036365308);\">dry</span> <span style=\"background-color:rgba(135,206,250,0.020961845);\">,</span> <span style=\"background-color:rgba(135,206,250,0.016806964);\">full</span> <span style=\"background-color:rgba(135,206,250,0.009211624);\">-</span> <span style=\"background-color:rgba(135,206,250,0.036876764);\">bodied</span> <span style=\"background-color:rgba(135,206,250,0.02112268);\">wine</span> <span style=\"background-color:rgba(135,206,250,0.041694824);\">.</span> <span style=\"background-color:rgba(135,206,250,0.019681262);\">it</span> <span style=\"background-color:rgba(135,206,250,0.020986928);\">'</span> <span style=\"background-color:rgba(135,206,250,0.04053875);\">s</span> <span style=\"background-color:rgba(135,206,250,0.041830216);\">crisp</span> <span style=\"background-color:rgba(135,206,250,0.02814647);\">and</span> <span style=\"background-color:rgba(135,206,250,0.020586811);\">bright</span> <span style=\"background-color:rgba(135,206,250,0.01888895);\">on</span> <span style=\"background-color:rgba(135,206,250,0.023732059);\">the</span> <span style=\"background-color:rgba(135,206,250,0.037584916);\">palate</span> <span style=\"background-color:rgba(135,206,250,0.04213972);\">,</span> <span style=\"background-color:rgba(135,206,250,0.048620123);\">with</span> <span style=\"background-color:rgba(135,206,250,0.029866816);\">bright</span> <span style=\"background-color:rgba(135,206,250,0.06512422);\">acidity</span> <span style=\"background-color:rgba(135,206,250,0.054976944);\">and</span> <span style=\"background-color:rgba(135,206,250,0.054408826);\">a</span> <span style=\"background-color:rgba(135,206,250,0.09244089);\">light</span> <span style=\"background-color:rgba(135,206,250,0.06814326);\">touch</span> <span style=\"background-color:rgba(135,206,250,0.09036244);\">of</span> <span style=\"background-color:rgba(135,206,250,0.078906715);\">white</span> <span style=\"background-color:rgba(135,206,250,0.0778922);\">peach</span> <span style=\"background-color:rgba(135,206,250,0.21892351);\">and</span> <span style=\"background-color:rgba(135,206,250,0.17601416);\">nectarine</span> <span style=\"background-color:rgba(135,206,250,0.3321948);\">flavors</span> <span style=\"background-color:rgba(135,206,250,1.0);\">.</span> <span style=\"background-color:rgba(135,206,250,0.23947226);\">drink</span>"
      ],
      "text/plain": [
       "<IPython.core.display.HTML object>"
      ]
     },
     "metadata": {},
     "output_type": "display_data"
    },
    {
     "name": "stdout",
     "output_type": "stream",
     "text": [
      "now:   \t99.95%\n",
      "it:   \t0.03%\n",
      "up:   \t0.01%\n",
      "now–2017:   \t0.0%\n",
      "soon:   \t0.0%\n",
      "--------\n",
      "\n"
     ]
    },
    {
     "data": {
      "text/html": [
       "<span style=\"background-color:rgba(135,206,250,0.05569273);\">wine</span> <span style=\"background-color:rgba(135,206,250,0.06614318);\">review</span> <span style=\"background-color:rgba(135,206,250,0.08318995);\">:</span> <span style=\"background-color:rgba(135,206,250,0.12976806);\">germany</span> <span style=\"background-color:rgba(135,206,250,0.087877244);\">:</span> <span style=\"background-color:rgba(135,206,250,0.16899721);\">rheingau</span> <span style=\"background-color:rgba(135,206,250,0.059591077);\">:</span> <span style=\"background-color:rgba(135,206,250,0.058770522);\">riesling</span> <span style=\"background-color:rgba(135,206,250,0.07712375);\">:</span> <span style=\"background-color:rgba(135,206,250,0.026420262);\">a</span> <span style=\"background-color:rgba(135,206,250,0.05091102);\">hint</span> <span style=\"background-color:rgba(135,206,250,0.015596391);\">of</span> <span style=\"background-color:rgba(135,206,250,0.041261006);\">mineral</span> <span style=\"background-color:rgba(135,206,250,0.025640411);\">and</span> <span style=\"background-color:rgba(135,206,250,0.005639545);\">crushed</span> <span style=\"background-color:rgba(135,206,250,0.015496841);\">stone</span> <span style=\"background-color:rgba(135,206,250,0.0069579636);\">lend</span> <span style=\"background-color:rgba(135,206,250,0.016508853);\">a</span> <span style=\"background-color:rgba(135,206,250,0.030393166);\">savory</span> <span style=\"background-color:rgba(135,206,250,0.057270586);\">tone</span> <span style=\"background-color:rgba(135,206,250,0.017718643);\">to</span> <span style=\"background-color:rgba(135,206,250,0.013726074);\">this</span> <span style=\"background-color:rgba(135,206,250,0.019749684);\">dry</span> <span style=\"background-color:rgba(135,206,250,0.01709959);\">,</span> <span style=\"background-color:rgba(135,206,250,0.024964511);\">full</span> <span style=\"background-color:rgba(135,206,250,0.0062378347);\">-</span> <span style=\"background-color:rgba(135,206,250,0.0199111);\">bodied</span> <span style=\"background-color:rgba(135,206,250,0.0214276);\">wine</span> <span style=\"background-color:rgba(135,206,250,0.052670073);\">.</span> <span style=\"background-color:rgba(135,206,250,0.025138637);\">it</span> <span style=\"background-color:rgba(135,206,250,0.0110330405);\">'</span> <span style=\"background-color:rgba(135,206,250,0.02577227);\">s</span> <span style=\"background-color:rgba(135,206,250,0.047461513);\">crisp</span> <span style=\"background-color:rgba(135,206,250,0.025888922);\">and</span> <span style=\"background-color:rgba(135,206,250,0.038974006);\">bright</span> <span style=\"background-color:rgba(135,206,250,0.012185244);\">on</span> <span style=\"background-color:rgba(135,206,250,0.018007344);\">the</span> <span style=\"background-color:rgba(135,206,250,0.03529574);\">palate</span> <span style=\"background-color:rgba(135,206,250,0.028498005);\">,</span> <span style=\"background-color:rgba(135,206,250,0.038483303);\">with</span> <span style=\"background-color:rgba(135,206,250,0.048279375);\">bright</span> <span style=\"background-color:rgba(135,206,250,0.019226162);\">acidity</span> <span style=\"background-color:rgba(135,206,250,0.03791066);\">and</span> <span style=\"background-color:rgba(135,206,250,0.03367173);\">a</span> <span style=\"background-color:rgba(135,206,250,0.052709084);\">light</span> <span style=\"background-color:rgba(135,206,250,0.050783884);\">touch</span> <span style=\"background-color:rgba(135,206,250,0.05861351);\">of</span> <span style=\"background-color:rgba(135,206,250,0.049331553);\">white</span> <span style=\"background-color:rgba(135,206,250,0.062405437);\">peach</span> <span style=\"background-color:rgba(135,206,250,0.09800163);\">and</span> <span style=\"background-color:rgba(135,206,250,0.11385627);\">nectarine</span> <span style=\"background-color:rgba(135,206,250,0.18510637);\">flavors</span> <span style=\"background-color:rgba(135,206,250,0.697416);\">.</span> <span style=\"background-color:rgba(135,206,250,1.0);\">drink</span> <span style=\"background-color:rgba(135,206,250,0.13701642);\">now</span>"
      ],
      "text/plain": [
       "<IPython.core.display.HTML object>"
      ]
     },
     "metadata": {},
     "output_type": "display_data"
    },
    {
     "name": "stdout",
     "output_type": "stream",
     "text": [
      ".:   \t76.18%\n",
      "through:   \t23.44%\n",
      "and:   \t0.14%\n",
      "for:   \t0.09%\n",
      "to:   \t0.05%\n",
      "--------\n",
      "\n"
     ]
    },
    {
     "data": {
      "text/html": [
       "<span style=\"background-color:rgba(135,206,250,0.11345626);\">wine</span> <span style=\"background-color:rgba(135,206,250,0.17043188);\">review</span> <span style=\"background-color:rgba(135,206,250,0.60099214);\">:</span> <span style=\"background-color:rgba(135,206,250,0.9281684);\">germany</span> <span style=\"background-color:rgba(135,206,250,0.70662767);\">:</span> <span style=\"background-color:rgba(135,206,250,0.44201234);\">rheingau</span> <span style=\"background-color:rgba(135,206,250,0.49808034);\">:</span> <span style=\"background-color:rgba(135,206,250,0.45224);\">riesling</span> <span style=\"background-color:rgba(135,206,250,0.22587825);\">:</span> <span style=\"background-color:rgba(135,206,250,0.06376052);\">a</span> <span style=\"background-color:rgba(135,206,250,0.086762145);\">hint</span> <span style=\"background-color:rgba(135,206,250,0.051344465);\">of</span> <span style=\"background-color:rgba(135,206,250,0.09389681);\">mineral</span> <span style=\"background-color:rgba(135,206,250,0.070542835);\">and</span> <span style=\"background-color:rgba(135,206,250,0.02003827);\">crushed</span> <span style=\"background-color:rgba(135,206,250,0.050783508);\">stone</span> <span style=\"background-color:rgba(135,206,250,0.0612589);\">lend</span> <span style=\"background-color:rgba(135,206,250,0.040378973);\">a</span> <span style=\"background-color:rgba(135,206,250,0.052108835);\">savory</span> <span style=\"background-color:rgba(135,206,250,0.07957861);\">tone</span> <span style=\"background-color:rgba(135,206,250,0.03748967);\">to</span> <span style=\"background-color:rgba(135,206,250,0.07247211);\">this</span> <span style=\"background-color:rgba(135,206,250,0.059036467);\">dry</span> <span style=\"background-color:rgba(135,206,250,0.050128937);\">,</span> <span style=\"background-color:rgba(135,206,250,0.048145473);\">full</span> <span style=\"background-color:rgba(135,206,250,0.023127444);\">-</span> <span style=\"background-color:rgba(135,206,250,0.07317257);\">bodied</span> <span style=\"background-color:rgba(135,206,250,0.07258104);\">wine</span> <span style=\"background-color:rgba(135,206,250,0.104722805);\">.</span> <span style=\"background-color:rgba(135,206,250,0.063028604);\">it</span> <span style=\"background-color:rgba(135,206,250,0.020138001);\">'</span> <span style=\"background-color:rgba(135,206,250,0.047298107);\">s</span> <span style=\"background-color:rgba(135,206,250,0.094264194);\">crisp</span> <span style=\"background-color:rgba(135,206,250,0.06292412);\">and</span> <span style=\"background-color:rgba(135,206,250,0.06944379);\">bright</span> <span style=\"background-color:rgba(135,206,250,0.043317378);\">on</span> <span style=\"background-color:rgba(135,206,250,0.046490338);\">the</span> <span style=\"background-color:rgba(135,206,250,0.16507824);\">palate</span> <span style=\"background-color:rgba(135,206,250,0.08529443);\">,</span> <span style=\"background-color:rgba(135,206,250,0.10187063);\">with</span> <span style=\"background-color:rgba(135,206,250,0.08761846);\">bright</span> <span style=\"background-color:rgba(135,206,250,0.17817217);\">acidity</span> <span style=\"background-color:rgba(135,206,250,0.101219);\">and</span> <span style=\"background-color:rgba(135,206,250,0.078349344);\">a</span> <span style=\"background-color:rgba(135,206,250,0.10143163);\">light</span> <span style=\"background-color:rgba(135,206,250,0.07966977);\">touch</span> <span style=\"background-color:rgba(135,206,250,0.084006004);\">of</span> <span style=\"background-color:rgba(135,206,250,0.098674886);\">white</span> <span style=\"background-color:rgba(135,206,250,0.18598574);\">peach</span> <span style=\"background-color:rgba(135,206,250,0.1679462);\">and</span> <span style=\"background-color:rgba(135,206,250,0.2570653);\">nectarine</span> <span style=\"background-color:rgba(135,206,250,0.40401384);\">flavors</span> <span style=\"background-color:rgba(135,206,250,0.4063691);\">.</span> <span style=\"background-color:rgba(135,206,250,0.8196956);\">drink</span> <span style=\"background-color:rgba(135,206,250,1.0);\">now</span> <span style=\"background-color:rgba(135,206,250,0.5602953);\">.</span>"
      ],
      "text/plain": [
       "<IPython.core.display.HTML object>"
      ]
     },
     "metadata": {},
     "output_type": "display_data"
    },
    {
     "name": "stdout",
     "output_type": "stream",
     "text": [
      ":   \t100.0%\n",
      "drink:   \t0.0%\n",
      "it:   \t0.0%\n",
      "the:   \t0.0%\n",
      "enjoy:   \t0.0%\n",
      "--------\n",
      "\n"
     ]
    }
   ],
   "source": [
    "info = text_generator.generate(\n",
    "    \"wine review : germany\", max_tokens=80, temperature=0.5\n",
    ")\n",
    "print_probs(info, vocab)"
   ]
  },
  {
   "cell_type": "code",
   "execution_count": 34,
   "id": "fcc7a7c0-6c64-47d3-acee-96e48f025e01",
   "metadata": {},
   "outputs": [
    {
     "name": "stdout",
     "output_type": "stream",
     "text": [
      "\n",
      "generated text:\n",
      "wine review : france : bordeaux : bordeaux - style red blend : this is a ripe , fruity wine that has attractive black - currant flavors and a soft texture . the tannins are cushioned by the rich texture of the wine , giving a wine that is already delicious . drink from 2017 . \n",
      "\n"
     ]
    },
    {
     "data": {
      "text/html": [
       "<span style=\"background-color:rgba(135,206,250,1.0);\">wine</span> <span style=\"background-color:rgba(135,206,250,0.91441536);\">review</span> <span style=\"background-color:rgba(135,206,250,0.68485475);\">:</span> <span style=\"background-color:rgba(135,206,250,0.3520445);\">france</span>"
      ],
      "text/plain": [
       "<IPython.core.display.HTML object>"
      ]
     },
     "metadata": {},
     "output_type": "display_data"
    },
    {
     "name": "stdout",
     "output_type": "stream",
     "text": [
      "::   \t100.0%\n",
      "grosso:   \t0.0%\n",
      ",:   \t0.0%\n",
      "other:   \t0.0%\n",
      "and:   \t0.0%\n",
      "--------\n",
      "\n"
     ]
    },
    {
     "data": {
      "text/html": [
       "<span style=\"background-color:rgba(135,206,250,0.4087869);\">wine</span> <span style=\"background-color:rgba(135,206,250,0.4009094);\">review</span> <span style=\"background-color:rgba(135,206,250,0.55972284);\">:</span> <span style=\"background-color:rgba(135,206,250,1.0);\">france</span> <span style=\"background-color:rgba(135,206,250,0.37905625);\">:</span>"
      ],
      "text/plain": [
       "<IPython.core.display.HTML object>"
      ]
     },
     "metadata": {},
     "output_type": "display_data"
    },
    {
     "name": "stdout",
     "output_type": "stream",
     "text": [
      "alsace:   \t55.36%\n",
      "bordeaux:   \t24.58%\n",
      "burgundy:   \t9.27%\n",
      "loire:   \t3.17%\n",
      "southwest:   \t2.77%\n",
      "--------\n",
      "\n"
     ]
    },
    {
     "data": {
      "text/html": [
       "<span style=\"background-color:rgba(135,206,250,0.7625353);\">wine</span> <span style=\"background-color:rgba(135,206,250,1.0);\">review</span> <span style=\"background-color:rgba(135,206,250,0.55819607);\">:</span> <span style=\"background-color:rgba(135,206,250,0.28609443);\">france</span> <span style=\"background-color:rgba(135,206,250,0.4842106);\">:</span> <span style=\"background-color:rgba(135,206,250,0.12407868);\">bordeaux</span>"
      ],
      "text/plain": [
       "<IPython.core.display.HTML object>"
      ]
     },
     "metadata": {},
     "output_type": "display_data"
    },
    {
     "name": "stdout",
     "output_type": "stream",
     "text": [
      "::   \t100.0%\n",
      "-:   \t0.0%\n",
      ".:   \t0.0%\n",
      ",:   \t0.0%\n",
      "other:   \t0.0%\n",
      "--------\n",
      "\n"
     ]
    },
    {
     "data": {
      "text/html": [
       "<span style=\"background-color:rgba(135,206,250,0.65633714);\">wine</span> <span style=\"background-color:rgba(135,206,250,0.78674346);\">review</span> <span style=\"background-color:rgba(135,206,250,0.5154035);\">:</span> <span style=\"background-color:rgba(135,206,250,0.53182214);\">france</span> <span style=\"background-color:rgba(135,206,250,0.33140942);\">:</span> <span style=\"background-color:rgba(135,206,250,1.0);\">bordeaux</span> <span style=\"background-color:rgba(135,206,250,0.38079163);\">:</span>"
      ],
      "text/plain": [
       "<IPython.core.display.HTML object>"
      ]
     },
     "metadata": {},
     "output_type": "display_data"
    },
    {
     "name": "stdout",
     "output_type": "stream",
     "text": [
      "bordeaux:   \t98.32%\n",
      "rosé:   \t1.57%\n",
      "merlot:   \t0.06%\n",
      "sauvignon:   \t0.03%\n",
      "cabernet:   \t0.01%\n",
      "--------\n",
      "\n"
     ]
    },
    {
     "data": {
      "text/html": [
       "<span style=\"background-color:rgba(135,206,250,0.9177008);\">wine</span> <span style=\"background-color:rgba(135,206,250,1.0);\">review</span> <span style=\"background-color:rgba(135,206,250,0.36682898);\">:</span> <span style=\"background-color:rgba(135,206,250,0.13629317);\">france</span> <span style=\"background-color:rgba(135,206,250,0.24323364);\">:</span> <span style=\"background-color:rgba(135,206,250,0.12800026);\">bordeaux</span> <span style=\"background-color:rgba(135,206,250,0.45020613);\">:</span> <span style=\"background-color:rgba(135,206,250,0.16008995);\">bordeaux</span>"
      ],
      "text/plain": [
       "<IPython.core.display.HTML object>"
      ]
     },
     "metadata": {},
     "output_type": "display_data"
    },
    {
     "name": "stdout",
     "output_type": "stream",
     "text": [
      "-:   \t100.0%\n",
      "::   \t0.0%\n",
      "blend:   \t0.0%\n",
      "white:   \t0.0%\n",
      "red:   \t0.0%\n",
      "--------\n",
      "\n"
     ]
    },
    {
     "data": {
      "text/html": [
       "<span style=\"background-color:rgba(135,206,250,0.59587705);\">wine</span> <span style=\"background-color:rgba(135,206,250,0.46942353);\">review</span> <span style=\"background-color:rgba(135,206,250,0.36502552);\">:</span> <span style=\"background-color:rgba(135,206,250,0.32019818);\">france</span> <span style=\"background-color:rgba(135,206,250,0.38330308);\">:</span> <span style=\"background-color:rgba(135,206,250,0.39454028);\">bordeaux</span> <span style=\"background-color:rgba(135,206,250,0.25684693);\">:</span> <span style=\"background-color:rgba(135,206,250,1.0);\">bordeaux</span> <span style=\"background-color:rgba(135,206,250,0.14974596);\">-</span>"
      ],
      "text/plain": [
       "<IPython.core.display.HTML object>"
      ]
     },
     "metadata": {},
     "output_type": "display_data"
    },
    {
     "name": "stdout",
     "output_type": "stream",
     "text": [
      "style:   \t100.0%\n",
      "blend:   \t0.0%\n",
      "bordeaux:   \t0.0%\n",
      "[UNK]:   \t0.0%\n",
      "wine:   \t0.0%\n",
      "--------\n",
      "\n"
     ]
    },
    {
     "data": {
      "text/html": [
       "<span style=\"background-color:rgba(135,206,250,0.9043128);\">wine</span> <span style=\"background-color:rgba(135,206,250,1.0);\">review</span> <span style=\"background-color:rgba(135,206,250,0.3168773);\">:</span> <span style=\"background-color:rgba(135,206,250,0.1831518);\">france</span> <span style=\"background-color:rgba(135,206,250,0.23795176);\">:</span> <span style=\"background-color:rgba(135,206,250,0.1698302);\">bordeaux</span> <span style=\"background-color:rgba(135,206,250,0.30499718);\">:</span> <span style=\"background-color:rgba(135,206,250,0.16717951);\">bordeaux</span> <span style=\"background-color:rgba(135,206,250,0.41992864);\">-</span> <span style=\"background-color:rgba(135,206,250,0.20632243);\">style</span>"
      ],
      "text/plain": [
       "<IPython.core.display.HTML object>"
      ]
     },
     "metadata": {},
     "output_type": "display_data"
    },
    {
     "name": "stdout",
     "output_type": "stream",
     "text": [
      "red:   \t98.28%\n",
      "white:   \t1.72%\n",
      "of:   \t0.0%\n",
      "black:   \t0.0%\n",
      "[UNK]:   \t0.0%\n",
      "--------\n",
      "\n"
     ]
    },
    {
     "data": {
      "text/html": [
       "<span style=\"background-color:rgba(135,206,250,0.76393586);\">wine</span> <span style=\"background-color:rgba(135,206,250,1.0);\">review</span> <span style=\"background-color:rgba(135,206,250,0.29441807);\">:</span> <span style=\"background-color:rgba(135,206,250,0.18544178);\">france</span> <span style=\"background-color:rgba(135,206,250,0.2100341);\">:</span> <span style=\"background-color:rgba(135,206,250,0.08962176);\">bordeaux</span> <span style=\"background-color:rgba(135,206,250,0.28812882);\">:</span> <span style=\"background-color:rgba(135,206,250,0.12247535);\">bordeaux</span> <span style=\"background-color:rgba(135,206,250,0.26715916);\">-</span> <span style=\"background-color:rgba(135,206,250,0.69056994);\">style</span> <span style=\"background-color:rgba(135,206,250,0.15507844);\">red</span>"
      ],
      "text/plain": [
       "<IPython.core.display.HTML object>"
      ]
     },
     "metadata": {},
     "output_type": "display_data"
    },
    {
     "name": "stdout",
     "output_type": "stream",
     "text": [
      "blend:   \t100.0%\n",
      "::   \t0.0%\n",
      "-:   \t0.0%\n",
      "wine:   \t0.0%\n",
      "sauvignon:   \t0.0%\n",
      "--------\n",
      "\n"
     ]
    },
    {
     "data": {
      "text/html": [
       "<span style=\"background-color:rgba(135,206,250,0.6220993);\">wine</span> <span style=\"background-color:rgba(135,206,250,1.0);\">review</span> <span style=\"background-color:rgba(135,206,250,0.21090817);\">:</span> <span style=\"background-color:rgba(135,206,250,0.123319);\">france</span> <span style=\"background-color:rgba(135,206,250,0.16818412);\">:</span> <span style=\"background-color:rgba(135,206,250,0.14274798);\">bordeaux</span> <span style=\"background-color:rgba(135,206,250,0.16041839);\">:</span> <span style=\"background-color:rgba(135,206,250,0.096580766);\">bordeaux</span> <span style=\"background-color:rgba(135,206,250,0.12259998);\">-</span> <span style=\"background-color:rgba(135,206,250,0.13391018);\">style</span> <span style=\"background-color:rgba(135,206,250,0.3599439);\">red</span> <span style=\"background-color:rgba(135,206,250,0.1109555);\">blend</span>"
      ],
      "text/plain": [
       "<IPython.core.display.HTML object>"
      ]
     },
     "metadata": {},
     "output_type": "display_data"
    },
    {
     "name": "stdout",
     "output_type": "stream",
     "text": [
      "::   \t100.0%\n",
      "(:   \t0.0%\n",
      "grosso:   \t0.0%\n",
      "-:   \t0.0%\n",
      ",:   \t0.0%\n",
      "--------\n",
      "\n"
     ]
    },
    {
     "data": {
      "text/html": [
       "<span style=\"background-color:rgba(135,206,250,0.66436046);\">wine</span> <span style=\"background-color:rgba(135,206,250,1.0);\">review</span> <span style=\"background-color:rgba(135,206,250,0.47226036);\">:</span> <span style=\"background-color:rgba(135,206,250,0.41311684);\">france</span> <span style=\"background-color:rgba(135,206,250,0.31492957);\">:</span> <span style=\"background-color:rgba(135,206,250,0.36521986);\">bordeaux</span> <span style=\"background-color:rgba(135,206,250,0.34229827);\">:</span> <span style=\"background-color:rgba(135,206,250,0.20411101);\">bordeaux</span> <span style=\"background-color:rgba(135,206,250,0.2723617);\">-</span> <span style=\"background-color:rgba(135,206,250,0.38092193);\">style</span> <span style=\"background-color:rgba(135,206,250,0.336642);\">red</span> <span style=\"background-color:rgba(135,206,250,0.5897235);\">blend</span> <span style=\"background-color:rgba(135,206,250,0.7129172);\">:</span>"
      ],
      "text/plain": [
       "<IPython.core.display.HTML object>"
      ]
     },
     "metadata": {},
     "output_type": "display_data"
    },
    {
     "name": "stdout",
     "output_type": "stream",
     "text": [
      "this:   \t54.06%\n",
      "a:   \t26.2%\n",
      "the:   \t14.51%\n",
      "with:   \t1.23%\n",
      "87:   \t0.61%\n",
      "--------\n",
      "\n"
     ]
    },
    {
     "data": {
      "text/html": [
       "<span style=\"background-color:rgba(135,206,250,0.7323057);\">wine</span> <span style=\"background-color:rgba(135,206,250,1.0);\">review</span> <span style=\"background-color:rgba(135,206,250,0.6356909);\">:</span> <span style=\"background-color:rgba(135,206,250,0.4439323);\">france</span> <span style=\"background-color:rgba(135,206,250,0.39913636);\">:</span> <span style=\"background-color:rgba(135,206,250,0.27199537);\">bordeaux</span> <span style=\"background-color:rgba(135,206,250,0.27260992);\">:</span> <span style=\"background-color:rgba(135,206,250,0.18620132);\">bordeaux</span> <span style=\"background-color:rgba(135,206,250,0.45052493);\">-</span> <span style=\"background-color:rgba(135,206,250,0.30661318);\">style</span> <span style=\"background-color:rgba(135,206,250,0.262951);\">red</span> <span style=\"background-color:rgba(135,206,250,0.43212843);\">blend</span> <span style=\"background-color:rgba(135,206,250,0.6613786);\">:</span> <span style=\"background-color:rgba(135,206,250,0.256909);\">this</span>"
      ],
      "text/plain": [
       "<IPython.core.display.HTML object>"
      ]
     },
     "metadata": {},
     "output_type": "display_data"
    },
    {
     "name": "stdout",
     "output_type": "stream",
     "text": [
      "is:   \t87.71%\n",
      "wine:   \t11.36%\n",
      "has:   \t0.3%\n",
      "blend:   \t0.29%\n",
      "ripe:   \t0.19%\n",
      "--------\n",
      "\n"
     ]
    },
    {
     "data": {
      "text/html": [
       "<span style=\"background-color:rgba(135,206,250,0.64975715);\">wine</span> <span style=\"background-color:rgba(135,206,250,1.0);\">review</span> <span style=\"background-color:rgba(135,206,250,0.66230136);\">:</span> <span style=\"background-color:rgba(135,206,250,0.53750837);\">france</span> <span style=\"background-color:rgba(135,206,250,0.51822263);\">:</span> <span style=\"background-color:rgba(135,206,250,0.26474372);\">bordeaux</span> <span style=\"background-color:rgba(135,206,250,0.34755048);\">:</span> <span style=\"background-color:rgba(135,206,250,0.15378474);\">bordeaux</span> <span style=\"background-color:rgba(135,206,250,0.3244832);\">-</span> <span style=\"background-color:rgba(135,206,250,0.26648897);\">style</span> <span style=\"background-color:rgba(135,206,250,0.3139553);\">red</span> <span style=\"background-color:rgba(135,206,250,0.5863103);\">blend</span> <span style=\"background-color:rgba(135,206,250,0.87111455);\">:</span> <span style=\"background-color:rgba(135,206,250,0.78991336);\">this</span> <span style=\"background-color:rgba(135,206,250,0.30175415);\">is</span>"
      ],
      "text/plain": [
       "<IPython.core.display.HTML object>"
      ]
     },
     "metadata": {},
     "output_type": "display_data"
    },
    {
     "name": "stdout",
     "output_type": "stream",
     "text": [
      "a:   \t98.63%\n",
      "an:   \t1.08%\n",
      "the:   \t0.19%\n",
      "ripe:   \t0.04%\n",
      "rich:   \t0.02%\n",
      "--------\n",
      "\n"
     ]
    },
    {
     "data": {
      "text/html": [
       "<span style=\"background-color:rgba(135,206,250,0.94338953);\">wine</span> <span style=\"background-color:rgba(135,206,250,0.9078152);\">review</span> <span style=\"background-color:rgba(135,206,250,0.52594024);\">:</span> <span style=\"background-color:rgba(135,206,250,0.6243668);\">france</span> <span style=\"background-color:rgba(135,206,250,0.45187843);\">:</span> <span style=\"background-color:rgba(135,206,250,0.33593038);\">bordeaux</span> <span style=\"background-color:rgba(135,206,250,0.28766754);\">:</span> <span style=\"background-color:rgba(135,206,250,0.26061216);\">bordeaux</span> <span style=\"background-color:rgba(135,206,250,0.32202175);\">-</span> <span style=\"background-color:rgba(135,206,250,0.3208297);\">style</span> <span style=\"background-color:rgba(135,206,250,0.32539275);\">red</span> <span style=\"background-color:rgba(135,206,250,0.4766632);\">blend</span> <span style=\"background-color:rgba(135,206,250,0.6923565);\">:</span> <span style=\"background-color:rgba(135,206,250,0.95187175);\">this</span> <span style=\"background-color:rgba(135,206,250,1.0);\">is</span> <span style=\"background-color:rgba(135,206,250,0.50608426);\">a</span>"
      ],
      "text/plain": [
       "<IPython.core.display.HTML object>"
      ]
     },
     "metadata": {},
     "output_type": "display_data"
    },
    {
     "name": "stdout",
     "output_type": "stream",
     "text": [
      "ripe:   \t47.19%\n",
      "wine:   \t16.17%\n",
      "rich:   \t13.83%\n",
      "structured:   \t4.51%\n",
      "dense:   \t2.27%\n",
      "--------\n",
      "\n"
     ]
    },
    {
     "data": {
      "text/html": [
       "<span style=\"background-color:rgba(135,206,250,0.52508587);\">wine</span> <span style=\"background-color:rgba(135,206,250,0.54808205);\">review</span> <span style=\"background-color:rgba(135,206,250,0.29217365);\">:</span> <span style=\"background-color:rgba(135,206,250,0.3975965);\">france</span> <span style=\"background-color:rgba(135,206,250,0.2851508);\">:</span> <span style=\"background-color:rgba(135,206,250,0.17578371);\">bordeaux</span> <span style=\"background-color:rgba(135,206,250,0.19619979);\">:</span> <span style=\"background-color:rgba(135,206,250,0.10877382);\">bordeaux</span> <span style=\"background-color:rgba(135,206,250,0.15194772);\">-</span> <span style=\"background-color:rgba(135,206,250,0.20892704);\">style</span> <span style=\"background-color:rgba(135,206,250,0.26494503);\">red</span> <span style=\"background-color:rgba(135,206,250,0.1754726);\">blend</span> <span style=\"background-color:rgba(135,206,250,0.3941474);\">:</span> <span style=\"background-color:rgba(135,206,250,0.7121577);\">this</span> <span style=\"background-color:rgba(135,206,250,0.69211775);\">is</span> <span style=\"background-color:rgba(135,206,250,1.0);\">a</span> <span style=\"background-color:rgba(135,206,250,0.22540362);\">ripe</span>"
      ],
      "text/plain": [
       "<IPython.core.display.HTML object>"
      ]
     },
     "metadata": {},
     "output_type": "display_data"
    },
    {
     "name": "stdout",
     "output_type": "stream",
     "text": [
      ",:   \t72.46%\n",
      "and:   \t19.84%\n",
      "wine:   \t7.69%\n",
      "fruity:   \t0.0%\n",
      "while:   \t0.0%\n",
      "--------\n",
      "\n"
     ]
    },
    {
     "data": {
      "text/html": [
       "<span style=\"background-color:rgba(135,206,250,0.39352083);\">wine</span> <span style=\"background-color:rgba(135,206,250,0.6277833);\">review</span> <span style=\"background-color:rgba(135,206,250,0.27398658);\">:</span> <span style=\"background-color:rgba(135,206,250,0.3388598);\">france</span> <span style=\"background-color:rgba(135,206,250,0.23698807);\">:</span> <span style=\"background-color:rgba(135,206,250,0.14483558);\">bordeaux</span> <span style=\"background-color:rgba(135,206,250,0.1806807);\">:</span> <span style=\"background-color:rgba(135,206,250,0.1198522);\">bordeaux</span> <span style=\"background-color:rgba(135,206,250,0.17830803);\">-</span> <span style=\"background-color:rgba(135,206,250,0.19135116);\">style</span> <span style=\"background-color:rgba(135,206,250,0.1613013);\">red</span> <span style=\"background-color:rgba(135,206,250,0.20577516);\">blend</span> <span style=\"background-color:rgba(135,206,250,0.31770378);\">:</span> <span style=\"background-color:rgba(135,206,250,0.50654715);\">this</span> <span style=\"background-color:rgba(135,206,250,0.740075);\">is</span> <span style=\"background-color:rgba(135,206,250,0.5866537);\">a</span> <span style=\"background-color:rgba(135,206,250,1.0);\">ripe</span> <span style=\"background-color:rgba(135,206,250,0.45004407);\">,</span>"
      ],
      "text/plain": [
       "<IPython.core.display.HTML object>"
      ]
     },
     "metadata": {},
     "output_type": "display_data"
    },
    {
     "name": "stdout",
     "output_type": "stream",
     "text": [
      "fruity:   \t49.94%\n",
      "rich:   \t11.85%\n",
      "juicy:   \t8.66%\n",
      "full:   \t7.22%\n",
      "smooth:   \t3.32%\n",
      "--------\n",
      "\n"
     ]
    },
    {
     "data": {
      "text/html": [
       "<span style=\"background-color:rgba(135,206,250,0.6129988);\">wine</span> <span style=\"background-color:rgba(135,206,250,0.7770656);\">review</span> <span style=\"background-color:rgba(135,206,250,0.3299018);\">:</span> <span style=\"background-color:rgba(135,206,250,0.47649845);\">france</span> <span style=\"background-color:rgba(135,206,250,0.37394476);\">:</span> <span style=\"background-color:rgba(135,206,250,0.258954);\">bordeaux</span> <span style=\"background-color:rgba(135,206,250,0.2395726);\">:</span> <span style=\"background-color:rgba(135,206,250,0.19383915);\">bordeaux</span> <span style=\"background-color:rgba(135,206,250,0.2179229);\">-</span> <span style=\"background-color:rgba(135,206,250,0.26709867);\">style</span> <span style=\"background-color:rgba(135,206,250,0.19932245);\">red</span> <span style=\"background-color:rgba(135,206,250,0.27921033);\">blend</span> <span style=\"background-color:rgba(135,206,250,0.3348915);\">:</span> <span style=\"background-color:rgba(135,206,250,0.6041054);\">this</span> <span style=\"background-color:rgba(135,206,250,0.75999534);\">is</span> <span style=\"background-color:rgba(135,206,250,0.7772295);\">a</span> <span style=\"background-color:rgba(135,206,250,0.45023835);\">ripe</span> <span style=\"background-color:rgba(135,206,250,1.0);\">,</span> <span style=\"background-color:rgba(135,206,250,0.33614922);\">fruity</span>"
      ],
      "text/plain": [
       "<IPython.core.display.HTML object>"
      ]
     },
     "metadata": {},
     "output_type": "display_data"
    },
    {
     "name": "stdout",
     "output_type": "stream",
     "text": [
      "wine:   \t97.56%\n",
      "and:   \t2.13%\n",
      ",:   \t0.3%\n",
      "style:   \t0.0%\n",
      "blend:   \t0.0%\n",
      "--------\n",
      "\n"
     ]
    },
    {
     "data": {
      "text/html": [
       "<span style=\"background-color:rgba(135,206,250,0.3978104);\">wine</span> <span style=\"background-color:rgba(135,206,250,1.0);\">review</span> <span style=\"background-color:rgba(135,206,250,0.36568663);\">:</span> <span style=\"background-color:rgba(135,206,250,0.39612103);\">france</span> <span style=\"background-color:rgba(135,206,250,0.34465435);\">:</span> <span style=\"background-color:rgba(135,206,250,0.17340429);\">bordeaux</span> <span style=\"background-color:rgba(135,206,250,0.2420768);\">:</span> <span style=\"background-color:rgba(135,206,250,0.118623205);\">bordeaux</span> <span style=\"background-color:rgba(135,206,250,0.14151508);\">-</span> <span style=\"background-color:rgba(135,206,250,0.15073559);\">style</span> <span style=\"background-color:rgba(135,206,250,0.08852357);\">red</span> <span style=\"background-color:rgba(135,206,250,0.22356938);\">blend</span> <span style=\"background-color:rgba(135,206,250,0.34679407);\">:</span> <span style=\"background-color:rgba(135,206,250,0.3747472);\">this</span> <span style=\"background-color:rgba(135,206,250,0.56003636);\">is</span> <span style=\"background-color:rgba(135,206,250,0.5573585);\">a</span> <span style=\"background-color:rgba(135,206,250,0.3394781);\">ripe</span> <span style=\"background-color:rgba(135,206,250,0.7936908);\">,</span> <span style=\"background-color:rgba(135,206,250,0.4680463);\">fruity</span> <span style=\"background-color:rgba(135,206,250,0.47378805);\">wine</span>"
      ],
      "text/plain": [
       "<IPython.core.display.HTML object>"
      ]
     },
     "metadata": {},
     "output_type": "display_data"
    },
    {
     "name": "stdout",
     "output_type": "stream",
     "text": [
      "with:   \t31.2%\n",
      "that:   \t26.46%\n",
      ",:   \t24.88%\n",
      ".:   \t16.61%\n",
      "from:   \t0.81%\n",
      "--------\n",
      "\n"
     ]
    },
    {
     "data": {
      "text/html": [
       "<span style=\"background-color:rgba(135,206,250,0.23911674);\">wine</span> <span style=\"background-color:rgba(135,206,250,0.3250169);\">review</span> <span style=\"background-color:rgba(135,206,250,0.19520365);\">:</span> <span style=\"background-color:rgba(135,206,250,0.18184595);\">france</span> <span style=\"background-color:rgba(135,206,250,0.20394278);\">:</span> <span style=\"background-color:rgba(135,206,250,0.109877);\">bordeaux</span> <span style=\"background-color:rgba(135,206,250,0.09752935);\">:</span> <span style=\"background-color:rgba(135,206,250,0.06317586);\">bordeaux</span> <span style=\"background-color:rgba(135,206,250,0.07081866);\">-</span> <span style=\"background-color:rgba(135,206,250,0.0681414);\">style</span> <span style=\"background-color:rgba(135,206,250,0.074318685);\">red</span> <span style=\"background-color:rgba(135,206,250,0.099447206);\">blend</span> <span style=\"background-color:rgba(135,206,250,0.15068838);\">:</span> <span style=\"background-color:rgba(135,206,250,0.13935253);\">this</span> <span style=\"background-color:rgba(135,206,250,0.17009318);\">is</span> <span style=\"background-color:rgba(135,206,250,0.289864);\">a</span> <span style=\"background-color:rgba(135,206,250,0.19675066);\">ripe</span> <span style=\"background-color:rgba(135,206,250,0.28474876);\">,</span> <span style=\"background-color:rgba(135,206,250,0.3071211);\">fruity</span> <span style=\"background-color:rgba(135,206,250,1.0);\">wine</span> <span style=\"background-color:rgba(135,206,250,0.20541762);\">that</span>"
      ],
      "text/plain": [
       "<IPython.core.display.HTML object>"
      ]
     },
     "metadata": {},
     "output_type": "display_data"
    },
    {
     "name": "stdout",
     "output_type": "stream",
     "text": [
      "has:   \t62.98%\n",
      "is:   \t29.59%\n",
      "shows:   \t3.48%\n",
      "':   \t2.75%\n",
      "will:   \t0.41%\n",
      "--------\n",
      "\n"
     ]
    },
    {
     "data": {
      "text/html": [
       "<span style=\"background-color:rgba(135,206,250,0.5024042);\">wine</span> <span style=\"background-color:rgba(135,206,250,1.0);\">review</span> <span style=\"background-color:rgba(135,206,250,0.984988);\">:</span> <span style=\"background-color:rgba(135,206,250,0.72389686);\">france</span> <span style=\"background-color:rgba(135,206,250,0.9054237);\">:</span> <span style=\"background-color:rgba(135,206,250,0.27468088);\">bordeaux</span> <span style=\"background-color:rgba(135,206,250,0.49543417);\">:</span> <span style=\"background-color:rgba(135,206,250,0.1781675);\">bordeaux</span> <span style=\"background-color:rgba(135,206,250,0.22393897);\">-</span> <span style=\"background-color:rgba(135,206,250,0.19853579);\">style</span> <span style=\"background-color:rgba(135,206,250,0.15187554);\">red</span> <span style=\"background-color:rgba(135,206,250,0.19624595);\">blend</span> <span style=\"background-color:rgba(135,206,250,0.33582762);\">:</span> <span style=\"background-color:rgba(135,206,250,0.28519094);\">this</span> <span style=\"background-color:rgba(135,206,250,0.20452818);\">is</span> <span style=\"background-color:rgba(135,206,250,0.21021578);\">a</span> <span style=\"background-color:rgba(135,206,250,0.4293985);\">ripe</span> <span style=\"background-color:rgba(135,206,250,0.4322585);\">,</span> <span style=\"background-color:rgba(135,206,250,0.48258486);\">fruity</span> <span style=\"background-color:rgba(135,206,250,0.73138714);\">wine</span> <span style=\"background-color:rgba(135,206,250,0.9237159);\">that</span> <span style=\"background-color:rgba(135,206,250,0.38334233);\">has</span>"
      ],
      "text/plain": [
       "<IPython.core.display.HTML object>"
      ]
     },
     "metadata": {},
     "output_type": "display_data"
    },
    {
     "name": "stdout",
     "output_type": "stream",
     "text": [
      "a:   \t64.85%\n",
      "attractive:   \t14.67%\n",
      "some:   \t3.88%\n",
      "plenty:   \t2.54%\n",
      "the:   \t1.67%\n",
      "--------\n",
      "\n"
     ]
    },
    {
     "data": {
      "text/html": [
       "<span style=\"background-color:rgba(135,206,250,0.19603705);\">wine</span> <span style=\"background-color:rgba(135,206,250,0.27409875);\">review</span> <span style=\"background-color:rgba(135,206,250,0.24417898);\">:</span> <span style=\"background-color:rgba(135,206,250,0.24755289);\">france</span> <span style=\"background-color:rgba(135,206,250,0.20581718);\">:</span> <span style=\"background-color:rgba(135,206,250,0.12115159);\">bordeaux</span> <span style=\"background-color:rgba(135,206,250,0.14594561);\">:</span> <span style=\"background-color:rgba(135,206,250,0.100468874);\">bordeaux</span> <span style=\"background-color:rgba(135,206,250,0.116907515);\">-</span> <span style=\"background-color:rgba(135,206,250,0.06847482);\">style</span> <span style=\"background-color:rgba(135,206,250,0.111451134);\">red</span> <span style=\"background-color:rgba(135,206,250,0.06917584);\">blend</span> <span style=\"background-color:rgba(135,206,250,0.10637842);\">:</span> <span style=\"background-color:rgba(135,206,250,0.12273284);\">this</span> <span style=\"background-color:rgba(135,206,250,0.12963419);\">is</span> <span style=\"background-color:rgba(135,206,250,0.104864016);\">a</span> <span style=\"background-color:rgba(135,206,250,0.15497091);\">ripe</span> <span style=\"background-color:rgba(135,206,250,0.16564308);\">,</span> <span style=\"background-color:rgba(135,206,250,0.24544509);\">fruity</span> <span style=\"background-color:rgba(135,206,250,0.56970483);\">wine</span> <span style=\"background-color:rgba(135,206,250,0.46636337);\">that</span> <span style=\"background-color:rgba(135,206,250,1.0);\">has</span> <span style=\"background-color:rgba(135,206,250,0.18726529);\">attractive</span>"
      ],
      "text/plain": [
       "<IPython.core.display.HTML object>"
      ]
     },
     "metadata": {},
     "output_type": "display_data"
    },
    {
     "name": "stdout",
     "output_type": "stream",
     "text": [
      "red:   \t48.21%\n",
      "acidity:   \t22.36%\n",
      "black:   \t12.98%\n",
      "tannins:   \t12.77%\n",
      "berry:   \t0.86%\n",
      "--------\n",
      "\n"
     ]
    },
    {
     "data": {
      "text/html": [
       "<span style=\"background-color:rgba(135,206,250,0.57258123);\">wine</span> <span style=\"background-color:rgba(135,206,250,0.90653384);\">review</span> <span style=\"background-color:rgba(135,206,250,0.71834093);\">:</span> <span style=\"background-color:rgba(135,206,250,0.7882689);\">france</span> <span style=\"background-color:rgba(135,206,250,0.74818456);\">:</span> <span style=\"background-color:rgba(135,206,250,0.31943613);\">bordeaux</span> <span style=\"background-color:rgba(135,206,250,0.39283317);\">:</span> <span style=\"background-color:rgba(135,206,250,0.20611386);\">bordeaux</span> <span style=\"background-color:rgba(135,206,250,0.2182743);\">-</span> <span style=\"background-color:rgba(135,206,250,0.17984618);\">style</span> <span style=\"background-color:rgba(135,206,250,0.08410106);\">red</span> <span style=\"background-color:rgba(135,206,250,0.1700205);\">blend</span> <span style=\"background-color:rgba(135,206,250,0.28215203);\">:</span> <span style=\"background-color:rgba(135,206,250,0.32351142);\">this</span> <span style=\"background-color:rgba(135,206,250,0.30369404);\">is</span> <span style=\"background-color:rgba(135,206,250,0.2852554);\">a</span> <span style=\"background-color:rgba(135,206,250,0.26285148);\">ripe</span> <span style=\"background-color:rgba(135,206,250,0.34146893);\">,</span> <span style=\"background-color:rgba(135,206,250,0.598294);\">fruity</span> <span style=\"background-color:rgba(135,206,250,0.9632961);\">wine</span> <span style=\"background-color:rgba(135,206,250,0.83909106);\">that</span> <span style=\"background-color:rgba(135,206,250,1.0);\">has</span> <span style=\"background-color:rgba(135,206,250,0.968022);\">attractive</span> <span style=\"background-color:rgba(135,206,250,0.3116053);\">black</span>"
      ],
      "text/plain": [
       "<IPython.core.display.HTML object>"
      ]
     },
     "metadata": {},
     "output_type": "display_data"
    },
    {
     "name": "stdout",
     "output_type": "stream",
     "text": [
      "-:   \t69.08%\n",
      "currant:   \t24.77%\n",
      "fruits:   \t4.18%\n",
      "currants:   \t0.86%\n",
      "plum:   \t0.86%\n",
      "--------\n",
      "\n"
     ]
    },
    {
     "data": {
      "text/html": [
       "<span style=\"background-color:rgba(135,206,250,0.12876135);\">wine</span> <span style=\"background-color:rgba(135,206,250,0.2402581);\">review</span> <span style=\"background-color:rgba(135,206,250,0.1417249);\">:</span> <span style=\"background-color:rgba(135,206,250,0.15812536);\">france</span> <span style=\"background-color:rgba(135,206,250,0.15191121);\">:</span> <span style=\"background-color:rgba(135,206,250,0.089842625);\">bordeaux</span> <span style=\"background-color:rgba(135,206,250,0.09771468);\">:</span> <span style=\"background-color:rgba(135,206,250,0.06844304);\">bordeaux</span> <span style=\"background-color:rgba(135,206,250,0.04031113);\">-</span> <span style=\"background-color:rgba(135,206,250,0.043674238);\">style</span> <span style=\"background-color:rgba(135,206,250,0.027232245);\">red</span> <span style=\"background-color:rgba(135,206,250,0.036388017);\">blend</span> <span style=\"background-color:rgba(135,206,250,0.056917597);\">:</span> <span style=\"background-color:rgba(135,206,250,0.07234643);\">this</span> <span style=\"background-color:rgba(135,206,250,0.060990226);\">is</span> <span style=\"background-color:rgba(135,206,250,0.06030389);\">a</span> <span style=\"background-color:rgba(135,206,250,0.05332479);\">ripe</span> <span style=\"background-color:rgba(135,206,250,0.08951533);\">,</span> <span style=\"background-color:rgba(135,206,250,0.088577);\">fruity</span> <span style=\"background-color:rgba(135,206,250,0.15772809);\">wine</span> <span style=\"background-color:rgba(135,206,250,0.19225155);\">that</span> <span style=\"background-color:rgba(135,206,250,0.3284843);\">has</span> <span style=\"background-color:rgba(135,206,250,0.15728258);\">attractive</span> <span style=\"background-color:rgba(135,206,250,1.0);\">black</span> <span style=\"background-color:rgba(135,206,250,0.10132022);\">-</span>"
      ],
      "text/plain": [
       "<IPython.core.display.HTML object>"
      ]
     },
     "metadata": {},
     "output_type": "display_data"
    },
    {
     "name": "stdout",
     "output_type": "stream",
     "text": [
      "currant:   \t98.99%\n",
      "plum:   \t0.96%\n",
      "cherry:   \t0.04%\n",
      "fruit:   \t0.01%\n",
      "berry:   \t0.0%\n",
      "--------\n",
      "\n"
     ]
    },
    {
     "data": {
      "text/html": [
       "<span style=\"background-color:rgba(135,206,250,0.46349093);\">wine</span> <span style=\"background-color:rgba(135,206,250,0.6471385);\">review</span> <span style=\"background-color:rgba(135,206,250,0.400419);\">:</span> <span style=\"background-color:rgba(135,206,250,0.94364256);\">france</span> <span style=\"background-color:rgba(135,206,250,0.77347165);\">:</span> <span style=\"background-color:rgba(135,206,250,0.25185072);\">bordeaux</span> <span style=\"background-color:rgba(135,206,250,0.26793543);\">:</span> <span style=\"background-color:rgba(135,206,250,0.11782805);\">bordeaux</span> <span style=\"background-color:rgba(135,206,250,0.12633793);\">-</span> <span style=\"background-color:rgba(135,206,250,0.10411308);\">style</span> <span style=\"background-color:rgba(135,206,250,0.067380115);\">red</span> <span style=\"background-color:rgba(135,206,250,0.18735634);\">blend</span> <span style=\"background-color:rgba(135,206,250,0.23486587);\">:</span> <span style=\"background-color:rgba(135,206,250,0.3842593);\">this</span> <span style=\"background-color:rgba(135,206,250,0.33381286);\">is</span> <span style=\"background-color:rgba(135,206,250,0.32401925);\">a</span> <span style=\"background-color:rgba(135,206,250,0.13370845);\">ripe</span> <span style=\"background-color:rgba(135,206,250,0.29151073);\">,</span> <span style=\"background-color:rgba(135,206,250,0.3663036);\">fruity</span> <span style=\"background-color:rgba(135,206,250,0.62354875);\">wine</span> <span style=\"background-color:rgba(135,206,250,0.5450386);\">that</span> <span style=\"background-color:rgba(135,206,250,1.0);\">has</span> <span style=\"background-color:rgba(135,206,250,0.67461133);\">attractive</span> <span style=\"background-color:rgba(135,206,250,0.25835675);\">black</span> <span style=\"background-color:rgba(135,206,250,0.63434094);\">-</span> <span style=\"background-color:rgba(135,206,250,0.3815506);\">currant</span>"
      ],
      "text/plain": [
       "<IPython.core.display.HTML object>"
      ]
     },
     "metadata": {},
     "output_type": "display_data"
    },
    {
     "name": "stdout",
     "output_type": "stream",
     "text": [
      "flavors:   \t71.3%\n",
      "fruits:   \t16.31%\n",
      "flavor:   \t3.82%\n",
      "fruitiness:   \t2.7%\n",
      "fruit:   \t2.68%\n",
      "--------\n",
      "\n"
     ]
    },
    {
     "data": {
      "text/html": [
       "<span style=\"background-color:rgba(135,206,250,0.37019593);\">wine</span> <span style=\"background-color:rgba(135,206,250,0.8345012);\">review</span> <span style=\"background-color:rgba(135,206,250,0.46884817);\">:</span> <span style=\"background-color:rgba(135,206,250,0.59930336);\">france</span> <span style=\"background-color:rgba(135,206,250,0.6336666);\">:</span> <span style=\"background-color:rgba(135,206,250,0.20621);\">bordeaux</span> <span style=\"background-color:rgba(135,206,250,0.21841104);\">:</span> <span style=\"background-color:rgba(135,206,250,0.110523015);\">bordeaux</span> <span style=\"background-color:rgba(135,206,250,0.094814256);\">-</span> <span style=\"background-color:rgba(135,206,250,0.07866603);\">style</span> <span style=\"background-color:rgba(135,206,250,0.07380808);\">red</span> <span style=\"background-color:rgba(135,206,250,0.14264944);\">blend</span> <span style=\"background-color:rgba(135,206,250,0.22969511);\">:</span> <span style=\"background-color:rgba(135,206,250,0.24952619);\">this</span> <span style=\"background-color:rgba(135,206,250,0.24992576);\">is</span> <span style=\"background-color:rgba(135,206,250,0.11679762);\">a</span> <span style=\"background-color:rgba(135,206,250,0.1166757);\">ripe</span> <span style=\"background-color:rgba(135,206,250,0.2284575);\">,</span> <span style=\"background-color:rgba(135,206,250,0.17506725);\">fruity</span> <span style=\"background-color:rgba(135,206,250,0.39430583);\">wine</span> <span style=\"background-color:rgba(135,206,250,0.45321748);\">that</span> <span style=\"background-color:rgba(135,206,250,1.0);\">has</span> <span style=\"background-color:rgba(135,206,250,0.4851637);\">attractive</span> <span style=\"background-color:rgba(135,206,250,0.38297373);\">black</span> <span style=\"background-color:rgba(135,206,250,0.38255405);\">-</span> <span style=\"background-color:rgba(135,206,250,0.95901513);\">currant</span> <span style=\"background-color:rgba(135,206,250,0.63063294);\">flavors</span>"
      ],
      "text/plain": [
       "<IPython.core.display.HTML object>"
      ]
     },
     "metadata": {},
     "output_type": "display_data"
    },
    {
     "name": "stdout",
     "output_type": "stream",
     "text": [
      "and:   \t70.78%\n",
      ".:   \t22.52%\n",
      "that:   \t4.21%\n",
      ",:   \t1.9%\n",
      "as:   \t0.28%\n",
      "--------\n",
      "\n"
     ]
    },
    {
     "data": {
      "text/html": [
       "<span style=\"background-color:rgba(135,206,250,0.10593557);\">wine</span> <span style=\"background-color:rgba(135,206,250,0.18290341);\">review</span> <span style=\"background-color:rgba(135,206,250,0.1471178);\">:</span> <span style=\"background-color:rgba(135,206,250,0.26844966);\">france</span> <span style=\"background-color:rgba(135,206,250,0.1531853);\">:</span> <span style=\"background-color:rgba(135,206,250,0.09581872);\">bordeaux</span> <span style=\"background-color:rgba(135,206,250,0.077904955);\">:</span> <span style=\"background-color:rgba(135,206,250,0.07681805);\">bordeaux</span> <span style=\"background-color:rgba(135,206,250,0.08273164);\">-</span> <span style=\"background-color:rgba(135,206,250,0.046829842);\">style</span> <span style=\"background-color:rgba(135,206,250,0.047717378);\">red</span> <span style=\"background-color:rgba(135,206,250,0.04544313);\">blend</span> <span style=\"background-color:rgba(135,206,250,0.049170174);\">:</span> <span style=\"background-color:rgba(135,206,250,0.07917242);\">this</span> <span style=\"background-color:rgba(135,206,250,0.06531281);\">is</span> <span style=\"background-color:rgba(135,206,250,0.03919684);\">a</span> <span style=\"background-color:rgba(135,206,250,0.10257447);\">ripe</span> <span style=\"background-color:rgba(135,206,250,0.061513633);\">,</span> <span style=\"background-color:rgba(135,206,250,0.11404132);\">fruity</span> <span style=\"background-color:rgba(135,206,250,0.10404785);\">wine</span> <span style=\"background-color:rgba(135,206,250,0.094386384);\">that</span> <span style=\"background-color:rgba(135,206,250,0.14129317);\">has</span> <span style=\"background-color:rgba(135,206,250,0.1750423);\">attractive</span> <span style=\"background-color:rgba(135,206,250,0.20730285);\">black</span> <span style=\"background-color:rgba(135,206,250,0.1954637);\">-</span> <span style=\"background-color:rgba(135,206,250,0.75445306);\">currant</span> <span style=\"background-color:rgba(135,206,250,1.0);\">flavors</span> <span style=\"background-color:rgba(135,206,250,0.29246458);\">and</span>"
      ],
      "text/plain": [
       "<IPython.core.display.HTML object>"
      ]
     },
     "metadata": {},
     "output_type": "display_data"
    },
    {
     "name": "stdout",
     "output_type": "stream",
     "text": [
      "a:   \t84.57%\n",
      "attractive:   \t2.75%\n",
      "acidity:   \t2.48%\n",
      "juicy:   \t2.09%\n",
      "balanced:   \t1.21%\n",
      "--------\n",
      "\n"
     ]
    },
    {
     "data": {
      "text/html": [
       "<span style=\"background-color:rgba(135,206,250,0.2289937);\">wine</span> <span style=\"background-color:rgba(135,206,250,0.3198227);\">review</span> <span style=\"background-color:rgba(135,206,250,0.29898062);\">:</span> <span style=\"background-color:rgba(135,206,250,0.50872225);\">france</span> <span style=\"background-color:rgba(135,206,250,0.3121403);\">:</span> <span style=\"background-color:rgba(135,206,250,0.1553191);\">bordeaux</span> <span style=\"background-color:rgba(135,206,250,0.13287324);\">:</span> <span style=\"background-color:rgba(135,206,250,0.1245361);\">bordeaux</span> <span style=\"background-color:rgba(135,206,250,0.1013216);\">-</span> <span style=\"background-color:rgba(135,206,250,0.06674465);\">style</span> <span style=\"background-color:rgba(135,206,250,0.07805497);\">red</span> <span style=\"background-color:rgba(135,206,250,0.075277664);\">blend</span> <span style=\"background-color:rgba(135,206,250,0.08333813);\">:</span> <span style=\"background-color:rgba(135,206,250,0.11108179);\">this</span> <span style=\"background-color:rgba(135,206,250,0.0789262);\">is</span> <span style=\"background-color:rgba(135,206,250,0.04642266);\">a</span> <span style=\"background-color:rgba(135,206,250,0.18391772);\">ripe</span> <span style=\"background-color:rgba(135,206,250,0.10267098);\">,</span> <span style=\"background-color:rgba(135,206,250,0.15099786);\">fruity</span> <span style=\"background-color:rgba(135,206,250,0.21753779);\">wine</span> <span style=\"background-color:rgba(135,206,250,0.12146505);\">that</span> <span style=\"background-color:rgba(135,206,250,0.23172976);\">has</span> <span style=\"background-color:rgba(135,206,250,0.28616932);\">attractive</span> <span style=\"background-color:rgba(135,206,250,0.22819263);\">black</span> <span style=\"background-color:rgba(135,206,250,0.34360293);\">-</span> <span style=\"background-color:rgba(135,206,250,0.6088818);\">currant</span> <span style=\"background-color:rgba(135,206,250,1.0);\">flavors</span> <span style=\"background-color:rgba(135,206,250,0.9687824);\">and</span> <span style=\"background-color:rgba(135,206,250,0.43459186);\">a</span>"
      ],
      "text/plain": [
       "<IPython.core.display.HTML object>"
      ]
     },
     "metadata": {},
     "output_type": "display_data"
    },
    {
     "name": "stdout",
     "output_type": "stream",
     "text": [
      "juicy:   \t15.25%\n",
      "touch:   \t11.4%\n",
      "smooth:   \t9.13%\n",
      "crisp:   \t8.42%\n",
      "light:   \t7.68%\n",
      "--------\n",
      "\n"
     ]
    },
    {
     "data": {
      "text/html": [
       "<span style=\"background-color:rgba(135,206,250,0.115306914);\">wine</span> <span style=\"background-color:rgba(135,206,250,0.20912142);\">review</span> <span style=\"background-color:rgba(135,206,250,0.17815308);\">:</span> <span style=\"background-color:rgba(135,206,250,0.23470512);\">france</span> <span style=\"background-color:rgba(135,206,250,0.20365879);\">:</span> <span style=\"background-color:rgba(135,206,250,0.118770115);\">bordeaux</span> <span style=\"background-color:rgba(135,206,250,0.09895761);\">:</span> <span style=\"background-color:rgba(135,206,250,0.08209165);\">bordeaux</span> <span style=\"background-color:rgba(135,206,250,0.06025158);\">-</span> <span style=\"background-color:rgba(135,206,250,0.054706838);\">style</span> <span style=\"background-color:rgba(135,206,250,0.08411018);\">red</span> <span style=\"background-color:rgba(135,206,250,0.034812894);\">blend</span> <span style=\"background-color:rgba(135,206,250,0.0496847);\">:</span> <span style=\"background-color:rgba(135,206,250,0.06110458);\">this</span> <span style=\"background-color:rgba(135,206,250,0.059151653);\">is</span> <span style=\"background-color:rgba(135,206,250,0.036767736);\">a</span> <span style=\"background-color:rgba(135,206,250,0.035575308);\">ripe</span> <span style=\"background-color:rgba(135,206,250,0.06204931);\">,</span> <span style=\"background-color:rgba(135,206,250,0.070177205);\">fruity</span> <span style=\"background-color:rgba(135,206,250,0.14647657);\">wine</span> <span style=\"background-color:rgba(135,206,250,0.07353116);\">that</span> <span style=\"background-color:rgba(135,206,250,0.1239334);\">has</span> <span style=\"background-color:rgba(135,206,250,0.07329352);\">attractive</span> <span style=\"background-color:rgba(135,206,250,0.09890289);\">black</span> <span style=\"background-color:rgba(135,206,250,0.059613746);\">-</span> <span style=\"background-color:rgba(135,206,250,0.26575416);\">currant</span> <span style=\"background-color:rgba(135,206,250,0.46580103);\">flavors</span> <span style=\"background-color:rgba(135,206,250,0.44898596);\">and</span> <span style=\"background-color:rgba(135,206,250,1.0);\">a</span> <span style=\"background-color:rgba(135,206,250,0.24211664);\">soft</span>"
      ],
      "text/plain": [
       "<IPython.core.display.HTML object>"
      ]
     },
     "metadata": {},
     "output_type": "display_data"
    },
    {
     "name": "stdout",
     "output_type": "stream",
     "text": [
      "texture:   \t83.59%\n",
      ",:   \t13.17%\n",
      "structure:   \t0.73%\n",
      "character:   \t0.52%\n",
      "edge:   \t0.49%\n",
      "--------\n",
      "\n"
     ]
    },
    {
     "data": {
      "text/html": [
       "<span style=\"background-color:rgba(135,206,250,0.18353744);\">wine</span> <span style=\"background-color:rgba(135,206,250,0.52795786);\">review</span> <span style=\"background-color:rgba(135,206,250,0.37094265);\">:</span> <span style=\"background-color:rgba(135,206,250,0.5006751);\">france</span> <span style=\"background-color:rgba(135,206,250,0.45360363);\">:</span> <span style=\"background-color:rgba(135,206,250,0.13672794);\">bordeaux</span> <span style=\"background-color:rgba(135,206,250,0.13919395);\">:</span> <span style=\"background-color:rgba(135,206,250,0.08477352);\">bordeaux</span> <span style=\"background-color:rgba(135,206,250,0.0898464);\">-</span> <span style=\"background-color:rgba(135,206,250,0.059377458);\">style</span> <span style=\"background-color:rgba(135,206,250,0.05748951);\">red</span> <span style=\"background-color:rgba(135,206,250,0.07531291);\">blend</span> <span style=\"background-color:rgba(135,206,250,0.11867306);\">:</span> <span style=\"background-color:rgba(135,206,250,0.18230185);\">this</span> <span style=\"background-color:rgba(135,206,250,0.17063169);\">is</span> <span style=\"background-color:rgba(135,206,250,0.063598454);\">a</span> <span style=\"background-color:rgba(135,206,250,0.105669804);\">ripe</span> <span style=\"background-color:rgba(135,206,250,0.10574183);\">,</span> <span style=\"background-color:rgba(135,206,250,0.11010314);\">fruity</span> <span style=\"background-color:rgba(135,206,250,0.21895832);\">wine</span> <span style=\"background-color:rgba(135,206,250,0.20007637);\">that</span> <span style=\"background-color:rgba(135,206,250,0.43414897);\">has</span> <span style=\"background-color:rgba(135,206,250,0.22314219);\">attractive</span> <span style=\"background-color:rgba(135,206,250,0.12814872);\">black</span> <span style=\"background-color:rgba(135,206,250,0.16799092);\">-</span> <span style=\"background-color:rgba(135,206,250,0.20331928);\">currant</span> <span style=\"background-color:rgba(135,206,250,0.6214129);\">flavors</span> <span style=\"background-color:rgba(135,206,250,1.0);\">and</span> <span style=\"background-color:rgba(135,206,250,0.72570574);\">a</span> <span style=\"background-color:rgba(135,206,250,0.8900091);\">soft</span> <span style=\"background-color:rgba(135,206,250,0.68978465);\">texture</span>"
      ],
      "text/plain": [
       "<IPython.core.display.HTML object>"
      ]
     },
     "metadata": {},
     "output_type": "display_data"
    },
    {
     "name": "stdout",
     "output_type": "stream",
     "text": [
      ".:   \t99.71%\n",
      "that:   \t0.24%\n",
      "of:   \t0.03%\n",
      ",:   \t0.02%\n",
      "and:   \t0.0%\n",
      "--------\n",
      "\n"
     ]
    },
    {
     "data": {
      "text/html": [
       "<span style=\"background-color:rgba(135,206,250,0.25201562);\">wine</span> <span style=\"background-color:rgba(135,206,250,0.58291835);\">review</span> <span style=\"background-color:rgba(135,206,250,0.98109466);\">:</span> <span style=\"background-color:rgba(135,206,250,0.81973755);\">france</span> <span style=\"background-color:rgba(135,206,250,1.0);\">:</span> <span style=\"background-color:rgba(135,206,250,0.3751579);\">bordeaux</span> <span style=\"background-color:rgba(135,206,250,0.5511585);\">:</span> <span style=\"background-color:rgba(135,206,250,0.17504792);\">bordeaux</span> <span style=\"background-color:rgba(135,206,250,0.1495475);\">-</span> <span style=\"background-color:rgba(135,206,250,0.10004795);\">style</span> <span style=\"background-color:rgba(135,206,250,0.09232153);\">red</span> <span style=\"background-color:rgba(135,206,250,0.09904642);\">blend</span> <span style=\"background-color:rgba(135,206,250,0.1368786);\">:</span> <span style=\"background-color:rgba(135,206,250,0.2571807);\">this</span> <span style=\"background-color:rgba(135,206,250,0.165667);\">is</span> <span style=\"background-color:rgba(135,206,250,0.07887057);\">a</span> <span style=\"background-color:rgba(135,206,250,0.13781233);\">ripe</span> <span style=\"background-color:rgba(135,206,250,0.13148724);\">,</span> <span style=\"background-color:rgba(135,206,250,0.17932335);\">fruity</span> <span style=\"background-color:rgba(135,206,250,0.24579708);\">wine</span> <span style=\"background-color:rgba(135,206,250,0.13891721);\">that</span> <span style=\"background-color:rgba(135,206,250,0.20083827);\">has</span> <span style=\"background-color:rgba(135,206,250,0.20139788);\">attractive</span> <span style=\"background-color:rgba(135,206,250,0.14085987);\">black</span> <span style=\"background-color:rgba(135,206,250,0.10979481);\">-</span> <span style=\"background-color:rgba(135,206,250,0.23477739);\">currant</span> <span style=\"background-color:rgba(135,206,250,0.48501605);\">flavors</span> <span style=\"background-color:rgba(135,206,250,0.24433735);\">and</span> <span style=\"background-color:rgba(135,206,250,0.20610316);\">a</span> <span style=\"background-color:rgba(135,206,250,0.3242915);\">soft</span> <span style=\"background-color:rgba(135,206,250,0.4523209);\">texture</span> <span style=\"background-color:rgba(135,206,250,0.83554006);\">.</span>"
      ],
      "text/plain": [
       "<IPython.core.display.HTML object>"
      ]
     },
     "metadata": {},
     "output_type": "display_data"
    },
    {
     "name": "stdout",
     "output_type": "stream",
     "text": [
      "it:   \t70.84%\n",
      "the:   \t25.45%\n",
      "drink:   \t1.9%\n",
      "with:   \t0.76%\n",
      "a:   \t0.37%\n",
      "--------\n",
      "\n"
     ]
    },
    {
     "data": {
      "text/html": [
       "<span style=\"background-color:rgba(135,206,250,0.065265045);\">wine</span> <span style=\"background-color:rgba(135,206,250,0.09347679);\">review</span> <span style=\"background-color:rgba(135,206,250,0.08180933);\">:</span> <span style=\"background-color:rgba(135,206,250,0.116937615);\">france</span> <span style=\"background-color:rgba(135,206,250,0.092896044);\">:</span> <span style=\"background-color:rgba(135,206,250,0.06550715);\">bordeaux</span> <span style=\"background-color:rgba(135,206,250,0.037910912);\">:</span> <span style=\"background-color:rgba(135,206,250,0.044709112);\">bordeaux</span> <span style=\"background-color:rgba(135,206,250,0.037559565);\">-</span> <span style=\"background-color:rgba(135,206,250,0.032704633);\">style</span> <span style=\"background-color:rgba(135,206,250,0.023782158);\">red</span> <span style=\"background-color:rgba(135,206,250,0.025581054);\">blend</span> <span style=\"background-color:rgba(135,206,250,0.019498723);\">:</span> <span style=\"background-color:rgba(135,206,250,0.027724162);\">this</span> <span style=\"background-color:rgba(135,206,250,0.022153601);\">is</span> <span style=\"background-color:rgba(135,206,250,0.0154617075);\">a</span> <span style=\"background-color:rgba(135,206,250,0.044305146);\">ripe</span> <span style=\"background-color:rgba(135,206,250,0.02480635);\">,</span> <span style=\"background-color:rgba(135,206,250,0.0504455);\">fruity</span> <span style=\"background-color:rgba(135,206,250,0.0684064);\">wine</span> <span style=\"background-color:rgba(135,206,250,0.029715404);\">that</span> <span style=\"background-color:rgba(135,206,250,0.03860663);\">has</span> <span style=\"background-color:rgba(135,206,250,0.0490438);\">attractive</span> <span style=\"background-color:rgba(135,206,250,0.03791607);\">black</span> <span style=\"background-color:rgba(135,206,250,0.031694736);\">-</span> <span style=\"background-color:rgba(135,206,250,0.08437822);\">currant</span> <span style=\"background-color:rgba(135,206,250,0.16418192);\">flavors</span> <span style=\"background-color:rgba(135,206,250,0.07427435);\">and</span> <span style=\"background-color:rgba(135,206,250,0.06309591);\">a</span> <span style=\"background-color:rgba(135,206,250,0.15391415);\">soft</span> <span style=\"background-color:rgba(135,206,250,0.31286037);\">texture</span> <span style=\"background-color:rgba(135,206,250,1.0);\">.</span> <span style=\"background-color:rgba(135,206,250,0.10670194);\">the</span>"
      ],
      "text/plain": [
       "<IPython.core.display.HTML object>"
      ]
     },
     "metadata": {},
     "output_type": "display_data"
    },
    {
     "name": "stdout",
     "output_type": "stream",
     "text": [
      "wine:   \t57.04%\n",
      "tannins:   \t18.39%\n",
      "acidity:   \t16.97%\n",
      "wood:   \t3.62%\n",
      "aftertaste:   \t1.35%\n",
      "--------\n",
      "\n"
     ]
    },
    {
     "data": {
      "text/html": [
       "<span style=\"background-color:rgba(135,206,250,0.06511401);\">wine</span> <span style=\"background-color:rgba(135,206,250,0.122155875);\">review</span> <span style=\"background-color:rgba(135,206,250,0.118312135);\">:</span> <span style=\"background-color:rgba(135,206,250,0.18812034);\">france</span> <span style=\"background-color:rgba(135,206,250,0.16596983);\">:</span> <span style=\"background-color:rgba(135,206,250,0.03895777);\">bordeaux</span> <span style=\"background-color:rgba(135,206,250,0.048527863);\">:</span> <span style=\"background-color:rgba(135,206,250,0.025352515);\">bordeaux</span> <span style=\"background-color:rgba(135,206,250,0.027581315);\">-</span> <span style=\"background-color:rgba(135,206,250,0.023201393);\">style</span> <span style=\"background-color:rgba(135,206,250,0.012792324);\">red</span> <span style=\"background-color:rgba(135,206,250,0.02556292);\">blend</span> <span style=\"background-color:rgba(135,206,250,0.033487245);\">:</span> <span style=\"background-color:rgba(135,206,250,0.055518392);\">this</span> <span style=\"background-color:rgba(135,206,250,0.050720736);\">is</span> <span style=\"background-color:rgba(135,206,250,0.015481836);\">a</span> <span style=\"background-color:rgba(135,206,250,0.017264996);\">ripe</span> <span style=\"background-color:rgba(135,206,250,0.027895592);\">,</span> <span style=\"background-color:rgba(135,206,250,0.02909296);\">fruity</span> <span style=\"background-color:rgba(135,206,250,0.04964667);\">wine</span> <span style=\"background-color:rgba(135,206,250,0.047130942);\">that</span> <span style=\"background-color:rgba(135,206,250,0.07796768);\">has</span> <span style=\"background-color:rgba(135,206,250,0.050218806);\">attractive</span> <span style=\"background-color:rgba(135,206,250,0.016891925);\">black</span> <span style=\"background-color:rgba(135,206,250,0.026386356);\">-</span> <span style=\"background-color:rgba(135,206,250,0.04634948);\">currant</span> <span style=\"background-color:rgba(135,206,250,0.09568789);\">flavors</span> <span style=\"background-color:rgba(135,206,250,0.09308244);\">and</span> <span style=\"background-color:rgba(135,206,250,0.08286885);\">a</span> <span style=\"background-color:rgba(135,206,250,0.10424718);\">soft</span> <span style=\"background-color:rgba(135,206,250,0.12170534);\">texture</span> <span style=\"background-color:rgba(135,206,250,1.0);\">.</span> <span style=\"background-color:rgba(135,206,250,0.3545329);\">the</span> <span style=\"background-color:rgba(135,206,250,0.13511667);\">tannins</span>"
      ],
      "text/plain": [
       "<IPython.core.display.HTML object>"
      ]
     },
     "metadata": {},
     "output_type": "display_data"
    },
    {
     "name": "stdout",
     "output_type": "stream",
     "text": [
      "are:   \t98.49%\n",
      "and:   \t0.96%\n",
      "give:   \t0.35%\n",
      "have:   \t0.05%\n",
      ",:   \t0.03%\n",
      "--------\n",
      "\n"
     ]
    },
    {
     "data": {
      "text/html": [
       "<span style=\"background-color:rgba(135,206,250,0.08419854);\">wine</span> <span style=\"background-color:rgba(135,206,250,0.16480498);\">review</span> <span style=\"background-color:rgba(135,206,250,0.20724319);\">:</span> <span style=\"background-color:rgba(135,206,250,0.27235356);\">france</span> <span style=\"background-color:rgba(135,206,250,0.28065985);\">:</span> <span style=\"background-color:rgba(135,206,250,0.075091794);\">bordeaux</span> <span style=\"background-color:rgba(135,206,250,0.07694932);\">:</span> <span style=\"background-color:rgba(135,206,250,0.041713737);\">bordeaux</span> <span style=\"background-color:rgba(135,206,250,0.06404636);\">-</span> <span style=\"background-color:rgba(135,206,250,0.035708625);\">style</span> <span style=\"background-color:rgba(135,206,250,0.025850372);\">red</span> <span style=\"background-color:rgba(135,206,250,0.028593216);\">blend</span> <span style=\"background-color:rgba(135,206,250,0.036150962);\">:</span> <span style=\"background-color:rgba(135,206,250,0.03779803);\">this</span> <span style=\"background-color:rgba(135,206,250,0.02736205);\">is</span> <span style=\"background-color:rgba(135,206,250,0.031894088);\">a</span> <span style=\"background-color:rgba(135,206,250,0.04987748);\">ripe</span> <span style=\"background-color:rgba(135,206,250,0.046073243);\">,</span> <span style=\"background-color:rgba(135,206,250,0.04638452);\">fruity</span> <span style=\"background-color:rgba(135,206,250,0.048047196);\">wine</span> <span style=\"background-color:rgba(135,206,250,0.03571753);\">that</span> <span style=\"background-color:rgba(135,206,250,0.067939036);\">has</span> <span style=\"background-color:rgba(135,206,250,0.07019266);\">attractive</span> <span style=\"background-color:rgba(135,206,250,0.042767227);\">black</span> <span style=\"background-color:rgba(135,206,250,0.041346747);\">-</span> <span style=\"background-color:rgba(135,206,250,0.067915455);\">currant</span> <span style=\"background-color:rgba(135,206,250,0.09165921);\">flavors</span> <span style=\"background-color:rgba(135,206,250,0.07693566);\">and</span> <span style=\"background-color:rgba(135,206,250,0.07116402);\">a</span> <span style=\"background-color:rgba(135,206,250,0.14920108);\">soft</span> <span style=\"background-color:rgba(135,206,250,0.137291);\">texture</span> <span style=\"background-color:rgba(135,206,250,0.41046333);\">.</span> <span style=\"background-color:rgba(135,206,250,0.21903534);\">the</span> <span style=\"background-color:rgba(135,206,250,1.0);\">tannins</span> <span style=\"background-color:rgba(135,206,250,0.08090186);\">are</span>"
      ],
      "text/plain": [
       "<IPython.core.display.HTML object>"
      ]
     },
     "metadata": {},
     "output_type": "display_data"
    },
    {
     "name": "stdout",
     "output_type": "stream",
     "text": [
      "already:   \t50.19%\n",
      "well:   \t17.27%\n",
      "balanced:   \t10.69%\n",
      "cushioned:   \t6.93%\n",
      "still:   \t2.96%\n",
      "--------\n",
      "\n"
     ]
    },
    {
     "data": {
      "text/html": [
       "<span style=\"background-color:rgba(135,206,250,0.15342839);\">wine</span> <span style=\"background-color:rgba(135,206,250,0.31770727);\">review</span> <span style=\"background-color:rgba(135,206,250,0.4661722);\">:</span> <span style=\"background-color:rgba(135,206,250,0.6757715);\">france</span> <span style=\"background-color:rgba(135,206,250,0.55395097);\">:</span> <span style=\"background-color:rgba(135,206,250,0.12680493);\">bordeaux</span> <span style=\"background-color:rgba(135,206,250,0.15492487);\">:</span> <span style=\"background-color:rgba(135,206,250,0.05051158);\">bordeaux</span> <span style=\"background-color:rgba(135,206,250,0.035494722);\">-</span> <span style=\"background-color:rgba(135,206,250,0.0640001);\">style</span> <span style=\"background-color:rgba(135,206,250,0.04663878);\">red</span> <span style=\"background-color:rgba(135,206,250,0.043214016);\">blend</span> <span style=\"background-color:rgba(135,206,250,0.057883646);\">:</span> <span style=\"background-color:rgba(135,206,250,0.045909356);\">this</span> <span style=\"background-color:rgba(135,206,250,0.04021944);\">is</span> <span style=\"background-color:rgba(135,206,250,0.043851156);\">a</span> <span style=\"background-color:rgba(135,206,250,0.03108794);\">ripe</span> <span style=\"background-color:rgba(135,206,250,0.06946439);\">,</span> <span style=\"background-color:rgba(135,206,250,0.073422305);\">fruity</span> <span style=\"background-color:rgba(135,206,250,0.09077661);\">wine</span> <span style=\"background-color:rgba(135,206,250,0.054375786);\">that</span> <span style=\"background-color:rgba(135,206,250,0.08091471);\">has</span> <span style=\"background-color:rgba(135,206,250,0.0753769);\">attractive</span> <span style=\"background-color:rgba(135,206,250,0.05327734);\">black</span> <span style=\"background-color:rgba(135,206,250,0.026862247);\">-</span> <span style=\"background-color:rgba(135,206,250,0.0824171);\">currant</span> <span style=\"background-color:rgba(135,206,250,0.19905229);\">flavors</span> <span style=\"background-color:rgba(135,206,250,0.15134835);\">and</span> <span style=\"background-color:rgba(135,206,250,0.15643334);\">a</span> <span style=\"background-color:rgba(135,206,250,0.095421344);\">soft</span> <span style=\"background-color:rgba(135,206,250,0.3397549);\">texture</span> <span style=\"background-color:rgba(135,206,250,0.64527744);\">.</span> <span style=\"background-color:rgba(135,206,250,0.37116727);\">the</span> <span style=\"background-color:rgba(135,206,250,1.0);\">tannins</span> <span style=\"background-color:rgba(135,206,250,0.6385576);\">are</span> <span style=\"background-color:rgba(135,206,250,0.23540871);\">cushioned</span>"
      ],
      "text/plain": [
       "<IPython.core.display.HTML object>"
      ]
     },
     "metadata": {},
     "output_type": "display_data"
    },
    {
     "name": "stdout",
     "output_type": "stream",
     "text": [
      "by:   \t99.99%\n",
      "with:   \t0.0%\n",
      ",:   \t0.0%\n",
      "in:   \t0.0%\n",
      "into:   \t0.0%\n",
      "--------\n",
      "\n"
     ]
    },
    {
     "data": {
      "text/html": [
       "<span style=\"background-color:rgba(135,206,250,0.06851637);\">wine</span> <span style=\"background-color:rgba(135,206,250,0.12830575);\">review</span> <span style=\"background-color:rgba(135,206,250,0.17362835);\">:</span> <span style=\"background-color:rgba(135,206,250,0.29778993);\">france</span> <span style=\"background-color:rgba(135,206,250,0.20585187);\">:</span> <span style=\"background-color:rgba(135,206,250,0.11702744);\">bordeaux</span> <span style=\"background-color:rgba(135,206,250,0.07986273);\">:</span> <span style=\"background-color:rgba(135,206,250,0.07032493);\">bordeaux</span> <span style=\"background-color:rgba(135,206,250,0.04533743);\">-</span> <span style=\"background-color:rgba(135,206,250,0.029197846);\">style</span> <span style=\"background-color:rgba(135,206,250,0.03428647);\">red</span> <span style=\"background-color:rgba(135,206,250,0.025589425);\">blend</span> <span style=\"background-color:rgba(135,206,250,0.03519631);\">:</span> <span style=\"background-color:rgba(135,206,250,0.03919314);\">this</span> <span style=\"background-color:rgba(135,206,250,0.031587);\">is</span> <span style=\"background-color:rgba(135,206,250,0.033306405);\">a</span> <span style=\"background-color:rgba(135,206,250,0.03289249);\">ripe</span> <span style=\"background-color:rgba(135,206,250,0.039213225);\">,</span> <span style=\"background-color:rgba(135,206,250,0.055489335);\">fruity</span> <span style=\"background-color:rgba(135,206,250,0.04991085);\">wine</span> <span style=\"background-color:rgba(135,206,250,0.038269613);\">that</span> <span style=\"background-color:rgba(135,206,250,0.041954976);\">has</span> <span style=\"background-color:rgba(135,206,250,0.07107499);\">attractive</span> <span style=\"background-color:rgba(135,206,250,0.051006548);\">black</span> <span style=\"background-color:rgba(135,206,250,0.030496016);\">-</span> <span style=\"background-color:rgba(135,206,250,0.095704086);\">currant</span> <span style=\"background-color:rgba(135,206,250,0.14339234);\">flavors</span> <span style=\"background-color:rgba(135,206,250,0.06377446);\">and</span> <span style=\"background-color:rgba(135,206,250,0.066372454);\">a</span> <span style=\"background-color:rgba(135,206,250,0.11056279);\">soft</span> <span style=\"background-color:rgba(135,206,250,0.11471539);\">texture</span> <span style=\"background-color:rgba(135,206,250,0.35385376);\">.</span> <span style=\"background-color:rgba(135,206,250,0.10968769);\">the</span> <span style=\"background-color:rgba(135,206,250,0.40169886);\">tannins</span> <span style=\"background-color:rgba(135,206,250,0.16026796);\">are</span> <span style=\"background-color:rgba(135,206,250,1.0);\">cushioned</span> <span style=\"background-color:rgba(135,206,250,0.17760944);\">by</span>"
      ],
      "text/plain": [
       "<IPython.core.display.HTML object>"
      ]
     },
     "metadata": {},
     "output_type": "display_data"
    },
    {
     "name": "stdout",
     "output_type": "stream",
     "text": [
      "the:   \t99.84%\n",
      "a:   \t0.08%\n",
      "ripe:   \t0.03%\n",
      "attractive:   \t0.01%\n",
      "rich:   \t0.01%\n",
      "--------\n",
      "\n"
     ]
    },
    {
     "data": {
      "text/html": [
       "<span style=\"background-color:rgba(135,206,250,0.06123127);\">wine</span> <span style=\"background-color:rgba(135,206,250,0.08533778);\">review</span> <span style=\"background-color:rgba(135,206,250,0.08199251);\">:</span> <span style=\"background-color:rgba(135,206,250,0.13109182);\">france</span> <span style=\"background-color:rgba(135,206,250,0.09127864);\">:</span> <span style=\"background-color:rgba(135,206,250,0.07327636);\">bordeaux</span> <span style=\"background-color:rgba(135,206,250,0.039480165);\">:</span> <span style=\"background-color:rgba(135,206,250,0.046370562);\">bordeaux</span> <span style=\"background-color:rgba(135,206,250,0.038663074);\">-</span> <span style=\"background-color:rgba(135,206,250,0.033885594);\">style</span> <span style=\"background-color:rgba(135,206,250,0.027103437);\">red</span> <span style=\"background-color:rgba(135,206,250,0.026851598);\">blend</span> <span style=\"background-color:rgba(135,206,250,0.01935783);\">:</span> <span style=\"background-color:rgba(135,206,250,0.028153826);\">this</span> <span style=\"background-color:rgba(135,206,250,0.021511653);\">is</span> <span style=\"background-color:rgba(135,206,250,0.0153447185);\">a</span> <span style=\"background-color:rgba(135,206,250,0.042955834);\">ripe</span> <span style=\"background-color:rgba(135,206,250,0.024026593);\">,</span> <span style=\"background-color:rgba(135,206,250,0.053137157);\">fruity</span> <span style=\"background-color:rgba(135,206,250,0.059850007);\">wine</span> <span style=\"background-color:rgba(135,206,250,0.02573899);\">that</span> <span style=\"background-color:rgba(135,206,250,0.030331057);\">has</span> <span style=\"background-color:rgba(135,206,250,0.04942053);\">attractive</span> <span style=\"background-color:rgba(135,206,250,0.035209734);\">black</span> <span style=\"background-color:rgba(135,206,250,0.019598145);\">-</span> <span style=\"background-color:rgba(135,206,250,0.07211445);\">currant</span> <span style=\"background-color:rgba(135,206,250,0.14348334);\">flavors</span> <span style=\"background-color:rgba(135,206,250,0.0336958);\">and</span> <span style=\"background-color:rgba(135,206,250,0.025923384);\">a</span> <span style=\"background-color:rgba(135,206,250,0.083474405);\">soft</span> <span style=\"background-color:rgba(135,206,250,0.12913455);\">texture</span> <span style=\"background-color:rgba(135,206,250,0.20033115);\">.</span> <span style=\"background-color:rgba(135,206,250,0.026073404);\">the</span> <span style=\"background-color:rgba(135,206,250,0.24047835);\">tannins</span> <span style=\"background-color:rgba(135,206,250,0.188086);\">are</span> <span style=\"background-color:rgba(135,206,250,1.0);\">cushioned</span> <span style=\"background-color:rgba(135,206,250,0.48378035);\">by</span> <span style=\"background-color:rgba(135,206,250,0.118003204);\">the</span>"
      ],
      "text/plain": [
       "<IPython.core.display.HTML object>"
      ]
     },
     "metadata": {},
     "output_type": "display_data"
    },
    {
     "name": "stdout",
     "output_type": "stream",
     "text": [
      "ripe:   \t26.15%\n",
      "rich:   \t23.11%\n",
      "generous:   \t16.87%\n",
      "attractive:   \t8.64%\n",
      "acidity:   \t4.96%\n",
      "--------\n",
      "\n"
     ]
    },
    {
     "data": {
      "text/html": [
       "<span style=\"background-color:rgba(135,206,250,0.13039261);\">wine</span> <span style=\"background-color:rgba(135,206,250,0.19821653);\">review</span> <span style=\"background-color:rgba(135,206,250,0.1758718);\">:</span> <span style=\"background-color:rgba(135,206,250,0.35657886);\">france</span> <span style=\"background-color:rgba(135,206,250,0.18460245);\">:</span> <span style=\"background-color:rgba(135,206,250,0.12939279);\">bordeaux</span> <span style=\"background-color:rgba(135,206,250,0.10503227);\">:</span> <span style=\"background-color:rgba(135,206,250,0.07302917);\">bordeaux</span> <span style=\"background-color:rgba(135,206,250,0.05796931);\">-</span> <span style=\"background-color:rgba(135,206,250,0.08032823);\">style</span> <span style=\"background-color:rgba(135,206,250,0.06691738);\">red</span> <span style=\"background-color:rgba(135,206,250,0.036644362);\">blend</span> <span style=\"background-color:rgba(135,206,250,0.0425173);\">:</span> <span style=\"background-color:rgba(135,206,250,0.050553344);\">this</span> <span style=\"background-color:rgba(135,206,250,0.04485657);\">is</span> <span style=\"background-color:rgba(135,206,250,0.02119252);\">a</span> <span style=\"background-color:rgba(135,206,250,0.0365068);\">ripe</span> <span style=\"background-color:rgba(135,206,250,0.04205187);\">,</span> <span style=\"background-color:rgba(135,206,250,0.1138714);\">fruity</span> <span style=\"background-color:rgba(135,206,250,0.13181335);\">wine</span> <span style=\"background-color:rgba(135,206,250,0.046281382);\">that</span> <span style=\"background-color:rgba(135,206,250,0.050555006);\">has</span> <span style=\"background-color:rgba(135,206,250,0.09677294);\">attractive</span> <span style=\"background-color:rgba(135,206,250,0.073403515);\">black</span> <span style=\"background-color:rgba(135,206,250,0.028702386);\">-</span> <span style=\"background-color:rgba(135,206,250,0.12749684);\">currant</span> <span style=\"background-color:rgba(135,206,250,0.26949042);\">flavors</span> <span style=\"background-color:rgba(135,206,250,0.08071903);\">and</span> <span style=\"background-color:rgba(135,206,250,0.060491648);\">a</span> <span style=\"background-color:rgba(135,206,250,0.15698172);\">soft</span> <span style=\"background-color:rgba(135,206,250,0.33801225);\">texture</span> <span style=\"background-color:rgba(135,206,250,0.49490294);\">.</span> <span style=\"background-color:rgba(135,206,250,0.17123431);\">the</span> <span style=\"background-color:rgba(135,206,250,0.63076305);\">tannins</span> <span style=\"background-color:rgba(135,206,250,0.43464974);\">are</span> <span style=\"background-color:rgba(135,206,250,0.9843203);\">cushioned</span> <span style=\"background-color:rgba(135,206,250,1.0);\">by</span> <span style=\"background-color:rgba(135,206,250,0.9881779);\">the</span> <span style=\"background-color:rgba(135,206,250,0.319865);\">rich</span>"
      ],
      "text/plain": [
       "<IPython.core.display.HTML object>"
      ]
     },
     "metadata": {},
     "output_type": "display_data"
    },
    {
     "name": "stdout",
     "output_type": "stream",
     "text": [
      "texture:   \t35.38%\n",
      "fruit:   \t18.17%\n",
      "fruitiness:   \t13.73%\n",
      "black:   \t9.3%\n",
      "berry:   \t8.16%\n",
      "--------\n",
      "\n"
     ]
    },
    {
     "data": {
      "text/html": [
       "<span style=\"background-color:rgba(135,206,250,0.07979591);\">wine</span> <span style=\"background-color:rgba(135,206,250,0.23310132);\">review</span> <span style=\"background-color:rgba(135,206,250,0.19725555);\">:</span> <span style=\"background-color:rgba(135,206,250,0.36953655);\">france</span> <span style=\"background-color:rgba(135,206,250,0.26655993);\">:</span> <span style=\"background-color:rgba(135,206,250,0.07432544);\">bordeaux</span> <span style=\"background-color:rgba(135,206,250,0.074585274);\">:</span> <span style=\"background-color:rgba(135,206,250,0.04434063);\">bordeaux</span> <span style=\"background-color:rgba(135,206,250,0.045083277);\">-</span> <span style=\"background-color:rgba(135,206,250,0.030861838);\">style</span> <span style=\"background-color:rgba(135,206,250,0.034497738);\">red</span> <span style=\"background-color:rgba(135,206,250,0.03672556);\">blend</span> <span style=\"background-color:rgba(135,206,250,0.051644754);\">:</span> <span style=\"background-color:rgba(135,206,250,0.07791848);\">this</span> <span style=\"background-color:rgba(135,206,250,0.071279354);\">is</span> <span style=\"background-color:rgba(135,206,250,0.025426287);\">a</span> <span style=\"background-color:rgba(135,206,250,0.04055293);\">ripe</span> <span style=\"background-color:rgba(135,206,250,0.04177803);\">,</span> <span style=\"background-color:rgba(135,206,250,0.043869916);\">fruity</span> <span style=\"background-color:rgba(135,206,250,0.06693267);\">wine</span> <span style=\"background-color:rgba(135,206,250,0.06515351);\">that</span> <span style=\"background-color:rgba(135,206,250,0.09965606);\">has</span> <span style=\"background-color:rgba(135,206,250,0.08735106);\">attractive</span> <span style=\"background-color:rgba(135,206,250,0.034761995);\">black</span> <span style=\"background-color:rgba(135,206,250,0.03638622);\">-</span> <span style=\"background-color:rgba(135,206,250,0.058466543);\">currant</span> <span style=\"background-color:rgba(135,206,250,0.13148704);\">flavors</span> <span style=\"background-color:rgba(135,206,250,0.1051645);\">and</span> <span style=\"background-color:rgba(135,206,250,0.07702459);\">a</span> <span style=\"background-color:rgba(135,206,250,0.116394594);\">soft</span> <span style=\"background-color:rgba(135,206,250,0.10688262);\">texture</span> <span style=\"background-color:rgba(135,206,250,0.7646583);\">.</span> <span style=\"background-color:rgba(135,206,250,0.221191);\">the</span> <span style=\"background-color:rgba(135,206,250,0.28516623);\">tannins</span> <span style=\"background-color:rgba(135,206,250,0.41691053);\">are</span> <span style=\"background-color:rgba(135,206,250,0.5589908);\">cushioned</span> <span style=\"background-color:rgba(135,206,250,1.0);\">by</span> <span style=\"background-color:rgba(135,206,250,0.7756505);\">the</span> <span style=\"background-color:rgba(135,206,250,0.50104314);\">rich</span> <span style=\"background-color:rgba(135,206,250,0.47796276);\">texture</span>"
      ],
      "text/plain": [
       "<IPython.core.display.HTML object>"
      ]
     },
     "metadata": {},
     "output_type": "display_data"
    },
    {
     "name": "stdout",
     "output_type": "stream",
     "text": [
      ",:   \t34.84%\n",
      "and:   \t30.43%\n",
      ".:   \t23.62%\n",
      "of:   \t9.53%\n",
      "that:   \t1.2%\n",
      "--------\n",
      "\n"
     ]
    },
    {
     "data": {
      "text/html": [
       "<span style=\"background-color:rgba(135,206,250,0.07905692);\">wine</span> <span style=\"background-color:rgba(135,206,250,0.14945787);\">review</span> <span style=\"background-color:rgba(135,206,250,0.15350546);\">:</span> <span style=\"background-color:rgba(135,206,250,0.31520373);\">france</span> <span style=\"background-color:rgba(135,206,250,0.12646583);\">:</span> <span style=\"background-color:rgba(135,206,250,0.12236764);\">bordeaux</span> <span style=\"background-color:rgba(135,206,250,0.097116284);\">:</span> <span style=\"background-color:rgba(135,206,250,0.082544036);\">bordeaux</span> <span style=\"background-color:rgba(135,206,250,0.081797175);\">-</span> <span style=\"background-color:rgba(135,206,250,0.041120924);\">style</span> <span style=\"background-color:rgba(135,206,250,0.041861024);\">red</span> <span style=\"background-color:rgba(135,206,250,0.025027065);\">blend</span> <span style=\"background-color:rgba(135,206,250,0.030124348);\">:</span> <span style=\"background-color:rgba(135,206,250,0.045012824);\">this</span> <span style=\"background-color:rgba(135,206,250,0.02843824);\">is</span> <span style=\"background-color:rgba(135,206,250,0.025970375);\">a</span> <span style=\"background-color:rgba(135,206,250,0.04826642);\">ripe</span> <span style=\"background-color:rgba(135,206,250,0.04821304);\">,</span> <span style=\"background-color:rgba(135,206,250,0.08119034);\">fruity</span> <span style=\"background-color:rgba(135,206,250,0.05720807);\">wine</span> <span style=\"background-color:rgba(135,206,250,0.039601393);\">that</span> <span style=\"background-color:rgba(135,206,250,0.05403288);\">has</span> <span style=\"background-color:rgba(135,206,250,0.06659861);\">attractive</span> <span style=\"background-color:rgba(135,206,250,0.048004825);\">black</span> <span style=\"background-color:rgba(135,206,250,0.03274714);\">-</span> <span style=\"background-color:rgba(135,206,250,0.0897946);\">currant</span> <span style=\"background-color:rgba(135,206,250,0.11225822);\">flavors</span> <span style=\"background-color:rgba(135,206,250,0.059636395);\">and</span> <span style=\"background-color:rgba(135,206,250,0.04688208);\">a</span> <span style=\"background-color:rgba(135,206,250,0.10951283);\">soft</span> <span style=\"background-color:rgba(135,206,250,0.09742623);\">texture</span> <span style=\"background-color:rgba(135,206,250,0.21374011);\">.</span> <span style=\"background-color:rgba(135,206,250,0.09417481);\">the</span> <span style=\"background-color:rgba(135,206,250,0.31678042);\">tannins</span> <span style=\"background-color:rgba(135,206,250,0.1521213);\">are</span> <span style=\"background-color:rgba(135,206,250,0.5016701);\">cushioned</span> <span style=\"background-color:rgba(135,206,250,0.24779217);\">by</span> <span style=\"background-color:rgba(135,206,250,0.4268571);\">the</span> <span style=\"background-color:rgba(135,206,250,0.53162825);\">rich</span> <span style=\"background-color:rgba(135,206,250,1.0);\">texture</span> <span style=\"background-color:rgba(135,206,250,0.25167325);\">of</span>"
      ],
      "text/plain": [
       "<IPython.core.display.HTML object>"
      ]
     },
     "metadata": {},
     "output_type": "display_data"
    },
    {
     "name": "stdout",
     "output_type": "stream",
     "text": [
      "the:   \t96.6%\n",
      "this:   \t2.86%\n",
      "cabernet:   \t0.44%\n",
      "a:   \t0.05%\n",
      "ripe:   \t0.01%\n",
      "--------\n",
      "\n"
     ]
    },
    {
     "data": {
      "text/html": [
       "<span style=\"background-color:rgba(135,206,250,0.08921969);\">wine</span> <span style=\"background-color:rgba(135,206,250,0.12496752);\">review</span> <span style=\"background-color:rgba(135,206,250,0.13574044);\">:</span> <span style=\"background-color:rgba(135,206,250,0.2270871);\">france</span> <span style=\"background-color:rgba(135,206,250,0.15071854);\">:</span> <span style=\"background-color:rgba(135,206,250,0.12088242);\">bordeaux</span> <span style=\"background-color:rgba(135,206,250,0.06279161);\">:</span> <span style=\"background-color:rgba(135,206,250,0.073172785);\">bordeaux</span> <span style=\"background-color:rgba(135,206,250,0.0545841);\">-</span> <span style=\"background-color:rgba(135,206,250,0.05095687);\">style</span> <span style=\"background-color:rgba(135,206,250,0.038382877);\">red</span> <span style=\"background-color:rgba(135,206,250,0.03850555);\">blend</span> <span style=\"background-color:rgba(135,206,250,0.02735764);\">:</span> <span style=\"background-color:rgba(135,206,250,0.03900561);\">this</span> <span style=\"background-color:rgba(135,206,250,0.030278116);\">is</span> <span style=\"background-color:rgba(135,206,250,0.021430008);\">a</span> <span style=\"background-color:rgba(135,206,250,0.054200053);\">ripe</span> <span style=\"background-color:rgba(135,206,250,0.03432801);\">,</span> <span style=\"background-color:rgba(135,206,250,0.07076519);\">fruity</span> <span style=\"background-color:rgba(135,206,250,0.08064788);\">wine</span> <span style=\"background-color:rgba(135,206,250,0.035560668);\">that</span> <span style=\"background-color:rgba(135,206,250,0.0417767);\">has</span> <span style=\"background-color:rgba(135,206,250,0.067272834);\">attractive</span> <span style=\"background-color:rgba(135,206,250,0.045420617);\">black</span> <span style=\"background-color:rgba(135,206,250,0.024420574);\">-</span> <span style=\"background-color:rgba(135,206,250,0.08915688);\">currant</span> <span style=\"background-color:rgba(135,206,250,0.19533366);\">flavors</span> <span style=\"background-color:rgba(135,206,250,0.045155864);\">and</span> <span style=\"background-color:rgba(135,206,250,0.032299213);\">a</span> <span style=\"background-color:rgba(135,206,250,0.09915551);\">soft</span> <span style=\"background-color:rgba(135,206,250,0.16603723);\">texture</span> <span style=\"background-color:rgba(135,206,250,0.20147006);\">.</span> <span style=\"background-color:rgba(135,206,250,0.027692791);\">the</span> <span style=\"background-color:rgba(135,206,250,0.22840232);\">tannins</span> <span style=\"background-color:rgba(135,206,250,0.139624);\">are</span> <span style=\"background-color:rgba(135,206,250,0.66908365);\">cushioned</span> <span style=\"background-color:rgba(135,206,250,0.3030797);\">by</span> <span style=\"background-color:rgba(135,206,250,0.08290923);\">the</span> <span style=\"background-color:rgba(135,206,250,0.30817917);\">rich</span> <span style=\"background-color:rgba(135,206,250,1.0);\">texture</span> <span style=\"background-color:rgba(135,206,250,0.7984863);\">of</span> <span style=\"background-color:rgba(135,206,250,0.34477597);\">the</span>"
      ],
      "text/plain": [
       "<IPython.core.display.HTML object>"
      ]
     },
     "metadata": {},
     "output_type": "display_data"
    },
    {
     "name": "stdout",
     "output_type": "stream",
     "text": [
      "wine:   \t89.36%\n",
      "vintage:   \t6.51%\n",
      "cabernet:   \t1.95%\n",
      "fruit:   \t1.29%\n",
      "ripe:   \t0.18%\n",
      "--------\n",
      "\n"
     ]
    },
    {
     "data": {
      "text/html": [
       "<span style=\"background-color:rgba(135,206,250,0.10470183);\">wine</span> <span style=\"background-color:rgba(135,206,250,0.3003056);\">review</span> <span style=\"background-color:rgba(135,206,250,0.27445224);\">:</span> <span style=\"background-color:rgba(135,206,250,0.62414527);\">france</span> <span style=\"background-color:rgba(135,206,250,0.3302639);\">:</span> <span style=\"background-color:rgba(135,206,250,0.10659413);\">bordeaux</span> <span style=\"background-color:rgba(135,206,250,0.13117053);\">:</span> <span style=\"background-color:rgba(135,206,250,0.066600524);\">bordeaux</span> <span style=\"background-color:rgba(135,206,250,0.06812577);\">-</span> <span style=\"background-color:rgba(135,206,250,0.059580818);\">style</span> <span style=\"background-color:rgba(135,206,250,0.04165189);\">red</span> <span style=\"background-color:rgba(135,206,250,0.07672962);\">blend</span> <span style=\"background-color:rgba(135,206,250,0.07646391);\">:</span> <span style=\"background-color:rgba(135,206,250,0.10206178);\">this</span> <span style=\"background-color:rgba(135,206,250,0.10896933);\">is</span> <span style=\"background-color:rgba(135,206,250,0.07123645);\">a</span> <span style=\"background-color:rgba(135,206,250,0.042671215);\">ripe</span> <span style=\"background-color:rgba(135,206,250,0.06505636);\">,</span> <span style=\"background-color:rgba(135,206,250,0.060252216);\">fruity</span> <span style=\"background-color:rgba(135,206,250,0.045781143);\">wine</span> <span style=\"background-color:rgba(135,206,250,0.076589026);\">that</span> <span style=\"background-color:rgba(135,206,250,0.102389865);\">has</span> <span style=\"background-color:rgba(135,206,250,0.0941006);\">attractive</span> <span style=\"background-color:rgba(135,206,250,0.048327185);\">black</span> <span style=\"background-color:rgba(135,206,250,0.042264767);\">-</span> <span style=\"background-color:rgba(135,206,250,0.084527545);\">currant</span> <span style=\"background-color:rgba(135,206,250,0.14473842);\">flavors</span> <span style=\"background-color:rgba(135,206,250,0.11838396);\">and</span> <span style=\"background-color:rgba(135,206,250,0.120531484);\">a</span> <span style=\"background-color:rgba(135,206,250,0.09520334);\">soft</span> <span style=\"background-color:rgba(135,206,250,0.12507991);\">texture</span> <span style=\"background-color:rgba(135,206,250,0.502423);\">.</span> <span style=\"background-color:rgba(135,206,250,0.1235591);\">the</span> <span style=\"background-color:rgba(135,206,250,0.231866);\">tannins</span> <span style=\"background-color:rgba(135,206,250,0.28228393);\">are</span> <span style=\"background-color:rgba(135,206,250,0.29208213);\">cushioned</span> <span style=\"background-color:rgba(135,206,250,0.3943596);\">by</span> <span style=\"background-color:rgba(135,206,250,0.34192276);\">the</span> <span style=\"background-color:rgba(135,206,250,0.33256721);\">rich</span> <span style=\"background-color:rgba(135,206,250,0.5139821);\">texture</span> <span style=\"background-color:rgba(135,206,250,1.0);\">of</span> <span style=\"background-color:rgba(135,206,250,0.95229775);\">the</span> <span style=\"background-color:rgba(135,206,250,0.581758);\">wine</span>"
      ],
      "text/plain": [
       "<IPython.core.display.HTML object>"
      ]
     },
     "metadata": {},
     "output_type": "display_data"
    },
    {
     "name": "stdout",
     "output_type": "stream",
     "text": [
      ".:   \t86.46%\n",
      ",:   \t11.02%\n",
      "that:   \t1.34%\n",
      "and:   \t0.42%\n",
      "is:   \t0.39%\n",
      "--------\n",
      "\n"
     ]
    },
    {
     "data": {
      "text/html": [
       "<span style=\"background-color:rgba(135,206,250,0.05456584);\">wine</span> <span style=\"background-color:rgba(135,206,250,0.122778594);\">review</span> <span style=\"background-color:rgba(135,206,250,0.10113936);\">:</span> <span style=\"background-color:rgba(135,206,250,0.24068217);\">france</span> <span style=\"background-color:rgba(135,206,250,0.108261794);\">:</span> <span style=\"background-color:rgba(135,206,250,0.05727135);\">bordeaux</span> <span style=\"background-color:rgba(135,206,250,0.057726115);\">:</span> <span style=\"background-color:rgba(135,206,250,0.03821531);\">bordeaux</span> <span style=\"background-color:rgba(135,206,250,0.04113699);\">-</span> <span style=\"background-color:rgba(135,206,250,0.029273117);\">style</span> <span style=\"background-color:rgba(135,206,250,0.024404373);\">red</span> <span style=\"background-color:rgba(135,206,250,0.032337684);\">blend</span> <span style=\"background-color:rgba(135,206,250,0.028085254);\">:</span> <span style=\"background-color:rgba(135,206,250,0.05715525);\">this</span> <span style=\"background-color:rgba(135,206,250,0.062640615);\">is</span> <span style=\"background-color:rgba(135,206,250,0.018235805);\">a</span> <span style=\"background-color:rgba(135,206,250,0.038324926);\">ripe</span> <span style=\"background-color:rgba(135,206,250,0.026813012);\">,</span> <span style=\"background-color:rgba(135,206,250,0.047459014);\">fruity</span> <span style=\"background-color:rgba(135,206,250,0.04088419);\">wine</span> <span style=\"background-color:rgba(135,206,250,0.04578684);\">that</span> <span style=\"background-color:rgba(135,206,250,0.06682238);\">has</span> <span style=\"background-color:rgba(135,206,250,0.053384278);\">attractive</span> <span style=\"background-color:rgba(135,206,250,0.03428922);\">black</span> <span style=\"background-color:rgba(135,206,250,0.017126197);\">-</span> <span style=\"background-color:rgba(135,206,250,0.056745283);\">currant</span> <span style=\"background-color:rgba(135,206,250,0.076654315);\">flavors</span> <span style=\"background-color:rgba(135,206,250,0.050111182);\">and</span> <span style=\"background-color:rgba(135,206,250,0.031953603);\">a</span> <span style=\"background-color:rgba(135,206,250,0.0875694);\">soft</span> <span style=\"background-color:rgba(135,206,250,0.069189765);\">texture</span> <span style=\"background-color:rgba(135,206,250,0.20902741);\">.</span> <span style=\"background-color:rgba(135,206,250,0.048376236);\">the</span> <span style=\"background-color:rgba(135,206,250,0.17034677);\">tannins</span> <span style=\"background-color:rgba(135,206,250,0.14896594);\">are</span> <span style=\"background-color:rgba(135,206,250,0.170183);\">cushioned</span> <span style=\"background-color:rgba(135,206,250,0.15299518);\">by</span> <span style=\"background-color:rgba(135,206,250,0.112360604);\">the</span> <span style=\"background-color:rgba(135,206,250,0.3179023);\">rich</span> <span style=\"background-color:rgba(135,206,250,0.38988426);\">texture</span> <span style=\"background-color:rgba(135,206,250,0.33447728);\">of</span> <span style=\"background-color:rgba(135,206,250,0.36077973);\">the</span> <span style=\"background-color:rgba(135,206,250,1.0);\">wine</span> <span style=\"background-color:rgba(135,206,250,0.47033465);\">,</span>"
      ],
      "text/plain": [
       "<IPython.core.display.HTML object>"
      ]
     },
     "metadata": {},
     "output_type": "display_data"
    },
    {
     "name": "stdout",
     "output_type": "stream",
     "text": [
      "with:   \t53.19%\n",
      "giving:   \t28.22%\n",
      "which:   \t6.69%\n",
      "but:   \t3.4%\n",
      "while:   \t2.62%\n",
      "--------\n",
      "\n"
     ]
    },
    {
     "data": {
      "text/html": [
       "<span style=\"background-color:rgba(135,206,250,0.12377238);\">wine</span> <span style=\"background-color:rgba(135,206,250,0.30537796);\">review</span> <span style=\"background-color:rgba(135,206,250,0.577701);\">:</span> <span style=\"background-color:rgba(135,206,250,0.769768);\">france</span> <span style=\"background-color:rgba(135,206,250,1.0);\">:</span> <span style=\"background-color:rgba(135,206,250,0.11677471);\">bordeaux</span> <span style=\"background-color:rgba(135,206,250,0.21267644);\">:</span> <span style=\"background-color:rgba(135,206,250,0.081695296);\">bordeaux</span> <span style=\"background-color:rgba(135,206,250,0.04693715);\">-</span> <span style=\"background-color:rgba(135,206,250,0.038461886);\">style</span> <span style=\"background-color:rgba(135,206,250,0.039667986);\">red</span> <span style=\"background-color:rgba(135,206,250,0.03654428);\">blend</span> <span style=\"background-color:rgba(135,206,250,0.06946939);\">:</span> <span style=\"background-color:rgba(135,206,250,0.086036235);\">this</span> <span style=\"background-color:rgba(135,206,250,0.051275026);\">is</span> <span style=\"background-color:rgba(135,206,250,0.03950817);\">a</span> <span style=\"background-color:rgba(135,206,250,0.029131845);\">ripe</span> <span style=\"background-color:rgba(135,206,250,0.043107647);\">,</span> <span style=\"background-color:rgba(135,206,250,0.027495295);\">fruity</span> <span style=\"background-color:rgba(135,206,250,0.089467175);\">wine</span> <span style=\"background-color:rgba(135,206,250,0.063548476);\">that</span> <span style=\"background-color:rgba(135,206,250,0.042720843);\">has</span> <span style=\"background-color:rgba(135,206,250,0.038418196);\">attractive</span> <span style=\"background-color:rgba(135,206,250,0.03174563);\">black</span> <span style=\"background-color:rgba(135,206,250,0.024210406);\">-</span> <span style=\"background-color:rgba(135,206,250,0.052609343);\">currant</span> <span style=\"background-color:rgba(135,206,250,0.120151006);\">flavors</span> <span style=\"background-color:rgba(135,206,250,0.08471039);\">and</span> <span style=\"background-color:rgba(135,206,250,0.06183444);\">a</span> <span style=\"background-color:rgba(135,206,250,0.07053553);\">soft</span> <span style=\"background-color:rgba(135,206,250,0.11594006);\">texture</span> <span style=\"background-color:rgba(135,206,250,0.20926681);\">.</span> <span style=\"background-color:rgba(135,206,250,0.07797841);\">the</span> <span style=\"background-color:rgba(135,206,250,0.17402561);\">tannins</span> <span style=\"background-color:rgba(135,206,250,0.1559747);\">are</span> <span style=\"background-color:rgba(135,206,250,0.20184107);\">cushioned</span> <span style=\"background-color:rgba(135,206,250,0.10485968);\">by</span> <span style=\"background-color:rgba(135,206,250,0.122168645);\">the</span> <span style=\"background-color:rgba(135,206,250,0.1453133);\">rich</span> <span style=\"background-color:rgba(135,206,250,0.31725234);\">texture</span> <span style=\"background-color:rgba(135,206,250,0.15845378);\">of</span> <span style=\"background-color:rgba(135,206,250,0.21135435);\">the</span> <span style=\"background-color:rgba(135,206,250,0.67116916);\">wine</span> <span style=\"background-color:rgba(135,206,250,0.71592337);\">,</span> <span style=\"background-color:rgba(135,206,250,0.26408064);\">giving</span>"
      ],
      "text/plain": [
       "<IPython.core.display.HTML object>"
      ]
     },
     "metadata": {},
     "output_type": "display_data"
    },
    {
     "name": "stdout",
     "output_type": "stream",
     "text": [
      "a:   \t96.61%\n",
      "the:   \t1.42%\n",
      "an:   \t1.4%\n",
      "it:   \t0.3%\n",
      "spice:   \t0.05%\n",
      "--------\n",
      "\n"
     ]
    },
    {
     "data": {
      "text/html": [
       "<span style=\"background-color:rgba(135,206,250,0.0568183);\">wine</span> <span style=\"background-color:rgba(135,206,250,0.07741397);\">review</span> <span style=\"background-color:rgba(135,206,250,0.085331164);\">:</span> <span style=\"background-color:rgba(135,206,250,0.18811007);\">france</span> <span style=\"background-color:rgba(135,206,250,0.09255222);\">:</span> <span style=\"background-color:rgba(135,206,250,0.06365369);\">bordeaux</span> <span style=\"background-color:rgba(135,206,250,0.047092278);\">:</span> <span style=\"background-color:rgba(135,206,250,0.04221023);\">bordeaux</span> <span style=\"background-color:rgba(135,206,250,0.029534416);\">-</span> <span style=\"background-color:rgba(135,206,250,0.021817984);\">style</span> <span style=\"background-color:rgba(135,206,250,0.025215197);\">red</span> <span style=\"background-color:rgba(135,206,250,0.021891577);\">blend</span> <span style=\"background-color:rgba(135,206,250,0.021695884);\">:</span> <span style=\"background-color:rgba(135,206,250,0.026573688);\">this</span> <span style=\"background-color:rgba(135,206,250,0.01924382);\">is</span> <span style=\"background-color:rgba(135,206,250,0.011916347);\">a</span> <span style=\"background-color:rgba(135,206,250,0.040928267);\">ripe</span> <span style=\"background-color:rgba(135,206,250,0.022751892);\">,</span> <span style=\"background-color:rgba(135,206,250,0.039734215);\">fruity</span> <span style=\"background-color:rgba(135,206,250,0.038107183);\">wine</span> <span style=\"background-color:rgba(135,206,250,0.016410977);\">that</span> <span style=\"background-color:rgba(135,206,250,0.024346441);\">has</span> <span style=\"background-color:rgba(135,206,250,0.059321277);\">attractive</span> <span style=\"background-color:rgba(135,206,250,0.023994755);\">black</span> <span style=\"background-color:rgba(135,206,250,0.01037148);\">-</span> <span style=\"background-color:rgba(135,206,250,0.047175303);\">currant</span> <span style=\"background-color:rgba(135,206,250,0.067109264);\">flavors</span> <span style=\"background-color:rgba(135,206,250,0.021773912);\">and</span> <span style=\"background-color:rgba(135,206,250,0.013895692);\">a</span> <span style=\"background-color:rgba(135,206,250,0.08508628);\">soft</span> <span style=\"background-color:rgba(135,206,250,0.060339216);\">texture</span> <span style=\"background-color:rgba(135,206,250,0.08411561);\">.</span> <span style=\"background-color:rgba(135,206,250,0.0235021);\">the</span> <span style=\"background-color:rgba(135,206,250,0.0838477);\">tannins</span> <span style=\"background-color:rgba(135,206,250,0.042134486);\">are</span> <span style=\"background-color:rgba(135,206,250,0.18093371);\">cushioned</span> <span style=\"background-color:rgba(135,206,250,0.057710614);\">by</span> <span style=\"background-color:rgba(135,206,250,0.04094639);\">the</span> <span style=\"background-color:rgba(135,206,250,0.11311372);\">rich</span> <span style=\"background-color:rgba(135,206,250,0.14734104);\">texture</span> <span style=\"background-color:rgba(135,206,250,0.10294073);\">of</span> <span style=\"background-color:rgba(135,206,250,0.10487689);\">the</span> <span style=\"background-color:rgba(135,206,250,0.30678105);\">wine</span> <span style=\"background-color:rgba(135,206,250,0.4380894);\">,</span> <span style=\"background-color:rgba(135,206,250,1.0);\">giving</span> <span style=\"background-color:rgba(135,206,250,0.16138643);\">a</span>"
      ],
      "text/plain": [
       "<IPython.core.display.HTML object>"
      ]
     },
     "metadata": {},
     "output_type": "display_data"
    },
    {
     "name": "stdout",
     "output_type": "stream",
     "text": [
      "wine:   \t65.33%\n",
      "lift:   \t10.92%\n",
      "fine:   \t2.98%\n",
      "ripe:   \t2.17%\n",
      "smooth:   \t2.06%\n",
      "--------\n",
      "\n"
     ]
    },
    {
     "data": {
      "text/html": [
       "<span style=\"background-color:rgba(135,206,250,0.053758547);\">wine</span> <span style=\"background-color:rgba(135,206,250,0.1459649);\">review</span> <span style=\"background-color:rgba(135,206,250,0.13425305);\">:</span> <span style=\"background-color:rgba(135,206,250,0.27255782);\">france</span> <span style=\"background-color:rgba(135,206,250,0.15502068);\">:</span> <span style=\"background-color:rgba(135,206,250,0.057940222);\">bordeaux</span> <span style=\"background-color:rgba(135,206,250,0.07031872);\">:</span> <span style=\"background-color:rgba(135,206,250,0.035021357);\">bordeaux</span> <span style=\"background-color:rgba(135,206,250,0.034333408);\">-</span> <span style=\"background-color:rgba(135,206,250,0.031627458);\">style</span> <span style=\"background-color:rgba(135,206,250,0.021701414);\">red</span> <span style=\"background-color:rgba(135,206,250,0.039289623);\">blend</span> <span style=\"background-color:rgba(135,206,250,0.040656526);\">:</span> <span style=\"background-color:rgba(135,206,250,0.057067424);\">this</span> <span style=\"background-color:rgba(135,206,250,0.055422787);\">is</span> <span style=\"background-color:rgba(135,206,250,0.037225407);\">a</span> <span style=\"background-color:rgba(135,206,250,0.021880623);\">ripe</span> <span style=\"background-color:rgba(135,206,250,0.03333938);\">,</span> <span style=\"background-color:rgba(135,206,250,0.03166716);\">fruity</span> <span style=\"background-color:rgba(135,206,250,0.022188485);\">wine</span> <span style=\"background-color:rgba(135,206,250,0.037861306);\">that</span> <span style=\"background-color:rgba(135,206,250,0.045702923);\">has</span> <span style=\"background-color:rgba(135,206,250,0.04902898);\">attractive</span> <span style=\"background-color:rgba(135,206,250,0.023180956);\">black</span> <span style=\"background-color:rgba(135,206,250,0.019169522);\">-</span> <span style=\"background-color:rgba(135,206,250,0.042383097);\">currant</span> <span style=\"background-color:rgba(135,206,250,0.07404307);\">flavors</span> <span style=\"background-color:rgba(135,206,250,0.056626383);\">and</span> <span style=\"background-color:rgba(135,206,250,0.0495043);\">a</span> <span style=\"background-color:rgba(135,206,250,0.04264502);\">soft</span> <span style=\"background-color:rgba(135,206,250,0.054520756);\">texture</span> <span style=\"background-color:rgba(135,206,250,0.20180053);\">.</span> <span style=\"background-color:rgba(135,206,250,0.041006014);\">the</span> <span style=\"background-color:rgba(135,206,250,0.09439398);\">tannins</span> <span style=\"background-color:rgba(135,206,250,0.08675897);\">are</span> <span style=\"background-color:rgba(135,206,250,0.09259958);\">cushioned</span> <span style=\"background-color:rgba(135,206,250,0.09575936);\">by</span> <span style=\"background-color:rgba(135,206,250,0.07646286);\">the</span> <span style=\"background-color:rgba(135,206,250,0.08666617);\">rich</span> <span style=\"background-color:rgba(135,206,250,0.12542202);\">texture</span> <span style=\"background-color:rgba(135,206,250,0.1733256);\">of</span> <span style=\"background-color:rgba(135,206,250,0.1608728);\">the</span> <span style=\"background-color:rgba(135,206,250,0.12301684);\">wine</span> <span style=\"background-color:rgba(135,206,250,0.45340544);\">,</span> <span style=\"background-color:rgba(135,206,250,1.0);\">giving</span> <span style=\"background-color:rgba(135,206,250,0.69029725);\">a</span> <span style=\"background-color:rgba(135,206,250,0.289705);\">wine</span>"
      ],
      "text/plain": [
       "<IPython.core.display.HTML object>"
      ]
     },
     "metadata": {},
     "output_type": "display_data"
    },
    {
     "name": "stdout",
     "output_type": "stream",
     "text": [
      "that:   \t99.44%\n",
      "with:   \t0.31%\n",
      ",:   \t0.13%\n",
      "to:   \t0.05%\n",
      ".:   \t0.04%\n",
      "--------\n",
      "\n"
     ]
    },
    {
     "data": {
      "text/html": [
       "<span style=\"background-color:rgba(135,206,250,0.06525045);\">wine</span> <span style=\"background-color:rgba(135,206,250,0.10051172);\">review</span> <span style=\"background-color:rgba(135,206,250,0.12729363);\">:</span> <span style=\"background-color:rgba(135,206,250,0.22607648);\">france</span> <span style=\"background-color:rgba(135,206,250,0.15165956);\">:</span> <span style=\"background-color:rgba(135,206,250,0.0651435);\">bordeaux</span> <span style=\"background-color:rgba(135,206,250,0.055694498);\">:</span> <span style=\"background-color:rgba(135,206,250,0.03220959);\">bordeaux</span> <span style=\"background-color:rgba(135,206,250,0.030980209);\">-</span> <span style=\"background-color:rgba(135,206,250,0.026278382);\">style</span> <span style=\"background-color:rgba(135,206,250,0.026267199);\">red</span> <span style=\"background-color:rgba(135,206,250,0.03144535);\">blend</span> <span style=\"background-color:rgba(135,206,250,0.032738186);\">:</span> <span style=\"background-color:rgba(135,206,250,0.033147503);\">this</span> <span style=\"background-color:rgba(135,206,250,0.027559577);\">is</span> <span style=\"background-color:rgba(135,206,250,0.044550873);\">a</span> <span style=\"background-color:rgba(135,206,250,0.025930304);\">ripe</span> <span style=\"background-color:rgba(135,206,250,0.029918578);\">,</span> <span style=\"background-color:rgba(135,206,250,0.02896074);\">fruity</span> <span style=\"background-color:rgba(135,206,250,0.0386945);\">wine</span> <span style=\"background-color:rgba(135,206,250,0.01994954);\">that</span> <span style=\"background-color:rgba(135,206,250,0.033375133);\">has</span> <span style=\"background-color:rgba(135,206,250,0.072055556);\">attractive</span> <span style=\"background-color:rgba(135,206,250,0.0192257);\">black</span> <span style=\"background-color:rgba(135,206,250,0.018275635);\">-</span> <span style=\"background-color:rgba(135,206,250,0.040588092);\">currant</span> <span style=\"background-color:rgba(135,206,250,0.08633755);\">flavors</span> <span style=\"background-color:rgba(135,206,250,0.042054623);\">and</span> <span style=\"background-color:rgba(135,206,250,0.05642402);\">a</span> <span style=\"background-color:rgba(135,206,250,0.051231097);\">soft</span> <span style=\"background-color:rgba(135,206,250,0.05349811);\">texture</span> <span style=\"background-color:rgba(135,206,250,0.11113018);\">.</span> <span style=\"background-color:rgba(135,206,250,0.041777108);\">the</span> <span style=\"background-color:rgba(135,206,250,0.115109816);\">tannins</span> <span style=\"background-color:rgba(135,206,250,0.04905578);\">are</span> <span style=\"background-color:rgba(135,206,250,0.15217318);\">cushioned</span> <span style=\"background-color:rgba(135,206,250,0.083025046);\">by</span> <span style=\"background-color:rgba(135,206,250,0.060250677);\">the</span> <span style=\"background-color:rgba(135,206,250,0.09111167);\">rich</span> <span style=\"background-color:rgba(135,206,250,0.15215743);\">texture</span> <span style=\"background-color:rgba(135,206,250,0.07347919);\">of</span> <span style=\"background-color:rgba(135,206,250,0.10103911);\">the</span> <span style=\"background-color:rgba(135,206,250,0.34181654);\">wine</span> <span style=\"background-color:rgba(135,206,250,0.23456724);\">,</span> <span style=\"background-color:rgba(135,206,250,0.34378806);\">giving</span> <span style=\"background-color:rgba(135,206,250,0.61983573);\">a</span> <span style=\"background-color:rgba(135,206,250,1.0);\">wine</span> <span style=\"background-color:rgba(135,206,250,0.14422265);\">that</span>"
      ],
      "text/plain": [
       "<IPython.core.display.HTML object>"
      ]
     },
     "metadata": {},
     "output_type": "display_data"
    },
    {
     "name": "stdout",
     "output_type": "stream",
     "text": [
      "will:   \t48.54%\n",
      "is:   \t47.06%\n",
      "needs:   \t1.4%\n",
      "has:   \t1.31%\n",
      "':   \t0.71%\n",
      "--------\n",
      "\n"
     ]
    },
    {
     "data": {
      "text/html": [
       "<span style=\"background-color:rgba(135,206,250,0.07078482);\">wine</span> <span style=\"background-color:rgba(135,206,250,0.12507924);\">review</span> <span style=\"background-color:rgba(135,206,250,0.1814827);\">:</span> <span style=\"background-color:rgba(135,206,250,0.31687832);\">france</span> <span style=\"background-color:rgba(135,206,250,0.16744666);\">:</span> <span style=\"background-color:rgba(135,206,250,0.08809418);\">bordeaux</span> <span style=\"background-color:rgba(135,206,250,0.09545314);\">:</span> <span style=\"background-color:rgba(135,206,250,0.05134243);\">bordeaux</span> <span style=\"background-color:rgba(135,206,250,0.06407971);\">-</span> <span style=\"background-color:rgba(135,206,250,0.04696591);\">style</span> <span style=\"background-color:rgba(135,206,250,0.036118116);\">red</span> <span style=\"background-color:rgba(135,206,250,0.03270724);\">blend</span> <span style=\"background-color:rgba(135,206,250,0.037030734);\">:</span> <span style=\"background-color:rgba(135,206,250,0.047559902);\">this</span> <span style=\"background-color:rgba(135,206,250,0.029240977);\">is</span> <span style=\"background-color:rgba(135,206,250,0.03494353);\">a</span> <span style=\"background-color:rgba(135,206,250,0.06587662);\">ripe</span> <span style=\"background-color:rgba(135,206,250,0.03938099);\">,</span> <span style=\"background-color:rgba(135,206,250,0.06622622);\">fruity</span> <span style=\"background-color:rgba(135,206,250,0.039021026);\">wine</span> <span style=\"background-color:rgba(135,206,250,0.02851734);\">that</span> <span style=\"background-color:rgba(135,206,250,0.045741804);\">has</span> <span style=\"background-color:rgba(135,206,250,0.07863911);\">attractive</span> <span style=\"background-color:rgba(135,206,250,0.04025121);\">black</span> <span style=\"background-color:rgba(135,206,250,0.019990873);\">-</span> <span style=\"background-color:rgba(135,206,250,0.06205803);\">currant</span> <span style=\"background-color:rgba(135,206,250,0.06440553);\">flavors</span> <span style=\"background-color:rgba(135,206,250,0.054737844);\">and</span> <span style=\"background-color:rgba(135,206,250,0.03931633);\">a</span> <span style=\"background-color:rgba(135,206,250,0.114378534);\">soft</span> <span style=\"background-color:rgba(135,206,250,0.054940023);\">texture</span> <span style=\"background-color:rgba(135,206,250,0.11182898);\">.</span> <span style=\"background-color:rgba(135,206,250,0.04365839);\">the</span> <span style=\"background-color:rgba(135,206,250,0.098915376);\">tannins</span> <span style=\"background-color:rgba(135,206,250,0.038434815);\">are</span> <span style=\"background-color:rgba(135,206,250,0.1679477);\">cushioned</span> <span style=\"background-color:rgba(135,206,250,0.049522355);\">by</span> <span style=\"background-color:rgba(135,206,250,0.060389984);\">the</span> <span style=\"background-color:rgba(135,206,250,0.19611426);\">rich</span> <span style=\"background-color:rgba(135,206,250,0.114399366);\">texture</span> <span style=\"background-color:rgba(135,206,250,0.06799541);\">of</span> <span style=\"background-color:rgba(135,206,250,0.12416764);\">the</span> <span style=\"background-color:rgba(135,206,250,0.24415098);\">wine</span> <span style=\"background-color:rgba(135,206,250,0.3487604);\">,</span> <span style=\"background-color:rgba(135,206,250,0.42780614);\">giving</span> <span style=\"background-color:rgba(135,206,250,0.28776246);\">a</span> <span style=\"background-color:rgba(135,206,250,1.0);\">wine</span> <span style=\"background-color:rgba(135,206,250,0.90325445);\">that</span> <span style=\"background-color:rgba(135,206,250,0.40126762);\">is</span>"
      ],
      "text/plain": [
       "<IPython.core.display.HTML object>"
      ]
     },
     "metadata": {},
     "output_type": "display_data"
    },
    {
     "name": "stdout",
     "output_type": "stream",
     "text": [
      "ready:   \t97.55%\n",
      "already:   \t1.97%\n",
      "developing:   \t0.18%\n",
      "now:   \t0.05%\n",
      "likely:   \t0.04%\n",
      "--------\n",
      "\n"
     ]
    },
    {
     "data": {
      "text/html": [
       "<span style=\"background-color:rgba(135,206,250,0.09431075);\">wine</span> <span style=\"background-color:rgba(135,206,250,0.18550122);\">review</span> <span style=\"background-color:rgba(135,206,250,0.16616273);\">:</span> <span style=\"background-color:rgba(135,206,250,0.320021);\">france</span> <span style=\"background-color:rgba(135,206,250,0.20515823);\">:</span> <span style=\"background-color:rgba(135,206,250,0.10385375);\">bordeaux</span> <span style=\"background-color:rgba(135,206,250,0.09670575);\">:</span> <span style=\"background-color:rgba(135,206,250,0.03715296);\">bordeaux</span> <span style=\"background-color:rgba(135,206,250,0.035564814);\">-</span> <span style=\"background-color:rgba(135,206,250,0.049294762);\">style</span> <span style=\"background-color:rgba(135,206,250,0.026566442);\">red</span> <span style=\"background-color:rgba(135,206,250,0.04561237);\">blend</span> <span style=\"background-color:rgba(135,206,250,0.052033573);\">:</span> <span style=\"background-color:rgba(135,206,250,0.04341442);\">this</span> <span style=\"background-color:rgba(135,206,250,0.06290793);\">is</span> <span style=\"background-color:rgba(135,206,250,0.043082353);\">a</span> <span style=\"background-color:rgba(135,206,250,0.031016674);\">ripe</span> <span style=\"background-color:rgba(135,206,250,0.033493757);\">,</span> <span style=\"background-color:rgba(135,206,250,0.054896485);\">fruity</span> <span style=\"background-color:rgba(135,206,250,0.03464941);\">wine</span> <span style=\"background-color:rgba(135,206,250,0.043474704);\">that</span> <span style=\"background-color:rgba(135,206,250,0.034599423);\">has</span> <span style=\"background-color:rgba(135,206,250,0.099423505);\">attractive</span> <span style=\"background-color:rgba(135,206,250,0.023353964);\">black</span> <span style=\"background-color:rgba(135,206,250,0.011285015);\">-</span> <span style=\"background-color:rgba(135,206,250,0.049400214);\">currant</span> <span style=\"background-color:rgba(135,206,250,0.06497734);\">flavors</span> <span style=\"background-color:rgba(135,206,250,0.02891332);\">and</span> <span style=\"background-color:rgba(135,206,250,0.03643131);\">a</span> <span style=\"background-color:rgba(135,206,250,0.061298102);\">soft</span> <span style=\"background-color:rgba(135,206,250,0.02780672);\">texture</span> <span style=\"background-color:rgba(135,206,250,0.1509738);\">.</span> <span style=\"background-color:rgba(135,206,250,0.021571511);\">the</span> <span style=\"background-color:rgba(135,206,250,0.04744947);\">tannins</span> <span style=\"background-color:rgba(135,206,250,0.046310034);\">are</span> <span style=\"background-color:rgba(135,206,250,0.07535982);\">cushioned</span> <span style=\"background-color:rgba(135,206,250,0.054082625);\">by</span> <span style=\"background-color:rgba(135,206,250,0.036027506);\">the</span> <span style=\"background-color:rgba(135,206,250,0.05581961);\">rich</span> <span style=\"background-color:rgba(135,206,250,0.054265212);\">texture</span> <span style=\"background-color:rgba(135,206,250,0.04788085);\">of</span> <span style=\"background-color:rgba(135,206,250,0.07257923);\">the</span> <span style=\"background-color:rgba(135,206,250,0.15968455);\">wine</span> <span style=\"background-color:rgba(135,206,250,0.21857877);\">,</span> <span style=\"background-color:rgba(135,206,250,0.34129435);\">giving</span> <span style=\"background-color:rgba(135,206,250,0.25673866);\">a</span> <span style=\"background-color:rgba(135,206,250,0.66841316);\">wine</span> <span style=\"background-color:rgba(135,206,250,0.58512795);\">that</span> <span style=\"background-color:rgba(135,206,250,1.0);\">is</span> <span style=\"background-color:rgba(135,206,250,0.3960151);\">already</span>"
      ],
      "text/plain": [
       "<IPython.core.display.HTML object>"
      ]
     },
     "metadata": {},
     "output_type": "display_data"
    },
    {
     "name": "stdout",
     "output_type": "stream",
     "text": [
      "ready:   \t31.69%\n",
      "delicious:   \t30.17%\n",
      "attractive:   \t16.57%\n",
      "drinkable:   \t10.96%\n",
      "accessible:   \t4.69%\n",
      "--------\n",
      "\n"
     ]
    },
    {
     "data": {
      "text/html": [
       "<span style=\"background-color:rgba(135,206,250,0.06461376);\">wine</span> <span style=\"background-color:rgba(135,206,250,0.100348026);\">review</span> <span style=\"background-color:rgba(135,206,250,0.11823766);\">:</span> <span style=\"background-color:rgba(135,206,250,0.19424866);\">france</span> <span style=\"background-color:rgba(135,206,250,0.10634461);\">:</span> <span style=\"background-color:rgba(135,206,250,0.09434248);\">bordeaux</span> <span style=\"background-color:rgba(135,206,250,0.07504828);\">:</span> <span style=\"background-color:rgba(135,206,250,0.061003067);\">bordeaux</span> <span style=\"background-color:rgba(135,206,250,0.052068044);\">-</span> <span style=\"background-color:rgba(135,206,250,0.040316463);\">style</span> <span style=\"background-color:rgba(135,206,250,0.039240405);\">red</span> <span style=\"background-color:rgba(135,206,250,0.027362308);\">blend</span> <span style=\"background-color:rgba(135,206,250,0.022521805);\">:</span> <span style=\"background-color:rgba(135,206,250,0.02710666);\">this</span> <span style=\"background-color:rgba(135,206,250,0.025499681);\">is</span> <span style=\"background-color:rgba(135,206,250,0.015645448);\">a</span> <span style=\"background-color:rgba(135,206,250,0.03373459);\">ripe</span> <span style=\"background-color:rgba(135,206,250,0.02943912);\">,</span> <span style=\"background-color:rgba(135,206,250,0.058225013);\">fruity</span> <span style=\"background-color:rgba(135,206,250,0.06853649);\">wine</span> <span style=\"background-color:rgba(135,206,250,0.026342869);\">that</span> <span style=\"background-color:rgba(135,206,250,0.031456005);\">has</span> <span style=\"background-color:rgba(135,206,250,0.042207222);\">attractive</span> <span style=\"background-color:rgba(135,206,250,0.036937457);\">black</span> <span style=\"background-color:rgba(135,206,250,0.016991375);\">-</span> <span style=\"background-color:rgba(135,206,250,0.050223526);\">currant</span> <span style=\"background-color:rgba(135,206,250,0.09975477);\">flavors</span> <span style=\"background-color:rgba(135,206,250,0.036017757);\">and</span> <span style=\"background-color:rgba(135,206,250,0.021820229);\">a</span> <span style=\"background-color:rgba(135,206,250,0.056494575);\">soft</span> <span style=\"background-color:rgba(135,206,250,0.08576566);\">texture</span> <span style=\"background-color:rgba(135,206,250,0.1479641);\">.</span> <span style=\"background-color:rgba(135,206,250,0.03136363);\">the</span> <span style=\"background-color:rgba(135,206,250,0.114000805);\">tannins</span> <span style=\"background-color:rgba(135,206,250,0.036048636);\">are</span> <span style=\"background-color:rgba(135,206,250,0.091694966);\">cushioned</span> <span style=\"background-color:rgba(135,206,250,0.041234296);\">by</span> <span style=\"background-color:rgba(135,206,250,0.04049717);\">the</span> <span style=\"background-color:rgba(135,206,250,0.066393465);\">rich</span> <span style=\"background-color:rgba(135,206,250,0.1277405);\">texture</span> <span style=\"background-color:rgba(135,206,250,0.056584906);\">of</span> <span style=\"background-color:rgba(135,206,250,0.072710335);\">the</span> <span style=\"background-color:rgba(135,206,250,0.21464017);\">wine</span> <span style=\"background-color:rgba(135,206,250,0.111604825);\">,</span> <span style=\"background-color:rgba(135,206,250,0.36145902);\">giving</span> <span style=\"background-color:rgba(135,206,250,0.17126912);\">a</span> <span style=\"background-color:rgba(135,206,250,0.5392989);\">wine</span> <span style=\"background-color:rgba(135,206,250,0.47882354);\">that</span> <span style=\"background-color:rgba(135,206,250,0.5215494);\">is</span> <span style=\"background-color:rgba(135,206,250,1.0);\">already</span> <span style=\"background-color:rgba(135,206,250,0.18660372);\">delicious</span>"
      ],
      "text/plain": [
       "<IPython.core.display.HTML object>"
      ]
     },
     "metadata": {},
     "output_type": "display_data"
    },
    {
     "name": "stdout",
     "output_type": "stream",
     "text": [
      ".:   \t98.74%\n",
      ",:   \t0.66%\n",
      "to:   \t0.3%\n",
      "and:   \t0.26%\n",
      "now:   \t0.01%\n",
      "--------\n",
      "\n"
     ]
    },
    {
     "data": {
      "text/html": [
       "<span style=\"background-color:rgba(135,206,250,0.10224816);\">wine</span> <span style=\"background-color:rgba(135,206,250,0.16598767);\">review</span> <span style=\"background-color:rgba(135,206,250,0.72457945);\">:</span> <span style=\"background-color:rgba(135,206,250,1.0);\">france</span> <span style=\"background-color:rgba(135,206,250,0.8443709);\">:</span> <span style=\"background-color:rgba(135,206,250,0.22788729);\">bordeaux</span> <span style=\"background-color:rgba(135,206,250,0.4939399);\">:</span> <span style=\"background-color:rgba(135,206,250,0.11049304);\">bordeaux</span> <span style=\"background-color:rgba(135,206,250,0.087070614);\">-</span> <span style=\"background-color:rgba(135,206,250,0.05791543);\">style</span> <span style=\"background-color:rgba(135,206,250,0.052792333);\">red</span> <span style=\"background-color:rgba(135,206,250,0.05613277);\">blend</span> <span style=\"background-color:rgba(135,206,250,0.067467526);\">:</span> <span style=\"background-color:rgba(135,206,250,0.10860248);\">this</span> <span style=\"background-color:rgba(135,206,250,0.07478064);\">is</span> <span style=\"background-color:rgba(135,206,250,0.038392812);\">a</span> <span style=\"background-color:rgba(135,206,250,0.046443786);\">ripe</span> <span style=\"background-color:rgba(135,206,250,0.0561515);\">,</span> <span style=\"background-color:rgba(135,206,250,0.06862028);\">fruity</span> <span style=\"background-color:rgba(135,206,250,0.07072755);\">wine</span> <span style=\"background-color:rgba(135,206,250,0.046726502);\">that</span> <span style=\"background-color:rgba(135,206,250,0.055017043);\">has</span> <span style=\"background-color:rgba(135,206,250,0.07546632);\">attractive</span> <span style=\"background-color:rgba(135,206,250,0.039523043);\">black</span> <span style=\"background-color:rgba(135,206,250,0.023892062);\">-</span> <span style=\"background-color:rgba(135,206,250,0.07363756);\">currant</span> <span style=\"background-color:rgba(135,206,250,0.13946745);\">flavors</span> <span style=\"background-color:rgba(135,206,250,0.05344201);\">and</span> <span style=\"background-color:rgba(135,206,250,0.037760563);\">a</span> <span style=\"background-color:rgba(135,206,250,0.07908256);\">soft</span> <span style=\"background-color:rgba(135,206,250,0.09548691);\">texture</span> <span style=\"background-color:rgba(135,206,250,0.14768998);\">.</span> <span style=\"background-color:rgba(135,206,250,0.04487752);\">the</span> <span style=\"background-color:rgba(135,206,250,0.19135638);\">tannins</span> <span style=\"background-color:rgba(135,206,250,0.09974064);\">are</span> <span style=\"background-color:rgba(135,206,250,0.16877279);\">cushioned</span> <span style=\"background-color:rgba(135,206,250,0.081371896);\">by</span> <span style=\"background-color:rgba(135,206,250,0.058977224);\">the</span> <span style=\"background-color:rgba(135,206,250,0.10609148);\">rich</span> <span style=\"background-color:rgba(135,206,250,0.14524838);\">texture</span> <span style=\"background-color:rgba(135,206,250,0.065805875);\">of</span> <span style=\"background-color:rgba(135,206,250,0.08503392);\">the</span> <span style=\"background-color:rgba(135,206,250,0.21341093);\">wine</span> <span style=\"background-color:rgba(135,206,250,0.14503199);\">,</span> <span style=\"background-color:rgba(135,206,250,0.20720969);\">giving</span> <span style=\"background-color:rgba(135,206,250,0.11982763);\">a</span> <span style=\"background-color:rgba(135,206,250,0.3063452);\">wine</span> <span style=\"background-color:rgba(135,206,250,0.19859248);\">that</span> <span style=\"background-color:rgba(135,206,250,0.32083994);\">is</span> <span style=\"background-color:rgba(135,206,250,0.26545122);\">already</span> <span style=\"background-color:rgba(135,206,250,0.41290373);\">delicious</span> <span style=\"background-color:rgba(135,206,250,0.57436943);\">.</span>"
      ],
      "text/plain": [
       "<IPython.core.display.HTML object>"
      ]
     },
     "metadata": {},
     "output_type": "display_data"
    },
    {
     "name": "stdout",
     "output_type": "stream",
     "text": [
      "drink:   \t99.31%\n",
      ":   \t0.43%\n",
      "it:   \t0.16%\n",
      "the:   \t0.09%\n",
      "a:   \t0.0%\n",
      "--------\n",
      "\n"
     ]
    },
    {
     "data": {
      "text/html": [
       "<span style=\"background-color:rgba(135,206,250,0.043246996);\">wine</span> <span style=\"background-color:rgba(135,206,250,0.059167083);\">review</span> <span style=\"background-color:rgba(135,206,250,0.123682916);\">:</span> <span style=\"background-color:rgba(135,206,250,0.27064547);\">france</span> <span style=\"background-color:rgba(135,206,250,0.09781241);\">:</span> <span style=\"background-color:rgba(135,206,250,0.13126801);\">bordeaux</span> <span style=\"background-color:rgba(135,206,250,0.06792253);\">:</span> <span style=\"background-color:rgba(135,206,250,0.07073602);\">bordeaux</span> <span style=\"background-color:rgba(135,206,250,0.02896233);\">-</span> <span style=\"background-color:rgba(135,206,250,0.059342347);\">style</span> <span style=\"background-color:rgba(135,206,250,0.038408544);\">red</span> <span style=\"background-color:rgba(135,206,250,0.024160648);\">blend</span> <span style=\"background-color:rgba(135,206,250,0.03431076);\">:</span> <span style=\"background-color:rgba(135,206,250,0.040333368);\">this</span> <span style=\"background-color:rgba(135,206,250,0.032138374);\">is</span> <span style=\"background-color:rgba(135,206,250,0.02434949);\">a</span> <span style=\"background-color:rgba(135,206,250,0.030753087);\">ripe</span> <span style=\"background-color:rgba(135,206,250,0.03565377);\">,</span> <span style=\"background-color:rgba(135,206,250,0.04820523);\">fruity</span> <span style=\"background-color:rgba(135,206,250,0.03195809);\">wine</span> <span style=\"background-color:rgba(135,206,250,0.040379345);\">that</span> <span style=\"background-color:rgba(135,206,250,0.038303066);\">has</span> <span style=\"background-color:rgba(135,206,250,0.058653276);\">attractive</span> <span style=\"background-color:rgba(135,206,250,0.032162476);\">black</span> <span style=\"background-color:rgba(135,206,250,0.0125165535);\">-</span> <span style=\"background-color:rgba(135,206,250,0.04111851);\">currant</span> <span style=\"background-color:rgba(135,206,250,0.046089843);\">flavors</span> <span style=\"background-color:rgba(135,206,250,0.031642824);\">and</span> <span style=\"background-color:rgba(135,206,250,0.023410918);\">a</span> <span style=\"background-color:rgba(135,206,250,0.04986273);\">soft</span> <span style=\"background-color:rgba(135,206,250,0.04645368);\">texture</span> <span style=\"background-color:rgba(135,206,250,0.07121695);\">.</span> <span style=\"background-color:rgba(135,206,250,0.029131064);\">the</span> <span style=\"background-color:rgba(135,206,250,0.030321965);\">tannins</span> <span style=\"background-color:rgba(135,206,250,0.032206826);\">are</span> <span style=\"background-color:rgba(135,206,250,0.08530873);\">cushioned</span> <span style=\"background-color:rgba(135,206,250,0.032541774);\">by</span> <span style=\"background-color:rgba(135,206,250,0.04043468);\">the</span> <span style=\"background-color:rgba(135,206,250,0.0707534);\">rich</span> <span style=\"background-color:rgba(135,206,250,0.067646705);\">texture</span> <span style=\"background-color:rgba(135,206,250,0.04189775);\">of</span> <span style=\"background-color:rgba(135,206,250,0.0592358);\">the</span> <span style=\"background-color:rgba(135,206,250,0.085705414);\">wine</span> <span style=\"background-color:rgba(135,206,250,0.122694984);\">,</span> <span style=\"background-color:rgba(135,206,250,0.14307612);\">giving</span> <span style=\"background-color:rgba(135,206,250,0.10014861);\">a</span> <span style=\"background-color:rgba(135,206,250,0.19447185);\">wine</span> <span style=\"background-color:rgba(135,206,250,0.19569464);\">that</span> <span style=\"background-color:rgba(135,206,250,0.3444621);\">is</span> <span style=\"background-color:rgba(135,206,250,0.37003857);\">already</span> <span style=\"background-color:rgba(135,206,250,0.44117633);\">delicious</span> <span style=\"background-color:rgba(135,206,250,1.0);\">.</span> <span style=\"background-color:rgba(135,206,250,0.2732005);\">drink</span>"
      ],
      "text/plain": [
       "<IPython.core.display.HTML object>"
      ]
     },
     "metadata": {},
     "output_type": "display_data"
    },
    {
     "name": "stdout",
     "output_type": "stream",
     "text": [
      "from:   \t97.99%\n",
      "now:   \t1.79%\n",
      "starting:   \t0.19%\n",
      "this:   \t0.03%\n",
      "soon:   \t0.0%\n",
      "--------\n",
      "\n"
     ]
    },
    {
     "data": {
      "text/html": [
       "<span style=\"background-color:rgba(135,206,250,0.06671335);\">wine</span> <span style=\"background-color:rgba(135,206,250,0.12978417);\">review</span> <span style=\"background-color:rgba(135,206,250,0.17666622);\">:</span> <span style=\"background-color:rgba(135,206,250,0.27264765);\">france</span> <span style=\"background-color:rgba(135,206,250,0.12610672);\">:</span> <span style=\"background-color:rgba(135,206,250,0.16494595);\">bordeaux</span> <span style=\"background-color:rgba(135,206,250,0.09257352);\">:</span> <span style=\"background-color:rgba(135,206,250,0.073737524);\">bordeaux</span> <span style=\"background-color:rgba(135,206,250,0.037762027);\">-</span> <span style=\"background-color:rgba(135,206,250,0.041882716);\">style</span> <span style=\"background-color:rgba(135,206,250,0.022213593);\">red</span> <span style=\"background-color:rgba(135,206,250,0.017602483);\">blend</span> <span style=\"background-color:rgba(135,206,250,0.023461275);\">:</span> <span style=\"background-color:rgba(135,206,250,0.033495672);\">this</span> <span style=\"background-color:rgba(135,206,250,0.01955985);\">is</span> <span style=\"background-color:rgba(135,206,250,0.020144904);\">a</span> <span style=\"background-color:rgba(135,206,250,0.019253748);\">ripe</span> <span style=\"background-color:rgba(135,206,250,0.03803452);\">,</span> <span style=\"background-color:rgba(135,206,250,0.03594703);\">fruity</span> <span style=\"background-color:rgba(135,206,250,0.017045053);\">wine</span> <span style=\"background-color:rgba(135,206,250,0.023905031);\">that</span> <span style=\"background-color:rgba(135,206,250,0.033685964);\">has</span> <span style=\"background-color:rgba(135,206,250,0.03947933);\">attractive</span> <span style=\"background-color:rgba(135,206,250,0.021945609);\">black</span> <span style=\"background-color:rgba(135,206,250,0.010987665);\">-</span> <span style=\"background-color:rgba(135,206,250,0.043191664);\">currant</span> <span style=\"background-color:rgba(135,206,250,0.037796754);\">flavors</span> <span style=\"background-color:rgba(135,206,250,0.03302193);\">and</span> <span style=\"background-color:rgba(135,206,250,0.020353);\">a</span> <span style=\"background-color:rgba(135,206,250,0.017119814);\">soft</span> <span style=\"background-color:rgba(135,206,250,0.033404574);\">texture</span> <span style=\"background-color:rgba(135,206,250,0.068960786);\">.</span> <span style=\"background-color:rgba(135,206,250,0.023024004);\">the</span> <span style=\"background-color:rgba(135,206,250,0.05034942);\">tannins</span> <span style=\"background-color:rgba(135,206,250,0.022882624);\">are</span> <span style=\"background-color:rgba(135,206,250,0.088296905);\">cushioned</span> <span style=\"background-color:rgba(135,206,250,0.017746856);\">by</span> <span style=\"background-color:rgba(135,206,250,0.028287869);\">the</span> <span style=\"background-color:rgba(135,206,250,0.04103763);\">rich</span> <span style=\"background-color:rgba(135,206,250,0.05282389);\">texture</span> <span style=\"background-color:rgba(135,206,250,0.02585307);\">of</span> <span style=\"background-color:rgba(135,206,250,0.040886503);\">the</span> <span style=\"background-color:rgba(135,206,250,0.047019154);\">wine</span> <span style=\"background-color:rgba(135,206,250,0.08947374);\">,</span> <span style=\"background-color:rgba(135,206,250,0.13424468);\">giving</span> <span style=\"background-color:rgba(135,206,250,0.061456393);\">a</span> <span style=\"background-color:rgba(135,206,250,0.09997965);\">wine</span> <span style=\"background-color:rgba(135,206,250,0.09995425);\">that</span> <span style=\"background-color:rgba(135,206,250,0.13250302);\">is</span> <span style=\"background-color:rgba(135,206,250,0.14814039);\">already</span> <span style=\"background-color:rgba(135,206,250,0.24434699);\">delicious</span> <span style=\"background-color:rgba(135,206,250,0.8859825);\">.</span> <span style=\"background-color:rgba(135,206,250,1.0);\">drink</span> <span style=\"background-color:rgba(135,206,250,0.15762365);\">from</span>"
      ],
      "text/plain": [
       "<IPython.core.display.HTML object>"
      ]
     },
     "metadata": {},
     "output_type": "display_data"
    },
    {
     "name": "stdout",
     "output_type": "stream",
     "text": [
      "2017:   \t68.59%\n",
      "2018:   \t17.3%\n",
      "2016:   \t7.52%\n",
      "2015:   \t2.07%\n",
      "2019:   \t1.78%\n",
      "--------\n",
      "\n"
     ]
    },
    {
     "data": {
      "text/html": [
       "<span style=\"background-color:rgba(135,206,250,0.09194237);\">wine</span> <span style=\"background-color:rgba(135,206,250,0.16586034);\">review</span> <span style=\"background-color:rgba(135,206,250,0.16130711);\">:</span> <span style=\"background-color:rgba(135,206,250,0.22489887);\">france</span> <span style=\"background-color:rgba(135,206,250,0.16315919);\">:</span> <span style=\"background-color:rgba(135,206,250,0.06755236);\">bordeaux</span> <span style=\"background-color:rgba(135,206,250,0.119042546);\">:</span> <span style=\"background-color:rgba(135,206,250,0.047500934);\">bordeaux</span> <span style=\"background-color:rgba(135,206,250,0.02596359);\">-</span> <span style=\"background-color:rgba(135,206,250,0.027666537);\">style</span> <span style=\"background-color:rgba(135,206,250,0.027688816);\">red</span> <span style=\"background-color:rgba(135,206,250,0.015453765);\">blend</span> <span style=\"background-color:rgba(135,206,250,0.036778387);\">:</span> <span style=\"background-color:rgba(135,206,250,0.023916693);\">this</span> <span style=\"background-color:rgba(135,206,250,0.025867421);\">is</span> <span style=\"background-color:rgba(135,206,250,0.023041828);\">a</span> <span style=\"background-color:rgba(135,206,250,0.018869778);\">ripe</span> <span style=\"background-color:rgba(135,206,250,0.032997247);\">,</span> <span style=\"background-color:rgba(135,206,250,0.017652087);\">fruity</span> <span style=\"background-color:rgba(135,206,250,0.04079934);\">wine</span> <span style=\"background-color:rgba(135,206,250,0.024811486);\">that</span> <span style=\"background-color:rgba(135,206,250,0.02896608);\">has</span> <span style=\"background-color:rgba(135,206,250,0.017165085);\">attractive</span> <span style=\"background-color:rgba(135,206,250,0.019320613);\">black</span> <span style=\"background-color:rgba(135,206,250,0.0068285847);\">-</span> <span style=\"background-color:rgba(135,206,250,0.014402849);\">currant</span> <span style=\"background-color:rgba(135,206,250,0.032007027);\">flavors</span> <span style=\"background-color:rgba(135,206,250,0.027419006);\">and</span> <span style=\"background-color:rgba(135,206,250,0.023933722);\">a</span> <span style=\"background-color:rgba(135,206,250,0.014840297);\">soft</span> <span style=\"background-color:rgba(135,206,250,0.0186255);\">texture</span> <span style=\"background-color:rgba(135,206,250,0.07387769);\">.</span> <span style=\"background-color:rgba(135,206,250,0.019722303);\">the</span> <span style=\"background-color:rgba(135,206,250,0.020194424);\">tannins</span> <span style=\"background-color:rgba(135,206,250,0.025992868);\">are</span> <span style=\"background-color:rgba(135,206,250,0.047109507);\">cushioned</span> <span style=\"background-color:rgba(135,206,250,0.038252667);\">by</span> <span style=\"background-color:rgba(135,206,250,0.026495095);\">the</span> <span style=\"background-color:rgba(135,206,250,0.023761753);\">rich</span> <span style=\"background-color:rgba(135,206,250,0.02699833);\">texture</span> <span style=\"background-color:rgba(135,206,250,0.029254414);\">of</span> <span style=\"background-color:rgba(135,206,250,0.031769484);\">the</span> <span style=\"background-color:rgba(135,206,250,0.08463659);\">wine</span> <span style=\"background-color:rgba(135,206,250,0.085908);\">,</span> <span style=\"background-color:rgba(135,206,250,0.15241203);\">giving</span> <span style=\"background-color:rgba(135,206,250,0.06899673);\">a</span> <span style=\"background-color:rgba(135,206,250,0.11879482);\">wine</span> <span style=\"background-color:rgba(135,206,250,0.08931663);\">that</span> <span style=\"background-color:rgba(135,206,250,0.13634418);\">is</span> <span style=\"background-color:rgba(135,206,250,0.11908009);\">already</span> <span style=\"background-color:rgba(135,206,250,0.11853996);\">delicious</span> <span style=\"background-color:rgba(135,206,250,0.6552022);\">.</span> <span style=\"background-color:rgba(135,206,250,1.0);\">drink</span> <span style=\"background-color:rgba(135,206,250,0.4550092);\">from</span> <span style=\"background-color:rgba(135,206,250,0.11856726);\">2017</span>"
      ],
      "text/plain": [
       "<IPython.core.display.HTML object>"
      ]
     },
     "metadata": {},
     "output_type": "display_data"
    },
    {
     "name": "stdout",
     "output_type": "stream",
     "text": [
      ".:   \t100.0%\n",
      "and:   \t0.0%\n",
      "to:   \t0.0%\n",
      ",:   \t0.0%\n",
      "for:   \t0.0%\n",
      "--------\n",
      "\n"
     ]
    },
    {
     "data": {
      "text/html": [
       "<span style=\"background-color:rgba(135,206,250,0.044681985);\">wine</span> <span style=\"background-color:rgba(135,206,250,0.06722207);\">review</span> <span style=\"background-color:rgba(135,206,250,0.23753658);\">:</span> <span style=\"background-color:rgba(135,206,250,0.35231262);\">france</span> <span style=\"background-color:rgba(135,206,250,0.2793144);\">:</span> <span style=\"background-color:rgba(135,206,250,0.09265192);\">bordeaux</span> <span style=\"background-color:rgba(135,206,250,0.19688623);\">:</span> <span style=\"background-color:rgba(135,206,250,0.04539891);\">bordeaux</span> <span style=\"background-color:rgba(135,206,250,0.03557569);\">-</span> <span style=\"background-color:rgba(135,206,250,0.025713528);\">style</span> <span style=\"background-color:rgba(135,206,250,0.023864133);\">red</span> <span style=\"background-color:rgba(135,206,250,0.024783615);\">blend</span> <span style=\"background-color:rgba(135,206,250,0.031178443);\">:</span> <span style=\"background-color:rgba(135,206,250,0.043032847);\">this</span> <span style=\"background-color:rgba(135,206,250,0.030492151);\">is</span> <span style=\"background-color:rgba(135,206,250,0.017738188);\">a</span> <span style=\"background-color:rgba(135,206,250,0.017712291);\">ripe</span> <span style=\"background-color:rgba(135,206,250,0.023744157);\">,</span> <span style=\"background-color:rgba(135,206,250,0.026828693);\">fruity</span> <span style=\"background-color:rgba(135,206,250,0.026864536);\">wine</span> <span style=\"background-color:rgba(135,206,250,0.018219775);\">that</span> <span style=\"background-color:rgba(135,206,250,0.02167708);\">has</span> <span style=\"background-color:rgba(135,206,250,0.027000807);\">attractive</span> <span style=\"background-color:rgba(135,206,250,0.014740217);\">black</span> <span style=\"background-color:rgba(135,206,250,0.009205865);\">-</span> <span style=\"background-color:rgba(135,206,250,0.027217263);\">currant</span> <span style=\"background-color:rgba(135,206,250,0.04870326);\">flavors</span> <span style=\"background-color:rgba(135,206,250,0.019313315);\">and</span> <span style=\"background-color:rgba(135,206,250,0.014393898);\">a</span> <span style=\"background-color:rgba(135,206,250,0.024041452);\">soft</span> <span style=\"background-color:rgba(135,206,250,0.03660626);\">texture</span> <span style=\"background-color:rgba(135,206,250,0.04597465);\">.</span> <span style=\"background-color:rgba(135,206,250,0.016059456);\">the</span> <span style=\"background-color:rgba(135,206,250,0.06769331);\">tannins</span> <span style=\"background-color:rgba(135,206,250,0.034218945);\">are</span> <span style=\"background-color:rgba(135,206,250,0.056757398);\">cushioned</span> <span style=\"background-color:rgba(135,206,250,0.02901243);\">by</span> <span style=\"background-color:rgba(135,206,250,0.020014385);\">the</span> <span style=\"background-color:rgba(135,206,250,0.031482294);\">rich</span> <span style=\"background-color:rgba(135,206,250,0.05175919);\">texture</span> <span style=\"background-color:rgba(135,206,250,0.022224108);\">of</span> <span style=\"background-color:rgba(135,206,250,0.027038412);\">the</span> <span style=\"background-color:rgba(135,206,250,0.06250027);\">wine</span> <span style=\"background-color:rgba(135,206,250,0.044453662);\">,</span> <span style=\"background-color:rgba(135,206,250,0.060040276);\">giving</span> <span style=\"background-color:rgba(135,206,250,0.034621686);\">a</span> <span style=\"background-color:rgba(135,206,250,0.08291278);\">wine</span> <span style=\"background-color:rgba(135,206,250,0.055844326);\">that</span> <span style=\"background-color:rgba(135,206,250,0.08014714);\">is</span> <span style=\"background-color:rgba(135,206,250,0.07474018);\">already</span> <span style=\"background-color:rgba(135,206,250,0.09583649);\">delicious</span> <span style=\"background-color:rgba(135,206,250,0.13712783);\">.</span> <span style=\"background-color:rgba(135,206,250,0.29802683);\">drink</span> <span style=\"background-color:rgba(135,206,250,0.066664815);\">from</span> <span style=\"background-color:rgba(135,206,250,1.0);\">2017</span> <span style=\"background-color:rgba(135,206,250,0.22117974);\">.</span>"
      ],
      "text/plain": [
       "<IPython.core.display.HTML object>"
      ]
     },
     "metadata": {},
     "output_type": "display_data"
    },
    {
     "name": "stdout",
     "output_type": "stream",
     "text": [
      ":   \t100.0%\n",
      "the:   \t0.0%\n",
      "it:   \t0.0%\n",
      "andré:   \t0.0%\n",
      "george:   \t0.0%\n",
      "--------\n",
      "\n"
     ]
    }
   ],
   "source": [
    "info = text_generator.generate(\n",
    "    \"wine review : france\", max_tokens=80, temperature=0.5\n",
    ")\n",
    "print_probs(info, vocab)"
   ]
  },
  {
   "cell_type": "code",
   "execution_count": 40,
   "id": "4122154c-9e41-44ba-8c5f-fe88a55fe977",
   "metadata": {},
   "outputs": [
    {
     "name": "stdout",
     "output_type": "stream",
     "text": [
      "\n",
      "generated text:\n",
      "wine review : england : england : chardonnay : a touch of apple scent the nose . the palate is all [UNK] . the same , however , the result is a slender , taut and slender , dry and whistle - clean , refreshing and the palate is whistle - clean , pure lemon and lime zest . there are glimpses of white grapefruit and quince , while the finish is persistent . \n",
      "\n"
     ]
    },
    {
     "data": {
      "text/html": [
       "<span style=\"background-color:rgba(135,206,250,0.8987679);\">wine</span> <span style=\"background-color:rgba(135,206,250,1.0);\">review</span> <span style=\"background-color:rgba(135,206,250,0.38152125);\">:</span> <span style=\"background-color:rgba(135,206,250,0.06392204);\">england</span>"
      ],
      "text/plain": [
       "<IPython.core.display.HTML object>"
      ]
     },
     "metadata": {},
     "output_type": "display_data"
    },
    {
     "name": "stdout",
     "output_type": "stream",
     "text": [
      "::   \t100.0%\n",
      "-:   \t0.0%\n",
      "and:   \t0.0%\n",
      "grosso:   \t0.0%\n",
      ",:   \t0.0%\n",
      "--------\n",
      "\n"
     ]
    },
    {
     "data": {
      "text/html": [
       "<span style=\"background-color:rgba(135,206,250,0.33991033);\">wine</span> <span style=\"background-color:rgba(135,206,250,0.32602206);\">review</span> <span style=\"background-color:rgba(135,206,250,0.44194168);\">:</span> <span style=\"background-color:rgba(135,206,250,1.0);\">england</span> <span style=\"background-color:rgba(135,206,250,0.29546812);\">:</span>"
      ],
      "text/plain": [
       "<IPython.core.display.HTML object>"
      ]
     },
     "metadata": {},
     "output_type": "display_data"
    },
    {
     "name": "stdout",
     "output_type": "stream",
     "text": [
      "england:   \t100.0%\n",
      "france:   \t0.0%\n",
      "us:   \t0.0%\n",
      "central:   \t0.0%\n",
      "alsace:   \t0.0%\n",
      "--------\n",
      "\n"
     ]
    },
    {
     "data": {
      "text/html": [
       "<span style=\"background-color:rgba(135,206,250,0.7604824);\">wine</span> <span style=\"background-color:rgba(135,206,250,1.0);\">review</span> <span style=\"background-color:rgba(135,206,250,0.40334272);\">:</span> <span style=\"background-color:rgba(135,206,250,0.07509189);\">england</span> <span style=\"background-color:rgba(135,206,250,0.46983317);\">:</span> <span style=\"background-color:rgba(135,206,250,0.093404666);\">england</span>"
      ],
      "text/plain": [
       "<IPython.core.display.HTML object>"
      ]
     },
     "metadata": {},
     "output_type": "display_data"
    },
    {
     "name": "stdout",
     "output_type": "stream",
     "text": [
      "::   \t100.0%\n",
      "and:   \t0.0%\n",
      "-:   \t0.0%\n",
      ",:   \t0.0%\n",
      "generosity:   \t0.0%\n",
      "--------\n",
      "\n"
     ]
    },
    {
     "data": {
      "text/html": [
       "<span style=\"background-color:rgba(135,206,250,0.52969325);\">wine</span> <span style=\"background-color:rgba(135,206,250,0.60572416);\">review</span> <span style=\"background-color:rgba(135,206,250,0.42107135);\">:</span> <span style=\"background-color:rgba(135,206,250,0.6846737);\">england</span> <span style=\"background-color:rgba(135,206,250,0.26006696);\">:</span> <span style=\"background-color:rgba(135,206,250,1.0);\">england</span> <span style=\"background-color:rgba(135,206,250,0.29170704);\">:</span>"
      ],
      "text/plain": [
       "<IPython.core.display.HTML object>"
      ]
     },
     "metadata": {},
     "output_type": "display_data"
    },
    {
     "name": "stdout",
     "output_type": "stream",
     "text": [
      "sparkling:   \t53.02%\n",
      "chardonnay:   \t27.58%\n",
      "pinot:   \t17.35%\n",
      "riesling:   \t0.73%\n",
      "sauvignon:   \t0.43%\n",
      "--------\n",
      "\n"
     ]
    },
    {
     "data": {
      "text/html": [
       "<span style=\"background-color:rgba(135,206,250,0.8192884);\">wine</span> <span style=\"background-color:rgba(135,206,250,1.0);\">review</span> <span style=\"background-color:rgba(135,206,250,0.35939226);\">:</span> <span style=\"background-color:rgba(135,206,250,0.30445316);\">england</span> <span style=\"background-color:rgba(135,206,250,0.29731202);\">:</span> <span style=\"background-color:rgba(135,206,250,0.39062166);\">england</span> <span style=\"background-color:rgba(135,206,250,0.33621928);\">:</span> <span style=\"background-color:rgba(135,206,250,0.122470796);\">chardonnay</span>"
      ],
      "text/plain": [
       "<IPython.core.display.HTML object>"
      ]
     },
     "metadata": {},
     "output_type": "display_data"
    },
    {
     "name": "stdout",
     "output_type": "stream",
     "text": [
      "::   \t99.98%\n",
      "-:   \t0.02%\n",
      ",:   \t0.0%\n",
      "and:   \t0.0%\n",
      "blend:   \t0.0%\n",
      "--------\n",
      "\n"
     ]
    },
    {
     "data": {
      "text/html": [
       "<span style=\"background-color:rgba(135,206,250,0.9096593);\">wine</span> <span style=\"background-color:rgba(135,206,250,0.91370183);\">review</span> <span style=\"background-color:rgba(135,206,250,0.5632309);\">:</span> <span style=\"background-color:rgba(135,206,250,0.5933711);\">england</span> <span style=\"background-color:rgba(135,206,250,0.41705185);\">:</span> <span style=\"background-color:rgba(135,206,250,1.0);\">england</span> <span style=\"background-color:rgba(135,206,250,0.5722525);\">:</span> <span style=\"background-color:rgba(135,206,250,0.47759417);\">chardonnay</span> <span style=\"background-color:rgba(135,206,250,0.5825716);\">:</span>"
      ],
      "text/plain": [
       "<IPython.core.display.HTML object>"
      ]
     },
     "metadata": {},
     "output_type": "display_data"
    },
    {
     "name": "stdout",
     "output_type": "stream",
     "text": [
      "a:   \t47.08%\n",
      "the:   \t27.38%\n",
      "while:   \t4.11%\n",
      "there:   \t2.96%\n",
      "an:   \t2.21%\n",
      "--------\n",
      "\n"
     ]
    },
    {
     "data": {
      "text/html": [
       "<span style=\"background-color:rgba(135,206,250,0.6256198);\">wine</span> <span style=\"background-color:rgba(135,206,250,0.5005575);\">review</span> <span style=\"background-color:rgba(135,206,250,0.30691397);\">:</span> <span style=\"background-color:rgba(135,206,250,1.0);\">england</span> <span style=\"background-color:rgba(135,206,250,0.28077304);\">:</span> <span style=\"background-color:rgba(135,206,250,0.9376769);\">england</span> <span style=\"background-color:rgba(135,206,250,0.18679456);\">:</span> <span style=\"background-color:rgba(135,206,250,0.23494469);\">chardonnay</span> <span style=\"background-color:rgba(135,206,250,0.3247816);\">:</span> <span style=\"background-color:rgba(135,206,250,0.17167102);\">a</span>"
      ],
      "text/plain": [
       "<IPython.core.display.HTML object>"
      ]
     },
     "metadata": {},
     "output_type": "display_data"
    },
    {
     "name": "stdout",
     "output_type": "stream",
     "text": [
      "touch:   \t93.52%\n",
      "hint:   \t2.63%\n",
      "little:   \t0.7%\n",
      "trio:   \t0.68%\n",
      "haze:   \t0.61%\n",
      "--------\n",
      "\n"
     ]
    },
    {
     "data": {
      "text/html": [
       "<span style=\"background-color:rgba(135,206,250,0.72349113);\">wine</span> <span style=\"background-color:rgba(135,206,250,1.0);\">review</span> <span style=\"background-color:rgba(135,206,250,0.39698064);\">:</span> <span style=\"background-color:rgba(135,206,250,0.53980887);\">england</span> <span style=\"background-color:rgba(135,206,250,0.32725978);\">:</span> <span style=\"background-color:rgba(135,206,250,0.6692197);\">england</span> <span style=\"background-color:rgba(135,206,250,0.22534682);\">:</span> <span style=\"background-color:rgba(135,206,250,0.17971429);\">chardonnay</span> <span style=\"background-color:rgba(135,206,250,0.39247218);\">:</span> <span style=\"background-color:rgba(135,206,250,0.35411167);\">a</span> <span style=\"background-color:rgba(135,206,250,0.15846919);\">touch</span>"
      ],
      "text/plain": [
       "<IPython.core.display.HTML object>"
      ]
     },
     "metadata": {},
     "output_type": "display_data"
    },
    {
     "name": "stdout",
     "output_type": "stream",
     "text": [
      "of:   \t99.92%\n",
      "on:   \t0.05%\n",
      "and:   \t0.01%\n",
      ",:   \t0.01%\n",
      "[UNK]:   \t0.0%\n",
      "--------\n",
      "\n"
     ]
    },
    {
     "data": {
      "text/html": [
       "<span style=\"background-color:rgba(135,206,250,0.5579141);\">wine</span> <span style=\"background-color:rgba(135,206,250,0.61250883);\">review</span> <span style=\"background-color:rgba(135,206,250,0.3095616);\">:</span> <span style=\"background-color:rgba(135,206,250,0.84025997);\">england</span> <span style=\"background-color:rgba(135,206,250,0.20327468);\">:</span> <span style=\"background-color:rgba(135,206,250,1.0);\">england</span> <span style=\"background-color:rgba(135,206,250,0.23374115);\">:</span> <span style=\"background-color:rgba(135,206,250,0.32914242);\">chardonnay</span> <span style=\"background-color:rgba(135,206,250,0.32410124);\">:</span> <span style=\"background-color:rgba(135,206,250,0.38032478);\">a</span> <span style=\"background-color:rgba(135,206,250,0.4221264);\">touch</span> <span style=\"background-color:rgba(135,206,250,0.17223267);\">of</span>"
      ],
      "text/plain": [
       "<IPython.core.display.HTML object>"
      ]
     },
     "metadata": {},
     "output_type": "display_data"
    },
    {
     "name": "stdout",
     "output_type": "stream",
     "text": [
      "golden:   \t26.43%\n",
      "green:   \t12.88%\n",
      "ripe:   \t9.48%\n",
      "the:   \t8.92%\n",
      "a:   \t5.38%\n",
      "--------\n",
      "\n"
     ]
    },
    {
     "data": {
      "text/html": [
       "<span style=\"background-color:rgba(135,206,250,1.0);\">wine</span> <span style=\"background-color:rgba(135,206,250,0.90086037);\">review</span> <span style=\"background-color:rgba(135,206,250,0.27771115);\">:</span> <span style=\"background-color:rgba(135,206,250,0.61743677);\">england</span> <span style=\"background-color:rgba(135,206,250,0.45365041);\">:</span> <span style=\"background-color:rgba(135,206,250,0.5090639);\">england</span> <span style=\"background-color:rgba(135,206,250,0.21474408);\">:</span> <span style=\"background-color:rgba(135,206,250,0.13877419);\">chardonnay</span> <span style=\"background-color:rgba(135,206,250,0.29959908);\">:</span> <span style=\"background-color:rgba(135,206,250,0.7311222);\">a</span> <span style=\"background-color:rgba(135,206,250,0.8671951);\">touch</span> <span style=\"background-color:rgba(135,206,250,0.7635123);\">of</span> <span style=\"background-color:rgba(135,206,250,0.35802096);\">apple</span>"
      ],
      "text/plain": [
       "<IPython.core.display.HTML object>"
      ]
     },
     "metadata": {},
     "output_type": "display_data"
    },
    {
     "name": "stdout",
     "output_type": "stream",
     "text": [
      "and:   \t16.85%\n",
      "hovers:   \t11.39%\n",
      "peel:   \t10.5%\n",
      "plays:   \t9.69%\n",
      "play:   \t7.18%\n",
      "--------\n",
      "\n"
     ]
    },
    {
     "data": {
      "text/html": [
       "<span style=\"background-color:rgba(135,206,250,0.7699591);\">wine</span> <span style=\"background-color:rgba(135,206,250,1.0);\">review</span> <span style=\"background-color:rgba(135,206,250,0.31074855);\">:</span> <span style=\"background-color:rgba(135,206,250,0.2574841);\">england</span> <span style=\"background-color:rgba(135,206,250,0.2660713);\">:</span> <span style=\"background-color:rgba(135,206,250,0.29794663);\">england</span> <span style=\"background-color:rgba(135,206,250,0.19646752);\">:</span> <span style=\"background-color:rgba(135,206,250,0.14265385);\">chardonnay</span> <span style=\"background-color:rgba(135,206,250,0.26079923);\">:</span> <span style=\"background-color:rgba(135,206,250,0.27512756);\">a</span> <span style=\"background-color:rgba(135,206,250,0.3083702);\">touch</span> <span style=\"background-color:rgba(135,206,250,0.3676926);\">of</span> <span style=\"background-color:rgba(135,206,250,0.5220742);\">apple</span> <span style=\"background-color:rgba(135,206,250,0.19268997);\">scent</span>"
      ],
      "text/plain": [
       "<IPython.core.display.HTML object>"
      ]
     },
     "metadata": {},
     "output_type": "display_data"
    },
    {
     "name": "stdout",
     "output_type": "stream",
     "text": [
      "the:   \t87.89%\n",
      "and:   \t2.72%\n",
      "this:   \t2.45%\n",
      "kicks:   \t1.77%\n",
      "plays:   \t1.52%\n",
      "--------\n",
      "\n"
     ]
    },
    {
     "data": {
      "text/html": [
       "<span style=\"background-color:rgba(135,206,250,0.59302896);\">wine</span> <span style=\"background-color:rgba(135,206,250,0.4991421);\">review</span> <span style=\"background-color:rgba(135,206,250,0.34340185);\">:</span> <span style=\"background-color:rgba(135,206,250,1.0);\">england</span> <span style=\"background-color:rgba(135,206,250,0.33661175);\">:</span> <span style=\"background-color:rgba(135,206,250,0.8504957);\">england</span> <span style=\"background-color:rgba(135,206,250,0.17192969);\">:</span> <span style=\"background-color:rgba(135,206,250,0.3176221);\">chardonnay</span> <span style=\"background-color:rgba(135,206,250,0.24384268);\">:</span> <span style=\"background-color:rgba(135,206,250,0.21509525);\">a</span> <span style=\"background-color:rgba(135,206,250,0.44325906);\">touch</span> <span style=\"background-color:rgba(135,206,250,0.34044793);\">of</span> <span style=\"background-color:rgba(135,206,250,0.7872073);\">apple</span> <span style=\"background-color:rgba(135,206,250,0.99818796);\">scent</span> <span style=\"background-color:rgba(135,206,250,0.32295167);\">the</span>"
      ],
      "text/plain": [
       "<IPython.core.display.HTML object>"
      ]
     },
     "metadata": {},
     "output_type": "display_data"
    },
    {
     "name": "stdout",
     "output_type": "stream",
     "text": [
      "nose:   \t99.25%\n",
      "scent:   \t0.29%\n",
      "first:   \t0.07%\n",
      "mix:   \t0.06%\n",
      "aromatic:   \t0.06%\n",
      "--------\n",
      "\n"
     ]
    },
    {
     "data": {
      "text/html": [
       "<span style=\"background-color:rgba(135,206,250,0.52174187);\">wine</span> <span style=\"background-color:rgba(135,206,250,1.0);\">review</span> <span style=\"background-color:rgba(135,206,250,0.2405121);\">:</span> <span style=\"background-color:rgba(135,206,250,0.4108525);\">england</span> <span style=\"background-color:rgba(135,206,250,0.2652091);\">:</span> <span style=\"background-color:rgba(135,206,250,0.2856255);\">england</span> <span style=\"background-color:rgba(135,206,250,0.15444155);\">:</span> <span style=\"background-color:rgba(135,206,250,0.10872929);\">chardonnay</span> <span style=\"background-color:rgba(135,206,250,0.22127521);\">:</span> <span style=\"background-color:rgba(135,206,250,0.3326503);\">a</span> <span style=\"background-color:rgba(135,206,250,0.36097208);\">touch</span> <span style=\"background-color:rgba(135,206,250,0.39673838);\">of</span> <span style=\"background-color:rgba(135,206,250,0.57958794);\">apple</span> <span style=\"background-color:rgba(135,206,250,0.48825556);\">scent</span> <span style=\"background-color:rgba(135,206,250,0.6880138);\">the</span> <span style=\"background-color:rgba(135,206,250,0.294865);\">nose</span>"
      ],
      "text/plain": [
       "<IPython.core.display.HTML object>"
      ]
     },
     "metadata": {},
     "output_type": "display_data"
    },
    {
     "name": "stdout",
     "output_type": "stream",
     "text": [
      "is:   \t25.61%\n",
      ".:   \t23.65%\n",
      "and:   \t21.85%\n",
      ",:   \t8.38%\n",
      "promises:   \t5.18%\n",
      "--------\n",
      "\n"
     ]
    },
    {
     "data": {
      "text/html": [
       "<span style=\"background-color:rgba(135,206,250,0.38757646);\">wine</span> <span style=\"background-color:rgba(135,206,250,1.0);\">review</span> <span style=\"background-color:rgba(135,206,250,0.14815491);\">:</span> <span style=\"background-color:rgba(135,206,250,0.21787474);\">england</span> <span style=\"background-color:rgba(135,206,250,0.12368479);\">:</span> <span style=\"background-color:rgba(135,206,250,0.20303555);\">england</span> <span style=\"background-color:rgba(135,206,250,0.16839752);\">:</span> <span style=\"background-color:rgba(135,206,250,0.16506734);\">chardonnay</span> <span style=\"background-color:rgba(135,206,250,0.1658377);\">:</span> <span style=\"background-color:rgba(135,206,250,0.119667634);\">a</span> <span style=\"background-color:rgba(135,206,250,0.12680359);\">touch</span> <span style=\"background-color:rgba(135,206,250,0.1300086);\">of</span> <span style=\"background-color:rgba(135,206,250,0.18262179);\">apple</span> <span style=\"background-color:rgba(135,206,250,0.26644614);\">scent</span> <span style=\"background-color:rgba(135,206,250,0.17406924);\">the</span> <span style=\"background-color:rgba(135,206,250,0.25934646);\">nose</span> <span style=\"background-color:rgba(135,206,250,0.27546585);\">.</span>"
      ],
      "text/plain": [
       "<IPython.core.display.HTML object>"
      ]
     },
     "metadata": {},
     "output_type": "display_data"
    },
    {
     "name": "stdout",
     "output_type": "stream",
     "text": [
      "the:   \t98.65%\n",
      "on:   \t0.68%\n",
      "there:   \t0.36%\n",
      "these:   \t0.13%\n",
      "this:   \t0.03%\n",
      "--------\n",
      "\n"
     ]
    },
    {
     "data": {
      "text/html": [
       "<span style=\"background-color:rgba(135,206,250,0.24412012);\">wine</span> <span style=\"background-color:rgba(135,206,250,0.2425733);\">review</span> <span style=\"background-color:rgba(135,206,250,0.16199751);\">:</span> <span style=\"background-color:rgba(135,206,250,0.4294385);\">england</span> <span style=\"background-color:rgba(135,206,250,0.1614337);\">:</span> <span style=\"background-color:rgba(135,206,250,0.32624432);\">england</span> <span style=\"background-color:rgba(135,206,250,0.08035983);\">:</span> <span style=\"background-color:rgba(135,206,250,0.15678932);\">chardonnay</span> <span style=\"background-color:rgba(135,206,250,0.110694915);\">:</span> <span style=\"background-color:rgba(135,206,250,0.07953768);\">a</span> <span style=\"background-color:rgba(135,206,250,0.15645027);\">touch</span> <span style=\"background-color:rgba(135,206,250,0.10502367);\">of</span> <span style=\"background-color:rgba(135,206,250,0.20204028);\">apple</span> <span style=\"background-color:rgba(135,206,250,0.27724177);\">scent</span> <span style=\"background-color:rgba(135,206,250,0.08905278);\">the</span> <span style=\"background-color:rgba(135,206,250,0.4159995);\">nose</span> <span style=\"background-color:rgba(135,206,250,1.0);\">.</span> <span style=\"background-color:rgba(135,206,250,0.17032285);\">the</span>"
      ],
      "text/plain": [
       "<IPython.core.display.HTML object>"
      ]
     },
     "metadata": {},
     "output_type": "display_data"
    },
    {
     "name": "stdout",
     "output_type": "stream",
     "text": [
      "palate:   \t98.79%\n",
      "mellowness:   \t0.28%\n",
      "frothy:   \t0.25%\n",
      "ripe:   \t0.2%\n",
      "creamy:   \t0.12%\n",
      "--------\n",
      "\n"
     ]
    },
    {
     "data": {
      "text/html": [
       "<span style=\"background-color:rgba(135,206,250,0.29772273);\">wine</span> <span style=\"background-color:rgba(135,206,250,0.7628781);\">review</span> <span style=\"background-color:rgba(135,206,250,0.20542799);\">:</span> <span style=\"background-color:rgba(135,206,250,0.32874835);\">england</span> <span style=\"background-color:rgba(135,206,250,0.1906435);\">:</span> <span style=\"background-color:rgba(135,206,250,0.17335938);\">england</span> <span style=\"background-color:rgba(135,206,250,0.11169555);\">:</span> <span style=\"background-color:rgba(135,206,250,0.054238603);\">chardonnay</span> <span style=\"background-color:rgba(135,206,250,0.12572408);\">:</span> <span style=\"background-color:rgba(135,206,250,0.15605557);\">a</span> <span style=\"background-color:rgba(135,206,250,0.1395094);\">touch</span> <span style=\"background-color:rgba(135,206,250,0.11539403);\">of</span> <span style=\"background-color:rgba(135,206,250,0.10338203);\">apple</span> <span style=\"background-color:rgba(135,206,250,0.22015448);\">scent</span> <span style=\"background-color:rgba(135,206,250,0.17794183);\">the</span> <span style=\"background-color:rgba(135,206,250,0.2569392);\">nose</span> <span style=\"background-color:rgba(135,206,250,1.0);\">.</span> <span style=\"background-color:rgba(135,206,250,0.4051131);\">the</span> <span style=\"background-color:rgba(135,206,250,0.27382657);\">palate</span>"
      ],
      "text/plain": [
       "<IPython.core.display.HTML object>"
      ]
     },
     "metadata": {},
     "output_type": "display_data"
    },
    {
     "name": "stdout",
     "output_type": "stream",
     "text": [
      "is:   \t80.58%\n",
      "follows:   \t4.56%\n",
      "continues:   \t4.04%\n",
      "counters:   \t1.86%\n",
      "reveals:   \t1.57%\n",
      "--------\n",
      "\n"
     ]
    },
    {
     "data": {
      "text/html": [
       "<span style=\"background-color:rgba(135,206,250,0.3021274);\">wine</span> <span style=\"background-color:rgba(135,206,250,0.5415513);\">review</span> <span style=\"background-color:rgba(135,206,250,0.48131695);\">:</span> <span style=\"background-color:rgba(135,206,250,1.0);\">england</span> <span style=\"background-color:rgba(135,206,250,0.45110187);\">:</span> <span style=\"background-color:rgba(135,206,250,0.49341956);\">england</span> <span style=\"background-color:rgba(135,206,250,0.21927485);\">:</span> <span style=\"background-color:rgba(135,206,250,0.23166701);\">chardonnay</span> <span style=\"background-color:rgba(135,206,250,0.2687337);\">:</span> <span style=\"background-color:rgba(135,206,250,0.17240456);\">a</span> <span style=\"background-color:rgba(135,206,250,0.1614494);\">touch</span> <span style=\"background-color:rgba(135,206,250,0.1399519);\">of</span> <span style=\"background-color:rgba(135,206,250,0.17757711);\">apple</span> <span style=\"background-color:rgba(135,206,250,0.5389327);\">scent</span> <span style=\"background-color:rgba(135,206,250,0.27232522);\">the</span> <span style=\"background-color:rgba(135,206,250,0.49303377);\">nose</span> <span style=\"background-color:rgba(135,206,250,0.70475715);\">.</span> <span style=\"background-color:rgba(135,206,250,0.42061472);\">the</span> <span style=\"background-color:rgba(135,206,250,0.9064112);\">palate</span> <span style=\"background-color:rgba(135,206,250,0.24974766);\">is</span>"
      ],
      "text/plain": [
       "<IPython.core.display.HTML object>"
      ]
     },
     "metadata": {},
     "output_type": "display_data"
    },
    {
     "name": "stdout",
     "output_type": "stream",
     "text": [
      "joined:   \t48.65%\n",
      "more:   \t6.66%\n",
      "tart:   \t5.99%\n",
      "all:   \t4.0%\n",
      "where:   \t3.26%\n",
      "--------\n",
      "\n"
     ]
    },
    {
     "data": {
      "text/html": [
       "<span style=\"background-color:rgba(135,206,250,0.2903217);\">wine</span> <span style=\"background-color:rgba(135,206,250,0.65463823);\">review</span> <span style=\"background-color:rgba(135,206,250,0.34942296);\">:</span> <span style=\"background-color:rgba(135,206,250,0.39581892);\">england</span> <span style=\"background-color:rgba(135,206,250,0.33055055);\">:</span> <span style=\"background-color:rgba(135,206,250,0.21907912);\">england</span> <span style=\"background-color:rgba(135,206,250,0.20504175);\">:</span> <span style=\"background-color:rgba(135,206,250,0.2139013);\">chardonnay</span> <span style=\"background-color:rgba(135,206,250,0.2189292);\">:</span> <span style=\"background-color:rgba(135,206,250,0.094595775);\">a</span> <span style=\"background-color:rgba(135,206,250,0.117791824);\">touch</span> <span style=\"background-color:rgba(135,206,250,0.1387181);\">of</span> <span style=\"background-color:rgba(135,206,250,0.12603311);\">apple</span> <span style=\"background-color:rgba(135,206,250,0.40177602);\">scent</span> <span style=\"background-color:rgba(135,206,250,0.22039275);\">the</span> <span style=\"background-color:rgba(135,206,250,0.36533606);\">nose</span> <span style=\"background-color:rgba(135,206,250,0.7233964);\">.</span> <span style=\"background-color:rgba(135,206,250,0.56756383);\">the</span> <span style=\"background-color:rgba(135,206,250,0.608827);\">palate</span> <span style=\"background-color:rgba(135,206,250,1.0);\">is</span> <span style=\"background-color:rgba(135,206,250,0.16636577);\">all</span>"
      ],
      "text/plain": [
       "<IPython.core.display.HTML object>"
      ]
     },
     "metadata": {},
     "output_type": "display_data"
    },
    {
     "name": "stdout",
     "output_type": "stream",
     "text": [
      "there:   \t23.69%\n",
      "about:   \t19.59%\n",
      "of:   \t17.32%\n",
      "the:   \t12.89%\n",
      "[UNK]:   \t9.47%\n",
      "--------\n",
      "\n"
     ]
    },
    {
     "data": {
      "text/html": [
       "<span style=\"background-color:rgba(135,206,250,0.4264756);\">wine</span> <span style=\"background-color:rgba(135,206,250,0.8888575);\">review</span> <span style=\"background-color:rgba(135,206,250,0.44604498);\">:</span> <span style=\"background-color:rgba(135,206,250,0.7686155);\">england</span> <span style=\"background-color:rgba(135,206,250,0.450665);\">:</span> <span style=\"background-color:rgba(135,206,250,0.42551973);\">england</span> <span style=\"background-color:rgba(135,206,250,0.25360262);\">:</span> <span style=\"background-color:rgba(135,206,250,0.3147973);\">chardonnay</span> <span style=\"background-color:rgba(135,206,250,0.34636304);\">:</span> <span style=\"background-color:rgba(135,206,250,0.22613895);\">a</span> <span style=\"background-color:rgba(135,206,250,0.14080627);\">touch</span> <span style=\"background-color:rgba(135,206,250,0.16965073);\">of</span> <span style=\"background-color:rgba(135,206,250,0.19109045);\">apple</span> <span style=\"background-color:rgba(135,206,250,0.690169);\">scent</span> <span style=\"background-color:rgba(135,206,250,0.21973664);\">the</span> <span style=\"background-color:rgba(135,206,250,0.38346857);\">nose</span> <span style=\"background-color:rgba(135,206,250,0.7123287);\">.</span> <span style=\"background-color:rgba(135,206,250,0.45905176);\">the</span> <span style=\"background-color:rgba(135,206,250,1.0);\">palate</span> <span style=\"background-color:rgba(135,206,250,0.9774078);\">is</span> <span style=\"background-color:rgba(135,206,250,0.8564964);\">all</span> <span style=\"background-color:rgba(135,206,250,0.3651508);\">[UNK]</span>"
      ],
      "text/plain": [
       "<IPython.core.display.HTML object>"
      ]
     },
     "metadata": {},
     "output_type": "display_data"
    },
    {
     "name": "stdout",
     "output_type": "stream",
     "text": [
      ",:   \t45.24%\n",
      "and:   \t9.48%\n",
      "in:   \t8.66%\n",
      "the:   \t6.54%\n",
      "::   \t5.93%\n",
      "--------\n",
      "\n"
     ]
    },
    {
     "data": {
      "text/html": [
       "<span style=\"background-color:rgba(135,206,250,0.29362518);\">wine</span> <span style=\"background-color:rgba(135,206,250,1.0);\">review</span> <span style=\"background-color:rgba(135,206,250,0.2508243);\">:</span> <span style=\"background-color:rgba(135,206,250,0.26814505);\">england</span> <span style=\"background-color:rgba(135,206,250,0.18978852);\">:</span> <span style=\"background-color:rgba(135,206,250,0.22225481);\">england</span> <span style=\"background-color:rgba(135,206,250,0.24160014);\">:</span> <span style=\"background-color:rgba(135,206,250,0.17388357);\">chardonnay</span> <span style=\"background-color:rgba(135,206,250,0.16817382);\">:</span> <span style=\"background-color:rgba(135,206,250,0.07865495);\">a</span> <span style=\"background-color:rgba(135,206,250,0.07713363);\">touch</span> <span style=\"background-color:rgba(135,206,250,0.08561862);\">of</span> <span style=\"background-color:rgba(135,206,250,0.11169061);\">apple</span> <span style=\"background-color:rgba(135,206,250,0.19189583);\">scent</span> <span style=\"background-color:rgba(135,206,250,0.08749296);\">the</span> <span style=\"background-color:rgba(135,206,250,0.1628738);\">nose</span> <span style=\"background-color:rgba(135,206,250,0.21941681);\">.</span> <span style=\"background-color:rgba(135,206,250,0.10655652);\">the</span> <span style=\"background-color:rgba(135,206,250,0.20681855);\">palate</span> <span style=\"background-color:rgba(135,206,250,0.19850801);\">is</span> <span style=\"background-color:rgba(135,206,250,0.0898705);\">all</span> <span style=\"background-color:rgba(135,206,250,0.19730702);\">[UNK]</span> <span style=\"background-color:rgba(135,206,250,0.3235916);\">.</span>"
      ],
      "text/plain": [
       "<IPython.core.display.HTML object>"
      ]
     },
     "metadata": {},
     "output_type": "display_data"
    },
    {
     "name": "stdout",
     "output_type": "stream",
     "text": [
      "the:   \t93.14%\n",
      "there:   \t2.22%\n",
      "this:   \t0.94%\n",
      "these:   \t0.63%\n",
      "tart:   \t0.41%\n",
      "--------\n",
      "\n"
     ]
    },
    {
     "data": {
      "text/html": [
       "<span style=\"background-color:rgba(135,206,250,0.12806424);\">wine</span> <span style=\"background-color:rgba(135,206,250,0.15597439);\">review</span> <span style=\"background-color:rgba(135,206,250,0.11850778);\">:</span> <span style=\"background-color:rgba(135,206,250,0.27950507);\">england</span> <span style=\"background-color:rgba(135,206,250,0.13229732);\">:</span> <span style=\"background-color:rgba(135,206,250,0.19677442);\">england</span> <span style=\"background-color:rgba(135,206,250,0.055166434);\">:</span> <span style=\"background-color:rgba(135,206,250,0.12541069);\">chardonnay</span> <span style=\"background-color:rgba(135,206,250,0.07701329);\">:</span> <span style=\"background-color:rgba(135,206,250,0.038278494);\">a</span> <span style=\"background-color:rgba(135,206,250,0.06383605);\">touch</span> <span style=\"background-color:rgba(135,206,250,0.041349743);\">of</span> <span style=\"background-color:rgba(135,206,250,0.07604078);\">apple</span> <span style=\"background-color:rgba(135,206,250,0.13762553);\">scent</span> <span style=\"background-color:rgba(135,206,250,0.024689578);\">the</span> <span style=\"background-color:rgba(135,206,250,0.18555912);\">nose</span> <span style=\"background-color:rgba(135,206,250,0.15292293);\">.</span> <span style=\"background-color:rgba(135,206,250,0.030173386);\">the</span> <span style=\"background-color:rgba(135,206,250,0.3076253);\">palate</span> <span style=\"background-color:rgba(135,206,250,0.1344673);\">is</span> <span style=\"background-color:rgba(135,206,250,0.21595979);\">all</span> <span style=\"background-color:rgba(135,206,250,0.4072179);\">[UNK]</span> <span style=\"background-color:rgba(135,206,250,1.0);\">.</span> <span style=\"background-color:rgba(135,206,250,0.1288666);\">the</span>"
      ],
      "text/plain": [
       "<IPython.core.display.HTML object>"
      ]
     },
     "metadata": {},
     "output_type": "display_data"
    },
    {
     "name": "stdout",
     "output_type": "stream",
     "text": [
      "palate:   \t44.68%\n",
      "same:   \t13.35%\n",
      "fruit:   \t8.56%\n",
      "slender:   \t6.5%\n",
      "body:   \t4.67%\n",
      "--------\n",
      "\n"
     ]
    },
    {
     "data": {
      "text/html": [
       "<span style=\"background-color:rgba(135,206,250,0.27693456);\">wine</span> <span style=\"background-color:rgba(135,206,250,0.62319726);\">review</span> <span style=\"background-color:rgba(135,206,250,0.47813994);\">:</span> <span style=\"background-color:rgba(135,206,250,0.31017837);\">england</span> <span style=\"background-color:rgba(135,206,250,0.48156148);\">:</span> <span style=\"background-color:rgba(135,206,250,0.19918652);\">england</span> <span style=\"background-color:rgba(135,206,250,0.15407443);\">:</span> <span style=\"background-color:rgba(135,206,250,0.13552761);\">chardonnay</span> <span style=\"background-color:rgba(135,206,250,0.16680704);\">:</span> <span style=\"background-color:rgba(135,206,250,0.082988985);\">a</span> <span style=\"background-color:rgba(135,206,250,0.04107245);\">touch</span> <span style=\"background-color:rgba(135,206,250,0.064336956);\">of</span> <span style=\"background-color:rgba(135,206,250,0.09256127);\">apple</span> <span style=\"background-color:rgba(135,206,250,0.23169199);\">scent</span> <span style=\"background-color:rgba(135,206,250,0.0663071);\">the</span> <span style=\"background-color:rgba(135,206,250,0.08939441);\">nose</span> <span style=\"background-color:rgba(135,206,250,0.26078486);\">.</span> <span style=\"background-color:rgba(135,206,250,0.078189515);\">the</span> <span style=\"background-color:rgba(135,206,250,0.19982113);\">palate</span> <span style=\"background-color:rgba(135,206,250,0.17852497);\">is</span> <span style=\"background-color:rgba(135,206,250,0.32547155);\">all</span> <span style=\"background-color:rgba(135,206,250,0.27526274);\">[UNK]</span> <span style=\"background-color:rgba(135,206,250,1.0);\">.</span> <span style=\"background-color:rgba(135,206,250,0.23057126);\">the</span> <span style=\"background-color:rgba(135,206,250,0.12160532);\">same</span>"
      ],
      "text/plain": [
       "<IPython.core.display.HTML object>"
      ]
     },
     "metadata": {},
     "output_type": "display_data"
    },
    {
     "name": "stdout",
     "output_type": "stream",
     "text": [
      ",:   \t42.45%\n",
      "notes:   \t11.24%\n",
      "notions:   \t7.85%\n",
      "aromatic:   \t5.95%\n",
      "ripe:   \t5.62%\n",
      "--------\n",
      "\n"
     ]
    },
    {
     "data": {
      "text/html": [
       "<span style=\"background-color:rgba(135,206,250,0.12601025);\">wine</span> <span style=\"background-color:rgba(135,206,250,0.2782053);\">review</span> <span style=\"background-color:rgba(135,206,250,0.19339061);\">:</span> <span style=\"background-color:rgba(135,206,250,0.46860203);\">england</span> <span style=\"background-color:rgba(135,206,250,0.19477749);\">:</span> <span style=\"background-color:rgba(135,206,250,0.24691537);\">england</span> <span style=\"background-color:rgba(135,206,250,0.096634455);\">:</span> <span style=\"background-color:rgba(135,206,250,0.16576602);\">chardonnay</span> <span style=\"background-color:rgba(135,206,250,0.14288133);\">:</span> <span style=\"background-color:rgba(135,206,250,0.04957601);\">a</span> <span style=\"background-color:rgba(135,206,250,0.080416806);\">touch</span> <span style=\"background-color:rgba(135,206,250,0.06506355);\">of</span> <span style=\"background-color:rgba(135,206,250,0.096244425);\">apple</span> <span style=\"background-color:rgba(135,206,250,0.1489244);\">scent</span> <span style=\"background-color:rgba(135,206,250,0.057128675);\">the</span> <span style=\"background-color:rgba(135,206,250,0.12025175);\">nose</span> <span style=\"background-color:rgba(135,206,250,0.2724676);\">.</span> <span style=\"background-color:rgba(135,206,250,0.07762988);\">the</span> <span style=\"background-color:rgba(135,206,250,0.2018555);\">palate</span> <span style=\"background-color:rgba(135,206,250,0.2556048);\">is</span> <span style=\"background-color:rgba(135,206,250,0.14077367);\">all</span> <span style=\"background-color:rgba(135,206,250,0.21908608);\">[UNK]</span> <span style=\"background-color:rgba(135,206,250,1.0);\">.</span> <span style=\"background-color:rgba(135,206,250,0.35797465);\">the</span> <span style=\"background-color:rgba(135,206,250,0.55138606);\">same</span> <span style=\"background-color:rgba(135,206,250,0.42373222);\">,</span>"
      ],
      "text/plain": [
       "<IPython.core.display.HTML object>"
      ]
     },
     "metadata": {},
     "output_type": "display_data"
    },
    {
     "name": "stdout",
     "output_type": "stream",
     "text": [
      "however:   \t53.97%\n",
      "the:   \t12.69%\n",
      "but:   \t12.07%\n",
      "and:   \t4.54%\n",
      "slender:   \t2.18%\n",
      "--------\n",
      "\n"
     ]
    },
    {
     "data": {
      "text/html": [
       "<span style=\"background-color:rgba(135,206,250,0.40820357);\">wine</span> <span style=\"background-color:rgba(135,206,250,1.0);\">review</span> <span style=\"background-color:rgba(135,206,250,0.7189713);\">:</span> <span style=\"background-color:rgba(135,206,250,0.17368564);\">england</span> <span style=\"background-color:rgba(135,206,250,0.6963457);\">:</span> <span style=\"background-color:rgba(135,206,250,0.1351516);\">england</span> <span style=\"background-color:rgba(135,206,250,0.37759447);\">:</span> <span style=\"background-color:rgba(135,206,250,0.13566889);\">chardonnay</span> <span style=\"background-color:rgba(135,206,250,0.27623513);\">:</span> <span style=\"background-color:rgba(135,206,250,0.08471468);\">a</span> <span style=\"background-color:rgba(135,206,250,0.07943704);\">touch</span> <span style=\"background-color:rgba(135,206,250,0.108468555);\">of</span> <span style=\"background-color:rgba(135,206,250,0.08138972);\">apple</span> <span style=\"background-color:rgba(135,206,250,0.1358876);\">scent</span> <span style=\"background-color:rgba(135,206,250,0.095321365);\">the</span> <span style=\"background-color:rgba(135,206,250,0.11102121);\">nose</span> <span style=\"background-color:rgba(135,206,250,0.28010407);\">.</span> <span style=\"background-color:rgba(135,206,250,0.11461702);\">the</span> <span style=\"background-color:rgba(135,206,250,0.15345019);\">palate</span> <span style=\"background-color:rgba(135,206,250,0.17022802);\">is</span> <span style=\"background-color:rgba(135,206,250,0.08146924);\">all</span> <span style=\"background-color:rgba(135,206,250,0.16594462);\">[UNK]</span> <span style=\"background-color:rgba(135,206,250,0.50837976);\">.</span> <span style=\"background-color:rgba(135,206,250,0.22905251);\">the</span> <span style=\"background-color:rgba(135,206,250,0.25572535);\">same</span> <span style=\"background-color:rgba(135,206,250,0.41407531);\">,</span> <span style=\"background-color:rgba(135,206,250,0.14338508);\">however</span>"
      ],
      "text/plain": [
       "<IPython.core.display.HTML object>"
      ]
     },
     "metadata": {},
     "output_type": "display_data"
    },
    {
     "name": "stdout",
     "output_type": "stream",
     "text": [
      ",:   \t99.99%\n",
      "the:   \t0.0%\n",
      "and:   \t0.0%\n",
      "is:   \t0.0%\n",
      "that:   \t0.0%\n",
      "--------\n",
      "\n"
     ]
    },
    {
     "data": {
      "text/html": [
       "<span style=\"background-color:rgba(135,206,250,0.087173045);\">wine</span> <span style=\"background-color:rgba(135,206,250,0.19539551);\">review</span> <span style=\"background-color:rgba(135,206,250,0.14513122);\">:</span> <span style=\"background-color:rgba(135,206,250,0.3627501);\">england</span> <span style=\"background-color:rgba(135,206,250,0.15224232);\">:</span> <span style=\"background-color:rgba(135,206,250,0.18215029);\">england</span> <span style=\"background-color:rgba(135,206,250,0.07124027);\">:</span> <span style=\"background-color:rgba(135,206,250,0.13026758);\">chardonnay</span> <span style=\"background-color:rgba(135,206,250,0.10631556);\">:</span> <span style=\"background-color:rgba(135,206,250,0.034404874);\">a</span> <span style=\"background-color:rgba(135,206,250,0.05301678);\">touch</span> <span style=\"background-color:rgba(135,206,250,0.043179315);\">of</span> <span style=\"background-color:rgba(135,206,250,0.06476661);\">apple</span> <span style=\"background-color:rgba(135,206,250,0.10081562);\">scent</span> <span style=\"background-color:rgba(135,206,250,0.034366604);\">the</span> <span style=\"background-color:rgba(135,206,250,0.078464784);\">nose</span> <span style=\"background-color:rgba(135,206,250,0.17415978);\">.</span> <span style=\"background-color:rgba(135,206,250,0.043474026);\">the</span> <span style=\"background-color:rgba(135,206,250,0.12719508);\">palate</span> <span style=\"background-color:rgba(135,206,250,0.14389697);\">is</span> <span style=\"background-color:rgba(135,206,250,0.07556777);\">all</span> <span style=\"background-color:rgba(135,206,250,0.09712689);\">[UNK]</span> <span style=\"background-color:rgba(135,206,250,0.45874348);\">.</span> <span style=\"background-color:rgba(135,206,250,0.15680154);\">the</span> <span style=\"background-color:rgba(135,206,250,0.23748158);\">same</span> <span style=\"background-color:rgba(135,206,250,0.19273429);\">,</span> <span style=\"background-color:rgba(135,206,250,1.0);\">however</span> <span style=\"background-color:rgba(135,206,250,0.353207);\">,</span>"
      ],
      "text/plain": [
       "<IPython.core.display.HTML object>"
      ]
     },
     "metadata": {},
     "output_type": "display_data"
    },
    {
     "name": "stdout",
     "output_type": "stream",
     "text": [
      "is:   \t59.68%\n",
      "the:   \t27.44%\n",
      "there:   \t2.83%\n",
      "this:   \t2.06%\n",
      "where:   \t1.89%\n",
      "--------\n",
      "\n"
     ]
    },
    {
     "data": {
      "text/html": [
       "<span style=\"background-color:rgba(135,206,250,0.11160713);\">wine</span> <span style=\"background-color:rgba(135,206,250,0.15197177);\">review</span> <span style=\"background-color:rgba(135,206,250,0.13518433);\">:</span> <span style=\"background-color:rgba(135,206,250,0.31083673);\">england</span> <span style=\"background-color:rgba(135,206,250,0.15964378);\">:</span> <span style=\"background-color:rgba(135,206,250,0.20123528);\">england</span> <span style=\"background-color:rgba(135,206,250,0.05958196);\">:</span> <span style=\"background-color:rgba(135,206,250,0.13511881);\">chardonnay</span> <span style=\"background-color:rgba(135,206,250,0.07820006);\">:</span> <span style=\"background-color:rgba(135,206,250,0.03320271);\">a</span> <span style=\"background-color:rgba(135,206,250,0.048095595);\">touch</span> <span style=\"background-color:rgba(135,206,250,0.032465756);\">of</span> <span style=\"background-color:rgba(135,206,250,0.06276264);\">apple</span> <span style=\"background-color:rgba(135,206,250,0.11054706);\">scent</span> <span style=\"background-color:rgba(135,206,250,0.018002067);\">the</span> <span style=\"background-color:rgba(135,206,250,0.15364245);\">nose</span> <span style=\"background-color:rgba(135,206,250,0.10385517);\">.</span> <span style=\"background-color:rgba(135,206,250,0.019481141);\">the</span> <span style=\"background-color:rgba(135,206,250,0.22772858);\">palate</span> <span style=\"background-color:rgba(135,206,250,0.054583408);\">is</span> <span style=\"background-color:rgba(135,206,250,0.050793137);\">all</span> <span style=\"background-color:rgba(135,206,250,0.09464123);\">[UNK]</span> <span style=\"background-color:rgba(135,206,250,0.2587537);\">.</span> <span style=\"background-color:rgba(135,206,250,0.038647924);\">the</span> <span style=\"background-color:rgba(135,206,250,0.12528968);\">same</span> <span style=\"background-color:rgba(135,206,250,0.45333707);\">,</span> <span style=\"background-color:rgba(135,206,250,0.37672445);\">however</span> <span style=\"background-color:rgba(135,206,250,1.0);\">,</span> <span style=\"background-color:rgba(135,206,250,0.198998);\">the</span>"
      ],
      "text/plain": [
       "<IPython.core.display.HTML object>"
      ]
     },
     "metadata": {},
     "output_type": "display_data"
    },
    {
     "name": "stdout",
     "output_type": "stream",
     "text": [
      "palate:   \t28.99%\n",
      "flavours:   \t13.36%\n",
      "body:   \t11.54%\n",
      "freshness:   \t6.4%\n",
      "fruit:   \t6.36%\n",
      "--------\n",
      "\n"
     ]
    },
    {
     "data": {
      "text/html": [
       "<span style=\"background-color:rgba(135,206,250,0.23028211);\">wine</span> <span style=\"background-color:rgba(135,206,250,0.9412883);\">review</span> <span style=\"background-color:rgba(135,206,250,0.71744573);\">:</span> <span style=\"background-color:rgba(135,206,250,0.20139745);\">england</span> <span style=\"background-color:rgba(135,206,250,0.70183885);\">:</span> <span style=\"background-color:rgba(135,206,250,0.10879101);\">england</span> <span style=\"background-color:rgba(135,206,250,0.2257662);\">:</span> <span style=\"background-color:rgba(135,206,250,0.15149403);\">chardonnay</span> <span style=\"background-color:rgba(135,206,250,0.20097445);\">:</span> <span style=\"background-color:rgba(135,206,250,0.06813653);\">a</span> <span style=\"background-color:rgba(135,206,250,0.04391893);\">touch</span> <span style=\"background-color:rgba(135,206,250,0.054171436);\">of</span> <span style=\"background-color:rgba(135,206,250,0.045257345);\">apple</span> <span style=\"background-color:rgba(135,206,250,0.12551169);\">scent</span> <span style=\"background-color:rgba(135,206,250,0.07987472);\">the</span> <span style=\"background-color:rgba(135,206,250,0.078678876);\">nose</span> <span style=\"background-color:rgba(135,206,250,0.20117502);\">.</span> <span style=\"background-color:rgba(135,206,250,0.08910795);\">the</span> <span style=\"background-color:rgba(135,206,250,0.09786184);\">palate</span> <span style=\"background-color:rgba(135,206,250,0.1271154);\">is</span> <span style=\"background-color:rgba(135,206,250,0.041051522);\">all</span> <span style=\"background-color:rgba(135,206,250,0.12571765);\">[UNK]</span> <span style=\"background-color:rgba(135,206,250,0.43317482);\">.</span> <span style=\"background-color:rgba(135,206,250,0.20445952);\">the</span> <span style=\"background-color:rgba(135,206,250,0.22518425);\">same</span> <span style=\"background-color:rgba(135,206,250,0.54886717);\">,</span> <span style=\"background-color:rgba(135,206,250,0.33547798);\">however</span> <span style=\"background-color:rgba(135,206,250,1.0);\">,</span> <span style=\"background-color:rgba(135,206,250,0.83695126);\">the</span> <span style=\"background-color:rgba(135,206,250,0.35047626);\">result</span>"
      ],
      "text/plain": [
       "<IPython.core.display.HTML object>"
      ]
     },
     "metadata": {},
     "output_type": "display_data"
    },
    {
     "name": "stdout",
     "output_type": "stream",
     "text": [
      "is:   \t98.76%\n",
      "of:   \t1.23%\n",
      "reveals:   \t0.0%\n",
      "has:   \t0.0%\n",
      ",:   \t0.0%\n",
      "--------\n",
      "\n"
     ]
    },
    {
     "data": {
      "text/html": [
       "<span style=\"background-color:rgba(135,206,250,0.08375626);\">wine</span> <span style=\"background-color:rgba(135,206,250,0.17472148);\">review</span> <span style=\"background-color:rgba(135,206,250,0.22846182);\">:</span> <span style=\"background-color:rgba(135,206,250,0.40756804);\">england</span> <span style=\"background-color:rgba(135,206,250,0.25053778);\">:</span> <span style=\"background-color:rgba(135,206,250,0.18586119);\">england</span> <span style=\"background-color:rgba(135,206,250,0.08773699);\">:</span> <span style=\"background-color:rgba(135,206,250,0.124176785);\">chardonnay</span> <span style=\"background-color:rgba(135,206,250,0.10937547);\">:</span> <span style=\"background-color:rgba(135,206,250,0.043487266);\">a</span> <span style=\"background-color:rgba(135,206,250,0.033296935);\">touch</span> <span style=\"background-color:rgba(135,206,250,0.030528268);\">of</span> <span style=\"background-color:rgba(135,206,250,0.04820191);\">apple</span> <span style=\"background-color:rgba(135,206,250,0.11523856);\">scent</span> <span style=\"background-color:rgba(135,206,250,0.03866374);\">the</span> <span style=\"background-color:rgba(135,206,250,0.08061629);\">nose</span> <span style=\"background-color:rgba(135,206,250,0.107851505);\">.</span> <span style=\"background-color:rgba(135,206,250,0.041167557);\">the</span> <span style=\"background-color:rgba(135,206,250,0.07820646);\">palate</span> <span style=\"background-color:rgba(135,206,250,0.03941205);\">is</span> <span style=\"background-color:rgba(135,206,250,0.047051817);\">all</span> <span style=\"background-color:rgba(135,206,250,0.051866278);\">[UNK]</span> <span style=\"background-color:rgba(135,206,250,0.15862246);\">.</span> <span style=\"background-color:rgba(135,206,250,0.06855233);\">the</span> <span style=\"background-color:rgba(135,206,250,0.031200796);\">same</span> <span style=\"background-color:rgba(135,206,250,0.16950376);\">,</span> <span style=\"background-color:rgba(135,206,250,0.3005456);\">however</span> <span style=\"background-color:rgba(135,206,250,0.32765102);\">,</span> <span style=\"background-color:rgba(135,206,250,0.25551224);\">the</span> <span style=\"background-color:rgba(135,206,250,1.0);\">result</span> <span style=\"background-color:rgba(135,206,250,0.20364884);\">is</span>"
      ],
      "text/plain": [
       "<IPython.core.display.HTML object>"
      ]
     },
     "metadata": {},
     "output_type": "display_data"
    },
    {
     "name": "stdout",
     "output_type": "stream",
     "text": [
      "a:   \t89.27%\n",
      "an:   \t2.89%\n",
      "more:   \t1.86%\n",
      "fresh:   \t1.22%\n",
      "that:   \t0.92%\n",
      "--------\n",
      "\n"
     ]
    },
    {
     "data": {
      "text/html": [
       "<span style=\"background-color:rgba(135,206,250,0.13108134);\">wine</span> <span style=\"background-color:rgba(135,206,250,0.18313026);\">review</span> <span style=\"background-color:rgba(135,206,250,0.18143527);\">:</span> <span style=\"background-color:rgba(135,206,250,0.648752);\">england</span> <span style=\"background-color:rgba(135,206,250,0.19435394);\">:</span> <span style=\"background-color:rgba(135,206,250,0.29865587);\">england</span> <span style=\"background-color:rgba(135,206,250,0.08309867);\">:</span> <span style=\"background-color:rgba(135,206,250,0.17020175);\">chardonnay</span> <span style=\"background-color:rgba(135,206,250,0.11634513);\">:</span> <span style=\"background-color:rgba(135,206,250,0.029426407);\">a</span> <span style=\"background-color:rgba(135,206,250,0.06285503);\">touch</span> <span style=\"background-color:rgba(135,206,250,0.035237946);\">of</span> <span style=\"background-color:rgba(135,206,250,0.06973385);\">apple</span> <span style=\"background-color:rgba(135,206,250,0.12177778);\">scent</span> <span style=\"background-color:rgba(135,206,250,0.03783282);\">the</span> <span style=\"background-color:rgba(135,206,250,0.12085446);\">nose</span> <span style=\"background-color:rgba(135,206,250,0.13116539);\">.</span> <span style=\"background-color:rgba(135,206,250,0.038638353);\">the</span> <span style=\"background-color:rgba(135,206,250,0.1944061);\">palate</span> <span style=\"background-color:rgba(135,206,250,0.04669152);\">is</span> <span style=\"background-color:rgba(135,206,250,0.042946704);\">all</span> <span style=\"background-color:rgba(135,206,250,0.07421994);\">[UNK]</span> <span style=\"background-color:rgba(135,206,250,0.20650169);\">.</span> <span style=\"background-color:rgba(135,206,250,0.06290966);\">the</span> <span style=\"background-color:rgba(135,206,250,0.07852367);\">same</span> <span style=\"background-color:rgba(135,206,250,0.19260247);\">,</span> <span style=\"background-color:rgba(135,206,250,0.35020888);\">however</span> <span style=\"background-color:rgba(135,206,250,0.34882522);\">,</span> <span style=\"background-color:rgba(135,206,250,0.2533591);\">the</span> <span style=\"background-color:rgba(135,206,250,1.0);\">result</span> <span style=\"background-color:rgba(135,206,250,0.74436206);\">is</span> <span style=\"background-color:rgba(135,206,250,0.269533);\">a</span>"
      ],
      "text/plain": [
       "<IPython.core.display.HTML object>"
      ]
     },
     "metadata": {},
     "output_type": "display_data"
    },
    {
     "name": "stdout",
     "output_type": "stream",
     "text": [
      "little:   \t16.29%\n",
      "slender:   \t15.14%\n",
      "very:   \t10.72%\n",
      "fresh:   \t7.62%\n",
      "[UNK]:   \t3.58%\n",
      "--------\n",
      "\n"
     ]
    },
    {
     "data": {
      "text/html": [
       "<span style=\"background-color:rgba(135,206,250,0.15186411);\">wine</span> <span style=\"background-color:rgba(135,206,250,0.2843955);\">review</span> <span style=\"background-color:rgba(135,206,250,0.23664948);\">:</span> <span style=\"background-color:rgba(135,206,250,0.31282055);\">england</span> <span style=\"background-color:rgba(135,206,250,0.2793222);\">:</span> <span style=\"background-color:rgba(135,206,250,0.1718795);\">england</span> <span style=\"background-color:rgba(135,206,250,0.16396825);\">:</span> <span style=\"background-color:rgba(135,206,250,0.29737207);\">chardonnay</span> <span style=\"background-color:rgba(135,206,250,0.18713084);\">:</span> <span style=\"background-color:rgba(135,206,250,0.06292798);\">a</span> <span style=\"background-color:rgba(135,206,250,0.03324211);\">touch</span> <span style=\"background-color:rgba(135,206,250,0.048730318);\">of</span> <span style=\"background-color:rgba(135,206,250,0.060828626);\">apple</span> <span style=\"background-color:rgba(135,206,250,0.070010945);\">scent</span> <span style=\"background-color:rgba(135,206,250,0.029434409);\">the</span> <span style=\"background-color:rgba(135,206,250,0.067185685);\">nose</span> <span style=\"background-color:rgba(135,206,250,0.17924267);\">.</span> <span style=\"background-color:rgba(135,206,250,0.033334807);\">the</span> <span style=\"background-color:rgba(135,206,250,0.15616895);\">palate</span> <span style=\"background-color:rgba(135,206,250,0.10589444);\">is</span> <span style=\"background-color:rgba(135,206,250,0.038364988);\">all</span> <span style=\"background-color:rgba(135,206,250,0.053128913);\">[UNK]</span> <span style=\"background-color:rgba(135,206,250,0.24988966);\">.</span> <span style=\"background-color:rgba(135,206,250,0.0844142);\">the</span> <span style=\"background-color:rgba(135,206,250,0.19624785);\">same</span> <span style=\"background-color:rgba(135,206,250,0.14227566);\">,</span> <span style=\"background-color:rgba(135,206,250,0.10858733);\">however</span> <span style=\"background-color:rgba(135,206,250,0.2370153);\">,</span> <span style=\"background-color:rgba(135,206,250,0.37839195);\">the</span> <span style=\"background-color:rgba(135,206,250,0.6122668);\">result</span> <span style=\"background-color:rgba(135,206,250,1.0);\">is</span> <span style=\"background-color:rgba(135,206,250,0.8237725);\">a</span> <span style=\"background-color:rgba(135,206,250,0.25819337);\">slender</span>"
      ],
      "text/plain": [
       "<IPython.core.display.HTML object>"
      ]
     },
     "metadata": {},
     "output_type": "display_data"
    },
    {
     "name": "stdout",
     "output_type": "stream",
     "text": [
      ",:   \t94.05%\n",
      "and:   \t3.16%\n",
      "but:   \t1.47%\n",
      "wine:   \t1.25%\n",
      "[UNK]:   \t0.03%\n",
      "--------\n",
      "\n"
     ]
    },
    {
     "data": {
      "text/html": [
       "<span style=\"background-color:rgba(135,206,250,0.055503134);\">wine</span> <span style=\"background-color:rgba(135,206,250,0.13274589);\">review</span> <span style=\"background-color:rgba(135,206,250,0.09608464);\">:</span> <span style=\"background-color:rgba(135,206,250,0.26785475);\">england</span> <span style=\"background-color:rgba(135,206,250,0.10488206);\">:</span> <span style=\"background-color:rgba(135,206,250,0.13648085);\">england</span> <span style=\"background-color:rgba(135,206,250,0.048606325);\">:</span> <span style=\"background-color:rgba(135,206,250,0.10456644);\">chardonnay</span> <span style=\"background-color:rgba(135,206,250,0.07358328);\">:</span> <span style=\"background-color:rgba(135,206,250,0.019409731);\">a</span> <span style=\"background-color:rgba(135,206,250,0.031061484);\">touch</span> <span style=\"background-color:rgba(135,206,250,0.025651494);\">of</span> <span style=\"background-color:rgba(135,206,250,0.042201415);\">apple</span> <span style=\"background-color:rgba(135,206,250,0.05185834);\">scent</span> <span style=\"background-color:rgba(135,206,250,0.019085754);\">the</span> <span style=\"background-color:rgba(135,206,250,0.049699664);\">nose</span> <span style=\"background-color:rgba(135,206,250,0.10684099);\">.</span> <span style=\"background-color:rgba(135,206,250,0.021169772);\">the</span> <span style=\"background-color:rgba(135,206,250,0.07257133);\">palate</span> <span style=\"background-color:rgba(135,206,250,0.07020434);\">is</span> <span style=\"background-color:rgba(135,206,250,0.035048526);\">all</span> <span style=\"background-color:rgba(135,206,250,0.027392766);\">[UNK]</span> <span style=\"background-color:rgba(135,206,250,0.15099494);\">.</span> <span style=\"background-color:rgba(135,206,250,0.033258304);\">the</span> <span style=\"background-color:rgba(135,206,250,0.040163886);\">same</span> <span style=\"background-color:rgba(135,206,250,0.045852687);\">,</span> <span style=\"background-color:rgba(135,206,250,0.16110429);\">however</span> <span style=\"background-color:rgba(135,206,250,0.063075095);\">,</span> <span style=\"background-color:rgba(135,206,250,0.098766);\">the</span> <span style=\"background-color:rgba(135,206,250,0.23671782);\">result</span> <span style=\"background-color:rgba(135,206,250,0.4064951);\">is</span> <span style=\"background-color:rgba(135,206,250,0.29835805);\">a</span> <span style=\"background-color:rgba(135,206,250,1.0);\">slender</span> <span style=\"background-color:rgba(135,206,250,0.28668746);\">,</span>"
      ],
      "text/plain": [
       "<IPython.core.display.HTML object>"
      ]
     },
     "metadata": {},
     "output_type": "display_data"
    },
    {
     "name": "stdout",
     "output_type": "stream",
     "text": [
      "taut:   \t55.84%\n",
      "fresh:   \t14.63%\n",
      "dry:   \t6.47%\n",
      "translucent:   \t5.01%\n",
      "concentrated:   \t2.31%\n",
      "--------\n",
      "\n"
     ]
    },
    {
     "data": {
      "text/html": [
       "<span style=\"background-color:rgba(135,206,250,0.14550616);\">wine</span> <span style=\"background-color:rgba(135,206,250,0.28004357);\">review</span> <span style=\"background-color:rgba(135,206,250,0.20631538);\">:</span> <span style=\"background-color:rgba(135,206,250,0.2707042);\">england</span> <span style=\"background-color:rgba(135,206,250,0.20319358);\">:</span> <span style=\"background-color:rgba(135,206,250,0.15258075);\">england</span> <span style=\"background-color:rgba(135,206,250,0.111692354);\">:</span> <span style=\"background-color:rgba(135,206,250,0.217368);\">chardonnay</span> <span style=\"background-color:rgba(135,206,250,0.12310457);\">:</span> <span style=\"background-color:rgba(135,206,250,0.04513519);\">a</span> <span style=\"background-color:rgba(135,206,250,0.062815525);\">touch</span> <span style=\"background-color:rgba(135,206,250,0.073431395);\">of</span> <span style=\"background-color:rgba(135,206,250,0.07620691);\">apple</span> <span style=\"background-color:rgba(135,206,250,0.08838702);\">scent</span> <span style=\"background-color:rgba(135,206,250,0.041371033);\">the</span> <span style=\"background-color:rgba(135,206,250,0.12626229);\">nose</span> <span style=\"background-color:rgba(135,206,250,0.1730626);\">.</span> <span style=\"background-color:rgba(135,206,250,0.045643624);\">the</span> <span style=\"background-color:rgba(135,206,250,0.16460216);\">palate</span> <span style=\"background-color:rgba(135,206,250,0.07741041);\">is</span> <span style=\"background-color:rgba(135,206,250,0.044667944);\">all</span> <span style=\"background-color:rgba(135,206,250,0.0858333);\">[UNK]</span> <span style=\"background-color:rgba(135,206,250,0.22344328);\">.</span> <span style=\"background-color:rgba(135,206,250,0.07696026);\">the</span> <span style=\"background-color:rgba(135,206,250,0.15277423);\">same</span> <span style=\"background-color:rgba(135,206,250,0.1189432);\">,</span> <span style=\"background-color:rgba(135,206,250,0.1607064);\">however</span> <span style=\"background-color:rgba(135,206,250,0.18919276);\">,</span> <span style=\"background-color:rgba(135,206,250,0.24366498);\">the</span> <span style=\"background-color:rgba(135,206,250,0.7601955);\">result</span> <span style=\"background-color:rgba(135,206,250,0.6076765);\">is</span> <span style=\"background-color:rgba(135,206,250,0.67060196);\">a</span> <span style=\"background-color:rgba(135,206,250,0.5711645);\">slender</span> <span style=\"background-color:rgba(135,206,250,1.0);\">,</span> <span style=\"background-color:rgba(135,206,250,0.31389704);\">taut</span>"
      ],
      "text/plain": [
       "<IPython.core.display.HTML object>"
      ]
     },
     "metadata": {},
     "output_type": "display_data"
    },
    {
     "name": "stdout",
     "output_type": "stream",
     "text": [
      "and:   \t59.51%\n",
      ",:   \t38.39%\n",
      "wine:   \t1.21%\n",
      "but:   \t0.84%\n",
      "expression:   \t0.03%\n",
      "--------\n",
      "\n"
     ]
    },
    {
     "data": {
      "text/html": [
       "<span style=\"background-color:rgba(135,206,250,0.06694827);\">wine</span> <span style=\"background-color:rgba(135,206,250,0.11921887);\">review</span> <span style=\"background-color:rgba(135,206,250,0.1080884);\">:</span> <span style=\"background-color:rgba(135,206,250,0.30559525);\">england</span> <span style=\"background-color:rgba(135,206,250,0.11226883);\">:</span> <span style=\"background-color:rgba(135,206,250,0.17982882);\">england</span> <span style=\"background-color:rgba(135,206,250,0.057577606);\">:</span> <span style=\"background-color:rgba(135,206,250,0.15302427);\">chardonnay</span> <span style=\"background-color:rgba(135,206,250,0.083018884);\">:</span> <span style=\"background-color:rgba(135,206,250,0.025636727);\">a</span> <span style=\"background-color:rgba(135,206,250,0.02778704);\">touch</span> <span style=\"background-color:rgba(135,206,250,0.024525916);\">of</span> <span style=\"background-color:rgba(135,206,250,0.051102042);\">apple</span> <span style=\"background-color:rgba(135,206,250,0.059717987);\">scent</span> <span style=\"background-color:rgba(135,206,250,0.022647798);\">the</span> <span style=\"background-color:rgba(135,206,250,0.06580174);\">nose</span> <span style=\"background-color:rgba(135,206,250,0.098172635);\">.</span> <span style=\"background-color:rgba(135,206,250,0.022745127);\">the</span> <span style=\"background-color:rgba(135,206,250,0.090061806);\">palate</span> <span style=\"background-color:rgba(135,206,250,0.03955491);\">is</span> <span style=\"background-color:rgba(135,206,250,0.026400967);\">all</span> <span style=\"background-color:rgba(135,206,250,0.030776413);\">[UNK]</span> <span style=\"background-color:rgba(135,206,250,0.12128706);\">.</span> <span style=\"background-color:rgba(135,206,250,0.029924754);\">the</span> <span style=\"background-color:rgba(135,206,250,0.0323492);\">same</span> <span style=\"background-color:rgba(135,206,250,0.059080362);\">,</span> <span style=\"background-color:rgba(135,206,250,0.09663421);\">however</span> <span style=\"background-color:rgba(135,206,250,0.08985928);\">,</span> <span style=\"background-color:rgba(135,206,250,0.071466036);\">the</span> <span style=\"background-color:rgba(135,206,250,0.16006361);\">result</span> <span style=\"background-color:rgba(135,206,250,0.17325574);\">is</span> <span style=\"background-color:rgba(135,206,250,0.18526606);\">a</span> <span style=\"background-color:rgba(135,206,250,0.5667717);\">slender</span> <span style=\"background-color:rgba(135,206,250,1.0);\">,</span> <span style=\"background-color:rgba(135,206,250,0.7701116);\">taut</span> <span style=\"background-color:rgba(135,206,250,0.33911428);\">and</span>"
      ],
      "text/plain": [
       "<IPython.core.display.HTML object>"
      ]
     },
     "metadata": {},
     "output_type": "display_data"
    },
    {
     "name": "stdout",
     "output_type": "stream",
     "text": [
      "streamlined:   \t16.0%\n",
      "linear:   \t14.74%\n",
      "slender:   \t11.82%\n",
      "fresh:   \t10.18%\n",
      "dry:   \t6.42%\n",
      "--------\n",
      "\n"
     ]
    },
    {
     "data": {
      "text/html": [
       "<span style=\"background-color:rgba(135,206,250,0.14951086);\">wine</span> <span style=\"background-color:rgba(135,206,250,0.2864);\">review</span> <span style=\"background-color:rgba(135,206,250,0.28553173);\">:</span> <span style=\"background-color:rgba(135,206,250,0.3937196);\">england</span> <span style=\"background-color:rgba(135,206,250,0.37392762);\">:</span> <span style=\"background-color:rgba(135,206,250,0.19045673);\">england</span> <span style=\"background-color:rgba(135,206,250,0.17961027);\">:</span> <span style=\"background-color:rgba(135,206,250,0.35598347);\">chardonnay</span> <span style=\"background-color:rgba(135,206,250,0.19529782);\">:</span> <span style=\"background-color:rgba(135,206,250,0.059811097);\">a</span> <span style=\"background-color:rgba(135,206,250,0.03636153);\">touch</span> <span style=\"background-color:rgba(135,206,250,0.0473425);\">of</span> <span style=\"background-color:rgba(135,206,250,0.06441951);\">apple</span> <span style=\"background-color:rgba(135,206,250,0.06708526);\">scent</span> <span style=\"background-color:rgba(135,206,250,0.028166771);\">the</span> <span style=\"background-color:rgba(135,206,250,0.073731564);\">nose</span> <span style=\"background-color:rgba(135,206,250,0.19005547);\">.</span> <span style=\"background-color:rgba(135,206,250,0.03016906);\">the</span> <span style=\"background-color:rgba(135,206,250,0.1721614);\">palate</span> <span style=\"background-color:rgba(135,206,250,0.099803895);\">is</span> <span style=\"background-color:rgba(135,206,250,0.033690814);\">all</span> <span style=\"background-color:rgba(135,206,250,0.04619499);\">[UNK]</span> <span style=\"background-color:rgba(135,206,250,0.24010293);\">.</span> <span style=\"background-color:rgba(135,206,250,0.06118749);\">the</span> <span style=\"background-color:rgba(135,206,250,0.1535315);\">same</span> <span style=\"background-color:rgba(135,206,250,0.11696212);\">,</span> <span style=\"background-color:rgba(135,206,250,0.07999532);\">however</span> <span style=\"background-color:rgba(135,206,250,0.17453474);\">,</span> <span style=\"background-color:rgba(135,206,250,0.21597682);\">the</span> <span style=\"background-color:rgba(135,206,250,0.3556468);\">result</span> <span style=\"background-color:rgba(135,206,250,0.6358031);\">is</span> <span style=\"background-color:rgba(135,206,250,0.4616363);\">a</span> <span style=\"background-color:rgba(135,206,250,0.19116966);\">slender</span> <span style=\"background-color:rgba(135,206,250,0.7124016);\">,</span> <span style=\"background-color:rgba(135,206,250,0.24779908);\">taut</span> <span style=\"background-color:rgba(135,206,250,1.0);\">and</span> <span style=\"background-color:rgba(135,206,250,0.41780248);\">slender</span>"
      ],
      "text/plain": [
       "<IPython.core.display.HTML object>"
      ]
     },
     "metadata": {},
     "output_type": "display_data"
    },
    {
     "name": "stdout",
     "output_type": "stream",
     "text": [
      ",:   \t73.51%\n",
      "wine:   \t16.55%\n",
      "but:   \t4.75%\n",
      "body:   \t2.51%\n",
      "palate:   \t1.18%\n",
      "--------\n",
      "\n"
     ]
    },
    {
     "data": {
      "text/html": [
       "<span style=\"background-color:rgba(135,206,250,0.04575621);\">wine</span> <span style=\"background-color:rgba(135,206,250,0.10783693);\">review</span> <span style=\"background-color:rgba(135,206,250,0.082904674);\">:</span> <span style=\"background-color:rgba(135,206,250,0.2517225);\">england</span> <span style=\"background-color:rgba(135,206,250,0.08799311);\">:</span> <span style=\"background-color:rgba(135,206,250,0.13485213);\">england</span> <span style=\"background-color:rgba(135,206,250,0.044074044);\">:</span> <span style=\"background-color:rgba(135,206,250,0.10493123);\">chardonnay</span> <span style=\"background-color:rgba(135,206,250,0.06547776);\">:</span> <span style=\"background-color:rgba(135,206,250,0.018651815);\">a</span> <span style=\"background-color:rgba(135,206,250,0.02846647);\">touch</span> <span style=\"background-color:rgba(135,206,250,0.021204077);\">of</span> <span style=\"background-color:rgba(135,206,250,0.039249755);\">apple</span> <span style=\"background-color:rgba(135,206,250,0.0404887);\">scent</span> <span style=\"background-color:rgba(135,206,250,0.016743911);\">the</span> <span style=\"background-color:rgba(135,206,250,0.0468839);\">nose</span> <span style=\"background-color:rgba(135,206,250,0.087171696);\">.</span> <span style=\"background-color:rgba(135,206,250,0.017576715);\">the</span> <span style=\"background-color:rgba(135,206,250,0.058563255);\">palate</span> <span style=\"background-color:rgba(135,206,250,0.05261894);\">is</span> <span style=\"background-color:rgba(135,206,250,0.02908518);\">all</span> <span style=\"background-color:rgba(135,206,250,0.01941232);\">[UNK]</span> <span style=\"background-color:rgba(135,206,250,0.10575172);\">.</span> <span style=\"background-color:rgba(135,206,250,0.02218571);\">the</span> <span style=\"background-color:rgba(135,206,250,0.025363721);\">same</span> <span style=\"background-color:rgba(135,206,250,0.032810245);\">,</span> <span style=\"background-color:rgba(135,206,250,0.08723754);\">however</span> <span style=\"background-color:rgba(135,206,250,0.039536804);\">,</span> <span style=\"background-color:rgba(135,206,250,0.039998326);\">the</span> <span style=\"background-color:rgba(135,206,250,0.09286649);\">result</span> <span style=\"background-color:rgba(135,206,250,0.15321206);\">is</span> <span style=\"background-color:rgba(135,206,250,0.08388206);\">a</span> <span style=\"background-color:rgba(135,206,250,0.3364155);\">slender</span> <span style=\"background-color:rgba(135,206,250,0.09763022);\">,</span> <span style=\"background-color:rgba(135,206,250,0.32573995);\">taut</span> <span style=\"background-color:rgba(135,206,250,0.49228218);\">and</span> <span style=\"background-color:rgba(135,206,250,1.0);\">slender</span> <span style=\"background-color:rgba(135,206,250,0.28693986);\">,</span>"
      ],
      "text/plain": [
       "<IPython.core.display.HTML object>"
      ]
     },
     "metadata": {},
     "output_type": "display_data"
    },
    {
     "name": "stdout",
     "output_type": "stream",
     "text": [
      "dry:   \t64.74%\n",
      "taut:   \t8.45%\n",
      "translucent:   \t7.23%\n",
      "but:   \t3.61%\n",
      "fresh:   \t2.57%\n",
      "--------\n",
      "\n"
     ]
    },
    {
     "data": {
      "text/html": [
       "<span style=\"background-color:rgba(135,206,250,0.097487114);\">wine</span> <span style=\"background-color:rgba(135,206,250,0.16884193);\">review</span> <span style=\"background-color:rgba(135,206,250,0.15662752);\">:</span> <span style=\"background-color:rgba(135,206,250,0.19738716);\">england</span> <span style=\"background-color:rgba(135,206,250,0.18390183);\">:</span> <span style=\"background-color:rgba(135,206,250,0.10727457);\">england</span> <span style=\"background-color:rgba(135,206,250,0.08757709);\">:</span> <span style=\"background-color:rgba(135,206,250,0.18932524);\">chardonnay</span> <span style=\"background-color:rgba(135,206,250,0.11775819);\">:</span> <span style=\"background-color:rgba(135,206,250,0.033203926);\">a</span> <span style=\"background-color:rgba(135,206,250,0.060512282);\">touch</span> <span style=\"background-color:rgba(135,206,250,0.026288215);\">of</span> <span style=\"background-color:rgba(135,206,250,0.030910643);\">apple</span> <span style=\"background-color:rgba(135,206,250,0.05896079);\">scent</span> <span style=\"background-color:rgba(135,206,250,0.023963505);\">the</span> <span style=\"background-color:rgba(135,206,250,0.09015877);\">nose</span> <span style=\"background-color:rgba(135,206,250,0.086600624);\">.</span> <span style=\"background-color:rgba(135,206,250,0.025752924);\">the</span> <span style=\"background-color:rgba(135,206,250,0.089062355);\">palate</span> <span style=\"background-color:rgba(135,206,250,0.039027844);\">is</span> <span style=\"background-color:rgba(135,206,250,0.029801292);\">all</span> <span style=\"background-color:rgba(135,206,250,0.02710169);\">[UNK]</span> <span style=\"background-color:rgba(135,206,250,0.11738915);\">.</span> <span style=\"background-color:rgba(135,206,250,0.037260827);\">the</span> <span style=\"background-color:rgba(135,206,250,0.05773111);\">same</span> <span style=\"background-color:rgba(135,206,250,0.06400938);\">,</span> <span style=\"background-color:rgba(135,206,250,0.07833935);\">however</span> <span style=\"background-color:rgba(135,206,250,0.08092141);\">,</span> <span style=\"background-color:rgba(135,206,250,0.07712661);\">the</span> <span style=\"background-color:rgba(135,206,250,0.12145698);\">result</span> <span style=\"background-color:rgba(135,206,250,0.14522488);\">is</span> <span style=\"background-color:rgba(135,206,250,0.128127);\">a</span> <span style=\"background-color:rgba(135,206,250,0.3164115);\">slender</span> <span style=\"background-color:rgba(135,206,250,0.24965197);\">,</span> <span style=\"background-color:rgba(135,206,250,0.20082453);\">taut</span> <span style=\"background-color:rgba(135,206,250,0.332948);\">and</span> <span style=\"background-color:rgba(135,206,250,1.0);\">slender</span> <span style=\"background-color:rgba(135,206,250,0.8316909);\">,</span> <span style=\"background-color:rgba(135,206,250,0.21433926);\">dry</span>"
      ],
      "text/plain": [
       "<IPython.core.display.HTML object>"
      ]
     },
     "metadata": {},
     "output_type": "display_data"
    },
    {
     "name": "stdout",
     "output_type": "stream",
     "text": [
      "and:   \t60.09%\n",
      ",:   \t18.05%\n",
      "wine:   \t17.36%\n",
      "but:   \t2.09%\n",
      "core:   \t1.2%\n",
      "--------\n",
      "\n"
     ]
    },
    {
     "data": {
      "text/html": [
       "<span style=\"background-color:rgba(135,206,250,0.060404785);\">wine</span> <span style=\"background-color:rgba(135,206,250,0.10895115);\">review</span> <span style=\"background-color:rgba(135,206,250,0.10833288);\">:</span> <span style=\"background-color:rgba(135,206,250,0.2853844);\">england</span> <span style=\"background-color:rgba(135,206,250,0.106526874);\">:</span> <span style=\"background-color:rgba(135,206,250,0.16971543);\">england</span> <span style=\"background-color:rgba(135,206,250,0.055026747);\">:</span> <span style=\"background-color:rgba(135,206,250,0.15755273);\">chardonnay</span> <span style=\"background-color:rgba(135,206,250,0.07697729);\">:</span> <span style=\"background-color:rgba(135,206,250,0.02472272);\">a</span> <span style=\"background-color:rgba(135,206,250,0.025335865);\">touch</span> <span style=\"background-color:rgba(135,206,250,0.021350736);\">of</span> <span style=\"background-color:rgba(135,206,250,0.046897586);\">apple</span> <span style=\"background-color:rgba(135,206,250,0.047588754);\">scent</span> <span style=\"background-color:rgba(135,206,250,0.021243533);\">the</span> <span style=\"background-color:rgba(135,206,250,0.0597403);\">nose</span> <span style=\"background-color:rgba(135,206,250,0.081387736);\">.</span> <span style=\"background-color:rgba(135,206,250,0.02016899);\">the</span> <span style=\"background-color:rgba(135,206,250,0.072860256);\">palate</span> <span style=\"background-color:rgba(135,206,250,0.031906705);\">is</span> <span style=\"background-color:rgba(135,206,250,0.021939633);\">all</span> <span style=\"background-color:rgba(135,206,250,0.023667425);\">[UNK]</span> <span style=\"background-color:rgba(135,206,250,0.09083284);\">.</span> <span style=\"background-color:rgba(135,206,250,0.023277521);\">the</span> <span style=\"background-color:rgba(135,206,250,0.022554744);\">same</span> <span style=\"background-color:rgba(135,206,250,0.037410066);\">,</span> <span style=\"background-color:rgba(135,206,250,0.06319313);\">however</span> <span style=\"background-color:rgba(135,206,250,0.044710245);\">,</span> <span style=\"background-color:rgba(135,206,250,0.034806967);\">the</span> <span style=\"background-color:rgba(135,206,250,0.07125585);\">result</span> <span style=\"background-color:rgba(135,206,250,0.06406664);\">is</span> <span style=\"background-color:rgba(135,206,250,0.05304483);\">a</span> <span style=\"background-color:rgba(135,206,250,0.22939695);\">slender</span> <span style=\"background-color:rgba(135,206,250,0.19133295);\">,</span> <span style=\"background-color:rgba(135,206,250,0.21780731);\">taut</span> <span style=\"background-color:rgba(135,206,250,0.10075703);\">and</span> <span style=\"background-color:rgba(135,206,250,0.54817724);\">slender</span> <span style=\"background-color:rgba(135,206,250,0.8553636);\">,</span> <span style=\"background-color:rgba(135,206,250,1.0);\">dry</span> <span style=\"background-color:rgba(135,206,250,0.35846058);\">and</span>"
      ],
      "text/plain": [
       "<IPython.core.display.HTML object>"
      ]
     },
     "metadata": {},
     "output_type": "display_data"
    },
    {
     "name": "stdout",
     "output_type": "stream",
     "text": [
      "slender:   \t14.22%\n",
      "precisely:   \t10.45%\n",
      "fresh:   \t8.52%\n",
      "taut:   \t7.91%\n",
      "crisp:   \t6.9%\n",
      "--------\n",
      "\n"
     ]
    },
    {
     "data": {
      "text/html": [
       "<span style=\"background-color:rgba(135,206,250,0.13004671);\">wine</span> <span style=\"background-color:rgba(135,206,250,0.2931303);\">review</span> <span style=\"background-color:rgba(135,206,250,0.4465978);\">:</span> <span style=\"background-color:rgba(135,206,250,0.23576558);\">england</span> <span style=\"background-color:rgba(135,206,250,0.5374273);\">:</span> <span style=\"background-color:rgba(135,206,250,0.10064465);\">england</span> <span style=\"background-color:rgba(135,206,250,0.15961887);\">:</span> <span style=\"background-color:rgba(135,206,250,0.11087878);\">chardonnay</span> <span style=\"background-color:rgba(135,206,250,0.1324654);\">:</span> <span style=\"background-color:rgba(135,206,250,0.04157684);\">a</span> <span style=\"background-color:rgba(135,206,250,0.04567299);\">touch</span> <span style=\"background-color:rgba(135,206,250,0.047204096);\">of</span> <span style=\"background-color:rgba(135,206,250,0.040997393);\">apple</span> <span style=\"background-color:rgba(135,206,250,0.04263534);\">scent</span> <span style=\"background-color:rgba(135,206,250,0.03368269);\">the</span> <span style=\"background-color:rgba(135,206,250,0.047718182);\">nose</span> <span style=\"background-color:rgba(135,206,250,0.175092);\">.</span> <span style=\"background-color:rgba(135,206,250,0.03447458);\">the</span> <span style=\"background-color:rgba(135,206,250,0.066098385);\">palate</span> <span style=\"background-color:rgba(135,206,250,0.07297957);\">is</span> <span style=\"background-color:rgba(135,206,250,0.037474204);\">all</span> <span style=\"background-color:rgba(135,206,250,0.051047202);\">[UNK]</span> <span style=\"background-color:rgba(135,206,250,0.24438559);\">.</span> <span style=\"background-color:rgba(135,206,250,0.050938107);\">the</span> <span style=\"background-color:rgba(135,206,250,0.06523294);\">same</span> <span style=\"background-color:rgba(135,206,250,0.12113019);\">,</span> <span style=\"background-color:rgba(135,206,250,0.08240424);\">however</span> <span style=\"background-color:rgba(135,206,250,0.1572701);\">,</span> <span style=\"background-color:rgba(135,206,250,0.10692538);\">the</span> <span style=\"background-color:rgba(135,206,250,0.16120641);\">result</span> <span style=\"background-color:rgba(135,206,250,0.21314685);\">is</span> <span style=\"background-color:rgba(135,206,250,0.15101404);\">a</span> <span style=\"background-color:rgba(135,206,250,0.2493119);\">slender</span> <span style=\"background-color:rgba(135,206,250,0.4537047);\">,</span> <span style=\"background-color:rgba(135,206,250,0.18763068);\">taut</span> <span style=\"background-color:rgba(135,206,250,0.43279332);\">and</span> <span style=\"background-color:rgba(135,206,250,0.4183689);\">slender</span> <span style=\"background-color:rgba(135,206,250,1.0);\">,</span> <span style=\"background-color:rgba(135,206,250,0.27560127);\">dry</span> <span style=\"background-color:rgba(135,206,250,0.9007975);\">and</span> <span style=\"background-color:rgba(135,206,250,0.1280608);\">whistle</span>"
      ],
      "text/plain": [
       "<IPython.core.display.HTML object>"
      ]
     },
     "metadata": {},
     "output_type": "display_data"
    },
    {
     "name": "stdout",
     "output_type": "stream",
     "text": [
      "-:   \t100.0%\n",
      "that:   \t0.0%\n",
      ",:   \t0.0%\n",
      "clean:   \t0.0%\n",
      ".:   \t0.0%\n",
      "--------\n",
      "\n"
     ]
    },
    {
     "data": {
      "text/html": [
       "<span style=\"background-color:rgba(135,206,250,0.036114573);\">wine</span> <span style=\"background-color:rgba(135,206,250,0.07419554);\">review</span> <span style=\"background-color:rgba(135,206,250,0.07060786);\">:</span> <span style=\"background-color:rgba(135,206,250,0.07987533);\">england</span> <span style=\"background-color:rgba(135,206,250,0.07259999);\">:</span> <span style=\"background-color:rgba(135,206,250,0.06237541);\">england</span> <span style=\"background-color:rgba(135,206,250,0.042697314);\">:</span> <span style=\"background-color:rgba(135,206,250,0.059172843);\">chardonnay</span> <span style=\"background-color:rgba(135,206,250,0.039114833);\">:</span> <span style=\"background-color:rgba(135,206,250,0.0151085695);\">a</span> <span style=\"background-color:rgba(135,206,250,0.013331917);\">touch</span> <span style=\"background-color:rgba(135,206,250,0.00979649);\">of</span> <span style=\"background-color:rgba(135,206,250,0.012693392);\">apple</span> <span style=\"background-color:rgba(135,206,250,0.02650514);\">scent</span> <span style=\"background-color:rgba(135,206,250,0.00803609);\">the</span> <span style=\"background-color:rgba(135,206,250,0.02355821);\">nose</span> <span style=\"background-color:rgba(135,206,250,0.03222656);\">.</span> <span style=\"background-color:rgba(135,206,250,0.008688153);\">the</span> <span style=\"background-color:rgba(135,206,250,0.0289196);\">palate</span> <span style=\"background-color:rgba(135,206,250,0.014271691);\">is</span> <span style=\"background-color:rgba(135,206,250,0.0068363817);\">all</span> <span style=\"background-color:rgba(135,206,250,0.010508472);\">[UNK]</span> <span style=\"background-color:rgba(135,206,250,0.035126064);\">.</span> <span style=\"background-color:rgba(135,206,250,0.009386375);\">the</span> <span style=\"background-color:rgba(135,206,250,0.00810623);\">same</span> <span style=\"background-color:rgba(135,206,250,0.02006354);\">,</span> <span style=\"background-color:rgba(135,206,250,0.017392106);\">however</span> <span style=\"background-color:rgba(135,206,250,0.022550002);\">,</span> <span style=\"background-color:rgba(135,206,250,0.011761318);\">the</span> <span style=\"background-color:rgba(135,206,250,0.018119272);\">result</span> <span style=\"background-color:rgba(135,206,250,0.022300823);\">is</span> <span style=\"background-color:rgba(135,206,250,0.020368794);\">a</span> <span style=\"background-color:rgba(135,206,250,0.048611406);\">slender</span> <span style=\"background-color:rgba(135,206,250,0.032807484);\">,</span> <span style=\"background-color:rgba(135,206,250,0.032514967);\">taut</span> <span style=\"background-color:rgba(135,206,250,0.049698245);\">and</span> <span style=\"background-color:rgba(135,206,250,0.07482174);\">slender</span> <span style=\"background-color:rgba(135,206,250,0.06276461);\">,</span> <span style=\"background-color:rgba(135,206,250,0.107590444);\">dry</span> <span style=\"background-color:rgba(135,206,250,0.09624986);\">and</span> <span style=\"background-color:rgba(135,206,250,1.0);\">whistle</span> <span style=\"background-color:rgba(135,206,250,0.028888093);\">-</span>"
      ],
      "text/plain": [
       "<IPython.core.display.HTML object>"
      ]
     },
     "metadata": {},
     "output_type": "display_data"
    },
    {
     "name": "stdout",
     "output_type": "stream",
     "text": [
      "clean:   \t100.0%\n",
      "refreshing:   \t0.0%\n",
      "crisp:   \t0.0%\n",
      "superclean:   \t0.0%\n",
      "[UNK]:   \t0.0%\n",
      "--------\n",
      "\n"
     ]
    },
    {
     "data": {
      "text/html": [
       "<span style=\"background-color:rgba(135,206,250,0.10674251);\">wine</span> <span style=\"background-color:rgba(135,206,250,0.15392303);\">review</span> <span style=\"background-color:rgba(135,206,250,0.16682133);\">:</span> <span style=\"background-color:rgba(135,206,250,0.39350495);\">england</span> <span style=\"background-color:rgba(135,206,250,0.23437499);\">:</span> <span style=\"background-color:rgba(135,206,250,0.2044884);\">england</span> <span style=\"background-color:rgba(135,206,250,0.12618633);\">:</span> <span style=\"background-color:rgba(135,206,250,0.21693058);\">chardonnay</span> <span style=\"background-color:rgba(135,206,250,0.13939556);\">:</span> <span style=\"background-color:rgba(135,206,250,0.033982117);\">a</span> <span style=\"background-color:rgba(135,206,250,0.059133075);\">touch</span> <span style=\"background-color:rgba(135,206,250,0.04774624);\">of</span> <span style=\"background-color:rgba(135,206,250,0.059305366);\">apple</span> <span style=\"background-color:rgba(135,206,250,0.08732509);\">scent</span> <span style=\"background-color:rgba(135,206,250,0.036520343);\">the</span> <span style=\"background-color:rgba(135,206,250,0.10269951);\">nose</span> <span style=\"background-color:rgba(135,206,250,0.12723549);\">.</span> <span style=\"background-color:rgba(135,206,250,0.03751279);\">the</span> <span style=\"background-color:rgba(135,206,250,0.14822614);\">palate</span> <span style=\"background-color:rgba(135,206,250,0.05454743);\">is</span> <span style=\"background-color:rgba(135,206,250,0.054297958);\">all</span> <span style=\"background-color:rgba(135,206,250,0.027428191);\">[UNK]</span> <span style=\"background-color:rgba(135,206,250,0.13628122);\">.</span> <span style=\"background-color:rgba(135,206,250,0.043581452);\">the</span> <span style=\"background-color:rgba(135,206,250,0.055723865);\">same</span> <span style=\"background-color:rgba(135,206,250,0.07354637);\">,</span> <span style=\"background-color:rgba(135,206,250,0.08096791);\">however</span> <span style=\"background-color:rgba(135,206,250,0.08796405);\">,</span> <span style=\"background-color:rgba(135,206,250,0.06656984);\">the</span> <span style=\"background-color:rgba(135,206,250,0.11058713);\">result</span> <span style=\"background-color:rgba(135,206,250,0.12754774);\">is</span> <span style=\"background-color:rgba(135,206,250,0.09533805);\">a</span> <span style=\"background-color:rgba(135,206,250,0.29123703);\">slender</span> <span style=\"background-color:rgba(135,206,250,0.2081656);\">,</span> <span style=\"background-color:rgba(135,206,250,0.15692046);\">taut</span> <span style=\"background-color:rgba(135,206,250,0.2551042);\">and</span> <span style=\"background-color:rgba(135,206,250,0.49402484);\">slender</span> <span style=\"background-color:rgba(135,206,250,0.5571041);\">,</span> <span style=\"background-color:rgba(135,206,250,0.45016038);\">dry</span> <span style=\"background-color:rgba(135,206,250,0.9060959);\">and</span> <span style=\"background-color:rgba(135,206,250,1.0);\">whistle</span> <span style=\"background-color:rgba(135,206,250,0.6458137);\">-</span> <span style=\"background-color:rgba(135,206,250,0.8875035);\">clean</span>"
      ],
      "text/plain": [
       "<IPython.core.display.HTML object>"
      ]
     },
     "metadata": {},
     "output_type": "display_data"
    },
    {
     "name": "stdout",
     "output_type": "stream",
     "text": [
      ",:   \t85.67%\n",
      ".:   \t9.63%\n",
      "wine:   \t2.97%\n",
      "palate:   \t0.49%\n",
      "but:   \t0.28%\n",
      "--------\n",
      "\n"
     ]
    },
    {
     "data": {
      "text/html": [
       "<span style=\"background-color:rgba(135,206,250,0.049700297);\">wine</span> <span style=\"background-color:rgba(135,206,250,0.111818284);\">review</span> <span style=\"background-color:rgba(135,206,250,0.092722096);\">:</span> <span style=\"background-color:rgba(135,206,250,0.28059483);\">england</span> <span style=\"background-color:rgba(135,206,250,0.099847116);\">:</span> <span style=\"background-color:rgba(135,206,250,0.1550442);\">england</span> <span style=\"background-color:rgba(135,206,250,0.052662387);\">:</span> <span style=\"background-color:rgba(135,206,250,0.12912984);\">chardonnay</span> <span style=\"background-color:rgba(135,206,250,0.07561177);\">:</span> <span style=\"background-color:rgba(135,206,250,0.023119453);\">a</span> <span style=\"background-color:rgba(135,206,250,0.0344795);\">touch</span> <span style=\"background-color:rgba(135,206,250,0.022663629);\">of</span> <span style=\"background-color:rgba(135,206,250,0.041690856);\">apple</span> <span style=\"background-color:rgba(135,206,250,0.039221466);\">scent</span> <span style=\"background-color:rgba(135,206,250,0.017908813);\">the</span> <span style=\"background-color:rgba(135,206,250,0.052557647);\">nose</span> <span style=\"background-color:rgba(135,206,250,0.08692148);\">.</span> <span style=\"background-color:rgba(135,206,250,0.018414937);\">the</span> <span style=\"background-color:rgba(135,206,250,0.0585555);\">palate</span> <span style=\"background-color:rgba(135,206,250,0.052356686);\">is</span> <span style=\"background-color:rgba(135,206,250,0.03267622);\">all</span> <span style=\"background-color:rgba(135,206,250,0.017760849);\">[UNK]</span> <span style=\"background-color:rgba(135,206,250,0.097160764);\">.</span> <span style=\"background-color:rgba(135,206,250,0.020605149);\">the</span> <span style=\"background-color:rgba(135,206,250,0.02498326);\">same</span> <span style=\"background-color:rgba(135,206,250,0.030505477);\">,</span> <span style=\"background-color:rgba(135,206,250,0.069663376);\">however</span> <span style=\"background-color:rgba(135,206,250,0.035636652);\">,</span> <span style=\"background-color:rgba(135,206,250,0.029375669);\">the</span> <span style=\"background-color:rgba(135,206,250,0.061701886);\">result</span> <span style=\"background-color:rgba(135,206,250,0.10449728);\">is</span> <span style=\"background-color:rgba(135,206,250,0.04060478);\">a</span> <span style=\"background-color:rgba(135,206,250,0.17199188);\">slender</span> <span style=\"background-color:rgba(135,206,250,0.056253955);\">,</span> <span style=\"background-color:rgba(135,206,250,0.14432502);\">taut</span> <span style=\"background-color:rgba(135,206,250,0.13703246);\">and</span> <span style=\"background-color:rgba(135,206,250,0.28126222);\">slender</span> <span style=\"background-color:rgba(135,206,250,0.09772663);\">,</span> <span style=\"background-color:rgba(135,206,250,0.251388);\">dry</span> <span style=\"background-color:rgba(135,206,250,0.43300244);\">and</span> <span style=\"background-color:rgba(135,206,250,0.5439894);\">whistle</span> <span style=\"background-color:rgba(135,206,250,0.32226688);\">-</span> <span style=\"background-color:rgba(135,206,250,1.0);\">clean</span> <span style=\"background-color:rgba(135,206,250,0.45600802);\">,</span>"
      ],
      "text/plain": [
       "<IPython.core.display.HTML object>"
      ]
     },
     "metadata": {},
     "output_type": "display_data"
    },
    {
     "name": "stdout",
     "output_type": "stream",
     "text": [
      "stony:   \t17.22%\n",
      "fresh:   \t15.31%\n",
      "refreshing:   \t14.41%\n",
      "but:   \t10.99%\n",
      "pure:   \t7.13%\n",
      "--------\n",
      "\n"
     ]
    },
    {
     "data": {
      "text/html": [
       "<span style=\"background-color:rgba(135,206,250,0.051896702);\">wine</span> <span style=\"background-color:rgba(135,206,250,0.08658955);\">review</span> <span style=\"background-color:rgba(135,206,250,0.11079647);\">:</span> <span style=\"background-color:rgba(135,206,250,0.23437907);\">england</span> <span style=\"background-color:rgba(135,206,250,0.12563536);\">:</span> <span style=\"background-color:rgba(135,206,250,0.1202605);\">england</span> <span style=\"background-color:rgba(135,206,250,0.05730606);\">:</span> <span style=\"background-color:rgba(135,206,250,0.10840579);\">chardonnay</span> <span style=\"background-color:rgba(135,206,250,0.070549466);\">:</span> <span style=\"background-color:rgba(135,206,250,0.024322033);\">a</span> <span style=\"background-color:rgba(135,206,250,0.021139013);\">touch</span> <span style=\"background-color:rgba(135,206,250,0.024820328);\">of</span> <span style=\"background-color:rgba(135,206,250,0.027642732);\">apple</span> <span style=\"background-color:rgba(135,206,250,0.02920688);\">scent</span> <span style=\"background-color:rgba(135,206,250,0.019784346);\">the</span> <span style=\"background-color:rgba(135,206,250,0.050742593);\">nose</span> <span style=\"background-color:rgba(135,206,250,0.07088508);\">.</span> <span style=\"background-color:rgba(135,206,250,0.020152384);\">the</span> <span style=\"background-color:rgba(135,206,250,0.070210464);\">palate</span> <span style=\"background-color:rgba(135,206,250,0.03434251);\">is</span> <span style=\"background-color:rgba(135,206,250,0.019520812);\">all</span> <span style=\"background-color:rgba(135,206,250,0.020695716);\">[UNK]</span> <span style=\"background-color:rgba(135,206,250,0.08080011);\">.</span> <span style=\"background-color:rgba(135,206,250,0.02512809);\">the</span> <span style=\"background-color:rgba(135,206,250,0.031245492);\">same</span> <span style=\"background-color:rgba(135,206,250,0.038522106);\">,</span> <span style=\"background-color:rgba(135,206,250,0.040247705);\">however</span> <span style=\"background-color:rgba(135,206,250,0.045163725);\">,</span> <span style=\"background-color:rgba(135,206,250,0.036699247);\">the</span> <span style=\"background-color:rgba(135,206,250,0.07307344);\">result</span> <span style=\"background-color:rgba(135,206,250,0.06846959);\">is</span> <span style=\"background-color:rgba(135,206,250,0.047050197);\">a</span> <span style=\"background-color:rgba(135,206,250,0.10878039);\">slender</span> <span style=\"background-color:rgba(135,206,250,0.07559122);\">,</span> <span style=\"background-color:rgba(135,206,250,0.05578598);\">taut</span> <span style=\"background-color:rgba(135,206,250,0.10077784);\">and</span> <span style=\"background-color:rgba(135,206,250,0.15491581);\">slender</span> <span style=\"background-color:rgba(135,206,250,0.1559295);\">,</span> <span style=\"background-color:rgba(135,206,250,0.1650564);\">dry</span> <span style=\"background-color:rgba(135,206,250,0.24983177);\">and</span> <span style=\"background-color:rgba(135,206,250,0.43678612);\">whistle</span> <span style=\"background-color:rgba(135,206,250,0.13387935);\">-</span> <span style=\"background-color:rgba(135,206,250,0.43785086);\">clean</span> <span style=\"background-color:rgba(135,206,250,1.0);\">,</span> <span style=\"background-color:rgba(135,206,250,0.39540893);\">refreshing</span>"
      ],
      "text/plain": [
       "<IPython.core.display.HTML object>"
      ]
     },
     "metadata": {},
     "output_type": "display_data"
    },
    {
     "name": "stdout",
     "output_type": "stream",
     "text": [
      "and:   \t77.55%\n",
      ",:   \t12.02%\n",
      "finish:   \t4.39%\n",
      "wine:   \t2.21%\n",
      ".:   \t1.67%\n",
      "--------\n",
      "\n"
     ]
    },
    {
     "data": {
      "text/html": [
       "<span style=\"background-color:rgba(135,206,250,0.045110278);\">wine</span> <span style=\"background-color:rgba(135,206,250,0.07693408);\">review</span> <span style=\"background-color:rgba(135,206,250,0.089432545);\">:</span> <span style=\"background-color:rgba(135,206,250,0.25839216);\">england</span> <span style=\"background-color:rgba(135,206,250,0.08937755);\">:</span> <span style=\"background-color:rgba(135,206,250,0.15407462);\">england</span> <span style=\"background-color:rgba(135,206,250,0.048360456);\">:</span> <span style=\"background-color:rgba(135,206,250,0.14246807);\">chardonnay</span> <span style=\"background-color:rgba(135,206,250,0.06257163);\">:</span> <span style=\"background-color:rgba(135,206,250,0.020779898);\">a</span> <span style=\"background-color:rgba(135,206,250,0.021931693);\">touch</span> <span style=\"background-color:rgba(135,206,250,0.017631171);\">of</span> <span style=\"background-color:rgba(135,206,250,0.038393233);\">apple</span> <span style=\"background-color:rgba(135,206,250,0.036599148);\">scent</span> <span style=\"background-color:rgba(135,206,250,0.017440038);\">the</span> <span style=\"background-color:rgba(135,206,250,0.051953923);\">nose</span> <span style=\"background-color:rgba(135,206,250,0.066517726);\">.</span> <span style=\"background-color:rgba(135,206,250,0.016662035);\">the</span> <span style=\"background-color:rgba(135,206,250,0.05998949);\">palate</span> <span style=\"background-color:rgba(135,206,250,0.025209358);\">is</span> <span style=\"background-color:rgba(135,206,250,0.018581387);\">all</span> <span style=\"background-color:rgba(135,206,250,0.017203892);\">[UNK]</span> <span style=\"background-color:rgba(135,206,250,0.069271564);\">.</span> <span style=\"background-color:rgba(135,206,250,0.01741478);\">the</span> <span style=\"background-color:rgba(135,206,250,0.0168345);\">same</span> <span style=\"background-color:rgba(135,206,250,0.026022471);\">,</span> <span style=\"background-color:rgba(135,206,250,0.046558376);\">however</span> <span style=\"background-color:rgba(135,206,250,0.028133374);\">,</span> <span style=\"background-color:rgba(135,206,250,0.021676881);\">the</span> <span style=\"background-color:rgba(135,206,250,0.040983662);\">result</span> <span style=\"background-color:rgba(135,206,250,0.035147768);\">is</span> <span style=\"background-color:rgba(135,206,250,0.024587695);\">a</span> <span style=\"background-color:rgba(135,206,250,0.14754501);\">slender</span> <span style=\"background-color:rgba(135,206,250,0.04496021);\">,</span> <span style=\"background-color:rgba(135,206,250,0.10277444);\">taut</span> <span style=\"background-color:rgba(135,206,250,0.049856752);\">and</span> <span style=\"background-color:rgba(135,206,250,0.17018026);\">slender</span> <span style=\"background-color:rgba(135,206,250,0.08678423);\">,</span> <span style=\"background-color:rgba(135,206,250,0.13257235);\">dry</span> <span style=\"background-color:rgba(135,206,250,0.0698481);\">and</span> <span style=\"background-color:rgba(135,206,250,0.39191192);\">whistle</span> <span style=\"background-color:rgba(135,206,250,0.1565589);\">-</span> <span style=\"background-color:rgba(135,206,250,0.45926675);\">clean</span> <span style=\"background-color:rgba(135,206,250,0.8673739);\">,</span> <span style=\"background-color:rgba(135,206,250,1.0);\">refreshing</span> <span style=\"background-color:rgba(135,206,250,0.34496465);\">and</span>"
      ],
      "text/plain": [
       "<IPython.core.display.HTML object>"
      ]
     },
     "metadata": {},
     "output_type": "display_data"
    },
    {
     "name": "stdout",
     "output_type": "stream",
     "text": [
      "streamlined:   \t14.79%\n",
      "whistle:   \t12.16%\n",
      "linear:   \t9.91%\n",
      "clean:   \t9.58%\n",
      "stony:   \t6.85%\n",
      "--------\n",
      "\n"
     ]
    },
    {
     "data": {
      "text/html": [
       "<span style=\"background-color:rgba(135,206,250,0.07051695);\">wine</span> <span style=\"background-color:rgba(135,206,250,0.0935276);\">review</span> <span style=\"background-color:rgba(135,206,250,0.10662515);\">:</span> <span style=\"background-color:rgba(135,206,250,0.30770105);\">england</span> <span style=\"background-color:rgba(135,206,250,0.12168083);\">:</span> <span style=\"background-color:rgba(135,206,250,0.2241557);\">england</span> <span style=\"background-color:rgba(135,206,250,0.051794615);\">:</span> <span style=\"background-color:rgba(135,206,250,0.16024528);\">chardonnay</span> <span style=\"background-color:rgba(135,206,250,0.065857954);\">:</span> <span style=\"background-color:rgba(135,206,250,0.023801414);\">a</span> <span style=\"background-color:rgba(135,206,250,0.036498934);\">touch</span> <span style=\"background-color:rgba(135,206,250,0.018988036);\">of</span> <span style=\"background-color:rgba(135,206,250,0.048975293);\">apple</span> <span style=\"background-color:rgba(135,206,250,0.0573359);\">scent</span> <span style=\"background-color:rgba(135,206,250,0.011380826);\">the</span> <span style=\"background-color:rgba(135,206,250,0.12651797);\">nose</span> <span style=\"background-color:rgba(135,206,250,0.065865085);\">.</span> <span style=\"background-color:rgba(135,206,250,0.010752374);\">the</span> <span style=\"background-color:rgba(135,206,250,0.15330169);\">palate</span> <span style=\"background-color:rgba(135,206,250,0.021574236);\">is</span> <span style=\"background-color:rgba(135,206,250,0.01086818);\">all</span> <span style=\"background-color:rgba(135,206,250,0.020137392);\">[UNK]</span> <span style=\"background-color:rgba(135,206,250,0.07037516);\">.</span> <span style=\"background-color:rgba(135,206,250,0.01112243);\">the</span> <span style=\"background-color:rgba(135,206,250,0.027687766);\">same</span> <span style=\"background-color:rgba(135,206,250,0.028549269);\">,</span> <span style=\"background-color:rgba(135,206,250,0.051679797);\">however</span> <span style=\"background-color:rgba(135,206,250,0.03314286);\">,</span> <span style=\"background-color:rgba(135,206,250,0.013068738);\">the</span> <span style=\"background-color:rgba(135,206,250,0.054963987);\">result</span> <span style=\"background-color:rgba(135,206,250,0.030856112);\">is</span> <span style=\"background-color:rgba(135,206,250,0.024714855);\">a</span> <span style=\"background-color:rgba(135,206,250,0.17606771);\">slender</span> <span style=\"background-color:rgba(135,206,250,0.054164372);\">,</span> <span style=\"background-color:rgba(135,206,250,0.09307387);\">taut</span> <span style=\"background-color:rgba(135,206,250,0.05201242);\">and</span> <span style=\"background-color:rgba(135,206,250,0.209916);\">slender</span> <span style=\"background-color:rgba(135,206,250,0.12326978);\">,</span> <span style=\"background-color:rgba(135,206,250,0.11890776);\">dry</span> <span style=\"background-color:rgba(135,206,250,0.12378876);\">and</span> <span style=\"background-color:rgba(135,206,250,0.37431946);\">whistle</span> <span style=\"background-color:rgba(135,206,250,0.24662782);\">-</span> <span style=\"background-color:rgba(135,206,250,0.2785792);\">clean</span> <span style=\"background-color:rgba(135,206,250,0.90638804);\">,</span> <span style=\"background-color:rgba(135,206,250,0.6305826);\">refreshing</span> <span style=\"background-color:rgba(135,206,250,1.0);\">and</span> <span style=\"background-color:rgba(135,206,250,0.3414015);\">the</span>"
      ],
      "text/plain": [
       "<IPython.core.display.HTML object>"
      ]
     },
     "metadata": {},
     "output_type": "display_data"
    },
    {
     "name": "stdout",
     "output_type": "stream",
     "text": [
      "finish:   \t66.42%\n",
      "palate:   \t10.85%\n",
      "slender:   \t4.01%\n",
      "slightest:   \t3.27%\n",
      "lasting:   \t3.15%\n",
      "--------\n",
      "\n"
     ]
    },
    {
     "data": {
      "text/html": [
       "<span style=\"background-color:rgba(135,206,250,0.066353224);\">wine</span> <span style=\"background-color:rgba(135,206,250,0.18015118);\">review</span> <span style=\"background-color:rgba(135,206,250,0.17277545);\">:</span> <span style=\"background-color:rgba(135,206,250,0.42320648);\">england</span> <span style=\"background-color:rgba(135,206,250,0.20899709);\">:</span> <span style=\"background-color:rgba(135,206,250,0.13899265);\">england</span> <span style=\"background-color:rgba(135,206,250,0.07101027);\">:</span> <span style=\"background-color:rgba(135,206,250,0.051852416);\">chardonnay</span> <span style=\"background-color:rgba(135,206,250,0.06682865);\">:</span> <span style=\"background-color:rgba(135,206,250,0.04690425);\">a</span> <span style=\"background-color:rgba(135,206,250,0.028177626);\">touch</span> <span style=\"background-color:rgba(135,206,250,0.022362335);\">of</span> <span style=\"background-color:rgba(135,206,250,0.023341049);\">apple</span> <span style=\"background-color:rgba(135,206,250,0.028146552);\">scent</span> <span style=\"background-color:rgba(135,206,250,0.01797047);\">the</span> <span style=\"background-color:rgba(135,206,250,0.045335367);\">nose</span> <span style=\"background-color:rgba(135,206,250,0.11872399);\">.</span> <span style=\"background-color:rgba(135,206,250,0.017602729);\">the</span> <span style=\"background-color:rgba(135,206,250,0.02351018);\">palate</span> <span style=\"background-color:rgba(135,206,250,0.04332338);\">is</span> <span style=\"background-color:rgba(135,206,250,0.023911979);\">all</span> <span style=\"background-color:rgba(135,206,250,0.029743811);\">[UNK]</span> <span style=\"background-color:rgba(135,206,250,0.1365232);\">.</span> <span style=\"background-color:rgba(135,206,250,0.02094636);\">the</span> <span style=\"background-color:rgba(135,206,250,0.038028944);\">same</span> <span style=\"background-color:rgba(135,206,250,0.04767032);\">,</span> <span style=\"background-color:rgba(135,206,250,0.057128634);\">however</span> <span style=\"background-color:rgba(135,206,250,0.058986202);\">,</span> <span style=\"background-color:rgba(135,206,250,0.032650646);\">the</span> <span style=\"background-color:rgba(135,206,250,0.11136896);\">result</span> <span style=\"background-color:rgba(135,206,250,0.114019856);\">is</span> <span style=\"background-color:rgba(135,206,250,0.090115584);\">a</span> <span style=\"background-color:rgba(135,206,250,0.19994394);\">slender</span> <span style=\"background-color:rgba(135,206,250,0.11206346);\">,</span> <span style=\"background-color:rgba(135,206,250,0.078203246);\">taut</span> <span style=\"background-color:rgba(135,206,250,0.1520427);\">and</span> <span style=\"background-color:rgba(135,206,250,0.25433537);\">slender</span> <span style=\"background-color:rgba(135,206,250,0.17989656);\">,</span> <span style=\"background-color:rgba(135,206,250,0.15792525);\">dry</span> <span style=\"background-color:rgba(135,206,250,0.2687578);\">and</span> <span style=\"background-color:rgba(135,206,250,0.18012942);\">whistle</span> <span style=\"background-color:rgba(135,206,250,0.11167379);\">-</span> <span style=\"background-color:rgba(135,206,250,0.3189307);\">clean</span> <span style=\"background-color:rgba(135,206,250,0.59333605);\">,</span> <span style=\"background-color:rgba(135,206,250,0.51943076);\">refreshing</span> <span style=\"background-color:rgba(135,206,250,0.9050939);\">and</span> <span style=\"background-color:rgba(135,206,250,1.0);\">the</span> <span style=\"background-color:rgba(135,206,250,0.6282521);\">palate</span>"
      ],
      "text/plain": [
       "<IPython.core.display.HTML object>"
      ]
     },
     "metadata": {},
     "output_type": "display_data"
    },
    {
     "name": "stdout",
     "output_type": "stream",
     "text": [
      "is:   \t84.33%\n",
      "has:   \t4.28%\n",
      "offers:   \t3.09%\n",
      "displays:   \t2.6%\n",
      "shows:   \t1.57%\n",
      "--------\n",
      "\n"
     ]
    },
    {
     "data": {
      "text/html": [
       "<span style=\"background-color:rgba(135,206,250,0.041757345);\">wine</span> <span style=\"background-color:rgba(135,206,250,0.073787965);\">review</span> <span style=\"background-color:rgba(135,206,250,0.11017384);\">:</span> <span style=\"background-color:rgba(135,206,250,0.26470265);\">england</span> <span style=\"background-color:rgba(135,206,250,0.105684176);\">:</span> <span style=\"background-color:rgba(135,206,250,0.14031023);\">england</span> <span style=\"background-color:rgba(135,206,250,0.056667853);\">:</span> <span style=\"background-color:rgba(135,206,250,0.11230383);\">chardonnay</span> <span style=\"background-color:rgba(135,206,250,0.06725831);\">:</span> <span style=\"background-color:rgba(135,206,250,0.029733103);\">a</span> <span style=\"background-color:rgba(135,206,250,0.023203168);\">touch</span> <span style=\"background-color:rgba(135,206,250,0.0147063965);\">of</span> <span style=\"background-color:rgba(135,206,250,0.028931212);\">apple</span> <span style=\"background-color:rgba(135,206,250,0.041138746);\">scent</span> <span style=\"background-color:rgba(135,206,250,0.02033721);\">the</span> <span style=\"background-color:rgba(135,206,250,0.05362964);\">nose</span> <span style=\"background-color:rgba(135,206,250,0.04876032);\">.</span> <span style=\"background-color:rgba(135,206,250,0.019038694);\">the</span> <span style=\"background-color:rgba(135,206,250,0.034853928);\">palate</span> <span style=\"background-color:rgba(135,206,250,0.015142513);\">is</span> <span style=\"background-color:rgba(135,206,250,0.017987918);\">all</span> <span style=\"background-color:rgba(135,206,250,0.014964144);\">[UNK]</span> <span style=\"background-color:rgba(135,206,250,0.046708073);\">.</span> <span style=\"background-color:rgba(135,206,250,0.018766416);\">the</span> <span style=\"background-color:rgba(135,206,250,0.011823567);\">same</span> <span style=\"background-color:rgba(135,206,250,0.023267461);\">,</span> <span style=\"background-color:rgba(135,206,250,0.041523434);\">however</span> <span style=\"background-color:rgba(135,206,250,0.025578834);\">,</span> <span style=\"background-color:rgba(135,206,250,0.021558756);\">the</span> <span style=\"background-color:rgba(135,206,250,0.024639476);\">result</span> <span style=\"background-color:rgba(135,206,250,0.01932964);\">is</span> <span style=\"background-color:rgba(135,206,250,0.027274568);\">a</span> <span style=\"background-color:rgba(135,206,250,0.12127279);\">slender</span> <span style=\"background-color:rgba(135,206,250,0.037527665);\">,</span> <span style=\"background-color:rgba(135,206,250,0.079041265);\">taut</span> <span style=\"background-color:rgba(135,206,250,0.050378017);\">and</span> <span style=\"background-color:rgba(135,206,250,0.14118631);\">slender</span> <span style=\"background-color:rgba(135,206,250,0.05692932);\">,</span> <span style=\"background-color:rgba(135,206,250,0.0875016);\">dry</span> <span style=\"background-color:rgba(135,206,250,0.07542932);\">and</span> <span style=\"background-color:rgba(135,206,250,0.15429544);\">whistle</span> <span style=\"background-color:rgba(135,206,250,0.060109895);\">-</span> <span style=\"background-color:rgba(135,206,250,0.15937229);\">clean</span> <span style=\"background-color:rgba(135,206,250,0.2894152);\">,</span> <span style=\"background-color:rgba(135,206,250,0.27239785);\">refreshing</span> <span style=\"background-color:rgba(135,206,250,0.30826667);\">and</span> <span style=\"background-color:rgba(135,206,250,0.45559528);\">the</span> <span style=\"background-color:rgba(135,206,250,1.0);\">palate</span> <span style=\"background-color:rgba(135,206,250,0.34183878);\">is</span>"
      ],
      "text/plain": [
       "<IPython.core.display.HTML object>"
      ]
     },
     "metadata": {},
     "output_type": "display_data"
    },
    {
     "name": "stdout",
     "output_type": "stream",
     "text": [
      "whistle:   \t42.01%\n",
      "streamlined:   \t41.74%\n",
      "pervaded:   \t6.03%\n",
      "slender:   \t3.14%\n",
      "taut:   \t1.6%\n",
      "--------\n",
      "\n"
     ]
    },
    {
     "data": {
      "text/html": [
       "<span style=\"background-color:rgba(135,206,250,0.090953946);\">wine</span> <span style=\"background-color:rgba(135,206,250,0.19570048);\">review</span> <span style=\"background-color:rgba(135,206,250,0.31610712);\">:</span> <span style=\"background-color:rgba(135,206,250,0.17180206);\">england</span> <span style=\"background-color:rgba(135,206,250,0.3777029);\">:</span> <span style=\"background-color:rgba(135,206,250,0.08124846);\">england</span> <span style=\"background-color:rgba(135,206,250,0.12311892);\">:</span> <span style=\"background-color:rgba(135,206,250,0.08902311);\">chardonnay</span> <span style=\"background-color:rgba(135,206,250,0.098012045);\">:</span> <span style=\"background-color:rgba(135,206,250,0.03280154);\">a</span> <span style=\"background-color:rgba(135,206,250,0.034756504);\">touch</span> <span style=\"background-color:rgba(135,206,250,0.032583255);\">of</span> <span style=\"background-color:rgba(135,206,250,0.028609952);\">apple</span> <span style=\"background-color:rgba(135,206,250,0.030717637);\">scent</span> <span style=\"background-color:rgba(135,206,250,0.022823213);\">the</span> <span style=\"background-color:rgba(135,206,250,0.03826178);\">nose</span> <span style=\"background-color:rgba(135,206,250,0.114461005);\">.</span> <span style=\"background-color:rgba(135,206,250,0.021829242);\">the</span> <span style=\"background-color:rgba(135,206,250,0.044315446);\">palate</span> <span style=\"background-color:rgba(135,206,250,0.045149844);\">is</span> <span style=\"background-color:rgba(135,206,250,0.023278682);\">all</span> <span style=\"background-color:rgba(135,206,250,0.0299644);\">[UNK]</span> <span style=\"background-color:rgba(135,206,250,0.1319653);\">.</span> <span style=\"background-color:rgba(135,206,250,0.024911178);\">the</span> <span style=\"background-color:rgba(135,206,250,0.028031575);\">same</span> <span style=\"background-color:rgba(135,206,250,0.053831857);\">,</span> <span style=\"background-color:rgba(135,206,250,0.03487216);\">however</span> <span style=\"background-color:rgba(135,206,250,0.062996164);\">,</span> <span style=\"background-color:rgba(135,206,250,0.036992006);\">the</span> <span style=\"background-color:rgba(135,206,250,0.06945174);\">result</span> <span style=\"background-color:rgba(135,206,250,0.079952285);\">is</span> <span style=\"background-color:rgba(135,206,250,0.05152789);\">a</span> <span style=\"background-color:rgba(135,206,250,0.11173667);\">slender</span> <span style=\"background-color:rgba(135,206,250,0.106909685);\">,</span> <span style=\"background-color:rgba(135,206,250,0.054312423);\">taut</span> <span style=\"background-color:rgba(135,206,250,0.13905273);\">and</span> <span style=\"background-color:rgba(135,206,250,0.12610444);\">slender</span> <span style=\"background-color:rgba(135,206,250,0.16535033);\">,</span> <span style=\"background-color:rgba(135,206,250,0.067888744);\">dry</span> <span style=\"background-color:rgba(135,206,250,0.19558308);\">and</span> <span style=\"background-color:rgba(135,206,250,0.043653928);\">whistle</span> <span style=\"background-color:rgba(135,206,250,0.11860385);\">-</span> <span style=\"background-color:rgba(135,206,250,0.15334433);\">clean</span> <span style=\"background-color:rgba(135,206,250,0.4572666);\">,</span> <span style=\"background-color:rgba(135,206,250,0.22009024);\">refreshing</span> <span style=\"background-color:rgba(135,206,250,0.45186457);\">and</span> <span style=\"background-color:rgba(135,206,250,0.53670347);\">the</span> <span style=\"background-color:rgba(135,206,250,0.59326714);\">palate</span> <span style=\"background-color:rgba(135,206,250,1.0);\">is</span> <span style=\"background-color:rgba(135,206,250,0.121514276);\">whistle</span>"
      ],
      "text/plain": [
       "<IPython.core.display.HTML object>"
      ]
     },
     "metadata": {},
     "output_type": "display_data"
    },
    {
     "name": "stdout",
     "output_type": "stream",
     "text": [
      "-:   \t99.9%\n",
      "clean:   \t0.09%\n",
      ",:   \t0.01%\n",
      "of:   \t0.0%\n",
      "that:   \t0.0%\n",
      "--------\n",
      "\n"
     ]
    },
    {
     "data": {
      "text/html": [
       "<span style=\"background-color:rgba(135,206,250,0.032307476);\">wine</span> <span style=\"background-color:rgba(135,206,250,0.058431316);\">review</span> <span style=\"background-color:rgba(135,206,250,0.06494895);\">:</span> <span style=\"background-color:rgba(135,206,250,0.07839554);\">england</span> <span style=\"background-color:rgba(135,206,250,0.073840275);\">:</span> <span style=\"background-color:rgba(135,206,250,0.0594733);\">england</span> <span style=\"background-color:rgba(135,206,250,0.041506942);\">:</span> <span style=\"background-color:rgba(135,206,250,0.060734097);\">chardonnay</span> <span style=\"background-color:rgba(135,206,250,0.0367661);\">:</span> <span style=\"background-color:rgba(135,206,250,0.015224453);\">a</span> <span style=\"background-color:rgba(135,206,250,0.013811211);\">touch</span> <span style=\"background-color:rgba(135,206,250,0.0085054);\">of</span> <span style=\"background-color:rgba(135,206,250,0.011796984);\">apple</span> <span style=\"background-color:rgba(135,206,250,0.023455398);\">scent</span> <span style=\"background-color:rgba(135,206,250,0.0072849146);\">the</span> <span style=\"background-color:rgba(135,206,250,0.023782544);\">nose</span> <span style=\"background-color:rgba(135,206,250,0.025045514);\">.</span> <span style=\"background-color:rgba(135,206,250,0.0075321677);\">the</span> <span style=\"background-color:rgba(135,206,250,0.02515506);\">palate</span> <span style=\"background-color:rgba(135,206,250,0.011145198);\">is</span> <span style=\"background-color:rgba(135,206,250,0.0059708557);\">all</span> <span style=\"background-color:rgba(135,206,250,0.007658685);\">[UNK]</span> <span style=\"background-color:rgba(135,206,250,0.0238507);\">.</span> <span style=\"background-color:rgba(135,206,250,0.0070690364);\">the</span> <span style=\"background-color:rgba(135,206,250,0.006667093);\">same</span> <span style=\"background-color:rgba(135,206,250,0.013862337);\">,</span> <span style=\"background-color:rgba(135,206,250,0.010583405);\">however</span> <span style=\"background-color:rgba(135,206,250,0.015409947);\">,</span> <span style=\"background-color:rgba(135,206,250,0.00819936);\">the</span> <span style=\"background-color:rgba(135,206,250,0.011468533);\">result</span> <span style=\"background-color:rgba(135,206,250,0.014697101);\">is</span> <span style=\"background-color:rgba(135,206,250,0.014883707);\">a</span> <span style=\"background-color:rgba(135,206,250,0.032152046);\">slender</span> <span style=\"background-color:rgba(135,206,250,0.01977374);\">,</span> <span style=\"background-color:rgba(135,206,250,0.017852562);\">taut</span> <span style=\"background-color:rgba(135,206,250,0.03144497);\">and</span> <span style=\"background-color:rgba(135,206,250,0.02999315);\">slender</span> <span style=\"background-color:rgba(135,206,250,0.021255955);\">,</span> <span style=\"background-color:rgba(135,206,250,0.017273575);\">dry</span> <span style=\"background-color:rgba(135,206,250,0.033332303);\">and</span> <span style=\"background-color:rgba(135,206,250,0.030267786);\">whistle</span> <span style=\"background-color:rgba(135,206,250,0.00793268);\">-</span> <span style=\"background-color:rgba(135,206,250,0.027641172);\">clean</span> <span style=\"background-color:rgba(135,206,250,0.035025574);\">,</span> <span style=\"background-color:rgba(135,206,250,0.04399351);\">refreshing</span> <span style=\"background-color:rgba(135,206,250,0.048577126);\">and</span> <span style=\"background-color:rgba(135,206,250,0.036453288);\">the</span> <span style=\"background-color:rgba(135,206,250,0.16909818);\">palate</span> <span style=\"background-color:rgba(135,206,250,0.100041814);\">is</span> <span style=\"background-color:rgba(135,206,250,1.0);\">whistle</span> <span style=\"background-color:rgba(135,206,250,0.024916092);\">-</span>"
      ],
      "text/plain": [
       "<IPython.core.display.HTML object>"
      ]
     },
     "metadata": {},
     "output_type": "display_data"
    },
    {
     "name": "stdout",
     "output_type": "stream",
     "text": [
      "clean:   \t100.0%\n",
      "cleansing:   \t0.0%\n",
      "refreshing:   \t0.0%\n",
      "superclean:   \t0.0%\n",
      "tingling:   \t0.0%\n",
      "--------\n",
      "\n"
     ]
    },
    {
     "data": {
      "text/html": [
       "<span style=\"background-color:rgba(135,206,250,0.06640713);\">wine</span> <span style=\"background-color:rgba(135,206,250,0.08672701);\">review</span> <span style=\"background-color:rgba(135,206,250,0.107181944);\">:</span> <span style=\"background-color:rgba(135,206,250,0.2728103);\">england</span> <span style=\"background-color:rgba(135,206,250,0.14722627);\">:</span> <span style=\"background-color:rgba(135,206,250,0.15828398);\">england</span> <span style=\"background-color:rgba(135,206,250,0.0930927);\">:</span> <span style=\"background-color:rgba(135,206,250,0.17453228);\">chardonnay</span> <span style=\"background-color:rgba(135,206,250,0.099504836);\">:</span> <span style=\"background-color:rgba(135,206,250,0.02495562);\">a</span> <span style=\"background-color:rgba(135,206,250,0.04454846);\">touch</span> <span style=\"background-color:rgba(135,206,250,0.03058111);\">of</span> <span style=\"background-color:rgba(135,206,250,0.03887645);\">apple</span> <span style=\"background-color:rgba(135,206,250,0.05617687);\">scent</span> <span style=\"background-color:rgba(135,206,250,0.024332864);\">the</span> <span style=\"background-color:rgba(135,206,250,0.073630325);\">nose</span> <span style=\"background-color:rgba(135,206,250,0.07604437);\">.</span> <span style=\"background-color:rgba(135,206,250,0.024622267);\">the</span> <span style=\"background-color:rgba(135,206,250,0.09272375);\">palate</span> <span style=\"background-color:rgba(135,206,250,0.032429326);\">is</span> <span style=\"background-color:rgba(135,206,250,0.0342746);\">all</span> <span style=\"background-color:rgba(135,206,250,0.013583396);\">[UNK]</span> <span style=\"background-color:rgba(135,206,250,0.06969307);\">.</span> <span style=\"background-color:rgba(135,206,250,0.02330892);\">the</span> <span style=\"background-color:rgba(135,206,250,0.031007504);\">same</span> <span style=\"background-color:rgba(135,206,250,0.036392502);\">,</span> <span style=\"background-color:rgba(135,206,250,0.038870443);\">however</span> <span style=\"background-color:rgba(135,206,250,0.041404072);\">,</span> <span style=\"background-color:rgba(135,206,250,0.027885891);\">the</span> <span style=\"background-color:rgba(135,206,250,0.029133188);\">result</span> <span style=\"background-color:rgba(135,206,250,0.048159566);\">is</span> <span style=\"background-color:rgba(135,206,250,0.023832109);\">a</span> <span style=\"background-color:rgba(135,206,250,0.14130943);\">slender</span> <span style=\"background-color:rgba(135,206,250,0.058930915);\">,</span> <span style=\"background-color:rgba(135,206,250,0.045900285);\">taut</span> <span style=\"background-color:rgba(135,206,250,0.06278069);\">and</span> <span style=\"background-color:rgba(135,206,250,0.1546061);\">slender</span> <span style=\"background-color:rgba(135,206,250,0.07453646);\">,</span> <span style=\"background-color:rgba(135,206,250,0.07489014);\">dry</span> <span style=\"background-color:rgba(135,206,250,0.084408924);\">and</span> <span style=\"background-color:rgba(135,206,250,0.14098115);\">whistle</span> <span style=\"background-color:rgba(135,206,250,0.033090357);\">-</span> <span style=\"background-color:rgba(135,206,250,0.06427696);\">clean</span> <span style=\"background-color:rgba(135,206,250,0.17701042);\">,</span> <span style=\"background-color:rgba(135,206,250,0.18162721);\">refreshing</span> <span style=\"background-color:rgba(135,206,250,0.24803355);\">and</span> <span style=\"background-color:rgba(135,206,250,0.46632168);\">the</span> <span style=\"background-color:rgba(135,206,250,0.87370014);\">palate</span> <span style=\"background-color:rgba(135,206,250,1.0);\">is</span> <span style=\"background-color:rgba(135,206,250,0.81470144);\">whistle</span> <span style=\"background-color:rgba(135,206,250,0.38954133);\">-</span> <span style=\"background-color:rgba(135,206,250,0.56544805);\">clean</span>"
      ],
      "text/plain": [
       "<IPython.core.display.HTML object>"
      ]
     },
     "metadata": {},
     "output_type": "display_data"
    },
    {
     "name": "stdout",
     "output_type": "stream",
     "text": [
      ",:   \t48.62%\n",
      "and:   \t43.91%\n",
      ".:   \t6.91%\n",
      "but:   \t0.45%\n",
      "with:   \t0.1%\n",
      "--------\n",
      "\n"
     ]
    },
    {
     "data": {
      "text/html": [
       "<span style=\"background-color:rgba(135,206,250,0.034795277);\">wine</span> <span style=\"background-color:rgba(135,206,250,0.072305374);\">review</span> <span style=\"background-color:rgba(135,206,250,0.071510464);\">:</span> <span style=\"background-color:rgba(135,206,250,0.26343754);\">england</span> <span style=\"background-color:rgba(135,206,250,0.071821794);\">:</span> <span style=\"background-color:rgba(135,206,250,0.1524256);\">england</span> <span style=\"background-color:rgba(135,206,250,0.04213552);\">:</span> <span style=\"background-color:rgba(135,206,250,0.11227807);\">chardonnay</span> <span style=\"background-color:rgba(135,206,250,0.059780907);\">:</span> <span style=\"background-color:rgba(135,206,250,0.01829642);\">a</span> <span style=\"background-color:rgba(135,206,250,0.028651759);\">touch</span> <span style=\"background-color:rgba(135,206,250,0.017414529);\">of</span> <span style=\"background-color:rgba(135,206,250,0.033064596);\">apple</span> <span style=\"background-color:rgba(135,206,250,0.030491082);\">scent</span> <span style=\"background-color:rgba(135,206,250,0.013356407);\">the</span> <span style=\"background-color:rgba(135,206,250,0.045091584);\">nose</span> <span style=\"background-color:rgba(135,206,250,0.064759545);\">.</span> <span style=\"background-color:rgba(135,206,250,0.013410911);\">the</span> <span style=\"background-color:rgba(135,206,250,0.044590276);\">palate</span> <span style=\"background-color:rgba(135,206,250,0.03498385);\">is</span> <span style=\"background-color:rgba(135,206,250,0.023883237);\">all</span> <span style=\"background-color:rgba(135,206,250,0.011349677);\">[UNK]</span> <span style=\"background-color:rgba(135,206,250,0.06474698);\">.</span> <span style=\"background-color:rgba(135,206,250,0.013073772);\">the</span> <span style=\"background-color:rgba(135,206,250,0.016700791);\">same</span> <span style=\"background-color:rgba(135,206,250,0.019341903);\">,</span> <span style=\"background-color:rgba(135,206,250,0.0425301);\">however</span> <span style=\"background-color:rgba(135,206,250,0.022130512);\">,</span> <span style=\"background-color:rgba(135,206,250,0.016704554);\">the</span> <span style=\"background-color:rgba(135,206,250,0.031803984);\">result</span> <span style=\"background-color:rgba(135,206,250,0.05553785);\">is</span> <span style=\"background-color:rgba(135,206,250,0.01915582);\">a</span> <span style=\"background-color:rgba(135,206,250,0.10132828);\">slender</span> <span style=\"background-color:rgba(135,206,250,0.029720677);\">,</span> <span style=\"background-color:rgba(135,206,250,0.07016673);\">taut</span> <span style=\"background-color:rgba(135,206,250,0.04531255);\">and</span> <span style=\"background-color:rgba(135,206,250,0.10892447);\">slender</span> <span style=\"background-color:rgba(135,206,250,0.035880093);\">,</span> <span style=\"background-color:rgba(135,206,250,0.07259319);\">dry</span> <span style=\"background-color:rgba(135,206,250,0.06498923);\">and</span> <span style=\"background-color:rgba(135,206,250,0.12599343);\">whistle</span> <span style=\"background-color:rgba(135,206,250,0.029412411);\">-</span> <span style=\"background-color:rgba(135,206,250,0.10041788);\">clean</span> <span style=\"background-color:rgba(135,206,250,0.060474418);\">,</span> <span style=\"background-color:rgba(135,206,250,0.17493704);\">refreshing</span> <span style=\"background-color:rgba(135,206,250,0.17762193);\">and</span> <span style=\"background-color:rgba(135,206,250,0.12164586);\">the</span> <span style=\"background-color:rgba(135,206,250,0.32329145);\">palate</span> <span style=\"background-color:rgba(135,206,250,0.5021663);\">is</span> <span style=\"background-color:rgba(135,206,250,0.5979406);\">whistle</span> <span style=\"background-color:rgba(135,206,250,0.31454822);\">-</span> <span style=\"background-color:rgba(135,206,250,1.0);\">clean</span> <span style=\"background-color:rgba(135,206,250,0.49917272);\">,</span>"
      ],
      "text/plain": [
       "<IPython.core.display.HTML object>"
      ]
     },
     "metadata": {},
     "output_type": "display_data"
    },
    {
     "name": "stdout",
     "output_type": "stream",
     "text": [
      "refreshing:   \t17.62%\n",
      "whistle:   \t16.63%\n",
      "pure:   \t11.65%\n",
      "stony:   \t8.44%\n",
      "fresh:   \t8.04%\n",
      "--------\n",
      "\n"
     ]
    },
    {
     "data": {
      "text/html": [
       "<span style=\"background-color:rgba(135,206,250,0.04524339);\">wine</span> <span style=\"background-color:rgba(135,206,250,0.063667305);\">review</span> <span style=\"background-color:rgba(135,206,250,0.12435383);\">:</span> <span style=\"background-color:rgba(135,206,250,0.13232695);\">england</span> <span style=\"background-color:rgba(135,206,250,0.09562195);\">:</span> <span style=\"background-color:rgba(135,206,250,0.10644999);\">england</span> <span style=\"background-color:rgba(135,206,250,0.07165842);\">:</span> <span style=\"background-color:rgba(135,206,250,0.1416558);\">chardonnay</span> <span style=\"background-color:rgba(135,206,250,0.06202508);\">:</span> <span style=\"background-color:rgba(135,206,250,0.029153898);\">a</span> <span style=\"background-color:rgba(135,206,250,0.021172645);\">touch</span> <span style=\"background-color:rgba(135,206,250,0.01260903);\">of</span> <span style=\"background-color:rgba(135,206,250,0.02991782);\">apple</span> <span style=\"background-color:rgba(135,206,250,0.023351409);\">scent</span> <span style=\"background-color:rgba(135,206,250,0.011801545);\">the</span> <span style=\"background-color:rgba(135,206,250,0.04551616);\">nose</span> <span style=\"background-color:rgba(135,206,250,0.041084018);\">.</span> <span style=\"background-color:rgba(135,206,250,0.0116532855);\">the</span> <span style=\"background-color:rgba(135,206,250,0.041878067);\">palate</span> <span style=\"background-color:rgba(135,206,250,0.0127928965);\">is</span> <span style=\"background-color:rgba(135,206,250,0.014103835);\">all</span> <span style=\"background-color:rgba(135,206,250,0.01086725);\">[UNK]</span> <span style=\"background-color:rgba(135,206,250,0.040342145);\">.</span> <span style=\"background-color:rgba(135,206,250,0.012316213);\">the</span> <span style=\"background-color:rgba(135,206,250,0.013329802);\">same</span> <span style=\"background-color:rgba(135,206,250,0.028588742);\">,</span> <span style=\"background-color:rgba(135,206,250,0.021280192);\">however</span> <span style=\"background-color:rgba(135,206,250,0.031203443);\">,</span> <span style=\"background-color:rgba(135,206,250,0.015029531);\">the</span> <span style=\"background-color:rgba(135,206,250,0.023778712);\">result</span> <span style=\"background-color:rgba(135,206,250,0.018002566);\">is</span> <span style=\"background-color:rgba(135,206,250,0.021464547);\">a</span> <span style=\"background-color:rgba(135,206,250,0.08806833);\">slender</span> <span style=\"background-color:rgba(135,206,250,0.04264253);\">,</span> <span style=\"background-color:rgba(135,206,250,0.040219758);\">taut</span> <span style=\"background-color:rgba(135,206,250,0.047717378);\">and</span> <span style=\"background-color:rgba(135,206,250,0.09321352);\">slender</span> <span style=\"background-color:rgba(135,206,250,0.053068426);\">,</span> <span style=\"background-color:rgba(135,206,250,0.05989418);\">dry</span> <span style=\"background-color:rgba(135,206,250,0.058659155);\">and</span> <span style=\"background-color:rgba(135,206,250,0.092067204);\">whistle</span> <span style=\"background-color:rgba(135,206,250,0.023121012);\">-</span> <span style=\"background-color:rgba(135,206,250,0.048628084);\">clean</span> <span style=\"background-color:rgba(135,206,250,0.10645201);\">,</span> <span style=\"background-color:rgba(135,206,250,0.10214758);\">refreshing</span> <span style=\"background-color:rgba(135,206,250,0.13889982);\">and</span> <span style=\"background-color:rgba(135,206,250,0.14286481);\">the</span> <span style=\"background-color:rgba(135,206,250,0.32681957);\">palate</span> <span style=\"background-color:rgba(135,206,250,0.21808882);\">is</span> <span style=\"background-color:rgba(135,206,250,0.2594589);\">whistle</span> <span style=\"background-color:rgba(135,206,250,0.17264122);\">-</span> <span style=\"background-color:rgba(135,206,250,0.30552056);\">clean</span> <span style=\"background-color:rgba(135,206,250,1.0);\">,</span> <span style=\"background-color:rgba(135,206,250,0.26277265);\">pure</span>"
      ],
      "text/plain": [
       "<IPython.core.display.HTML object>"
      ]
     },
     "metadata": {},
     "output_type": "display_data"
    },
    {
     "name": "stdout",
     "output_type": "stream",
     "text": [
      "and:   \t36.23%\n",
      "lemon:   \t33.41%\n",
      "fruit:   \t16.25%\n",
      "flavors:   \t4.3%\n",
      ",:   \t3.96%\n",
      "--------\n",
      "\n"
     ]
    },
    {
     "data": {
      "text/html": [
       "<span style=\"background-color:rgba(135,206,250,0.10162486);\">wine</span> <span style=\"background-color:rgba(135,206,250,0.14978658);\">review</span> <span style=\"background-color:rgba(135,206,250,0.13637319);\">:</span> <span style=\"background-color:rgba(135,206,250,0.44210887);\">england</span> <span style=\"background-color:rgba(135,206,250,0.27269825);\">:</span> <span style=\"background-color:rgba(135,206,250,0.1856678);\">england</span> <span style=\"background-color:rgba(135,206,250,0.09214909);\">:</span> <span style=\"background-color:rgba(135,206,250,0.10651435);\">chardonnay</span> <span style=\"background-color:rgba(135,206,250,0.09570945);\">:</span> <span style=\"background-color:rgba(135,206,250,0.058775265);\">a</span> <span style=\"background-color:rgba(135,206,250,0.06840365);\">touch</span> <span style=\"background-color:rgba(135,206,250,0.051467374);\">of</span> <span style=\"background-color:rgba(135,206,250,0.057070684);\">apple</span> <span style=\"background-color:rgba(135,206,250,0.076591045);\">scent</span> <span style=\"background-color:rgba(135,206,250,0.021738894);\">the</span> <span style=\"background-color:rgba(135,206,250,0.09721472);\">nose</span> <span style=\"background-color:rgba(135,206,250,0.09511114);\">.</span> <span style=\"background-color:rgba(135,206,250,0.019626936);\">the</span> <span style=\"background-color:rgba(135,206,250,0.1169063);\">palate</span> <span style=\"background-color:rgba(135,206,250,0.043097988);\">is</span> <span style=\"background-color:rgba(135,206,250,0.02769854);\">all</span> <span style=\"background-color:rgba(135,206,250,0.023098024);\">[UNK]</span> <span style=\"background-color:rgba(135,206,250,0.07749426);\">.</span> <span style=\"background-color:rgba(135,206,250,0.016914882);\">the</span> <span style=\"background-color:rgba(135,206,250,0.059849635);\">same</span> <span style=\"background-color:rgba(135,206,250,0.033122532);\">,</span> <span style=\"background-color:rgba(135,206,250,0.032828525);\">however</span> <span style=\"background-color:rgba(135,206,250,0.03766753);\">,</span> <span style=\"background-color:rgba(135,206,250,0.019198729);\">the</span> <span style=\"background-color:rgba(135,206,250,0.045164183);\">result</span> <span style=\"background-color:rgba(135,206,250,0.05690109);\">is</span> <span style=\"background-color:rgba(135,206,250,0.050850008);\">a</span> <span style=\"background-color:rgba(135,206,250,0.110318534);\">slender</span> <span style=\"background-color:rgba(135,206,250,0.05247873);\">,</span> <span style=\"background-color:rgba(135,206,250,0.04935342);\">taut</span> <span style=\"background-color:rgba(135,206,250,0.061336476);\">and</span> <span style=\"background-color:rgba(135,206,250,0.13537285);\">slender</span> <span style=\"background-color:rgba(135,206,250,0.0738601);\">,</span> <span style=\"background-color:rgba(135,206,250,0.08327466);\">dry</span> <span style=\"background-color:rgba(135,206,250,0.092808895);\">and</span> <span style=\"background-color:rgba(135,206,250,0.15019195);\">whistle</span> <span style=\"background-color:rgba(135,206,250,0.055277232);\">-</span> <span style=\"background-color:rgba(135,206,250,0.11185907);\">clean</span> <span style=\"background-color:rgba(135,206,250,0.14369239);\">,</span> <span style=\"background-color:rgba(135,206,250,0.2432688);\">refreshing</span> <span style=\"background-color:rgba(135,206,250,0.20806143);\">and</span> <span style=\"background-color:rgba(135,206,250,0.22936064);\">the</span> <span style=\"background-color:rgba(135,206,250,0.5834132);\">palate</span> <span style=\"background-color:rgba(135,206,250,0.5865967);\">is</span> <span style=\"background-color:rgba(135,206,250,0.49521154);\">whistle</span> <span style=\"background-color:rgba(135,206,250,0.282517);\">-</span> <span style=\"background-color:rgba(135,206,250,0.52609843);\">clean</span> <span style=\"background-color:rgba(135,206,250,0.98042256);\">,</span> <span style=\"background-color:rgba(135,206,250,1.0);\">pure</span> <span style=\"background-color:rgba(135,206,250,0.35895607);\">lemon</span>"
      ],
      "text/plain": [
       "<IPython.core.display.HTML object>"
      ]
     },
     "metadata": {},
     "output_type": "display_data"
    },
    {
     "name": "stdout",
     "output_type": "stream",
     "text": [
      "and:   \t45.95%\n",
      "-:   \t34.67%\n",
      "freshness:   \t9.94%\n",
      "zest:   \t2.47%\n",
      "zestiness:   \t2.31%\n",
      "--------\n",
      "\n"
     ]
    },
    {
     "data": {
      "text/html": [
       "<span style=\"background-color:rgba(135,206,250,0.03705841);\">wine</span> <span style=\"background-color:rgba(135,206,250,0.054346792);\">review</span> <span style=\"background-color:rgba(135,206,250,0.07079965);\">:</span> <span style=\"background-color:rgba(135,206,250,0.20892796);\">england</span> <span style=\"background-color:rgba(135,206,250,0.07319858);\">:</span> <span style=\"background-color:rgba(135,206,250,0.12925267);\">england</span> <span style=\"background-color:rgba(135,206,250,0.041350584);\">:</span> <span style=\"background-color:rgba(135,206,250,0.1262699);\">chardonnay</span> <span style=\"background-color:rgba(135,206,250,0.053655587);\">:</span> <span style=\"background-color:rgba(135,206,250,0.020770498);\">a</span> <span style=\"background-color:rgba(135,206,250,0.022465285);\">touch</span> <span style=\"background-color:rgba(135,206,250,0.014825044);\">of</span> <span style=\"background-color:rgba(135,206,250,0.0314402);\">apple</span> <span style=\"background-color:rgba(135,206,250,0.03104738);\">scent</span> <span style=\"background-color:rgba(135,206,250,0.014665018);\">the</span> <span style=\"background-color:rgba(135,206,250,0.05026283);\">nose</span> <span style=\"background-color:rgba(135,206,250,0.04459343);\">.</span> <span style=\"background-color:rgba(135,206,250,0.013508427);\">the</span> <span style=\"background-color:rgba(135,206,250,0.045365166);\">palate</span> <span style=\"background-color:rgba(135,206,250,0.017350208);\">is</span> <span style=\"background-color:rgba(135,206,250,0.013755557);\">all</span> <span style=\"background-color:rgba(135,206,250,0.011080558);\">[UNK]</span> <span style=\"background-color:rgba(135,206,250,0.038879085);\">.</span> <span style=\"background-color:rgba(135,206,250,0.011908822);\">the</span> <span style=\"background-color:rgba(135,206,250,0.013821122);\">same</span> <span style=\"background-color:rgba(135,206,250,0.015442011);\">,</span> <span style=\"background-color:rgba(135,206,250,0.02662799);\">however</span> <span style=\"background-color:rgba(135,206,250,0.016525121);\">,</span> <span style=\"background-color:rgba(135,206,250,0.013167197);\">the</span> <span style=\"background-color:rgba(135,206,250,0.020829275);\">result</span> <span style=\"background-color:rgba(135,206,250,0.019197037);\">is</span> <span style=\"background-color:rgba(135,206,250,0.015000106);\">a</span> <span style=\"background-color:rgba(135,206,250,0.07724307);\">slender</span> <span style=\"background-color:rgba(135,206,250,0.021170754);\">,</span> <span style=\"background-color:rgba(135,206,250,0.048368204);\">taut</span> <span style=\"background-color:rgba(135,206,250,0.027557984);\">and</span> <span style=\"background-color:rgba(135,206,250,0.07979068);\">slender</span> <span style=\"background-color:rgba(135,206,250,0.023290811);\">,</span> <span style=\"background-color:rgba(135,206,250,0.046049442);\">dry</span> <span style=\"background-color:rgba(135,206,250,0.031168772);\">and</span> <span style=\"background-color:rgba(135,206,250,0.09026514);\">whistle</span> <span style=\"background-color:rgba(135,206,250,0.017132355);\">-</span> <span style=\"background-color:rgba(135,206,250,0.0631008);\">clean</span> <span style=\"background-color:rgba(135,206,250,0.03681518);\">,</span> <span style=\"background-color:rgba(135,206,250,0.0822268);\">refreshing</span> <span style=\"background-color:rgba(135,206,250,0.035769057);\">and</span> <span style=\"background-color:rgba(135,206,250,0.03809794);\">the</span> <span style=\"background-color:rgba(135,206,250,0.11608128);\">palate</span> <span style=\"background-color:rgba(135,206,250,0.08159316);\">is</span> <span style=\"background-color:rgba(135,206,250,0.250712);\">whistle</span> <span style=\"background-color:rgba(135,206,250,0.078637674);\">-</span> <span style=\"background-color:rgba(135,206,250,0.23496734);\">clean</span> <span style=\"background-color:rgba(135,206,250,0.5448427);\">,</span> <span style=\"background-color:rgba(135,206,250,0.42746332);\">pure</span> <span style=\"background-color:rgba(135,206,250,1.0);\">lemon</span> <span style=\"background-color:rgba(135,206,250,0.24352106);\">and</span>"
      ],
      "text/plain": [
       "<IPython.core.display.HTML object>"
      ]
     },
     "metadata": {},
     "output_type": "display_data"
    },
    {
     "name": "stdout",
     "output_type": "stream",
     "text": [
      "lime:   \t82.47%\n",
      "apple:   \t6.12%\n",
      "grapefruit:   \t3.43%\n",
      "green:   \t2.49%\n",
      "tart:   \t1.22%\n",
      "--------\n",
      "\n"
     ]
    },
    {
     "data": {
      "text/html": [
       "<span style=\"background-color:rgba(135,206,250,0.048932847);\">wine</span> <span style=\"background-color:rgba(135,206,250,0.08512061);\">review</span> <span style=\"background-color:rgba(135,206,250,0.10753094);\">:</span> <span style=\"background-color:rgba(135,206,250,0.27685493);\">england</span> <span style=\"background-color:rgba(135,206,250,0.20970786);\">:</span> <span style=\"background-color:rgba(135,206,250,0.102638796);\">england</span> <span style=\"background-color:rgba(135,206,250,0.05584506);\">:</span> <span style=\"background-color:rgba(135,206,250,0.06403847);\">chardonnay</span> <span style=\"background-color:rgba(135,206,250,0.053908043);\">:</span> <span style=\"background-color:rgba(135,206,250,0.03303173);\">a</span> <span style=\"background-color:rgba(135,206,250,0.020803798);\">touch</span> <span style=\"background-color:rgba(135,206,250,0.027370434);\">of</span> <span style=\"background-color:rgba(135,206,250,0.03151281);\">apple</span> <span style=\"background-color:rgba(135,206,250,0.03739411);\">scent</span> <span style=\"background-color:rgba(135,206,250,0.014383504);\">the</span> <span style=\"background-color:rgba(135,206,250,0.04894259);\">nose</span> <span style=\"background-color:rgba(135,206,250,0.072029404);\">.</span> <span style=\"background-color:rgba(135,206,250,0.0129705025);\">the</span> <span style=\"background-color:rgba(135,206,250,0.04457746);\">palate</span> <span style=\"background-color:rgba(135,206,250,0.02304373);\">is</span> <span style=\"background-color:rgba(135,206,250,0.010452503);\">all</span> <span style=\"background-color:rgba(135,206,250,0.015175943);\">[UNK]</span> <span style=\"background-color:rgba(135,206,250,0.0676327);\">.</span> <span style=\"background-color:rgba(135,206,250,0.01209844);\">the</span> <span style=\"background-color:rgba(135,206,250,0.02230781);\">same</span> <span style=\"background-color:rgba(135,206,250,0.022455398);\">,</span> <span style=\"background-color:rgba(135,206,250,0.022298412);\">however</span> <span style=\"background-color:rgba(135,206,250,0.025208702);\">,</span> <span style=\"background-color:rgba(135,206,250,0.014742017);\">the</span> <span style=\"background-color:rgba(135,206,250,0.041701727);\">result</span> <span style=\"background-color:rgba(135,206,250,0.034067858);\">is</span> <span style=\"background-color:rgba(135,206,250,0.035105877);\">a</span> <span style=\"background-color:rgba(135,206,250,0.08345946);\">slender</span> <span style=\"background-color:rgba(135,206,250,0.037682977);\">,</span> <span style=\"background-color:rgba(135,206,250,0.0369225);\">taut</span> <span style=\"background-color:rgba(135,206,250,0.051930662);\">and</span> <span style=\"background-color:rgba(135,206,250,0.09451144);\">slender</span> <span style=\"background-color:rgba(135,206,250,0.050464768);\">,</span> <span style=\"background-color:rgba(135,206,250,0.0518196);\">dry</span> <span style=\"background-color:rgba(135,206,250,0.06946026);\">and</span> <span style=\"background-color:rgba(135,206,250,0.07510859);\">whistle</span> <span style=\"background-color:rgba(135,206,250,0.03592852);\">-</span> <span style=\"background-color:rgba(135,206,250,0.06522486);\">clean</span> <span style=\"background-color:rgba(135,206,250,0.09330851);\">,</span> <span style=\"background-color:rgba(135,206,250,0.08388964);\">refreshing</span> <span style=\"background-color:rgba(135,206,250,0.12271475);\">and</span> <span style=\"background-color:rgba(135,206,250,0.11325944);\">the</span> <span style=\"background-color:rgba(135,206,250,0.27962083);\">palate</span> <span style=\"background-color:rgba(135,206,250,0.2457681);\">is</span> <span style=\"background-color:rgba(135,206,250,0.19950944);\">whistle</span> <span style=\"background-color:rgba(135,206,250,0.18217441);\">-</span> <span style=\"background-color:rgba(135,206,250,0.2170807);\">clean</span> <span style=\"background-color:rgba(135,206,250,0.5585021);\">,</span> <span style=\"background-color:rgba(135,206,250,0.3643783);\">pure</span> <span style=\"background-color:rgba(135,206,250,0.17524332);\">lemon</span> <span style=\"background-color:rgba(135,206,250,1.0);\">and</span> <span style=\"background-color:rgba(135,206,250,0.28028);\">lime</span>"
      ],
      "text/plain": [
       "<IPython.core.display.HTML object>"
      ]
     },
     "metadata": {},
     "output_type": "display_data"
    },
    {
     "name": "stdout",
     "output_type": "stream",
     "text": [
      "zest:   \t55.77%\n",
      ".:   \t19.63%\n",
      "flavors:   \t7.06%\n",
      ",:   \t6.06%\n",
      "that:   \t4.33%\n",
      "--------\n",
      "\n"
     ]
    },
    {
     "data": {
      "text/html": [
       "<span style=\"background-color:rgba(135,206,250,0.045009457);\">wine</span> <span style=\"background-color:rgba(135,206,250,0.07161019);\">review</span> <span style=\"background-color:rgba(135,206,250,0.06130798);\">:</span> <span style=\"background-color:rgba(135,206,250,0.20283228);\">england</span> <span style=\"background-color:rgba(135,206,250,0.14447533);\">:</span> <span style=\"background-color:rgba(135,206,250,0.07844873);\">england</span> <span style=\"background-color:rgba(135,206,250,0.040086668);\">:</span> <span style=\"background-color:rgba(135,206,250,0.047342323);\">chardonnay</span> <span style=\"background-color:rgba(135,206,250,0.04622069);\">:</span> <span style=\"background-color:rgba(135,206,250,0.027618257);\">a</span> <span style=\"background-color:rgba(135,206,250,0.023268122);\">touch</span> <span style=\"background-color:rgba(135,206,250,0.026907196);\">of</span> <span style=\"background-color:rgba(135,206,250,0.026550174);\">apple</span> <span style=\"background-color:rgba(135,206,250,0.039978325);\">scent</span> <span style=\"background-color:rgba(135,206,250,0.015119822);\">the</span> <span style=\"background-color:rgba(135,206,250,0.042412963);\">nose</span> <span style=\"background-color:rgba(135,206,250,0.07089111);\">.</span> <span style=\"background-color:rgba(135,206,250,0.014133458);\">the</span> <span style=\"background-color:rgba(135,206,250,0.05072233);\">palate</span> <span style=\"background-color:rgba(135,206,250,0.032607883);\">is</span> <span style=\"background-color:rgba(135,206,250,0.014128268);\">all</span> <span style=\"background-color:rgba(135,206,250,0.014517689);\">[UNK]</span> <span style=\"background-color:rgba(135,206,250,0.07618744);\">.</span> <span style=\"background-color:rgba(135,206,250,0.014116989);\">the</span> <span style=\"background-color:rgba(135,206,250,0.04609915);\">same</span> <span style=\"background-color:rgba(135,206,250,0.023080926);\">,</span> <span style=\"background-color:rgba(135,206,250,0.03539842);\">however</span> <span style=\"background-color:rgba(135,206,250,0.026198674);\">,</span> <span style=\"background-color:rgba(135,206,250,0.018677678);\">the</span> <span style=\"background-color:rgba(135,206,250,0.042148586);\">result</span> <span style=\"background-color:rgba(135,206,250,0.059130363);\">is</span> <span style=\"background-color:rgba(135,206,250,0.03203769);\">a</span> <span style=\"background-color:rgba(135,206,250,0.09074462);\">slender</span> <span style=\"background-color:rgba(135,206,250,0.03941848);\">,</span> <span style=\"background-color:rgba(135,206,250,0.031317446);\">taut</span> <span style=\"background-color:rgba(135,206,250,0.04179215);\">and</span> <span style=\"background-color:rgba(135,206,250,0.110625565);\">slender</span> <span style=\"background-color:rgba(135,206,250,0.05149751);\">,</span> <span style=\"background-color:rgba(135,206,250,0.04892451);\">dry</span> <span style=\"background-color:rgba(135,206,250,0.05730708);\">and</span> <span style=\"background-color:rgba(135,206,250,0.072905116);\">whistle</span> <span style=\"background-color:rgba(135,206,250,0.037967477);\">-</span> <span style=\"background-color:rgba(135,206,250,0.060808543);\">clean</span> <span style=\"background-color:rgba(135,206,250,0.08654413);\">,</span> <span style=\"background-color:rgba(135,206,250,0.08083684);\">refreshing</span> <span style=\"background-color:rgba(135,206,250,0.10519618);\">and</span> <span style=\"background-color:rgba(135,206,250,0.10723816);\">the</span> <span style=\"background-color:rgba(135,206,250,0.31356937);\">palate</span> <span style=\"background-color:rgba(135,206,250,0.2769119);\">is</span> <span style=\"background-color:rgba(135,206,250,0.23044777);\">whistle</span> <span style=\"background-color:rgba(135,206,250,0.1458175);\">-</span> <span style=\"background-color:rgba(135,206,250,0.16524039);\">clean</span> <span style=\"background-color:rgba(135,206,250,0.48106122);\">,</span> <span style=\"background-color:rgba(135,206,250,0.3244935);\">pure</span> <span style=\"background-color:rgba(135,206,250,0.2620002);\">lemon</span> <span style=\"background-color:rgba(135,206,250,1.0);\">and</span> <span style=\"background-color:rgba(135,206,250,0.39020732);\">lime</span> <span style=\"background-color:rgba(135,206,250,0.33209357);\">zest</span>"
      ],
      "text/plain": [
       "<IPython.core.display.HTML object>"
      ]
     },
     "metadata": {},
     "output_type": "display_data"
    },
    {
     "name": "stdout",
     "output_type": "stream",
     "text": [
      ".:   \t69.36%\n",
      ",:   \t14.44%\n",
      "flavors:   \t12.48%\n",
      "that:   \t2.32%\n",
      "notes:   \t0.7%\n",
      "--------\n",
      "\n"
     ]
    },
    {
     "data": {
      "text/html": [
       "<span style=\"background-color:rgba(135,206,250,0.10526083);\">wine</span> <span style=\"background-color:rgba(135,206,250,0.17816733);\">review</span> <span style=\"background-color:rgba(135,206,250,0.8492157);\">:</span> <span style=\"background-color:rgba(135,206,250,0.67271525);\">england</span> <span style=\"background-color:rgba(135,206,250,1.0);\">:</span> <span style=\"background-color:rgba(135,206,250,0.35088962);\">england</span> <span style=\"background-color:rgba(135,206,250,0.6200637);\">:</span> <span style=\"background-color:rgba(135,206,250,0.4120453);\">chardonnay</span> <span style=\"background-color:rgba(135,206,250,0.26046395);\">:</span> <span style=\"background-color:rgba(135,206,250,0.05797028);\">a</span> <span style=\"background-color:rgba(135,206,250,0.052547075);\">touch</span> <span style=\"background-color:rgba(135,206,250,0.044552878);\">of</span> <span style=\"background-color:rgba(135,206,250,0.06840211);\">apple</span> <span style=\"background-color:rgba(135,206,250,0.09707315);\">scent</span> <span style=\"background-color:rgba(135,206,250,0.033138253);\">the</span> <span style=\"background-color:rgba(135,206,250,0.11929423);\">nose</span> <span style=\"background-color:rgba(135,206,250,0.10707321);\">.</span> <span style=\"background-color:rgba(135,206,250,0.029973438);\">the</span> <span style=\"background-color:rgba(135,206,250,0.13475196);\">palate</span> <span style=\"background-color:rgba(135,206,250,0.05204388);\">is</span> <span style=\"background-color:rgba(135,206,250,0.02048888);\">all</span> <span style=\"background-color:rgba(135,206,250,0.027935179);\">[UNK]</span> <span style=\"background-color:rgba(135,206,250,0.09315689);\">.</span> <span style=\"background-color:rgba(135,206,250,0.025511649);\">the</span> <span style=\"background-color:rgba(135,206,250,0.03503849);\">same</span> <span style=\"background-color:rgba(135,206,250,0.04741569);\">,</span> <span style=\"background-color:rgba(135,206,250,0.05788352);\">however</span> <span style=\"background-color:rgba(135,206,250,0.048525974);\">,</span> <span style=\"background-color:rgba(135,206,250,0.027550798);\">the</span> <span style=\"background-color:rgba(135,206,250,0.055725213);\">result</span> <span style=\"background-color:rgba(135,206,250,0.061681863);\">is</span> <span style=\"background-color:rgba(135,206,250,0.036080003);\">a</span> <span style=\"background-color:rgba(135,206,250,0.1594523);\">slender</span> <span style=\"background-color:rgba(135,206,250,0.060856953);\">,</span> <span style=\"background-color:rgba(135,206,250,0.077292316);\">taut</span> <span style=\"background-color:rgba(135,206,250,0.06616687);\">and</span> <span style=\"background-color:rgba(135,206,250,0.16869418);\">slender</span> <span style=\"background-color:rgba(135,206,250,0.071262285);\">,</span> <span style=\"background-color:rgba(135,206,250,0.094400235);\">dry</span> <span style=\"background-color:rgba(135,206,250,0.0815442);\">and</span> <span style=\"background-color:rgba(135,206,250,0.18388852);\">whistle</span> <span style=\"background-color:rgba(135,206,250,0.047411367);\">-</span> <span style=\"background-color:rgba(135,206,250,0.10533127);\">clean</span> <span style=\"background-color:rgba(135,206,250,0.10737589);\">,</span> <span style=\"background-color:rgba(135,206,250,0.19488074);\">refreshing</span> <span style=\"background-color:rgba(135,206,250,0.12475273);\">and</span> <span style=\"background-color:rgba(135,206,250,0.08420052);\">the</span> <span style=\"background-color:rgba(135,206,250,0.27369133);\">palate</span> <span style=\"background-color:rgba(135,206,250,0.21350855);\">is</span> <span style=\"background-color:rgba(135,206,250,0.276918);\">whistle</span> <span style=\"background-color:rgba(135,206,250,0.11611537);\">-</span> <span style=\"background-color:rgba(135,206,250,0.17012188);\">clean</span> <span style=\"background-color:rgba(135,206,250,0.25090277);\">,</span> <span style=\"background-color:rgba(135,206,250,0.24957286);\">pure</span> <span style=\"background-color:rgba(135,206,250,0.34547848);\">lemon</span> <span style=\"background-color:rgba(135,206,250,0.38255715);\">and</span> <span style=\"background-color:rgba(135,206,250,0.32122487);\">lime</span> <span style=\"background-color:rgba(135,206,250,0.34134626);\">zest</span> <span style=\"background-color:rgba(135,206,250,0.8577094);\">.</span>"
      ],
      "text/plain": [
       "<IPython.core.display.HTML object>"
      ]
     },
     "metadata": {},
     "output_type": "display_data"
    },
    {
     "name": "stdout",
     "output_type": "stream",
     "text": [
      "the:   \t35.97%\n",
      "this:   \t25.52%\n",
      "there:   \t14.65%\n",
      "it:   \t6.77%\n",
      ":   \t5.48%\n",
      "--------\n",
      "\n"
     ]
    },
    {
     "data": {
      "text/html": [
       "<span style=\"background-color:rgba(135,206,250,0.033275403);\">wine</span> <span style=\"background-color:rgba(135,206,250,0.06530759);\">review</span> <span style=\"background-color:rgba(135,206,250,0.12153193);\">:</span> <span style=\"background-color:rgba(135,206,250,0.11878355);\">england</span> <span style=\"background-color:rgba(135,206,250,0.12686396);\">:</span> <span style=\"background-color:rgba(135,206,250,0.057611827);\">england</span> <span style=\"background-color:rgba(135,206,250,0.0521273);\">:</span> <span style=\"background-color:rgba(135,206,250,0.033111125);\">chardonnay</span> <span style=\"background-color:rgba(135,206,250,0.0408179);\">:</span> <span style=\"background-color:rgba(135,206,250,0.016165437);\">a</span> <span style=\"background-color:rgba(135,206,250,0.021232143);\">touch</span> <span style=\"background-color:rgba(135,206,250,0.0108164465);\">of</span> <span style=\"background-color:rgba(135,206,250,0.015103871);\">apple</span> <span style=\"background-color:rgba(135,206,250,0.017144917);\">scent</span> <span style=\"background-color:rgba(135,206,250,0.00996621);\">the</span> <span style=\"background-color:rgba(135,206,250,0.051125642);\">nose</span> <span style=\"background-color:rgba(135,206,250,0.024946822);\">.</span> <span style=\"background-color:rgba(135,206,250,0.009880067);\">the</span> <span style=\"background-color:rgba(135,206,250,0.01604101);\">palate</span> <span style=\"background-color:rgba(135,206,250,0.009080245);\">is</span> <span style=\"background-color:rgba(135,206,250,0.008216283);\">all</span> <span style=\"background-color:rgba(135,206,250,0.010579162);\">[UNK]</span> <span style=\"background-color:rgba(135,206,250,0.024278956);\">.</span> <span style=\"background-color:rgba(135,206,250,0.008834446);\">the</span> <span style=\"background-color:rgba(135,206,250,0.005286809);\">same</span> <span style=\"background-color:rgba(135,206,250,0.011417562);\">,</span> <span style=\"background-color:rgba(135,206,250,0.008406489);\">however</span> <span style=\"background-color:rgba(135,206,250,0.013074235);\">,</span> <span style=\"background-color:rgba(135,206,250,0.00885506);\">the</span> <span style=\"background-color:rgba(135,206,250,0.010897402);\">result</span> <span style=\"background-color:rgba(135,206,250,0.010696362);\">is</span> <span style=\"background-color:rgba(135,206,250,0.013618172);\">a</span> <span style=\"background-color:rgba(135,206,250,0.054664727);\">slender</span> <span style=\"background-color:rgba(135,206,250,0.016659206);\">,</span> <span style=\"background-color:rgba(135,206,250,0.011410695);\">taut</span> <span style=\"background-color:rgba(135,206,250,0.031853322);\">and</span> <span style=\"background-color:rgba(135,206,250,0.05177165);\">slender</span> <span style=\"background-color:rgba(135,206,250,0.019304255);\">,</span> <span style=\"background-color:rgba(135,206,250,0.018164871);\">dry</span> <span style=\"background-color:rgba(135,206,250,0.037311174);\">and</span> <span style=\"background-color:rgba(135,206,250,0.01928213);\">whistle</span> <span style=\"background-color:rgba(135,206,250,0.008463241);\">-</span> <span style=\"background-color:rgba(135,206,250,0.019714141);\">clean</span> <span style=\"background-color:rgba(135,206,250,0.03159358);\">,</span> <span style=\"background-color:rgba(135,206,250,0.04277257);\">refreshing</span> <span style=\"background-color:rgba(135,206,250,0.04441556);\">and</span> <span style=\"background-color:rgba(135,206,250,0.019207967);\">the</span> <span style=\"background-color:rgba(135,206,250,0.04438739);\">palate</span> <span style=\"background-color:rgba(135,206,250,0.070330374);\">is</span> <span style=\"background-color:rgba(135,206,250,0.033413347);\">whistle</span> <span style=\"background-color:rgba(135,206,250,0.04745984);\">-</span> <span style=\"background-color:rgba(135,206,250,0.04051595);\">clean</span> <span style=\"background-color:rgba(135,206,250,0.14632338);\">,</span> <span style=\"background-color:rgba(135,206,250,0.06749434);\">pure</span> <span style=\"background-color:rgba(135,206,250,0.06505473);\">lemon</span> <span style=\"background-color:rgba(135,206,250,0.13335161);\">and</span> <span style=\"background-color:rgba(135,206,250,0.11098177);\">lime</span> <span style=\"background-color:rgba(135,206,250,0.13071898);\">zest</span> <span style=\"background-color:rgba(135,206,250,1.0);\">.</span> <span style=\"background-color:rgba(135,206,250,0.18106775);\">there</span>"
      ],
      "text/plain": [
       "<IPython.core.display.HTML object>"
      ]
     },
     "metadata": {},
     "output_type": "display_data"
    },
    {
     "name": "stdout",
     "output_type": "stream",
     "text": [
      "are:   \t51.39%\n",
      "is:   \t37.87%\n",
      "':   \t10.61%\n",
      "also:   \t0.1%\n",
      "will:   \t0.01%\n",
      "--------\n",
      "\n"
     ]
    },
    {
     "data": {
      "text/html": [
       "<span style=\"background-color:rgba(135,206,250,0.03607935);\">wine</span> <span style=\"background-color:rgba(135,206,250,0.053729884);\">review</span> <span style=\"background-color:rgba(135,206,250,0.080877215);\">:</span> <span style=\"background-color:rgba(135,206,250,0.1689472);\">england</span> <span style=\"background-color:rgba(135,206,250,0.08642668);\">:</span> <span style=\"background-color:rgba(135,206,250,0.09561779);\">england</span> <span style=\"background-color:rgba(135,206,250,0.041081052);\">:</span> <span style=\"background-color:rgba(135,206,250,0.06706287);\">chardonnay</span> <span style=\"background-color:rgba(135,206,250,0.046583667);\">:</span> <span style=\"background-color:rgba(135,206,250,0.02951405);\">a</span> <span style=\"background-color:rgba(135,206,250,0.01794652);\">touch</span> <span style=\"background-color:rgba(135,206,250,0.012633235);\">of</span> <span style=\"background-color:rgba(135,206,250,0.020258198);\">apple</span> <span style=\"background-color:rgba(135,206,250,0.044773348);\">scent</span> <span style=\"background-color:rgba(135,206,250,0.022109533);\">the</span> <span style=\"background-color:rgba(135,206,250,0.046858754);\">nose</span> <span style=\"background-color:rgba(135,206,250,0.03395016);\">.</span> <span style=\"background-color:rgba(135,206,250,0.022385309);\">the</span> <span style=\"background-color:rgba(135,206,250,0.042490613);\">palate</span> <span style=\"background-color:rgba(135,206,250,0.011362495);\">is</span> <span style=\"background-color:rgba(135,206,250,0.014301444);\">all</span> <span style=\"background-color:rgba(135,206,250,0.011230593);\">[UNK]</span> <span style=\"background-color:rgba(135,206,250,0.031716272);\">.</span> <span style=\"background-color:rgba(135,206,250,0.021004573);\">the</span> <span style=\"background-color:rgba(135,206,250,0.00998121);\">same</span> <span style=\"background-color:rgba(135,206,250,0.01915432);\">,</span> <span style=\"background-color:rgba(135,206,250,0.026561944);\">however</span> <span style=\"background-color:rgba(135,206,250,0.018906046);\">,</span> <span style=\"background-color:rgba(135,206,250,0.02073976);\">the</span> <span style=\"background-color:rgba(135,206,250,0.01426903);\">result</span> <span style=\"background-color:rgba(135,206,250,0.012227369);\">is</span> <span style=\"background-color:rgba(135,206,250,0.018220503);\">a</span> <span style=\"background-color:rgba(135,206,250,0.054567903);\">slender</span> <span style=\"background-color:rgba(135,206,250,0.023685412);\">,</span> <span style=\"background-color:rgba(135,206,250,0.02934724);\">taut</span> <span style=\"background-color:rgba(135,206,250,0.026140407);\">and</span> <span style=\"background-color:rgba(135,206,250,0.058115717);\">slender</span> <span style=\"background-color:rgba(135,206,250,0.026691163);\">,</span> <span style=\"background-color:rgba(135,206,250,0.031503223);\">dry</span> <span style=\"background-color:rgba(135,206,250,0.029063895);\">and</span> <span style=\"background-color:rgba(135,206,250,0.046791766);\">whistle</span> <span style=\"background-color:rgba(135,206,250,0.014687616);\">-</span> <span style=\"background-color:rgba(135,206,250,0.036330804);\">clean</span> <span style=\"background-color:rgba(135,206,250,0.035134707);\">,</span> <span style=\"background-color:rgba(135,206,250,0.047871616);\">refreshing</span> <span style=\"background-color:rgba(135,206,250,0.034528546);\">and</span> <span style=\"background-color:rgba(135,206,250,0.040005572);\">the</span> <span style=\"background-color:rgba(135,206,250,0.081914306);\">palate</span> <span style=\"background-color:rgba(135,206,250,0.023758445);\">is</span> <span style=\"background-color:rgba(135,206,250,0.07615125);\">whistle</span> <span style=\"background-color:rgba(135,206,250,0.03203885);\">-</span> <span style=\"background-color:rgba(135,206,250,0.0703605);\">clean</span> <span style=\"background-color:rgba(135,206,250,0.08579232);\">,</span> <span style=\"background-color:rgba(135,206,250,0.07027757);\">pure</span> <span style=\"background-color:rgba(135,206,250,0.09162392);\">lemon</span> <span style=\"background-color:rgba(135,206,250,0.12921257);\">and</span> <span style=\"background-color:rgba(135,206,250,0.11557935);\">lime</span> <span style=\"background-color:rgba(135,206,250,0.08976239);\">zest</span> <span style=\"background-color:rgba(135,206,250,0.78247505);\">.</span> <span style=\"background-color:rgba(135,206,250,1.0);\">there</span> <span style=\"background-color:rgba(135,206,250,0.08083867);\">are</span>"
      ],
      "text/plain": [
       "<IPython.core.display.HTML object>"
      ]
     },
     "metadata": {},
     "output_type": "display_data"
    },
    {
     "name": "stdout",
     "output_type": "stream",
     "text": [
      "glimpses:   \t65.3%\n",
      "some:   \t4.91%\n",
      "lovely:   \t4.21%\n",
      "hints:   \t4.0%\n",
      "a:   \t3.93%\n",
      "--------\n",
      "\n"
     ]
    },
    {
     "data": {
      "text/html": [
       "<span style=\"background-color:rgba(135,206,250,0.24339792);\">wine</span> <span style=\"background-color:rgba(135,206,250,0.4630768);\">review</span> <span style=\"background-color:rgba(135,206,250,0.5951817);\">:</span> <span style=\"background-color:rgba(135,206,250,0.15370937);\">england</span> <span style=\"background-color:rgba(135,206,250,1.0);\">:</span> <span style=\"background-color:rgba(135,206,250,0.07316871);\">england</span> <span style=\"background-color:rgba(135,206,250,0.31661814);\">:</span> <span style=\"background-color:rgba(135,206,250,0.12996086);\">chardonnay</span> <span style=\"background-color:rgba(135,206,250,0.26533723);\">:</span> <span style=\"background-color:rgba(135,206,250,0.048389137);\">a</span> <span style=\"background-color:rgba(135,206,250,0.062145863);\">touch</span> <span style=\"background-color:rgba(135,206,250,0.054989845);\">of</span> <span style=\"background-color:rgba(135,206,250,0.042696957);\">apple</span> <span style=\"background-color:rgba(135,206,250,0.04932731);\">scent</span> <span style=\"background-color:rgba(135,206,250,0.026014388);\">the</span> <span style=\"background-color:rgba(135,206,250,0.036637645);\">nose</span> <span style=\"background-color:rgba(135,206,250,0.06796057);\">.</span> <span style=\"background-color:rgba(135,206,250,0.0234759);\">the</span> <span style=\"background-color:rgba(135,206,250,0.042446803);\">palate</span> <span style=\"background-color:rgba(135,206,250,0.034641054);\">is</span> <span style=\"background-color:rgba(135,206,250,0.041307632);\">all</span> <span style=\"background-color:rgba(135,206,250,0.026275896);\">[UNK]</span> <span style=\"background-color:rgba(135,206,250,0.06455786);\">.</span> <span style=\"background-color:rgba(135,206,250,0.0239174);\">the</span> <span style=\"background-color:rgba(135,206,250,0.028186837);\">same</span> <span style=\"background-color:rgba(135,206,250,0.039972987);\">,</span> <span style=\"background-color:rgba(135,206,250,0.014565656);\">however</span> <span style=\"background-color:rgba(135,206,250,0.044795994);\">,</span> <span style=\"background-color:rgba(135,206,250,0.02729323);\">the</span> <span style=\"background-color:rgba(135,206,250,0.036080614);\">result</span> <span style=\"background-color:rgba(135,206,250,0.044508934);\">is</span> <span style=\"background-color:rgba(135,206,250,0.026295923);\">a</span> <span style=\"background-color:rgba(135,206,250,0.032942563);\">slender</span> <span style=\"background-color:rgba(135,206,250,0.055217564);\">,</span> <span style=\"background-color:rgba(135,206,250,0.019011673);\">taut</span> <span style=\"background-color:rgba(135,206,250,0.04786344);\">and</span> <span style=\"background-color:rgba(135,206,250,0.036689363);\">slender</span> <span style=\"background-color:rgba(135,206,250,0.07375001);\">,</span> <span style=\"background-color:rgba(135,206,250,0.019252464);\">dry</span> <span style=\"background-color:rgba(135,206,250,0.06729037);\">and</span> <span style=\"background-color:rgba(135,206,250,0.02341216);\">whistle</span> <span style=\"background-color:rgba(135,206,250,0.027450921);\">-</span> <span style=\"background-color:rgba(135,206,250,0.028536046);\">clean</span> <span style=\"background-color:rgba(135,206,250,0.09833525);\">,</span> <span style=\"background-color:rgba(135,206,250,0.038329408);\">refreshing</span> <span style=\"background-color:rgba(135,206,250,0.09600005);\">and</span> <span style=\"background-color:rgba(135,206,250,0.061433475);\">the</span> <span style=\"background-color:rgba(135,206,250,0.12981963);\">palate</span> <span style=\"background-color:rgba(135,206,250,0.13824683);\">is</span> <span style=\"background-color:rgba(135,206,250,0.052373707);\">whistle</span> <span style=\"background-color:rgba(135,206,250,0.06998766);\">-</span> <span style=\"background-color:rgba(135,206,250,0.07212924);\">clean</span> <span style=\"background-color:rgba(135,206,250,0.21059498);\">,</span> <span style=\"background-color:rgba(135,206,250,0.12260862);\">pure</span> <span style=\"background-color:rgba(135,206,250,0.13987176);\">lemon</span> <span style=\"background-color:rgba(135,206,250,0.30002412);\">and</span> <span style=\"background-color:rgba(135,206,250,0.28300437);\">lime</span> <span style=\"background-color:rgba(135,206,250,0.2046173);\">zest</span> <span style=\"background-color:rgba(135,206,250,0.71100026);\">.</span> <span style=\"background-color:rgba(135,206,250,0.77977777);\">there</span> <span style=\"background-color:rgba(135,206,250,0.76094836);\">are</span> <span style=\"background-color:rgba(135,206,250,0.13447629);\">glimpses</span>"
      ],
      "text/plain": [
       "<IPython.core.display.HTML object>"
      ]
     },
     "metadata": {},
     "output_type": "display_data"
    },
    {
     "name": "stdout",
     "output_type": "stream",
     "text": [
      "of:   \t99.92%\n",
      "by:   \t0.04%\n",
      "that:   \t0.02%\n",
      ",:   \t0.01%\n",
      "like:   \t0.01%\n",
      "--------\n",
      "\n"
     ]
    },
    {
     "data": {
      "text/html": [
       "<span style=\"background-color:rgba(135,206,250,0.022934018);\">wine</span> <span style=\"background-color:rgba(135,206,250,0.03539462);\">review</span> <span style=\"background-color:rgba(135,206,250,0.055751372);\">:</span> <span style=\"background-color:rgba(135,206,250,0.10809046);\">england</span> <span style=\"background-color:rgba(135,206,250,0.041498043);\">:</span> <span style=\"background-color:rgba(135,206,250,0.08011407);\">england</span> <span style=\"background-color:rgba(135,206,250,0.036149986);\">:</span> <span style=\"background-color:rgba(135,206,250,0.11200088);\">chardonnay</span> <span style=\"background-color:rgba(135,206,250,0.03583592);\">:</span> <span style=\"background-color:rgba(135,206,250,0.015399857);\">a</span> <span style=\"background-color:rgba(135,206,250,0.011851337);\">touch</span> <span style=\"background-color:rgba(135,206,250,0.0060313824);\">of</span> <span style=\"background-color:rgba(135,206,250,0.018721592);\">apple</span> <span style=\"background-color:rgba(135,206,250,0.017510448);\">scent</span> <span style=\"background-color:rgba(135,206,250,0.0070165135);\">the</span> <span style=\"background-color:rgba(135,206,250,0.021234713);\">nose</span> <span style=\"background-color:rgba(135,206,250,0.022189198);\">.</span> <span style=\"background-color:rgba(135,206,250,0.007050332);\">the</span> <span style=\"background-color:rgba(135,206,250,0.026168494);\">palate</span> <span style=\"background-color:rgba(135,206,250,0.0067123743);\">is</span> <span style=\"background-color:rgba(135,206,250,0.0051881014);\">all</span> <span style=\"background-color:rgba(135,206,250,0.0061284574);\">[UNK]</span> <span style=\"background-color:rgba(135,206,250,0.020399865);\">.</span> <span style=\"background-color:rgba(135,206,250,0.0057915812);\">the</span> <span style=\"background-color:rgba(135,206,250,0.005862926);\">same</span> <span style=\"background-color:rgba(135,206,250,0.0115886545);\">,</span> <span style=\"background-color:rgba(135,206,250,0.011546136);\">however</span> <span style=\"background-color:rgba(135,206,250,0.011887663);\">,</span> <span style=\"background-color:rgba(135,206,250,0.006083555);\">the</span> <span style=\"background-color:rgba(135,206,250,0.0076589286);\">result</span> <span style=\"background-color:rgba(135,206,250,0.0067217695);\">is</span> <span style=\"background-color:rgba(135,206,250,0.008296837);\">a</span> <span style=\"background-color:rgba(135,206,250,0.033859428);\">slender</span> <span style=\"background-color:rgba(135,206,250,0.013902996);\">,</span> <span style=\"background-color:rgba(135,206,250,0.019615501);\">taut</span> <span style=\"background-color:rgba(135,206,250,0.015789518);\">and</span> <span style=\"background-color:rgba(135,206,250,0.0318964);\">slender</span> <span style=\"background-color:rgba(135,206,250,0.01535633);\">,</span> <span style=\"background-color:rgba(135,206,250,0.019934835);\">dry</span> <span style=\"background-color:rgba(135,206,250,0.017305579);\">and</span> <span style=\"background-color:rgba(135,206,250,0.03247135);\">whistle</span> <span style=\"background-color:rgba(135,206,250,0.008115643);\">-</span> <span style=\"background-color:rgba(135,206,250,0.016174546);\">clean</span> <span style=\"background-color:rgba(135,206,250,0.01854503);\">,</span> <span style=\"background-color:rgba(135,206,250,0.03201024);\">refreshing</span> <span style=\"background-color:rgba(135,206,250,0.019969437);\">and</span> <span style=\"background-color:rgba(135,206,250,0.010875212);\">the</span> <span style=\"background-color:rgba(135,206,250,0.046686478);\">palate</span> <span style=\"background-color:rgba(135,206,250,0.013949664);\">is</span> <span style=\"background-color:rgba(135,206,250,0.05280627);\">whistle</span> <span style=\"background-color:rgba(135,206,250,0.015858017);\">-</span> <span style=\"background-color:rgba(135,206,250,0.024270076);\">clean</span> <span style=\"background-color:rgba(135,206,250,0.035670158);\">,</span> <span style=\"background-color:rgba(135,206,250,0.033139583);\">pure</span> <span style=\"background-color:rgba(135,206,250,0.04325141);\">lemon</span> <span style=\"background-color:rgba(135,206,250,0.05012074);\">and</span> <span style=\"background-color:rgba(135,206,250,0.071967795);\">lime</span> <span style=\"background-color:rgba(135,206,250,0.06721964);\">zest</span> <span style=\"background-color:rgba(135,206,250,0.20357236);\">.</span> <span style=\"background-color:rgba(135,206,250,0.18638244);\">there</span> <span style=\"background-color:rgba(135,206,250,0.1366202);\">are</span> <span style=\"background-color:rgba(135,206,250,1.0);\">glimpses</span> <span style=\"background-color:rgba(135,206,250,0.06362947);\">of</span>"
      ],
      "text/plain": [
       "<IPython.core.display.HTML object>"
      ]
     },
     "metadata": {},
     "output_type": "display_data"
    },
    {
     "name": "stdout",
     "output_type": "stream",
     "text": [
      "fresh:   \t19.94%\n",
      "red:   \t10.05%\n",
      "tart:   \t9.46%\n",
      "white:   \t6.87%\n",
      "more:   \t5.96%\n",
      "--------\n",
      "\n"
     ]
    },
    {
     "data": {
      "text/html": [
       "<span style=\"background-color:rgba(135,206,250,0.07958453);\">wine</span> <span style=\"background-color:rgba(135,206,250,0.12247501);\">review</span> <span style=\"background-color:rgba(135,206,250,0.19184268);\">:</span> <span style=\"background-color:rgba(135,206,250,0.5090838);\">england</span> <span style=\"background-color:rgba(135,206,250,0.16674848);\">:</span> <span style=\"background-color:rgba(135,206,250,0.22112979);\">england</span> <span style=\"background-color:rgba(135,206,250,0.12737729);\">:</span> <span style=\"background-color:rgba(135,206,250,0.19458975);\">chardonnay</span> <span style=\"background-color:rgba(135,206,250,0.15028349);\">:</span> <span style=\"background-color:rgba(135,206,250,0.1042567);\">a</span> <span style=\"background-color:rgba(135,206,250,0.065278456);\">touch</span> <span style=\"background-color:rgba(135,206,250,0.022803003);\">of</span> <span style=\"background-color:rgba(135,206,250,0.030778078);\">apple</span> <span style=\"background-color:rgba(135,206,250,0.07640982);\">scent</span> <span style=\"background-color:rgba(135,206,250,0.029133903);\">the</span> <span style=\"background-color:rgba(135,206,250,0.07089438);\">nose</span> <span style=\"background-color:rgba(135,206,250,0.076193586);\">.</span> <span style=\"background-color:rgba(135,206,250,0.027277095);\">the</span> <span style=\"background-color:rgba(135,206,250,0.07089099);\">palate</span> <span style=\"background-color:rgba(135,206,250,0.041413672);\">is</span> <span style=\"background-color:rgba(135,206,250,0.016346024);\">all</span> <span style=\"background-color:rgba(135,206,250,0.016196014);\">[UNK]</span> <span style=\"background-color:rgba(135,206,250,0.056008894);\">.</span> <span style=\"background-color:rgba(135,206,250,0.02052428);\">the</span> <span style=\"background-color:rgba(135,206,250,0.014226556);\">same</span> <span style=\"background-color:rgba(135,206,250,0.029029207);\">,</span> <span style=\"background-color:rgba(135,206,250,0.012970749);\">however</span> <span style=\"background-color:rgba(135,206,250,0.031848006);\">,</span> <span style=\"background-color:rgba(135,206,250,0.0187813);\">the</span> <span style=\"background-color:rgba(135,206,250,0.020409456);\">result</span> <span style=\"background-color:rgba(135,206,250,0.04082973);\">is</span> <span style=\"background-color:rgba(135,206,250,0.04139406);\">a</span> <span style=\"background-color:rgba(135,206,250,0.062111374);\">slender</span> <span style=\"background-color:rgba(135,206,250,0.03690479);\">,</span> <span style=\"background-color:rgba(135,206,250,0.026409548);\">taut</span> <span style=\"background-color:rgba(135,206,250,0.073221885);\">and</span> <span style=\"background-color:rgba(135,206,250,0.05825032);\">slender</span> <span style=\"background-color:rgba(135,206,250,0.044836137);\">,</span> <span style=\"background-color:rgba(135,206,250,0.034048263);\">dry</span> <span style=\"background-color:rgba(135,206,250,0.07753766);\">and</span> <span style=\"background-color:rgba(135,206,250,0.061853804);\">whistle</span> <span style=\"background-color:rgba(135,206,250,0.01996316);\">-</span> <span style=\"background-color:rgba(135,206,250,0.034776617);\">clean</span> <span style=\"background-color:rgba(135,206,250,0.051954333);\">,</span> <span style=\"background-color:rgba(135,206,250,0.07671445);\">refreshing</span> <span style=\"background-color:rgba(135,206,250,0.09016596);\">and</span> <span style=\"background-color:rgba(135,206,250,0.037482113);\">the</span> <span style=\"background-color:rgba(135,206,250,0.14118662);\">palate</span> <span style=\"background-color:rgba(135,206,250,0.100135885);\">is</span> <span style=\"background-color:rgba(135,206,250,0.09845062);\">whistle</span> <span style=\"background-color:rgba(135,206,250,0.03667757);\">-</span> <span style=\"background-color:rgba(135,206,250,0.060758773);\">clean</span> <span style=\"background-color:rgba(135,206,250,0.12768021);\">,</span> <span style=\"background-color:rgba(135,206,250,0.13050811);\">pure</span> <span style=\"background-color:rgba(135,206,250,0.106648475);\">lemon</span> <span style=\"background-color:rgba(135,206,250,0.23693644);\">and</span> <span style=\"background-color:rgba(135,206,250,0.24356046);\">lime</span> <span style=\"background-color:rgba(135,206,250,0.15938689);\">zest</span> <span style=\"background-color:rgba(135,206,250,0.8915745);\">.</span> <span style=\"background-color:rgba(135,206,250,1.0);\">there</span> <span style=\"background-color:rgba(135,206,250,0.66346747);\">are</span> <span style=\"background-color:rgba(135,206,250,0.75593233);\">glimpses</span> <span style=\"background-color:rgba(135,206,250,0.7806588);\">of</span> <span style=\"background-color:rgba(135,206,250,0.25599876);\">white</span>"
      ],
      "text/plain": [
       "<IPython.core.display.HTML object>"
      ]
     },
     "metadata": {},
     "output_type": "display_data"
    },
    {
     "name": "stdout",
     "output_type": "stream",
     "text": [
      "pepper:   \t35.84%\n",
      "peach:   \t28.5%\n",
      "grapefruit:   \t13.15%\n",
      "stone:   \t5.18%\n",
      "cherry:   \t5.04%\n",
      "--------\n",
      "\n"
     ]
    },
    {
     "data": {
      "text/html": [
       "<span style=\"background-color:rgba(135,206,250,0.055113014);\">wine</span> <span style=\"background-color:rgba(135,206,250,0.08271972);\">review</span> <span style=\"background-color:rgba(135,206,250,0.07845891);\">:</span> <span style=\"background-color:rgba(135,206,250,0.24775732);\">england</span> <span style=\"background-color:rgba(135,206,250,0.18967238);\">:</span> <span style=\"background-color:rgba(135,206,250,0.08239608);\">england</span> <span style=\"background-color:rgba(135,206,250,0.049827557);\">:</span> <span style=\"background-color:rgba(135,206,250,0.06531983);\">chardonnay</span> <span style=\"background-color:rgba(135,206,250,0.047548488);\">:</span> <span style=\"background-color:rgba(135,206,250,0.027241513);\">a</span> <span style=\"background-color:rgba(135,206,250,0.029511735);\">touch</span> <span style=\"background-color:rgba(135,206,250,0.032533806);\">of</span> <span style=\"background-color:rgba(135,206,250,0.032184504);\">apple</span> <span style=\"background-color:rgba(135,206,250,0.04572644);\">scent</span> <span style=\"background-color:rgba(135,206,250,0.014694615);\">the</span> <span style=\"background-color:rgba(135,206,250,0.06327608);\">nose</span> <span style=\"background-color:rgba(135,206,250,0.067336716);\">.</span> <span style=\"background-color:rgba(135,206,250,0.013437555);\">the</span> <span style=\"background-color:rgba(135,206,250,0.05896186);\">palate</span> <span style=\"background-color:rgba(135,206,250,0.019256875);\">is</span> <span style=\"background-color:rgba(135,206,250,0.010375421);\">all</span> <span style=\"background-color:rgba(135,206,250,0.012793855);\">[UNK]</span> <span style=\"background-color:rgba(135,206,250,0.05640396);\">.</span> <span style=\"background-color:rgba(135,206,250,0.0103597725);\">the</span> <span style=\"background-color:rgba(135,206,250,0.03105167);\">same</span> <span style=\"background-color:rgba(135,206,250,0.014565242);\">,</span> <span style=\"background-color:rgba(135,206,250,0.019483045);\">however</span> <span style=\"background-color:rgba(135,206,250,0.015576449);\">,</span> <span style=\"background-color:rgba(135,206,250,0.011516916);\">the</span> <span style=\"background-color:rgba(135,206,250,0.024549145);\">result</span> <span style=\"background-color:rgba(135,206,250,0.02324264);\">is</span> <span style=\"background-color:rgba(135,206,250,0.023620343);\">a</span> <span style=\"background-color:rgba(135,206,250,0.074475035);\">slender</span> <span style=\"background-color:rgba(135,206,250,0.019774748);\">,</span> <span style=\"background-color:rgba(135,206,250,0.020348404);\">taut</span> <span style=\"background-color:rgba(135,206,250,0.027587695);\">and</span> <span style=\"background-color:rgba(135,206,250,0.0805295);\">slender</span> <span style=\"background-color:rgba(135,206,250,0.023119984);\">,</span> <span style=\"background-color:rgba(135,206,250,0.032283913);\">dry</span> <span style=\"background-color:rgba(135,206,250,0.03186062);\">and</span> <span style=\"background-color:rgba(135,206,250,0.044729657);\">whistle</span> <span style=\"background-color:rgba(135,206,250,0.014077772);\">-</span> <span style=\"background-color:rgba(135,206,250,0.050821457);\">clean</span> <span style=\"background-color:rgba(135,206,250,0.030843325);\">,</span> <span style=\"background-color:rgba(135,206,250,0.040933218);\">refreshing</span> <span style=\"background-color:rgba(135,206,250,0.042182487);\">and</span> <span style=\"background-color:rgba(135,206,250,0.02615082);\">the</span> <span style=\"background-color:rgba(135,206,250,0.1366986);\">palate</span> <span style=\"background-color:rgba(135,206,250,0.05646814);\">is</span> <span style=\"background-color:rgba(135,206,250,0.072552085);\">whistle</span> <span style=\"background-color:rgba(135,206,250,0.024849);\">-</span> <span style=\"background-color:rgba(135,206,250,0.07601034);\">clean</span> <span style=\"background-color:rgba(135,206,250,0.073859595);\">,</span> <span style=\"background-color:rgba(135,206,250,0.052690446);\">pure</span> <span style=\"background-color:rgba(135,206,250,0.05402704);\">lemon</span> <span style=\"background-color:rgba(135,206,250,0.13394873);\">and</span> <span style=\"background-color:rgba(135,206,250,0.062167026);\">lime</span> <span style=\"background-color:rgba(135,206,250,0.059341427);\">zest</span> <span style=\"background-color:rgba(135,206,250,0.6978987);\">.</span> <span style=\"background-color:rgba(135,206,250,0.5382437);\">there</span> <span style=\"background-color:rgba(135,206,250,0.4922193);\">are</span> <span style=\"background-color:rgba(135,206,250,1.0);\">glimpses</span> <span style=\"background-color:rgba(135,206,250,0.6747695);\">of</span> <span style=\"background-color:rgba(135,206,250,0.35690802);\">white</span> <span style=\"background-color:rgba(135,206,250,0.24807046);\">grapefruit</span>"
      ],
      "text/plain": [
       "<IPython.core.display.HTML object>"
      ]
     },
     "metadata": {},
     "output_type": "display_data"
    },
    {
     "name": "stdout",
     "output_type": "stream",
     "text": [
      "and:   \t77.41%\n",
      ",:   \t10.57%\n",
      "pith:   \t8.13%\n",
      "zest:   \t2.28%\n",
      ".:   \t0.36%\n",
      "--------\n",
      "\n"
     ]
    },
    {
     "data": {
      "text/html": [
       "<span style=\"background-color:rgba(135,206,250,0.032409035);\">wine</span> <span style=\"background-color:rgba(135,206,250,0.04259371);\">review</span> <span style=\"background-color:rgba(135,206,250,0.071932115);\">:</span> <span style=\"background-color:rgba(135,206,250,0.22014083);\">england</span> <span style=\"background-color:rgba(135,206,250,0.08000703);\">:</span> <span style=\"background-color:rgba(135,206,250,0.13556719);\">england</span> <span style=\"background-color:rgba(135,206,250,0.042777937);\">:</span> <span style=\"background-color:rgba(135,206,250,0.12573479);\">chardonnay</span> <span style=\"background-color:rgba(135,206,250,0.054739658);\">:</span> <span style=\"background-color:rgba(135,206,250,0.019365178);\">a</span> <span style=\"background-color:rgba(135,206,250,0.021204153);\">touch</span> <span style=\"background-color:rgba(135,206,250,0.014078804);\">of</span> <span style=\"background-color:rgba(135,206,250,0.029434662);\">apple</span> <span style=\"background-color:rgba(135,206,250,0.032762524);\">scent</span> <span style=\"background-color:rgba(135,206,250,0.012619256);\">the</span> <span style=\"background-color:rgba(135,206,250,0.04722889);\">nose</span> <span style=\"background-color:rgba(135,206,250,0.041667208);\">.</span> <span style=\"background-color:rgba(135,206,250,0.011723317);\">the</span> <span style=\"background-color:rgba(135,206,250,0.048795387);\">palate</span> <span style=\"background-color:rgba(135,206,250,0.015286021);\">is</span> <span style=\"background-color:rgba(135,206,250,0.013109635);\">all</span> <span style=\"background-color:rgba(135,206,250,0.010093777);\">[UNK]</span> <span style=\"background-color:rgba(135,206,250,0.035323057);\">.</span> <span style=\"background-color:rgba(135,206,250,0.009753175);\">the</span> <span style=\"background-color:rgba(135,206,250,0.010253578);\">same</span> <span style=\"background-color:rgba(135,206,250,0.012862255);\">,</span> <span style=\"background-color:rgba(135,206,250,0.020944808);\">however</span> <span style=\"background-color:rgba(135,206,250,0.01322923);\">,</span> <span style=\"background-color:rgba(135,206,250,0.009661672);\">the</span> <span style=\"background-color:rgba(135,206,250,0.015735442);\">result</span> <span style=\"background-color:rgba(135,206,250,0.014190993);\">is</span> <span style=\"background-color:rgba(135,206,250,0.011619167);\">a</span> <span style=\"background-color:rgba(135,206,250,0.07202655);\">slender</span> <span style=\"background-color:rgba(135,206,250,0.015868284);\">,</span> <span style=\"background-color:rgba(135,206,250,0.042429984);\">taut</span> <span style=\"background-color:rgba(135,206,250,0.020724867);\">and</span> <span style=\"background-color:rgba(135,206,250,0.07064416);\">slender</span> <span style=\"background-color:rgba(135,206,250,0.0166586);\">,</span> <span style=\"background-color:rgba(135,206,250,0.03399065);\">dry</span> <span style=\"background-color:rgba(135,206,250,0.022706212);\">and</span> <span style=\"background-color:rgba(135,206,250,0.07562364);\">whistle</span> <span style=\"background-color:rgba(135,206,250,0.011754492);\">-</span> <span style=\"background-color:rgba(135,206,250,0.04882594);\">clean</span> <span style=\"background-color:rgba(135,206,250,0.020564582);\">,</span> <span style=\"background-color:rgba(135,206,250,0.060591407);\">refreshing</span> <span style=\"background-color:rgba(135,206,250,0.024415173);\">and</span> <span style=\"background-color:rgba(135,206,250,0.014214921);\">the</span> <span style=\"background-color:rgba(135,206,250,0.07300897);\">palate</span> <span style=\"background-color:rgba(135,206,250,0.024156787);\">is</span> <span style=\"background-color:rgba(135,206,250,0.10562265);\">whistle</span> <span style=\"background-color:rgba(135,206,250,0.016712764);\">-</span> <span style=\"background-color:rgba(135,206,250,0.058058094);\">clean</span> <span style=\"background-color:rgba(135,206,250,0.032203667);\">,</span> <span style=\"background-color:rgba(135,206,250,0.057165213);\">pure</span> <span style=\"background-color:rgba(135,206,250,0.05877513);\">lemon</span> <span style=\"background-color:rgba(135,206,250,0.040128604);\">and</span> <span style=\"background-color:rgba(135,206,250,0.07911301);\">lime</span> <span style=\"background-color:rgba(135,206,250,0.063121736);\">zest</span> <span style=\"background-color:rgba(135,206,250,0.19006172);\">.</span> <span style=\"background-color:rgba(135,206,250,0.1961375);\">there</span> <span style=\"background-color:rgba(135,206,250,0.22650328);\">are</span> <span style=\"background-color:rgba(135,206,250,0.36401862);\">glimpses</span> <span style=\"background-color:rgba(135,206,250,0.32305515);\">of</span> <span style=\"background-color:rgba(135,206,250,0.62838274);\">white</span> <span style=\"background-color:rgba(135,206,250,1.0);\">grapefruit</span> <span style=\"background-color:rgba(135,206,250,0.3008381);\">and</span>"
      ],
      "text/plain": [
       "<IPython.core.display.HTML object>"
      ]
     },
     "metadata": {},
     "output_type": "display_data"
    },
    {
     "name": "stdout",
     "output_type": "stream",
     "text": [
      "green:   \t28.14%\n",
      "lemon:   \t24.55%\n",
      "a:   \t8.72%\n",
      "stone:   \t5.26%\n",
      "tart:   \t4.83%\n",
      "--------\n",
      "\n"
     ]
    },
    {
     "data": {
      "text/html": [
       "<span style=\"background-color:rgba(135,206,250,0.075942464);\">wine</span> <span style=\"background-color:rgba(135,206,250,0.0998776);\">review</span> <span style=\"background-color:rgba(135,206,250,0.08042524);\">:</span> <span style=\"background-color:rgba(135,206,250,0.123268016);\">england</span> <span style=\"background-color:rgba(135,206,250,0.17505723);\">:</span> <span style=\"background-color:rgba(135,206,250,0.075991176);\">england</span> <span style=\"background-color:rgba(135,206,250,0.07466352);\">:</span> <span style=\"background-color:rgba(135,206,250,0.09679884);\">chardonnay</span> <span style=\"background-color:rgba(135,206,250,0.06710202);\">:</span> <span style=\"background-color:rgba(135,206,250,0.04629927);\">a</span> <span style=\"background-color:rgba(135,206,250,0.035967376);\">touch</span> <span style=\"background-color:rgba(135,206,250,0.04190296);\">of</span> <span style=\"background-color:rgba(135,206,250,0.050410207);\">apple</span> <span style=\"background-color:rgba(135,206,250,0.07974745);\">scent</span> <span style=\"background-color:rgba(135,206,250,0.022158854);\">the</span> <span style=\"background-color:rgba(135,206,250,0.044864714);\">nose</span> <span style=\"background-color:rgba(135,206,250,0.07584295);\">.</span> <span style=\"background-color:rgba(135,206,250,0.02186542);\">the</span> <span style=\"background-color:rgba(135,206,250,0.06862058);\">palate</span> <span style=\"background-color:rgba(135,206,250,0.040124994);\">is</span> <span style=\"background-color:rgba(135,206,250,0.026421493);\">all</span> <span style=\"background-color:rgba(135,206,250,0.019520447);\">[UNK]</span> <span style=\"background-color:rgba(135,206,250,0.061506335);\">.</span> <span style=\"background-color:rgba(135,206,250,0.017224753);\">the</span> <span style=\"background-color:rgba(135,206,250,0.04420229);\">same</span> <span style=\"background-color:rgba(135,206,250,0.023981577);\">,</span> <span style=\"background-color:rgba(135,206,250,0.036434162);\">however</span> <span style=\"background-color:rgba(135,206,250,0.023209013);\">,</span> <span style=\"background-color:rgba(135,206,250,0.016360713);\">the</span> <span style=\"background-color:rgba(135,206,250,0.025086192);\">result</span> <span style=\"background-color:rgba(135,206,250,0.041454762);\">is</span> <span style=\"background-color:rgba(135,206,250,0.032433484);\">a</span> <span style=\"background-color:rgba(135,206,250,0.068223506);\">slender</span> <span style=\"background-color:rgba(135,206,250,0.030381834);\">,</span> <span style=\"background-color:rgba(135,206,250,0.030783031);\">taut</span> <span style=\"background-color:rgba(135,206,250,0.02971196);\">and</span> <span style=\"background-color:rgba(135,206,250,0.076214306);\">slender</span> <span style=\"background-color:rgba(135,206,250,0.03647825);\">,</span> <span style=\"background-color:rgba(135,206,250,0.033873457);\">dry</span> <span style=\"background-color:rgba(135,206,250,0.038848057);\">and</span> <span style=\"background-color:rgba(135,206,250,0.039669923);\">whistle</span> <span style=\"background-color:rgba(135,206,250,0.024987552);\">-</span> <span style=\"background-color:rgba(135,206,250,0.035223585);\">clean</span> <span style=\"background-color:rgba(135,206,250,0.047265995);\">,</span> <span style=\"background-color:rgba(135,206,250,0.05514885);\">refreshing</span> <span style=\"background-color:rgba(135,206,250,0.04616124);\">and</span> <span style=\"background-color:rgba(135,206,250,0.040236313);\">the</span> <span style=\"background-color:rgba(135,206,250,0.1488031);\">palate</span> <span style=\"background-color:rgba(135,206,250,0.09734401);\">is</span> <span style=\"background-color:rgba(135,206,250,0.063810706);\">whistle</span> <span style=\"background-color:rgba(135,206,250,0.036897413);\">-</span> <span style=\"background-color:rgba(135,206,250,0.056619402);\">clean</span> <span style=\"background-color:rgba(135,206,250,0.09945156);\">,</span> <span style=\"background-color:rgba(135,206,250,0.065108955);\">pure</span> <span style=\"background-color:rgba(135,206,250,0.060078498);\">lemon</span> <span style=\"background-color:rgba(135,206,250,0.11787272);\">and</span> <span style=\"background-color:rgba(135,206,250,0.071268044);\">lime</span> <span style=\"background-color:rgba(135,206,250,0.06638125);\">zest</span> <span style=\"background-color:rgba(135,206,250,0.7078226);\">.</span> <span style=\"background-color:rgba(135,206,250,0.58873546);\">there</span> <span style=\"background-color:rgba(135,206,250,0.4541931);\">are</span> <span style=\"background-color:rgba(135,206,250,0.49713945);\">glimpses</span> <span style=\"background-color:rgba(135,206,250,0.5669618);\">of</span> <span style=\"background-color:rgba(135,206,250,0.24997808);\">white</span> <span style=\"background-color:rgba(135,206,250,0.271079);\">grapefruit</span> <span style=\"background-color:rgba(135,206,250,1.0);\">and</span> <span style=\"background-color:rgba(135,206,250,0.31163526);\">quince</span>"
      ],
      "text/plain": [
       "<IPython.core.display.HTML object>"
      ]
     },
     "metadata": {},
     "output_type": "display_data"
    },
    {
     "name": "stdout",
     "output_type": "stream",
     "text": [
      ",:   \t86.71%\n",
      ".:   \t7.14%\n",
      "flavors:   \t2.45%\n",
      "notes:   \t1.32%\n",
      "and:   \t0.67%\n",
      "--------\n",
      "\n"
     ]
    },
    {
     "data": {
      "text/html": [
       "<span style=\"background-color:rgba(135,206,250,0.025625817);\">wine</span> <span style=\"background-color:rgba(135,206,250,0.04093863);\">review</span> <span style=\"background-color:rgba(135,206,250,0.051571354);\">:</span> <span style=\"background-color:rgba(135,206,250,0.17462753);\">england</span> <span style=\"background-color:rgba(135,206,250,0.055834204);\">:</span> <span style=\"background-color:rgba(135,206,250,0.107559726);\">england</span> <span style=\"background-color:rgba(135,206,250,0.034355354);\">:</span> <span style=\"background-color:rgba(135,206,250,0.089426);\">chardonnay</span> <span style=\"background-color:rgba(135,206,250,0.045962308);\">:</span> <span style=\"background-color:rgba(135,206,250,0.015616056);\">a</span> <span style=\"background-color:rgba(135,206,250,0.024493745);\">touch</span> <span style=\"background-color:rgba(135,206,250,0.014206863);\">of</span> <span style=\"background-color:rgba(135,206,250,0.022358727);\">apple</span> <span style=\"background-color:rgba(135,206,250,0.026178112);\">scent</span> <span style=\"background-color:rgba(135,206,250,0.010138101);\">the</span> <span style=\"background-color:rgba(135,206,250,0.03562189);\">nose</span> <span style=\"background-color:rgba(135,206,250,0.03988316);\">.</span> <span style=\"background-color:rgba(135,206,250,0.010262778);\">the</span> <span style=\"background-color:rgba(135,206,250,0.036201857);\">palate</span> <span style=\"background-color:rgba(135,206,250,0.023415448);\">is</span> <span style=\"background-color:rgba(135,206,250,0.017988343);\">all</span> <span style=\"background-color:rgba(135,206,250,0.007489467);\">[UNK]</span> <span style=\"background-color:rgba(135,206,250,0.033764664);\">.</span> <span style=\"background-color:rgba(135,206,250,0.0084521705);\">the</span> <span style=\"background-color:rgba(135,206,250,0.010928713);\">same</span> <span style=\"background-color:rgba(135,206,250,0.010267017);\">,</span> <span style=\"background-color:rgba(135,206,250,0.022070669);\">however</span> <span style=\"background-color:rgba(135,206,250,0.011127391);\">,</span> <span style=\"background-color:rgba(135,206,250,0.008865223);\">the</span> <span style=\"background-color:rgba(135,206,250,0.013003814);\">result</span> <span style=\"background-color:rgba(135,206,250,0.02631035);\">is</span> <span style=\"background-color:rgba(135,206,250,0.01013168);\">a</span> <span style=\"background-color:rgba(135,206,250,0.04850083);\">slender</span> <span style=\"background-color:rgba(135,206,250,0.013348683);\">,</span> <span style=\"background-color:rgba(135,206,250,0.030187316);\">taut</span> <span style=\"background-color:rgba(135,206,250,0.019264348);\">and</span> <span style=\"background-color:rgba(135,206,250,0.048412573);\">slender</span> <span style=\"background-color:rgba(135,206,250,0.0150694195);\">,</span> <span style=\"background-color:rgba(135,206,250,0.027604261);\">dry</span> <span style=\"background-color:rgba(135,206,250,0.022534152);\">and</span> <span style=\"background-color:rgba(135,206,250,0.054063395);\">whistle</span> <span style=\"background-color:rgba(135,206,250,0.008071907);\">-</span> <span style=\"background-color:rgba(135,206,250,0.028960744);\">clean</span> <span style=\"background-color:rgba(135,206,250,0.019190602);\">,</span> <span style=\"background-color:rgba(135,206,250,0.055792324);\">refreshing</span> <span style=\"background-color:rgba(135,206,250,0.025951307);\">and</span> <span style=\"background-color:rgba(135,206,250,0.015972482);\">the</span> <span style=\"background-color:rgba(135,206,250,0.07540728);\">palate</span> <span style=\"background-color:rgba(135,206,250,0.054607045);\">is</span> <span style=\"background-color:rgba(135,206,250,0.078634456);\">whistle</span> <span style=\"background-color:rgba(135,206,250,0.011805761);\">-</span> <span style=\"background-color:rgba(135,206,250,0.04192635);\">clean</span> <span style=\"background-color:rgba(135,206,250,0.027386317);\">,</span> <span style=\"background-color:rgba(135,206,250,0.04006375);\">pure</span> <span style=\"background-color:rgba(135,206,250,0.046093658);\">lemon</span> <span style=\"background-color:rgba(135,206,250,0.058619704);\">and</span> <span style=\"background-color:rgba(135,206,250,0.07777015);\">lime</span> <span style=\"background-color:rgba(135,206,250,0.04587486);\">zest</span> <span style=\"background-color:rgba(135,206,250,0.20648263);\">.</span> <span style=\"background-color:rgba(135,206,250,0.12652107);\">there</span> <span style=\"background-color:rgba(135,206,250,0.16337734);\">are</span> <span style=\"background-color:rgba(135,206,250,0.18974318);\">glimpses</span> <span style=\"background-color:rgba(135,206,250,0.1543335);\">of</span> <span style=\"background-color:rgba(135,206,250,0.18075089);\">white</span> <span style=\"background-color:rgba(135,206,250,0.36526203);\">grapefruit</span> <span style=\"background-color:rgba(135,206,250,0.5499817);\">and</span> <span style=\"background-color:rgba(135,206,250,1.0);\">quince</span> <span style=\"background-color:rgba(135,206,250,0.29763559);\">,</span>"
      ],
      "text/plain": [
       "<IPython.core.display.HTML object>"
      ]
     },
     "metadata": {},
     "output_type": "display_data"
    },
    {
     "name": "stdout",
     "output_type": "stream",
     "text": [
      "while:   \t30.49%\n",
      "but:   \t29.56%\n",
      "with:   \t27.47%\n",
      "and:   \t6.25%\n",
      "all:   \t1.97%\n",
      "--------\n",
      "\n"
     ]
    },
    {
     "data": {
      "text/html": [
       "<span style=\"background-color:rgba(135,206,250,0.071298376);\">wine</span> <span style=\"background-color:rgba(135,206,250,0.08148613);\">review</span> <span style=\"background-color:rgba(135,206,250,0.20192909);\">:</span> <span style=\"background-color:rgba(135,206,250,0.23904973);\">england</span> <span style=\"background-color:rgba(135,206,250,0.20073992);\">:</span> <span style=\"background-color:rgba(135,206,250,0.12578897);\">england</span> <span style=\"background-color:rgba(135,206,250,0.12368376);\">:</span> <span style=\"background-color:rgba(135,206,250,0.17969948);\">chardonnay</span> <span style=\"background-color:rgba(135,206,250,0.10254678);\">:</span> <span style=\"background-color:rgba(135,206,250,0.053641826);\">a</span> <span style=\"background-color:rgba(135,206,250,0.04566929);\">touch</span> <span style=\"background-color:rgba(135,206,250,0.021464935);\">of</span> <span style=\"background-color:rgba(135,206,250,0.0389079);\">apple</span> <span style=\"background-color:rgba(135,206,250,0.05532852);\">scent</span> <span style=\"background-color:rgba(135,206,250,0.03003595);\">the</span> <span style=\"background-color:rgba(135,206,250,0.08114682);\">nose</span> <span style=\"background-color:rgba(135,206,250,0.05378293);\">.</span> <span style=\"background-color:rgba(135,206,250,0.029389553);\">the</span> <span style=\"background-color:rgba(135,206,250,0.056518182);\">palate</span> <span style=\"background-color:rgba(135,206,250,0.028180037);\">is</span> <span style=\"background-color:rgba(135,206,250,0.01716047);\">all</span> <span style=\"background-color:rgba(135,206,250,0.01464249);\">[UNK]</span> <span style=\"background-color:rgba(135,206,250,0.04366151);\">.</span> <span style=\"background-color:rgba(135,206,250,0.024032013);\">the</span> <span style=\"background-color:rgba(135,206,250,0.026265902);\">same</span> <span style=\"background-color:rgba(135,206,250,0.028526504);\">,</span> <span style=\"background-color:rgba(135,206,250,0.022377485);\">however</span> <span style=\"background-color:rgba(135,206,250,0.029692471);\">,</span> <span style=\"background-color:rgba(135,206,250,0.02565781);\">the</span> <span style=\"background-color:rgba(135,206,250,0.022336362);\">result</span> <span style=\"background-color:rgba(135,206,250,0.03126664);\">is</span> <span style=\"background-color:rgba(135,206,250,0.027448028);\">a</span> <span style=\"background-color:rgba(135,206,250,0.05332131);\">slender</span> <span style=\"background-color:rgba(135,206,250,0.034313913);\">,</span> <span style=\"background-color:rgba(135,206,250,0.029176086);\">taut</span> <span style=\"background-color:rgba(135,206,250,0.03701183);\">and</span> <span style=\"background-color:rgba(135,206,250,0.053841762);\">slender</span> <span style=\"background-color:rgba(135,206,250,0.039438654);\">,</span> <span style=\"background-color:rgba(135,206,250,0.02811726);\">dry</span> <span style=\"background-color:rgba(135,206,250,0.04098938);\">and</span> <span style=\"background-color:rgba(135,206,250,0.07852848);\">whistle</span> <span style=\"background-color:rgba(135,206,250,0.011908881);\">-</span> <span style=\"background-color:rgba(135,206,250,0.045459844);\">clean</span> <span style=\"background-color:rgba(135,206,250,0.04927798);\">,</span> <span style=\"background-color:rgba(135,206,250,0.057586707);\">refreshing</span> <span style=\"background-color:rgba(135,206,250,0.049688507);\">and</span> <span style=\"background-color:rgba(135,206,250,0.04321647);\">the</span> <span style=\"background-color:rgba(135,206,250,0.10180863);\">palate</span> <span style=\"background-color:rgba(135,206,250,0.060280003);\">is</span> <span style=\"background-color:rgba(135,206,250,0.10425111);\">whistle</span> <span style=\"background-color:rgba(135,206,250,0.01871265);\">-</span> <span style=\"background-color:rgba(135,206,250,0.062845886);\">clean</span> <span style=\"background-color:rgba(135,206,250,0.08176169);\">,</span> <span style=\"background-color:rgba(135,206,250,0.038483102);\">pure</span> <span style=\"background-color:rgba(135,206,250,0.07936883);\">lemon</span> <span style=\"background-color:rgba(135,206,250,0.101238154);\">and</span> <span style=\"background-color:rgba(135,206,250,0.080444604);\">lime</span> <span style=\"background-color:rgba(135,206,250,0.059113387);\">zest</span> <span style=\"background-color:rgba(135,206,250,0.2840255);\">.</span> <span style=\"background-color:rgba(135,206,250,0.14785874);\">there</span> <span style=\"background-color:rgba(135,206,250,0.1497273);\">are</span> <span style=\"background-color:rgba(135,206,250,0.75570166);\">glimpses</span> <span style=\"background-color:rgba(135,206,250,0.124381214);\">of</span> <span style=\"background-color:rgba(135,206,250,0.19730024);\">white</span> <span style=\"background-color:rgba(135,206,250,0.18123797);\">grapefruit</span> <span style=\"background-color:rgba(135,206,250,0.32802042);\">and</span> <span style=\"background-color:rgba(135,206,250,0.55831295);\">quince</span> <span style=\"background-color:rgba(135,206,250,1.0);\">,</span> <span style=\"background-color:rgba(135,206,250,0.48686236);\">while</span>"
      ],
      "text/plain": [
       "<IPython.core.display.HTML object>"
      ]
     },
     "metadata": {},
     "output_type": "display_data"
    },
    {
     "name": "stdout",
     "output_type": "stream",
     "text": [
      "the:   \t80.98%\n",
      "a:   \t8.69%\n",
      "this:   \t6.91%\n",
      "it:   \t1.33%\n",
      "there:   \t0.83%\n",
      "--------\n",
      "\n"
     ]
    },
    {
     "data": {
      "text/html": [
       "<span style=\"background-color:rgba(135,206,250,0.033489518);\">wine</span> <span style=\"background-color:rgba(135,206,250,0.031996176);\">review</span> <span style=\"background-color:rgba(135,206,250,0.056599036);\">:</span> <span style=\"background-color:rgba(135,206,250,0.14842425);\">england</span> <span style=\"background-color:rgba(135,206,250,0.068766676);\">:</span> <span style=\"background-color:rgba(135,206,250,0.124380074);\">england</span> <span style=\"background-color:rgba(135,206,250,0.032473892);\">:</span> <span style=\"background-color:rgba(135,206,250,0.09771006);\">chardonnay</span> <span style=\"background-color:rgba(135,206,250,0.037794746);\">:</span> <span style=\"background-color:rgba(135,206,250,0.017583886);\">a</span> <span style=\"background-color:rgba(135,206,250,0.024724353);\">touch</span> <span style=\"background-color:rgba(135,206,250,0.010955436);\">of</span> <span style=\"background-color:rgba(135,206,250,0.023219781);\">apple</span> <span style=\"background-color:rgba(135,206,250,0.03274925);\">scent</span> <span style=\"background-color:rgba(135,206,250,0.0057902345);\">the</span> <span style=\"background-color:rgba(135,206,250,0.07383875);\">nose</span> <span style=\"background-color:rgba(135,206,250,0.027331823);\">.</span> <span style=\"background-color:rgba(135,206,250,0.005737619);\">the</span> <span style=\"background-color:rgba(135,206,250,0.08816127);\">palate</span> <span style=\"background-color:rgba(135,206,250,0.010114925);\">is</span> <span style=\"background-color:rgba(135,206,250,0.0055758054);\">all</span> <span style=\"background-color:rgba(135,206,250,0.00822849);\">[UNK]</span> <span style=\"background-color:rgba(135,206,250,0.024548456);\">.</span> <span style=\"background-color:rgba(135,206,250,0.004528447);\">the</span> <span style=\"background-color:rgba(135,206,250,0.012296331);\">same</span> <span style=\"background-color:rgba(135,206,250,0.010081567);\">,</span> <span style=\"background-color:rgba(135,206,250,0.015063817);\">however</span> <span style=\"background-color:rgba(135,206,250,0.0107002035);\">,</span> <span style=\"background-color:rgba(135,206,250,0.004168097);\">the</span> <span style=\"background-color:rgba(135,206,250,0.01198093);\">result</span> <span style=\"background-color:rgba(135,206,250,0.00831752);\">is</span> <span style=\"background-color:rgba(135,206,250,0.008851681);\">a</span> <span style=\"background-color:rgba(135,206,250,0.048255797);\">slender</span> <span style=\"background-color:rgba(135,206,250,0.01118156);\">,</span> <span style=\"background-color:rgba(135,206,250,0.02265668);\">taut</span> <span style=\"background-color:rgba(135,206,250,0.011732919);\">and</span> <span style=\"background-color:rgba(135,206,250,0.049766175);\">slender</span> <span style=\"background-color:rgba(135,206,250,0.012725111);\">,</span> <span style=\"background-color:rgba(135,206,250,0.017745392);\">dry</span> <span style=\"background-color:rgba(135,206,250,0.012979097);\">and</span> <span style=\"background-color:rgba(135,206,250,0.084050976);\">whistle</span> <span style=\"background-color:rgba(135,206,250,0.0072163674);\">-</span> <span style=\"background-color:rgba(135,206,250,0.020540496);\">clean</span> <span style=\"background-color:rgba(135,206,250,0.014536348);\">,</span> <span style=\"background-color:rgba(135,206,250,0.033012018);\">refreshing</span> <span style=\"background-color:rgba(135,206,250,0.015302644);\">and</span> <span style=\"background-color:rgba(135,206,250,0.0063264715);\">the</span> <span style=\"background-color:rgba(135,206,250,0.12271939);\">palate</span> <span style=\"background-color:rgba(135,206,250,0.013791254);\">is</span> <span style=\"background-color:rgba(135,206,250,0.12185197);\">whistle</span> <span style=\"background-color:rgba(135,206,250,0.009873497);\">-</span> <span style=\"background-color:rgba(135,206,250,0.023178007);\">clean</span> <span style=\"background-color:rgba(135,206,250,0.021492215);\">,</span> <span style=\"background-color:rgba(135,206,250,0.02426847);\">pure</span> <span style=\"background-color:rgba(135,206,250,0.035155237);\">lemon</span> <span style=\"background-color:rgba(135,206,250,0.024322726);\">and</span> <span style=\"background-color:rgba(135,206,250,0.049244314);\">lime</span> <span style=\"background-color:rgba(135,206,250,0.037996497);\">zest</span> <span style=\"background-color:rgba(135,206,250,0.08136529);\">.</span> <span style=\"background-color:rgba(135,206,250,0.06259842);\">there</span> <span style=\"background-color:rgba(135,206,250,0.048566993);\">are</span> <span style=\"background-color:rgba(135,206,250,0.22771211);\">glimpses</span> <span style=\"background-color:rgba(135,206,250,0.057050236);\">of</span> <span style=\"background-color:rgba(135,206,250,0.087594606);\">white</span> <span style=\"background-color:rgba(135,206,250,0.1631287);\">grapefruit</span> <span style=\"background-color:rgba(135,206,250,0.14439467);\">and</span> <span style=\"background-color:rgba(135,206,250,0.39806017);\">quince</span> <span style=\"background-color:rgba(135,206,250,0.54237616);\">,</span> <span style=\"background-color:rgba(135,206,250,1.0);\">while</span> <span style=\"background-color:rgba(135,206,250,0.15498541);\">the</span>"
      ],
      "text/plain": [
       "<IPython.core.display.HTML object>"
      ]
     },
     "metadata": {},
     "output_type": "display_data"
    },
    {
     "name": "stdout",
     "output_type": "stream",
     "text": [
      "finish:   \t95.27%\n",
      "midpalate:   \t2.27%\n",
      "body:   \t0.72%\n",
      "palate:   \t0.23%\n",
      "texture:   \t0.22%\n",
      "--------\n",
      "\n"
     ]
    },
    {
     "data": {
      "text/html": [
       "<span style=\"background-color:rgba(135,206,250,0.025668697);\">wine</span> <span style=\"background-color:rgba(135,206,250,0.052428894);\">review</span> <span style=\"background-color:rgba(135,206,250,0.07728583);\">:</span> <span style=\"background-color:rgba(135,206,250,0.11809513);\">england</span> <span style=\"background-color:rgba(135,206,250,0.07305163);\">:</span> <span style=\"background-color:rgba(135,206,250,0.059025563);\">england</span> <span style=\"background-color:rgba(135,206,250,0.03764143);\">:</span> <span style=\"background-color:rgba(135,206,250,0.045691688);\">chardonnay</span> <span style=\"background-color:rgba(135,206,250,0.040225618);\">:</span> <span style=\"background-color:rgba(135,206,250,0.019723058);\">a</span> <span style=\"background-color:rgba(135,206,250,0.008875732);\">touch</span> <span style=\"background-color:rgba(135,206,250,0.010462712);\">of</span> <span style=\"background-color:rgba(135,206,250,0.010464419);\">apple</span> <span style=\"background-color:rgba(135,206,250,0.02259865);\">scent</span> <span style=\"background-color:rgba(135,206,250,0.010870786);\">the</span> <span style=\"background-color:rgba(135,206,250,0.017238542);\">nose</span> <span style=\"background-color:rgba(135,206,250,0.030132059);\">.</span> <span style=\"background-color:rgba(135,206,250,0.009762652);\">the</span> <span style=\"background-color:rgba(135,206,250,0.011534036);\">palate</span> <span style=\"background-color:rgba(135,206,250,0.011518707);\">is</span> <span style=\"background-color:rgba(135,206,250,0.008757669);\">all</span> <span style=\"background-color:rgba(135,206,250,0.007150686);\">[UNK]</span> <span style=\"background-color:rgba(135,206,250,0.024085177);\">.</span> <span style=\"background-color:rgba(135,206,250,0.007857998);\">the</span> <span style=\"background-color:rgba(135,206,250,0.008281927);\">same</span> <span style=\"background-color:rgba(135,206,250,0.008971353);\">,</span> <span style=\"background-color:rgba(135,206,250,0.014010178);\">however</span> <span style=\"background-color:rgba(135,206,250,0.00954044);\">,</span> <span style=\"background-color:rgba(135,206,250,0.008823026);\">the</span> <span style=\"background-color:rgba(135,206,250,0.009642408);\">result</span> <span style=\"background-color:rgba(135,206,250,0.012557325);\">is</span> <span style=\"background-color:rgba(135,206,250,0.012660934);\">a</span> <span style=\"background-color:rgba(135,206,250,0.029477729);\">slender</span> <span style=\"background-color:rgba(135,206,250,0.012583775);\">,</span> <span style=\"background-color:rgba(135,206,250,0.02031443);\">taut</span> <span style=\"background-color:rgba(135,206,250,0.019183733);\">and</span> <span style=\"background-color:rgba(135,206,250,0.030836329);\">slender</span> <span style=\"background-color:rgba(135,206,250,0.015248546);\">,</span> <span style=\"background-color:rgba(135,206,250,0.021634312);\">dry</span> <span style=\"background-color:rgba(135,206,250,0.02360042);\">and</span> <span style=\"background-color:rgba(135,206,250,0.02961106);\">whistle</span> <span style=\"background-color:rgba(135,206,250,0.008190114);\">-</span> <span style=\"background-color:rgba(135,206,250,0.02424851);\">clean</span> <span style=\"background-color:rgba(135,206,250,0.020000344);\">,</span> <span style=\"background-color:rgba(135,206,250,0.04061434);\">refreshing</span> <span style=\"background-color:rgba(135,206,250,0.02817971);\">and</span> <span style=\"background-color:rgba(135,206,250,0.018100496);\">the</span> <span style=\"background-color:rgba(135,206,250,0.030087063);\">palate</span> <span style=\"background-color:rgba(135,206,250,0.031350974);\">is</span> <span style=\"background-color:rgba(135,206,250,0.048325073);\">whistle</span> <span style=\"background-color:rgba(135,206,250,0.013168706);\">-</span> <span style=\"background-color:rgba(135,206,250,0.037129242);\">clean</span> <span style=\"background-color:rgba(135,206,250,0.031440068);\">,</span> <span style=\"background-color:rgba(135,206,250,0.033839557);\">pure</span> <span style=\"background-color:rgba(135,206,250,0.025343036);\">lemon</span> <span style=\"background-color:rgba(135,206,250,0.05822871);\">and</span> <span style=\"background-color:rgba(135,206,250,0.03648903);\">lime</span> <span style=\"background-color:rgba(135,206,250,0.028603327);\">zest</span> <span style=\"background-color:rgba(135,206,250,0.15731786);\">.</span> <span style=\"background-color:rgba(135,206,250,0.12580335);\">there</span> <span style=\"background-color:rgba(135,206,250,0.06398865);\">are</span> <span style=\"background-color:rgba(135,206,250,0.15796357);\">glimpses</span> <span style=\"background-color:rgba(135,206,250,0.080390505);\">of</span> <span style=\"background-color:rgba(135,206,250,0.06976579);\">white</span> <span style=\"background-color:rgba(135,206,250,0.08778335);\">grapefruit</span> <span style=\"background-color:rgba(135,206,250,0.1927003);\">and</span> <span style=\"background-color:rgba(135,206,250,0.11061314);\">quince</span> <span style=\"background-color:rgba(135,206,250,0.31025964);\">,</span> <span style=\"background-color:rgba(135,206,250,1.0);\">while</span> <span style=\"background-color:rgba(135,206,250,0.47788006);\">the</span> <span style=\"background-color:rgba(135,206,250,0.26835656);\">finish</span>"
      ],
      "text/plain": [
       "<IPython.core.display.HTML object>"
      ]
     },
     "metadata": {},
     "output_type": "display_data"
    },
    {
     "name": "stdout",
     "output_type": "stream",
     "text": [
      "is:   \t99.69%\n",
      "provides:   \t0.08%\n",
      "makes:   \t0.04%\n",
      "remains:   \t0.03%\n",
      "does:   \t0.02%\n",
      "--------\n",
      "\n"
     ]
    },
    {
     "data": {
      "text/html": [
       "<span style=\"background-color:rgba(135,206,250,0.031794462);\">wine</span> <span style=\"background-color:rgba(135,206,250,0.045691047);\">review</span> <span style=\"background-color:rgba(135,206,250,0.09396652);\">:</span> <span style=\"background-color:rgba(135,206,250,0.1788619);\">england</span> <span style=\"background-color:rgba(135,206,250,0.08047795);\">:</span> <span style=\"background-color:rgba(135,206,250,0.11403207);\">england</span> <span style=\"background-color:rgba(135,206,250,0.059720132);\">:</span> <span style=\"background-color:rgba(135,206,250,0.09930323);\">chardonnay</span> <span style=\"background-color:rgba(135,206,250,0.062058385);\">:</span> <span style=\"background-color:rgba(135,206,250,0.030542701);\">a</span> <span style=\"background-color:rgba(135,206,250,0.02528858);\">touch</span> <span style=\"background-color:rgba(135,206,250,0.013467535);\">of</span> <span style=\"background-color:rgba(135,206,250,0.021446943);\">apple</span> <span style=\"background-color:rgba(135,206,250,0.04662903);\">scent</span> <span style=\"background-color:rgba(135,206,250,0.015720349);\">the</span> <span style=\"background-color:rgba(135,206,250,0.04329252);\">nose</span> <span style=\"background-color:rgba(135,206,250,0.03187421);\">.</span> <span style=\"background-color:rgba(135,206,250,0.015349966);\">the</span> <span style=\"background-color:rgba(135,206,250,0.027323773);\">palate</span> <span style=\"background-color:rgba(135,206,250,0.009543515);\">is</span> <span style=\"background-color:rgba(135,206,250,0.014149516);\">all</span> <span style=\"background-color:rgba(135,206,250,0.009223516);\">[UNK]</span> <span style=\"background-color:rgba(135,206,250,0.023738641);\">.</span> <span style=\"background-color:rgba(135,206,250,0.010932745);\">the</span> <span style=\"background-color:rgba(135,206,250,0.006529869);\">same</span> <span style=\"background-color:rgba(135,206,250,0.011332891);\">,</span> <span style=\"background-color:rgba(135,206,250,0.017681262);\">however</span> <span style=\"background-color:rgba(135,206,250,0.011171242);\">,</span> <span style=\"background-color:rgba(135,206,250,0.009142868);\">the</span> <span style=\"background-color:rgba(135,206,250,0.0072143995);\">result</span> <span style=\"background-color:rgba(135,206,250,0.006913417);\">is</span> <span style=\"background-color:rgba(135,206,250,0.012933358);\">a</span> <span style=\"background-color:rgba(135,206,250,0.046957523);\">slender</span> <span style=\"background-color:rgba(135,206,250,0.011854578);\">,</span> <span style=\"background-color:rgba(135,206,250,0.025180778);\">taut</span> <span style=\"background-color:rgba(135,206,250,0.018044105);\">and</span> <span style=\"background-color:rgba(135,206,250,0.044679288);\">slender</span> <span style=\"background-color:rgba(135,206,250,0.012626753);\">,</span> <span style=\"background-color:rgba(135,206,250,0.021925546);\">dry</span> <span style=\"background-color:rgba(135,206,250,0.019385643);\">and</span> <span style=\"background-color:rgba(135,206,250,0.029021814);\">whistle</span> <span style=\"background-color:rgba(135,206,250,0.0064204508);\">-</span> <span style=\"background-color:rgba(135,206,250,0.021653088);\">clean</span> <span style=\"background-color:rgba(135,206,250,0.015133609);\">,</span> <span style=\"background-color:rgba(135,206,250,0.03976649);\">refreshing</span> <span style=\"background-color:rgba(135,206,250,0.019959122);\">and</span> <span style=\"background-color:rgba(135,206,250,0.011835603);\">the</span> <span style=\"background-color:rgba(135,206,250,0.030658692);\">palate</span> <span style=\"background-color:rgba(135,206,250,0.010539434);\">is</span> <span style=\"background-color:rgba(135,206,250,0.03975606);\">whistle</span> <span style=\"background-color:rgba(135,206,250,0.008403865);\">-</span> <span style=\"background-color:rgba(135,206,250,0.026627542);\">clean</span> <span style=\"background-color:rgba(135,206,250,0.018434731);\">,</span> <span style=\"background-color:rgba(135,206,250,0.02791397);\">pure</span> <span style=\"background-color:rgba(135,206,250,0.029138515);\">lemon</span> <span style=\"background-color:rgba(135,206,250,0.03250453);\">and</span> <span style=\"background-color:rgba(135,206,250,0.032190256);\">lime</span> <span style=\"background-color:rgba(135,206,250,0.018171446);\">zest</span> <span style=\"background-color:rgba(135,206,250,0.050519597);\">.</span> <span style=\"background-color:rgba(135,206,250,0.035525836);\">there</span> <span style=\"background-color:rgba(135,206,250,0.016882397);\">are</span> <span style=\"background-color:rgba(135,206,250,0.11441733);\">glimpses</span> <span style=\"background-color:rgba(135,206,250,0.030168654);\">of</span> <span style=\"background-color:rgba(135,206,250,0.047329314);\">white</span> <span style=\"background-color:rgba(135,206,250,0.058685113);\">grapefruit</span> <span style=\"background-color:rgba(135,206,250,0.080505155);\">and</span> <span style=\"background-color:rgba(135,206,250,0.055154175);\">quince</span> <span style=\"background-color:rgba(135,206,250,0.20639016);\">,</span> <span style=\"background-color:rgba(135,206,250,0.68127173);\">while</span> <span style=\"background-color:rgba(135,206,250,0.23180093);\">the</span> <span style=\"background-color:rgba(135,206,250,1.0);\">finish</span> <span style=\"background-color:rgba(135,206,250,0.12099049);\">is</span>"
      ],
      "text/plain": [
       "<IPython.core.display.HTML object>"
      ]
     },
     "metadata": {},
     "output_type": "display_data"
    },
    {
     "name": "stdout",
     "output_type": "stream",
     "text": [
      "whistle:   \t73.23%\n",
      "long:   \t5.84%\n",
      "clean:   \t5.72%\n",
      "dry:   \t5.2%\n",
      "[UNK]:   \t1.17%\n",
      "--------\n",
      "\n"
     ]
    },
    {
     "data": {
      "text/html": [
       "<span style=\"background-color:rgba(135,206,250,0.046567682);\">wine</span> <span style=\"background-color:rgba(135,206,250,0.048155107);\">review</span> <span style=\"background-color:rgba(135,206,250,0.10972405);\">:</span> <span style=\"background-color:rgba(135,206,250,0.1450784);\">england</span> <span style=\"background-color:rgba(135,206,250,0.12498593);\">:</span> <span style=\"background-color:rgba(135,206,250,0.10513364);\">england</span> <span style=\"background-color:rgba(135,206,250,0.08462111);\">:</span> <span style=\"background-color:rgba(135,206,250,0.13892597);\">chardonnay</span> <span style=\"background-color:rgba(135,206,250,0.07324685);\">:</span> <span style=\"background-color:rgba(135,206,250,0.033302702);\">a</span> <span style=\"background-color:rgba(135,206,250,0.02762045);\">touch</span> <span style=\"background-color:rgba(135,206,250,0.029764507);\">of</span> <span style=\"background-color:rgba(135,206,250,0.033839934);\">apple</span> <span style=\"background-color:rgba(135,206,250,0.03195103);\">scent</span> <span style=\"background-color:rgba(135,206,250,0.016990643);\">the</span> <span style=\"background-color:rgba(135,206,250,0.043592926);\">nose</span> <span style=\"background-color:rgba(135,206,250,0.03984362);\">.</span> <span style=\"background-color:rgba(135,206,250,0.0162105);\">the</span> <span style=\"background-color:rgba(135,206,250,0.06901547);\">palate</span> <span style=\"background-color:rgba(135,206,250,0.0155731365);\">is</span> <span style=\"background-color:rgba(135,206,250,0.01599314);\">all</span> <span style=\"background-color:rgba(135,206,250,0.012814087);\">[UNK]</span> <span style=\"background-color:rgba(135,206,250,0.031461366);\">.</span> <span style=\"background-color:rgba(135,206,250,0.012259713);\">the</span> <span style=\"background-color:rgba(135,206,250,0.021370186);\">same</span> <span style=\"background-color:rgba(135,206,250,0.021666793);\">,</span> <span style=\"background-color:rgba(135,206,250,0.015265321);\">however</span> <span style=\"background-color:rgba(135,206,250,0.021390565);\">,</span> <span style=\"background-color:rgba(135,206,250,0.011175481);\">the</span> <span style=\"background-color:rgba(135,206,250,0.009694954);\">result</span> <span style=\"background-color:rgba(135,206,250,0.010755186);\">is</span> <span style=\"background-color:rgba(135,206,250,0.015255966);\">a</span> <span style=\"background-color:rgba(135,206,250,0.042729903);\">slender</span> <span style=\"background-color:rgba(135,206,250,0.022762442);\">,</span> <span style=\"background-color:rgba(135,206,250,0.014509369);\">taut</span> <span style=\"background-color:rgba(135,206,250,0.023211151);\">and</span> <span style=\"background-color:rgba(135,206,250,0.040948078);\">slender</span> <span style=\"background-color:rgba(135,206,250,0.024131866);\">,</span> <span style=\"background-color:rgba(135,206,250,0.022159822);\">dry</span> <span style=\"background-color:rgba(135,206,250,0.023964994);\">and</span> <span style=\"background-color:rgba(135,206,250,0.063514255);\">whistle</span> <span style=\"background-color:rgba(135,206,250,0.00893128);\">-</span> <span style=\"background-color:rgba(135,206,250,0.026989542);\">clean</span> <span style=\"background-color:rgba(135,206,250,0.029080436);\">,</span> <span style=\"background-color:rgba(135,206,250,0.027255762);\">refreshing</span> <span style=\"background-color:rgba(135,206,250,0.027666615);\">and</span> <span style=\"background-color:rgba(135,206,250,0.014825657);\">the</span> <span style=\"background-color:rgba(135,206,250,0.07484219);\">palate</span> <span style=\"background-color:rgba(135,206,250,0.017748851);\">is</span> <span style=\"background-color:rgba(135,206,250,0.08483738);\">whistle</span> <span style=\"background-color:rgba(135,206,250,0.01132497);\">-</span> <span style=\"background-color:rgba(135,206,250,0.03496537);\">clean</span> <span style=\"background-color:rgba(135,206,250,0.036459);\">,</span> <span style=\"background-color:rgba(135,206,250,0.017320449);\">pure</span> <span style=\"background-color:rgba(135,206,250,0.05174563);\">lemon</span> <span style=\"background-color:rgba(135,206,250,0.045207907);\">and</span> <span style=\"background-color:rgba(135,206,250,0.057253044);\">lime</span> <span style=\"background-color:rgba(135,206,250,0.024065247);\">zest</span> <span style=\"background-color:rgba(135,206,250,0.08584046);\">.</span> <span style=\"background-color:rgba(135,206,250,0.07069919);\">there</span> <span style=\"background-color:rgba(135,206,250,0.054976426);\">are</span> <span style=\"background-color:rgba(135,206,250,0.1525577);\">glimpses</span> <span style=\"background-color:rgba(135,206,250,0.062479515);\">of</span> <span style=\"background-color:rgba(135,206,250,0.07162448);\">white</span> <span style=\"background-color:rgba(135,206,250,0.10244353);\">grapefruit</span> <span style=\"background-color:rgba(135,206,250,0.12525672);\">and</span> <span style=\"background-color:rgba(135,206,250,0.1305858);\">quince</span> <span style=\"background-color:rgba(135,206,250,0.16777651);\">,</span> <span style=\"background-color:rgba(135,206,250,0.3077842);\">while</span> <span style=\"background-color:rgba(135,206,250,0.39941868);\">the</span> <span style=\"background-color:rgba(135,206,250,1.0);\">finish</span> <span style=\"background-color:rgba(135,206,250,0.8782211);\">is</span> <span style=\"background-color:rgba(135,206,250,0.2585639);\">persistent</span>"
      ],
      "text/plain": [
       "<IPython.core.display.HTML object>"
      ]
     },
     "metadata": {},
     "output_type": "display_data"
    },
    {
     "name": "stdout",
     "output_type": "stream",
     "text": [
      "and:   \t54.21%\n",
      ".:   \t18.12%\n",
      ",:   \t17.14%\n",
      "but:   \t10.36%\n",
      "with:   \t0.09%\n",
      "--------\n",
      "\n"
     ]
    },
    {
     "data": {
      "text/html": [
       "<span style=\"background-color:rgba(135,206,250,0.14359319);\">wine</span> <span style=\"background-color:rgba(135,206,250,0.2152706);\">review</span> <span style=\"background-color:rgba(135,206,250,0.91332537);\">:</span> <span style=\"background-color:rgba(135,206,250,0.6463606);\">england</span> <span style=\"background-color:rgba(135,206,250,1.0);\">:</span> <span style=\"background-color:rgba(135,206,250,0.3764433);\">england</span> <span style=\"background-color:rgba(135,206,250,0.944712);\">:</span> <span style=\"background-color:rgba(135,206,250,0.56633985);\">chardonnay</span> <span style=\"background-color:rgba(135,206,250,0.38028085);\">:</span> <span style=\"background-color:rgba(135,206,250,0.08475358);\">a</span> <span style=\"background-color:rgba(135,206,250,0.08583229);\">touch</span> <span style=\"background-color:rgba(135,206,250,0.07327721);\">of</span> <span style=\"background-color:rgba(135,206,250,0.08456251);\">apple</span> <span style=\"background-color:rgba(135,206,250,0.1324375);\">scent</span> <span style=\"background-color:rgba(135,206,250,0.047139876);\">the</span> <span style=\"background-color:rgba(135,206,250,0.1348644);\">nose</span> <span style=\"background-color:rgba(135,206,250,0.10819616);\">.</span> <span style=\"background-color:rgba(135,206,250,0.040978424);\">the</span> <span style=\"background-color:rgba(135,206,250,0.14370762);\">palate</span> <span style=\"background-color:rgba(135,206,250,0.053537153);\">is</span> <span style=\"background-color:rgba(135,206,250,0.027659008);\">all</span> <span style=\"background-color:rgba(135,206,250,0.031632077);\">[UNK]</span> <span style=\"background-color:rgba(135,206,250,0.0798784);\">.</span> <span style=\"background-color:rgba(135,206,250,0.028444182);\">the</span> <span style=\"background-color:rgba(135,206,250,0.03758305);\">same</span> <span style=\"background-color:rgba(135,206,250,0.042941134);\">,</span> <span style=\"background-color:rgba(135,206,250,0.04536876);\">however</span> <span style=\"background-color:rgba(135,206,250,0.04158274);\">,</span> <span style=\"background-color:rgba(135,206,250,0.025220161);\">the</span> <span style=\"background-color:rgba(135,206,250,0.03549648);\">result</span> <span style=\"background-color:rgba(135,206,250,0.04376931);\">is</span> <span style=\"background-color:rgba(135,206,250,0.029463843);\">a</span> <span style=\"background-color:rgba(135,206,250,0.114388585);\">slender</span> <span style=\"background-color:rgba(135,206,250,0.04424106);\">,</span> <span style=\"background-color:rgba(135,206,250,0.045939993);\">taut</span> <span style=\"background-color:rgba(135,206,250,0.046409383);\">and</span> <span style=\"background-color:rgba(135,206,250,0.11024469);\">slender</span> <span style=\"background-color:rgba(135,206,250,0.04678647);\">,</span> <span style=\"background-color:rgba(135,206,250,0.055245887);\">dry</span> <span style=\"background-color:rgba(135,206,250,0.049484763);\">and</span> <span style=\"background-color:rgba(135,206,250,0.12475269);\">whistle</span> <span style=\"background-color:rgba(135,206,250,0.022808963);\">-</span> <span style=\"background-color:rgba(135,206,250,0.063681446);\">clean</span> <span style=\"background-color:rgba(135,206,250,0.05732574);\">,</span> <span style=\"background-color:rgba(135,206,250,0.09276659);\">refreshing</span> <span style=\"background-color:rgba(135,206,250,0.05733236);\">and</span> <span style=\"background-color:rgba(135,206,250,0.036956973);\">the</span> <span style=\"background-color:rgba(135,206,250,0.15612683);\">palate</span> <span style=\"background-color:rgba(135,206,250,0.07497349);\">is</span> <span style=\"background-color:rgba(135,206,250,0.16679409);\">whistle</span> <span style=\"background-color:rgba(135,206,250,0.03237141);\">-</span> <span style=\"background-color:rgba(135,206,250,0.078361295);\">clean</span> <span style=\"background-color:rgba(135,206,250,0.07727707);\">,</span> <span style=\"background-color:rgba(135,206,250,0.061438255);\">pure</span> <span style=\"background-color:rgba(135,206,250,0.106126666);\">lemon</span> <span style=\"background-color:rgba(135,206,250,0.10387599);\">and</span> <span style=\"background-color:rgba(135,206,250,0.09521213);\">lime</span> <span style=\"background-color:rgba(135,206,250,0.05114269);\">zest</span> <span style=\"background-color:rgba(135,206,250,0.18965942);\">.</span> <span style=\"background-color:rgba(135,206,250,0.09901368);\">there</span> <span style=\"background-color:rgba(135,206,250,0.14300543);\">are</span> <span style=\"background-color:rgba(135,206,250,0.5921291);\">glimpses</span> <span style=\"background-color:rgba(135,206,250,0.107635364);\">of</span> <span style=\"background-color:rgba(135,206,250,0.11681241);\">white</span> <span style=\"background-color:rgba(135,206,250,0.19502747);\">grapefruit</span> <span style=\"background-color:rgba(135,206,250,0.20760943);\">and</span> <span style=\"background-color:rgba(135,206,250,0.24843484);\">quince</span> <span style=\"background-color:rgba(135,206,250,0.23543464);\">,</span> <span style=\"background-color:rgba(135,206,250,0.34599125);\">while</span> <span style=\"background-color:rgba(135,206,250,0.25227356);\">the</span> <span style=\"background-color:rgba(135,206,250,0.70941484);\">finish</span> <span style=\"background-color:rgba(135,206,250,0.43180883);\">is</span> <span style=\"background-color:rgba(135,206,250,0.537844);\">persistent</span> <span style=\"background-color:rgba(135,206,250,0.96345955);\">.</span>"
      ],
      "text/plain": [
       "<IPython.core.display.HTML object>"
      ]
     },
     "metadata": {},
     "output_type": "display_data"
    },
    {
     "name": "stdout",
     "output_type": "stream",
     "text": [
      ":   \t88.31%\n",
      "drink:   \t11.25%\n",
      "this:   \t0.29%\n",
      "it:   \t0.05%\n",
      "the:   \t0.03%\n",
      "--------\n",
      "\n"
     ]
    }
   ],
   "source": [
    "info = text_generator.generate(\n",
    "    \"wine review : england\", max_tokens=90, temperature=0.5\n",
    ")\n",
    "print_probs(info, vocab)"
   ]
  },
  {
   "cell_type": "code",
   "execution_count": 60,
   "id": "cdc12d79",
   "metadata": {},
   "outputs": [
    {
     "name": "stdout",
     "output_type": "stream",
     "text": [
      "tf.Tensor(\n",
      "[[[ 0.05007175 -0.00486111  0.02492413 ...  0.00042409 -0.0139338\n",
      "   -0.00778311]\n",
      "  [ 0.05011487 -0.00488082  0.02498374 ...  0.00042968 -0.0139846\n",
      "   -0.0077955 ]\n",
      "  [ 0.05002842 -0.00485839  0.02475856 ...  0.00043114 -0.01390447\n",
      "   -0.00771669]\n",
      "  [ 0.05012161 -0.00482507  0.02490799 ...  0.00038137 -0.01394735\n",
      "   -0.00781874]\n",
      "  [ 0.05009252 -0.00488605  0.02477339 ...  0.0004489  -0.01395305\n",
      "   -0.00768763]]], shape=(1, 5, 256), dtype=float32)\n"
     ]
    }
   ],
   "source": [
    "import tensorflow as tf\n",
    "import math\n",
    "\n",
    "# Initialisation\n",
    "sentence = \"Salut, comment vas-tu ?\"\n",
    "embedding_layer = tf.keras.layers.Embedding(5000, 256)  # Exemple de dimension\n",
    "tokenized_sentence = [1, 34, 56, 78, 3]\n",
    "embedded_sentence = embedding_layer(tf.convert_to_tensor([tokenized_sentence]))\n",
    "\n",
    "# Encodeur: Calcul des états de l'encodeur\n",
    "encoder_rnn = tf.keras.layers.SimpleRNN(256, return_sequences=True)\n",
    "encoder_states = encoder_rnn(embedded_sentence)\n",
    "\n",
    "# Query, Key, Value pour l'encodeur\n",
    "Q = tf.keras.layers.Dense(256, name=\"query\")(encoder_states)\n",
    "K = tf.keras.layers.Dense(256, name=\"key\")(encoder_states)\n",
    "V = tf.keras.layers.Dense(256, name=\"value\")(encoder_states)\n",
    "\n",
    "# Attention dans l'encodeur\n",
    "QK = tf.matmul(Q, K, transpose_b=True)\n",
    "QK_normalized = QK / tf.math.sqrt(tf.cast(256, tf.float32))\n",
    "softmax = tf.nn.softmax(QK_normalized)\n",
    "attention_encoder = tf.matmul(softmax, V)\n",
    "\n",
    "# Décodeur: Supposons qu'il y ait une réponse que le décodeur essaie de générer\n",
    "decoder_sentence = \"Je vais bien, merci.\"  # Exemple de réponse\n",
    "tokenized_decoder_sentence = [2, 35, 57, 79, 4]\n",
    "embedded_decoder_sentence = embedding_layer(tf.convert_to_tensor([tokenized_decoder_sentence]))\n",
    "\n",
    "# Calcul des états du décodeur\n",
    "decoder_rnn = tf.keras.layers.SimpleRNN(256, return_sequences=True)\n",
    "decoder_states = decoder_rnn(embedded_decoder_sentence)\n",
    "\n",
    "# Query pour le décodeur et Key, Value de l'encodeur pour l'attention\n",
    "Q_decoder = tf.keras.layers.Dense(256, name=\"query_decoder\")(decoder_states)\n",
    "\n",
    "# Attention dans le décodeur\n",
    "QK_decoder = tf.matmul(Q_decoder, K, transpose_b=True)\n",
    "QK_normalized_decoder = QK_decoder / tf.math.sqrt(tf.cast(256, tf.float32))\n",
    "softmax_decoder = tf.nn.softmax(QK_normalized_decoder)\n",
    "attention_decoder = tf.matmul(softmax_decoder, V)\n",
    "\n",
    "print(attention_decoder)\n"
   ]
  },
  {
   "cell_type": "code",
   "execution_count": null,
   "id": "cb86e254",
   "metadata": {},
   "outputs": [],
   "source": []
  }
 ],
 "metadata": {
  "hide_input": false,
  "kernelspec": {
   "display_name": "Python 3 (ipykernel)",
   "language": "python",
   "name": "python3"
  },
  "language_info": {
   "codemirror_mode": {
    "name": "ipython",
    "version": 3
   },
   "file_extension": ".py",
   "mimetype": "text/x-python",
   "name": "python",
   "nbconvert_exporter": "python",
   "pygments_lexer": "ipython3",
   "version": "3.10.9"
  },
  "toc": {
   "base_numbering": 1,
   "nav_menu": {},
   "number_sections": true,
   "sideBar": true,
   "skip_h1_title": false,
   "title_cell": "Table of Contents",
   "title_sidebar": "Contents",
   "toc_cell": false,
   "toc_position": {},
   "toc_section_display": true,
   "toc_window_display": false
  },
  "vscode": {
   "interpreter": {
    "hash": "31f2aee4e71d21fbe5cf8b01ff0e069b9275f58929596ceb00d14d90e3e16cd6"
   }
  }
 },
 "nbformat": 4,
 "nbformat_minor": 5
}
